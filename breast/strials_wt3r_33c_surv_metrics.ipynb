{
 "cells": [
  {
   "cell_type": "markdown",
   "id": "9a2740bc",
   "metadata": {},
   "source": [
    "# Flatiron Health mBC: Survival metrics for strict elgibility criteria\n",
    "**Background: Calculate survival metrics for emulated trials involving patients meeting strict elgibliity criteria. Hazard ratio for the full cohort is calculated from a Cox-IPTW model. Restricted mean survival time and median overall survival are calculated for phenotypes using an IPTW-adjusted KM curve.** "
   ]
  },
  {
   "cell_type": "markdown",
   "id": "f3c80ed9",
   "metadata": {},
   "source": [
    "## Part 1: Identify patients with exclusion criteria"
   ]
  },
  {
   "cell_type": "code",
   "execution_count": 1,
   "id": "7b2b5ff3",
   "metadata": {},
   "outputs": [],
   "source": [
    "import numpy as np\n",
    "import pandas as pd"
   ]
  },
  {
   "cell_type": "code",
   "execution_count": 2,
   "id": "66fbb442",
   "metadata": {},
   "outputs": [],
   "source": [
    "# Function that returns number of rows and count of unique PatientIDs for a dataframe. \n",
    "def row_ID(dataframe):\n",
    "    row = dataframe.shape[0]\n",
    "    ID = dataframe['PatientID'].nunique()\n",
    "    return row, ID"
   ]
  },
  {
   "cell_type": "code",
   "execution_count": 3,
   "id": "6ba002bd",
   "metadata": {},
   "outputs": [
    {
     "data": {
      "text/plain": [
       "(25341, 25341)"
      ]
     },
     "execution_count": 3,
     "metadata": {},
     "output_type": "execute_result"
    }
   ],
   "source": [
    "train = pd.read_csv('train_full.csv')\n",
    "row_ID(train)"
   ]
  },
  {
   "cell_type": "code",
   "execution_count": 4,
   "id": "fd83acd2",
   "metadata": {},
   "outputs": [
    {
     "data": {
      "text/plain": [
       "(6336, 6336)"
      ]
     },
     "execution_count": 4,
     "metadata": {},
     "output_type": "execute_result"
    }
   ],
   "source": [
    "test = pd.read_csv('test_full.csv')\n",
    "row_ID(test)"
   ]
  },
  {
   "cell_type": "code",
   "execution_count": 5,
   "id": "b161572c",
   "metadata": {},
   "outputs": [
    {
     "data": {
      "text/plain": [
       "(31677, 31677)"
      ]
     },
     "execution_count": 5,
     "metadata": {},
     "output_type": "execute_result"
    }
   ],
   "source": [
    "df = pd.concat([train, test], ignore_index = True)\n",
    "row_ID(df)"
   ]
  },
  {
   "cell_type": "markdown",
   "id": "330f630c",
   "metadata": {},
   "source": [
    "### 1. Relevant comorbidities in the year preceding metastatic diagnosis \n",
    "* HIV\n",
    "* Psychosis and other significant psychiatric disorders "
   ]
  },
  {
   "cell_type": "code",
   "execution_count": 6,
   "id": "41d0f85f",
   "metadata": {},
   "outputs": [],
   "source": [
    "diagnosis = pd.read_csv('Diagnosis.csv')"
   ]
  },
  {
   "cell_type": "code",
   "execution_count": 7,
   "id": "d6d91136",
   "metadata": {},
   "outputs": [],
   "source": [
    "diagnosis = diagnosis[diagnosis['PatientID'].isin(df['PatientID'])]       "
   ]
  },
  {
   "cell_type": "code",
   "execution_count": 8,
   "id": "260ef786",
   "metadata": {},
   "outputs": [],
   "source": [
    "diagnosis.loc[:, 'DiagnosisDate'] = pd.to_datetime(diagnosis['DiagnosisDate'])"
   ]
  },
  {
   "cell_type": "code",
   "execution_count": 9,
   "id": "883acada",
   "metadata": {},
   "outputs": [],
   "source": [
    "enhanced_met = pd.read_csv('Enhanced_MetastaticBreast.csv')"
   ]
  },
  {
   "cell_type": "code",
   "execution_count": 10,
   "id": "c57015b9",
   "metadata": {},
   "outputs": [],
   "source": [
    "enhanced_met.loc[:, 'MetDiagnosisDate'] = pd.to_datetime(enhanced_met['MetDiagnosisDate'])"
   ]
  },
  {
   "cell_type": "code",
   "execution_count": 11,
   "id": "96202021",
   "metadata": {},
   "outputs": [
    {
     "data": {
      "text/plain": [
       "(1575735, 31677)"
      ]
     },
     "execution_count": 11,
     "metadata": {},
     "output_type": "execute_result"
    }
   ],
   "source": [
    "row_ID(diagnosis)"
   ]
  },
  {
   "cell_type": "code",
   "execution_count": 12,
   "id": "c932f06a",
   "metadata": {},
   "outputs": [],
   "source": [
    "diagnosis = pd.merge(diagnosis, enhanced_met[['PatientID', 'MetDiagnosisDate']], on = 'PatientID', how = 'left')"
   ]
  },
  {
   "cell_type": "code",
   "execution_count": 13,
   "id": "1bde2576",
   "metadata": {},
   "outputs": [
    {
     "data": {
      "text/plain": [
       "(1575735, 31677)"
      ]
     },
     "execution_count": 13,
     "metadata": {},
     "output_type": "execute_result"
    }
   ],
   "source": [
    "row_ID(diagnosis)"
   ]
  },
  {
   "cell_type": "code",
   "execution_count": 14,
   "id": "2e50c771",
   "metadata": {},
   "outputs": [],
   "source": [
    "diagnosis.loc[:, 'date_diff'] = (diagnosis['DiagnosisDate'] - diagnosis['MetDiagnosisDate']).dt.days"
   ]
  },
  {
   "cell_type": "code",
   "execution_count": 15,
   "id": "5ccc928d",
   "metadata": {},
   "outputs": [],
   "source": [
    "diagnosis.loc[:, 'diagnosis_code'] = diagnosis['DiagnosisCode'].replace('\\.', '', regex = True)"
   ]
  },
  {
   "cell_type": "code",
   "execution_count": 16,
   "id": "8fd87756",
   "metadata": {},
   "outputs": [],
   "source": [
    "# ICD-9 dataframe with unique codes for each patient. \n",
    "diagnosis_9 = (\n",
    "    diagnosis\n",
    "    .query('date_diff <= 0 and date_diff > -365')\n",
    "    .query('DiagnosisCodeSystem == \"ICD-9-CM\"')\n",
    "    .drop_duplicates(subset = (['PatientID', 'DiagnosisCode']), keep = 'first')\n",
    "    .filter(items = ['PatientID', 'DiagnosisCode', 'diagnosis_code'])\n",
    ")"
   ]
  },
  {
   "cell_type": "code",
   "execution_count": 17,
   "id": "2dd38075",
   "metadata": {},
   "outputs": [],
   "source": [
    "other_comorb_9_IDs = (\n",
    "    diagnosis_9[diagnosis_9['diagnosis_code'].str.match('042|'\n",
    "                                                        '29[5789]')].PatientID.unique())"
   ]
  },
  {
   "cell_type": "code",
   "execution_count": 18,
   "id": "7a38d0b1",
   "metadata": {},
   "outputs": [
    {
     "data": {
      "text/plain": [
       "4"
      ]
     },
     "execution_count": 18,
     "metadata": {},
     "output_type": "execute_result"
    }
   ],
   "source": [
    "len(other_comorb_9_IDs)"
   ]
  },
  {
   "cell_type": "code",
   "execution_count": 19,
   "id": "3b41114c",
   "metadata": {},
   "outputs": [],
   "source": [
    "cardiac_9_IDs = (\n",
    "    diagnosis_9[diagnosis_9['diagnosis_code'].str.match('4010|'\n",
    "                                                        '410|'\n",
    "                                                        '412|'\n",
    "                                                        '425')].PatientID.unique()\n",
    ")"
   ]
  },
  {
   "cell_type": "code",
   "execution_count": 20,
   "id": "a3dd0e24",
   "metadata": {},
   "outputs": [
    {
     "data": {
      "text/plain": [
       "66"
      ]
     },
     "execution_count": 20,
     "metadata": {},
     "output_type": "execute_result"
    }
   ],
   "source": [
    "len(cardiac_9_IDs)"
   ]
  },
  {
   "cell_type": "code",
   "execution_count": 21,
   "id": "1b21d4fb",
   "metadata": {},
   "outputs": [],
   "source": [
    "# ICD-9 dataframe with unique codes for each patient. \n",
    "diagnosis_10 = (\n",
    "    diagnosis\n",
    "    .query('date_diff <= 0 and  date_diff > -365')\n",
    "    .query('DiagnosisCodeSystem == \"ICD-10-CM\"')\n",
    "    .drop_duplicates(subset = (['PatientID', 'DiagnosisCode']), keep = 'first')\n",
    "    .filter(items = ['PatientID', 'DiagnosisCode', 'diagnosis_code'])\n",
    ")"
   ]
  },
  {
   "cell_type": "code",
   "execution_count": 22,
   "id": "04babeb2",
   "metadata": {},
   "outputs": [],
   "source": [
    "other_comorb_10_IDs = (\n",
    "    diagnosis_10[diagnosis_10['diagnosis_code'].str.match('B20|'\n",
    "                                                          'F2[024589]')].PatientID.unique())"
   ]
  },
  {
   "cell_type": "code",
   "execution_count": 23,
   "id": "e6c44a1a",
   "metadata": {},
   "outputs": [
    {
     "data": {
      "text/plain": [
       "39"
      ]
     },
     "execution_count": 23,
     "metadata": {},
     "output_type": "execute_result"
    }
   ],
   "source": [
    "len(other_comorb_10_IDs)"
   ]
  },
  {
   "cell_type": "code",
   "execution_count": 24,
   "id": "b95c08cf",
   "metadata": {},
   "outputs": [],
   "source": [
    "cardiac_10_IDs = (\n",
    "    diagnosis_10[diagnosis_10['diagnosis_code'].str.match('I16|'\n",
    "                                                          'I21|'\n",
    "                                                          'I42')].PatientID.unique())"
   ]
  },
  {
   "cell_type": "code",
   "execution_count": 25,
   "id": "1f394713",
   "metadata": {},
   "outputs": [
    {
     "data": {
      "text/plain": [
       "89"
      ]
     },
     "execution_count": 25,
     "metadata": {},
     "output_type": "execute_result"
    }
   ],
   "source": [
    "len(cardiac_10_IDs)"
   ]
  },
  {
   "cell_type": "code",
   "execution_count": 26,
   "id": "c6d5fb4a",
   "metadata": {},
   "outputs": [],
   "source": [
    "other_comorb_IDs = np.unique(np.concatenate([other_comorb_9_IDs, other_comorb_10_IDs]))"
   ]
  },
  {
   "cell_type": "code",
   "execution_count": 27,
   "id": "2518fc33",
   "metadata": {},
   "outputs": [
    {
     "data": {
      "text/plain": [
       "43"
      ]
     },
     "execution_count": 27,
     "metadata": {},
     "output_type": "execute_result"
    }
   ],
   "source": [
    "len(other_comorb_IDs)"
   ]
  },
  {
   "cell_type": "code",
   "execution_count": 28,
   "id": "06e703ec",
   "metadata": {},
   "outputs": [],
   "source": [
    "cardiac_IDs = np.unique(np.concatenate([cardiac_9_IDs, cardiac_10_IDs]))"
   ]
  },
  {
   "cell_type": "code",
   "execution_count": 29,
   "id": "431e1907",
   "metadata": {},
   "outputs": [
    {
     "data": {
      "text/plain": [
       "154"
      ]
     },
     "execution_count": 29,
     "metadata": {},
     "output_type": "execute_result"
    }
   ],
   "source": [
    "len(cardiac_IDs)"
   ]
  },
  {
   "cell_type": "markdown",
   "id": "f8c38477",
   "metadata": {},
   "source": [
    "### 2. CNS metastasis at start of treatment "
   ]
  },
  {
   "cell_type": "code",
   "execution_count": 30,
   "id": "86aecf5f",
   "metadata": {},
   "outputs": [],
   "source": [
    "mets = pd.read_csv('Enhanced_MetBreastSitesOfMet.csv')"
   ]
  },
  {
   "cell_type": "code",
   "execution_count": 31,
   "id": "22f9d52c",
   "metadata": {},
   "outputs": [],
   "source": [
    "mets = mets[mets['PatientID'].isin(df['PatientID'])]"
   ]
  },
  {
   "cell_type": "code",
   "execution_count": 32,
   "id": "bd101fc3",
   "metadata": {},
   "outputs": [],
   "source": [
    "mets.loc[:, 'DateOfMetastasis'] = pd.to_datetime(mets['DateOfMetastasis'])"
   ]
  },
  {
   "cell_type": "code",
   "execution_count": 33,
   "id": "0a8906f7",
   "metadata": {},
   "outputs": [],
   "source": [
    "line_therapy = pd.read_csv('LineOfTherapy.csv')"
   ]
  },
  {
   "cell_type": "code",
   "execution_count": 34,
   "id": "fbf425ec",
   "metadata": {},
   "outputs": [],
   "source": [
    "line_therapy = line_therapy[line_therapy['PatientID'].isin(df['PatientID'])]       "
   ]
  },
  {
   "cell_type": "code",
   "execution_count": 35,
   "id": "c1fa5934",
   "metadata": {},
   "outputs": [],
   "source": [
    "line_therapy.loc[:, 'StartDate'] = pd.to_datetime(line_therapy['StartDate'])"
   ]
  },
  {
   "cell_type": "code",
   "execution_count": 36,
   "id": "30ec8521",
   "metadata": {},
   "outputs": [],
   "source": [
    "therapy_fl = (\n",
    "    line_therapy\n",
    "    .query('LineNumber == 1')\n",
    "    [['PatientID', 'StartDate']]\n",
    "    .rename(columns = {'StartDate': 'StartDate_fl'}))"
   ]
  },
  {
   "cell_type": "code",
   "execution_count": 37,
   "id": "932cef5b",
   "metadata": {},
   "outputs": [],
   "source": [
    "therapy_sec = (\n",
    "    line_therapy\n",
    "    .query('LineNumber == 2')\n",
    "    [['PatientID', 'StartDate']]\n",
    "    .rename(columns = {'StartDate': 'StartDate_sec'}))"
   ]
  },
  {
   "cell_type": "code",
   "execution_count": 38,
   "id": "eb8f38c8",
   "metadata": {},
   "outputs": [
    {
     "data": {
      "text/plain": [
       "(78955, 31540)"
      ]
     },
     "execution_count": 38,
     "metadata": {},
     "output_type": "execute_result"
    }
   ],
   "source": [
    "row_ID(mets)"
   ]
  },
  {
   "cell_type": "code",
   "execution_count": 39,
   "id": "5d6541c4",
   "metadata": {},
   "outputs": [],
   "source": [
    "mets_fl = pd.merge(mets, therapy_fl, on = 'PatientID', how = 'left')"
   ]
  },
  {
   "cell_type": "code",
   "execution_count": 40,
   "id": "973688f3",
   "metadata": {},
   "outputs": [
    {
     "data": {
      "text/plain": [
       "(78955, 31540)"
      ]
     },
     "execution_count": 40,
     "metadata": {},
     "output_type": "execute_result"
    }
   ],
   "source": [
    "row_ID(mets_fl)"
   ]
  },
  {
   "cell_type": "code",
   "execution_count": 41,
   "id": "ffc25f79",
   "metadata": {},
   "outputs": [],
   "source": [
    "mets_sec = pd.merge(mets, therapy_sec, on = 'PatientID', how = 'left')"
   ]
  },
  {
   "cell_type": "code",
   "execution_count": 42,
   "id": "f845e874",
   "metadata": {},
   "outputs": [
    {
     "data": {
      "text/plain": [
       "(78955, 31540)"
      ]
     },
     "execution_count": 42,
     "metadata": {},
     "output_type": "execute_result"
    }
   ],
   "source": [
    "row_ID(mets_sec)"
   ]
  },
  {
   "cell_type": "code",
   "execution_count": 43,
   "id": "3bcbc7f5",
   "metadata": {},
   "outputs": [],
   "source": [
    "cns_fl_IDs = (\n",
    "    mets_fl\n",
    "    .assign(date_diff_fl = (mets_fl['DateOfMetastasis'] - mets_fl['StartDate_fl']).dt.days)\n",
    "    .query('date_diff_fl <= 0 and date_diff_fl > -90')\n",
    "    .query('SiteOfMetastasis == \"Brain\" or SiteOfMetastasis == \"CNS site\"')\n",
    "    .PatientID.unique()\n",
    ")"
   ]
  },
  {
   "cell_type": "code",
   "execution_count": 44,
   "id": "fd4a5bc4",
   "metadata": {},
   "outputs": [
    {
     "data": {
      "text/plain": [
       "1498"
      ]
     },
     "execution_count": 44,
     "metadata": {},
     "output_type": "execute_result"
    }
   ],
   "source": [
    "len(cns_fl_IDs)"
   ]
  },
  {
   "cell_type": "code",
   "execution_count": 45,
   "id": "d617a504",
   "metadata": {},
   "outputs": [],
   "source": [
    "cns_sec_IDs = (\n",
    "    mets_sec\n",
    "    .assign(date_diff_sec = (mets_sec['DateOfMetastasis'] - mets_sec['StartDate_sec']).dt.days)\n",
    "    .query('date_diff_sec <= 0 and date_diff_sec > -90')\n",
    "    .query('SiteOfMetastasis == \"Brain\" or SiteOfMetastasis == \"CNS site\"')\n",
    "    .PatientID.unique()\n",
    ")"
   ]
  },
  {
   "cell_type": "code",
   "execution_count": 46,
   "id": "577a219b",
   "metadata": {},
   "outputs": [
    {
     "data": {
      "text/plain": [
       "740"
      ]
     },
     "execution_count": 46,
     "metadata": {},
     "output_type": "execute_result"
    }
   ],
   "source": [
    "len(cns_sec_IDs)"
   ]
  },
  {
   "cell_type": "markdown",
   "id": "c927defc",
   "metadata": {},
   "source": [
    "### 3. ECOG >2 at time of treatment  "
   ]
  },
  {
   "cell_type": "code",
   "execution_count": 47,
   "id": "60ada80c",
   "metadata": {},
   "outputs": [],
   "source": [
    "base_ecog = pd.read_csv('BaselineECOG.csv')"
   ]
  },
  {
   "cell_type": "code",
   "execution_count": 48,
   "id": "364ed1a3",
   "metadata": {},
   "outputs": [],
   "source": [
    "base_ecog = base_ecog[base_ecog['PatientID'].isin(df['PatientID'])]       "
   ]
  },
  {
   "cell_type": "code",
   "execution_count": 49,
   "id": "aadb9a19",
   "metadata": {},
   "outputs": [],
   "source": [
    "ecog_fl_34_IDs = (\n",
    "    base_ecog\n",
    "    .query('LineNumber == 1')\n",
    "    .query('ECOGValue == \"3\" or ECOGValue == \"4\"')\n",
    "    .PatientID.unique())"
   ]
  },
  {
   "cell_type": "code",
   "execution_count": 50,
   "id": "dfa5faf0",
   "metadata": {},
   "outputs": [
    {
     "data": {
      "text/plain": [
       "826"
      ]
     },
     "execution_count": 50,
     "metadata": {},
     "output_type": "execute_result"
    }
   ],
   "source": [
    "len(ecog_fl_34_IDs)"
   ]
  },
  {
   "cell_type": "code",
   "execution_count": 51,
   "id": "4631fc57",
   "metadata": {},
   "outputs": [],
   "source": [
    "ecog_fl_234_IDs = (\n",
    "    base_ecog\n",
    "    .query('LineNumber == 1')\n",
    "    .query('ECOGValue == \"2\" or ECOGValue == \"3\" or ECOGValue == \"4\"')\n",
    "    .PatientID.unique())"
   ]
  },
  {
   "cell_type": "code",
   "execution_count": 52,
   "id": "da4d98f9",
   "metadata": {},
   "outputs": [
    {
     "data": {
      "text/plain": [
       "3063"
      ]
     },
     "execution_count": 52,
     "metadata": {},
     "output_type": "execute_result"
    }
   ],
   "source": [
    "len(ecog_fl_234_IDs)"
   ]
  },
  {
   "cell_type": "code",
   "execution_count": 53,
   "id": "c9ff52b4",
   "metadata": {},
   "outputs": [],
   "source": [
    "ecog_sec_234_IDs = (\n",
    "    base_ecog\n",
    "    .query('LineNumber == 2')\n",
    "    .query('ECOGValue == \"2\" or ECOGValue == \"3\" or ECOGValue == \"4\"')\n",
    "    .PatientID.unique())"
   ]
  },
  {
   "cell_type": "code",
   "execution_count": 54,
   "id": "fe77fd04",
   "metadata": {},
   "outputs": [
    {
     "data": {
      "text/plain": [
       "2216"
      ]
     },
     "execution_count": 54,
     "metadata": {},
     "output_type": "execute_result"
    }
   ],
   "source": [
    "len(ecog_sec_234_IDs)"
   ]
  },
  {
   "cell_type": "markdown",
   "id": "306f04a0",
   "metadata": {},
   "source": [
    "### 4. Organ dysfunction at time of treatment\n",
    "* Hemoglobin <9\n",
    "* Creatinine >2\n",
    "* Total bilirubin >3"
   ]
  },
  {
   "cell_type": "code",
   "execution_count": 55,
   "id": "d95e73ae",
   "metadata": {},
   "outputs": [],
   "source": [
    "lab = pd.read_csv('Lab.csv')"
   ]
  },
  {
   "cell_type": "code",
   "execution_count": 56,
   "id": "18914505",
   "metadata": {},
   "outputs": [],
   "source": [
    "lab = lab[lab['PatientID'].isin(df['PatientID'])]"
   ]
  },
  {
   "cell_type": "code",
   "execution_count": 57,
   "id": "40ec9416",
   "metadata": {},
   "outputs": [],
   "source": [
    "lab.loc[:, 'ResultDate'] = pd.to_datetime(lab['ResultDate']) "
   ]
  },
  {
   "cell_type": "code",
   "execution_count": 58,
   "id": "e4a9c0af",
   "metadata": {},
   "outputs": [
    {
     "data": {
      "text/plain": [
       "(30593212, 30259)"
      ]
     },
     "execution_count": 58,
     "metadata": {},
     "output_type": "execute_result"
    }
   ],
   "source": [
    "row_ID(lab)"
   ]
  },
  {
   "cell_type": "code",
   "execution_count": 59,
   "id": "4c87059e",
   "metadata": {},
   "outputs": [],
   "source": [
    "lab = pd.merge(lab, therapy_fl, on = 'PatientID', how = 'left')"
   ]
  },
  {
   "cell_type": "code",
   "execution_count": 60,
   "id": "8392e09d",
   "metadata": {},
   "outputs": [
    {
     "data": {
      "text/plain": [
       "(30593212, 30259)"
      ]
     },
     "execution_count": 60,
     "metadata": {},
     "output_type": "execute_result"
    }
   ],
   "source": [
    "row_ID(lab)"
   ]
  },
  {
   "cell_type": "code",
   "execution_count": 61,
   "id": "10377ce4",
   "metadata": {},
   "outputs": [],
   "source": [
    "lab = pd.merge(lab, therapy_sec, on = 'PatientID', how = 'left')"
   ]
  },
  {
   "cell_type": "code",
   "execution_count": 62,
   "id": "00aeed3c",
   "metadata": {},
   "outputs": [],
   "source": [
    "# Select rows with clinically relevant labs.\n",
    "lab_core = (\n",
    "    lab[\n",
    "    (lab['LOINC'] == \"2160-0\") |\n",
    "    (lab['LOINC'] == \"38483-4\") | \n",
    "    (lab['LOINC'] == \"718-7\") |\n",
    "    (lab['LOINC'] == \"20509-6\") |\n",
    "    (lab['LOINC'] == \"42719-5\") |\n",
    "    (lab['LOINC'] == \"1975-2\")]\n",
    "    .filter(items = ['PatientID', \n",
    "                     'ResultDate', \n",
    "                     'LOINC', \n",
    "                     'LabComponent', \n",
    "                     'TestUnits', \n",
    "                     'TestUnitsCleaned', \n",
    "                     'TestResult', \n",
    "                     'TestResultCleaned', \n",
    "                     'StartDate_fl',\n",
    "                     'StartDate_sec'])\n",
    ")"
   ]
  },
  {
   "cell_type": "code",
   "execution_count": 63,
   "id": "c58747c0",
   "metadata": {},
   "outputs": [],
   "source": [
    "conditions = [\n",
    "    ((lab_core['LOINC'] == '2160-0') | (lab_core['LOINC'] == '38483-4')),\n",
    "    ((lab_core['LOINC'] == '718-7') | (lab_core['LOINC'] == '20509-6')),\n",
    "    ((lab_core['LOINC'] == '42719-5') | (lab_core['LOINC'] == '1975-2'))]\n",
    "\n",
    "choices = ['creatinine', \n",
    "           'hemoglobin', \n",
    "           'total_bilirubin']\n",
    "\n",
    "lab_core.loc[:, 'lab_name'] = np.select(conditions, choices)"
   ]
  },
  {
   "cell_type": "code",
   "execution_count": 64,
   "id": "b165f6e8",
   "metadata": {},
   "outputs": [
    {
     "data": {
      "text/plain": [
       "(2927968, 30127)"
      ]
     },
     "execution_count": 64,
     "metadata": {},
     "output_type": "execute_result"
    }
   ],
   "source": [
    "row_ID(lab_core)"
   ]
  },
  {
   "cell_type": "code",
   "execution_count": 65,
   "id": "beccd4e4",
   "metadata": {},
   "outputs": [],
   "source": [
    "conditions = [\n",
    "    (lab_core['lab_name'] == 'hemoglobin') & (lab_core['TestUnits'] == 'g/uL')]\n",
    "\n",
    "choices = [lab_core['TestResultCleaned'] / 100000]\n",
    "\n",
    "lab_core.loc[:, 'test_result_cleaned'] = np.select(conditions, choices, default = lab_core['TestResultCleaned'])"
   ]
  },
  {
   "cell_type": "code",
   "execution_count": 66,
   "id": "62088af7",
   "metadata": {},
   "outputs": [],
   "source": [
    "lab_fl = (\n",
    "    lab_core\n",
    "    .assign(date_diff_fl = (lab_core['ResultDate'] - lab_core['StartDate_fl']).dt.days)\n",
    "    .query('date_diff_fl <= 0 and date_diff_fl > -90')\n",
    "    .sort_values(by = ['PatientID', 'lab_name', 'date_diff_fl'], ascending = [True, True, False])\n",
    "    .drop_duplicates(subset = ['PatientID', 'lab_name'], keep = 'first' )\n",
    ")"
   ]
  },
  {
   "cell_type": "code",
   "execution_count": 67,
   "id": "1c8feb41",
   "metadata": {},
   "outputs": [],
   "source": [
    "# Select lab closest to date of advanced diagnosis and pivot to a wide table. \n",
    "lab_wide_fl = (\n",
    "    lab_fl\n",
    "    .pivot(index = 'PatientID', columns = 'lab_name', values = 'test_result_cleaned')\n",
    "    .reset_index())\n",
    "\n",
    "lab_wide_fl.columns.name = None"
   ]
  },
  {
   "cell_type": "code",
   "execution_count": 68,
   "id": "c8f2a69c",
   "metadata": {},
   "outputs": [
    {
     "data": {
      "text/html": [
       "<div>\n",
       "<style scoped>\n",
       "    .dataframe tbody tr th:only-of-type {\n",
       "        vertical-align: middle;\n",
       "    }\n",
       "\n",
       "    .dataframe tbody tr th {\n",
       "        vertical-align: top;\n",
       "    }\n",
       "\n",
       "    .dataframe thead th {\n",
       "        text-align: right;\n",
       "    }\n",
       "</style>\n",
       "<table border=\"1\" class=\"dataframe\">\n",
       "  <thead>\n",
       "    <tr style=\"text-align: right;\">\n",
       "      <th></th>\n",
       "      <th>PatientID</th>\n",
       "      <th>creatinine</th>\n",
       "      <th>hemoglobin</th>\n",
       "      <th>total_bilirubin</th>\n",
       "    </tr>\n",
       "  </thead>\n",
       "  <tbody>\n",
       "    <tr>\n",
       "      <th>13529</th>\n",
       "      <td>FA661F42343B5</td>\n",
       "      <td>0.80</td>\n",
       "      <td>13.0</td>\n",
       "      <td>0.4</td>\n",
       "    </tr>\n",
       "    <tr>\n",
       "      <th>16626</th>\n",
       "      <td>FCB23331432FA</td>\n",
       "      <td>0.63</td>\n",
       "      <td>10.7</td>\n",
       "      <td>0.4</td>\n",
       "    </tr>\n",
       "    <tr>\n",
       "      <th>10010</th>\n",
       "      <td>F7AA38E7F9D34</td>\n",
       "      <td>0.73</td>\n",
       "      <td>13.9</td>\n",
       "      <td>0.5</td>\n",
       "    </tr>\n",
       "  </tbody>\n",
       "</table>\n",
       "</div>"
      ],
      "text/plain": [
       "           PatientID  creatinine  hemoglobin  total_bilirubin\n",
       "13529  FA661F42343B5        0.80        13.0              0.4\n",
       "16626  FCB23331432FA        0.63        10.7              0.4\n",
       "10010  F7AA38E7F9D34        0.73        13.9              0.5"
      ]
     },
     "execution_count": 68,
     "metadata": {},
     "output_type": "execute_result"
    }
   ],
   "source": [
    "lab_wide_fl.sample(3)"
   ]
  },
  {
   "cell_type": "code",
   "execution_count": 69,
   "id": "fe48b9a0",
   "metadata": {},
   "outputs": [],
   "source": [
    "ab_organ_fl_IDs = lab_wide_fl.query('creatinine > 2 or hemoglobin < 9 or total_bilirubin > 3').PatientID"
   ]
  },
  {
   "cell_type": "code",
   "execution_count": 70,
   "id": "c51052df",
   "metadata": {},
   "outputs": [
    {
     "data": {
      "text/plain": [
       "1053"
      ]
     },
     "execution_count": 70,
     "metadata": {},
     "output_type": "execute_result"
    }
   ],
   "source": [
    "len(ab_organ_fl_IDs)"
   ]
  },
  {
   "cell_type": "code",
   "execution_count": 71,
   "id": "1051a517",
   "metadata": {},
   "outputs": [],
   "source": [
    "lab_sec = (\n",
    "    lab_core\n",
    "    .assign(date_diff_sec = (lab_core['ResultDate'] - lab_core['StartDate_sec']).dt.days)\n",
    "    .query('date_diff_sec <= 0 and date_diff_sec > -90')\n",
    "    .sort_values(by = ['PatientID', 'lab_name', 'date_diff_sec'], ascending = [True, True, False])\n",
    "    .drop_duplicates(subset = ['PatientID', 'lab_name'], keep = 'first' )\n",
    ")"
   ]
  },
  {
   "cell_type": "code",
   "execution_count": 72,
   "id": "7e25973c",
   "metadata": {},
   "outputs": [],
   "source": [
    "# Select lab closest to date of advanced diagnosis and pivot to a wide table. \n",
    "lab_wide_sec = (\n",
    "    lab_sec\n",
    "    .pivot(index = 'PatientID', columns = 'lab_name', values = 'test_result_cleaned')\n",
    "    .reset_index())\n",
    "\n",
    "lab_wide_sec.columns.name = None"
   ]
  },
  {
   "cell_type": "code",
   "execution_count": 73,
   "id": "11746dce",
   "metadata": {},
   "outputs": [
    {
     "data": {
      "text/html": [
       "<div>\n",
       "<style scoped>\n",
       "    .dataframe tbody tr th:only-of-type {\n",
       "        vertical-align: middle;\n",
       "    }\n",
       "\n",
       "    .dataframe tbody tr th {\n",
       "        vertical-align: top;\n",
       "    }\n",
       "\n",
       "    .dataframe thead th {\n",
       "        text-align: right;\n",
       "    }\n",
       "</style>\n",
       "<table border=\"1\" class=\"dataframe\">\n",
       "  <thead>\n",
       "    <tr style=\"text-align: right;\">\n",
       "      <th></th>\n",
       "      <th>PatientID</th>\n",
       "      <th>creatinine</th>\n",
       "      <th>hemoglobin</th>\n",
       "      <th>total_bilirubin</th>\n",
       "    </tr>\n",
       "  </thead>\n",
       "  <tbody>\n",
       "    <tr>\n",
       "      <th>9989</th>\n",
       "      <td>F9EE2F7CC2A71</td>\n",
       "      <td>0.95</td>\n",
       "      <td>12.5</td>\n",
       "      <td>0.60</td>\n",
       "    </tr>\n",
       "    <tr>\n",
       "      <th>2395</th>\n",
       "      <td>F262CAFB9D02D</td>\n",
       "      <td>0.70</td>\n",
       "      <td>11.6</td>\n",
       "      <td>0.59</td>\n",
       "    </tr>\n",
       "    <tr>\n",
       "      <th>7615</th>\n",
       "      <td>F784A6F519839</td>\n",
       "      <td>0.61</td>\n",
       "      <td>10.5</td>\n",
       "      <td>0.47</td>\n",
       "    </tr>\n",
       "  </tbody>\n",
       "</table>\n",
       "</div>"
      ],
      "text/plain": [
       "          PatientID  creatinine  hemoglobin  total_bilirubin\n",
       "9989  F9EE2F7CC2A71        0.95        12.5             0.60\n",
       "2395  F262CAFB9D02D        0.70        11.6             0.59\n",
       "7615  F784A6F519839        0.61        10.5             0.47"
      ]
     },
     "execution_count": 73,
     "metadata": {},
     "output_type": "execute_result"
    }
   ],
   "source": [
    "lab_wide_sec.sample(3)"
   ]
  },
  {
   "cell_type": "code",
   "execution_count": 74,
   "id": "af6e6ae0",
   "metadata": {},
   "outputs": [],
   "source": [
    "ab_organ_sec_IDs = lab_wide_sec.query('creatinine > 2 or hemoglobin < 9 or total_bilirubin > 3').PatientID"
   ]
  },
  {
   "cell_type": "code",
   "execution_count": 75,
   "id": "efbff535",
   "metadata": {},
   "outputs": [
    {
     "data": {
      "text/plain": [
       "967"
      ]
     },
     "execution_count": 75,
     "metadata": {},
     "output_type": "execute_result"
    }
   ],
   "source": [
    "len(ab_organ_sec_IDs)"
   ]
  },
  {
   "cell_type": "code",
   "execution_count": 76,
   "id": "1751ac24",
   "metadata": {},
   "outputs": [],
   "source": [
    "del diagnosis\n",
    "del diagnosis_10\n",
    "del diagnosis_9\n",
    "del enhanced_met\n",
    "del lab\n",
    "del lab_core\n",
    "del lab_fl\n",
    "del lab_sec\n",
    "del lab_wide_fl\n",
    "del lab_wide_sec\n",
    "del line_therapy\n",
    "del therapy_fl\n",
    "del therapy_sec"
   ]
  },
  {
   "cell_type": "markdown",
   "id": "96cfedbe",
   "metadata": {},
   "source": [
    "## Part 2: In-silico trials "
   ]
  },
  {
   "cell_type": "markdown",
   "id": "8e631bc9",
   "metadata": {},
   "source": [
    "### Import packages and create necessary functions"
   ]
  },
  {
   "cell_type": "code",
   "execution_count": 77,
   "id": "2ee145c1",
   "metadata": {},
   "outputs": [],
   "source": [
    "from scipy import stats\n",
    "\n",
    "from sksurv.nonparametric import kaplan_meier_estimator\n",
    "from survive import KaplanMeier, SurvivalData\n",
    "\n",
    "from lifelines import KaplanMeierFitter, CoxPHFitter\n",
    "from lifelines.plotting import add_at_risk_counts\n",
    "from lifelines.utils import median_survival_times, restricted_mean_survival_time\n",
    "from lifelines.statistics import logrank_test\n",
    "\n",
    "from sklearn.pipeline import Pipeline\n",
    "from sklearn.impute import SimpleImputer\n",
    "from sklearn.preprocessing import StandardScaler, OneHotEncoder\n",
    "from sklearn.compose import ColumnTransformer \n",
    "from sklearn.linear_model import LogisticRegression\n",
    "from sklearn.utils import resample\n",
    "\n",
    "import warnings"
   ]
  },
  {
   "cell_type": "code",
   "execution_count": 78,
   "id": "4db8da4f",
   "metadata": {},
   "outputs": [],
   "source": [
    "# Find index for value closest to input value. \n",
    "def find_nearest(array, value):\n",
    "    array = np.asarray(array)\n",
    "    idx = (np.abs(array - value)).argmin()\n",
    "    return array[idx]"
   ]
  },
  {
   "cell_type": "code",
   "execution_count": 79,
   "id": "5eb8517d",
   "metadata": {},
   "outputs": [],
   "source": [
    "# Calculates median overeall suvival for risk groups. \n",
    "def mos(low, med, high, comp):\n",
    "    low_os = low.median_survival_time_\n",
    "    med_os = med.median_survival_time_\n",
    "    high_os = high.median_survival_time_\n",
    "    comp_os = comp.median_survival_time_\n",
    "    mos = [low_os, med_os, high_os, comp_os]\n",
    "    return (mos)"
   ]
  },
  {
   "cell_type": "code",
   "execution_count": 80,
   "id": "b3233ebf",
   "metadata": {},
   "outputs": [],
   "source": [
    "def rmst_mos_95ci(df, num_samples, drug, event, items_list, numerical_features, rmst_time):\n",
    "    \n",
    "    \"\"\"\n",
    "    Estimate the 95% confidence interval for RMST and mOS using bootstrap resampling.\n",
    "\n",
    "    Parameters:\n",
    "    - df: DataFrame containing survival data\n",
    "    - num_samples: Number of bootstrap samples\n",
    "    - drug: Treatment indicator variable\n",
    "    - event: Event type ('death' or 'progression')\n",
    "    - items_list: Feature list for IPTW \n",
    "    - numerical_features: List of numerical features\n",
    "    - rmst_time: Time to calculate RMST \n",
    "\n",
    "    Returns:\n",
    "    - mos_A_95: mOS 95% CI for treatment\n",
    "    - mos_B_95: mOS 95% CI for control\n",
    "    - rmst_A_95: RMST 95% CI for treatment\n",
    "    - rmst_B_95: RMST 95% CI for control\n",
    "    - difference_rmst_95: RMST 95% CI for difference between treatment and control \n",
    "    \"\"\"\n",
    "    \n",
    "    np.random.seed(42)\n",
    "    mos_A = []\n",
    "    mos_B = []\n",
    "    rmst_A_list = []\n",
    "    rmst_B_list = []\n",
    "    differences_rmst = []\n",
    "    \n",
    "    # Define variables based on the event type\n",
    "    if event == 'death':\n",
    "        time_column = 'timerisk_treatment'\n",
    "        status_column = 'death_status'\n",
    "        \n",
    "    else:\n",
    "        time_column = 'time_prog_treatment'\n",
    "        status_column = 'pfs_status'\n",
    "        \n",
    "    # Set up preprocessor for logistical regression which will be for IPTW  \n",
    "    numerical_transformer = Pipeline(steps = [\n",
    "        ('imputer', SimpleImputer(strategy = 'median')),\n",
    "        ('std_scaler', StandardScaler())])\n",
    "        \n",
    "    categorical_transformer = OneHotEncoder(handle_unknown = 'ignore')\n",
    "    categorical_features = list(df.select_dtypes(include = ['category']).columns)\n",
    "        \n",
    "    preprocessor = ColumnTransformer(\n",
    "        transformers = [\n",
    "            ('num', numerical_transformer, numerical_features),\n",
    "            ('cat', categorical_transformer, categorical_features)],\n",
    "        remainder = 'passthrough')\n",
    "    \n",
    "    # Boostrap HR \n",
    "    for _ in range(num_samples):\n",
    "        \n",
    "        # Resample data with replacement\n",
    "        resampled_df = resample(df).drop(columns = ['ps', 'weight'])\n",
    "        \n",
    "        # Calculated IPTW for the resampled group \n",
    "        df_x = preprocessor.fit_transform(resampled_df.filter(items = items_list))\n",
    "                                           \n",
    "        df_lr = LogisticRegression(max_iter = 1000)\n",
    "        df_lr.fit(df_x, resampled_df[drug])\n",
    "        warnings.filterwarnings(\"ignore\")\n",
    "                                           \n",
    "        pred = df_lr.predict_proba(df_x)        \n",
    "        resampled_df['ps'] = pred[:, 1]                          \n",
    "        resampled_df['weight'] = (\n",
    "                np.where(resampled_df[drug] == 1, 1/resampled_df['ps'], 1/(1 - resampled_df['ps'])))\n",
    "    \n",
    "        # mOS from IPTW-KM\n",
    "        kmf_A = KaplanMeierFitter()\n",
    "        kmf_A.fit(resampled_df.query(f'{drug} == 1')[time_column]/30,\n",
    "                  resampled_df.query(f'{drug} == 1')[status_column], \n",
    "                  weights = resampled_df.query(f'{drug} == 1')['weight'])\n",
    "\n",
    "        kmf_B = KaplanMeierFitter()\n",
    "        kmf_B.fit(resampled_df.query(f'{drug} == 0')[time_column]/30,\n",
    "                  resampled_df.query(f'{drug} == 0')[status_column], \n",
    "                  weights = resampled_df.query(f'{drug} == 0')['weight'])\n",
    "    \n",
    "        mos_A.append(kmf_A.median_survival_time_)\n",
    "        mos_B.append(kmf_B.median_survival_time_)\n",
    "        \n",
    "        # RMST from IPTW-KM\n",
    "        rmst_A = restricted_mean_survival_time(kmf_A, rmst_time)\n",
    "        rmst_B = restricted_mean_survival_time(kmf_B, rmst_time)\n",
    "        \n",
    "        rmst_A_list.append(rmst_A)\n",
    "        rmst_B_list.append(rmst_B)\n",
    "        differences_rmst.append(rmst_A - rmst_B)\n",
    "\n",
    "    # Calculate the 95% confidence interval\n",
    "    results = pd.Series({\n",
    "    'mos_A_95': np.percentile(mos_A, [2.5, 97.5]),\n",
    "    'mos_B_95': np.percentile(mos_B, [2.5, 97.5]),\n",
    "    'rmst_A_95': np.percentile(rmst_A_list, [2.5, 97.5]),\n",
    "    'rmst_B_95': np.percentile(rmst_B_list, [2.5, 97.5]),\n",
    "    'difference_rmst_95': np.percentile(differences_rmst, [2.5, 97.5])\n",
    "    })\n",
    "    \n",
    "    return results"
   ]
  },
  {
   "cell_type": "code",
   "execution_count": 81,
   "id": "84b9841c",
   "metadata": {},
   "outputs": [],
   "source": [
    "cutoff = pd.read_csv('risk_cutoff_breast.csv', index_col = 0)"
   ]
  },
  {
   "cell_type": "markdown",
   "id": "dcbbca8e",
   "metadata": {},
   "source": [
    "### PALOMA-2: palbociclib plus letrozole vs. letrozole in hormone-sensitive metastatic breast cancer\n",
    "\n",
    "**INCLUSION**\n",
    "* Untreated metastatic breast cancer\n",
    "* Received first line palbociclib and aromatase inhibitor or aromatase inhibitor alone\n",
    "* Luteinizing hormone–releasing hormone agonist (leuprolide, goserelin, and triptorelin) is allowed in either arm\n",
    "* ER-positive within [-90, +30] days of first-line treatment\n",
    "* HER-2 negative within [-90, +30] days of first-line treatment\n",
    "* No relevant comorbidities in the year preceding metastatic diagnosis \n",
    "* No CNS metastasis at time of treatment \n",
    "* ECOG cannot be 3 or 4 at time of treatment \n",
    "* Adequate organ function at time of treatment "
   ]
  },
  {
   "cell_type": "markdown",
   "id": "313a0f3c",
   "metadata": {},
   "source": [
    "#### Palbociclib plus AI "
   ]
  },
  {
   "cell_type": "code",
   "execution_count": 82,
   "id": "48377b55",
   "metadata": {},
   "outputs": [
    {
     "data": {
      "text/plain": [
       "31677"
      ]
     },
     "execution_count": 82,
     "metadata": {},
     "output_type": "execute_result"
    }
   ],
   "source": [
    "df_full = pd.read_csv('df_risk_crude.csv', index_col = 'PatientID', dtype = {'death_status': bool})\n",
    "df_full.index.nunique()"
   ]
  },
  {
   "cell_type": "code",
   "execution_count": 83,
   "id": "0283bd59",
   "metadata": {},
   "outputs": [],
   "source": [
    "line_therapy = pd.read_csv('LineOfTherapy.csv')"
   ]
  },
  {
   "cell_type": "code",
   "execution_count": 84,
   "id": "d00abcd9",
   "metadata": {},
   "outputs": [],
   "source": [
    "line_therapy_fl = (\n",
    "    line_therapy[line_therapy['PatientID'].isin(df_full.index)]\n",
    "    .query('LineNumber == 1'))"
   ]
  },
  {
   "cell_type": "code",
   "execution_count": 85,
   "id": "3a150c94",
   "metadata": {
    "scrolled": true
   },
   "outputs": [
    {
     "data": {
      "text/plain": [
       "Letrozole,Palbociclib                  2503\n",
       "Fulvestrant,Palbociclib                1324\n",
       "Anastrozole,Palbociclib                 466\n",
       "Palbociclib                             261\n",
       "Exemestane,Palbociclib                  123\n",
       "Letrozole,Leuprolide,Palbociclib         98\n",
       "Goserelin,Letrozole,Palbociclib          90\n",
       "Fulvestrant,Letrozole,Palbociclib        40\n",
       "Anastrozole,Fulvestrant,Palbociclib      37\n",
       "Palbociclib,Tamoxifen                    31\n",
       "Name: LineName, dtype: int64"
      ]
     },
     "execution_count": 85,
     "metadata": {},
     "output_type": "execute_result"
    }
   ],
   "source": [
    "line_therapy_fl[line_therapy_fl['LineName'].str.contains('Palbociclib')].LineName.value_counts().head(10)"
   ]
  },
  {
   "cell_type": "code",
   "execution_count": 86,
   "id": "439dcffa",
   "metadata": {},
   "outputs": [],
   "source": [
    "# Of note, LH releasing hormone agonist (leuprolide, goserelin, and triptorelin) not excluded\n",
    "ai = [\n",
    "    'Anastrozole',\n",
    "    'Letrozole',\n",
    "    'Exemestane']\n",
    "\n",
    "exc = [\n",
    "    'Capecitabine',\n",
    "    'Carboplatin',\n",
    "    'Cisplatin',\n",
    "    'Cyclophosphamide',\n",
    "    'Cytarabine Liposomal',\n",
    "    'Decitabine',\n",
    "    'Docetaxel',\n",
    "    'Doxorubicin',\n",
    "    'Doxorubicin Pegylated Liposomal',\n",
    "    'Eribulin',\n",
    "    'Etoposide',\n",
    "    'Fluorouracil',\n",
    "    'Gemcitabine',\n",
    "    'Hydroxyurea',\n",
    "    'Leucovorin',\n",
    "    'Methotrexate',\n",
    "    'Oxaliplatin',\n",
    "    'Paclitaxel',\n",
    "    'Paclitaxel Protein-Bound',\n",
    "    'Vinorelbine',\n",
    "    'Nivolumab',\n",
    "    'Pembrolizumab',\n",
    "    'Abemaciclib',\n",
    "    'Alpelisib',\n",
    "    'Fulvestrant',\n",
    "    'Ribociclib',\n",
    "    'Tamoxifen',\n",
    "    'Carfilzomib',\n",
    "    'Daratumumab',\n",
    "    'Everolimus',\n",
    "    'Imatinib',\n",
    "    'Lapatinib',\n",
    "    'Lenalidomide',\n",
    "    'Neratinib',\n",
    "    'Olaparib',\n",
    "    'Pazopanib',\n",
    "    'Pertuzumab',\n",
    "    'Rituximab',\n",
    "    'Sorafenib',\n",
    "    'Toremifene',\n",
    "    'Trastuzumab',\n",
    "    'Clinical Study Drug',\n",
    "]"
   ]
  },
  {
   "cell_type": "code",
   "execution_count": 87,
   "id": "c0b6df54",
   "metadata": {},
   "outputs": [
    {
     "data": {
      "text/plain": [
       "Letrozole,Palbociclib                  2503\n",
       "Anastrozole,Palbociclib                 466\n",
       "Exemestane,Palbociclib                  123\n",
       "Letrozole,Leuprolide,Palbociclib         98\n",
       "Goserelin,Letrozole,Palbociclib          90\n",
       "Anastrozole,Goserelin,Palbociclib        17\n",
       "Anastrozole,Leuprolide,Palbociclib       17\n",
       "Letrozole,Palbociclib,Triptorelin         5\n",
       "Anastrozole,Palbociclib,Triptorelin       4\n",
       "Exemestane,Goserelin,Palbociclib          4\n",
       "Exemestane,Leuprolide,Palbociclib         3\n",
       "Name: LineName, dtype: int64"
      ]
     },
     "execution_count": 87,
     "metadata": {},
     "output_type": "execute_result"
    }
   ],
   "source": [
    "line_therapy_fl[line_therapy_fl['LineName'].str.contains('|'.join(ai)) & \n",
    "                line_therapy_fl['LineName'].str.contains('Palbociclib') &\n",
    "                ~line_therapy_fl['LineName'].str.contains('|'.join(exc))].LineName.value_counts().head(30)"
   ]
  },
  {
   "cell_type": "code",
   "execution_count": 88,
   "id": "f3e6966b",
   "metadata": {},
   "outputs": [],
   "source": [
    "let_palb = (\n",
    "    line_therapy_fl[line_therapy_fl['LineName'].str.contains('|'.join(ai)) & \n",
    "                    line_therapy_fl['LineName'].str.contains('Palbociclib') &\n",
    "                    ~line_therapy_fl['LineName'].str.contains('|'.join(exc))]\n",
    "    [['PatientID', 'StartDate']]\n",
    ")"
   ]
  },
  {
   "cell_type": "code",
   "execution_count": 89,
   "id": "2b232dcb",
   "metadata": {},
   "outputs": [
    {
     "data": {
      "text/plain": [
       "(3330, 3330)"
      ]
     },
     "execution_count": 89,
     "metadata": {},
     "output_type": "execute_result"
    }
   ],
   "source": [
    "row_ID(let_palb)"
   ]
  },
  {
   "cell_type": "code",
   "execution_count": 90,
   "id": "fb2884b1",
   "metadata": {},
   "outputs": [],
   "source": [
    "let_palb.loc[:,'let_palb'] = 1"
   ]
  },
  {
   "cell_type": "markdown",
   "id": "bd9ceea7",
   "metadata": {},
   "source": [
    "#### AI"
   ]
  },
  {
   "cell_type": "code",
   "execution_count": 91,
   "id": "a8796d9d",
   "metadata": {},
   "outputs": [
    {
     "data": {
      "text/plain": [
       "Letrozole                            2536\n",
       "Letrozole,Palbociclib                2503\n",
       "Letrozole,Ribociclib                  229\n",
       "Abemaciclib,Letrozole                 190\n",
       "Letrozole,Leuprolide,Palbociclib       98\n",
       "Goserelin,Letrozole,Palbociclib        90\n",
       "Fulvestrant,Letrozole                  64\n",
       "Letrozole,Trastuzumab                  59\n",
       "Fulvestrant,Letrozole,Palbociclib      40\n",
       "Letrozole,Leuprolide                   40\n",
       "Name: LineName, dtype: int64"
      ]
     },
     "execution_count": 91,
     "metadata": {},
     "output_type": "execute_result"
    }
   ],
   "source": [
    "line_therapy_fl[line_therapy_fl['LineName'].str.contains('Letrozole')].LineName.value_counts().head(10)"
   ]
  },
  {
   "cell_type": "code",
   "execution_count": 92,
   "id": "d1dd1b86",
   "metadata": {},
   "outputs": [
    {
     "data": {
      "text/plain": [
       "Anastrozole                      2943\n",
       "Letrozole                        2536\n",
       "Exemestane                        780\n",
       "Letrozole,Leuprolide               40\n",
       "Anastrozole,Leuprolide             35\n",
       "Goserelin,Letrozole                26\n",
       "Anastrozole,Goserelin              20\n",
       "Exemestane,Goserelin                7\n",
       "Exemestane,Leuprolide               4\n",
       "Anastrozole,Triptorelin             2\n",
       "Letrozole,Medroxyprogesterone       1\n",
       "Letrozole,Triptorelin               1\n",
       "Anastrozole,Megestrol               1\n",
       "Name: LineName, dtype: int64"
      ]
     },
     "execution_count": 92,
     "metadata": {},
     "output_type": "execute_result"
    }
   ],
   "source": [
    "line_therapy_fl[line_therapy_fl['LineName'].str.contains('|'.join(ai)) & \n",
    "                ~line_therapy_fl['LineName'].str.contains('Palbociclib') &\n",
    "                ~line_therapy_fl['LineName'].str.contains('|'.join(exc))].LineName.value_counts().head(40)"
   ]
  },
  {
   "cell_type": "code",
   "execution_count": 93,
   "id": "7018cf2d",
   "metadata": {},
   "outputs": [],
   "source": [
    "let = (\n",
    "    line_therapy_fl[line_therapy_fl['LineName'].str.contains('|'.join(ai)) & \n",
    "                    ~line_therapy_fl['LineName'].str.contains('Palbociclib') &\n",
    "                    ~line_therapy_fl['LineName'].str.contains('|'.join(exc))]\n",
    "    [['PatientID', 'StartDate']]\n",
    ")"
   ]
  },
  {
   "cell_type": "code",
   "execution_count": 94,
   "id": "c8b0b20b",
   "metadata": {},
   "outputs": [
    {
     "data": {
      "text/plain": [
       "(6396, 6396)"
      ]
     },
     "execution_count": 94,
     "metadata": {},
     "output_type": "execute_result"
    }
   ],
   "source": [
    "row_ID(let)"
   ]
  },
  {
   "cell_type": "code",
   "execution_count": 95,
   "id": "0b57f3a3",
   "metadata": {},
   "outputs": [],
   "source": [
    "let.loc[:,'let_palb'] = 0"
   ]
  },
  {
   "cell_type": "code",
   "execution_count": 96,
   "id": "14ef50cc",
   "metadata": {},
   "outputs": [],
   "source": [
    "paloma2 = pd.concat([let_palb, let])"
   ]
  },
  {
   "cell_type": "code",
   "execution_count": 97,
   "id": "60d5462d",
   "metadata": {},
   "outputs": [
    {
     "data": {
      "text/plain": [
       "(9726, 9726)"
      ]
     },
     "execution_count": 97,
     "metadata": {},
     "output_type": "execute_result"
    }
   ],
   "source": [
    "row_ID(paloma2)"
   ]
  },
  {
   "cell_type": "code",
   "execution_count": 98,
   "id": "768abe69",
   "metadata": {},
   "outputs": [],
   "source": [
    "paloma2 = pd.merge(paloma2, df_full, on = 'PatientID', how = 'left')"
   ]
  },
  {
   "cell_type": "code",
   "execution_count": 99,
   "id": "7b904727",
   "metadata": {},
   "outputs": [
    {
     "data": {
      "text/plain": [
       "(9726, 9726)"
      ]
     },
     "execution_count": 99,
     "metadata": {},
     "output_type": "execute_result"
    }
   ],
   "source": [
    "row_ID(paloma2)"
   ]
  },
  {
   "cell_type": "code",
   "execution_count": 100,
   "id": "20d20ee3",
   "metadata": {},
   "outputs": [],
   "source": [
    "paloma2['StartDate'] = pd.to_datetime(paloma2['StartDate'])"
   ]
  },
  {
   "cell_type": "markdown",
   "id": "bf2ecd5b",
   "metadata": {},
   "source": [
    "#### ER-positive and HER-2 negative "
   ]
  },
  {
   "cell_type": "code",
   "execution_count": 101,
   "id": "e7dcec2b",
   "metadata": {},
   "outputs": [],
   "source": [
    "biomarkers = pd.read_csv('Enhanced_MetBreastBiomarkers.csv')"
   ]
  },
  {
   "cell_type": "code",
   "execution_count": 102,
   "id": "bdd33e15",
   "metadata": {},
   "outputs": [],
   "source": [
    "biomarkers = biomarkers[biomarkers['PatientID'].isin(paloma2['PatientID'])]"
   ]
  },
  {
   "cell_type": "code",
   "execution_count": 103,
   "id": "fdef5780",
   "metadata": {},
   "outputs": [
    {
     "data": {
      "text/plain": [
       "(69754, 9662)"
      ]
     },
     "execution_count": 103,
     "metadata": {},
     "output_type": "execute_result"
    }
   ],
   "source": [
    "row_ID(biomarkers)"
   ]
  },
  {
   "cell_type": "code",
   "execution_count": 104,
   "id": "9d14b81b",
   "metadata": {},
   "outputs": [],
   "source": [
    "biomarkers = pd.merge(biomarkers, paloma2[['PatientID', 'StartDate']], on = 'PatientID', how = 'left')"
   ]
  },
  {
   "cell_type": "code",
   "execution_count": 105,
   "id": "c0c1ffc0",
   "metadata": {},
   "outputs": [
    {
     "data": {
      "text/plain": [
       "(69754, 9662)"
      ]
     },
     "execution_count": 105,
     "metadata": {},
     "output_type": "execute_result"
    }
   ],
   "source": [
    "row_ID(biomarkers)"
   ]
  },
  {
   "cell_type": "code",
   "execution_count": 106,
   "id": "1b1f4be7",
   "metadata": {},
   "outputs": [],
   "source": [
    "biomarkers['StartDate'] = pd.to_datetime(biomarkers['StartDate'])"
   ]
  },
  {
   "cell_type": "code",
   "execution_count": 107,
   "id": "121808a3",
   "metadata": {},
   "outputs": [],
   "source": [
    "biomarkers['ResultDate'] = pd.to_datetime(biomarkers['ResultDate'])"
   ]
  },
  {
   "cell_type": "code",
   "execution_count": 108,
   "id": "b19ef140",
   "metadata": {},
   "outputs": [],
   "source": [
    "biomarkers['SpecimenReceivedDate'] = pd.to_datetime(biomarkers['SpecimenReceivedDate'])"
   ]
  },
  {
   "cell_type": "code",
   "execution_count": 109,
   "id": "4ed3c0a4",
   "metadata": {},
   "outputs": [],
   "source": [
    "biomarkers.loc[:, 'result_date'] = (\n",
    "    np.where(biomarkers['ResultDate'].isna(), biomarkers['SpecimenReceivedDate'], biomarkers['ResultDate'])\n",
    ")"
   ]
  },
  {
   "cell_type": "code",
   "execution_count": 110,
   "id": "4605d964",
   "metadata": {},
   "outputs": [],
   "source": [
    "biomarkers.loc[:, 'date_diff'] = (biomarkers['result_date'] - biomarkers['StartDate']).dt.days"
   ]
  },
  {
   "cell_type": "code",
   "execution_count": 111,
   "id": "c682143a",
   "metadata": {},
   "outputs": [],
   "source": [
    "er_status = (\n",
    "    biomarkers\n",
    "    .query('BiomarkerName == \"ER\"')\n",
    "    .query('date_diff <= 30 and date_diff >= -90')\n",
    "    .query('BiomarkerStatus == \"Positive\" or BiomarkerStatus == \"Negative\"') # don't select unknown values \n",
    "    .sort_values(['PatientID', 'date_diff'], ascending = [True, False]) # select ER status closest to treatment start\n",
    "    .drop_duplicates(subset = ['PatientID'], keep = 'first')\n",
    "    [['PatientID', 'BiomarkerStatus']]\n",
    "    .rename(columns = {'BiomarkerStatus': 'er'})\n",
    "   )"
   ]
  },
  {
   "cell_type": "code",
   "execution_count": 112,
   "id": "52099133",
   "metadata": {},
   "outputs": [
    {
     "data": {
      "text/plain": [
       "(6016, 6016)"
      ]
     },
     "execution_count": 112,
     "metadata": {},
     "output_type": "execute_result"
    }
   ],
   "source": [
    "row_ID(er_status)"
   ]
  },
  {
   "cell_type": "code",
   "execution_count": 113,
   "id": "a23c6479",
   "metadata": {},
   "outputs": [],
   "source": [
    "her2_status = (\n",
    "    biomarkers\n",
    "    .query('BiomarkerName == \"HER2\"')\n",
    "    .query('date_diff <= 30 and date_diff >= -90')\n",
    "    .sort_values(['PatientID', 'date_diff'], ascending = [True, False])\n",
    "    .drop_duplicates(subset = ['PatientID'], keep = 'first')\n",
    "    [['PatientID', 'BiomarkerStatus']]\n",
    "    .rename(columns = {'BiomarkerStatus': 'her2'})\n",
    ")"
   ]
  },
  {
   "cell_type": "code",
   "execution_count": 114,
   "id": "a6d8af88",
   "metadata": {},
   "outputs": [
    {
     "data": {
      "text/plain": [
       "(5607, 5607)"
      ]
     },
     "execution_count": 114,
     "metadata": {},
     "output_type": "execute_result"
    }
   ],
   "source": [
    "row_ID(her2_status)"
   ]
  },
  {
   "cell_type": "code",
   "execution_count": 115,
   "id": "3b9dcca4",
   "metadata": {},
   "outputs": [],
   "source": [
    "paloma2 = pd.merge(paloma2, er_status, on  = 'PatientID', how = 'left')"
   ]
  },
  {
   "cell_type": "code",
   "execution_count": 116,
   "id": "be3657c1",
   "metadata": {},
   "outputs": [
    {
     "data": {
      "text/plain": [
       "(9726, 9726)"
      ]
     },
     "execution_count": 116,
     "metadata": {},
     "output_type": "execute_result"
    }
   ],
   "source": [
    "row_ID(paloma2)"
   ]
  },
  {
   "cell_type": "code",
   "execution_count": 117,
   "id": "40ab1dc8",
   "metadata": {},
   "outputs": [],
   "source": [
    "paloma2 = pd.merge(paloma2, her2_status, on  = 'PatientID', how = 'left')"
   ]
  },
  {
   "cell_type": "code",
   "execution_count": 118,
   "id": "7bc50d49",
   "metadata": {},
   "outputs": [
    {
     "data": {
      "text/plain": [
       "(9726, 9726)"
      ]
     },
     "execution_count": 118,
     "metadata": {},
     "output_type": "execute_result"
    }
   ],
   "source": [
    "row_ID(paloma2)"
   ]
  },
  {
   "cell_type": "code",
   "execution_count": 119,
   "id": "e65fe5f8",
   "metadata": {},
   "outputs": [],
   "source": [
    "her2_neg = ['IHC negative (0-1+)',\n",
    "            'FISH negative/not amplified',\n",
    "            'IHC equivocal (2+)',\n",
    "            'Negative NOS',\n",
    "            'NGS negative (ERBB2 not amplified)',\n",
    "            'FISH equivocal',\n",
    "            'Equivocal NOS',\n",
    "            'NGS equivocal (ERBB2 amplification equivocal)']\n",
    "\n",
    "paloma2 = (\n",
    "    paloma2\n",
    "    .query('er == \"Positive\"')\n",
    "    .query('her2== @her2_neg')\n",
    ")"
   ]
  },
  {
   "cell_type": "code",
   "execution_count": 120,
   "id": "1d44f61c",
   "metadata": {},
   "outputs": [
    {
     "data": {
      "text/plain": [
       "(4842, 4842)"
      ]
     },
     "execution_count": 120,
     "metadata": {},
     "output_type": "execute_result"
    }
   ],
   "source": [
    "row_ID(paloma2)"
   ]
  },
  {
   "cell_type": "markdown",
   "id": "95a7aa5b",
   "metadata": {},
   "source": [
    "#### Time from treatment to progression/death or censor "
   ]
  },
  {
   "cell_type": "code",
   "execution_count": 121,
   "id": "93f0ba11",
   "metadata": {},
   "outputs": [],
   "source": [
    "mortality_tr = pd.read_csv('mortality_cleaned_tr.csv')"
   ]
  },
  {
   "cell_type": "code",
   "execution_count": 122,
   "id": "9008ed96",
   "metadata": {},
   "outputs": [],
   "source": [
    "mortality_te = pd.read_csv('mortality_cleaned_te.csv')"
   ]
  },
  {
   "cell_type": "code",
   "execution_count": 123,
   "id": "e69e91d4",
   "metadata": {},
   "outputs": [],
   "source": [
    "mortality_tr = mortality_tr[['PatientID', 'death_date', 'last_activity']]"
   ]
  },
  {
   "cell_type": "code",
   "execution_count": 124,
   "id": "e19d7048",
   "metadata": {},
   "outputs": [],
   "source": [
    "mortality_te = mortality_te[['PatientID', 'death_date', 'last_activity']]"
   ]
  },
  {
   "cell_type": "code",
   "execution_count": 125,
   "id": "77b76fd5",
   "metadata": {},
   "outputs": [
    {
     "data": {
      "text/plain": [
       "(31677, 31677)"
      ]
     },
     "execution_count": 125,
     "metadata": {},
     "output_type": "execute_result"
    }
   ],
   "source": [
    "mortality = pd.concat([mortality_tr, mortality_te], ignore_index = True)\n",
    "row_ID(mortality)"
   ]
  },
  {
   "cell_type": "code",
   "execution_count": 126,
   "id": "1e1c8002",
   "metadata": {},
   "outputs": [],
   "source": [
    "mortality.loc[:, 'last_activity'] = pd.to_datetime(mortality['last_activity'])"
   ]
  },
  {
   "cell_type": "code",
   "execution_count": 127,
   "id": "a65d48c3",
   "metadata": {},
   "outputs": [],
   "source": [
    "mortality.loc[:, 'death_date'] = pd.to_datetime(mortality['death_date'])"
   ]
  },
  {
   "cell_type": "code",
   "execution_count": 128,
   "id": "0bdc15c2",
   "metadata": {},
   "outputs": [
    {
     "data": {
      "text/plain": [
       "(31677, 31677)"
      ]
     },
     "execution_count": 128,
     "metadata": {},
     "output_type": "execute_result"
    }
   ],
   "source": [
    "row_ID(mortality)"
   ]
  },
  {
   "cell_type": "code",
   "execution_count": 129,
   "id": "40e64d37",
   "metadata": {},
   "outputs": [],
   "source": [
    "paloma2 = pd.merge(paloma2, mortality, on = 'PatientID', how = 'left')"
   ]
  },
  {
   "cell_type": "code",
   "execution_count": 130,
   "id": "b3b9de98",
   "metadata": {},
   "outputs": [
    {
     "data": {
      "text/plain": [
       "(4842, 4842)"
      ]
     },
     "execution_count": 130,
     "metadata": {},
     "output_type": "execute_result"
    }
   ],
   "source": [
    "row_ID(paloma2)"
   ]
  },
  {
   "cell_type": "code",
   "execution_count": 131,
   "id": "4700b15e",
   "metadata": {},
   "outputs": [],
   "source": [
    "progression = pd.read_csv ('Enhanced_MetBreastProgression.csv')"
   ]
  },
  {
   "cell_type": "code",
   "execution_count": 132,
   "id": "a60020bb",
   "metadata": {},
   "outputs": [],
   "source": [
    "progression = progression[progression['PatientID'].isin(paloma2['PatientID'])][['PatientID', 'ProgressionDate']]"
   ]
  },
  {
   "cell_type": "code",
   "execution_count": 133,
   "id": "9eb102ca",
   "metadata": {},
   "outputs": [],
   "source": [
    "progression['ProgressionDate'] = pd.to_datetime(progression['ProgressionDate'])"
   ]
  },
  {
   "cell_type": "code",
   "execution_count": 134,
   "id": "1cd11396",
   "metadata": {},
   "outputs": [],
   "source": [
    "progression = (\n",
    "    progression\n",
    "    .sort_values(['PatientID', 'ProgressionDate'], ascending = [True, True])\n",
    "    .drop_duplicates(subset = 'PatientID', keep = 'first')\n",
    ")"
   ]
  },
  {
   "cell_type": "code",
   "execution_count": 135,
   "id": "30d35e27",
   "metadata": {},
   "outputs": [
    {
     "data": {
      "text/plain": [
       "(4840, 4840)"
      ]
     },
     "execution_count": 135,
     "metadata": {},
     "output_type": "execute_result"
    }
   ],
   "source": [
    "row_ID(progression)"
   ]
  },
  {
   "cell_type": "code",
   "execution_count": 136,
   "id": "81fd71fa",
   "metadata": {},
   "outputs": [],
   "source": [
    "paloma2 = pd.merge(paloma2, progression, on = 'PatientID', how = 'left')"
   ]
  },
  {
   "cell_type": "code",
   "execution_count": 137,
   "id": "a66dcd55",
   "metadata": {},
   "outputs": [
    {
     "data": {
      "text/plain": [
       "(4842, 4842)"
      ]
     },
     "execution_count": 137,
     "metadata": {},
     "output_type": "execute_result"
    }
   ],
   "source": [
    "row_ID(paloma2)"
   ]
  },
  {
   "cell_type": "code",
   "execution_count": 138,
   "id": "d5c0d301",
   "metadata": {},
   "outputs": [
    {
     "data": {
      "text/plain": [
       "0.4012804626187526"
      ]
     },
     "execution_count": 138,
     "metadata": {},
     "output_type": "execute_result"
    }
   ],
   "source": [
    "# Percent without progression date\n",
    "len(paloma2.query('ProgressionDate.isna()', engine = 'python'))/len(paloma2)"
   ]
  },
  {
   "cell_type": "code",
   "execution_count": 139,
   "id": "e8c17871",
   "metadata": {},
   "outputs": [],
   "source": [
    "conditions = [\n",
    "    (paloma2.ProgressionDate.notna()),\n",
    "    ((paloma2.ProgressionDate.isna()) & (paloma2['death_status'] == 1)),\n",
    "    ((paloma2.ProgressionDate.isna()) & (paloma2['death_status'] == 0))]\n",
    "\n",
    "choices = [\n",
    "    (paloma2['ProgressionDate'] - paloma2['StartDate']).dt.days,\n",
    "    (paloma2['death_date'] - paloma2['StartDate']).dt.days,\n",
    "    (paloma2['last_activity'] - paloma2['StartDate']).dt.days]\n",
    "\n",
    "paloma2.loc[:, 'time_prog_treatment'] = np.select(conditions, choices)"
   ]
  },
  {
   "cell_type": "code",
   "execution_count": 140,
   "id": "6572e20d",
   "metadata": {},
   "outputs": [],
   "source": [
    "paloma2 = paloma2.query('time_prog_treatment >= 0')"
   ]
  },
  {
   "cell_type": "code",
   "execution_count": 141,
   "id": "7234f3df",
   "metadata": {},
   "outputs": [
    {
     "data": {
      "text/plain": [
       "4734"
      ]
     },
     "execution_count": 141,
     "metadata": {},
     "output_type": "execute_result"
    }
   ],
   "source": [
    "len(paloma2)"
   ]
  },
  {
   "cell_type": "code",
   "execution_count": 142,
   "id": "a40644d3",
   "metadata": {},
   "outputs": [],
   "source": [
    "conditions = [\n",
    "    (paloma2.ProgressionDate.notna()),\n",
    "    ((paloma2.ProgressionDate.isna()) & (paloma2['death_status'] == 1)),\n",
    "    ((paloma2.ProgressionDate.isna()) & (paloma2['death_status'] == 0))]\n",
    "\n",
    "choices = [1, 1, 0]\n",
    "\n",
    "paloma2.loc[:, 'pfs_status'] = np.select(conditions, choices)"
   ]
  },
  {
   "cell_type": "markdown",
   "id": "ecd6f215",
   "metadata": {},
   "source": [
    "#### Patient count "
   ]
  },
  {
   "cell_type": "code",
   "execution_count": 143,
   "id": "d68f1304",
   "metadata": {},
   "outputs": [
    {
     "data": {
      "text/plain": [
       "(4734, 4734)"
      ]
     },
     "execution_count": 143,
     "metadata": {},
     "output_type": "execute_result"
    }
   ],
   "source": [
    "row_ID(paloma2)"
   ]
  },
  {
   "cell_type": "code",
   "execution_count": 144,
   "id": "ea1b96c5",
   "metadata": {},
   "outputs": [],
   "source": [
    "# Exlcude those with other relevant comorbidities\n",
    "paloma2 = paloma2[~paloma2['PatientID'].isin(other_comorb_IDs)]"
   ]
  },
  {
   "cell_type": "code",
   "execution_count": 145,
   "id": "e7178543",
   "metadata": {},
   "outputs": [],
   "source": [
    "# Exclude those with CNS metastatsis at time of first line treatment\n",
    "paloma2 = paloma2[~paloma2['PatientID'].isin(cns_fl_IDs)]"
   ]
  },
  {
   "cell_type": "code",
   "execution_count": 146,
   "id": "7a0bd0a0",
   "metadata": {},
   "outputs": [],
   "source": [
    "# Exclude those with ECOG 3 or 4  \n",
    "paloma2 = paloma2[~paloma2['PatientID'].isin(ecog_fl_34_IDs)]"
   ]
  },
  {
   "cell_type": "code",
   "execution_count": 147,
   "id": "4083a791",
   "metadata": {},
   "outputs": [],
   "source": [
    "# Exclude those with abnormal organ function at time of first line treatment \n",
    "paloma2 = paloma2[~paloma2['PatientID'].isin(ab_organ_fl_IDs)]"
   ]
  },
  {
   "cell_type": "code",
   "execution_count": 148,
   "id": "aa5c522c",
   "metadata": {},
   "outputs": [
    {
     "data": {
      "text/plain": [
       "(4276, 4276)"
      ]
     },
     "execution_count": 148,
     "metadata": {},
     "output_type": "execute_result"
    }
   ],
   "source": [
    "row_ID(paloma2)"
   ]
  },
  {
   "cell_type": "code",
   "execution_count": 149,
   "id": "815f7b59",
   "metadata": {},
   "outputs": [],
   "source": [
    "low_cutoff_paloma2 = cutoff.loc['paloma2'].low"
   ]
  },
  {
   "cell_type": "code",
   "execution_count": 150,
   "id": "efb7dbdd",
   "metadata": {},
   "outputs": [],
   "source": [
    "high_cutoff_paloma2 = cutoff.loc['paloma2'].high"
   ]
  },
  {
   "cell_type": "code",
   "execution_count": 151,
   "id": "10dd01ec",
   "metadata": {},
   "outputs": [
    {
     "name": "stdout",
     "output_type": "stream",
     "text": [
      "Palbociclib plus letrozole total: 1961\n",
      "High risk: 505\n",
      "Med risk: 637\n",
      "Low risk: 819\n"
     ]
    }
   ],
   "source": [
    "print('Palbociclib plus letrozole total:',  paloma2.query('let_palb == 1').shape[0])\n",
    "print('High risk:', paloma2.query('let_palb == 1').query('risk_score >= @high_cutoff_paloma2').shape[0])\n",
    "print('Med risk:', paloma2.query('let_palb == 1').query('risk_score < @high_cutoff_paloma2 and risk_score > @low_cutoff_paloma2').shape[0])\n",
    "print('Low risk:', paloma2.query('let_palb == 1').query('risk_score <= @low_cutoff_paloma2').shape[0])"
   ]
  },
  {
   "cell_type": "code",
   "execution_count": 152,
   "id": "1ed5207d",
   "metadata": {},
   "outputs": [
    {
     "name": "stdout",
     "output_type": "stream",
     "text": [
      "Letrozole: 2315\n",
      "High risk: 762\n",
      "Med risk: 836\n",
      "Low risk: 717\n"
     ]
    }
   ],
   "source": [
    "print('Letrozole:',  paloma2.query('let_palb == 0').shape[0])\n",
    "print('High risk:', paloma2.query('let_palb == 0').query('risk_score >= @high_cutoff_paloma2').shape[0])\n",
    "print('Med risk:', paloma2.query('let_palb == 0').query('risk_score < @high_cutoff_paloma2 and risk_score > @low_cutoff_paloma2').shape[0])\n",
    "print('Low risk:', paloma2.query('let_palb == 0').query('risk_score <= @low_cutoff_paloma2').shape[0])"
   ]
  },
  {
   "cell_type": "markdown",
   "id": "525e1905",
   "metadata": {},
   "source": [
    "#### PFS with covariate balancing "
   ]
  },
  {
   "cell_type": "code",
   "execution_count": 153,
   "id": "e950f36e",
   "metadata": {},
   "outputs": [],
   "source": [
    "paloma2 = paloma2.set_index('PatientID')"
   ]
  },
  {
   "cell_type": "code",
   "execution_count": 154,
   "id": "a0f61fb5",
   "metadata": {},
   "outputs": [],
   "source": [
    "conditions = [\n",
    "    (paloma2['thorax_met'] == 1) |\n",
    "    (paloma2['liver_met'] == 1) |\n",
    "    (paloma2['cns_met'] == 1) |\n",
    "    (paloma2['peritoneum_met'] == 1) |\n",
    "    (paloma2['other_met'] == 1),\n",
    "    (paloma2['bone_met'] == 0) &\n",
    "    (paloma2['thorax_met'] == 0) &\n",
    "    (paloma2['lymph_met'] == 0) &\n",
    "    (paloma2['liver_met'] == 0) &\n",
    "    (paloma2['cns_met'] == 0) &\n",
    "    (paloma2['skin_met'] == 0) &\n",
    "    (paloma2['peritoneum_met'] == 0) &\n",
    "    (paloma2['other_met'] == 0)\n",
    "]\n",
    "\n",
    "choices = ['visceral', 'unknown']\n",
    "\n",
    "paloma2['met_site'] = np.select(conditions, choices, default = 'nonvisceral')"
   ]
  },
  {
   "cell_type": "code",
   "execution_count": 155,
   "id": "e32bc07d",
   "metadata": {},
   "outputs": [],
   "source": [
    "paloma2['met_cat'] = pd.cut(paloma2['met_year'],\n",
    "                            bins = [2010, 2016, float('inf')],\n",
    "                            labels = ['11-16', '17-22'])"
   ]
  },
  {
   "cell_type": "code",
   "execution_count": 156,
   "id": "c3067a1d",
   "metadata": {},
   "outputs": [],
   "source": [
    "conditions = [\n",
    "    ((paloma2['ecog_diagnosis'] == \"1.0\") | (paloma2['ecog_diagnosis'] == \"0.0\")),  \n",
    "    ((paloma2['ecog_diagnosis'] == \"2.0\") | (paloma2['ecog_diagnosis'] == \"3.0\"))\n",
    "]\n",
    "\n",
    "choices = ['lt_2', 'gte_2']\n",
    "\n",
    "paloma2['ecog_2'] = np.select(conditions, choices, default = 'unknown')"
   ]
  },
  {
   "cell_type": "code",
   "execution_count": 157,
   "id": "81daeec5",
   "metadata": {},
   "outputs": [],
   "source": [
    "paloma2_iptw = paloma2.filter(items = ['pfs_status',\n",
    "                                       'time_prog_treatment',\n",
    "                                       'let_palb',\n",
    "                                       'age',\n",
    "                                       'gender',\n",
    "                                       'race',\n",
    "                                       'p_type',\n",
    "                                       'delta_met_diagnosis',\n",
    "                                       'met_cat',\n",
    "                                       'commercial',\n",
    "                                       'medicare',\n",
    "                                       'medicaid',\n",
    "                                       'ses',\n",
    "                                       'ecog_2',\n",
    "                                       'met_site',\n",
    "                                       'albumin_diag',\n",
    "                                       'weight_pct_change',\n",
    "                                       'risk_score'])"
   ]
  },
  {
   "cell_type": "code",
   "execution_count": 158,
   "id": "cd22d11f",
   "metadata": {},
   "outputs": [
    {
     "data": {
      "text/plain": [
       "pfs_status                int64\n",
       "time_prog_treatment     float64\n",
       "let_palb                  int64\n",
       "age                       int64\n",
       "gender                   object\n",
       "race                     object\n",
       "p_type                   object\n",
       "delta_met_diagnosis       int64\n",
       "met_cat                category\n",
       "commercial              float64\n",
       "medicare                float64\n",
       "medicaid                float64\n",
       "ses                     float64\n",
       "ecog_2                   object\n",
       "met_site                 object\n",
       "albumin_diag            float64\n",
       "weight_pct_change       float64\n",
       "risk_score              float64\n",
       "dtype: object"
      ]
     },
     "execution_count": 158,
     "metadata": {},
     "output_type": "execute_result"
    }
   ],
   "source": [
    "paloma2_iptw.dtypes"
   ]
  },
  {
   "cell_type": "code",
   "execution_count": 159,
   "id": "f62feba7",
   "metadata": {},
   "outputs": [],
   "source": [
    "to_be_categorical = list(paloma2_iptw.select_dtypes(include = ['object']).columns)"
   ]
  },
  {
   "cell_type": "code",
   "execution_count": 160,
   "id": "6742f7ce",
   "metadata": {},
   "outputs": [
    {
     "data": {
      "text/plain": [
       "['gender', 'race', 'p_type', 'ecog_2', 'met_site']"
      ]
     },
     "execution_count": 160,
     "metadata": {},
     "output_type": "execute_result"
    }
   ],
   "source": [
    "to_be_categorical"
   ]
  },
  {
   "cell_type": "code",
   "execution_count": 161,
   "id": "cb719f8a",
   "metadata": {},
   "outputs": [],
   "source": [
    "to_be_categorical.append('met_cat')"
   ]
  },
  {
   "cell_type": "code",
   "execution_count": 162,
   "id": "14d95ebb",
   "metadata": {},
   "outputs": [],
   "source": [
    "to_be_categorical.append('ses')"
   ]
  },
  {
   "cell_type": "code",
   "execution_count": 163,
   "id": "7cbdcb38",
   "metadata": {},
   "outputs": [],
   "source": [
    "# Convert variables in list to categorical.\n",
    "for x in list(to_be_categorical):\n",
    "    paloma2_iptw[x] = paloma2_iptw[x].astype('category')"
   ]
  },
  {
   "cell_type": "code",
   "execution_count": 164,
   "id": "93459f57",
   "metadata": {},
   "outputs": [],
   "source": [
    "# List of numeric variables, excluding binary variables. \n",
    "numerical_features = ['age', 'delta_met_diagnosis', 'albumin_diag', 'weight_pct_change', 'risk_score']\n",
    "\n",
    "# Transformer will first calculate column median and impute, and then apply a standard scaler. \n",
    "numerical_transformer = Pipeline(steps = [\n",
    "    ('imputer', SimpleImputer(strategy = 'median')),\n",
    "    ('std_scaler', StandardScaler())])"
   ]
  },
  {
   "cell_type": "code",
   "execution_count": 165,
   "id": "84a564de",
   "metadata": {},
   "outputs": [],
   "source": [
    "# List of categorical features.\n",
    "categorical_features = list(paloma2_iptw.select_dtypes(include = ['category']).columns)\n",
    "\n",
    "# One-hot-encode categorical features.\n",
    "categorical_transformer = OneHotEncoder(handle_unknown = 'ignore')"
   ]
  },
  {
   "cell_type": "code",
   "execution_count": 166,
   "id": "5791138a",
   "metadata": {},
   "outputs": [],
   "source": [
    "preprocessor = ColumnTransformer(\n",
    "    transformers = [\n",
    "        ('num', numerical_transformer, numerical_features),\n",
    "        ('cat', categorical_transformer, categorical_features)],\n",
    "    remainder = 'passthrough')"
   ]
  },
  {
   "cell_type": "code",
   "execution_count": 167,
   "id": "90853d15",
   "metadata": {},
   "outputs": [],
   "source": [
    "paloma2_iptw_low = (\n",
    "    paloma2_iptw\n",
    "    .query('risk_score <= @low_cutoff_paloma2'))\n",
    "\n",
    "paloma2_iptw_med = (\n",
    "    paloma2_iptw\n",
    "    .query('risk_score < @high_cutoff_paloma2 and risk_score > @low_cutoff_paloma2'))\n",
    "\n",
    "paloma2_iptw_high = (\n",
    "    paloma2_iptw\n",
    "    .query('risk_score >= @high_cutoff_paloma2'))\n",
    "\n",
    "paloma2_iptw_all = paloma2_iptw"
   ]
  },
  {
   "cell_type": "code",
   "execution_count": 168,
   "id": "d017f12b",
   "metadata": {},
   "outputs": [],
   "source": [
    "paloma2_low_x = preprocessor.fit_transform(paloma2_iptw_low.filter(items = ['age',\n",
    "                                                                            'gender',\n",
    "                                                                            'race',\n",
    "                                                                            'p_type',\n",
    "                                                                            'delta_met_diagnosis',\n",
    "                                                                            'met_cat',\n",
    "                                                                            'commercial',\n",
    "                                                                            'medicare',\n",
    "                                                                            'medicaid',\n",
    "                                                                            'ses',\n",
    "                                                                            'ecog_2',\n",
    "                                                                            'met_site', \n",
    "                                                                            'albumin_diag', \n",
    "                                                                            'weight_pct_change', \n",
    "                                                                            'risk_score']))\n",
    "\n",
    "paloma2_med_x = preprocessor.fit_transform(paloma2_iptw_med.filter(items = ['age',\n",
    "                                                                            'gender',\n",
    "                                                                            'race',\n",
    "                                                                            'p_type',\n",
    "                                                                            'delta_met_diagnosis',\n",
    "                                                                            'met_cat',\n",
    "                                                                            'commercial',\n",
    "                                                                            'medicare',\n",
    "                                                                            'medicaid',\n",
    "                                                                            'ses',\n",
    "                                                                            'ecog_2',\n",
    "                                                                            'met_site', \n",
    "                                                                            'albumin_diag', \n",
    "                                                                            'weight_pct_change', \n",
    "                                                                            'risk_score']))\n",
    "\n",
    "paloma2_high_x = preprocessor.fit_transform(paloma2_iptw_high.filter(items = ['age',\n",
    "                                                                              'gender',\n",
    "                                                                              'race',\n",
    "                                                                              'p_type',\n",
    "                                                                              'delta_met_diagnosis',\n",
    "                                                                              'met_cat',\n",
    "                                                                              'commercial',\n",
    "                                                                              'medicare',\n",
    "                                                                              'medicaid',\n",
    "                                                                              'ses',\n",
    "                                                                              'ecog_2',\n",
    "                                                                              'met_site', \n",
    "                                                                              'albumin_diag', \n",
    "                                                                              'weight_pct_change', \n",
    "                                                                              'risk_score']))\n",
    "\n",
    "paloma2_all_x = preprocessor.fit_transform(paloma2_iptw_all.filter(items = ['age',\n",
    "                                                                            'gender',\n",
    "                                                                            'race',\n",
    "                                                                            'p_type',\n",
    "                                                                            'delta_met_diagnosis',\n",
    "                                                                            'met_cat',\n",
    "                                                                            'commercial',\n",
    "                                                                            'medicare',\n",
    "                                                                            'medicaid',\n",
    "                                                                            'ses',\n",
    "                                                                            'ecog_2',\n",
    "                                                                            'met_site', \n",
    "                                                                            'albumin_diag', \n",
    "                                                                            'weight_pct_change', \n",
    "                                                                            'risk_score']))"
   ]
  },
  {
   "cell_type": "code",
   "execution_count": 169,
   "id": "448d3981",
   "metadata": {},
   "outputs": [
    {
     "data": {
      "text/plain": [
       "LogisticRegression(max_iter=1000)"
      ]
     },
     "execution_count": 169,
     "metadata": {},
     "output_type": "execute_result"
    }
   ],
   "source": [
    "lr_paloma2_low = LogisticRegression(max_iter = 1000)\n",
    "lr_paloma2_low.fit(paloma2_low_x, paloma2_iptw_low['let_palb'])"
   ]
  },
  {
   "cell_type": "code",
   "execution_count": 170,
   "id": "237476d7",
   "metadata": {},
   "outputs": [
    {
     "data": {
      "text/plain": [
       "LogisticRegression(max_iter=1000)"
      ]
     },
     "execution_count": 170,
     "metadata": {},
     "output_type": "execute_result"
    }
   ],
   "source": [
    "lr_paloma2_med = LogisticRegression(max_iter = 1000)\n",
    "lr_paloma2_med.fit(paloma2_med_x, paloma2_iptw_med['let_palb'])"
   ]
  },
  {
   "cell_type": "code",
   "execution_count": 171,
   "id": "35b7b6cc",
   "metadata": {},
   "outputs": [
    {
     "data": {
      "text/plain": [
       "LogisticRegression(max_iter=1000)"
      ]
     },
     "execution_count": 171,
     "metadata": {},
     "output_type": "execute_result"
    }
   ],
   "source": [
    "lr_paloma2_high = LogisticRegression(max_iter = 1000)\n",
    "lr_paloma2_high.fit(paloma2_high_x, paloma2_iptw_high['let_palb'])"
   ]
  },
  {
   "cell_type": "code",
   "execution_count": 172,
   "id": "d4b7ac60",
   "metadata": {},
   "outputs": [
    {
     "data": {
      "text/plain": [
       "LogisticRegression(max_iter=1000)"
      ]
     },
     "execution_count": 172,
     "metadata": {},
     "output_type": "execute_result"
    }
   ],
   "source": [
    "lr_paloma2_all = LogisticRegression(max_iter = 1000)\n",
    "lr_paloma2_all.fit(paloma2_all_x, paloma2_iptw_all['let_palb'])"
   ]
  },
  {
   "cell_type": "code",
   "execution_count": 173,
   "id": "c15a79f2",
   "metadata": {},
   "outputs": [],
   "source": [
    "pred_low = lr_paloma2_low.predict_proba(paloma2_low_x)\n",
    "pred_med = lr_paloma2_med.predict_proba(paloma2_med_x)\n",
    "pred_high = lr_paloma2_high.predict_proba(paloma2_high_x)\n",
    "pred_all = lr_paloma2_all.predict_proba(paloma2_all_x)"
   ]
  },
  {
   "cell_type": "code",
   "execution_count": 174,
   "id": "31f02888",
   "metadata": {},
   "outputs": [
    {
     "name": "stderr",
     "output_type": "stream",
     "text": [
      "/Users/xavierorcutt/Dropbox/ist_project/myenv/lib/python3.7/site-packages/ipykernel_launcher.py:1: SettingWithCopyWarning: \n",
      "A value is trying to be set on a copy of a slice from a DataFrame.\n",
      "Try using .loc[row_indexer,col_indexer] = value instead\n",
      "\n",
      "See the caveats in the documentation: https://pandas.pydata.org/pandas-docs/stable/user_guide/indexing.html#returning-a-view-versus-a-copy\n",
      "  \"\"\"Entry point for launching an IPython kernel.\n",
      "/Users/xavierorcutt/Dropbox/ist_project/myenv/lib/python3.7/site-packages/ipykernel_launcher.py:2: SettingWithCopyWarning: \n",
      "A value is trying to be set on a copy of a slice from a DataFrame.\n",
      "Try using .loc[row_indexer,col_indexer] = value instead\n",
      "\n",
      "See the caveats in the documentation: https://pandas.pydata.org/pandas-docs/stable/user_guide/indexing.html#returning-a-view-versus-a-copy\n",
      "  \n",
      "/Users/xavierorcutt/Dropbox/ist_project/myenv/lib/python3.7/site-packages/ipykernel_launcher.py:3: SettingWithCopyWarning: \n",
      "A value is trying to be set on a copy of a slice from a DataFrame.\n",
      "Try using .loc[row_indexer,col_indexer] = value instead\n",
      "\n",
      "See the caveats in the documentation: https://pandas.pydata.org/pandas-docs/stable/user_guide/indexing.html#returning-a-view-versus-a-copy\n",
      "  This is separate from the ipykernel package so we can avoid doing imports until\n"
     ]
    }
   ],
   "source": [
    "paloma2_iptw_low['ps'] = pred_low[:, 1]\n",
    "paloma2_iptw_med['ps'] = pred_med[:, 1]\n",
    "paloma2_iptw_high['ps'] = pred_high[:, 1]\n",
    "paloma2_iptw_all['ps'] = pred_all[:, 1]"
   ]
  },
  {
   "cell_type": "code",
   "execution_count": 175,
   "id": "db597a49",
   "metadata": {},
   "outputs": [
    {
     "name": "stderr",
     "output_type": "stream",
     "text": [
      "/Users/xavierorcutt/Dropbox/ist_project/myenv/lib/python3.7/site-packages/ipykernel_launcher.py:2: SettingWithCopyWarning: \n",
      "A value is trying to be set on a copy of a slice from a DataFrame.\n",
      "Try using .loc[row_indexer,col_indexer] = value instead\n",
      "\n",
      "See the caveats in the documentation: https://pandas.pydata.org/pandas-docs/stable/user_guide/indexing.html#returning-a-view-versus-a-copy\n",
      "  \n",
      "/Users/xavierorcutt/Dropbox/ist_project/myenv/lib/python3.7/site-packages/ipykernel_launcher.py:5: SettingWithCopyWarning: \n",
      "A value is trying to be set on a copy of a slice from a DataFrame.\n",
      "Try using .loc[row_indexer,col_indexer] = value instead\n",
      "\n",
      "See the caveats in the documentation: https://pandas.pydata.org/pandas-docs/stable/user_guide/indexing.html#returning-a-view-versus-a-copy\n",
      "  \"\"\"\n",
      "/Users/xavierorcutt/Dropbox/ist_project/myenv/lib/python3.7/site-packages/ipykernel_launcher.py:8: SettingWithCopyWarning: \n",
      "A value is trying to be set on a copy of a slice from a DataFrame.\n",
      "Try using .loc[row_indexer,col_indexer] = value instead\n",
      "\n",
      "See the caveats in the documentation: https://pandas.pydata.org/pandas-docs/stable/user_guide/indexing.html#returning-a-view-versus-a-copy\n",
      "  \n"
     ]
    }
   ],
   "source": [
    "paloma2_iptw_low['weight'] = (\n",
    "    np.where(paloma2_iptw_low['let_palb'] == 1, 1/paloma2_iptw_low['ps'], 1/(1 - paloma2_iptw_low['ps'])))\n",
    "\n",
    "paloma2_iptw_med['weight'] = (\n",
    "    np.where(paloma2_iptw_med['let_palb'] == 1, 1/paloma2_iptw_med['ps'], 1/(1 - paloma2_iptw_med['ps'])))\n",
    "\n",
    "paloma2_iptw_high['weight'] = (\n",
    "    np.where(paloma2_iptw_high['let_palb'] == 1, 1/paloma2_iptw_high['ps'], 1/(1 - paloma2_iptw_high['ps'])))\n",
    "\n",
    "paloma2_iptw_all['weight'] = (\n",
    "    np.where(paloma2_iptw_all['let_palb'] == 1, 1/paloma2_iptw_all['ps'], 1/(1 - paloma2_iptw_all['ps'])))"
   ]
  },
  {
   "cell_type": "code",
   "execution_count": 176,
   "id": "176230fe",
   "metadata": {},
   "outputs": [
    {
     "name": "stderr",
     "output_type": "stream",
     "text": [
      "/Users/xavierorcutt/Dropbox/ist_project/myenv/lib/python3.7/site-packages/lifelines/fitters/kaplan_meier_fitter.py:344: StatisticalWarning: It looks like your weights are not integers, possibly propensity scores then?\n",
      "  It's important to know that the naive variance estimates of the coefficients are biased. Instead use Monte Carlo to\n",
      "  estimate the variances. See paper \"Variance estimation when using inverse probability of treatment weighting (IPTW) with survival analysis\"\n",
      "  or \"Adjusted Kaplan-Meier estimator and log-rank test with inverse probability of treatment weighting for survival data.\"\n",
      "                  \n",
      "  StatisticalWarning,\n"
     ]
    },
    {
     "data": {
      "text/plain": [
       "<lifelines.KaplanMeierFitter:\"KM_estimate\", fitted with 4281.25 total observations, 1071.13 right-censored observations>"
      ]
     },
     "execution_count": 176,
     "metadata": {},
     "output_type": "execute_result"
    }
   ],
   "source": [
    "# Low KM curves\n",
    "kmf_low_plet_paloma2_iptw = KaplanMeierFitter()\n",
    "kmf_low_let_paloma2_iptw = KaplanMeierFitter()\n",
    "\n",
    "kmf_low_plet_paloma2_iptw.fit(\n",
    "    paloma2_iptw_low.query('let_palb == 1').time_prog_treatment/30,\n",
    "    paloma2_iptw_low.query('let_palb == 1').pfs_status,\n",
    "    weights = paloma2_iptw_low.query('let_palb == 1')['weight'])\n",
    "\n",
    "kmf_low_let_paloma2_iptw.fit(\n",
    "    paloma2_iptw_low.query('let_palb == 0').time_prog_treatment/30,\n",
    "    paloma2_iptw_low.query('let_palb == 0').pfs_status,\n",
    "    weights = paloma2_iptw_low.query('let_palb == 0')['weight'])\n",
    "\n",
    "# Med KM curves\n",
    "kmf_med_plet_paloma2_iptw = KaplanMeierFitter()\n",
    "kmf_med_let_paloma2_iptw = KaplanMeierFitter()\n",
    "\n",
    "kmf_med_plet_paloma2_iptw.fit(\n",
    "    paloma2_iptw_med.query('let_palb == 1').time_prog_treatment/30,\n",
    "    paloma2_iptw_med.query('let_palb == 1').pfs_status,\n",
    "    weights = paloma2_iptw_med.query('let_palb == 1')['weight'])\n",
    "\n",
    "kmf_med_let_paloma2_iptw.fit(\n",
    "    paloma2_iptw_med.query('let_palb == 0').time_prog_treatment/30,\n",
    "    paloma2_iptw_med.query('let_palb == 0').pfs_status,\n",
    "    weights = paloma2_iptw_med.query('let_palb == 0')['weight'])\n",
    "\n",
    "# High KM curves \n",
    "kmf_high_plet_paloma2_iptw = KaplanMeierFitter()\n",
    "kmf_high_let_paloma2_iptw = KaplanMeierFitter()\n",
    "\n",
    "kmf_high_plet_paloma2_iptw.fit(\n",
    "    paloma2_iptw_high.query('let_palb == 1').time_prog_treatment/30,\n",
    "    paloma2_iptw_high.query('let_palb == 1').pfs_status,\n",
    "    weights = paloma2_iptw_high.query('let_palb == 1')['weight'])\n",
    "\n",
    "kmf_high_let_paloma2_iptw.fit(\n",
    "    paloma2_iptw_high.query('let_palb == 0').time_prog_treatment/30,\n",
    "    paloma2_iptw_high.query('let_palb == 0').pfs_status,\n",
    "    weights = paloma2_iptw_high.query('let_palb == 0')['weight'])\n",
    "\n",
    "# All KM curves \n",
    "kmf_all_plet_paloma2_iptw = KaplanMeierFitter()\n",
    "kmf_all_let_paloma2_iptw = KaplanMeierFitter()\n",
    "\n",
    "kmf_all_plet_paloma2_iptw.fit(\n",
    "    paloma2_iptw_all.query('let_palb == 1').time_prog_treatment/30,\n",
    "    paloma2_iptw_all.query('let_palb == 1').pfs_status,\n",
    "    weights = paloma2_iptw_all.query('let_palb == 1')['weight'])\n",
    "\n",
    "kmf_all_let_paloma2_iptw.fit(\n",
    "    paloma2_iptw_all.query('let_palb == 0').time_prog_treatment/30,\n",
    "    paloma2_iptw_all.query('let_palb == 0').pfs_status,\n",
    "    weights = paloma2_iptw_all.query('let_palb == 0')['weight'])"
   ]
  },
  {
   "cell_type": "markdown",
   "id": "bbaa9507",
   "metadata": {},
   "source": [
    "#### Calculating survival metrics"
   ]
  },
  {
   "cell_type": "code",
   "execution_count": 177,
   "id": "e2ec8baa",
   "metadata": {},
   "outputs": [],
   "source": [
    "plet_paloma2_median_pfs = mos(kmf_low_plet_paloma2_iptw,\n",
    "                              kmf_med_plet_paloma2_iptw,\n",
    "                              kmf_high_plet_paloma2_iptw,\n",
    "                              kmf_all_plet_paloma2_iptw)\n",
    "\n",
    "let_paloma2_median_pfs = mos(kmf_low_let_paloma2_iptw,\n",
    "                             kmf_med_let_paloma2_iptw,\n",
    "                             kmf_high_let_paloma2_iptw,\n",
    "                             kmf_all_let_paloma2_iptw)"
   ]
  },
  {
   "cell_type": "code",
   "execution_count": 178,
   "id": "e6c1ff56",
   "metadata": {},
   "outputs": [],
   "source": [
    "paloma2_iptw_all_imputed = paloma2_iptw_all.copy()\n",
    "paloma2_iptw_all_imputed['albumin_diag'] = paloma2_iptw_all_imputed['albumin_diag'].fillna(paloma2_iptw_all_imputed['albumin_diag'].median())\n",
    "paloma2_iptw_all_imputed['weight_pct_change'] = paloma2_iptw_all_imputed['weight_pct_change'].fillna(paloma2_iptw_all_imputed['weight_pct_change'].median())\n",
    "paloma2_iptw_all_imputed['ses'] = paloma2_iptw_all_imputed['ses'].cat.add_categories('unknown')\n",
    "paloma2_iptw_all_imputed['ses'] = paloma2_iptw_all_imputed['ses'].fillna('unknown')"
   ]
  },
  {
   "cell_type": "code",
   "execution_count": 179,
   "id": "594f7e26",
   "metadata": {},
   "outputs": [
    {
     "data": {
      "text/plain": [
       "<lifelines.CoxPHFitter: fitted with 8535.86 total observations, 2441.47 right-censored observations>"
      ]
     },
     "execution_count": 179,
     "metadata": {},
     "output_type": "execute_result"
    }
   ],
   "source": [
    "paloma2_hr_all = CoxPHFitter()\n",
    "paloma2_hr_all.fit(paloma2_iptw_all_imputed,\n",
    "                   duration_col = 'time_prog_treatment',\n",
    "                   event_col = 'pfs_status',\n",
    "                   formula = 'let_palb + age + gender + race + p_type + delta_met_diagnosis + met_cat + commercial + medicare + medicaid + ses + ecog_2 + met_site + albumin_diag + weight_pct_change + risk_score',\n",
    "                   weights_col = 'weight',\n",
    "                   robust = True)"
   ]
  },
  {
   "cell_type": "code",
   "execution_count": 180,
   "id": "10ea4938",
   "metadata": {},
   "outputs": [],
   "source": [
    "paloma2_all_rmst_mos_95 = rmst_mos_95ci(paloma2_iptw_all,\n",
    "                                        1000,\n",
    "                                        'let_palb',\n",
    "                                        'progression',\n",
    "                                        ['age',\n",
    "                                         'gender',\n",
    "                                         'race',\n",
    "                                         'p_type',\n",
    "                                         'delta_met_diagnosis',\n",
    "                                         'met_cat',\n",
    "                                         'commercial',\n",
    "                                         'medicare',\n",
    "                                         'medicaid',\n",
    "                                         'ses',\n",
    "                                         'ecog_2',\n",
    "                                         'met_site', \n",
    "                                         'albumin_diag', \n",
    "                                         'weight_pct_change', \n",
    "                                         'risk_score'],\n",
    "                                        ['age', 'delta_met_diagnosis', 'albumin_diag', 'weight_pct_change', 'risk_score'],\n",
    "                                        48)"
   ]
  },
  {
   "cell_type": "code",
   "execution_count": 181,
   "id": "2153ef3d",
   "metadata": {},
   "outputs": [],
   "source": [
    "paloma2_low_rmst_mos_95 = rmst_mos_95ci(paloma2_iptw_low,\n",
    "                                        1000,\n",
    "                                        'let_palb',\n",
    "                                        'progression',\n",
    "                                        ['age',\n",
    "                                         'gender',\n",
    "                                         'race',\n",
    "                                         'p_type',\n",
    "                                         'delta_met_diagnosis',\n",
    "                                         'met_cat',\n",
    "                                         'commercial',\n",
    "                                         'medicare',\n",
    "                                         'medicaid',\n",
    "                                         'ses',\n",
    "                                         'ecog_2',\n",
    "                                         'met_site', \n",
    "                                         'albumin_diag', \n",
    "                                         'weight_pct_change', \n",
    "                                         'risk_score'],\n",
    "                                        ['age', 'delta_met_diagnosis', 'albumin_diag', 'weight_pct_change', 'risk_score'],\n",
    "                                        48)"
   ]
  },
  {
   "cell_type": "code",
   "execution_count": 182,
   "id": "320c7515",
   "metadata": {},
   "outputs": [],
   "source": [
    "paloma2_med_rmst_mos_95 = rmst_mos_95ci(paloma2_iptw_med,\n",
    "                                        1000,\n",
    "                                        'let_palb',\n",
    "                                        'progression',\n",
    "                                        ['age',\n",
    "                                         'gender',\n",
    "                                         'race',\n",
    "                                         'p_type',\n",
    "                                         'delta_met_diagnosis',\n",
    "                                         'met_cat',\n",
    "                                         'commercial',\n",
    "                                         'medicare',\n",
    "                                         'medicaid',\n",
    "                                         'ses',\n",
    "                                         'ecog_2',\n",
    "                                         'met_site', \n",
    "                                         'albumin_diag', \n",
    "                                         'weight_pct_change', \n",
    "                                         'risk_score'],\n",
    "                                        ['age', 'delta_met_diagnosis', 'albumin_diag', 'weight_pct_change', 'risk_score'],\n",
    "                                        48)"
   ]
  },
  {
   "cell_type": "code",
   "execution_count": 183,
   "id": "679d1355",
   "metadata": {},
   "outputs": [],
   "source": [
    "paloma2_high_rmst_mos_95 = rmst_mos_95ci(paloma2_iptw_high,\n",
    "                                         1000,\n",
    "                                         'let_palb',\n",
    "                                         'progression',\n",
    "                                         ['age',\n",
    "                                          'gender',\n",
    "                                          'race',\n",
    "                                          'p_type',\n",
    "                                          'delta_met_diagnosis',\n",
    "                                          'met_cat',\n",
    "                                          'commercial',\n",
    "                                          'medicare',\n",
    "                                          'medicaid',\n",
    "                                          'ses',\n",
    "                                          'ecog_2',\n",
    "                                          'met_site', \n",
    "                                          'albumin_diag', \n",
    "                                          'weight_pct_change', \n",
    "                                          'risk_score'],\n",
    "                                         ['age', 'delta_met_diagnosis', 'albumin_diag', 'weight_pct_change', 'risk_score'],\n",
    "                                         48)"
   ]
  },
  {
   "cell_type": "code",
   "execution_count": 184,
   "id": "f4b43401",
   "metadata": {},
   "outputs": [],
   "source": [
    "paloma2_data = [\n",
    "    {'trial_name': 'PALOMA-2', \n",
    "     'risk_group': 'low', \n",
    "     's_trt_mos': plet_paloma2_median_pfs[0],\n",
    "     's_trt_mos_95': paloma2_low_rmst_mos_95.mos_A_95,\n",
    "     's_cont_mos': let_paloma2_median_pfs[0],\n",
    "     's_cont_mos_95': paloma2_low_rmst_mos_95.mos_B_95,\n",
    "     's_mos_diff': plet_paloma2_median_pfs[0] - let_paloma2_median_pfs[0], \n",
    "     'rct_trt_arm': 27.6,\n",
    "     'rct_cont_arm': 14.5,\n",
    "     'rct_mos_diff': 27.6-14.5,\n",
    "     's_trt_rmst': restricted_mean_survival_time(kmf_low_plet_paloma2_iptw, 48),\n",
    "     's_trt_rmst_95': paloma2_low_rmst_mos_95.rmst_A_95,\n",
    "     's_cont_rmst': restricted_mean_survival_time(kmf_low_let_paloma2_iptw, 48),\n",
    "     's_cont_rmst_95': paloma2_low_rmst_mos_95.rmst_B_95,\n",
    "     's_diff_rmst': restricted_mean_survival_time(kmf_low_plet_paloma2_iptw, 48) - restricted_mean_survival_time(kmf_low_let_paloma2_iptw, 48),\n",
    "     's_diff_rmst_95': paloma2_low_rmst_mos_95.difference_rmst_95,\n",
    "     'scount': paloma2.query('risk_score <= @low_cutoff_paloma2').shape[0]},\n",
    "    \n",
    "    {'trial_name': 'PALOMA-2', \n",
    "     'risk_group': 'medium', \n",
    "     's_trt_mos': plet_paloma2_median_pfs[1],\n",
    "     's_trt_mos_95': paloma2_med_rmst_mos_95.mos_A_95,\n",
    "     's_cont_mos': let_paloma2_median_pfs[1],\n",
    "     's_cont_mos_95': paloma2_med_rmst_mos_95.mos_B_95,\n",
    "     's_mos_diff': plet_paloma2_median_pfs[1] - let_paloma2_median_pfs[1], \n",
    "     'rct_trt_arm': 27.6,\n",
    "     'rct_cont_arm': 14.5,\n",
    "     'rct_mos_diff': 27.6-14.5,\n",
    "     's_trt_rmst': restricted_mean_survival_time(kmf_med_plet_paloma2_iptw, 48),\n",
    "     's_trt_rmst_95': paloma2_med_rmst_mos_95.rmst_A_95,\n",
    "     's_cont_rmst': restricted_mean_survival_time(kmf_med_let_paloma2_iptw, 48),\n",
    "     's_cont_rmst_95': paloma2_med_rmst_mos_95.rmst_B_95,\n",
    "     's_diff_rmst': restricted_mean_survival_time(kmf_med_plet_paloma2_iptw, 48) - restricted_mean_survival_time(kmf_med_let_paloma2_iptw, 48),\n",
    "     's_diff_rmst_95': paloma2_med_rmst_mos_95.difference_rmst_95,\n",
    "     'scount': paloma2.query('risk_score < @high_cutoff_paloma2 and risk_score > @low_cutoff_paloma2').shape[0]},\n",
    "    \n",
    "    {'trial_name': 'PALOMA-2', \n",
    "     'risk_group': 'high', \n",
    "     's_trt_mos': plet_paloma2_median_pfs[2],\n",
    "     's_trt_mos_95': paloma2_high_rmst_mos_95.mos_A_95,\n",
    "     's_cont_mos': let_paloma2_median_pfs[2],\n",
    "     's_cont_mos_95': paloma2_high_rmst_mos_95.mos_B_95,\n",
    "     's_mos_diff': plet_paloma2_median_pfs[2] - let_paloma2_median_pfs[2], \n",
    "     'rct_trt_arm': 27.6,\n",
    "     'rct_cont_arm': 14.5,\n",
    "     'rct_mos_diff': 27.6-14.5,\n",
    "     's_trt_rmst': restricted_mean_survival_time(kmf_high_plet_paloma2_iptw, 48),\n",
    "     's_trt_rmst_95': paloma2_high_rmst_mos_95.rmst_A_95,\n",
    "     's_cont_rmst': restricted_mean_survival_time(kmf_high_let_paloma2_iptw, 48),\n",
    "     's_cont_rmst_95': paloma2_high_rmst_mos_95.rmst_B_95,\n",
    "     's_diff_rmst': restricted_mean_survival_time(kmf_high_plet_paloma2_iptw, 48) - restricted_mean_survival_time(kmf_high_let_paloma2_iptw, 48),\n",
    "     's_diff_rmst_95': paloma2_high_rmst_mos_95.difference_rmst_95,\n",
    "     'scount': paloma2.query('risk_score >= @high_cutoff_paloma2').shape[0]},\n",
    "    \n",
    "    {'trial_name': 'PALOMA-2', \n",
    "     'risk_group': 'all', \n",
    "     's_hr': paloma2_hr_all.hazard_ratios_['let_palb'],\n",
    "     's_hr_95': [paloma2_hr_all.summary.loc['let_palb']['exp(coef) lower 95%'], paloma2_hr_all.summary.loc['let_palb']['exp(coef) upper 95%']],\n",
    "     's_trt_mos': plet_paloma2_median_pfs[3],\n",
    "     's_trt_mos_95': paloma2_all_rmst_mos_95.mos_A_95,\n",
    "     's_cont_mos': let_paloma2_median_pfs[3],\n",
    "     's_cont_mos_95': paloma2_all_rmst_mos_95.mos_B_95,\n",
    "     's_mos_diff': plet_paloma2_median_pfs[3] - let_paloma2_median_pfs[3], \n",
    "     'rct_trt_arm': 27.6,\n",
    "     'rct_cont_arm': 14.5,\n",
    "     'rct_mos_diff': 27.6-14.5,\n",
    "     'scount': paloma2.shape[0]}\n",
    "]"
   ]
  },
  {
   "cell_type": "markdown",
   "id": "ece5525d",
   "metadata": {},
   "source": [
    "### PALOMA-3: palbociclib plus fulvestrant vs. fulvestrant in hormone-sensitive metastatic breast cancer that had previously progressed on endocrine therapy\n",
    "\n",
    "**INCLUSION**\n",
    "* Received first line estrogen therapy +/ one line of chemotherapy \n",
    "* Received second (or third) line palbociclib plus fulvestrant or fulvestrant alone \n",
    "* Did not receive CDK 4/6 inhibitor, fulvestrant, or everolimus in earlier lines\n",
    "* ER/PR positive and HER-2 negative within (-inf, +30] days of start of treatment\n",
    "* No relevant comorbidities in the year preceding metastatic diagnosis \n",
    "* No CNS metastasis at time of treatment \n",
    "* ECOG cannot be 2, 3, or 4 at time of treatment \n",
    "* Adequate organ function at time of treatment "
   ]
  },
  {
   "cell_type": "markdown",
   "id": "92362c0f",
   "metadata": {},
   "source": [
    "#### 1. First line endorcine therapy + chemotherapy, second line fulvestrant +/- palbociclib"
   ]
  },
  {
   "cell_type": "code",
   "execution_count": 185,
   "id": "a94af5d1",
   "metadata": {
    "scrolled": true
   },
   "outputs": [
    {
     "data": {
      "text/plain": [
       "31677"
      ]
     },
     "execution_count": 185,
     "metadata": {},
     "output_type": "execute_result"
    }
   ],
   "source": [
    "df_full = pd.read_csv('df_risk_crude.csv', index_col = 'PatientID', dtype = {'death_status': bool})\n",
    "df_full.index.nunique()"
   ]
  },
  {
   "cell_type": "code",
   "execution_count": 186,
   "id": "c7fcaff1",
   "metadata": {},
   "outputs": [],
   "source": [
    "line_therapy = pd.read_csv('LineOfTherapy.csv')"
   ]
  },
  {
   "cell_type": "code",
   "execution_count": 187,
   "id": "8d701ee5",
   "metadata": {},
   "outputs": [],
   "source": [
    "line_therapy_fl = (\n",
    "    line_therapy[line_therapy['PatientID'].isin(df_full.index)]\n",
    "    .query('LineNumber == 1'))"
   ]
  },
  {
   "cell_type": "code",
   "execution_count": 188,
   "id": "e8c56214",
   "metadata": {},
   "outputs": [],
   "source": [
    "et = [\n",
    "    'Anastrozole',\n",
    "    'Letrozole',\n",
    "    'Exemestane',\n",
    "    'Tamoxifen']\n",
    "\n",
    "chemo = [\n",
    "    'Capecitabine',\n",
    "    'Carboplatin',\n",
    "    'Cyclophosphamide',\n",
    "    'Docetaxel',\n",
    "    'Eribulin',\n",
    "    'Gemcitabine',\n",
    "    'Paclitaxel',\n",
    "    'Paclitaxel Protein-Bound',\n",
    "    'Vinorelbine']\n",
    "\n",
    "exc =[\n",
    "    'Abemaciclib',\n",
    "    'Palbociclib',\n",
    "    'Ribociclib',\n",
    "    'Fulvestrant',\n",
    "    'Everolimus', \n",
    "    'Clinical Study Drug']"
   ]
  },
  {
   "cell_type": "code",
   "execution_count": 189,
   "id": "d4bc502e",
   "metadata": {},
   "outputs": [
    {
     "data": {
      "text/plain": [
       "Capecitabine,Letrozole                        31\n",
       "Anastrozole,Capecitabine                      25\n",
       "Anastrozole,Paclitaxel                        18\n",
       "Letrozole,Paclitaxel Protein-Bound            17\n",
       "Anastrozole,Paclitaxel Protein-Bound          14\n",
       "Capecitabine,Tamoxifen                        14\n",
       "Capecitabine,Exemestane                       13\n",
       "Letrozole,Paclitaxel                          13\n",
       "Paclitaxel,Tamoxifen                          11\n",
       "Docetaxel,Letrozole,Pertuzumab,Trastuzumab    11\n",
       "Name: LineName, dtype: int64"
      ]
     },
     "execution_count": 189,
     "metadata": {},
     "output_type": "execute_result"
    }
   ],
   "source": [
    "line_therapy_fl[line_therapy_fl['LineName'].str.contains('|'.join(et)) \n",
    "                & line_therapy_fl['LineName'].str.contains('|'.join(chemo))\n",
    "                & ~line_therapy_fl['LineName'].str.contains('|'.join(exc))].LineName.value_counts().head(10)"
   ]
  },
  {
   "cell_type": "code",
   "execution_count": 190,
   "id": "8284ee78",
   "metadata": {},
   "outputs": [],
   "source": [
    "etchemo_id = (\n",
    "    line_therapy_fl\n",
    "    [line_therapy_fl['LineName'].str.contains('|'.join(et))\n",
    "     & line_therapy_fl['LineName'].str.contains('|'.join(chemo))\n",
    "     & ~line_therapy_fl['LineName'].str.contains('|'.join(exc))]\n",
    "    .PatientID\n",
    ")"
   ]
  },
  {
   "cell_type": "code",
   "execution_count": 191,
   "id": "6d2c1277",
   "metadata": {},
   "outputs": [],
   "source": [
    "line_therapy_sec = (\n",
    "    line_therapy[line_therapy['PatientID'].isin(etchemo_id)]\n",
    "    .query('LineNumber == 2'))"
   ]
  },
  {
   "cell_type": "code",
   "execution_count": 192,
   "id": "0d32128a",
   "metadata": {},
   "outputs": [],
   "source": [
    "etchemo_pf = (\n",
    "    line_therapy_sec\n",
    "    .query('LineName == \"Fulvestrant,Palbociclib\"')\n",
    "    [['PatientID', 'StartDate']]\n",
    ")"
   ]
  },
  {
   "cell_type": "code",
   "execution_count": 193,
   "id": "1797ce4c",
   "metadata": {},
   "outputs": [
    {
     "data": {
      "text/plain": [
       "(13, 13)"
      ]
     },
     "execution_count": 193,
     "metadata": {},
     "output_type": "execute_result"
    }
   ],
   "source": [
    "row_ID(etchemo_pf)"
   ]
  },
  {
   "cell_type": "code",
   "execution_count": 194,
   "id": "afd0d6dd",
   "metadata": {},
   "outputs": [],
   "source": [
    "etchemo_f = (\n",
    "    line_therapy_sec\n",
    "    .query('LineName == \"Fulvestrant\"')\n",
    "    [['PatientID', 'StartDate']]\n",
    ")"
   ]
  },
  {
   "cell_type": "code",
   "execution_count": 195,
   "id": "b46951db",
   "metadata": {},
   "outputs": [
    {
     "data": {
      "text/plain": [
       "(13, 13)"
      ]
     },
     "execution_count": 195,
     "metadata": {},
     "output_type": "execute_result"
    }
   ],
   "source": [
    "row_ID(etchemo_pf)"
   ]
  },
  {
   "cell_type": "markdown",
   "id": "e4bfa8be",
   "metadata": {},
   "source": [
    "#### 2. First line endocrine therapy,  second line chemotherapy, third line palbociclib + fulvestrant"
   ]
  },
  {
   "cell_type": "code",
   "execution_count": 196,
   "id": "82ce8583",
   "metadata": {},
   "outputs": [
    {
     "data": {
      "text/plain": [
       "Anastrozole                2943\n",
       "Letrozole                  2536\n",
       "Tamoxifen                  1305\n",
       "Exemestane                  780\n",
       "Anastrozole,Trastuzumab      66\n",
       "Letrozole,Trastuzumab        59\n",
       "Leuprolide,Tamoxifen         56\n",
       "Letrozole,Leuprolide         40\n",
       "Goserelin,Tamoxifen          36\n",
       "Anastrozole,Leuprolide       35\n",
       "Name: LineName, dtype: int64"
      ]
     },
     "execution_count": 196,
     "metadata": {},
     "output_type": "execute_result"
    }
   ],
   "source": [
    "line_therapy_fl[line_therapy_fl['LineName'].str.contains('|'.join(et)) \n",
    "                & ~line_therapy_fl['LineName'].str.contains('|'.join(chemo))\n",
    "                & ~line_therapy_fl['LineName'].str.contains('|'.join(exc))].LineName.value_counts().head(10)"
   ]
  },
  {
   "cell_type": "code",
   "execution_count": 197,
   "id": "ec2189e2",
   "metadata": {},
   "outputs": [],
   "source": [
    "et_id = (\n",
    "    line_therapy_fl\n",
    "    [line_therapy_fl['LineName'].str.contains('|'.join(et))\n",
    "     & ~line_therapy_fl['LineName'].str.contains('|'.join(chemo))\n",
    "     & ~line_therapy_fl['LineName'].str.contains('|'.join(exc))]\n",
    "    .PatientID\n",
    ")"
   ]
  },
  {
   "cell_type": "code",
   "execution_count": 198,
   "id": "3bd53354",
   "metadata": {},
   "outputs": [],
   "source": [
    "line_therapy_sec = (\n",
    "    line_therapy[line_therapy['PatientID'].isin(et_id)]\n",
    "    .query('LineNumber == 2')\n",
    ")"
   ]
  },
  {
   "cell_type": "code",
   "execution_count": 199,
   "id": "9dc4dce8",
   "metadata": {},
   "outputs": [],
   "source": [
    "et_chemo_id = (\n",
    "    line_therapy_sec\n",
    "    [line_therapy_sec['LineName'].str.contains('|'.join(chemo))\n",
    "     & ~line_therapy_sec['LineName'].str.contains('|'.join(exc))]\n",
    "    .PatientID\n",
    ")"
   ]
  },
  {
   "cell_type": "code",
   "execution_count": 200,
   "id": "1edbe8a5",
   "metadata": {},
   "outputs": [],
   "source": [
    "et_chemo_pf = (\n",
    "    line_therapy[line_therapy['PatientID'].isin(et_chemo_id)]\n",
    "    .query('LineNumber == 3')\n",
    "    .query('LineName == \"Fulvestrant,Palbociclib\"')\n",
    "    [['PatientID', 'StartDate']]\n",
    ")"
   ]
  },
  {
   "cell_type": "code",
   "execution_count": 201,
   "id": "905b773a",
   "metadata": {},
   "outputs": [
    {
     "data": {
      "text/plain": [
       "(33, 33)"
      ]
     },
     "execution_count": 201,
     "metadata": {},
     "output_type": "execute_result"
    }
   ],
   "source": [
    "row_ID(et_chemo_pf)"
   ]
  },
  {
   "cell_type": "code",
   "execution_count": 202,
   "id": "e97c2355",
   "metadata": {},
   "outputs": [],
   "source": [
    "et_chemo_f = (\n",
    "    line_therapy[line_therapy['PatientID'].isin(et_chemo_id)]\n",
    "    .query('LineNumber == 3')\n",
    "    .query('LineName == \"Fulvestrant\"')\n",
    "    [['PatientID', 'StartDate']]\n",
    ")"
   ]
  },
  {
   "cell_type": "code",
   "execution_count": 203,
   "id": "0467aba2",
   "metadata": {},
   "outputs": [
    {
     "data": {
      "text/plain": [
       "(57, 57)"
      ]
     },
     "execution_count": 203,
     "metadata": {},
     "output_type": "execute_result"
    }
   ],
   "source": [
    "row_ID(et_chemo_f)"
   ]
  },
  {
   "cell_type": "markdown",
   "id": "e9cfd707",
   "metadata": {},
   "source": [
    "#### 3. First line chemotherapy, second line endocrine therapy, third line palbociclib + fulvestrant"
   ]
  },
  {
   "cell_type": "code",
   "execution_count": 204,
   "id": "46a3d7b1",
   "metadata": {},
   "outputs": [
    {
     "data": {
      "text/plain": [
       "Capecitabine                             1324\n",
       "Cyclophosphamide,Doxorubicin              690\n",
       "Docetaxel,Pertuzumab,Trastuzumab          676\n",
       "Paclitaxel                                589\n",
       "Paclitaxel Protein-Bound                  584\n",
       "Carboplatin,Gemcitabine                   407\n",
       "Paclitaxel,Pertuzumab,Trastuzumab         289\n",
       "Eribulin                                  261\n",
       "Carboplatin,Paclitaxel                    250\n",
       "Atezolizumab,Paclitaxel Protein-Bound     226\n",
       "Name: LineName, dtype: int64"
      ]
     },
     "execution_count": 204,
     "metadata": {},
     "output_type": "execute_result"
    }
   ],
   "source": [
    "line_therapy_fl[line_therapy_fl['LineName'].str.contains('|'.join(chemo)) \n",
    "                & ~line_therapy_fl['LineName'].str.contains('|'.join(et))\n",
    "                & ~line_therapy_fl['LineName'].str.contains('|'.join(exc))].LineName.value_counts().head(10)"
   ]
  },
  {
   "cell_type": "code",
   "execution_count": 205,
   "id": "07a7063a",
   "metadata": {},
   "outputs": [],
   "source": [
    "chemo_id = (\n",
    "    line_therapy_fl\n",
    "    [line_therapy_fl['LineName'].str.contains('|'.join(chemo))\n",
    "     & ~line_therapy_fl['LineName'].str.contains('|'.join(et))\n",
    "     & ~line_therapy_fl['LineName'].str.contains('|'.join(exc))]\n",
    "    .PatientID\n",
    ")"
   ]
  },
  {
   "cell_type": "code",
   "execution_count": 206,
   "id": "daa6a601",
   "metadata": {},
   "outputs": [],
   "source": [
    "line_therapy_sec = (\n",
    "    line_therapy[line_therapy['PatientID'].isin(chemo_id)]\n",
    "    .query('LineNumber == 2')\n",
    ")"
   ]
  },
  {
   "cell_type": "code",
   "execution_count": 207,
   "id": "b2a01105",
   "metadata": {},
   "outputs": [],
   "source": [
    "chemo_et_id = (\n",
    "    line_therapy_sec\n",
    "    [line_therapy_sec['LineName'].str.contains('|'.join(et))\n",
    "     & ~line_therapy_sec['LineName'].str.contains('|'.join(exc))]\n",
    "    .PatientID\n",
    ")"
   ]
  },
  {
   "cell_type": "code",
   "execution_count": 208,
   "id": "c272363b",
   "metadata": {},
   "outputs": [],
   "source": [
    "chemo_et_pf = (\n",
    "    line_therapy[line_therapy['PatientID'].isin(chemo_et_id)]\n",
    "    .query('LineNumber == 3')\n",
    "    .query('LineName == \"Fulvestrant,Palbociclib\"')\n",
    "    [['PatientID', 'StartDate']]\n",
    ")"
   ]
  },
  {
   "cell_type": "code",
   "execution_count": 209,
   "id": "6cb0e39c",
   "metadata": {},
   "outputs": [
    {
     "data": {
      "text/plain": [
       "(37, 37)"
      ]
     },
     "execution_count": 209,
     "metadata": {},
     "output_type": "execute_result"
    }
   ],
   "source": [
    "row_ID(chemo_et_pf)"
   ]
  },
  {
   "cell_type": "code",
   "execution_count": 210,
   "id": "2bc9ae91",
   "metadata": {},
   "outputs": [],
   "source": [
    "chemo_et_f = (\n",
    "    line_therapy[line_therapy['PatientID'].isin(chemo_et_id)]\n",
    "    .query('LineNumber == 3')\n",
    "    .query('LineName == \"Fulvestrant\"')\n",
    "    [['PatientID', 'StartDate']]\n",
    ")"
   ]
  },
  {
   "cell_type": "code",
   "execution_count": 211,
   "id": "01d1d4de",
   "metadata": {},
   "outputs": [
    {
     "data": {
      "text/plain": [
       "(42, 42)"
      ]
     },
     "execution_count": 211,
     "metadata": {},
     "output_type": "execute_result"
    }
   ],
   "source": [
    "row_ID(chemo_et_f)"
   ]
  },
  {
   "cell_type": "markdown",
   "id": "c46e6e16",
   "metadata": {},
   "source": [
    "#### 4. First line endocrine therapy, second line palbociclib + fulvestrant"
   ]
  },
  {
   "cell_type": "code",
   "execution_count": 212,
   "id": "f37f1be2",
   "metadata": {},
   "outputs": [],
   "source": [
    "et_pf = (\n",
    "    line_therapy[line_therapy['PatientID'].isin(et_id)]\n",
    "    .query('LineNumber == 2')\n",
    "    .query('LineName == \"Fulvestrant,Palbociclib\"')\n",
    "    [['PatientID', 'StartDate']]\n",
    ")"
   ]
  },
  {
   "cell_type": "code",
   "execution_count": 213,
   "id": "41688038",
   "metadata": {},
   "outputs": [
    {
     "data": {
      "text/plain": [
       "(440, 440)"
      ]
     },
     "execution_count": 213,
     "metadata": {},
     "output_type": "execute_result"
    }
   ],
   "source": [
    "row_ID(et_pf)"
   ]
  },
  {
   "cell_type": "code",
   "execution_count": 214,
   "id": "d3178d92",
   "metadata": {},
   "outputs": [],
   "source": [
    "et_f = (\n",
    "    line_therapy[line_therapy['PatientID'].isin(et_id)]\n",
    "    .query('LineNumber == 2')\n",
    "    .query('LineName == \"Fulvestrant\"')\n",
    "    [['PatientID', 'StartDate']]\n",
    ")"
   ]
  },
  {
   "cell_type": "code",
   "execution_count": 215,
   "id": "c9936de3",
   "metadata": {},
   "outputs": [
    {
     "data": {
      "text/plain": [
       "(784, 784)"
      ]
     },
     "execution_count": 215,
     "metadata": {},
     "output_type": "execute_result"
    }
   ],
   "source": [
    "row_ID(et_f)"
   ]
  },
  {
   "cell_type": "code",
   "execution_count": 216,
   "id": "0d24d56a",
   "metadata": {},
   "outputs": [],
   "source": [
    "paloma3_pf = pd.concat([etchemo_pf, et_chemo_pf, chemo_et_pf, et_pf])"
   ]
  },
  {
   "cell_type": "code",
   "execution_count": 217,
   "id": "451a797b",
   "metadata": {},
   "outputs": [],
   "source": [
    "paloma3_pf.loc[:, 'pfulv'] = 1"
   ]
  },
  {
   "cell_type": "code",
   "execution_count": 218,
   "id": "c877ee42",
   "metadata": {},
   "outputs": [
    {
     "data": {
      "text/plain": [
       "(523, 523)"
      ]
     },
     "execution_count": 218,
     "metadata": {},
     "output_type": "execute_result"
    }
   ],
   "source": [
    "row_ID(paloma3_pf)"
   ]
  },
  {
   "cell_type": "code",
   "execution_count": 219,
   "id": "56d476ef",
   "metadata": {},
   "outputs": [],
   "source": [
    "paloma3_f = pd.concat([etchemo_f, et_chemo_f, chemo_et_f, et_f])"
   ]
  },
  {
   "cell_type": "code",
   "execution_count": 220,
   "id": "80f1e765",
   "metadata": {},
   "outputs": [],
   "source": [
    "paloma3_f.loc[:, 'pfulv'] = 0"
   ]
  },
  {
   "cell_type": "code",
   "execution_count": 221,
   "id": "b96205d4",
   "metadata": {},
   "outputs": [
    {
     "data": {
      "text/plain": [
       "(897, 897)"
      ]
     },
     "execution_count": 221,
     "metadata": {},
     "output_type": "execute_result"
    }
   ],
   "source": [
    "row_ID(paloma3_f)"
   ]
  },
  {
   "cell_type": "code",
   "execution_count": 222,
   "id": "71877596",
   "metadata": {},
   "outputs": [],
   "source": [
    "paloma3 = pd.concat([paloma3_pf, paloma3_f])"
   ]
  },
  {
   "cell_type": "code",
   "execution_count": 223,
   "id": "7d9c9056",
   "metadata": {},
   "outputs": [
    {
     "data": {
      "text/plain": [
       "(1420, 1420)"
      ]
     },
     "execution_count": 223,
     "metadata": {},
     "output_type": "execute_result"
    }
   ],
   "source": [
    "row_ID(paloma3)"
   ]
  },
  {
   "cell_type": "code",
   "execution_count": 224,
   "id": "c38f4814",
   "metadata": {},
   "outputs": [],
   "source": [
    "paloma3 = pd.merge(paloma3, df_full, on = 'PatientID', how = 'left')"
   ]
  },
  {
   "cell_type": "code",
   "execution_count": 225,
   "id": "631d4012",
   "metadata": {},
   "outputs": [
    {
     "data": {
      "text/plain": [
       "(1420, 1420)"
      ]
     },
     "execution_count": 225,
     "metadata": {},
     "output_type": "execute_result"
    }
   ],
   "source": [
    "row_ID(paloma3)"
   ]
  },
  {
   "cell_type": "code",
   "execution_count": 226,
   "id": "4c551b91",
   "metadata": {},
   "outputs": [],
   "source": [
    "paloma3['StartDate'] = pd.to_datetime(paloma3['StartDate'])"
   ]
  },
  {
   "cell_type": "markdown",
   "id": "2492c884",
   "metadata": {},
   "source": [
    "#### ER- or PR-positive and HER-2 negative "
   ]
  },
  {
   "cell_type": "code",
   "execution_count": 227,
   "id": "9a436ba4",
   "metadata": {},
   "outputs": [],
   "source": [
    "biomarkers = pd.read_csv('Enhanced_MetBreastBiomarkers.csv')"
   ]
  },
  {
   "cell_type": "code",
   "execution_count": 228,
   "id": "857d64e4",
   "metadata": {},
   "outputs": [],
   "source": [
    "biomarkers = biomarkers[biomarkers['PatientID'].isin(paloma3['PatientID'])]"
   ]
  },
  {
   "cell_type": "code",
   "execution_count": 229,
   "id": "09ee80aa",
   "metadata": {},
   "outputs": [
    {
     "data": {
      "text/plain": [
       "(10590, 1415)"
      ]
     },
     "execution_count": 229,
     "metadata": {},
     "output_type": "execute_result"
    }
   ],
   "source": [
    "row_ID(biomarkers)"
   ]
  },
  {
   "cell_type": "code",
   "execution_count": 230,
   "id": "15c636fe",
   "metadata": {},
   "outputs": [],
   "source": [
    "biomarkers = pd.merge(biomarkers, paloma3[['PatientID', 'StartDate']], on = 'PatientID', how = 'left')"
   ]
  },
  {
   "cell_type": "code",
   "execution_count": 231,
   "id": "d8b555d4",
   "metadata": {},
   "outputs": [
    {
     "data": {
      "text/plain": [
       "(10590, 1415)"
      ]
     },
     "execution_count": 231,
     "metadata": {},
     "output_type": "execute_result"
    }
   ],
   "source": [
    "row_ID(biomarkers)"
   ]
  },
  {
   "cell_type": "code",
   "execution_count": 232,
   "id": "f3d34e6f",
   "metadata": {},
   "outputs": [],
   "source": [
    "biomarkers['StartDate'] = pd.to_datetime(biomarkers['StartDate'])"
   ]
  },
  {
   "cell_type": "code",
   "execution_count": 233,
   "id": "9947a6ed",
   "metadata": {},
   "outputs": [],
   "source": [
    "biomarkers['ResultDate'] = pd.to_datetime(biomarkers['ResultDate'])"
   ]
  },
  {
   "cell_type": "code",
   "execution_count": 234,
   "id": "c7fb5a63",
   "metadata": {},
   "outputs": [],
   "source": [
    "biomarkers['SpecimenReceivedDate'] = pd.to_datetime(biomarkers['SpecimenReceivedDate'])"
   ]
  },
  {
   "cell_type": "code",
   "execution_count": 235,
   "id": "fcac4f48",
   "metadata": {},
   "outputs": [],
   "source": [
    "biomarkers.loc[:, 'result_date'] = (\n",
    "    np.where(biomarkers['ResultDate'].isna(), biomarkers['SpecimenReceivedDate'], biomarkers['ResultDate'])\n",
    ")"
   ]
  },
  {
   "cell_type": "code",
   "execution_count": 236,
   "id": "2a145afd",
   "metadata": {},
   "outputs": [],
   "source": [
    "biomarkers.loc[:, 'date_diff'] = (biomarkers['result_date'] - biomarkers['StartDate']).dt.days"
   ]
  },
  {
   "cell_type": "code",
   "execution_count": 237,
   "id": "3a42e43c",
   "metadata": {},
   "outputs": [],
   "source": [
    "er_status = (\n",
    "    biomarkers\n",
    "    .query('BiomarkerName == \"ER\"')\n",
    "    .query('date_diff <= 30')\n",
    "    .query('BiomarkerStatus == \"Positive\" or BiomarkerStatus == \"Negative\"') # don't select unknown values \n",
    "    .sort_values(['PatientID', 'date_diff'], ascending = [True, False]) # select ER status closest to treatment start\n",
    "    .drop_duplicates(subset = ['PatientID'], keep = 'first')\n",
    "    [['PatientID', 'BiomarkerStatus']]\n",
    "    .rename(columns = {'BiomarkerStatus': 'er'})\n",
    "   )"
   ]
  },
  {
   "cell_type": "code",
   "execution_count": 238,
   "id": "4a02a8a6",
   "metadata": {},
   "outputs": [
    {
     "data": {
      "text/plain": [
       "(1283, 1283)"
      ]
     },
     "execution_count": 238,
     "metadata": {},
     "output_type": "execute_result"
    }
   ],
   "source": [
    "row_ID(er_status)"
   ]
  },
  {
   "cell_type": "code",
   "execution_count": 239,
   "id": "8b6ac90b",
   "metadata": {},
   "outputs": [],
   "source": [
    "pr_status = (\n",
    "    biomarkers\n",
    "    .query('BiomarkerName == \"PR\"')\n",
    "    .query('date_diff <= 30')\n",
    "    .query('BiomarkerStatus == \"Positive\" or BiomarkerStatus == \"Negative\"') # don't select unknown values \n",
    "    .sort_values(['PatientID', 'date_diff'], ascending = [True, False]) # select ER status closest to treatment start\n",
    "    .drop_duplicates(subset = ['PatientID'], keep = 'first')\n",
    "    [['PatientID', 'BiomarkerStatus']]\n",
    "    .rename(columns = {'BiomarkerStatus': 'pr'})\n",
    "   )"
   ]
  },
  {
   "cell_type": "code",
   "execution_count": 240,
   "id": "4f6f31a9",
   "metadata": {},
   "outputs": [
    {
     "data": {
      "text/plain": [
       "(1243, 1243)"
      ]
     },
     "execution_count": 240,
     "metadata": {},
     "output_type": "execute_result"
    }
   ],
   "source": [
    "row_ID(pr_status)"
   ]
  },
  {
   "cell_type": "code",
   "execution_count": 241,
   "id": "4ab32f6c",
   "metadata": {},
   "outputs": [],
   "source": [
    "her2_status = (\n",
    "    biomarkers\n",
    "    .query('BiomarkerName == \"HER2\"')\n",
    "    .query('date_diff <= 30')\n",
    "    .sort_values(['PatientID', 'date_diff'], ascending = [True, False])\n",
    "    .drop_duplicates(subset = ['PatientID'], keep = 'first')\n",
    "    [['PatientID', 'BiomarkerStatus']]\n",
    "    .rename(columns = {'BiomarkerStatus': 'her2'})\n",
    ")"
   ]
  },
  {
   "cell_type": "code",
   "execution_count": 242,
   "id": "103f6426",
   "metadata": {},
   "outputs": [
    {
     "data": {
      "text/plain": [
       "(1236, 1236)"
      ]
     },
     "execution_count": 242,
     "metadata": {},
     "output_type": "execute_result"
    }
   ],
   "source": [
    "row_ID(her2_status)"
   ]
  },
  {
   "cell_type": "code",
   "execution_count": 243,
   "id": "4ffa7810",
   "metadata": {},
   "outputs": [],
   "source": [
    "paloma3 = pd.merge(paloma3, er_status, on  = 'PatientID', how = 'left')"
   ]
  },
  {
   "cell_type": "code",
   "execution_count": 244,
   "id": "05fe2f2d",
   "metadata": {},
   "outputs": [
    {
     "data": {
      "text/plain": [
       "(1420, 1420)"
      ]
     },
     "execution_count": 244,
     "metadata": {},
     "output_type": "execute_result"
    }
   ],
   "source": [
    "row_ID(paloma3)"
   ]
  },
  {
   "cell_type": "code",
   "execution_count": 245,
   "id": "0fdc16f8",
   "metadata": {},
   "outputs": [],
   "source": [
    "paloma3 = pd.merge(paloma3, pr_status, on  = 'PatientID', how = 'left')"
   ]
  },
  {
   "cell_type": "code",
   "execution_count": 246,
   "id": "d1f6fe1a",
   "metadata": {},
   "outputs": [
    {
     "data": {
      "text/plain": [
       "(1420, 1420)"
      ]
     },
     "execution_count": 246,
     "metadata": {},
     "output_type": "execute_result"
    }
   ],
   "source": [
    "row_ID(paloma3)"
   ]
  },
  {
   "cell_type": "code",
   "execution_count": 247,
   "id": "3d84922e",
   "metadata": {},
   "outputs": [],
   "source": [
    "paloma3 = pd.merge(paloma3, her2_status, on  = 'PatientID', how = 'left')"
   ]
  },
  {
   "cell_type": "code",
   "execution_count": 248,
   "id": "d975e703",
   "metadata": {},
   "outputs": [
    {
     "data": {
      "text/plain": [
       "(1420, 1420)"
      ]
     },
     "execution_count": 248,
     "metadata": {},
     "output_type": "execute_result"
    }
   ],
   "source": [
    "row_ID(paloma3)"
   ]
  },
  {
   "cell_type": "code",
   "execution_count": 249,
   "id": "74dbdd0d",
   "metadata": {},
   "outputs": [],
   "source": [
    "her2_neg = ['IHC negative (0-1+)',\n",
    "            'FISH negative/not amplified',\n",
    "            'IHC equivocal (2+)',\n",
    "            'Negative NOS',\n",
    "            'NGS negative (ERBB2 not amplified)',\n",
    "            'FISH equivocal',\n",
    "            'Equivocal NOS',\n",
    "            'NGS equivocal (ERBB2 amplification equivocal)']\n",
    "\n",
    "paloma3 = (\n",
    "    paloma3\n",
    "    .query('er == \"Positive\" or pr == \"Positive\"')\n",
    "    .query('her2== @her2_neg')\n",
    ")"
   ]
  },
  {
   "cell_type": "code",
   "execution_count": 250,
   "id": "36f91e22",
   "metadata": {},
   "outputs": [
    {
     "data": {
      "text/plain": [
       "(1153, 1153)"
      ]
     },
     "execution_count": 250,
     "metadata": {},
     "output_type": "execute_result"
    }
   ],
   "source": [
    "row_ID(paloma3)"
   ]
  },
  {
   "cell_type": "markdown",
   "id": "822ca0e0",
   "metadata": {},
   "source": [
    "#### Time from treatment to progression/death or censor "
   ]
  },
  {
   "cell_type": "code",
   "execution_count": 251,
   "id": "66999071",
   "metadata": {},
   "outputs": [],
   "source": [
    "mortality_tr = pd.read_csv('mortality_cleaned_tr.csv')"
   ]
  },
  {
   "cell_type": "code",
   "execution_count": 252,
   "id": "2e1550e0",
   "metadata": {},
   "outputs": [],
   "source": [
    "mortality_te = pd.read_csv('mortality_cleaned_te.csv')"
   ]
  },
  {
   "cell_type": "code",
   "execution_count": 253,
   "id": "313eec66",
   "metadata": {},
   "outputs": [],
   "source": [
    "mortality_tr = mortality_tr[['PatientID', 'death_date', 'last_activity']]"
   ]
  },
  {
   "cell_type": "code",
   "execution_count": 254,
   "id": "54cb191b",
   "metadata": {},
   "outputs": [],
   "source": [
    "mortality_te = mortality_te[['PatientID', 'death_date', 'last_activity']]"
   ]
  },
  {
   "cell_type": "code",
   "execution_count": 255,
   "id": "2d7e0258",
   "metadata": {},
   "outputs": [
    {
     "data": {
      "text/plain": [
       "(31677, 31677)"
      ]
     },
     "execution_count": 255,
     "metadata": {},
     "output_type": "execute_result"
    }
   ],
   "source": [
    "mortality = pd.concat([mortality_tr, mortality_te], ignore_index = True)\n",
    "row_ID(mortality)"
   ]
  },
  {
   "cell_type": "code",
   "execution_count": 256,
   "id": "9960a311",
   "metadata": {},
   "outputs": [],
   "source": [
    "mortality.loc[:, 'last_activity'] = pd.to_datetime(mortality['last_activity'])"
   ]
  },
  {
   "cell_type": "code",
   "execution_count": 257,
   "id": "46988af3",
   "metadata": {},
   "outputs": [],
   "source": [
    "mortality.loc[:, 'death_date'] = pd.to_datetime(mortality['death_date'])"
   ]
  },
  {
   "cell_type": "code",
   "execution_count": 258,
   "id": "e9c079a4",
   "metadata": {},
   "outputs": [
    {
     "data": {
      "text/plain": [
       "(31677, 31677)"
      ]
     },
     "execution_count": 258,
     "metadata": {},
     "output_type": "execute_result"
    }
   ],
   "source": [
    "row_ID(mortality)"
   ]
  },
  {
   "cell_type": "code",
   "execution_count": 259,
   "id": "e386b8d2",
   "metadata": {},
   "outputs": [],
   "source": [
    "paloma3 = pd.merge(paloma3, mortality, on = 'PatientID', how = 'left')"
   ]
  },
  {
   "cell_type": "code",
   "execution_count": 260,
   "id": "8334a77d",
   "metadata": {},
   "outputs": [
    {
     "data": {
      "text/plain": [
       "(1153, 1153)"
      ]
     },
     "execution_count": 260,
     "metadata": {},
     "output_type": "execute_result"
    }
   ],
   "source": [
    "row_ID(paloma3)"
   ]
  },
  {
   "cell_type": "code",
   "execution_count": 261,
   "id": "1a3c1387",
   "metadata": {},
   "outputs": [],
   "source": [
    "progression = pd.read_csv ('Enhanced_MetBreastProgression.csv')"
   ]
  },
  {
   "cell_type": "code",
   "execution_count": 262,
   "id": "256de4a9",
   "metadata": {},
   "outputs": [],
   "source": [
    "progression = progression[progression['PatientID'].isin(paloma3['PatientID'])][['PatientID', 'ProgressionDate']]"
   ]
  },
  {
   "cell_type": "code",
   "execution_count": 263,
   "id": "40f784aa",
   "metadata": {},
   "outputs": [],
   "source": [
    "progression['ProgressionDate'] = pd.to_datetime(progression['ProgressionDate'])"
   ]
  },
  {
   "cell_type": "code",
   "execution_count": 264,
   "id": "e2e7f38a",
   "metadata": {},
   "outputs": [],
   "source": [
    "progression = pd.merge(progression, paloma3[['PatientID', 'StartDate']], on = 'PatientID', how = 'left')"
   ]
  },
  {
   "cell_type": "code",
   "execution_count": 265,
   "id": "45c484c4",
   "metadata": {},
   "outputs": [],
   "source": [
    "progression['date_diff'] = (progression['ProgressionDate'] - progression['StartDate']).dt.days"
   ]
  },
  {
   "cell_type": "code",
   "execution_count": 266,
   "id": "2b1e9f85",
   "metadata": {},
   "outputs": [],
   "source": [
    "progression = (\n",
    "    progression.query('date_diff > 0')\n",
    "    .sort_values(['PatientID', 'ProgressionDate'], ascending = [True, True])\n",
    "    .drop_duplicates(subset = 'PatientID', keep = 'first')\n",
    ")   "
   ]
  },
  {
   "cell_type": "code",
   "execution_count": 267,
   "id": "d5de994f",
   "metadata": {},
   "outputs": [
    {
     "data": {
      "text/plain": [
       "(831, 831)"
      ]
     },
     "execution_count": 267,
     "metadata": {},
     "output_type": "execute_result"
    }
   ],
   "source": [
    "row_ID(progression)"
   ]
  },
  {
   "cell_type": "code",
   "execution_count": 268,
   "id": "42e616e4",
   "metadata": {},
   "outputs": [],
   "source": [
    "progression = progression[['PatientID', 'ProgressionDate']]"
   ]
  },
  {
   "cell_type": "code",
   "execution_count": 269,
   "id": "170b6967",
   "metadata": {},
   "outputs": [],
   "source": [
    "paloma3 = pd.merge(paloma3, progression, on = 'PatientID', how = 'left')"
   ]
  },
  {
   "cell_type": "code",
   "execution_count": 270,
   "id": "100b20e1",
   "metadata": {},
   "outputs": [
    {
     "data": {
      "text/plain": [
       "(1153, 1153)"
      ]
     },
     "execution_count": 270,
     "metadata": {},
     "output_type": "execute_result"
    }
   ],
   "source": [
    "row_ID(paloma3)"
   ]
  },
  {
   "cell_type": "code",
   "execution_count": 271,
   "id": "8f244ce6",
   "metadata": {},
   "outputs": [
    {
     "data": {
      "text/plain": [
       "0.2792714657415438"
      ]
     },
     "execution_count": 271,
     "metadata": {},
     "output_type": "execute_result"
    }
   ],
   "source": [
    "# Percent without progression date\n",
    "len(paloma3.query('ProgressionDate.isna()', engine = 'python'))/len(paloma3)"
   ]
  },
  {
   "cell_type": "code",
   "execution_count": 272,
   "id": "b8be7245",
   "metadata": {},
   "outputs": [],
   "source": [
    "conditions = [\n",
    "    (paloma3.ProgressionDate.notna()),\n",
    "    ((paloma3.ProgressionDate.isna()) & (paloma3['death_status'] == 1)),\n",
    "    ((paloma3.ProgressionDate.isna()) & (paloma3['death_status'] == 0))]\n",
    "\n",
    "choices = [\n",
    "    (paloma3['ProgressionDate'] - paloma3['StartDate']).dt.days,\n",
    "    (paloma3['death_date'] - paloma3['StartDate']).dt.days,\n",
    "    (paloma3['last_activity'] - paloma3['StartDate']).dt.days]\n",
    "\n",
    "paloma3.loc[:, 'time_prog_treatment'] = np.select(conditions, choices)"
   ]
  },
  {
   "cell_type": "code",
   "execution_count": 273,
   "id": "59d31ac9",
   "metadata": {},
   "outputs": [],
   "source": [
    "paloma3 = paloma3.query('time_prog_treatment >= 0')"
   ]
  },
  {
   "cell_type": "code",
   "execution_count": 274,
   "id": "37a1e33b",
   "metadata": {},
   "outputs": [
    {
     "data": {
      "text/plain": [
       "1153"
      ]
     },
     "execution_count": 274,
     "metadata": {},
     "output_type": "execute_result"
    }
   ],
   "source": [
    "len(paloma3)"
   ]
  },
  {
   "cell_type": "code",
   "execution_count": 275,
   "id": "8ac0ef13",
   "metadata": {},
   "outputs": [],
   "source": [
    "conditions = [\n",
    "    (paloma3.ProgressionDate.notna()),\n",
    "    ((paloma3.ProgressionDate.isna()) & (paloma3['death_status'] == 1)),\n",
    "    ((paloma3.ProgressionDate.isna()) & (paloma3['death_status'] == 0))]\n",
    "\n",
    "choices = [1, 1, 0]\n",
    "\n",
    "paloma3.loc[:, 'pfs_status'] = np.select(conditions, choices)"
   ]
  },
  {
   "cell_type": "markdown",
   "id": "006e2d8d",
   "metadata": {},
   "source": [
    "#### Patient count "
   ]
  },
  {
   "cell_type": "code",
   "execution_count": 276,
   "id": "e4c52784",
   "metadata": {},
   "outputs": [
    {
     "data": {
      "text/plain": [
       "(1153, 1153)"
      ]
     },
     "execution_count": 276,
     "metadata": {},
     "output_type": "execute_result"
    }
   ],
   "source": [
    "row_ID(paloma3)"
   ]
  },
  {
   "cell_type": "code",
   "execution_count": 277,
   "id": "2572ae68",
   "metadata": {},
   "outputs": [],
   "source": [
    "# Exclude those with CNS metastatsis at time of metastatic diagnosis \n",
    "paloma3 = paloma3[~paloma3['PatientID'].isin(cns_sec_IDs)]"
   ]
  },
  {
   "cell_type": "code",
   "execution_count": 278,
   "id": "abffd2ac",
   "metadata": {},
   "outputs": [],
   "source": [
    "# Exlcude those with other relevant comorbidities\n",
    "paloma3 = paloma3[~paloma3['PatientID'].isin(other_comorb_IDs)]"
   ]
  },
  {
   "cell_type": "code",
   "execution_count": 279,
   "id": "344091e5",
   "metadata": {},
   "outputs": [],
   "source": [
    "# Exclude those with ECOG 2, 3, or 4 \n",
    "paloma3 = paloma3[~paloma3['PatientID'].isin(ecog_sec_234_IDs)]"
   ]
  },
  {
   "cell_type": "code",
   "execution_count": 280,
   "id": "158d23da",
   "metadata": {},
   "outputs": [],
   "source": [
    "# Exclude those with abnormal organ function at time of second line treatment \n",
    "paloma3 = paloma3[~paloma3['PatientID'].isin(ab_organ_sec_IDs)]"
   ]
  },
  {
   "cell_type": "code",
   "execution_count": 281,
   "id": "1e5841e1",
   "metadata": {},
   "outputs": [
    {
     "data": {
      "text/plain": [
       "(940, 940)"
      ]
     },
     "execution_count": 281,
     "metadata": {},
     "output_type": "execute_result"
    }
   ],
   "source": [
    "row_ID(paloma3)"
   ]
  },
  {
   "cell_type": "code",
   "execution_count": 282,
   "id": "7598f07b",
   "metadata": {},
   "outputs": [],
   "source": [
    "low_cutoff_paloma3 = cutoff.loc['paloma3'].low"
   ]
  },
  {
   "cell_type": "code",
   "execution_count": 283,
   "id": "386d601c",
   "metadata": {},
   "outputs": [],
   "source": [
    "high_cutoff_paloma3 = cutoff.loc['paloma3'].high"
   ]
  },
  {
   "cell_type": "code",
   "execution_count": 284,
   "id": "40aa7600",
   "metadata": {},
   "outputs": [
    {
     "name": "stdout",
     "output_type": "stream",
     "text": [
      "Palobociclib plus fulvestrant total: 382\n",
      "High risk: 106\n",
      "Med risk: 129\n",
      "Low risk: 147\n"
     ]
    }
   ],
   "source": [
    "print('Palobociclib plus fulvestrant total:',  paloma3.query('pfulv == 1').shape[0])\n",
    "print('High risk:', paloma3.query('pfulv == 1').query('risk_score >= @high_cutoff_paloma3').shape[0])\n",
    "print('Med risk:', paloma3.query('pfulv == 1').query('risk_score < @high_cutoff_paloma3 and risk_score > @low_cutoff_paloma3').shape[0])\n",
    "print('Low risk:', paloma3.query('pfulv == 1').query('risk_score <= @low_cutoff_paloma3').shape[0])"
   ]
  },
  {
   "cell_type": "code",
   "execution_count": 285,
   "id": "0c895d3f",
   "metadata": {},
   "outputs": [
    {
     "name": "stdout",
     "output_type": "stream",
     "text": [
      "Fulvestrant total: 558\n",
      "High risk: 161\n",
      "Med risk: 195\n",
      "Low risk: 202\n"
     ]
    }
   ],
   "source": [
    "print('Fulvestrant total:',  paloma3.query('pfulv == 0').shape[0])\n",
    "print('High risk:', paloma3.query('pfulv == 0').query('risk_score >= @high_cutoff_paloma3').shape[0])\n",
    "print('Med risk:', paloma3.query('pfulv == 0').query('risk_score < @high_cutoff_paloma3 and risk_score > @low_cutoff_paloma3').shape[0])\n",
    "print('Low risk:', paloma3.query('pfulv == 0').query('risk_score <= @low_cutoff_paloma3').shape[0])"
   ]
  },
  {
   "cell_type": "markdown",
   "id": "be6dfb34",
   "metadata": {},
   "source": [
    "#### Survival with covariate balancing "
   ]
  },
  {
   "cell_type": "code",
   "execution_count": 286,
   "id": "826fa057",
   "metadata": {},
   "outputs": [],
   "source": [
    "paloma3 = paloma3.set_index('PatientID')"
   ]
  },
  {
   "cell_type": "code",
   "execution_count": 287,
   "id": "e3a4f67a",
   "metadata": {},
   "outputs": [],
   "source": [
    "conditions = [\n",
    "    (paloma3['thorax_met'] == 1) |\n",
    "    (paloma3['liver_met'] == 1) |\n",
    "    (paloma3['cns_met'] == 1) |\n",
    "    (paloma3['peritoneum_met'] == 1) |\n",
    "    (paloma3['other_met'] == 1),\n",
    "    (paloma3['bone_met'] == 0) &\n",
    "    (paloma3['thorax_met'] == 0) &\n",
    "    (paloma3['lymph_met'] == 0) &\n",
    "    (paloma3['liver_met'] == 0) &\n",
    "    (paloma3['cns_met'] == 0) &\n",
    "    (paloma3['skin_met'] == 0) &\n",
    "    (paloma3['peritoneum_met'] == 0) &\n",
    "    (paloma3['other_met'] == 0)\n",
    "]\n",
    "\n",
    "choices = ['visceral', 'unknown']\n",
    "\n",
    "paloma3['met_site'] = np.select(conditions, choices, default = 'nonvisceral')"
   ]
  },
  {
   "cell_type": "code",
   "execution_count": 288,
   "id": "f7c6829e",
   "metadata": {},
   "outputs": [],
   "source": [
    "paloma3['met_cat'] = pd.cut(paloma3['met_year'],\n",
    "                            bins = [2010, 2016, float('inf')],\n",
    "                            labels = ['11-16', '17-22'])"
   ]
  },
  {
   "cell_type": "code",
   "execution_count": 289,
   "id": "e1daef97",
   "metadata": {},
   "outputs": [],
   "source": [
    "conditions = [\n",
    "    ((paloma3['ecog_diagnosis'] == \"1.0\") | (paloma3['ecog_diagnosis'] == \"0.0\")),  \n",
    "    ((paloma3['ecog_diagnosis'] == \"2.0\") | (paloma3['ecog_diagnosis'] == \"3.0\"))\n",
    "]\n",
    "\n",
    "choices = ['lt_2', 'gte_2']\n",
    "\n",
    "paloma3['ecog_2'] = np.select(conditions, choices, default = 'unknown')"
   ]
  },
  {
   "cell_type": "code",
   "execution_count": 290,
   "id": "64cdd933",
   "metadata": {},
   "outputs": [],
   "source": [
    "paloma3_iptw = paloma3.filter(items = ['pfs_status',\n",
    "                                       'time_prog_treatment',\n",
    "                                       'pfulv',\n",
    "                                       'age',\n",
    "                                       'gender',\n",
    "                                       'race',\n",
    "                                       'p_type',\n",
    "                                       'delta_met_diagnosis',\n",
    "                                       'met_cat',\n",
    "                                       'commercial',\n",
    "                                       'medicare',\n",
    "                                       'medicaid',\n",
    "                                       'ses',\n",
    "                                       'ecog_2',\n",
    "                                       'met_site',\n",
    "                                       'albumin_diag', \n",
    "                                       'weight_pct_change',\n",
    "                                       'risk_score'])"
   ]
  },
  {
   "cell_type": "code",
   "execution_count": 291,
   "id": "932fed08",
   "metadata": {},
   "outputs": [
    {
     "data": {
      "text/plain": [
       "pfs_status                int64\n",
       "time_prog_treatment     float64\n",
       "pfulv                     int64\n",
       "age                       int64\n",
       "gender                   object\n",
       "race                     object\n",
       "p_type                   object\n",
       "delta_met_diagnosis       int64\n",
       "met_cat                category\n",
       "commercial              float64\n",
       "medicare                float64\n",
       "medicaid                float64\n",
       "ses                     float64\n",
       "ecog_2                   object\n",
       "met_site                 object\n",
       "albumin_diag            float64\n",
       "weight_pct_change       float64\n",
       "risk_score              float64\n",
       "dtype: object"
      ]
     },
     "execution_count": 291,
     "metadata": {},
     "output_type": "execute_result"
    }
   ],
   "source": [
    "paloma3_iptw.dtypes"
   ]
  },
  {
   "cell_type": "code",
   "execution_count": 292,
   "id": "0de8e3e0",
   "metadata": {},
   "outputs": [],
   "source": [
    "to_be_categorical = list(paloma3_iptw.select_dtypes(include = ['object']).columns)"
   ]
  },
  {
   "cell_type": "code",
   "execution_count": 293,
   "id": "0247feef",
   "metadata": {},
   "outputs": [
    {
     "data": {
      "text/plain": [
       "['gender', 'race', 'p_type', 'ecog_2', 'met_site']"
      ]
     },
     "execution_count": 293,
     "metadata": {},
     "output_type": "execute_result"
    }
   ],
   "source": [
    "to_be_categorical"
   ]
  },
  {
   "cell_type": "code",
   "execution_count": 294,
   "id": "e149dfb3",
   "metadata": {},
   "outputs": [],
   "source": [
    "to_be_categorical.append('met_cat')"
   ]
  },
  {
   "cell_type": "code",
   "execution_count": 295,
   "id": "610d99cf",
   "metadata": {},
   "outputs": [],
   "source": [
    "to_be_categorical.append('ses')"
   ]
  },
  {
   "cell_type": "code",
   "execution_count": 296,
   "id": "fefb6e03",
   "metadata": {},
   "outputs": [],
   "source": [
    "# Convert variables in list to categorical.\n",
    "for x in list(to_be_categorical):\n",
    "    paloma3_iptw[x] = paloma3_iptw[x].astype('category')"
   ]
  },
  {
   "cell_type": "code",
   "execution_count": 297,
   "id": "30e55bbf",
   "metadata": {},
   "outputs": [],
   "source": [
    "# List of numeric variables, excluding binary variables. \n",
    "numerical_features = ['age', 'delta_met_diagnosis', 'albumin_diag', 'weight_pct_change', 'risk_score']\n",
    "\n",
    "# Transformer will first calculate column median and impute, and then apply a standard scaler. \n",
    "numerical_transformer = Pipeline(steps = [\n",
    "    ('imputer', SimpleImputer(strategy = 'median')),\n",
    "    ('std_scaler', StandardScaler())])"
   ]
  },
  {
   "cell_type": "code",
   "execution_count": 298,
   "id": "434d288b",
   "metadata": {},
   "outputs": [],
   "source": [
    "# List of categorical features.\n",
    "categorical_features = list(paloma3_iptw.select_dtypes(include = ['category']).columns)\n",
    "\n",
    "# One-hot-encode categorical features.\n",
    "categorical_transformer = OneHotEncoder(handle_unknown = 'ignore')"
   ]
  },
  {
   "cell_type": "code",
   "execution_count": 299,
   "id": "e52a5987",
   "metadata": {},
   "outputs": [],
   "source": [
    "preprocessor = ColumnTransformer(\n",
    "    transformers = [\n",
    "        ('num', numerical_transformer, numerical_features),\n",
    "        ('cat', categorical_transformer, categorical_features)],\n",
    "    remainder = 'passthrough')"
   ]
  },
  {
   "cell_type": "code",
   "execution_count": 300,
   "id": "9a48450a",
   "metadata": {},
   "outputs": [],
   "source": [
    "paloma3_iptw_low = (\n",
    "    paloma3_iptw\n",
    "    .query('risk_score <= @low_cutoff_paloma3'))\n",
    "\n",
    "paloma3_iptw_med = (\n",
    "    paloma3_iptw\n",
    "    .query('risk_score < @high_cutoff_paloma3 and risk_score > @low_cutoff_paloma3'))\n",
    "\n",
    "paloma3_iptw_high = (\n",
    "    paloma3_iptw\n",
    "    .query('risk_score >= @high_cutoff_paloma3'))\n",
    "\n",
    "paloma3_iptw_all = paloma3_iptw"
   ]
  },
  {
   "cell_type": "code",
   "execution_count": 301,
   "id": "7a82e63a",
   "metadata": {},
   "outputs": [],
   "source": [
    "paloma3_low_x = preprocessor.fit_transform(paloma3_iptw_low.filter(items = ['age',\n",
    "                                                                            'gender',\n",
    "                                                                            'race',\n",
    "                                                                            'p_type',\n",
    "                                                                            'delta_met_diagnosis',\n",
    "                                                                            'met_cat',\n",
    "                                                                            'commercial',\n",
    "                                                                            'medicare',\n",
    "                                                                            'medicaid',\n",
    "                                                                            'ses',\n",
    "                                                                            'ecog_2',\n",
    "                                                                            'met_site', \n",
    "                                                                            'albumin_diag', \n",
    "                                                                            'weight_pct_change', \n",
    "                                                                            'risk_score']))\n",
    "\n",
    "paloma3_med_x = preprocessor.fit_transform(paloma3_iptw_med.filter(items = ['age',\n",
    "                                                                            'gender',\n",
    "                                                                            'race',\n",
    "                                                                            'p_type',\n",
    "                                                                            'delta_met_diagnosis',\n",
    "                                                                            'met_cat',\n",
    "                                                                            'commercial',\n",
    "                                                                            'medicare',\n",
    "                                                                            'medicaid',\n",
    "                                                                            'ses',\n",
    "                                                                            'ecog_2',\n",
    "                                                                            'met_site', \n",
    "                                                                            'albumin_diag', \n",
    "                                                                            'weight_pct_change', \n",
    "                                                                            'risk_score']))\n",
    "\n",
    "paloma3_high_x = preprocessor.fit_transform(paloma3_iptw_high.filter(items = ['age',\n",
    "                                                                              'gender',\n",
    "                                                                              'race',\n",
    "                                                                              'p_type',\n",
    "                                                                              'delta_met_diagnosis',\n",
    "                                                                              'met_cat',\n",
    "                                                                              'commercial',\n",
    "                                                                              'medicare',\n",
    "                                                                              'medicaid',\n",
    "                                                                              'ses',\n",
    "                                                                              'ecog_2',\n",
    "                                                                              'met_site', \n",
    "                                                                              'albumin_diag', \n",
    "                                                                              'weight_pct_change', \n",
    "                                                                              'risk_score']))\n",
    "\n",
    "paloma3_all_x = preprocessor.fit_transform(paloma3_iptw_all.filter(items = ['age',\n",
    "                                                                            'gender',\n",
    "                                                                            'race',\n",
    "                                                                            'p_type',\n",
    "                                                                            'delta_met_diagnosis',\n",
    "                                                                            'met_cat',\n",
    "                                                                            'commercial',\n",
    "                                                                            'medicare',\n",
    "                                                                            'medicaid',\n",
    "                                                                            'ses',\n",
    "                                                                            'ecog_2',\n",
    "                                                                            'met_site', \n",
    "                                                                            'albumin_diag', \n",
    "                                                                            'weight_pct_change',\n",
    "                                                                            'risk_score']))"
   ]
  },
  {
   "cell_type": "code",
   "execution_count": 302,
   "id": "b2d69647",
   "metadata": {},
   "outputs": [
    {
     "data": {
      "text/plain": [
       "LogisticRegression(max_iter=1000)"
      ]
     },
     "execution_count": 302,
     "metadata": {},
     "output_type": "execute_result"
    }
   ],
   "source": [
    "lr_paloma3_low = LogisticRegression(max_iter = 1000)\n",
    "lr_paloma3_low.fit(paloma3_low_x, paloma3_iptw_low['pfulv'])"
   ]
  },
  {
   "cell_type": "code",
   "execution_count": 303,
   "id": "05641f12",
   "metadata": {},
   "outputs": [
    {
     "data": {
      "text/plain": [
       "LogisticRegression(max_iter=1000)"
      ]
     },
     "execution_count": 303,
     "metadata": {},
     "output_type": "execute_result"
    }
   ],
   "source": [
    "lr_paloma3_med = LogisticRegression(max_iter = 1000)\n",
    "lr_paloma3_med.fit(paloma3_med_x, paloma3_iptw_med['pfulv'])"
   ]
  },
  {
   "cell_type": "code",
   "execution_count": 304,
   "id": "967f78ff",
   "metadata": {},
   "outputs": [
    {
     "data": {
      "text/plain": [
       "LogisticRegression(max_iter=1000)"
      ]
     },
     "execution_count": 304,
     "metadata": {},
     "output_type": "execute_result"
    }
   ],
   "source": [
    "lr_paloma3_high = LogisticRegression(max_iter = 1000)\n",
    "lr_paloma3_high.fit(paloma3_high_x, paloma3_iptw_high['pfulv'])"
   ]
  },
  {
   "cell_type": "code",
   "execution_count": 305,
   "id": "ef76634f",
   "metadata": {},
   "outputs": [
    {
     "data": {
      "text/plain": [
       "LogisticRegression(max_iter=1000)"
      ]
     },
     "execution_count": 305,
     "metadata": {},
     "output_type": "execute_result"
    }
   ],
   "source": [
    "lr_paloma3_all = LogisticRegression(max_iter = 1000)\n",
    "lr_paloma3_all.fit(paloma3_all_x, paloma3_iptw_all['pfulv'])"
   ]
  },
  {
   "cell_type": "code",
   "execution_count": 306,
   "id": "e13d922d",
   "metadata": {},
   "outputs": [],
   "source": [
    "pred_low = lr_paloma3_low.predict_proba(paloma3_low_x)\n",
    "pred_med = lr_paloma3_med.predict_proba(paloma3_med_x)\n",
    "pred_high = lr_paloma3_high.predict_proba(paloma3_high_x)\n",
    "pred_all = lr_paloma3_all.predict_proba(paloma3_all_x)"
   ]
  },
  {
   "cell_type": "code",
   "execution_count": 307,
   "id": "bab074c6",
   "metadata": {},
   "outputs": [],
   "source": [
    "paloma3_iptw_low['ps'] = pred_low[:, 1]\n",
    "paloma3_iptw_med['ps'] = pred_med[:, 1]\n",
    "paloma3_iptw_high['ps'] = pred_high[:, 1]\n",
    "paloma3_iptw_all['ps'] = pred_all[:, 1]"
   ]
  },
  {
   "cell_type": "code",
   "execution_count": 308,
   "id": "42cf46d4",
   "metadata": {},
   "outputs": [],
   "source": [
    "paloma3_iptw_low['weight'] = (\n",
    "    np.where(paloma3_iptw_low['pfulv'] == 1, 1/paloma3_iptw_low['ps'], 1/(1 - paloma3_iptw_low['ps'])))\n",
    "\n",
    "paloma3_iptw_med['weight'] = (\n",
    "    np.where(paloma3_iptw_med['pfulv'] == 1, 1/paloma3_iptw_med['ps'], 1/(1 - paloma3_iptw_med['ps'])))\n",
    "\n",
    "paloma3_iptw_high['weight'] = (\n",
    "    np.where(paloma3_iptw_high['pfulv'] == 1, 1/paloma3_iptw_high['ps'], 1/(1 - paloma3_iptw_high['ps'])))\n",
    "\n",
    "paloma3_iptw_all['weight'] = (\n",
    "    np.where(paloma3_iptw_all['pfulv'] == 1, 1/paloma3_iptw_all['ps'], 1/(1 - paloma3_iptw_all['ps'])))"
   ]
  },
  {
   "cell_type": "code",
   "execution_count": 309,
   "id": "cc026a99",
   "metadata": {},
   "outputs": [
    {
     "data": {
      "text/plain": [
       "<lifelines.KaplanMeierFitter:\"KM_estimate\", fitted with 943.643 total observations, 116.817 right-censored observations>"
      ]
     },
     "execution_count": 309,
     "metadata": {},
     "output_type": "execute_result"
    }
   ],
   "source": [
    "# Low KM curves\n",
    "kmf_low_pfulv_paloma3_iptw = KaplanMeierFitter()\n",
    "kmf_low_fulv_paloma3_iptw = KaplanMeierFitter()\n",
    "\n",
    "kmf_low_pfulv_paloma3_iptw.fit(\n",
    "    paloma3_iptw_low.query('pfulv == 1').time_prog_treatment/30,\n",
    "    paloma3_iptw_low.query('pfulv == 1').pfs_status,\n",
    "    weights = paloma3_iptw_low.query('pfulv == 1')['weight'])\n",
    "\n",
    "kmf_low_fulv_paloma3_iptw.fit(\n",
    "    paloma3_iptw_low.query('pfulv == 0').time_prog_treatment/30,\n",
    "    paloma3_iptw_low.query('pfulv == 0').pfs_status,\n",
    "    weights = paloma3_iptw_low.query('pfulv == 0')['weight'])\n",
    "\n",
    "# Med KM curves\n",
    "kmf_med_pfulv_paloma3_iptw = KaplanMeierFitter()\n",
    "kmf_med_fulv_paloma3_iptw = KaplanMeierFitter()\n",
    "\n",
    "kmf_med_pfulv_paloma3_iptw.fit(\n",
    "    paloma3_iptw_med.query('pfulv == 1').time_prog_treatment/30,\n",
    "    paloma3_iptw_med.query('pfulv == 1').pfs_status,\n",
    "    weights = paloma3_iptw_med.query('pfulv == 1')['weight'])\n",
    "\n",
    "kmf_med_fulv_paloma3_iptw.fit(\n",
    "    paloma3_iptw_med.query('pfulv == 0').time_prog_treatment/30,\n",
    "    paloma3_iptw_med.query('pfulv == 0').pfs_status,\n",
    "    weights = paloma3_iptw_med.query('pfulv == 0')['weight'])\n",
    "\n",
    "# High KM curves \n",
    "kmf_high_pfulv_paloma3_iptw = KaplanMeierFitter()\n",
    "kmf_high_fulv_paloma3_iptw = KaplanMeierFitter()\n",
    "\n",
    "kmf_high_pfulv_paloma3_iptw.fit(\n",
    "    paloma3_iptw_high.query('pfulv == 1').time_prog_treatment/30,\n",
    "    paloma3_iptw_high.query('pfulv == 1').pfs_status,\n",
    "    weights = paloma3_iptw_high.query('pfulv == 1')['weight'])\n",
    "\n",
    "kmf_high_fulv_paloma3_iptw.fit(\n",
    "    paloma3_iptw_high.query('pfulv == 0').time_prog_treatment/30,\n",
    "    paloma3_iptw_high.query('pfulv == 0').pfs_status,\n",
    "    weights = paloma3_iptw_high.query('pfulv == 0')['weight'])\n",
    "\n",
    "# All KM curves \n",
    "kmf_all_pfulv_paloma3_iptw = KaplanMeierFitter()\n",
    "kmf_all_fulv_paloma3_iptw = KaplanMeierFitter()\n",
    "\n",
    "kmf_all_pfulv_paloma3_iptw.fit(\n",
    "    paloma3_iptw_all.query('pfulv == 1').time_prog_treatment/30,\n",
    "    paloma3_iptw_all.query('pfulv == 1').pfs_status,\n",
    "    weights = paloma3_iptw_all.query('pfulv == 1')['weight'])\n",
    "\n",
    "kmf_all_fulv_paloma3_iptw.fit(\n",
    "    paloma3_iptw_all.query('pfulv == 0').time_prog_treatment/30,\n",
    "    paloma3_iptw_all.query('pfulv == 0').pfs_status,\n",
    "    weights = paloma3_iptw_all.query('pfulv == 0')['weight'])\n"
   ]
  },
  {
   "cell_type": "markdown",
   "id": "15a90f30",
   "metadata": {},
   "source": [
    "#### Calculating survival metrics"
   ]
  },
  {
   "cell_type": "code",
   "execution_count": 310,
   "id": "cc94181c",
   "metadata": {},
   "outputs": [],
   "source": [
    "pfulv_paloma3_median_os = mos(kmf_low_pfulv_paloma3_iptw,\n",
    "                              kmf_med_pfulv_paloma3_iptw,\n",
    "                              kmf_high_pfulv_paloma3_iptw,\n",
    "                              kmf_all_pfulv_paloma3_iptw)\n",
    "\n",
    "fulv_paloma3_median_os = mos(kmf_low_fulv_paloma3_iptw,\n",
    "                             kmf_med_fulv_paloma3_iptw,\n",
    "                             kmf_high_fulv_paloma3_iptw,\n",
    "                             kmf_all_fulv_paloma3_iptw)"
   ]
  },
  {
   "cell_type": "code",
   "execution_count": 311,
   "id": "8e364406",
   "metadata": {},
   "outputs": [],
   "source": [
    "paloma3_iptw_all_imputed = paloma3_iptw_all.copy()\n",
    "paloma3_iptw_all_imputed['albumin_diag'] = paloma3_iptw_all_imputed['albumin_diag'].fillna(paloma3_iptw_all_imputed['albumin_diag'].median())\n",
    "paloma3_iptw_all_imputed['weight_pct_change'] = paloma3_iptw_all_imputed['weight_pct_change'].fillna(paloma3_iptw_all_imputed['weight_pct_change'].median())\n",
    "paloma3_iptw_all_imputed['ses'] = paloma3_iptw_all_imputed['ses'].cat.add_categories('unknown')\n",
    "paloma3_iptw_all_imputed['ses'] = paloma3_iptw_all_imputed['ses'].fillna('unknown')"
   ]
  },
  {
   "cell_type": "code",
   "execution_count": 312,
   "id": "cf3faa17",
   "metadata": {},
   "outputs": [
    {
     "data": {
      "text/plain": [
       "<lifelines.CoxPHFitter: fitted with 1859.37 total observations, 258.259 right-censored observations>"
      ]
     },
     "execution_count": 312,
     "metadata": {},
     "output_type": "execute_result"
    }
   ],
   "source": [
    "paloma3_hr_all = CoxPHFitter()\n",
    "paloma3_hr_all.fit(paloma3_iptw_all_imputed,\n",
    "                   duration_col = 'time_prog_treatment', \n",
    "                   event_col = 'pfs_status', \n",
    "                   formula = 'pfulv + age + gender + race + p_type + delta_met_diagnosis + met_cat + commercial + medicare + medicaid + ses + ecog_2 + met_site + albumin_diag + weight_pct_change + risk_score',\n",
    "                   weights_col = 'weight',\n",
    "                   robust = True)"
   ]
  },
  {
   "cell_type": "code",
   "execution_count": 313,
   "id": "e4fc40cb",
   "metadata": {},
   "outputs": [],
   "source": [
    "paloma3_all_rmst_mos_95 = rmst_mos_95ci(paloma3_iptw_all,\n",
    "                                        1000,\n",
    "                                        'pfulv',\n",
    "                                        'progression',\n",
    "                                        ['age',\n",
    "                                         'gender',\n",
    "                                         'race',\n",
    "                                         'p_type',\n",
    "                                         'delta_met_diagnosis',\n",
    "                                         'met_cat',\n",
    "                                         'commercial',\n",
    "                                         'medicare',\n",
    "                                         'medicaid',\n",
    "                                         'ses',\n",
    "                                         'ecog_2',\n",
    "                                         'met_site',\n",
    "                                         'albumin_diag', \n",
    "                                         'weight_pct_change', \n",
    "                                         'risk_score'],\n",
    "                                         ['age', 'delta_met_diagnosis', 'albumin_diag', 'weight_pct_change', 'risk_score'],\n",
    "                                         24)"
   ]
  },
  {
   "cell_type": "code",
   "execution_count": 314,
   "id": "dae142ba",
   "metadata": {},
   "outputs": [],
   "source": [
    "paloma3_low_rmst_mos_95 = rmst_mos_95ci(paloma3_iptw_low,\n",
    "                                        1000,\n",
    "                                        'pfulv',\n",
    "                                        'progression',\n",
    "                                        ['age',\n",
    "                                         'gender',\n",
    "                                         'race',\n",
    "                                         'p_type',\n",
    "                                         'delta_met_diagnosis',\n",
    "                                         'met_cat',\n",
    "                                         'commercial',\n",
    "                                         'medicare',\n",
    "                                         'medicaid',\n",
    "                                         'ses',\n",
    "                                         'ecog_2',\n",
    "                                         'met_site',\n",
    "                                         'albumin_diag', \n",
    "                                         'weight_pct_change', \n",
    "                                         'risk_score'],\n",
    "                                         ['age', 'delta_met_diagnosis', 'albumin_diag', 'weight_pct_change', 'risk_score'],\n",
    "                                         24)"
   ]
  },
  {
   "cell_type": "code",
   "execution_count": 315,
   "id": "e1d79b9d",
   "metadata": {},
   "outputs": [],
   "source": [
    "paloma3_med_rmst_mos_95 = rmst_mos_95ci(paloma3_iptw_med,\n",
    "                                        1000,\n",
    "                                        'pfulv',\n",
    "                                        'progression',\n",
    "                                        ['age',\n",
    "                                         'gender',\n",
    "                                         'race',\n",
    "                                         'p_type',\n",
    "                                         'delta_met_diagnosis',\n",
    "                                         'met_cat',\n",
    "                                         'commercial',\n",
    "                                         'medicare',\n",
    "                                         'medicaid',\n",
    "                                         'ses',\n",
    "                                         'ecog_2',\n",
    "                                         'met_site',\n",
    "                                         'albumin_diag', \n",
    "                                         'weight_pct_change', \n",
    "                                         'risk_score'],\n",
    "                                         ['age', 'delta_met_diagnosis', 'albumin_diag', 'weight_pct_change', 'risk_score'],\n",
    "                                         24)"
   ]
  },
  {
   "cell_type": "code",
   "execution_count": 316,
   "id": "72beb042",
   "metadata": {},
   "outputs": [],
   "source": [
    "paloma3_high_rmst_mos_95 = rmst_mos_95ci(paloma3_iptw_high,\n",
    "                                         1000,\n",
    "                                         'pfulv',\n",
    "                                         'progression',\n",
    "                                         ['age',\n",
    "                                          'gender',\n",
    "                                          'race',\n",
    "                                          'p_type',\n",
    "                                          'delta_met_diagnosis',\n",
    "                                          'met_cat',\n",
    "                                          'commercial',\n",
    "                                          'medicare',\n",
    "                                          'medicaid',\n",
    "                                          'ses',\n",
    "                                          'ecog_2',\n",
    "                                          'met_site',\n",
    "                                          'albumin_diag', \n",
    "                                          'weight_pct_change', \n",
    "                                          'risk_score'],\n",
    "                                          ['age', 'delta_met_diagnosis', 'albumin_diag', 'weight_pct_change', 'risk_score'],\n",
    "                                          24)"
   ]
  },
  {
   "cell_type": "code",
   "execution_count": 317,
   "id": "2fc5bb2c",
   "metadata": {},
   "outputs": [],
   "source": [
    "paloma3_data = [\n",
    "    {'trial_name': 'PALOMA-3', \n",
    "     'risk_group': 'low', \n",
    "     's_trt_mos': pfulv_paloma3_median_os[0],\n",
    "     's_trt_mos_95': paloma3_low_rmst_mos_95.mos_A_95,\n",
    "     's_cont_mos': fulv_paloma3_median_os[0],\n",
    "     's_cont_mos_95': paloma3_low_rmst_mos_95.mos_B_95,\n",
    "     's_mos_diff': pfulv_paloma3_median_os[0] - fulv_paloma3_median_os[0], \n",
    "     'rct_trt_arm': 9.5,\n",
    "     'rct_cont_arm': 4.6,\n",
    "     'rct_mos_diff': 9.5-4.6,\n",
    "     's_trt_rmst': restricted_mean_survival_time(kmf_low_pfulv_paloma3_iptw, 24),\n",
    "     's_trt_rmst_95': paloma3_low_rmst_mos_95.rmst_A_95,\n",
    "     's_cont_rmst': restricted_mean_survival_time(kmf_low_fulv_paloma3_iptw, 24),\n",
    "     's_cont_rmst_95': paloma3_low_rmst_mos_95.rmst_B_95,\n",
    "     's_diff_rmst': restricted_mean_survival_time(kmf_low_pfulv_paloma3_iptw, 24) - restricted_mean_survival_time(kmf_low_fulv_paloma3_iptw, 24),\n",
    "     's_diff_rmst_95': paloma3_low_rmst_mos_95.difference_rmst_95,\n",
    "     'scount': paloma3.query('risk_score <= @low_cutoff_paloma3').shape[0]},\n",
    "    \n",
    "    {'trial_name': 'PALOMA-3', \n",
    "     'risk_group': 'medium', \n",
    "     's_trt_mos': pfulv_paloma3_median_os[1],\n",
    "     's_trt_mos_95': paloma3_med_rmst_mos_95.mos_A_95,\n",
    "     's_cont_mos': fulv_paloma3_median_os[1],\n",
    "     's_cont_mos_95': paloma3_med_rmst_mos_95.mos_B_95,\n",
    "     's_mos_diff': pfulv_paloma3_median_os[1] - fulv_paloma3_median_os[1], \n",
    "     'rct_trt_arm': 9.5,\n",
    "     'rct_cont_arm': 4.6,\n",
    "     'rct_mos_diff': 9.5-4.6,\n",
    "     's_trt_rmst': restricted_mean_survival_time(kmf_med_pfulv_paloma3_iptw, 24),\n",
    "     's_trt_rmst_95': paloma3_med_rmst_mos_95.rmst_A_95,\n",
    "     's_cont_rmst': restricted_mean_survival_time(kmf_med_fulv_paloma3_iptw, 24),\n",
    "     's_cont_rmst_95': paloma3_med_rmst_mos_95.rmst_B_95,\n",
    "     's_diff_rmst': restricted_mean_survival_time(kmf_med_pfulv_paloma3_iptw, 24) - restricted_mean_survival_time(kmf_med_fulv_paloma3_iptw, 24),\n",
    "     's_diff_rmst_95': paloma3_med_rmst_mos_95.difference_rmst_95,\n",
    "     'scount': paloma3.query('risk_score < @high_cutoff_paloma3 and risk_score > @low_cutoff_paloma3').shape[0]},\n",
    "    \n",
    "    {'trial_name': 'PALOMA-3', \n",
    "     'risk_group': 'high', \n",
    "     's_trt_mos': pfulv_paloma3_median_os[2],\n",
    "     's_trt_mos_95': paloma3_high_rmst_mos_95.mos_A_95,\n",
    "     's_cont_mos': fulv_paloma3_median_os[2],\n",
    "     's_cont_mos_95': paloma3_high_rmst_mos_95.mos_B_95,\n",
    "     's_mos_diff': pfulv_paloma3_median_os[2] - fulv_paloma3_median_os[2], \n",
    "     'rct_trt_arm': 9.5,\n",
    "     'rct_cont_arm': 4.6,\n",
    "     'rct_mos_diff': 9.5-4.6,\n",
    "     's_trt_rmst': restricted_mean_survival_time(kmf_high_pfulv_paloma3_iptw, 24),\n",
    "     's_trt_rmst_95': paloma3_high_rmst_mos_95.rmst_A_95,\n",
    "     's_cont_rmst': restricted_mean_survival_time(kmf_high_fulv_paloma3_iptw, 24),\n",
    "     's_cont_rmst_95': paloma3_high_rmst_mos_95.rmst_B_95,\n",
    "     's_diff_rmst': restricted_mean_survival_time(kmf_high_pfulv_paloma3_iptw, 24) - restricted_mean_survival_time(kmf_high_fulv_paloma3_iptw, 24),\n",
    "     's_diff_rmst_95': paloma3_high_rmst_mos_95.difference_rmst_95,\n",
    "     'scount': paloma3.query('risk_score >= @high_cutoff_paloma3').shape[0]},\n",
    "    \n",
    "    {'trial_name': 'PALOMA-3', \n",
    "     'risk_group': 'all', \n",
    "     's_hr': paloma3_hr_all.hazard_ratios_['pfulv'],\n",
    "     's_hr_95': [paloma3_hr_all.summary.loc['pfulv']['exp(coef) lower 95%'], paloma3_hr_all.summary.loc['pfulv']['exp(coef) upper 95%']],\n",
    "     's_trt_mos': pfulv_paloma3_median_os[3],\n",
    "     's_trt_mos_95': paloma3_all_rmst_mos_95.mos_A_95,\n",
    "     's_cont_mos': fulv_paloma3_median_os[3],\n",
    "     's_cont_mos_95': paloma3_all_rmst_mos_95.mos_B_95,\n",
    "     's_mos_diff': pfulv_paloma3_median_os[3] - fulv_paloma3_median_os[3], \n",
    "     'rct_trt_arm': 9.5,\n",
    "     'rct_cont_arm': 4.6,\n",
    "     'rct_mos_diff': 9.5-4.6,\n",
    "     'scount': paloma3.shape[0]}\n",
    "]"
   ]
  },
  {
   "cell_type": "markdown",
   "id": "680f36ef",
   "metadata": {},
   "source": [
    "### CLEOPATRA: pertuzumab, trastuzumab, and docetaxel in HER2-positive metastatic breast cancer\n",
    "\n",
    "**INCLUSION**\n",
    "* Untreated metastatic breast cancer\n",
    "* Received first line pertuzumab, trastuzumab, and docetaxel/paclitaxel or first line trastuzumab + docetaxel/paclitaxel \n",
    "* First line of hormonal treatment is allowed\n",
    "* HER-2 positive within (+30, -inf) of receipt of treatment \n",
    "* No relevant comorbidities in the year preceding metastatic diagnosis \n",
    "* No CNS metastasis at time of treatment \n",
    "* ECOG cannot be 2, 3, or 4 at time of treatment \n",
    "* Adequate organ function at time of treatment "
   ]
  },
  {
   "cell_type": "markdown",
   "id": "e7133ad4",
   "metadata": {},
   "source": [
    "#### First line trastuzumab + docetaxel/paclitaxel +/- pertuzumab "
   ]
  },
  {
   "cell_type": "code",
   "execution_count": 318,
   "id": "2ee88853",
   "metadata": {
    "scrolled": true
   },
   "outputs": [
    {
     "data": {
      "text/plain": [
       "31677"
      ]
     },
     "execution_count": 318,
     "metadata": {},
     "output_type": "execute_result"
    }
   ],
   "source": [
    "df_full = pd.read_csv('df_risk_crude.csv', index_col = 'PatientID', dtype = {'death_status': bool})\n",
    "df_full.index.nunique()"
   ]
  },
  {
   "cell_type": "code",
   "execution_count": 319,
   "id": "15709c71",
   "metadata": {},
   "outputs": [],
   "source": [
    "line_therapy = pd.read_csv('LineOfTherapy.csv')"
   ]
  },
  {
   "cell_type": "code",
   "execution_count": 320,
   "id": "a9a8c440",
   "metadata": {},
   "outputs": [],
   "source": [
    "tpdp = [\n",
    "    'Docetaxel,Pertuzumab,Trastuzumab',\n",
    "    'Docetaxel,Pertuzumab,Trastuzumab-Anns',\n",
    "    'Docetaxel,Pertuzumab,Trastuzumab-Qyyp',\n",
    "    'Paclitaxel,Pertuzumab,Trastuzumab',\n",
    "    'Paclitaxel,Pertuzumab,Trastuzumab-Anns',\n",
    "    'Paclitaxel,Pertuzumab,Trastuzumab-Qyyp',\n",
    "    'Paclitaxel Protein-Bound,Pertuzumab,Trastuzumab',\n",
    "    'Paclitaxel Protein-Bound,Pertuzumab,Trastuzumab-Anns',\n",
    "    'Paclitaxel Protein-Bound,Pertuzumab,Trastuzumab-Qyyp']\n",
    "\n",
    "tpdp_fl = (\n",
    "    line_therapy[line_therapy['PatientID'].isin(df_full.index)]\n",
    "    .query('LineNumber == 1')\n",
    "    .query('LineName == @tpdp')\n",
    "    [['PatientID', 'StartDate']]\n",
    ")"
   ]
  },
  {
   "cell_type": "code",
   "execution_count": 321,
   "id": "494ca175",
   "metadata": {},
   "outputs": [],
   "source": [
    "tpdp_fl.loc[:, 'tpdp'] = 1"
   ]
  },
  {
   "cell_type": "code",
   "execution_count": 322,
   "id": "b417a0f6",
   "metadata": {},
   "outputs": [
    {
     "data": {
      "text/plain": [
       "(1219, 1219)"
      ]
     },
     "execution_count": 322,
     "metadata": {},
     "output_type": "execute_result"
    }
   ],
   "source": [
    "row_ID(tpdp_fl)"
   ]
  },
  {
   "cell_type": "code",
   "execution_count": 323,
   "id": "ca4e5237",
   "metadata": {},
   "outputs": [],
   "source": [
    "tpd = [\n",
    "    'Docetaxel,Trastuzumab',\n",
    "    'Docetaxel,Trastuzumab-Anns',\n",
    "    'Docetaxel,Trastuzumab-Qyyp',\n",
    "    'Paclitaxel,Trastuzumab',\n",
    "    'Paclitaxel,Trastuzumab-Anns',\n",
    "    'Paclitaxel,Trastuzumab-Qyyp',\n",
    "    'Paclitaxel Protein-Bound,Trastuzumab',\n",
    "    'Paclitaxel Protein-Bound,Trastuzumab-Anns',\n",
    "    'Paclitaxel Protein-Bound,Trastuzumab-Qyyp'] \n",
    "\n",
    "tpd_fl = (\n",
    "    line_therapy[line_therapy['PatientID'].isin(df_full.index)]\n",
    "    .query('LineNumber == 1')\n",
    "    .query('LineName == @tpd')\n",
    "    [['PatientID', 'StartDate']]\n",
    ")"
   ]
  },
  {
   "cell_type": "code",
   "execution_count": 324,
   "id": "07395699",
   "metadata": {},
   "outputs": [],
   "source": [
    "tpd_fl.loc[:, 'tpdp'] = 0"
   ]
  },
  {
   "cell_type": "code",
   "execution_count": 325,
   "id": "28b226e8",
   "metadata": {},
   "outputs": [
    {
     "data": {
      "text/plain": [
       "(1219, 1219)"
      ]
     },
     "execution_count": 325,
     "metadata": {},
     "output_type": "execute_result"
    }
   ],
   "source": [
    "row_ID(tpdp_fl)"
   ]
  },
  {
   "cell_type": "markdown",
   "id": "56b0406c",
   "metadata": {},
   "source": [
    "#### First line endocrine therapy, second line trastuzumab + docetaxel/paclitaxel +/- pertuzumab "
   ]
  },
  {
   "cell_type": "code",
   "execution_count": 326,
   "id": "ddb6148c",
   "metadata": {},
   "outputs": [],
   "source": [
    "all_treatment = line_therapy.LineName.unique()"
   ]
  },
  {
   "cell_type": "code",
   "execution_count": 327,
   "id": "1c3173ef",
   "metadata": {},
   "outputs": [],
   "source": [
    "treatment_list = []\n",
    "for trt in all_treatment:\n",
    "    treatment_list.extend(trt.split(\",\"))"
   ]
  },
  {
   "cell_type": "code",
   "execution_count": 328,
   "id": "fb346c67",
   "metadata": {},
   "outputs": [],
   "source": [
    "unique = list(dict.fromkeys(treatment_list))"
   ]
  },
  {
   "cell_type": "code",
   "execution_count": 329,
   "id": "51874f4c",
   "metadata": {},
   "outputs": [],
   "source": [
    "et = [\n",
    "    'Anastrozole',\n",
    "    'Letrozole',\n",
    "    'Exemestane',\n",
    "    'Tamoxifen',\n",
    "    'Leuprolide',\n",
    "    'Goserelin',\n",
    "    'Triptorelin']"
   ]
  },
  {
   "cell_type": "code",
   "execution_count": 330,
   "id": "799bdd68",
   "metadata": {},
   "outputs": [],
   "source": [
    "unique.remove('Anastrozole')\n",
    "unique.remove('Letrozole')\n",
    "unique.remove('Exemestane')\n",
    "unique.remove('Tamoxifen')\n",
    "unique.remove('Leuprolide')\n",
    "unique.remove('Goserelin')\n",
    "unique.remove('Triptorelin')"
   ]
  },
  {
   "cell_type": "code",
   "execution_count": 331,
   "id": "7734d2b9",
   "metadata": {},
   "outputs": [],
   "source": [
    "line_therapy_fl = (\n",
    "    line_therapy[line_therapy['PatientID'].isin(df_full.index)]\n",
    "    .query('LineNumber == 1'))"
   ]
  },
  {
   "cell_type": "code",
   "execution_count": 332,
   "id": "b1196141",
   "metadata": {},
   "outputs": [
    {
     "data": {
      "text/plain": [
       "Anastrozole               2943\n",
       "Letrozole                 2536\n",
       "Tamoxifen                 1305\n",
       "Exemestane                 780\n",
       "Leuprolide                  77\n",
       "Goserelin                   60\n",
       "Leuprolide,Tamoxifen        56\n",
       "Letrozole,Leuprolide        40\n",
       "Goserelin,Tamoxifen         36\n",
       "Anastrozole,Leuprolide      35\n",
       "Name: LineName, dtype: int64"
      ]
     },
     "execution_count": 332,
     "metadata": {},
     "output_type": "execute_result"
    }
   ],
   "source": [
    "(\n",
    "    line_therapy_fl\n",
    "    [line_therapy_fl['LineName'].str.contains('|'.join(et))\n",
    "     & ~line_therapy_fl['LineName'].str.contains('|'.join(unique))]\n",
    "    .LineName.value_counts().head(10)\n",
    ")"
   ]
  },
  {
   "cell_type": "code",
   "execution_count": 333,
   "id": "6fbd05a1",
   "metadata": {},
   "outputs": [],
   "source": [
    "et_id = (\n",
    "    line_therapy_fl\n",
    "    [line_therapy_fl['LineName'].str.contains('|'.join(et))\n",
    "     & ~line_therapy_fl['LineName'].str.contains('|'.join(unique))]\n",
    "    .PatientID\n",
    ")"
   ]
  },
  {
   "cell_type": "code",
   "execution_count": 334,
   "id": "ba03dd52",
   "metadata": {},
   "outputs": [],
   "source": [
    "line_therapy_sec = (\n",
    "    line_therapy[line_therapy['PatientID'].isin(et_id)]\n",
    "    .query('LineNumber == 2'))"
   ]
  },
  {
   "cell_type": "code",
   "execution_count": 335,
   "id": "7704f08a",
   "metadata": {},
   "outputs": [],
   "source": [
    "et_tpdp = (\n",
    "    line_therapy_sec\n",
    "    .query('LineName == @tpdp')\n",
    "    [['PatientID', 'StartDate']]\n",
    ")"
   ]
  },
  {
   "cell_type": "code",
   "execution_count": 336,
   "id": "e79aad08",
   "metadata": {},
   "outputs": [],
   "source": [
    "et_tpdp.loc[:, 'tpdp'] = 1"
   ]
  },
  {
   "cell_type": "code",
   "execution_count": 337,
   "id": "cd61d503",
   "metadata": {},
   "outputs": [
    {
     "data": {
      "text/plain": [
       "(79, 79)"
      ]
     },
     "execution_count": 337,
     "metadata": {},
     "output_type": "execute_result"
    }
   ],
   "source": [
    "row_ID(et_tpdp)"
   ]
  },
  {
   "cell_type": "code",
   "execution_count": 338,
   "id": "e7b4f05d",
   "metadata": {},
   "outputs": [],
   "source": [
    "et_tpd = (\n",
    "    line_therapy_sec\n",
    "    .query('LineName == @tpd')\n",
    "    [['PatientID', 'StartDate']]\n",
    ")"
   ]
  },
  {
   "cell_type": "code",
   "execution_count": 339,
   "id": "ca53166f",
   "metadata": {},
   "outputs": [],
   "source": [
    "et_tpd.loc[:, 'tpdp'] = 0"
   ]
  },
  {
   "cell_type": "code",
   "execution_count": 340,
   "id": "77535f94",
   "metadata": {},
   "outputs": [
    {
     "data": {
      "text/plain": [
       "(5, 5)"
      ]
     },
     "execution_count": 340,
     "metadata": {},
     "output_type": "execute_result"
    }
   ],
   "source": [
    "row_ID(et_tpd)"
   ]
  },
  {
   "cell_type": "code",
   "execution_count": 341,
   "id": "24856220",
   "metadata": {},
   "outputs": [],
   "source": [
    "cleopatra_p = pd.concat([tpdp_fl, et_tpdp])"
   ]
  },
  {
   "cell_type": "code",
   "execution_count": 342,
   "id": "1dc13dfb",
   "metadata": {},
   "outputs": [
    {
     "data": {
      "text/plain": [
       "(1298, 1298)"
      ]
     },
     "execution_count": 342,
     "metadata": {},
     "output_type": "execute_result"
    }
   ],
   "source": [
    "row_ID(cleopatra_p)"
   ]
  },
  {
   "cell_type": "code",
   "execution_count": 343,
   "id": "c2e0f12d",
   "metadata": {},
   "outputs": [],
   "source": [
    "cleopatra_np = pd.concat([tpd_fl, et_tpd])"
   ]
  },
  {
   "cell_type": "code",
   "execution_count": 344,
   "id": "f8c3fb9c",
   "metadata": {},
   "outputs": [
    {
     "data": {
      "text/plain": [
       "(184, 184)"
      ]
     },
     "execution_count": 344,
     "metadata": {},
     "output_type": "execute_result"
    }
   ],
   "source": [
    "row_ID(cleopatra_np)"
   ]
  },
  {
   "cell_type": "code",
   "execution_count": 345,
   "id": "b599e339",
   "metadata": {},
   "outputs": [],
   "source": [
    "cleopatra = pd.concat([cleopatra_p, cleopatra_np])"
   ]
  },
  {
   "cell_type": "code",
   "execution_count": 346,
   "id": "e8ce4aa9",
   "metadata": {},
   "outputs": [
    {
     "data": {
      "text/plain": [
       "(1482, 1482)"
      ]
     },
     "execution_count": 346,
     "metadata": {},
     "output_type": "execute_result"
    }
   ],
   "source": [
    "row_ID(cleopatra)"
   ]
  },
  {
   "cell_type": "code",
   "execution_count": 347,
   "id": "4b49c48a",
   "metadata": {},
   "outputs": [],
   "source": [
    "cleopatra = pd.merge(cleopatra, df_full, on = 'PatientID', how = 'left')"
   ]
  },
  {
   "cell_type": "code",
   "execution_count": 348,
   "id": "a10bdcf2",
   "metadata": {},
   "outputs": [
    {
     "data": {
      "text/plain": [
       "(1482, 1482)"
      ]
     },
     "execution_count": 348,
     "metadata": {},
     "output_type": "execute_result"
    }
   ],
   "source": [
    "row_ID(cleopatra)"
   ]
  },
  {
   "cell_type": "code",
   "execution_count": 349,
   "id": "354a3c9f",
   "metadata": {},
   "outputs": [],
   "source": [
    "cleopatra['StartDate'] = pd.to_datetime(cleopatra['StartDate'])"
   ]
  },
  {
   "cell_type": "markdown",
   "id": "3e3afa8c",
   "metadata": {},
   "source": [
    "#### HER-2 positive"
   ]
  },
  {
   "cell_type": "code",
   "execution_count": 350,
   "id": "3d4cb0b3",
   "metadata": {},
   "outputs": [],
   "source": [
    "biomarkers = pd.read_csv('Enhanced_MetBreastBiomarkers.csv')"
   ]
  },
  {
   "cell_type": "code",
   "execution_count": 351,
   "id": "930b5be5",
   "metadata": {},
   "outputs": [],
   "source": [
    "biomarkers = biomarkers[biomarkers['PatientID'].isin(cleopatra['PatientID'])]"
   ]
  },
  {
   "cell_type": "code",
   "execution_count": 352,
   "id": "755519c8",
   "metadata": {},
   "outputs": [
    {
     "data": {
      "text/plain": [
       "(10765, 1482)"
      ]
     },
     "execution_count": 352,
     "metadata": {},
     "output_type": "execute_result"
    }
   ],
   "source": [
    "row_ID(biomarkers)"
   ]
  },
  {
   "cell_type": "code",
   "execution_count": 353,
   "id": "0ec5a22d",
   "metadata": {},
   "outputs": [],
   "source": [
    "biomarkers = pd.merge(biomarkers, cleopatra[['PatientID', 'StartDate']], on = 'PatientID', how = 'left')"
   ]
  },
  {
   "cell_type": "code",
   "execution_count": 354,
   "id": "74ebcfc6",
   "metadata": {},
   "outputs": [
    {
     "data": {
      "text/plain": [
       "(10765, 1482)"
      ]
     },
     "execution_count": 354,
     "metadata": {},
     "output_type": "execute_result"
    }
   ],
   "source": [
    "row_ID(biomarkers)"
   ]
  },
  {
   "cell_type": "code",
   "execution_count": 355,
   "id": "61aa12c2",
   "metadata": {},
   "outputs": [],
   "source": [
    "biomarkers['StartDate'] = pd.to_datetime(biomarkers['StartDate'])"
   ]
  },
  {
   "cell_type": "code",
   "execution_count": 356,
   "id": "d6642251",
   "metadata": {},
   "outputs": [],
   "source": [
    "biomarkers['ResultDate'] = pd.to_datetime(biomarkers['ResultDate'])"
   ]
  },
  {
   "cell_type": "code",
   "execution_count": 357,
   "id": "487010be",
   "metadata": {},
   "outputs": [],
   "source": [
    "biomarkers['SpecimenReceivedDate'] = pd.to_datetime(biomarkers['SpecimenReceivedDate'])"
   ]
  },
  {
   "cell_type": "code",
   "execution_count": 358,
   "id": "592f8117",
   "metadata": {},
   "outputs": [],
   "source": [
    "biomarkers.loc[:, 'result_date'] = (\n",
    "    np.where(biomarkers['ResultDate'].isna(), biomarkers['SpecimenReceivedDate'], biomarkers['ResultDate'])\n",
    ")"
   ]
  },
  {
   "cell_type": "code",
   "execution_count": 359,
   "id": "0cb53fe7",
   "metadata": {},
   "outputs": [],
   "source": [
    "biomarkers.loc[:, 'date_diff'] = (biomarkers['result_date'] - biomarkers['StartDate']).dt.days"
   ]
  },
  {
   "cell_type": "code",
   "execution_count": 360,
   "id": "a5af44e9",
   "metadata": {},
   "outputs": [],
   "source": [
    "her2_rel = ['IHC negative (0-1+)',\n",
    "            'FISH negative/not amplified',\n",
    "            'Negative NOS',\n",
    "            'NGS negative (ERBB2 not amplified)',\n",
    "            'IHC positive (3+)',\n",
    "            'FISH positive/amplified',\n",
    "            'Positive NOS',\n",
    "            'NGS positive (ERBB2 amplified)']\n",
    "\n",
    "her2_status = (\n",
    "    biomarkers\n",
    "    .query('BiomarkerName == \"HER2\"')\n",
    "    .query('date_diff <= 30')\n",
    "    .query('BiomarkerStatus == @her2_rel')\n",
    "    .sort_values(['PatientID', 'date_diff'], ascending = [True, False])\n",
    "    .drop_duplicates(subset = ['PatientID'], keep = 'first')\n",
    "    [['PatientID', 'BiomarkerStatus']]\n",
    "    .rename(columns = {'BiomarkerStatus': 'her2'})\n",
    ")"
   ]
  },
  {
   "cell_type": "code",
   "execution_count": 361,
   "id": "be9aa90e",
   "metadata": {},
   "outputs": [
    {
     "data": {
      "text/plain": [
       "(1377, 1377)"
      ]
     },
     "execution_count": 361,
     "metadata": {},
     "output_type": "execute_result"
    }
   ],
   "source": [
    "row_ID(her2_status)"
   ]
  },
  {
   "cell_type": "code",
   "execution_count": 362,
   "id": "287d371a",
   "metadata": {},
   "outputs": [],
   "source": [
    "cleopatra = pd.merge(cleopatra, her2_status, on  = 'PatientID', how = 'left')"
   ]
  },
  {
   "cell_type": "code",
   "execution_count": 363,
   "id": "fe23e77c",
   "metadata": {},
   "outputs": [
    {
     "data": {
      "text/plain": [
       "(1482, 1482)"
      ]
     },
     "execution_count": 363,
     "metadata": {},
     "output_type": "execute_result"
    }
   ],
   "source": [
    "row_ID(cleopatra)"
   ]
  },
  {
   "cell_type": "code",
   "execution_count": 364,
   "id": "332e8fc5",
   "metadata": {},
   "outputs": [],
   "source": [
    "her2_pos = ['IHC positive (3+)',\n",
    "            'FISH positive/amplified',\n",
    "            'Positive NOS',\n",
    "            'NGS positive (ERBB2 amplified)']\n",
    "\n",
    "cleopatra = (\n",
    "    cleopatra\n",
    "    .query('her2== @her2_pos')\n",
    ")"
   ]
  },
  {
   "cell_type": "code",
   "execution_count": 365,
   "id": "a47f4181",
   "metadata": {},
   "outputs": [
    {
     "data": {
      "text/plain": [
       "(1296, 1296)"
      ]
     },
     "execution_count": 365,
     "metadata": {},
     "output_type": "execute_result"
    }
   ],
   "source": [
    "row_ID(cleopatra)"
   ]
  },
  {
   "cell_type": "markdown",
   "id": "c4d39c92",
   "metadata": {},
   "source": [
    "#### Time from treatment to progression/death or censor "
   ]
  },
  {
   "cell_type": "code",
   "execution_count": 366,
   "id": "9d0f859d",
   "metadata": {},
   "outputs": [],
   "source": [
    "mortality_tr = pd.read_csv('mortality_cleaned_tr.csv')"
   ]
  },
  {
   "cell_type": "code",
   "execution_count": 367,
   "id": "8c036bb1",
   "metadata": {},
   "outputs": [],
   "source": [
    "mortality_te = pd.read_csv('mortality_cleaned_te.csv')"
   ]
  },
  {
   "cell_type": "code",
   "execution_count": 368,
   "id": "4ea99ee5",
   "metadata": {},
   "outputs": [],
   "source": [
    "mortality_tr = mortality_tr[['PatientID', 'death_date', 'last_activity']]"
   ]
  },
  {
   "cell_type": "code",
   "execution_count": 369,
   "id": "d4b6be0b",
   "metadata": {},
   "outputs": [],
   "source": [
    "mortality_te = mortality_te[['PatientID', 'death_date', 'last_activity']]"
   ]
  },
  {
   "cell_type": "code",
   "execution_count": 370,
   "id": "162d067e",
   "metadata": {},
   "outputs": [
    {
     "data": {
      "text/plain": [
       "(31677, 31677)"
      ]
     },
     "execution_count": 370,
     "metadata": {},
     "output_type": "execute_result"
    }
   ],
   "source": [
    "mortality = pd.concat([mortality_tr, mortality_te], ignore_index = True)\n",
    "row_ID(mortality)"
   ]
  },
  {
   "cell_type": "code",
   "execution_count": 371,
   "id": "ba84f3d7",
   "metadata": {},
   "outputs": [],
   "source": [
    "mortality.loc[:, 'last_activity'] = pd.to_datetime(mortality['last_activity'])"
   ]
  },
  {
   "cell_type": "code",
   "execution_count": 372,
   "id": "5cbe1a8e",
   "metadata": {},
   "outputs": [],
   "source": [
    "mortality.loc[:, 'death_date'] = pd.to_datetime(mortality['death_date'])"
   ]
  },
  {
   "cell_type": "code",
   "execution_count": 373,
   "id": "b63d91c2",
   "metadata": {},
   "outputs": [
    {
     "data": {
      "text/plain": [
       "(31677, 31677)"
      ]
     },
     "execution_count": 373,
     "metadata": {},
     "output_type": "execute_result"
    }
   ],
   "source": [
    "row_ID(mortality)"
   ]
  },
  {
   "cell_type": "code",
   "execution_count": 374,
   "id": "fd22c89b",
   "metadata": {},
   "outputs": [],
   "source": [
    "cleopatra = pd.merge(cleopatra, mortality, on = 'PatientID', how = 'left')"
   ]
  },
  {
   "cell_type": "code",
   "execution_count": 375,
   "id": "37f4da7f",
   "metadata": {},
   "outputs": [
    {
     "data": {
      "text/plain": [
       "(1296, 1296)"
      ]
     },
     "execution_count": 375,
     "metadata": {},
     "output_type": "execute_result"
    }
   ],
   "source": [
    "row_ID(cleopatra)"
   ]
  },
  {
   "cell_type": "code",
   "execution_count": 376,
   "id": "67d133ff",
   "metadata": {},
   "outputs": [],
   "source": [
    "conditions = [\n",
    "    (cleopatra['death_status'] == 1),\n",
    "    (cleopatra['death_status'] == 0)]\n",
    "\n",
    "choices = [\n",
    "    (cleopatra['death_date'] - cleopatra['StartDate']).dt.days,\n",
    "    (cleopatra['last_activity'] - cleopatra['StartDate']).dt.days]\n",
    "\n",
    "cleopatra.loc[:, 'timerisk_treatment'] = np.select(conditions, choices)"
   ]
  },
  {
   "cell_type": "code",
   "execution_count": 377,
   "id": "fbbe2dab",
   "metadata": {},
   "outputs": [],
   "source": [
    "cleopatra = cleopatra.query('timerisk_treatment >= 0')"
   ]
  },
  {
   "cell_type": "markdown",
   "id": "cb2acd74",
   "metadata": {},
   "source": [
    "#### Patient count "
   ]
  },
  {
   "cell_type": "code",
   "execution_count": 378,
   "id": "a3ac4aba",
   "metadata": {},
   "outputs": [
    {
     "data": {
      "text/plain": [
       "(1294, 1294)"
      ]
     },
     "execution_count": 378,
     "metadata": {},
     "output_type": "execute_result"
    }
   ],
   "source": [
    "row_ID(cleopatra)"
   ]
  },
  {
   "cell_type": "code",
   "execution_count": 379,
   "id": "82f586d0",
   "metadata": {},
   "outputs": [],
   "source": [
    "# Exclude those with CNS metastatsis at time of metastatic diagnosis \n",
    "cleopatra = cleopatra[~cleopatra['PatientID'].isin(cns_fl_IDs)]"
   ]
  },
  {
   "cell_type": "code",
   "execution_count": 380,
   "id": "99ed7431",
   "metadata": {},
   "outputs": [],
   "source": [
    "# Exlcude those with cardiac comorbidities\n",
    "cleopatra = cleopatra[~cleopatra['PatientID'].isin(cardiac_IDs)]"
   ]
  },
  {
   "cell_type": "code",
   "execution_count": 381,
   "id": "27c1478f",
   "metadata": {},
   "outputs": [],
   "source": [
    "# Exlcude those with other relevant comorbidities\n",
    "cleopatra = cleopatra[~cleopatra['PatientID'].isin(other_comorb_IDs)]"
   ]
  },
  {
   "cell_type": "code",
   "execution_count": 382,
   "id": "4ebd00b2",
   "metadata": {},
   "outputs": [],
   "source": [
    "# Exclude those with ECOG 2, 3, or 4\n",
    "cleopatra = cleopatra[~cleopatra['PatientID'].isin(ecog_fl_234_IDs)]"
   ]
  },
  {
   "cell_type": "code",
   "execution_count": 383,
   "id": "fa163bcc",
   "metadata": {},
   "outputs": [],
   "source": [
    "# Exclude those with abnormal organ function at time of second line treatment \n",
    "cleopatra = cleopatra[~cleopatra['PatientID'].isin(ab_organ_fl_IDs)]"
   ]
  },
  {
   "cell_type": "code",
   "execution_count": 384,
   "id": "0116c3ee",
   "metadata": {},
   "outputs": [
    {
     "data": {
      "text/plain": [
       "(1005, 1005)"
      ]
     },
     "execution_count": 384,
     "metadata": {},
     "output_type": "execute_result"
    }
   ],
   "source": [
    "row_ID(cleopatra)"
   ]
  },
  {
   "cell_type": "code",
   "execution_count": 385,
   "id": "6a0a2ef6",
   "metadata": {},
   "outputs": [],
   "source": [
    "low_cutoff_cleopatra = cutoff.loc['cleopatra'].low"
   ]
  },
  {
   "cell_type": "code",
   "execution_count": 386,
   "id": "60826fd9",
   "metadata": {},
   "outputs": [],
   "source": [
    "high_cutoff_cleopatra = cutoff.loc['cleopatra'].high"
   ]
  },
  {
   "cell_type": "code",
   "execution_count": 387,
   "id": "9e054dcb",
   "metadata": {},
   "outputs": [
    {
     "name": "stdout",
     "output_type": "stream",
     "text": [
      "Pertuzumab + trastuzumab + docetaxel/paclitaxel total: 892\n",
      "High risk: 219\n",
      "Med risk: 321\n",
      "Low risk: 352\n"
     ]
    }
   ],
   "source": [
    "print('Pertuzumab + trastuzumab + docetaxel/paclitaxel total:',  cleopatra.query('tpdp == 1').shape[0])\n",
    "print('High risk:', cleopatra.query('tpdp == 1').query('risk_score >= @high_cutoff_cleopatra').shape[0])\n",
    "print('Med risk:', cleopatra.query('tpdp == 1').query('risk_score < @high_cutoff_cleopatra and risk_score > @low_cutoff_cleopatra').shape[0])\n",
    "print('Low risk:', cleopatra.query('tpdp == 1').query('risk_score <= @low_cutoff_cleopatra').shape[0])"
   ]
  },
  {
   "cell_type": "code",
   "execution_count": 388,
   "id": "fc5dcc8c",
   "metadata": {
    "scrolled": true
   },
   "outputs": [
    {
     "name": "stdout",
     "output_type": "stream",
     "text": [
      "Trastuzumab + docetaxel/paclitaxel total: 113\n",
      "High risk: 39\n",
      "Med risk: 35\n",
      "Low risk: 39\n"
     ]
    }
   ],
   "source": [
    "print('Trastuzumab + docetaxel/paclitaxel total:',  cleopatra.query('tpdp == 0').shape[0])\n",
    "print('High risk:', cleopatra.query('tpdp == 0').query('risk_score >= @high_cutoff_cleopatra').shape[0])\n",
    "print('Med risk:', cleopatra.query('tpdp == 0').query('risk_score < @high_cutoff_cleopatra and risk_score > @low_cutoff_cleopatra').shape[0])\n",
    "print('Low risk:', cleopatra.query('tpdp == 0').query('risk_score <= @low_cutoff_cleopatra').shape[0])"
   ]
  },
  {
   "cell_type": "markdown",
   "id": "71c13cb4",
   "metadata": {},
   "source": [
    "#### Survival curves with covariate balancing "
   ]
  },
  {
   "cell_type": "code",
   "execution_count": 389,
   "id": "1a417862",
   "metadata": {},
   "outputs": [],
   "source": [
    "conditions = [\n",
    "    (cleopatra['thorax_met'] == 1) |\n",
    "    (cleopatra['liver_met'] == 1) |\n",
    "    (cleopatra['cns_met'] == 1) |\n",
    "    (cleopatra['peritoneum_met'] == 1) |\n",
    "    (cleopatra['other_met'] == 1),\n",
    "    (cleopatra['bone_met'] == 0) &\n",
    "    (cleopatra['thorax_met'] == 0) &\n",
    "    (cleopatra['lymph_met'] == 0) &\n",
    "    (cleopatra['liver_met'] == 0) &\n",
    "    (cleopatra['cns_met'] == 0) &\n",
    "    (cleopatra['skin_met'] == 0) &\n",
    "    (cleopatra['peritoneum_met'] == 0) &\n",
    "    (cleopatra['other_met'] == 0)\n",
    "]\n",
    "\n",
    "choices = ['visceral', 'unknown']\n",
    "\n",
    "cleopatra['met_site'] = np.select(conditions, choices, default = 'nonvisceral')"
   ]
  },
  {
   "cell_type": "code",
   "execution_count": 390,
   "id": "17ed498f",
   "metadata": {},
   "outputs": [],
   "source": [
    "cleopatra['met_cat'] = pd.cut(cleopatra['met_year'],\n",
    "                              bins = [2010, 2016, float('inf')],\n",
    "                              labels = ['11-16', '17-22'])"
   ]
  },
  {
   "cell_type": "code",
   "execution_count": 391,
   "id": "3187524b",
   "metadata": {},
   "outputs": [],
   "source": [
    "conditions = [\n",
    "    ((cleopatra['ecog_diagnosis'] == \"1.0\") | (cleopatra['ecog_diagnosis'] == \"0.0\")),  \n",
    "    ((cleopatra['ecog_diagnosis'] == \"2.0\") | (cleopatra['ecog_diagnosis'] == \"3.0\"))\n",
    "]\n",
    "\n",
    "choices = ['lt_2', 'gte_2']\n",
    "\n",
    "cleopatra['ecog_2'] = np.select(conditions, choices, default = 'unknown')"
   ]
  },
  {
   "cell_type": "code",
   "execution_count": 392,
   "id": "a843a449",
   "metadata": {},
   "outputs": [],
   "source": [
    "conditions = [\n",
    "    ((cleopatra['ses'] == 1) | (cleopatra['ses'] == 2) | (cleopatra['ses'] == 3)), \n",
    "    ((cleopatra['ses'] == 4) | (cleopatra['ses'] == 5))\n",
    "]\n",
    "\n",
    "choices = ['lt_4', 'gte_4']\n",
    "\n",
    "cleopatra['ses_cat'] = np.select(conditions, choices, default = 'unknown')"
   ]
  },
  {
   "cell_type": "code",
   "execution_count": 393,
   "id": "a1ce6d5a",
   "metadata": {},
   "outputs": [],
   "source": [
    "cleopatra['race_cat'] = np.where(cleopatra['race'] == \"White\", 1, 0)"
   ]
  },
  {
   "cell_type": "code",
   "execution_count": 394,
   "id": "730717d7",
   "metadata": {},
   "outputs": [],
   "source": [
    "cleopatra = cleopatra.set_index('PatientID')"
   ]
  },
  {
   "cell_type": "code",
   "execution_count": 395,
   "id": "8d819a70",
   "metadata": {},
   "outputs": [],
   "source": [
    "cleopatra_iptw = cleopatra.filter(items = ['death_status',\n",
    "                                           'timerisk_treatment',\n",
    "                                           'tpdp',\n",
    "                                           'age',\n",
    "                                           'gender',\n",
    "                                           'race_cat',\n",
    "                                           'p_type',\n",
    "                                           'delta_met_diagnosis',\n",
    "                                           'met_cat',\n",
    "                                           'ses_cat',\n",
    "                                           'ecog_2',\n",
    "                                           'albumin_diag',\n",
    "                                           'weight_pct_change',\n",
    "                                           'risk_score'])"
   ]
  },
  {
   "cell_type": "code",
   "execution_count": 396,
   "id": "c0fe948b",
   "metadata": {},
   "outputs": [
    {
     "data": {
      "text/plain": [
       "death_status               bool\n",
       "timerisk_treatment      float64\n",
       "tpdp                      int64\n",
       "age                       int64\n",
       "gender                   object\n",
       "race_cat                  int64\n",
       "p_type                   object\n",
       "delta_met_diagnosis       int64\n",
       "met_cat                category\n",
       "ses_cat                  object\n",
       "ecog_2                   object\n",
       "albumin_diag            float64\n",
       "weight_pct_change       float64\n",
       "risk_score              float64\n",
       "dtype: object"
      ]
     },
     "execution_count": 396,
     "metadata": {},
     "output_type": "execute_result"
    }
   ],
   "source": [
    "cleopatra_iptw.dtypes"
   ]
  },
  {
   "cell_type": "code",
   "execution_count": 397,
   "id": "fa28cae3",
   "metadata": {},
   "outputs": [],
   "source": [
    "to_be_categorical = list(cleopatra_iptw.select_dtypes(include = ['object']).columns)"
   ]
  },
  {
   "cell_type": "code",
   "execution_count": 398,
   "id": "2fbb8c62",
   "metadata": {},
   "outputs": [
    {
     "data": {
      "text/plain": [
       "['gender', 'p_type', 'ses_cat', 'ecog_2']"
      ]
     },
     "execution_count": 398,
     "metadata": {},
     "output_type": "execute_result"
    }
   ],
   "source": [
    "to_be_categorical"
   ]
  },
  {
   "cell_type": "code",
   "execution_count": 399,
   "id": "84266c9a",
   "metadata": {},
   "outputs": [],
   "source": [
    "to_be_categorical.append('met_cat')"
   ]
  },
  {
   "cell_type": "code",
   "execution_count": 400,
   "id": "dfec72bb",
   "metadata": {},
   "outputs": [],
   "source": [
    "to_be_categorical.append('race_cat')"
   ]
  },
  {
   "cell_type": "code",
   "execution_count": 401,
   "id": "725380ac",
   "metadata": {},
   "outputs": [],
   "source": [
    "# Convert variables in list to categorical.\n",
    "for x in list(to_be_categorical):\n",
    "    cleopatra_iptw[x] = cleopatra_iptw[x].astype('category')"
   ]
  },
  {
   "cell_type": "code",
   "execution_count": 402,
   "id": "ebf3e46b",
   "metadata": {},
   "outputs": [],
   "source": [
    "# List of numeric variables, excluding binary variables. \n",
    "numerical_features = ['age', 'delta_met_diagnosis']\n",
    "\n",
    "# Transformer will first calculate column median and impute, and then apply a standard scaler. \n",
    "numerical_transformer = Pipeline(steps = [\n",
    "    ('imputer', SimpleImputer(strategy = 'median')),\n",
    "    ('std_scaler', StandardScaler())])"
   ]
  },
  {
   "cell_type": "code",
   "execution_count": 403,
   "id": "8fbd9dbc",
   "metadata": {},
   "outputs": [],
   "source": [
    "# List of categorical features.\n",
    "categorical_features = list(cleopatra_iptw.select_dtypes(include = ['category']).columns)\n",
    "\n",
    "# One-hot-encode categorical features.\n",
    "categorical_transformer = OneHotEncoder(handle_unknown = 'ignore')"
   ]
  },
  {
   "cell_type": "code",
   "execution_count": 404,
   "id": "b94deea0",
   "metadata": {},
   "outputs": [],
   "source": [
    "preprocessor = ColumnTransformer(\n",
    "    transformers = [\n",
    "        ('num', numerical_transformer, numerical_features),\n",
    "        ('cat', categorical_transformer, categorical_features)],\n",
    "    remainder = 'passthrough')"
   ]
  },
  {
   "cell_type": "code",
   "execution_count": 405,
   "id": "5c4ff4be",
   "metadata": {},
   "outputs": [],
   "source": [
    "cleopatra_iptw_low = (\n",
    "    cleopatra_iptw\n",
    "    .query('risk_score <= @low_cutoff_cleopatra')\n",
    "    .drop(columns = ['risk_score']))\n",
    "\n",
    "cleopatra_iptw_med = (\n",
    "    cleopatra_iptw\n",
    "    .query('risk_score < @high_cutoff_cleopatra and risk_score > @low_cutoff_cleopatra')\n",
    "    .drop(columns = ['risk_score']))\n",
    "\n",
    "cleopatra_iptw_high = (\n",
    "    cleopatra_iptw\n",
    "    .query('risk_score >= @high_cutoff_cleopatra')\n",
    "    .drop(columns = ['risk_score']))\n",
    "\n",
    "cleopatra_iptw_all = (\n",
    "    cleopatra_iptw\n",
    "    .drop(columns = ['risk_score']))"
   ]
  },
  {
   "cell_type": "code",
   "execution_count": 406,
   "id": "6e177b4a",
   "metadata": {},
   "outputs": [],
   "source": [
    "cleopatra_low_x = preprocessor.fit_transform(cleopatra_iptw_low.filter(items = ['age',\n",
    "                                                                                'gender',\n",
    "                                                                                'race_cat',\n",
    "                                                                                'p_type',\n",
    "                                                                                'delta_met_diagnosis',\n",
    "                                                                                'met_cat',\n",
    "                                                                                'ses_cat',\n",
    "                                                                                'ecog_2']))\n",
    "\n",
    "cleopatra_med_x = preprocessor.fit_transform(cleopatra_iptw_med.filter(items = ['age',\n",
    "                                                                                'gender',\n",
    "                                                                                'race_cat',\n",
    "                                                                                'p_type',\n",
    "                                                                                'delta_met_diagnosis',\n",
    "                                                                                'met_cat',\n",
    "                                                                                'ses_cat',\n",
    "                                                                                'ecog_2']))\n",
    "\n",
    "cleopatra_high_x = preprocessor.fit_transform(cleopatra_iptw_high.filter(items = ['age',\n",
    "                                                                                  'gender',\n",
    "                                                                                  'race_cat',\n",
    "                                                                                  'p_type',\n",
    "                                                                                  'delta_met_diagnosis',\n",
    "                                                                                  'met_cat',\n",
    "                                                                                  'ses_cat',\n",
    "                                                                                  'ecog_2']))\n",
    "\n",
    "cleopatra_all_x = preprocessor.fit_transform(cleopatra_iptw_all.filter(items = ['age',\n",
    "                                                                                'gender',\n",
    "                                                                                'race_cat',\n",
    "                                                                                'p_type',\n",
    "                                                                                'delta_met_diagnosis',\n",
    "                                                                                'met_cat',\n",
    "                                                                                'ses_cat',\n",
    "                                                                                'ecog_2']))"
   ]
  },
  {
   "cell_type": "code",
   "execution_count": 407,
   "id": "e492d45a",
   "metadata": {},
   "outputs": [
    {
     "data": {
      "text/plain": [
       "LogisticRegression(max_iter=1000)"
      ]
     },
     "execution_count": 407,
     "metadata": {},
     "output_type": "execute_result"
    }
   ],
   "source": [
    "lr_cleopatra_low = LogisticRegression(max_iter = 1000)\n",
    "lr_cleopatra_low.fit(cleopatra_low_x, cleopatra_iptw_low['tpdp'])"
   ]
  },
  {
   "cell_type": "code",
   "execution_count": 408,
   "id": "86b86762",
   "metadata": {},
   "outputs": [
    {
     "data": {
      "text/plain": [
       "LogisticRegression(max_iter=1000)"
      ]
     },
     "execution_count": 408,
     "metadata": {},
     "output_type": "execute_result"
    }
   ],
   "source": [
    "lr_cleopatra_med = LogisticRegression(max_iter = 1000)\n",
    "lr_cleopatra_med.fit(cleopatra_med_x, cleopatra_iptw_med['tpdp'])"
   ]
  },
  {
   "cell_type": "code",
   "execution_count": 409,
   "id": "881d885b",
   "metadata": {},
   "outputs": [
    {
     "data": {
      "text/plain": [
       "LogisticRegression(max_iter=1000)"
      ]
     },
     "execution_count": 409,
     "metadata": {},
     "output_type": "execute_result"
    }
   ],
   "source": [
    "lr_cleopatra_high = LogisticRegression(max_iter = 1000)\n",
    "lr_cleopatra_high.fit(cleopatra_high_x, cleopatra_iptw_high['tpdp'])"
   ]
  },
  {
   "cell_type": "code",
   "execution_count": 410,
   "id": "91ed0c92",
   "metadata": {},
   "outputs": [
    {
     "data": {
      "text/plain": [
       "LogisticRegression(max_iter=1000)"
      ]
     },
     "execution_count": 410,
     "metadata": {},
     "output_type": "execute_result"
    }
   ],
   "source": [
    "lr_cleopatra_all = LogisticRegression(max_iter = 1000)\n",
    "lr_cleopatra_all.fit(cleopatra_all_x, cleopatra_iptw_all['tpdp'])"
   ]
  },
  {
   "cell_type": "code",
   "execution_count": 411,
   "id": "ae6c8a6e",
   "metadata": {},
   "outputs": [],
   "source": [
    "pred_low = lr_cleopatra_low.predict_proba(cleopatra_low_x)\n",
    "pred_med = lr_cleopatra_med.predict_proba(cleopatra_med_x)\n",
    "pred_high = lr_cleopatra_high.predict_proba(cleopatra_high_x)\n",
    "pred_all = lr_cleopatra_all.predict_proba(cleopatra_all_x)"
   ]
  },
  {
   "cell_type": "code",
   "execution_count": 412,
   "id": "ed9f0338",
   "metadata": {},
   "outputs": [],
   "source": [
    "cleopatra_iptw_low['ps'] = pred_low[:, 1]\n",
    "cleopatra_iptw_med['ps'] = pred_med[:, 1]\n",
    "cleopatra_iptw_high['ps'] = pred_high[:, 1]\n",
    "cleopatra_iptw_all['ps'] = pred_all[:, 1]"
   ]
  },
  {
   "cell_type": "code",
   "execution_count": 413,
   "id": "6ee57c24",
   "metadata": {},
   "outputs": [],
   "source": [
    "cleopatra_iptw_low['weight'] = (\n",
    "    np.where(cleopatra_iptw_low['tpdp'] == 1, 1/cleopatra_iptw_low['ps'], 1/(1 - cleopatra_iptw_low['ps'])))\n",
    "\n",
    "cleopatra_iptw_med['weight'] = (\n",
    "    np.where(cleopatra_iptw_med['tpdp'] == 1, 1/cleopatra_iptw_med['ps'], 1/(1 - cleopatra_iptw_med['ps'])))\n",
    "\n",
    "cleopatra_iptw_high['weight'] = (\n",
    "    np.where(cleopatra_iptw_high['tpdp'] == 1, 1/cleopatra_iptw_high['ps'], 1/(1 - cleopatra_iptw_high['ps'])))\n",
    "\n",
    "cleopatra_iptw_all['weight'] = (\n",
    "    np.where(cleopatra_iptw_all['tpdp'] == 1, 1/cleopatra_iptw_all['ps'], 1/(1 - cleopatra_iptw_all['ps'])))"
   ]
  },
  {
   "cell_type": "code",
   "execution_count": 414,
   "id": "c37ca467",
   "metadata": {},
   "outputs": [
    {
     "data": {
      "text/plain": [
       "<lifelines.KaplanMeierFitter:\"KM_estimate\", fitted with 936.338 total observations, 303.26 right-censored observations>"
      ]
     },
     "execution_count": 414,
     "metadata": {},
     "output_type": "execute_result"
    }
   ],
   "source": [
    "# Low KM curves\n",
    "kmf_low_tpdp_cleopatra_iptw = KaplanMeierFitter()\n",
    "kmf_low_tdp_cleopatra_iptw = KaplanMeierFitter()\n",
    "\n",
    "kmf_low_tpdp_cleopatra_iptw.fit(\n",
    "    cleopatra_iptw_low.query('tpdp == 1')['timerisk_treatment']/30,\n",
    "    cleopatra_iptw_low.query('tpdp == 1')['death_status'],\n",
    "    weights = cleopatra_iptw_low.query('tpdp == 1')['weight'])\n",
    "\n",
    "kmf_low_tdp_cleopatra_iptw.fit(\n",
    "    cleopatra_iptw_low.query('tpdp == 0')['timerisk_treatment']/30,\n",
    "    cleopatra_iptw_low.query('tpdp == 0')['death_status'],\n",
    "    weights = cleopatra_iptw_low.query('tpdp == 0')['weight'])\n",
    "\n",
    "# Med KM curves\n",
    "kmf_med_tpdp_cleopatra_iptw = KaplanMeierFitter()\n",
    "kmf_med_tdp_cleopatra_iptw = KaplanMeierFitter()\n",
    "\n",
    "kmf_med_tpdp_cleopatra_iptw.fit(\n",
    "    cleopatra_iptw_med.query('tpdp == 1')['timerisk_treatment']/30,\n",
    "    cleopatra_iptw_med.query('tpdp == 1')['death_status'], \n",
    "    weights = cleopatra_iptw_med.query('tpdp == 1')['weight'])\n",
    "\n",
    "kmf_med_tdp_cleopatra_iptw.fit(\n",
    "    cleopatra_iptw_med.query('tpdp == 0')['timerisk_treatment']/30,\n",
    "    cleopatra_iptw_med.query('tpdp == 0')['death_status'], \n",
    "    weights = cleopatra_iptw_med.query('tpdp == 0')['weight'])\n",
    "\n",
    "# High KM curves \n",
    "kmf_high_tpdp_cleopatra_iptw = KaplanMeierFitter()\n",
    "kmf_high_tdp_cleopatra_iptw = KaplanMeierFitter()\n",
    "\n",
    "kmf_high_tpdp_cleopatra_iptw.fit(\n",
    "    cleopatra_iptw_high.query('tpdp == 1')['timerisk_treatment']/30,\n",
    "    cleopatra_iptw_high.query('tpdp == 1')['death_status'], \n",
    "    weights = cleopatra_iptw_high.query('tpdp == 1')['weight'])\n",
    "\n",
    "kmf_high_tdp_cleopatra_iptw.fit(\n",
    "    cleopatra_iptw_high.query('tpdp == 0')['timerisk_treatment']/30,\n",
    "    cleopatra_iptw_high.query('tpdp == 0')['death_status'], \n",
    "    weights = cleopatra_iptw_high.query('tpdp == 0')['weight'])\n",
    "\n",
    "# All KM curves \n",
    "kmf_all_tpdp_cleopatra_iptw = KaplanMeierFitter()\n",
    "kmf_all_tdp_cleopatra_iptw = KaplanMeierFitter()\n",
    "\n",
    "kmf_all_tpdp_cleopatra_iptw.fit(\n",
    "    cleopatra_iptw_all.query('tpdp == 1')['timerisk_treatment']/30,\n",
    "    cleopatra_iptw_all.query('tpdp == 1')['death_status'], \n",
    "    weights = cleopatra_iptw_all.query('tpdp == 1')['weight'])\n",
    "\n",
    "kmf_all_tdp_cleopatra_iptw.fit(\n",
    "    cleopatra_iptw_all.query('tpdp == 0')['timerisk_treatment']/30,\n",
    "    cleopatra_iptw_all.query('tpdp == 0')['death_status'], \n",
    "    weights = cleopatra_iptw_all.query('tpdp == 0')['weight'])"
   ]
  },
  {
   "cell_type": "markdown",
   "id": "126ceb9b",
   "metadata": {},
   "source": [
    "#### Calculating survival metrics "
   ]
  },
  {
   "cell_type": "code",
   "execution_count": 415,
   "id": "88ce5d75",
   "metadata": {},
   "outputs": [],
   "source": [
    "tpdp_cleopatra_median_os = mos(kmf_low_tpdp_cleopatra_iptw,\n",
    "                               kmf_med_tpdp_cleopatra_iptw,\n",
    "                               kmf_high_tpdp_cleopatra_iptw,\n",
    "                               kmf_all_tpdp_cleopatra_iptw)\n",
    "\n",
    "tdp_cleopatra_median_os = mos(kmf_low_tdp_cleopatra_iptw,\n",
    "                              kmf_med_tdp_cleopatra_iptw,\n",
    "                              kmf_high_tdp_cleopatra_iptw,\n",
    "                              kmf_all_tdp_cleopatra_iptw)"
   ]
  },
  {
   "cell_type": "code",
   "execution_count": 416,
   "id": "c1c0870e",
   "metadata": {},
   "outputs": [],
   "source": [
    "cleopatra_iptw_all_imputed = cleopatra_iptw_all.copy()\n",
    "cleopatra_iptw_all_imputed['albumin_diag'] = cleopatra_iptw_all_imputed['albumin_diag'].fillna(cleopatra_iptw_all_imputed['albumin_diag'].median())\n",
    "cleopatra_iptw_all_imputed['weight_pct_change'] = cleopatra_iptw_all_imputed['weight_pct_change'].fillna(cleopatra_iptw_all_imputed['weight_pct_change'].median())"
   ]
  },
  {
   "cell_type": "code",
   "execution_count": 417,
   "id": "34dad995",
   "metadata": {},
   "outputs": [],
   "source": [
    "cleopatra_iptw_all_imputed = pd.merge(cleopatra_iptw_all_imputed.reset_index(), df_full.reset_index()[['PatientID', 'risk_score']], on = 'PatientID', how = 'left')"
   ]
  },
  {
   "cell_type": "code",
   "execution_count": 418,
   "id": "8eb08e9b",
   "metadata": {},
   "outputs": [
    {
     "data": {
      "text/plain": [
       "<lifelines.CoxPHFitter: fitted with 1941.77 total observations, 864.898 right-censored observations>"
      ]
     },
     "execution_count": 418,
     "metadata": {},
     "output_type": "execute_result"
    }
   ],
   "source": [
    "cleopatra_hr_all = CoxPHFitter()\n",
    "cleopatra_hr_all.fit(cleopatra_iptw_all_imputed,\n",
    "                    duration_col = 'timerisk_treatment', \n",
    "                    event_col = 'death_status', \n",
    "                    formula = 'tpdp + age + gender + race_cat + p_type + delta_met_diagnosis + met_cat + ses_cat + ecog_2 + albumin_diag + weight_pct_change + risk_score',\n",
    "                    weights_col = 'weight',\n",
    "                    robust = True)"
   ]
  },
  {
   "cell_type": "code",
   "execution_count": 419,
   "id": "80c03271",
   "metadata": {},
   "outputs": [],
   "source": [
    "cleopatra_all_rmst_mos_95 = rmst_mos_95ci(cleopatra_iptw_all,\n",
    "                                          1000,\n",
    "                                          'tpdp',\n",
    "                                          'death',\n",
    "                                          ['age',\n",
    "                                           'gender',\n",
    "                                           'race_cat',\n",
    "                                           'p_type',\n",
    "                                           'delta_met_diagnosis',\n",
    "                                           'met_cat',\n",
    "                                           'ses_cat',\n",
    "                                           'ecog_2'],\n",
    "                                          ['age', 'delta_met_diagnosis'],\n",
    "                                          60)"
   ]
  },
  {
   "cell_type": "code",
   "execution_count": 420,
   "id": "7e3c8fce",
   "metadata": {},
   "outputs": [],
   "source": [
    "cleopatra_low_rmst_mos_95 = rmst_mos_95ci(cleopatra_iptw_low,\n",
    "                                          1000,\n",
    "                                          'tpdp',\n",
    "                                          'death',\n",
    "                                          ['age',\n",
    "                                           'gender',\n",
    "                                           'race_cat',\n",
    "                                           'p_type',\n",
    "                                           'delta_met_diagnosis',\n",
    "                                           'met_cat',\n",
    "                                           'ses_cat',\n",
    "                                           'ecog_2'],\n",
    "                                          ['age', 'delta_met_diagnosis'],\n",
    "                                          60)"
   ]
  },
  {
   "cell_type": "code",
   "execution_count": 421,
   "id": "ac1b6eaa",
   "metadata": {},
   "outputs": [],
   "source": [
    "cleopatra_med_rmst_mos_95 = rmst_mos_95ci(cleopatra_iptw_med,\n",
    "                                          1000,\n",
    "                                          'tpdp',\n",
    "                                          'death',\n",
    "                                          ['age',\n",
    "                                           'gender',\n",
    "                                           'race_cat',\n",
    "                                           'p_type',\n",
    "                                           'delta_met_diagnosis',\n",
    "                                           'met_cat',\n",
    "                                           'ses_cat',\n",
    "                                           'ecog_2'],\n",
    "                                          ['age', 'delta_met_diagnosis'],\n",
    "                                          60)"
   ]
  },
  {
   "cell_type": "code",
   "execution_count": 422,
   "id": "c529e771",
   "metadata": {},
   "outputs": [],
   "source": [
    "cleopatra_high_rmst_mos_95 = rmst_mos_95ci(cleopatra_iptw_high,\n",
    "                                          1000,\n",
    "                                          'tpdp',\n",
    "                                          'death',\n",
    "                                          ['age',\n",
    "                                           'gender',\n",
    "                                           'race_cat',\n",
    "                                           'p_type',\n",
    "                                           'delta_met_diagnosis',\n",
    "                                           'met_cat',\n",
    "                                           'ses_cat',\n",
    "                                           'ecog_2'],\n",
    "                                          ['age', 'delta_met_diagnosis'],\n",
    "                                          60)"
   ]
  },
  {
   "cell_type": "code",
   "execution_count": 423,
   "id": "2746c9e1",
   "metadata": {},
   "outputs": [],
   "source": [
    "cleopatra_data = [\n",
    "    {'trial_name': 'CLEOPATRA', \n",
    "     'risk_group': 'low', \n",
    "     's_trt_mos': tpdp_cleopatra_median_os[0],\n",
    "     's_trt_mos_95': cleopatra_low_rmst_mos_95.mos_A_95,\n",
    "     's_cont_mos': tdp_cleopatra_median_os[0],\n",
    "     's_cont_mos_95': cleopatra_low_rmst_mos_95.mos_B_95,\n",
    "     's_mos_diff': tpdp_cleopatra_median_os[0] - tdp_cleopatra_median_os[0], \n",
    "     'rct_trt_arm': 57.1,\n",
    "     'rct_cont_arm': 40.8,\n",
    "     'rct_mos_diff': 57.1-40.8,\n",
    "     's_trt_rmst': restricted_mean_survival_time(kmf_low_tpdp_cleopatra_iptw, 60),\n",
    "     's_trt_rmst_95': cleopatra_low_rmst_mos_95.rmst_A_95,\n",
    "     's_cont_rmst': restricted_mean_survival_time(kmf_low_tdp_cleopatra_iptw, 60),\n",
    "     's_cont_rmst_95': cleopatra_low_rmst_mos_95.rmst_B_95,\n",
    "     's_diff_rmst': restricted_mean_survival_time(kmf_low_tpdp_cleopatra_iptw, 60) - restricted_mean_survival_time(kmf_low_tdp_cleopatra_iptw, 60),\n",
    "     's_diff_rmst_95': cleopatra_low_rmst_mos_95.difference_rmst_95,\n",
    "     'scount': cleopatra.query('risk_score <= @low_cutoff_cleopatra').shape[0]},\n",
    "    \n",
    "    {'trial_name': 'CLEOPATRA', \n",
    "     'risk_group': 'medium', \n",
    "     's_trt_mos': tpdp_cleopatra_median_os[1],\n",
    "     's_trt_mos_95': cleopatra_med_rmst_mos_95.mos_A_95,\n",
    "     's_cont_mos': tdp_cleopatra_median_os[1],\n",
    "     's_cont_mos_95': cleopatra_med_rmst_mos_95.mos_B_95,\n",
    "     's_mos_diff': tpdp_cleopatra_median_os[1] - tdp_cleopatra_median_os[1], \n",
    "     'rct_trt_arm': 57.1,\n",
    "     'rct_cont_arm': 40.8,\n",
    "     'rct_mos_diff': 57.1-40.8,\n",
    "     's_trt_rmst': restricted_mean_survival_time(kmf_med_tpdp_cleopatra_iptw, 60),\n",
    "     's_trt_rmst_95': cleopatra_med_rmst_mos_95.rmst_A_95,\n",
    "     's_cont_rmst': restricted_mean_survival_time(kmf_med_tdp_cleopatra_iptw, 60),\n",
    "     's_cont_rmst_95': cleopatra_med_rmst_mos_95.rmst_B_95,\n",
    "     's_diff_rmst': restricted_mean_survival_time(kmf_med_tpdp_cleopatra_iptw, 60) - restricted_mean_survival_time(kmf_med_tdp_cleopatra_iptw, 60),\n",
    "     's_diff_rmst_95': cleopatra_med_rmst_mos_95.difference_rmst_95,\n",
    "     'scount': cleopatra.query('risk_score < @high_cutoff_cleopatra and risk_score > @low_cutoff_cleopatra').shape[0]},\n",
    "    \n",
    "    {'trial_name': 'CLEOPATRA', \n",
    "     'risk_group': 'high', \n",
    "     's_trt_mos': tpdp_cleopatra_median_os[2],\n",
    "     's_trt_mos_95': cleopatra_high_rmst_mos_95.mos_A_95,\n",
    "     's_cont_mos': tdp_cleopatra_median_os[2],\n",
    "     's_cont_mos_95': cleopatra_high_rmst_mos_95.mos_B_95,\n",
    "     's_mos_diff': tpdp_cleopatra_median_os[2] - tdp_cleopatra_median_os[2], \n",
    "     'rct_trt_arm': 57.1,\n",
    "     'rct_cont_arm': 40.8,\n",
    "     'rct_mos_diff': 57.1-40.8,\n",
    "     's_trt_rmst': restricted_mean_survival_time(kmf_high_tpdp_cleopatra_iptw, 60),\n",
    "     's_trt_rmst_95': cleopatra_high_rmst_mos_95.rmst_A_95,\n",
    "     's_cont_rmst': restricted_mean_survival_time(kmf_high_tdp_cleopatra_iptw, 60),\n",
    "     's_cont_rmst_95': cleopatra_high_rmst_mos_95.rmst_B_95,\n",
    "     's_diff_rmst': restricted_mean_survival_time(kmf_high_tpdp_cleopatra_iptw, 60) - restricted_mean_survival_time(kmf_high_tdp_cleopatra_iptw, 60),\n",
    "     's_diff_rmst_95': cleopatra_high_rmst_mos_95.difference_rmst_95,\n",
    "     'scount': cleopatra.query('risk_score >= @high_cutoff_cleopatra').shape[0]},\n",
    "    \n",
    "    {'trial_name': 'CLEOPATRA', \n",
    "     'risk_group': 'all', \n",
    "     's_hr': cleopatra_hr_all.hazard_ratios_['tpdp'],\n",
    "     's_hr_95': [cleopatra_hr_all.summary.loc['tpdp']['exp(coef) lower 95%'], cleopatra_hr_all.summary.loc['tpdp']['exp(coef) upper 95%']],\n",
    "     's_trt_mos': tpdp_cleopatra_median_os[3],\n",
    "     's_trt_mos_95': cleopatra_all_rmst_mos_95.mos_A_95,\n",
    "     's_cont_mos': tdp_cleopatra_median_os[3],\n",
    "     's_cont_mos_95': cleopatra_all_rmst_mos_95.mos_B_95,\n",
    "     's_mos_diff': tpdp_cleopatra_median_os[3] - tdp_cleopatra_median_os[3], \n",
    "     'rct_trt_arm': 57.1,\n",
    "     'rct_cont_arm': 40.8,\n",
    "     'rct_mos_diff': 57.1-40.8,\n",
    "     'scount': cleopatra.shape[0]}\n",
    "]"
   ]
  },
  {
   "cell_type": "markdown",
   "id": "98c31a17",
   "metadata": {},
   "source": [
    "## Part 3. Combining dictionaries "
   ]
  },
  {
   "cell_type": "code",
   "execution_count": 424,
   "id": "e2c9c4cd",
   "metadata": {},
   "outputs": [],
   "source": [
    "data_combined = paloma2_data + paloma3_data + cleopatra_data"
   ]
  },
  {
   "cell_type": "code",
   "execution_count": 425,
   "id": "f1b994c9",
   "metadata": {},
   "outputs": [],
   "source": [
    "strials_mos_rmst_boot = pd.DataFrame(data_combined)"
   ]
  },
  {
   "cell_type": "code",
   "execution_count": 426,
   "id": "6dd1f8a3",
   "metadata": {
    "scrolled": true
   },
   "outputs": [
    {
     "data": {
      "text/html": [
       "<div>\n",
       "<style scoped>\n",
       "    .dataframe tbody tr th:only-of-type {\n",
       "        vertical-align: middle;\n",
       "    }\n",
       "\n",
       "    .dataframe tbody tr th {\n",
       "        vertical-align: top;\n",
       "    }\n",
       "\n",
       "    .dataframe thead th {\n",
       "        text-align: right;\n",
       "    }\n",
       "</style>\n",
       "<table border=\"1\" class=\"dataframe\">\n",
       "  <thead>\n",
       "    <tr style=\"text-align: right;\">\n",
       "      <th></th>\n",
       "      <th>trial_name</th>\n",
       "      <th>risk_group</th>\n",
       "      <th>s_trt_mos</th>\n",
       "      <th>s_trt_mos_95</th>\n",
       "      <th>s_cont_mos</th>\n",
       "      <th>s_cont_mos_95</th>\n",
       "      <th>s_mos_diff</th>\n",
       "      <th>rct_trt_arm</th>\n",
       "      <th>rct_cont_arm</th>\n",
       "      <th>rct_mos_diff</th>\n",
       "      <th>s_trt_rmst</th>\n",
       "      <th>s_trt_rmst_95</th>\n",
       "      <th>s_cont_rmst</th>\n",
       "      <th>s_cont_rmst_95</th>\n",
       "      <th>s_diff_rmst</th>\n",
       "      <th>s_diff_rmst_95</th>\n",
       "      <th>scount</th>\n",
       "      <th>s_hr</th>\n",
       "      <th>s_hr_95</th>\n",
       "    </tr>\n",
       "  </thead>\n",
       "  <tbody>\n",
       "    <tr>\n",
       "      <th>0</th>\n",
       "      <td>PALOMA-2</td>\n",
       "      <td>low</td>\n",
       "      <td>32.033333</td>\n",
       "      <td>[28.461666666666666, 36.6]</td>\n",
       "      <td>21.933333</td>\n",
       "      <td>[20.266666666666666, 24.3]</td>\n",
       "      <td>10.100000</td>\n",
       "      <td>27.6</td>\n",
       "      <td>14.5</td>\n",
       "      <td>13.1</td>\n",
       "      <td>29.875194</td>\n",
       "      <td>[28.503408253277513, 31.44550477465725]</td>\n",
       "      <td>25.439408</td>\n",
       "      <td>[23.984425776555053, 27.045772834853526]</td>\n",
       "      <td>4.435786</td>\n",
       "      <td>[2.3338482690161215, 6.635226477842613]</td>\n",
       "      <td>1536</td>\n",
       "      <td>NaN</td>\n",
       "      <td>NaN</td>\n",
       "    </tr>\n",
       "    <tr>\n",
       "      <th>1</th>\n",
       "      <td>PALOMA-2</td>\n",
       "      <td>medium</td>\n",
       "      <td>24.566667</td>\n",
       "      <td>[20.7325, 30.0]</td>\n",
       "      <td>18.266667</td>\n",
       "      <td>[16.7, 20.3]</td>\n",
       "      <td>6.300000</td>\n",
       "      <td>27.6</td>\n",
       "      <td>14.5</td>\n",
       "      <td>13.1</td>\n",
       "      <td>26.412960</td>\n",
       "      <td>[24.70039556414195, 28.437863276744036]</td>\n",
       "      <td>22.327226</td>\n",
       "      <td>[21.042807537681696, 23.665775410666328]</td>\n",
       "      <td>4.085734</td>\n",
       "      <td>[2.0449036572259836, 6.384466339419586]</td>\n",
       "      <td>1473</td>\n",
       "      <td>NaN</td>\n",
       "      <td>NaN</td>\n",
       "    </tr>\n",
       "    <tr>\n",
       "      <th>2</th>\n",
       "      <td>PALOMA-2</td>\n",
       "      <td>high</td>\n",
       "      <td>11.800000</td>\n",
       "      <td>[10.066666666666666, 13.966666666666667]</td>\n",
       "      <td>9.433333</td>\n",
       "      <td>[8.333333333333334, 10.7]</td>\n",
       "      <td>2.366667</td>\n",
       "      <td>27.6</td>\n",
       "      <td>14.5</td>\n",
       "      <td>13.1</td>\n",
       "      <td>16.506114</td>\n",
       "      <td>[14.878941058363512, 18.071185535360634]</td>\n",
       "      <td>13.386579</td>\n",
       "      <td>[12.370227515662082, 14.377660039483194]</td>\n",
       "      <td>3.119535</td>\n",
       "      <td>[1.2620525354220855, 4.881942149141819]</td>\n",
       "      <td>1267</td>\n",
       "      <td>NaN</td>\n",
       "      <td>NaN</td>\n",
       "    </tr>\n",
       "    <tr>\n",
       "      <th>3</th>\n",
       "      <td>PALOMA-2</td>\n",
       "      <td>all</td>\n",
       "      <td>20.666667</td>\n",
       "      <td>[18.925833333333333, 21.833333333333332]</td>\n",
       "      <td>16.266667</td>\n",
       "      <td>[15.099166666666667, 17.533333333333335]</td>\n",
       "      <td>4.400000</td>\n",
       "      <td>27.6</td>\n",
       "      <td>14.5</td>\n",
       "      <td>13.1</td>\n",
       "      <td>NaN</td>\n",
       "      <td>NaN</td>\n",
       "      <td>NaN</td>\n",
       "      <td>NaN</td>\n",
       "      <td>NaN</td>\n",
       "      <td>NaN</td>\n",
       "      <td>4276</td>\n",
       "      <td>0.770165</td>\n",
       "      <td>[0.7044686557501216, 0.8419871839991265]</td>\n",
       "    </tr>\n",
       "    <tr>\n",
       "      <th>4</th>\n",
       "      <td>PALOMA-3</td>\n",
       "      <td>low</td>\n",
       "      <td>13.766667</td>\n",
       "      <td>[11.2, 17.033333333333335]</td>\n",
       "      <td>9.800000</td>\n",
       "      <td>[7.156666666666667, 13.102499999999997]</td>\n",
       "      <td>3.966667</td>\n",
       "      <td>9.5</td>\n",
       "      <td>4.6</td>\n",
       "      <td>4.9</td>\n",
       "      <td>14.192390</td>\n",
       "      <td>[12.763424882456649, 15.672814923500392]</td>\n",
       "      <td>11.933394</td>\n",
       "      <td>[10.476250981503593, 13.373207299008232]</td>\n",
       "      <td>2.258996</td>\n",
       "      <td>[0.26220238761223574, 4.295560598738964]</td>\n",
       "      <td>349</td>\n",
       "      <td>NaN</td>\n",
       "      <td>NaN</td>\n",
       "    </tr>\n",
       "    <tr>\n",
       "      <th>5</th>\n",
       "      <td>PALOMA-3</td>\n",
       "      <td>medium</td>\n",
       "      <td>9.366667</td>\n",
       "      <td>[6.266666666666667, 13.7]</td>\n",
       "      <td>4.900000</td>\n",
       "      <td>[4.233333333333333, 6.266666666666667]</td>\n",
       "      <td>4.466667</td>\n",
       "      <td>9.5</td>\n",
       "      <td>4.6</td>\n",
       "      <td>4.9</td>\n",
       "      <td>11.438872</td>\n",
       "      <td>[9.688231653203616, 13.220207972731593]</td>\n",
       "      <td>8.733969</td>\n",
       "      <td>[7.4299719383278235, 10.227282876909998]</td>\n",
       "      <td>2.704903</td>\n",
       "      <td>[0.26978706848601974, 4.935723780590562]</td>\n",
       "      <td>324</td>\n",
       "      <td>NaN</td>\n",
       "      <td>NaN</td>\n",
       "    </tr>\n",
       "    <tr>\n",
       "      <th>6</th>\n",
       "      <td>PALOMA-3</td>\n",
       "      <td>high</td>\n",
       "      <td>5.566667</td>\n",
       "      <td>[4.033333333333333, 8.966666666666667]</td>\n",
       "      <td>4.500000</td>\n",
       "      <td>[4.066666666666666, 5.633333333333334]</td>\n",
       "      <td>1.066667</td>\n",
       "      <td>9.5</td>\n",
       "      <td>4.6</td>\n",
       "      <td>4.9</td>\n",
       "      <td>8.549052</td>\n",
       "      <td>[7.101670110535841, 10.165603144941937]</td>\n",
       "      <td>6.507426</td>\n",
       "      <td>[5.495823850757027, 7.61497483371504]</td>\n",
       "      <td>2.041625</td>\n",
       "      <td>[0.23134300795921506, 3.8686579692175136]</td>\n",
       "      <td>267</td>\n",
       "      <td>NaN</td>\n",
       "      <td>NaN</td>\n",
       "    </tr>\n",
       "    <tr>\n",
       "      <th>7</th>\n",
       "      <td>PALOMA-3</td>\n",
       "      <td>all</td>\n",
       "      <td>10.533333</td>\n",
       "      <td>[8.9, 12.366666666666667]</td>\n",
       "      <td>6.066667</td>\n",
       "      <td>[5.199166666666667, 6.767499999999999]</td>\n",
       "      <td>4.466667</td>\n",
       "      <td>9.5</td>\n",
       "      <td>4.6</td>\n",
       "      <td>4.9</td>\n",
       "      <td>NaN</td>\n",
       "      <td>NaN</td>\n",
       "      <td>NaN</td>\n",
       "      <td>NaN</td>\n",
       "      <td>NaN</td>\n",
       "      <td>NaN</td>\n",
       "      <td>940</td>\n",
       "      <td>0.740055</td>\n",
       "      <td>[0.6279207192837161, 0.8722152368682689]</td>\n",
       "    </tr>\n",
       "    <tr>\n",
       "      <th>8</th>\n",
       "      <td>CLEOPATRA</td>\n",
       "      <td>low</td>\n",
       "      <td>90.933333</td>\n",
       "      <td>[82.76666666666667, nan]</td>\n",
       "      <td>52.066667</td>\n",
       "      <td>[33.333333333333336, 78.8]</td>\n",
       "      <td>38.866667</td>\n",
       "      <td>57.1</td>\n",
       "      <td>40.8</td>\n",
       "      <td>16.3</td>\n",
       "      <td>51.647747</td>\n",
       "      <td>[49.75908211685452, 53.44090161337312]</td>\n",
       "      <td>44.534412</td>\n",
       "      <td>[37.71709752464466, 51.10464672272865]</td>\n",
       "      <td>7.113335</td>\n",
       "      <td>[0.2909044456568117, 14.28987569917692]</td>\n",
       "      <td>391</td>\n",
       "      <td>NaN</td>\n",
       "      <td>NaN</td>\n",
       "    </tr>\n",
       "    <tr>\n",
       "      <th>9</th>\n",
       "      <td>CLEOPATRA</td>\n",
       "      <td>medium</td>\n",
       "      <td>50.866667</td>\n",
       "      <td>[44.666666666666664, 63.1]</td>\n",
       "      <td>42.200000</td>\n",
       "      <td>[23.666666666666668, 60.13333333333333]</td>\n",
       "      <td>8.666667</td>\n",
       "      <td>57.1</td>\n",
       "      <td>40.8</td>\n",
       "      <td>16.3</td>\n",
       "      <td>43.527447</td>\n",
       "      <td>[41.26401326689026, 45.58319309908114]</td>\n",
       "      <td>39.808802</td>\n",
       "      <td>[32.4666490975901, 47.655869244418035]</td>\n",
       "      <td>3.718645</td>\n",
       "      <td>[-4.49595122362415, 11.109113989835501]</td>\n",
       "      <td>356</td>\n",
       "      <td>NaN</td>\n",
       "      <td>NaN</td>\n",
       "    </tr>\n",
       "    <tr>\n",
       "      <th>10</th>\n",
       "      <td>CLEOPATRA</td>\n",
       "      <td>high</td>\n",
       "      <td>24.766667</td>\n",
       "      <td>[21.466666666666665, 29.079166666666655]</td>\n",
       "      <td>19.200000</td>\n",
       "      <td>[10.033333333333333, 27.0]</td>\n",
       "      <td>5.566667</td>\n",
       "      <td>57.1</td>\n",
       "      <td>40.8</td>\n",
       "      <td>16.3</td>\n",
       "      <td>28.687157</td>\n",
       "      <td>[25.758627083987143, 31.551012520778926]</td>\n",
       "      <td>22.291946</td>\n",
       "      <td>[15.168496875457278, 30.66205894863515]</td>\n",
       "      <td>6.395211</td>\n",
       "      <td>[-1.8322009456632147, 13.845956695435836]</td>\n",
       "      <td>258</td>\n",
       "      <td>NaN</td>\n",
       "      <td>NaN</td>\n",
       "    </tr>\n",
       "    <tr>\n",
       "      <th>11</th>\n",
       "      <td>CLEOPATRA</td>\n",
       "      <td>all</td>\n",
       "      <td>54.233333</td>\n",
       "      <td>[49.03333333333333, 61.56666666666667]</td>\n",
       "      <td>30.333333</td>\n",
       "      <td>[23.666666666666668, 42.13333333333333]</td>\n",
       "      <td>23.900000</td>\n",
       "      <td>57.1</td>\n",
       "      <td>40.8</td>\n",
       "      <td>16.3</td>\n",
       "      <td>NaN</td>\n",
       "      <td>NaN</td>\n",
       "      <td>NaN</td>\n",
       "      <td>NaN</td>\n",
       "      <td>NaN</td>\n",
       "      <td>NaN</td>\n",
       "      <td>1005</td>\n",
       "      <td>0.663222</td>\n",
       "      <td>[0.49608182761546354, 0.8866749007457889]</td>\n",
       "    </tr>\n",
       "  </tbody>\n",
       "</table>\n",
       "</div>"
      ],
      "text/plain": [
       "   trial_name risk_group  s_trt_mos                              s_trt_mos_95  \\\n",
       "0    PALOMA-2        low  32.033333                [28.461666666666666, 36.6]   \n",
       "1    PALOMA-2     medium  24.566667                           [20.7325, 30.0]   \n",
       "2    PALOMA-2       high  11.800000  [10.066666666666666, 13.966666666666667]   \n",
       "3    PALOMA-2        all  20.666667  [18.925833333333333, 21.833333333333332]   \n",
       "4    PALOMA-3        low  13.766667                [11.2, 17.033333333333335]   \n",
       "5    PALOMA-3     medium   9.366667                 [6.266666666666667, 13.7]   \n",
       "6    PALOMA-3       high   5.566667    [4.033333333333333, 8.966666666666667]   \n",
       "7    PALOMA-3        all  10.533333                 [8.9, 12.366666666666667]   \n",
       "8   CLEOPATRA        low  90.933333                  [82.76666666666667, nan]   \n",
       "9   CLEOPATRA     medium  50.866667                [44.666666666666664, 63.1]   \n",
       "10  CLEOPATRA       high  24.766667  [21.466666666666665, 29.079166666666655]   \n",
       "11  CLEOPATRA        all  54.233333    [49.03333333333333, 61.56666666666667]   \n",
       "\n",
       "    s_cont_mos                             s_cont_mos_95  s_mos_diff  \\\n",
       "0    21.933333                [20.266666666666666, 24.3]   10.100000   \n",
       "1    18.266667                              [16.7, 20.3]    6.300000   \n",
       "2     9.433333                 [8.333333333333334, 10.7]    2.366667   \n",
       "3    16.266667  [15.099166666666667, 17.533333333333335]    4.400000   \n",
       "4     9.800000   [7.156666666666667, 13.102499999999997]    3.966667   \n",
       "5     4.900000    [4.233333333333333, 6.266666666666667]    4.466667   \n",
       "6     4.500000    [4.066666666666666, 5.633333333333334]    1.066667   \n",
       "7     6.066667    [5.199166666666667, 6.767499999999999]    4.466667   \n",
       "8    52.066667                [33.333333333333336, 78.8]   38.866667   \n",
       "9    42.200000   [23.666666666666668, 60.13333333333333]    8.666667   \n",
       "10   19.200000                [10.033333333333333, 27.0]    5.566667   \n",
       "11   30.333333   [23.666666666666668, 42.13333333333333]   23.900000   \n",
       "\n",
       "    rct_trt_arm  rct_cont_arm  rct_mos_diff  s_trt_rmst  \\\n",
       "0          27.6          14.5          13.1   29.875194   \n",
       "1          27.6          14.5          13.1   26.412960   \n",
       "2          27.6          14.5          13.1   16.506114   \n",
       "3          27.6          14.5          13.1         NaN   \n",
       "4           9.5           4.6           4.9   14.192390   \n",
       "5           9.5           4.6           4.9   11.438872   \n",
       "6           9.5           4.6           4.9    8.549052   \n",
       "7           9.5           4.6           4.9         NaN   \n",
       "8          57.1          40.8          16.3   51.647747   \n",
       "9          57.1          40.8          16.3   43.527447   \n",
       "10         57.1          40.8          16.3   28.687157   \n",
       "11         57.1          40.8          16.3         NaN   \n",
       "\n",
       "                               s_trt_rmst_95  s_cont_rmst  \\\n",
       "0    [28.503408253277513, 31.44550477465725]    25.439408   \n",
       "1    [24.70039556414195, 28.437863276744036]    22.327226   \n",
       "2   [14.878941058363512, 18.071185535360634]    13.386579   \n",
       "3                                        NaN          NaN   \n",
       "4   [12.763424882456649, 15.672814923500392]    11.933394   \n",
       "5    [9.688231653203616, 13.220207972731593]     8.733969   \n",
       "6    [7.101670110535841, 10.165603144941937]     6.507426   \n",
       "7                                        NaN          NaN   \n",
       "8     [49.75908211685452, 53.44090161337312]    44.534412   \n",
       "9     [41.26401326689026, 45.58319309908114]    39.808802   \n",
       "10  [25.758627083987143, 31.551012520778926]    22.291946   \n",
       "11                                       NaN          NaN   \n",
       "\n",
       "                              s_cont_rmst_95  s_diff_rmst  \\\n",
       "0   [23.984425776555053, 27.045772834853526]     4.435786   \n",
       "1   [21.042807537681696, 23.665775410666328]     4.085734   \n",
       "2   [12.370227515662082, 14.377660039483194]     3.119535   \n",
       "3                                        NaN          NaN   \n",
       "4   [10.476250981503593, 13.373207299008232]     2.258996   \n",
       "5   [7.4299719383278235, 10.227282876909998]     2.704903   \n",
       "6      [5.495823850757027, 7.61497483371504]     2.041625   \n",
       "7                                        NaN          NaN   \n",
       "8     [37.71709752464466, 51.10464672272865]     7.113335   \n",
       "9     [32.4666490975901, 47.655869244418035]     3.718645   \n",
       "10   [15.168496875457278, 30.66205894863515]     6.395211   \n",
       "11                                       NaN          NaN   \n",
       "\n",
       "                               s_diff_rmst_95  scount      s_hr  \\\n",
       "0     [2.3338482690161215, 6.635226477842613]    1536       NaN   \n",
       "1     [2.0449036572259836, 6.384466339419586]    1473       NaN   \n",
       "2     [1.2620525354220855, 4.881942149141819]    1267       NaN   \n",
       "3                                         NaN    4276  0.770165   \n",
       "4    [0.26220238761223574, 4.295560598738964]     349       NaN   \n",
       "5    [0.26978706848601974, 4.935723780590562]     324       NaN   \n",
       "6   [0.23134300795921506, 3.8686579692175136]     267       NaN   \n",
       "7                                         NaN     940  0.740055   \n",
       "8     [0.2909044456568117, 14.28987569917692]     391       NaN   \n",
       "9     [-4.49595122362415, 11.109113989835501]     356       NaN   \n",
       "10  [-1.8322009456632147, 13.845956695435836]     258       NaN   \n",
       "11                                        NaN    1005  0.663222   \n",
       "\n",
       "                                      s_hr_95  \n",
       "0                                         NaN  \n",
       "1                                         NaN  \n",
       "2                                         NaN  \n",
       "3    [0.7044686557501216, 0.8419871839991265]  \n",
       "4                                         NaN  \n",
       "5                                         NaN  \n",
       "6                                         NaN  \n",
       "7    [0.6279207192837161, 0.8722152368682689]  \n",
       "8                                         NaN  \n",
       "9                                         NaN  \n",
       "10                                        NaN  \n",
       "11  [0.49608182761546354, 0.8866749007457889]  "
      ]
     },
     "execution_count": 426,
     "metadata": {},
     "output_type": "execute_result"
    }
   ],
   "source": [
    "strials_mos_rmst_boot"
   ]
  },
  {
   "cell_type": "code",
   "execution_count": 427,
   "id": "48570f6f",
   "metadata": {},
   "outputs": [],
   "source": [
    "strials_mos_rmst_boot.to_csv('strials_mos_rmst_boot.csv', index = False)"
   ]
  }
 ],
 "metadata": {
  "kernelspec": {
   "display_name": "My Virtual Environment",
   "language": "python",
   "name": "myenv"
  },
  "language_info": {
   "codemirror_mode": {
    "name": "ipython",
    "version": 3
   },
   "file_extension": ".py",
   "mimetype": "text/x-python",
   "name": "python",
   "nbconvert_exporter": "python",
   "pygments_lexer": "ipython3",
   "version": "3.7.10"
  }
 },
 "nbformat": 4,
 "nbformat_minor": 5
}
