{
 "cells": [
  {
   "cell_type": "markdown",
   "id": "0f78cdac",
   "metadata": {},
   "source": [
    "# Flatiron Health mBC: Calculating patient risk scores\n",
    "\n",
    "**OBJECTIVE: Risk scores were calculated for each patient using 5-fold cross-validation, where each patient's score was generated from a model trained on 80% of the data (excluding that patient). The model used gradient boosting survival analysis with pre-specified hyperparameters (see Jupyter notebook titled: crude_model_build). For each fold, patients in the held-out set received risk scores from a model trained on the remaining patients, ensuring unbiased prediction scores for the entire dataset.**\n",
    "\n",
    "**OUTLINE:**\n",
    "1. **Preprocessing**\n",
    "2. **Calculating patient risk scores** "
   ]
  },
  {
   "cell_type": "markdown",
   "id": "96942fad",
   "metadata": {},
   "source": [
    "## 1. Preprocessing "
   ]
  },
  {
   "cell_type": "code",
   "execution_count": 1,
   "id": "2ed49dc3",
   "metadata": {},
   "outputs": [],
   "source": [
    "import numpy as np\n",
    "import pandas as pd\n",
    "\n",
    "from sklearn.pipeline import Pipeline\n",
    "from sklearn.impute import SimpleImputer\n",
    "from sklearn.preprocessing import StandardScaler, OneHotEncoder\n",
    "from sklearn.compose import ColumnTransformer "
   ]
  },
  {
   "cell_type": "code",
   "execution_count": 2,
   "id": "b12b50c8",
   "metadata": {},
   "outputs": [],
   "source": [
    "# Function that returns number of rows and count of unique PatientIDs for a dataframe. \n",
    "def row_ID(dataframe):\n",
    "    row = dataframe.shape[0]\n",
    "    ID = dataframe['PatientID'].nunique()\n",
    "    return row, ID"
   ]
  },
  {
   "cell_type": "markdown",
   "id": "c2ef3648",
   "metadata": {},
   "source": [
    "### Importing full dataframes"
   ]
  },
  {
   "cell_type": "code",
   "execution_count": 3,
   "id": "3f7f008b",
   "metadata": {},
   "outputs": [],
   "source": [
    "# Import training set and set PatientID as index.\n",
    "train = pd.read_csv('train_full.csv')"
   ]
  },
  {
   "cell_type": "code",
   "execution_count": 4,
   "id": "e153dc23",
   "metadata": {},
   "outputs": [
    {
     "data": {
      "text/plain": [
       "(25341, 25341)"
      ]
     },
     "execution_count": 4,
     "metadata": {},
     "output_type": "execute_result"
    }
   ],
   "source": [
    "row_ID(train)"
   ]
  },
  {
   "cell_type": "code",
   "execution_count": 5,
   "id": "a6bdff04",
   "metadata": {},
   "outputs": [],
   "source": [
    "# Import test set and set PatientID as index.\n",
    "test = pd.read_csv('test_full.csv')"
   ]
  },
  {
   "cell_type": "code",
   "execution_count": 6,
   "id": "66071f30",
   "metadata": {},
   "outputs": [
    {
     "data": {
      "text/plain": [
       "(6336, 6336)"
      ]
     },
     "execution_count": 6,
     "metadata": {},
     "output_type": "execute_result"
    }
   ],
   "source": [
    "row_ID(test)"
   ]
  },
  {
   "cell_type": "code",
   "execution_count": 7,
   "id": "43809f86",
   "metadata": {},
   "outputs": [],
   "source": [
    "df = pd.concat([train, test])"
   ]
  },
  {
   "cell_type": "code",
   "execution_count": 8,
   "id": "8bb75482",
   "metadata": {},
   "outputs": [
    {
     "data": {
      "text/plain": [
       "(31677, 31677)"
      ]
     },
     "execution_count": 8,
     "metadata": {},
     "output_type": "execute_result"
    }
   ],
   "source": [
    "row_ID(df)"
   ]
  },
  {
   "cell_type": "code",
   "execution_count": 9,
   "id": "a5d00b72",
   "metadata": {},
   "outputs": [],
   "source": [
    "df = df.set_index('PatientID')"
   ]
  },
  {
   "cell_type": "code",
   "execution_count": 10,
   "id": "b272d579",
   "metadata": {},
   "outputs": [
    {
     "data": {
      "text/html": [
       "<div>\n",
       "<style scoped>\n",
       "    .dataframe tbody tr th:only-of-type {\n",
       "        vertical-align: middle;\n",
       "    }\n",
       "\n",
       "    .dataframe tbody tr th {\n",
       "        vertical-align: top;\n",
       "    }\n",
       "\n",
       "    .dataframe thead th {\n",
       "        text-align: right;\n",
       "    }\n",
       "</style>\n",
       "<table border=\"1\" class=\"dataframe\">\n",
       "  <thead>\n",
       "    <tr style=\"text-align: right;\">\n",
       "      <th></th>\n",
       "      <th>gender</th>\n",
       "      <th>race</th>\n",
       "      <th>ethnicity</th>\n",
       "      <th>age</th>\n",
       "      <th>p_type</th>\n",
       "      <th>region</th>\n",
       "      <th>stage</th>\n",
       "      <th>met_year</th>\n",
       "      <th>delta_met_diagnosis</th>\n",
       "      <th>death_status</th>\n",
       "      <th>...</th>\n",
       "      <th>other_cancer</th>\n",
       "      <th>bone_met</th>\n",
       "      <th>thorax_met</th>\n",
       "      <th>lymph_met</th>\n",
       "      <th>liver_met</th>\n",
       "      <th>cns_met</th>\n",
       "      <th>skin_met</th>\n",
       "      <th>peritoneum_met</th>\n",
       "      <th>other_met</th>\n",
       "      <th>ses</th>\n",
       "    </tr>\n",
       "    <tr>\n",
       "      <th>PatientID</th>\n",
       "      <th></th>\n",
       "      <th></th>\n",
       "      <th></th>\n",
       "      <th></th>\n",
       "      <th></th>\n",
       "      <th></th>\n",
       "      <th></th>\n",
       "      <th></th>\n",
       "      <th></th>\n",
       "      <th></th>\n",
       "      <th></th>\n",
       "      <th></th>\n",
       "      <th></th>\n",
       "      <th></th>\n",
       "      <th></th>\n",
       "      <th></th>\n",
       "      <th></th>\n",
       "      <th></th>\n",
       "      <th></th>\n",
       "      <th></th>\n",
       "      <th></th>\n",
       "    </tr>\n",
       "  </thead>\n",
       "  <tbody>\n",
       "    <tr>\n",
       "      <th>FD21CD90F0142</th>\n",
       "      <td>F</td>\n",
       "      <td>Other Race</td>\n",
       "      <td>Not Hispanic or Latino</td>\n",
       "      <td>58</td>\n",
       "      <td>ACADEMIC</td>\n",
       "      <td>unknown</td>\n",
       "      <td>unknown</td>\n",
       "      <td>2016</td>\n",
       "      <td>5454</td>\n",
       "      <td>0</td>\n",
       "      <td>...</td>\n",
       "      <td>0.0</td>\n",
       "      <td>0.0</td>\n",
       "      <td>1.0</td>\n",
       "      <td>0.0</td>\n",
       "      <td>0.0</td>\n",
       "      <td>0.0</td>\n",
       "      <td>0.0</td>\n",
       "      <td>0.0</td>\n",
       "      <td>0.0</td>\n",
       "      <td>NaN</td>\n",
       "    </tr>\n",
       "    <tr>\n",
       "      <th>FC645CFA751D4</th>\n",
       "      <td>F</td>\n",
       "      <td>Black or African American</td>\n",
       "      <td>Not Hispanic or Latino</td>\n",
       "      <td>76</td>\n",
       "      <td>COMMUNITY</td>\n",
       "      <td>south</td>\n",
       "      <td>IV</td>\n",
       "      <td>2013</td>\n",
       "      <td>0</td>\n",
       "      <td>1</td>\n",
       "      <td>...</td>\n",
       "      <td>0.0</td>\n",
       "      <td>0.0</td>\n",
       "      <td>1.0</td>\n",
       "      <td>0.0</td>\n",
       "      <td>0.0</td>\n",
       "      <td>0.0</td>\n",
       "      <td>0.0</td>\n",
       "      <td>0.0</td>\n",
       "      <td>0.0</td>\n",
       "      <td>1.0</td>\n",
       "    </tr>\n",
       "    <tr>\n",
       "      <th>FCA64E482BE1E</th>\n",
       "      <td>F</td>\n",
       "      <td>White</td>\n",
       "      <td>hispanic_latino</td>\n",
       "      <td>80</td>\n",
       "      <td>COMMUNITY</td>\n",
       "      <td>unknown</td>\n",
       "      <td>IV</td>\n",
       "      <td>2020</td>\n",
       "      <td>0</td>\n",
       "      <td>0</td>\n",
       "      <td>...</td>\n",
       "      <td>0.0</td>\n",
       "      <td>0.0</td>\n",
       "      <td>0.0</td>\n",
       "      <td>1.0</td>\n",
       "      <td>0.0</td>\n",
       "      <td>0.0</td>\n",
       "      <td>0.0</td>\n",
       "      <td>0.0</td>\n",
       "      <td>0.0</td>\n",
       "      <td>1.0</td>\n",
       "    </tr>\n",
       "  </tbody>\n",
       "</table>\n",
       "<p>3 rows × 216 columns</p>\n",
       "</div>"
      ],
      "text/plain": [
       "              gender                       race               ethnicity  age  \\\n",
       "PatientID                                                                      \n",
       "FD21CD90F0142      F                 Other Race  Not Hispanic or Latino   58   \n",
       "FC645CFA751D4      F  Black or African American  Not Hispanic or Latino   76   \n",
       "FCA64E482BE1E      F                      White         hispanic_latino   80   \n",
       "\n",
       "                  p_type   region    stage  met_year  delta_met_diagnosis  \\\n",
       "PatientID                                                                   \n",
       "FD21CD90F0142   ACADEMIC  unknown  unknown      2016                 5454   \n",
       "FC645CFA751D4  COMMUNITY    south       IV      2013                    0   \n",
       "FCA64E482BE1E  COMMUNITY  unknown       IV      2020                    0   \n",
       "\n",
       "               death_status  ...  other_cancer  bone_met  thorax_met  \\\n",
       "PatientID                    ...                                       \n",
       "FD21CD90F0142             0  ...           0.0       0.0         1.0   \n",
       "FC645CFA751D4             1  ...           0.0       0.0         1.0   \n",
       "FCA64E482BE1E             0  ...           0.0       0.0         0.0   \n",
       "\n",
       "               lymph_met  liver_met  cns_met  skin_met  peritoneum_met  \\\n",
       "PatientID                                                                \n",
       "FD21CD90F0142        0.0        0.0      0.0       0.0             0.0   \n",
       "FC645CFA751D4        0.0        0.0      0.0       0.0             0.0   \n",
       "FCA64E482BE1E        1.0        0.0      0.0       0.0             0.0   \n",
       "\n",
       "               other_met  ses  \n",
       "PatientID                      \n",
       "FD21CD90F0142        0.0  NaN  \n",
       "FC645CFA751D4        0.0  1.0  \n",
       "FCA64E482BE1E        0.0  1.0  \n",
       "\n",
       "[3 rows x 216 columns]"
      ]
     },
     "execution_count": 10,
     "metadata": {},
     "output_type": "execute_result"
    }
   ],
   "source": [
    "df.sample(3)"
   ]
  },
  {
   "cell_type": "markdown",
   "id": "cc7221e7",
   "metadata": {},
   "source": [
    "### Dropping unnecessary demographic variables "
   ]
  },
  {
   "cell_type": "code",
   "execution_count": 11,
   "id": "cf0eed4e",
   "metadata": {},
   "outputs": [],
   "source": [
    "df = df.drop(columns = ['race',\n",
    "                        'ethnicity',\n",
    "                        'region',\n",
    "                        'medicare',\n",
    "                        'medicaid',\n",
    "                        'medicare_medicaid',\n",
    "                        'commercial',\n",
    "                        'patient_assistance',\n",
    "                        'other_govt',\n",
    "                        'self_pay',\n",
    "                        'other',\n",
    "                        'ses'])"
   ]
  },
  {
   "cell_type": "markdown",
   "id": "eeede61c",
   "metadata": {},
   "source": [
    "### Converting datatypes "
   ]
  },
  {
   "cell_type": "code",
   "execution_count": 12,
   "id": "89d3a565",
   "metadata": {},
   "outputs": [
    {
     "data": {
      "text/plain": [
       "['gender',\n",
       " 'p_type',\n",
       " 'stage',\n",
       " 'ER',\n",
       " 'HER2',\n",
       " 'PR',\n",
       " 'BRCA',\n",
       " 'PIK3CA',\n",
       " 'pdl1_n',\n",
       " 'ecog_diagnosis']"
      ]
     },
     "execution_count": 12,
     "metadata": {},
     "output_type": "execute_result"
    }
   ],
   "source": [
    "list(df.select_dtypes(include = ['object']).columns)"
   ]
  },
  {
   "cell_type": "code",
   "execution_count": 13,
   "id": "49efb1bc",
   "metadata": {},
   "outputs": [],
   "source": [
    "to_be_categorical = list(df.select_dtypes(include = ['object']).columns)"
   ]
  },
  {
   "cell_type": "code",
   "execution_count": 14,
   "id": "c0d4c959",
   "metadata": {},
   "outputs": [],
   "source": [
    "to_be_categorical.append('met_year')"
   ]
  },
  {
   "cell_type": "code",
   "execution_count": 15,
   "id": "20843fda",
   "metadata": {},
   "outputs": [],
   "source": [
    "# Convert variables in list to categorical.\n",
    "for x in list(to_be_categorical):\n",
    "    df[x] = df[x].astype('category')"
   ]
  },
  {
   "cell_type": "code",
   "execution_count": 16,
   "id": "7b977446",
   "metadata": {},
   "outputs": [
    {
     "data": {
      "text/plain": [
       "['gender',\n",
       " 'p_type',\n",
       " 'stage',\n",
       " 'met_year',\n",
       " 'ER',\n",
       " 'HER2',\n",
       " 'PR',\n",
       " 'BRCA',\n",
       " 'PIK3CA',\n",
       " 'pdl1_n',\n",
       " 'ecog_diagnosis']"
      ]
     },
     "execution_count": 16,
     "metadata": {},
     "output_type": "execute_result"
    }
   ],
   "source": [
    "list(df.select_dtypes(include = ['category']).columns)"
   ]
  },
  {
   "cell_type": "code",
   "execution_count": 17,
   "id": "737f24a1",
   "metadata": {},
   "outputs": [],
   "source": [
    "# Convert death_status into True or False (required for scikit-survival). \n",
    "df['death_status'] = df['death_status'].astype('bool')"
   ]
  },
  {
   "cell_type": "markdown",
   "id": "08de7a94",
   "metadata": {},
   "source": [
    "### Dropping unneeded labs "
   ]
  },
  {
   "cell_type": "code",
   "execution_count": 18,
   "id": "9fd1a36d",
   "metadata": {},
   "outputs": [],
   "source": [
    "drop_labs = [\n",
    "    'albumin_avg',\n",
    "    'alp_avg',\n",
    "    'alt_avg',\n",
    "    'ast_avg',\n",
    "    'bicarb_avg',\n",
    "    'bun_avg',\n",
    "    'calcium_avg',\n",
    "    'chloride_avg',\n",
    "    'creatinine_avg',\n",
    "    'hemoglobin_avg',\n",
    "    'neutrophil_count_avg',\n",
    "    'platelet_avg',\n",
    "    'potassium_avg',\n",
    "    'sodium_avg',\n",
    "    'total_bilirubin_avg',\n",
    "    'wbc_avg',\n",
    "    'albumin_max',\n",
    "    'bicarb_max',\n",
    "    'bun_max',\n",
    "    'chloride_max',\n",
    "    'hemoglobin_max',\n",
    "    'neutrophil_count_max',\n",
    "    'platelet_max',\n",
    "    'potassium_max',\n",
    "    'sodium_max',\n",
    "    'alp_min',\n",
    "    'alt_min',\n",
    "    'ast_min',\n",
    "    'bun_min',\n",
    "    'calcium_min',\n",
    "    'chloride_min',\n",
    "    'creatinine_min',\n",
    "    'neutrophil_count_min',\n",
    "    'potassium_min',\n",
    "    'total_bilirubin_min',\n",
    "    'albumin_std',\n",
    "    'alp_std',\n",
    "    'alt_std',\n",
    "    'ast_std',\n",
    "    'bicarb_std',\n",
    "    'bun_std',\n",
    "    'calcium_std',\n",
    "    'chloride_std',\n",
    "    'creatinine_std',\n",
    "    'hemoglobin_std',\n",
    "    'neutrophil_count_std',\n",
    "    'platelet_std',\n",
    "    'potassium_std',\n",
    "    'sodium_std',\n",
    "    'total_bilirubin_std',\n",
    "    'wbc_std',\n",
    "    'albumin_slope',\n",
    "    'alp_slope',\n",
    "    'alt_slope',\n",
    "    'ast_slope',\n",
    "    'bicarb_slope',\n",
    "    'bun_slope',\n",
    "    'calcium_slope',\n",
    "    'chloride_slope',\n",
    "    'creatinine_slope',\n",
    "    'hemoglobin_slope',\n",
    "    'neutrophil_count_slope',\n",
    "    'platelet_slope',\n",
    "    'potassium_slope',\n",
    "    'sodium_slope',\n",
    "    'total_bilirubin_slope',\n",
    "    'wbc_slope',\n",
    "    'albumin_slope_na',\n",
    "    'alp_slope_na',\n",
    "    'alt_slope_na',\n",
    "    'ast_slope_na',\n",
    "    'bicarb_slope_na',\n",
    "    'bun_slope_na',\n",
    "    'calcium_slope_na',\n",
    "    'chloride_slope_na',\n",
    "    'creatinine_slope_na',\n",
    "    'hemoglobin_slope_na',\n",
    "    'neutrophil_count_slope_na',\n",
    "    'platelet_slope_na',\n",
    "    'potassium_slope_na',\n",
    "    'sodium_slope_na',\n",
    "    'total_bilirubin_slope_na',\n",
    "    'wbc_slope_na']"
   ]
  },
  {
   "cell_type": "code",
   "execution_count": 19,
   "id": "87dfc2a7",
   "metadata": {},
   "outputs": [
    {
     "data": {
      "text/plain": [
       "(31677, 204)"
      ]
     },
     "execution_count": 19,
     "metadata": {},
     "output_type": "execute_result"
    }
   ],
   "source": [
    "df.shape"
   ]
  },
  {
   "cell_type": "code",
   "execution_count": 20,
   "id": "e89c5f22",
   "metadata": {},
   "outputs": [],
   "source": [
    "df = df.drop(columns = drop_labs)"
   ]
  },
  {
   "cell_type": "code",
   "execution_count": 21,
   "id": "1763d0d1",
   "metadata": {},
   "outputs": [
    {
     "data": {
      "text/plain": [
       "(31677, 121)"
      ]
     },
     "execution_count": 21,
     "metadata": {},
     "output_type": "execute_result"
    }
   ],
   "source": [
    "df.shape"
   ]
  },
  {
   "cell_type": "code",
   "execution_count": 22,
   "id": "38fff1cd",
   "metadata": {},
   "outputs": [],
   "source": [
    "df.loc[:, 'alp_max_na'] = np.where(df['alp_max'].isna(), 1, 0)\n",
    "df.loc[:, 'alt_max_na'] = np.where(df['alt_max'].isna(), 1, 0)\n",
    "df.loc[:, 'ast_max_na'] = np.where(df['ast_max'].isna(), 1, 0)\n",
    "df.loc[:, 'calcium_max_na'] = np.where(df['calcium_max'].isna(), 1, 0)\n",
    "df.loc[:, 'creatinine_max_na'] = np.where(df['creatinine_max'].isna(), 1, 0)\n",
    "df.loc[:, 'total_bilirubin_max_na'] = np.where(df['total_bilirubin_max'].isna(), 1, 0)\n",
    "df.loc[:, 'wbc_max_na'] = np.where(df['wbc_max'].isna(), 1, 0)\n",
    "df.loc[:, 'albumin_min_na'] = np.where(df['albumin_min'].isna(), 1, 0)\n",
    "df.loc[:, 'bicarb_min_na'] = np.where(df['bicarb_min'].isna(), 1, 0)\n",
    "df.loc[:, 'hemoglobin_min_na'] = np.where(df['hemoglobin_min'].isna(), 1, 0)\n",
    "df.loc[:, 'platelet_min_na'] = np.where(df['platelet_min'].isna(), 1, 0)\n",
    "df.loc[:, 'sodium_min_na'] = np.where(df['sodium_min'].isna(), 1, 0)\n",
    "df.loc[:, 'wbc_min_na'] = np.where(df['wbc_min'].isna(), 1, 0)"
   ]
  },
  {
   "cell_type": "code",
   "execution_count": 23,
   "id": "6ed5ad05",
   "metadata": {},
   "outputs": [
    {
     "data": {
      "text/plain": [
       "(31677, 134)"
      ]
     },
     "execution_count": 23,
     "metadata": {},
     "output_type": "execute_result"
    }
   ],
   "source": [
    "df.shape"
   ]
  },
  {
   "cell_type": "markdown",
   "id": "3bcc93b2",
   "metadata": {},
   "source": [
    "### Separate into X and Y "
   ]
  },
  {
   "cell_type": "code",
   "execution_count": 24,
   "id": "374e94ed",
   "metadata": {},
   "outputs": [],
   "source": [
    "# 'X' datasets\n",
    "df_x = df.drop(columns = ['death_status', 'timerisk_activity']) #80% of data "
   ]
  },
  {
   "cell_type": "code",
   "execution_count": 25,
   "id": "53405cc6",
   "metadata": {},
   "outputs": [],
   "source": [
    "# 'Y' datasets\n",
    "# Death status and time until event needs to be stored as a structured array to be compatible with scikit-survival\n",
    "y_dtypes = df[['death_status', 'timerisk_activity']].dtypes\n",
    "\n",
    "df_y = np.array([tuple(x) for x in df[['death_status', 'timerisk_activity']].values],\n",
    "                dtype = list(zip(y_dtypes.index, y_dtypes)))"
   ]
  },
  {
   "cell_type": "markdown",
   "id": "da592b54",
   "metadata": {},
   "source": [
    "### Pipeline "
   ]
  },
  {
   "cell_type": "code",
   "execution_count": 26,
   "id": "19e110f2",
   "metadata": {},
   "outputs": [],
   "source": [
    "# List of numeric variables, excluding binary variables. \n",
    "numerical_features = [\n",
    "    'age',\n",
    "    'delta_met_diagnosis',\n",
    "    'weight_diag',\n",
    "    'bmi_diag',\n",
    "    'weight_pct_change',\n",
    "    'weight_slope',\n",
    "    'albumin_diag',\n",
    "    'alp_diag',\n",
    "    'alt_diag',\n",
    "    'ast_diag',\n",
    "    'bicarb_diag',\n",
    "    'bun_diag',\n",
    "    'calcium_diag',\n",
    "    'chloride_diag',\n",
    "    'creatinine_diag',\n",
    "    'hemoglobin_diag',\n",
    "    'neutrophil_count_diag',\n",
    "    'platelet_diag',\n",
    "    'potassium_diag',\n",
    "    'sodium_diag',\n",
    "    'total_bilirubin_diag',\n",
    "    'wbc_diag',\n",
    "    'alp_max',\n",
    "    'alt_max',\n",
    "    'ast_max',\n",
    "    'calcium_max',\n",
    "    'creatinine_max',\n",
    "    'total_bilirubin_max',\n",
    "    'wbc_max',\n",
    "    'albumin_min',\n",
    "    'bicarb_min',\n",
    "    'hemoglobin_min',\n",
    "    'platelet_min',\n",
    "    'sodium_min',\n",
    "    'wbc_min',\n",
    "    'icd_count']\n",
    "\n",
    "# Transformer will impute column medians and then apply a standard scaler. \n",
    "numerical_transformer = Pipeline(steps = [\n",
    "    ('imputer', SimpleImputer(strategy = 'median')),\n",
    "    ('std_scaler', StandardScaler())])"
   ]
  },
  {
   "cell_type": "code",
   "execution_count": 27,
   "id": "b6f1bca4",
   "metadata": {},
   "outputs": [],
   "source": [
    "# List of categorical features.\n",
    "categorical_features = list(df_x.select_dtypes(include = ['category']).columns)\n",
    "\n",
    "# One-hot-encode categorical features.\n",
    "categorical_transformer = OneHotEncoder(handle_unknown = 'ignore')"
   ]
  },
  {
   "cell_type": "code",
   "execution_count": 28,
   "id": "b13cd654",
   "metadata": {},
   "outputs": [],
   "source": [
    "preprocessor = ColumnTransformer(\n",
    "    transformers = [\n",
    "        ('num', numerical_transformer, numerical_features),\n",
    "        ('cat', categorical_transformer, categorical_features)],\n",
    "    remainder = 'passthrough')"
   ]
  },
  {
   "cell_type": "markdown",
   "id": "0117e873",
   "metadata": {},
   "source": [
    "## 2. Gradient boosted model "
   ]
  },
  {
   "cell_type": "code",
   "execution_count": 29,
   "id": "27d25c5a",
   "metadata": {},
   "outputs": [],
   "source": [
    "from sklearn.pipeline import make_pipeline\n",
    "from sksurv.ensemble import GradientBoostingSurvivalAnalysis\n",
    "from sklearn.model_selection import StratifiedKFold\n",
    "\n",
    "import time\n",
    "import pickle\n",
    "import os"
   ]
  },
  {
   "cell_type": "code",
   "execution_count": 30,
   "id": "4938f130",
   "metadata": {},
   "outputs": [
    {
     "data": {
      "text/plain": [
       "(31677, 132)"
      ]
     },
     "execution_count": 30,
     "metadata": {},
     "output_type": "execute_result"
    }
   ],
   "source": [
    "df_x.shape"
   ]
  },
  {
   "cell_type": "code",
   "execution_count": 31,
   "id": "65e72753",
   "metadata": {},
   "outputs": [
    {
     "data": {
      "text/plain": [
       "(31677,)"
      ]
     },
     "execution_count": 31,
     "metadata": {},
     "output_type": "execute_result"
    }
   ],
   "source": [
    "df_y.shape"
   ]
  },
  {
   "cell_type": "code",
   "execution_count": 32,
   "id": "fc01736e",
   "metadata": {},
   "outputs": [
    {
     "name": "stderr",
     "output_type": "stream",
     "text": [
      "/Users/xavierorcutt/Dropbox/ist_project/myenv/lib/python3.7/site-packages/sklearn/model_selection/_split.py:680: UserWarning: The least populated class in y has only 1 members, which is less than n_splits=5.\n",
      "  UserWarning,\n"
     ]
    },
    {
     "name": "stdout",
     "output_type": "stream",
     "text": [
      "      Iter       Train Loss      OOB Improve   Remaining Time \n",
      "         1       98873.7518          21.9961          120.38m\n",
      "         2       98640.6153          21.3284          120.13m\n",
      "         3       98489.0249          19.6376          120.38m\n",
      "         4       98603.6162          19.3446          120.37m\n",
      "         5       98819.4794          18.5301          120.28m\n",
      "         6       99133.0701          17.6239          120.35m\n",
      "         7       98765.0014          16.6677          120.07m\n",
      "         8       98653.0590          17.5058          119.81m\n",
      "         9       98780.7273          15.1952          119.59m\n",
      "        10       98411.0695          15.3464          119.39m\n",
      "        20       98071.3243          10.3670          117.50m\n",
      "        30       97431.9691           7.1474          115.82m\n",
      "        40       97211.9095           6.1970          114.33m\n",
      "        50       97191.1214           5.4869          112.94m\n",
      "        60       96531.3389           5.4031          111.81m\n",
      "        70       96661.4279           3.7560          110.54m\n",
      "        80       97056.5497           1.8421          109.13m\n",
      "        90       96830.6253           4.4534          107.73m\n",
      "       100       96762.1200           2.4521          106.35m\n",
      "       200       95780.6549           0.2896           92.97m\n",
      "       300       94988.7361           0.2749           79.68m\n",
      "       400       94817.5419           0.1308           66.34m\n",
      "       500       94316.1832          -0.0872           53.10m\n",
      "       600       94623.3299          -0.1935           39.81m\n",
      "       700       94345.2258          -0.2143           26.53m\n",
      "       800       93491.5862           0.0796           13.26m\n",
      "       900       93523.5430          -0.0710            0.00s\n",
      "Fold 1 completed\n",
      "Fold training time: 119.33 minutes\n",
      "Results saved to cv_results/fold_1_results.pkl\n",
      "-------------------\n",
      "      Iter       Train Loss      OOB Improve   Remaining Time \n",
      "         1       98745.7312          22.6813          118.46m\n",
      "         2       99012.6887          21.7049          118.47m\n",
      "         3       98643.6316          19.7715          118.38m\n",
      "         4       98466.3596          18.7742          118.26m\n",
      "         5       98732.9003          18.4257          118.13m\n",
      "         6       98815.2020          18.4694          118.00m\n",
      "         7       99025.8201          17.1443          117.88m\n",
      "         8       98475.3777          15.6838          117.74m\n",
      "         9       98623.7464          16.3507          117.61m\n",
      "        10       98435.3788          14.7357          117.48m\n",
      "        20       97990.1483          10.8781          116.25m\n",
      "        30       97653.9943           8.4470          114.95m\n",
      "        40       97915.1715           6.1101          113.63m\n",
      "        50       97176.8568           5.5934          112.29m\n",
      "        60       97105.3911           4.4009          110.96m\n",
      "        70       96682.6148           3.8502          109.72m\n",
      "        80       95972.4963           2.8318          108.40m\n",
      "        90       96399.0814           2.4498          107.07m\n",
      "       100       96352.6378           2.3148          105.73m\n",
      "       200       95680.8436           0.4975           92.51m\n",
      "       300       95000.8993           0.1585           79.29m\n",
      "       400       95047.2094           0.1110           66.09m\n",
      "       500       94087.1556          -0.4619           52.91m\n",
      "       600       93746.7441          -0.2821           39.71m\n",
      "       700       93984.0713          -0.4277           26.48m\n",
      "       800       94109.8680          -0.4441           13.24m\n",
      "       900       93460.1846          -0.0940            0.00s\n",
      "Fold 2 completed\n",
      "Fold training time: 119.24 minutes\n",
      "Results saved to cv_results/fold_2_results.pkl\n",
      "-------------------\n",
      "      Iter       Train Loss      OOB Improve   Remaining Time \n",
      "         1       98877.6945          21.7428          120.37m\n",
      "         2       99425.0775          21.1929          119.68m\n",
      "         3       99181.5170          19.2220          119.38m\n",
      "         4       98383.2038          19.0689          119.25m\n",
      "         5       98215.4397          18.5419          119.12m\n",
      "         6       98538.3866          18.2586          118.90m\n",
      "         7       98456.8586          17.3596          118.72m\n",
      "         8       98504.9756          15.7822          118.60m\n",
      "         9       98145.5283          16.6239          118.46m\n",
      "        10       98136.4259          14.7262          118.33m\n",
      "        20       97763.1395          10.5943          116.88m\n",
      "        30       97934.8763           7.3064          115.54m\n",
      "        40       97360.5410           5.8375          114.20m\n",
      "        50       97431.4288           6.1680          112.89m\n",
      "        60       96895.8883           4.1541          111.55m\n",
      "        70       97043.2833           3.9598          110.22m\n",
      "        80       97363.1993           2.7253          108.90m\n",
      "        90       96576.4459           2.7786          107.56m\n",
      "       100       96337.1104           1.3433          106.24m\n",
      "       200       96009.4516           1.0362           92.98m\n",
      "       300       94917.6308           0.3924           79.70m\n",
      "       400       94349.1835           0.0997           66.44m\n",
      "       500       94060.8963          -0.0802           53.15m\n",
      "       600       94536.1935          -0.1279           39.87m\n",
      "       700       94935.8535          -0.1490           26.58m\n",
      "       800       93583.1495          -0.3701           13.29m\n",
      "       900       92858.7304          -0.1290            0.00s\n",
      "Fold 3 completed\n",
      "Fold training time: 119.60 minutes\n",
      "Results saved to cv_results/fold_3_results.pkl\n",
      "-------------------\n",
      "      Iter       Train Loss      OOB Improve   Remaining Time \n",
      "         1       98755.3859          22.6563          119.37m\n",
      "         2       99181.1359          20.9325          119.32m\n",
      "         3       98450.0398          19.3612          119.09m\n",
      "         4       98287.2978          20.2203          119.21m\n",
      "         5       98624.5370          18.4619          119.04m\n",
      "         6       98740.3928          18.3527          118.86m\n",
      "         7       98061.7952          17.3521          118.72m\n",
      "         8       98567.7890          17.1597          118.59m\n",
      "         9       98636.8206          15.1003          118.41m\n",
      "        10       98212.7024          15.3232          118.24m\n",
      "        20       97311.1594          12.2507          116.89m\n",
      "        30       97240.6782           8.7782          115.58m\n",
      "        40       97562.8413           6.7214          114.26m\n",
      "        50       97024.0296           5.5484          112.92m\n",
      "        60       97272.4009           4.1743          111.58m\n",
      "        70       96449.4715           2.2637          110.24m\n",
      "        80       96507.1326           3.5547          108.90m\n",
      "        90       96347.4166           2.1679          107.60m\n",
      "       100       96423.9789           2.6796          106.26m\n",
      "       200       95630.8142           0.4945           92.97m\n",
      "       300       94934.3135           0.4268           79.68m\n",
      "       400       95094.7587          -0.1193           66.40m\n",
      "       500       93970.7170           0.0120           53.12m\n",
      "       600       93995.7310          -0.2573           39.84m\n",
      "       700       93861.2915          -0.1073           26.56m\n",
      "       800       93888.2074          -0.1856           13.28m\n",
      "       900       92911.2041          -0.2820            0.00s\n",
      "Fold 4 completed\n",
      "Fold training time: 119.52 minutes\n",
      "Results saved to cv_results/fold_4_results.pkl\n",
      "-------------------\n",
      "      Iter       Train Loss      OOB Improve   Remaining Time \n",
      "         1       98771.2969          20.4491          119.28m\n",
      "         2       98843.7251          20.3996          119.42m\n",
      "         3       98675.5262          19.5145          119.23m\n",
      "         4       98651.7308          18.9964          119.03m\n",
      "         5       98578.5144          18.5964          118.94m\n",
      "         6       98227.2604          17.3929          118.78m\n",
      "         7       98314.5862          17.3420          118.62m\n",
      "         8       98647.8607          16.0581          118.48m\n",
      "         9       98466.0094          14.6845          118.35m\n",
      "        10       98171.6618          14.5814          118.34m\n",
      "        20       97960.5984          10.4053          116.98m\n",
      "        30       97265.6741           8.1925          115.66m\n"
     ]
    },
    {
     "name": "stdout",
     "output_type": "stream",
     "text": [
      "        40       97301.0751           6.3178          114.32m\n",
      "        50       96745.1615           5.7236          112.98m\n",
      "        60       96799.2093           4.6214          111.67m\n",
      "        70       96899.8344           3.0771          110.33m\n",
      "        80       96582.2597           2.5118          109.01m\n",
      "        90       96120.7381           3.1525          107.68m\n",
      "       100       96139.0914           4.1075          106.36m\n",
      "       200       94935.4702           0.9460           93.08m\n",
      "       300       94940.3064           0.0586           79.78m\n",
      "       400       94397.5804           0.0313           66.47m\n",
      "       500       94107.1008          -0.5246           53.18m\n",
      "       600       93883.5214          -0.3566           39.89m\n",
      "       700       94266.9353          -0.5910           26.59m\n",
      "       800       93171.5300          -0.1075           13.29m\n",
      "       900       93997.2298          -0.0519            0.00s\n",
      "Fold 5 completed\n",
      "Fold training time: 119.65 minutes\n",
      "Results saved to cv_results/fold_5_results.pkl\n",
      "-------------------\n",
      "\n",
      "Total time: 597.35 minutes\n",
      "\n",
      "Number of patients with risk scores: 31677\n",
      "Percentage of patients with risk scores: 100.0%\n"
     ]
    }
   ],
   "source": [
    "# Run cross-validation on full dataset\n",
    "cv = StratifiedKFold(n_splits=5, shuffle=True, random_state=42)\n",
    "\n",
    "# For storing indices and predictions\n",
    "patient_predictions = []\n",
    "\n",
    "# Create folder for saved results if it doesn't exist\n",
    "if not os.path.exists('cv_results'):\n",
    "    os.makedirs('cv_results')\n",
    "\n",
    "# Time the process\n",
    "start_time = time.time()\n",
    "\n",
    "# Get original patients IDs in the order they appear in df_x\n",
    "all_patient_ids = df_x.index\n",
    "\n",
    "for fold_idx, (train_idx, test_idx) in enumerate(cv.split(df_x, df_y)):\n",
    "    # Split data for this fold\n",
    "    # For df_x - use PatientIDs\n",
    "    patient_ids_test = all_patient_ids[test_idx]\n",
    "    X_train = df_x.drop(patient_ids_test)\n",
    "    X_test = df_x.loc[patient_ids_test]\n",
    "    \n",
    "    # For df_y - use array indexing\n",
    "    y_train = df_y[train_idx]\n",
    "    y_test = df_y[test_idx]\n",
    "    \n",
    "    fold_model = make_pipeline(\n",
    "        preprocessor,\n",
    "        GradientBoostingSurvivalAnalysis(\n",
    "            n_estimators=900,\n",
    "            learning_rate=0.05,\n",
    "            max_depth=4,\n",
    "            subsample=0.75,\n",
    "            verbose=1,\n",
    "            random_state=42\n",
    "        )\n",
    "    )\n",
    "    \n",
    "    # Fit model and time it\n",
    "    fold_start_time = time.time()\n",
    "    fold_model.fit(X_train, y_train)\n",
    "    fold_time = time.time() - fold_start_time\n",
    "    \n",
    "    # Get predictions for test set\n",
    "    test_predictions = fold_model.predict(X_test)\n",
    "    \n",
    "    # Store PatientIDs and their predictions\n",
    "    fold_predictions = list(zip(patient_ids_test, test_predictions))\n",
    "    patient_predictions.extend(fold_predictions)\n",
    "    \n",
    "    # Save results from this fold\n",
    "    fold_results = {\n",
    "        'fold': fold_idx + 1,\n",
    "        'predictions': fold_predictions,\n",
    "        'fold_time': fold_time\n",
    "    }\n",
    "    \n",
    "    with open(f'cv_results/fold_{fold_idx + 1}_results.pkl', 'wb') as f:\n",
    "        pickle.dump(fold_results, f)\n",
    "    \n",
    "    print(f\"Fold {fold_idx + 1} completed\")\n",
    "    print(f\"Fold training time: {fold_time/60:.2f} minutes\")\n",
    "    print(f\"Results saved to cv_results/fold_{fold_idx + 1}_results.pkl\")\n",
    "    print(\"-------------------\")\n",
    "\n",
    "total_time = time.time() - start_time\n",
    "print(f\"\\nTotal time: {total_time/60:.2f} minutes\")\n",
    "\n",
    "# Add predictions back to original dataframe\n",
    "pred_dict = dict(patient_predictions)\n",
    "df_x['risk_score'] = df_x.index.map(pred_dict)\n",
    "df_x.to_csv('crude_risk_score_df_kfold.csv', index = True, header = True)\n",
    "\n",
    "# Save final results too\n",
    "final_results = {\n",
    "    'all_predictions': patient_predictions,\n",
    "    'total_time': total_time\n",
    "}\n",
    "\n",
    "with open('cv_results/final_results.pkl', 'wb') as f:\n",
    "    pickle.dump(final_results, f)\n",
    "\n",
    "# Check how many predictions we have\n",
    "n_scores = df_x['risk_score'].notna().sum()\n",
    "print(f\"\\nNumber of patients with risk scores: {n_scores}\")\n",
    "print(f\"Percentage of patients with risk scores: {(n_scores/len(df_x))*100:.1f}%\")"
   ]
  }
 ],
 "metadata": {
  "kernelspec": {
   "display_name": "My Virtual Environment",
   "language": "python",
   "name": "myenv"
  },
  "language_info": {
   "codemirror_mode": {
    "name": "ipython",
    "version": 3
   },
   "file_extension": ".py",
   "mimetype": "text/x-python",
   "name": "python",
   "nbconvert_exporter": "python",
   "pygments_lexer": "ipython3",
   "version": "3.7.10"
  }
 },
 "nbformat": 4,
 "nbformat_minor": 5
}
