{
 "cells": [
  {
   "cell_type": "markdown",
   "id": "58d0a288",
   "metadata": {},
   "source": [
    "# Flatiron Health mPC: Survival metrics for key elgibility criteria\n",
    "**Background: Calculate survival metrics for emulated trials involving patients meeting key elgibliity criteria. Hazard ratio for the full cohort is calculated from a Cox-IPTW model. Restricted mean survival time and median overall survival are calculated for phenotypes using an IPTW-adjusted KM curve.** "
   ]
  },
  {
   "cell_type": "markdown",
   "id": "d3fcd552",
   "metadata": {},
   "source": [
    "## Part 1: Preprocessing"
   ]
  },
  {
   "cell_type": "markdown",
   "id": "95ea9280",
   "metadata": {},
   "source": [
    "### 1.1 Import packages and create necessary functions"
   ]
  },
  {
   "cell_type": "code",
   "execution_count": 1,
   "id": "1858a934",
   "metadata": {},
   "outputs": [],
   "source": [
    "import numpy as np\n",
    "import pandas as pd\n",
    "\n",
    "from scipy import stats\n",
    "\n",
    "from sksurv.nonparametric import kaplan_meier_estimator\n",
    "from survive import KaplanMeier, SurvivalData\n",
    "\n",
    "from lifelines import KaplanMeierFitter, CoxPHFitter\n",
    "from lifelines.plotting import add_at_risk_counts\n",
    "from lifelines.utils import median_survival_times, restricted_mean_survival_time\n",
    "from lifelines.statistics import logrank_test\n",
    "\n",
    "from sklearn.pipeline import Pipeline\n",
    "from sklearn.impute import SimpleImputer\n",
    "from sklearn.preprocessing import StandardScaler, OneHotEncoder\n",
    "from sklearn.compose import ColumnTransformer \n",
    "from sklearn.linear_model import LogisticRegression\n",
    "from sklearn.utils import resample\n",
    "\n",
    "import warnings"
   ]
  },
  {
   "cell_type": "code",
   "execution_count": 2,
   "id": "5fdc61dd",
   "metadata": {},
   "outputs": [],
   "source": [
    "# Function that returns number of rows and count of unique PatientIDs for a dataframe. \n",
    "def row_ID(dataframe):\n",
    "    row = dataframe.shape[0]\n",
    "    ID = dataframe['PatientID'].nunique()\n",
    "    return row, ID"
   ]
  },
  {
   "cell_type": "code",
   "execution_count": 3,
   "id": "850e9cc2",
   "metadata": {},
   "outputs": [],
   "source": [
    "# Find index for value closest to input value. \n",
    "def find_nearest(array, value):\n",
    "    array = np.asarray(array)\n",
    "    idx = (np.abs(array - value)).argmin()\n",
    "    return array[idx]"
   ]
  },
  {
   "cell_type": "code",
   "execution_count": 4,
   "id": "82d9bca1",
   "metadata": {},
   "outputs": [],
   "source": [
    "# Calculates median overeall suvival for risk groups. \n",
    "def mos(low, med, high, comp):\n",
    "    low_os = low.median_survival_time_\n",
    "    med_os = med.median_survival_time_\n",
    "    high_os = high.median_survival_time_\n",
    "    comp_os = comp.median_survival_time_\n",
    "    mos = [low_os, med_os, high_os, comp_os]\n",
    "    return (mos)"
   ]
  },
  {
   "cell_type": "code",
   "execution_count": 5,
   "id": "abf29964",
   "metadata": {},
   "outputs": [],
   "source": [
    "def rmst_mos_95ci(df, num_samples, drug, event, items_list, numerical_features, rmst_time):\n",
    "    \n",
    "    \"\"\"\n",
    "    Estimate the 95% confidence interval for RMST and mOS using bootstrap resampling.\n",
    "\n",
    "    Parameters:\n",
    "    - df: DataFrame containing survival data\n",
    "    - num_samples: Number of bootstrap samples\n",
    "    - drug: Treatment indicator variable\n",
    "    - event: Event type ('death' or 'progression')\n",
    "    - items_list: Feature list for IPTW \n",
    "    - numerical_features: List of numerical features\n",
    "    - rmst_time: Time to calculate RMST \n",
    "\n",
    "    Returns:\n",
    "    - mos_A_95: mOS 95% CI for treatment\n",
    "    - mos_B_95: mOS 95% CI for control\n",
    "    - rmst_A_95: RMST 95% CI for treatment\n",
    "    - rmst_B_95: RMST 95% CI for control\n",
    "    - difference_rmst_95: RMST 95% CI for difference between treatment and control \n",
    "    \"\"\"\n",
    "    \n",
    "    np.random.seed(42)\n",
    "    mos_A = []\n",
    "    mos_B = []\n",
    "    rmst_A_list = []\n",
    "    rmst_B_list = []\n",
    "    differences_rmst = []\n",
    "    \n",
    "    # Define variables based on the event type\n",
    "    if event == 'death':\n",
    "        time_column = 'timerisk_treatment'\n",
    "        status_column = 'death_status'\n",
    "        \n",
    "    else:\n",
    "        time_column = 'time_prog_treatment'\n",
    "        status_column = 'pfs_status'\n",
    "        \n",
    "    # Set up preprocessor for logistical regression which will be for IPTW  \n",
    "    numerical_transformer = Pipeline(steps = [\n",
    "        ('imputer', SimpleImputer(strategy = 'median')),\n",
    "        ('std_scaler', StandardScaler())])\n",
    "        \n",
    "    categorical_transformer = OneHotEncoder(handle_unknown = 'ignore')\n",
    "    categorical_features = list(df.select_dtypes(include = ['category']).columns)\n",
    "        \n",
    "    preprocessor = ColumnTransformer(\n",
    "        transformers = [\n",
    "            ('num', numerical_transformer, numerical_features),\n",
    "            ('cat', categorical_transformer, categorical_features)],\n",
    "        remainder = 'passthrough')\n",
    "    \n",
    "    # Boostrap HR \n",
    "    for _ in range(num_samples):\n",
    "        \n",
    "        # Resample data with replacement\n",
    "        resampled_df = resample(df).drop(columns = ['ps', 'weight'])\n",
    "        \n",
    "        # Calculated IPTW for the resampled group \n",
    "        df_x = preprocessor.fit_transform(resampled_df.filter(items = items_list))\n",
    "                                           \n",
    "        df_lr = LogisticRegression(max_iter = 1000)\n",
    "        df_lr.fit(df_x, resampled_df[drug])\n",
    "        warnings.filterwarnings(\"ignore\")\n",
    "                                           \n",
    "        pred = df_lr.predict_proba(df_x)        \n",
    "        resampled_df['ps'] = pred[:, 1]                          \n",
    "        resampled_df['weight'] = (\n",
    "                np.where(resampled_df[drug] == 1, 1/resampled_df['ps'], 1/(1 - resampled_df['ps'])))\n",
    "    \n",
    "        # mOS from IPTW-KM\n",
    "        kmf_A = KaplanMeierFitter()\n",
    "        kmf_A.fit(resampled_df.query(f'{drug} == 1')[time_column]/30,\n",
    "                  resampled_df.query(f'{drug} == 1')[status_column], \n",
    "                  weights = resampled_df.query(f'{drug} == 1')['weight'])\n",
    "\n",
    "        kmf_B = KaplanMeierFitter()\n",
    "        kmf_B.fit(resampled_df.query(f'{drug} == 0')[time_column]/30,\n",
    "                  resampled_df.query(f'{drug} == 0')[status_column], \n",
    "                  weights = resampled_df.query(f'{drug} == 0')['weight'])\n",
    "    \n",
    "        mos_A.append(kmf_A.median_survival_time_)\n",
    "        mos_B.append(kmf_B.median_survival_time_)\n",
    "        \n",
    "        # RMST from IPTW-KM\n",
    "        rmst_A = restricted_mean_survival_time(kmf_A, rmst_time)\n",
    "        rmst_B = restricted_mean_survival_time(kmf_B, rmst_time)\n",
    "        \n",
    "        rmst_A_list.append(rmst_A)\n",
    "        rmst_B_list.append(rmst_B)\n",
    "        differences_rmst.append(rmst_A - rmst_B)\n",
    "\n",
    "    # Calculate the 95% confidence interval\n",
    "    results = pd.Series({\n",
    "    'mos_A_95': np.percentile(mos_A, [2.5, 97.5]),\n",
    "    'mos_B_95': np.percentile(mos_B, [2.5, 97.5]),\n",
    "    'rmst_A_95': np.percentile(rmst_A_list, [2.5, 97.5]),\n",
    "    'rmst_B_95': np.percentile(rmst_B_list, [2.5, 97.5]),\n",
    "    'difference_rmst_95': np.percentile(differences_rmst, [2.5, 97.5])\n",
    "    })\n",
    "    \n",
    "    return results"
   ]
  },
  {
   "cell_type": "markdown",
   "id": "0558d9ac",
   "metadata": {},
   "source": [
    "## Part 2: In silico trials "
   ]
  },
  {
   "cell_type": "markdown",
   "id": "b4b4236c",
   "metadata": {},
   "source": [
    "### CHAARTED: docetaxel vs. ADT in metastatic, castration-sensitive prostate cancer  \n",
    "\n",
    "**INCLUSION**\n",
    "* Untreated metastatic prostate cancer, except up to 4 months of ADT \n",
    "* Castration-sensitive\n",
    "* Received ADT or docetaxel plus ADT"
   ]
  },
  {
   "cell_type": "markdown",
   "id": "e3a2055e",
   "metadata": {},
   "source": [
    "#### ADT"
   ]
  },
  {
   "cell_type": "code",
   "execution_count": 6,
   "id": "182a5270",
   "metadata": {},
   "outputs": [
    {
     "data": {
      "text/plain": [
       "18927"
      ]
     },
     "execution_count": 6,
     "metadata": {},
     "output_type": "execute_result"
    }
   ],
   "source": [
    "df_full = pd.read_csv('df_risk_crude.csv', index_col = 'PatientID', dtype = {'death_status': bool})\n",
    "df_full.index.nunique()"
   ]
  },
  {
   "cell_type": "code",
   "execution_count": 7,
   "id": "798149ec",
   "metadata": {},
   "outputs": [],
   "source": [
    "df_full.reset_index(inplace = True)"
   ]
  },
  {
   "cell_type": "code",
   "execution_count": 8,
   "id": "c357735d",
   "metadata": {},
   "outputs": [],
   "source": [
    "adt = pd.read_csv('Enhanced_MetPC_ADT.csv')"
   ]
  },
  {
   "cell_type": "code",
   "execution_count": 9,
   "id": "b8a7ceb8",
   "metadata": {},
   "outputs": [],
   "source": [
    "adt = (\n",
    "    adt[adt['PatientID'].isin(df_full['PatientID'])]\n",
    "    .query('TreatmentSetting == \"Advanced\"')\n",
    ")"
   ]
  },
  {
   "cell_type": "code",
   "execution_count": 10,
   "id": "6d479498",
   "metadata": {},
   "outputs": [
    {
     "data": {
      "text/plain": [
       "(17863, 17863)"
      ]
     },
     "execution_count": 10,
     "metadata": {},
     "output_type": "execute_result"
    }
   ],
   "source": [
    "row_ID(adt)"
   ]
  },
  {
   "cell_type": "code",
   "execution_count": 11,
   "id": "838d09ec",
   "metadata": {},
   "outputs": [],
   "source": [
    "adt.loc[:, 'StartDate'] = pd.to_datetime(adt['StartDate'])"
   ]
  },
  {
   "cell_type": "code",
   "execution_count": 12,
   "id": "c58682f4",
   "metadata": {},
   "outputs": [],
   "source": [
    "adt = adt.rename(columns = {'StartDate': 'StartDate_adt'})"
   ]
  },
  {
   "cell_type": "code",
   "execution_count": 13,
   "id": "2caddc4d",
   "metadata": {},
   "outputs": [],
   "source": [
    "df_full = pd.merge(df_full, adt[['PatientID', 'StartDate_adt']], on = 'PatientID', how = 'left')"
   ]
  },
  {
   "cell_type": "code",
   "execution_count": 14,
   "id": "d31ee50f",
   "metadata": {},
   "outputs": [
    {
     "data": {
      "text/plain": [
       "(18927, 18927)"
      ]
     },
     "execution_count": 14,
     "metadata": {},
     "output_type": "execute_result"
    }
   ],
   "source": [
    "row_ID(df_full)"
   ]
  },
  {
   "cell_type": "code",
   "execution_count": 15,
   "id": "501ff02a",
   "metadata": {},
   "outputs": [],
   "source": [
    "enhanced_met = pd.read_csv('Enhanced_MetProstate.csv')"
   ]
  },
  {
   "cell_type": "code",
   "execution_count": 16,
   "id": "fc917343",
   "metadata": {},
   "outputs": [],
   "source": [
    "enhanced_met = enhanced_met[enhanced_met['PatientID'].isin(df_full['PatientID'])]"
   ]
  },
  {
   "cell_type": "code",
   "execution_count": 17,
   "id": "4bb6efd1",
   "metadata": {},
   "outputs": [],
   "source": [
    "enhanced_met.loc[:, 'MetDiagnosisDate'] = pd.to_datetime(enhanced_met['MetDiagnosisDate'])"
   ]
  },
  {
   "cell_type": "code",
   "execution_count": 18,
   "id": "75304695",
   "metadata": {},
   "outputs": [],
   "source": [
    "enhanced_met.loc[:, 'CRPCDate'] = pd.to_datetime(enhanced_met['CRPCDate'])"
   ]
  },
  {
   "cell_type": "code",
   "execution_count": 19,
   "id": "c96723ec",
   "metadata": {},
   "outputs": [],
   "source": [
    "df_full = pd.merge(df_full, enhanced_met[['PatientID', 'MetDiagnosisDate', 'CRPCDate']], on = 'PatientID', how = 'left')"
   ]
  },
  {
   "cell_type": "code",
   "execution_count": 20,
   "id": "36d60ac3",
   "metadata": {},
   "outputs": [
    {
     "data": {
      "text/plain": [
       "(18927, 18927)"
      ]
     },
     "execution_count": 20,
     "metadata": {},
     "output_type": "execute_result"
    }
   ],
   "source": [
    "row_ID(df_full)"
   ]
  },
  {
   "cell_type": "code",
   "execution_count": 21,
   "id": "f93ce15e",
   "metadata": {},
   "outputs": [],
   "source": [
    "# Find all that start ADT within -120 to +90 days of metastatic diagnosis \n",
    "chaarted_adt = (\n",
    "    df_full\n",
    "    .assign(adt_diff = (df_full['StartDate_adt'] - df_full['MetDiagnosisDate']).dt.days)\n",
    "    .query('adt_diff >= -120 and adt_diff <= 90')\n",
    ")"
   ]
  },
  {
   "cell_type": "code",
   "execution_count": 22,
   "id": "e0a04b11",
   "metadata": {},
   "outputs": [],
   "source": [
    "# Find all that have missing CPRC date or date is >90 after metastatic diagnosis \n",
    "chaarted_adt = (\n",
    "    chaarted_adt\n",
    "    .assign(crpc_diff = (chaarted_adt['CRPCDate'] - chaarted_adt['MetDiagnosisDate']).dt.days)\n",
    "    .query('crpc_diff > 90 or CRPCDate.isna()', engine = 'python')\n",
    ")"
   ]
  },
  {
   "cell_type": "code",
   "execution_count": 23,
   "id": "428cca1c",
   "metadata": {},
   "outputs": [
    {
     "data": {
      "text/plain": [
       "(10475, 10475)"
      ]
     },
     "execution_count": 23,
     "metadata": {},
     "output_type": "execute_result"
    }
   ],
   "source": [
    "row_ID(chaarted_adt)"
   ]
  },
  {
   "cell_type": "code",
   "execution_count": 24,
   "id": "edc2aaa6",
   "metadata": {},
   "outputs": [],
   "source": [
    "line_therapy = pd.read_csv('LineOfTherapy.csv')"
   ]
  },
  {
   "cell_type": "code",
   "execution_count": 25,
   "id": "cfbb849d",
   "metadata": {},
   "outputs": [],
   "source": [
    "zero = (\n",
    "    line_therapy.query('LineNumber == 0')\n",
    "    .PatientID\n",
    ")"
   ]
  },
  {
   "cell_type": "code",
   "execution_count": 26,
   "id": "fbf6bb92",
   "metadata": {},
   "outputs": [],
   "source": [
    "# Exclude patients with missing treatment information (ie, LineNumber == 0)\n",
    "chaarted_adt = chaarted_adt[~chaarted_adt.PatientID.isin(zero)]"
   ]
  },
  {
   "cell_type": "code",
   "execution_count": 27,
   "id": "41b3f5cf",
   "metadata": {},
   "outputs": [
    {
     "data": {
      "text/plain": [
       "(10117, 10117)"
      ]
     },
     "execution_count": 27,
     "metadata": {},
     "output_type": "execute_result"
    }
   ],
   "source": [
    "row_ID(chaarted_adt)"
   ]
  },
  {
   "cell_type": "code",
   "execution_count": 28,
   "id": "8a569641",
   "metadata": {},
   "outputs": [],
   "source": [
    "line_therapy_cont = line_therapy.query('LineSetting != \"nmCRPC\"')"
   ]
  },
  {
   "cell_type": "code",
   "execution_count": 29,
   "id": "6eedda5b",
   "metadata": {},
   "outputs": [],
   "source": [
    "# List of FDA approved drugs for mPC as of July 2023. Clinical study drug is also included. \n",
    "fda_yes = [\n",
    "    'Abiraterone',\n",
    "    'Apalutamide',\n",
    "    'Cabazitaxel',\n",
    "    'Carboplatin',\n",
    "    'Cisplatin',\n",
    "    'Darolutamide',\n",
    "    'Docetaxel',\n",
    "    'Enzalutamide',\n",
    "    'Mitoxantrone',\n",
    "    'Olaparib',\n",
    "    'Oxaliplatin',\n",
    "    'Paclitaxel',\n",
    "    'Pembrolizumab',\n",
    "    'Radium-223',\n",
    "    'Rucaparib',\n",
    "    'Sipuleucel-T',\n",
    "    'Clinical Study Drug'\n",
    "]"
   ]
  },
  {
   "cell_type": "code",
   "execution_count": 30,
   "id": "ec24a3ba",
   "metadata": {},
   "outputs": [],
   "source": [
    "line_therapy_cont = line_therapy_cont[line_therapy_cont['LineName'].str.contains('|'.join(fda_yes))]"
   ]
  },
  {
   "cell_type": "code",
   "execution_count": 31,
   "id": "371c8fd2",
   "metadata": {},
   "outputs": [],
   "source": [
    "line_therapy_cont = (\n",
    "    line_therapy_cont\n",
    "    .sort_values(by = ['PatientID', 'StartDate'], ascending = [True, True])\n",
    ")"
   ]
  },
  {
   "cell_type": "code",
   "execution_count": 32,
   "id": "e8cf4327",
   "metadata": {},
   "outputs": [],
   "source": [
    "line_therapy_cont['line_number'] = (\n",
    "    line_therapy_cont.groupby('PatientID')['LineNumber'].cumcount()+1\n",
    ")"
   ]
  },
  {
   "cell_type": "code",
   "execution_count": 33,
   "id": "ed9e7037",
   "metadata": {},
   "outputs": [],
   "source": [
    "# First line therapy is in castrate-resistant setting \n",
    "fl_crpc = (\n",
    "    line_therapy_cont[line_therapy_cont.PatientID.isin(chaarted_adt.PatientID)]\n",
    "    .query('line_number == 1 & LineSetting == \"mCRPC\"')\n",
    "    .PatientID\n",
    ")"
   ]
  },
  {
   "cell_type": "code",
   "execution_count": 34,
   "id": "37a5d099",
   "metadata": {},
   "outputs": [],
   "source": [
    "# Never received therapy other than ADT\n",
    "notrt_adt = (\n",
    "    chaarted_adt[~chaarted_adt.PatientID.isin(line_therapy_cont.PatientID)]\n",
    "    .PatientID\n",
    ")"
   ]
  },
  {
   "cell_type": "code",
   "execution_count": 35,
   "id": "f9c8fd88",
   "metadata": {},
   "outputs": [],
   "source": [
    "adt_IDs = np.concatenate((fl_crpc, notrt_adt))"
   ]
  },
  {
   "cell_type": "code",
   "execution_count": 36,
   "id": "bb90606f",
   "metadata": {},
   "outputs": [
    {
     "data": {
      "text/plain": [
       "6218"
      ]
     },
     "execution_count": 36,
     "metadata": {},
     "output_type": "execute_result"
    }
   ],
   "source": [
    "len(adt_IDs)"
   ]
  },
  {
   "cell_type": "code",
   "execution_count": 37,
   "id": "8768c474",
   "metadata": {},
   "outputs": [],
   "source": [
    "chaarted_adt = chaarted_adt[chaarted_adt.PatientID.isin(adt_IDs)]"
   ]
  },
  {
   "cell_type": "code",
   "execution_count": 38,
   "id": "b421433c",
   "metadata": {},
   "outputs": [],
   "source": [
    "chaarted_adt.loc[:,'adt_dotx'] = 0"
   ]
  },
  {
   "cell_type": "code",
   "execution_count": 39,
   "id": "fa5587b9",
   "metadata": {},
   "outputs": [
    {
     "data": {
      "text/plain": [
       "(6218, 6218)"
      ]
     },
     "execution_count": 39,
     "metadata": {},
     "output_type": "execute_result"
    }
   ],
   "source": [
    "row_ID(chaarted_adt)"
   ]
  },
  {
   "cell_type": "code",
   "execution_count": 40,
   "id": "a74dcdb5",
   "metadata": {
    "scrolled": true
   },
   "outputs": [
    {
     "data": {
      "text/html": [
       "<div>\n",
       "<style scoped>\n",
       "    .dataframe tbody tr th:only-of-type {\n",
       "        vertical-align: middle;\n",
       "    }\n",
       "\n",
       "    .dataframe tbody tr th {\n",
       "        vertical-align: top;\n",
       "    }\n",
       "\n",
       "    .dataframe thead th {\n",
       "        text-align: right;\n",
       "    }\n",
       "</style>\n",
       "<table border=\"1\" class=\"dataframe\">\n",
       "  <thead>\n",
       "    <tr style=\"text-align: right;\">\n",
       "      <th></th>\n",
       "      <th>PatientID</th>\n",
       "      <th>Gender</th>\n",
       "      <th>race</th>\n",
       "      <th>ethnicity</th>\n",
       "      <th>age</th>\n",
       "      <th>p_type</th>\n",
       "      <th>NStage</th>\n",
       "      <th>MStage</th>\n",
       "      <th>Histology</th>\n",
       "      <th>GleasonScore</th>\n",
       "      <th>...</th>\n",
       "      <th>other_met</th>\n",
       "      <th>prim_treatment</th>\n",
       "      <th>early_adt</th>\n",
       "      <th>risk_score</th>\n",
       "      <th>StartDate_adt</th>\n",
       "      <th>MetDiagnosisDate</th>\n",
       "      <th>CRPCDate</th>\n",
       "      <th>adt_diff</th>\n",
       "      <th>crpc_diff</th>\n",
       "      <th>adt_dotx</th>\n",
       "    </tr>\n",
       "  </thead>\n",
       "  <tbody>\n",
       "    <tr>\n",
       "      <th>4311</th>\n",
       "      <td>FE6C0CF7BBBA5</td>\n",
       "      <td>M</td>\n",
       "      <td>other</td>\n",
       "      <td>unknown</td>\n",
       "      <td>68</td>\n",
       "      <td>COMMUNITY</td>\n",
       "      <td>N1</td>\n",
       "      <td>M1b</td>\n",
       "      <td>Adenocarcinoma</td>\n",
       "      <td>8</td>\n",
       "      <td>...</td>\n",
       "      <td>0.0</td>\n",
       "      <td>unknown</td>\n",
       "      <td>0.0</td>\n",
       "      <td>-0.699715</td>\n",
       "      <td>2018-09-07</td>\n",
       "      <td>2018-09-04</td>\n",
       "      <td>2020-02-26</td>\n",
       "      <td>3.0</td>\n",
       "      <td>540.0</td>\n",
       "      <td>0</td>\n",
       "    </tr>\n",
       "    <tr>\n",
       "      <th>13439</th>\n",
       "      <td>F724DB27B176F</td>\n",
       "      <td>M</td>\n",
       "      <td>unknown</td>\n",
       "      <td>unknown</td>\n",
       "      <td>66</td>\n",
       "      <td>ACADEMIC</td>\n",
       "      <td>N1</td>\n",
       "      <td>M1c</td>\n",
       "      <td>Adenocarcinoma</td>\n",
       "      <td>10</td>\n",
       "      <td>...</td>\n",
       "      <td>0.0</td>\n",
       "      <td>unknown</td>\n",
       "      <td>0.0</td>\n",
       "      <td>-0.353764</td>\n",
       "      <td>2018-02-14</td>\n",
       "      <td>2018-02-14</td>\n",
       "      <td>2018-12-12</td>\n",
       "      <td>0.0</td>\n",
       "      <td>301.0</td>\n",
       "      <td>0</td>\n",
       "    </tr>\n",
       "    <tr>\n",
       "      <th>2191</th>\n",
       "      <td>F750B98AFCC63</td>\n",
       "      <td>M</td>\n",
       "      <td>white</td>\n",
       "      <td>unknown</td>\n",
       "      <td>68</td>\n",
       "      <td>COMMUNITY</td>\n",
       "      <td>NX</td>\n",
       "      <td>M1b</td>\n",
       "      <td>Adenocarcinoma</td>\n",
       "      <td>8</td>\n",
       "      <td>...</td>\n",
       "      <td>0.0</td>\n",
       "      <td>unknown</td>\n",
       "      <td>0.0</td>\n",
       "      <td>-0.858414</td>\n",
       "      <td>2017-05-01</td>\n",
       "      <td>2017-04-27</td>\n",
       "      <td>NaT</td>\n",
       "      <td>4.0</td>\n",
       "      <td>NaN</td>\n",
       "      <td>0</td>\n",
       "    </tr>\n",
       "  </tbody>\n",
       "</table>\n",
       "<p>3 rows × 235 columns</p>\n",
       "</div>"
      ],
      "text/plain": [
       "           PatientID Gender     race ethnicity  age     p_type NStage MStage  \\\n",
       "4311   FE6C0CF7BBBA5      M    other   unknown   68  COMMUNITY     N1    M1b   \n",
       "13439  F724DB27B176F      M  unknown   unknown   66   ACADEMIC     N1    M1c   \n",
       "2191   F750B98AFCC63      M    white   unknown   68  COMMUNITY     NX    M1b   \n",
       "\n",
       "            Histology GleasonScore  ...  other_met  prim_treatment early_adt  \\\n",
       "4311   Adenocarcinoma            8  ...        0.0         unknown       0.0   \n",
       "13439  Adenocarcinoma           10  ...        0.0         unknown       0.0   \n",
       "2191   Adenocarcinoma            8  ...        0.0         unknown       0.0   \n",
       "\n",
       "       risk_score  StartDate_adt  MetDiagnosisDate   CRPCDate  adt_diff  \\\n",
       "4311    -0.699715     2018-09-07        2018-09-04 2020-02-26       3.0   \n",
       "13439   -0.353764     2018-02-14        2018-02-14 2018-12-12       0.0   \n",
       "2191    -0.858414     2017-05-01        2017-04-27        NaT       4.0   \n",
       "\n",
       "       crpc_diff  adt_dotx  \n",
       "4311       540.0         0  \n",
       "13439      301.0         0  \n",
       "2191         NaN         0  \n",
       "\n",
       "[3 rows x 235 columns]"
      ]
     },
     "execution_count": 40,
     "metadata": {},
     "output_type": "execute_result"
    }
   ],
   "source": [
    "chaarted_adt.sample(3)"
   ]
  },
  {
   "cell_type": "markdown",
   "id": "73a7523c",
   "metadata": {},
   "source": [
    "#### Docetaxel + ADT"
   ]
  },
  {
   "cell_type": "code",
   "execution_count": 41,
   "id": "1e03e3f8",
   "metadata": {},
   "outputs": [],
   "source": [
    "# Find those that start ADT within -120 to 90 days of metastaic diagnosis \n",
    "chaarted_dotx = (\n",
    "    df_full\n",
    "    .assign(adt_diff = (df_full['StartDate_adt'] - df_full['MetDiagnosisDate']).dt.days)\n",
    "    .query('adt_diff >= -120 and adt_diff <= 90')\n",
    ")"
   ]
  },
  {
   "cell_type": "code",
   "execution_count": 42,
   "id": "5d3bccc6",
   "metadata": {},
   "outputs": [],
   "source": [
    "# Find all that have missing CPRC date or date is >90 days metastatic diagnosis \n",
    "chaarted_dotx = (\n",
    "    chaarted_dotx\n",
    "    .assign(crpc_diff = (chaarted_dotx['CRPCDate'] - chaarted_dotx['MetDiagnosisDate']).dt.days)\n",
    "    .query('crpc_diff > 90 or CRPCDate.isna()', engine = 'python')\n",
    ")"
   ]
  },
  {
   "cell_type": "code",
   "execution_count": 43,
   "id": "c83e31aa",
   "metadata": {},
   "outputs": [
    {
     "data": {
      "text/plain": [
       "(10475, 10475)"
      ]
     },
     "execution_count": 43,
     "metadata": {},
     "output_type": "execute_result"
    }
   ],
   "source": [
    "row_ID(chaarted_dotx)"
   ]
  },
  {
   "cell_type": "code",
   "execution_count": 44,
   "id": "7203ccd5",
   "metadata": {},
   "outputs": [],
   "source": [
    "# Find start time of first line of mHSPC therapy. \n",
    "line_therapy_fl = (\n",
    "    line_therapy[line_therapy['PatientID'].isin(chaarted_dotx['PatientID'])]\n",
    "    .query('LineSetting == \"mHSPC\"')\n",
    "    .sort_values(by = ['PatientID', 'StartDate'], ascending = [True, True])\n",
    "    .drop_duplicates(subset = ['PatientID'], keep = 'first')\n",
    "    .rename(columns = {'StartDate': 'StartDate_dotx'})\n",
    ")"
   ]
  },
  {
   "cell_type": "code",
   "execution_count": 45,
   "id": "4d5677ea",
   "metadata": {},
   "outputs": [
    {
     "data": {
      "text/plain": [
       "(4042, 4042)"
      ]
     },
     "execution_count": 45,
     "metadata": {},
     "output_type": "execute_result"
    }
   ],
   "source": [
    "row_ID(line_therapy_fl)"
   ]
  },
  {
   "cell_type": "code",
   "execution_count": 46,
   "id": "d0213fea",
   "metadata": {},
   "outputs": [],
   "source": [
    "line_therapy_fl.loc[:, 'StartDate_dotx'] = pd.to_datetime(line_therapy_fl['StartDate_dotx'])"
   ]
  },
  {
   "cell_type": "code",
   "execution_count": 47,
   "id": "33245ff5",
   "metadata": {},
   "outputs": [
    {
     "data": {
      "text/plain": [
       "Docetaxel                                         1363\n",
       "Abiraterone,Docetaxel                               27\n",
       "Carboplatin,Docetaxel                               12\n",
       "Clinical Study Drug,Docetaxel                       11\n",
       "Darolutamide,Docetaxel                               9\n",
       "Docetaxel,Enzalutamide                               6\n",
       "Carboplatin,Docetaxel,Estramustine                   5\n",
       "Docetaxel,Ketoconazole                               3\n",
       "Apalutamide,Docetaxel                                2\n",
       "Carboplatin,Docetaxel,Estramustine,Thalidomide       2\n",
       "Name: LineName, dtype: int64"
      ]
     },
     "execution_count": 47,
     "metadata": {},
     "output_type": "execute_result"
    }
   ],
   "source": [
    "line_therapy_fl[line_therapy_fl['LineName'].str.contains('Docetaxel')].LineName.value_counts().head(10)"
   ]
  },
  {
   "cell_type": "code",
   "execution_count": 48,
   "id": "862d71f1",
   "metadata": {},
   "outputs": [],
   "source": [
    "line_dotx = line_therapy_fl.query('LineName == \"Docetaxel\"')"
   ]
  },
  {
   "cell_type": "code",
   "execution_count": 49,
   "id": "c1ea9c7f",
   "metadata": {},
   "outputs": [
    {
     "data": {
      "text/plain": [
       "(1363, 1363)"
      ]
     },
     "execution_count": 49,
     "metadata": {},
     "output_type": "execute_result"
    }
   ],
   "source": [
    "row_ID(line_dotx)"
   ]
  },
  {
   "cell_type": "code",
   "execution_count": 50,
   "id": "c3498bdf",
   "metadata": {},
   "outputs": [],
   "source": [
    "chaarted_dotx = pd.merge(chaarted_dotx, line_dotx[['PatientID', 'StartDate_dotx']], on = 'PatientID', how = 'left')"
   ]
  },
  {
   "cell_type": "code",
   "execution_count": 51,
   "id": "b4a12adc",
   "metadata": {},
   "outputs": [
    {
     "data": {
      "text/plain": [
       "(10475, 10475)"
      ]
     },
     "execution_count": 51,
     "metadata": {},
     "output_type": "execute_result"
    }
   ],
   "source": [
    "row_ID(chaarted_dotx)"
   ]
  },
  {
   "cell_type": "code",
   "execution_count": 52,
   "id": "d1239426",
   "metadata": {},
   "outputs": [],
   "source": [
    "# Find all patients that start enzalutamide within 180 days of metastatic diagnosis\n",
    "chaarted_dotx = (\n",
    "    chaarted_dotx\n",
    "    .assign(fl_diff = (chaarted_dotx['StartDate_dotx'] - chaarted_dotx['StartDate_adt']).dt.days)\n",
    "    .query('fl_diff >= -90 and fl_diff <= 90')\n",
    ")"
   ]
  },
  {
   "cell_type": "code",
   "execution_count": 53,
   "id": "3eb6c92e",
   "metadata": {},
   "outputs": [
    {
     "data": {
      "text/plain": [
       "1179"
      ]
     },
     "execution_count": 53,
     "metadata": {},
     "output_type": "execute_result"
    }
   ],
   "source": [
    "len(chaarted_dotx)"
   ]
  },
  {
   "cell_type": "code",
   "execution_count": 54,
   "id": "f777e47c",
   "metadata": {},
   "outputs": [
    {
     "data": {
      "text/html": [
       "<div>\n",
       "<style scoped>\n",
       "    .dataframe tbody tr th:only-of-type {\n",
       "        vertical-align: middle;\n",
       "    }\n",
       "\n",
       "    .dataframe tbody tr th {\n",
       "        vertical-align: top;\n",
       "    }\n",
       "\n",
       "    .dataframe thead th {\n",
       "        text-align: right;\n",
       "    }\n",
       "</style>\n",
       "<table border=\"1\" class=\"dataframe\">\n",
       "  <thead>\n",
       "    <tr style=\"text-align: right;\">\n",
       "      <th></th>\n",
       "      <th>PatientID</th>\n",
       "      <th>Gender</th>\n",
       "      <th>race</th>\n",
       "      <th>ethnicity</th>\n",
       "      <th>age</th>\n",
       "      <th>p_type</th>\n",
       "      <th>NStage</th>\n",
       "      <th>MStage</th>\n",
       "      <th>Histology</th>\n",
       "      <th>GleasonScore</th>\n",
       "      <th>...</th>\n",
       "      <th>prim_treatment</th>\n",
       "      <th>early_adt</th>\n",
       "      <th>risk_score</th>\n",
       "      <th>StartDate_adt</th>\n",
       "      <th>MetDiagnosisDate</th>\n",
       "      <th>CRPCDate</th>\n",
       "      <th>adt_diff</th>\n",
       "      <th>crpc_diff</th>\n",
       "      <th>StartDate_dotx</th>\n",
       "      <th>fl_diff</th>\n",
       "    </tr>\n",
       "  </thead>\n",
       "  <tbody>\n",
       "    <tr>\n",
       "      <th>3626</th>\n",
       "      <td>F7DDCC87486A0</td>\n",
       "      <td>M</td>\n",
       "      <td>other</td>\n",
       "      <td>unknown</td>\n",
       "      <td>58</td>\n",
       "      <td>COMMUNITY</td>\n",
       "      <td>N1</td>\n",
       "      <td>M1</td>\n",
       "      <td>Prostate cancer, NOS</td>\n",
       "      <td>Unknown / Not documented</td>\n",
       "      <td>...</td>\n",
       "      <td>unknown</td>\n",
       "      <td>0.0</td>\n",
       "      <td>-0.324533</td>\n",
       "      <td>2019-04-01</td>\n",
       "      <td>2019-03-06</td>\n",
       "      <td>NaT</td>\n",
       "      <td>26.0</td>\n",
       "      <td>NaN</td>\n",
       "      <td>2019-06-04</td>\n",
       "      <td>64.0</td>\n",
       "    </tr>\n",
       "    <tr>\n",
       "      <th>5904</th>\n",
       "      <td>FA28EFD19A514</td>\n",
       "      <td>M</td>\n",
       "      <td>white</td>\n",
       "      <td>unknown</td>\n",
       "      <td>65</td>\n",
       "      <td>COMMUNITY</td>\n",
       "      <td>Unknown / Not documented</td>\n",
       "      <td>M0</td>\n",
       "      <td>Adenocarcinoma</td>\n",
       "      <td>8</td>\n",
       "      <td>...</td>\n",
       "      <td>radiation</td>\n",
       "      <td>1.0</td>\n",
       "      <td>-0.652773</td>\n",
       "      <td>2016-06-29</td>\n",
       "      <td>2016-06-10</td>\n",
       "      <td>2020-10-03</td>\n",
       "      <td>19.0</td>\n",
       "      <td>1576.0</td>\n",
       "      <td>2016-08-25</td>\n",
       "      <td>57.0</td>\n",
       "    </tr>\n",
       "    <tr>\n",
       "      <th>7722</th>\n",
       "      <td>F96A74E486CC5</td>\n",
       "      <td>M</td>\n",
       "      <td>other</td>\n",
       "      <td>unknown</td>\n",
       "      <td>81</td>\n",
       "      <td>COMMUNITY</td>\n",
       "      <td>N0</td>\n",
       "      <td>M0</td>\n",
       "      <td>Adenocarcinoma</td>\n",
       "      <td>8</td>\n",
       "      <td>...</td>\n",
       "      <td>radiation</td>\n",
       "      <td>1.0</td>\n",
       "      <td>-0.201993</td>\n",
       "      <td>2021-11-01</td>\n",
       "      <td>2021-10-15</td>\n",
       "      <td>NaT</td>\n",
       "      <td>17.0</td>\n",
       "      <td>NaN</td>\n",
       "      <td>2021-11-08</td>\n",
       "      <td>7.0</td>\n",
       "    </tr>\n",
       "  </tbody>\n",
       "</table>\n",
       "<p>3 rows × 236 columns</p>\n",
       "</div>"
      ],
      "text/plain": [
       "          PatientID Gender   race ethnicity  age     p_type  \\\n",
       "3626  F7DDCC87486A0      M  other   unknown   58  COMMUNITY   \n",
       "5904  FA28EFD19A514      M  white   unknown   65  COMMUNITY   \n",
       "7722  F96A74E486CC5      M  other   unknown   81  COMMUNITY   \n",
       "\n",
       "                        NStage MStage             Histology  \\\n",
       "3626                        N1     M1  Prostate cancer, NOS   \n",
       "5904  Unknown / Not documented     M0        Adenocarcinoma   \n",
       "7722                        N0     M0        Adenocarcinoma   \n",
       "\n",
       "                  GleasonScore  ...  prim_treatment  early_adt risk_score  \\\n",
       "3626  Unknown / Not documented  ...         unknown        0.0  -0.324533   \n",
       "5904                         8  ...       radiation        1.0  -0.652773   \n",
       "7722                         8  ...       radiation        1.0  -0.201993   \n",
       "\n",
       "      StartDate_adt  MetDiagnosisDate   CRPCDate  adt_diff  crpc_diff  \\\n",
       "3626     2019-04-01        2019-03-06        NaT      26.0        NaN   \n",
       "5904     2016-06-29        2016-06-10 2020-10-03      19.0     1576.0   \n",
       "7722     2021-11-01        2021-10-15        NaT      17.0        NaN   \n",
       "\n",
       "      StartDate_dotx  fl_diff  \n",
       "3626      2019-06-04     64.0  \n",
       "5904      2016-08-25     57.0  \n",
       "7722      2021-11-08      7.0  \n",
       "\n",
       "[3 rows x 236 columns]"
      ]
     },
     "execution_count": 54,
     "metadata": {},
     "output_type": "execute_result"
    }
   ],
   "source": [
    "chaarted_dotx.sample(3)"
   ]
  },
  {
   "cell_type": "code",
   "execution_count": 55,
   "id": "ed21d080",
   "metadata": {},
   "outputs": [],
   "source": [
    "chaarted_dotx.loc[:,'adt_dotx'] = 1"
   ]
  },
  {
   "cell_type": "code",
   "execution_count": 56,
   "id": "a9f23e29",
   "metadata": {},
   "outputs": [],
   "source": [
    "chaarted = pd.concat([chaarted_adt, chaarted_dotx], ignore_index = True)"
   ]
  },
  {
   "cell_type": "code",
   "execution_count": 57,
   "id": "532bbbc8",
   "metadata": {},
   "outputs": [
    {
     "data": {
      "text/plain": [
       "(7397, 7397)"
      ]
     },
     "execution_count": 57,
     "metadata": {},
     "output_type": "execute_result"
    }
   ],
   "source": [
    "row_ID(chaarted)"
   ]
  },
  {
   "cell_type": "code",
   "execution_count": 58,
   "id": "f9923f46",
   "metadata": {},
   "outputs": [
    {
     "data": {
      "text/plain": [
       "0    6218\n",
       "1    1179\n",
       "Name: adt_dotx, dtype: int64"
      ]
     },
     "execution_count": 58,
     "metadata": {},
     "output_type": "execute_result"
    }
   ],
   "source": [
    "chaarted.adt_dotx.value_counts(dropna = False)"
   ]
  },
  {
   "cell_type": "code",
   "execution_count": 59,
   "id": "7a3ea605",
   "metadata": {},
   "outputs": [
    {
     "data": {
      "text/html": [
       "<div>\n",
       "<style scoped>\n",
       "    .dataframe tbody tr th:only-of-type {\n",
       "        vertical-align: middle;\n",
       "    }\n",
       "\n",
       "    .dataframe tbody tr th {\n",
       "        vertical-align: top;\n",
       "    }\n",
       "\n",
       "    .dataframe thead th {\n",
       "        text-align: right;\n",
       "    }\n",
       "</style>\n",
       "<table border=\"1\" class=\"dataframe\">\n",
       "  <thead>\n",
       "    <tr style=\"text-align: right;\">\n",
       "      <th></th>\n",
       "      <th>PatientID</th>\n",
       "      <th>Gender</th>\n",
       "      <th>race</th>\n",
       "      <th>ethnicity</th>\n",
       "      <th>age</th>\n",
       "      <th>p_type</th>\n",
       "      <th>NStage</th>\n",
       "      <th>MStage</th>\n",
       "      <th>Histology</th>\n",
       "      <th>GleasonScore</th>\n",
       "      <th>...</th>\n",
       "      <th>early_adt</th>\n",
       "      <th>risk_score</th>\n",
       "      <th>StartDate_adt</th>\n",
       "      <th>MetDiagnosisDate</th>\n",
       "      <th>CRPCDate</th>\n",
       "      <th>adt_diff</th>\n",
       "      <th>crpc_diff</th>\n",
       "      <th>adt_dotx</th>\n",
       "      <th>StartDate_dotx</th>\n",
       "      <th>fl_diff</th>\n",
       "    </tr>\n",
       "  </thead>\n",
       "  <tbody>\n",
       "    <tr>\n",
       "      <th>110</th>\n",
       "      <td>F6B127D4FBB44</td>\n",
       "      <td>M</td>\n",
       "      <td>white</td>\n",
       "      <td>unknown</td>\n",
       "      <td>72</td>\n",
       "      <td>ACADEMIC</td>\n",
       "      <td>Unknown / Not documented</td>\n",
       "      <td>M0</td>\n",
       "      <td>Adenocarcinoma</td>\n",
       "      <td>Unknown / Not documented</td>\n",
       "      <td>...</td>\n",
       "      <td>0.0</td>\n",
       "      <td>-0.573792</td>\n",
       "      <td>2014-10-27</td>\n",
       "      <td>2014-10-06</td>\n",
       "      <td>2015-01-05</td>\n",
       "      <td>21.0</td>\n",
       "      <td>91.0</td>\n",
       "      <td>0</td>\n",
       "      <td>NaT</td>\n",
       "      <td>NaN</td>\n",
       "    </tr>\n",
       "    <tr>\n",
       "      <th>304</th>\n",
       "      <td>FBDD309EEC5F5</td>\n",
       "      <td>M</td>\n",
       "      <td>other</td>\n",
       "      <td>unknown</td>\n",
       "      <td>59</td>\n",
       "      <td>COMMUNITY</td>\n",
       "      <td>Unknown / Not documented</td>\n",
       "      <td>M1</td>\n",
       "      <td>Adenocarcinoma</td>\n",
       "      <td>Unknown / Not documented</td>\n",
       "      <td>...</td>\n",
       "      <td>0.0</td>\n",
       "      <td>-0.678873</td>\n",
       "      <td>2017-11-21</td>\n",
       "      <td>2017-11-15</td>\n",
       "      <td>NaT</td>\n",
       "      <td>6.0</td>\n",
       "      <td>NaN</td>\n",
       "      <td>0</td>\n",
       "      <td>NaT</td>\n",
       "      <td>NaN</td>\n",
       "    </tr>\n",
       "    <tr>\n",
       "      <th>435</th>\n",
       "      <td>F4FB8392DE598</td>\n",
       "      <td>M</td>\n",
       "      <td>black</td>\n",
       "      <td>unknown</td>\n",
       "      <td>67</td>\n",
       "      <td>ACADEMIC</td>\n",
       "      <td>N0</td>\n",
       "      <td>M0</td>\n",
       "      <td>Adenocarcinoma</td>\n",
       "      <td>Less than or equal to 6</td>\n",
       "      <td>...</td>\n",
       "      <td>0.0</td>\n",
       "      <td>-0.569500</td>\n",
       "      <td>2016-11-21</td>\n",
       "      <td>2016-11-15</td>\n",
       "      <td>2017-10-29</td>\n",
       "      <td>6.0</td>\n",
       "      <td>348.0</td>\n",
       "      <td>0</td>\n",
       "      <td>NaT</td>\n",
       "      <td>NaN</td>\n",
       "    </tr>\n",
       "  </tbody>\n",
       "</table>\n",
       "<p>3 rows × 237 columns</p>\n",
       "</div>"
      ],
      "text/plain": [
       "         PatientID Gender   race ethnicity  age     p_type  \\\n",
       "110  F6B127D4FBB44      M  white   unknown   72   ACADEMIC   \n",
       "304  FBDD309EEC5F5      M  other   unknown   59  COMMUNITY   \n",
       "435  F4FB8392DE598      M  black   unknown   67   ACADEMIC   \n",
       "\n",
       "                       NStage MStage       Histology  \\\n",
       "110  Unknown / Not documented     M0  Adenocarcinoma   \n",
       "304  Unknown / Not documented     M1  Adenocarcinoma   \n",
       "435                        N0     M0  Adenocarcinoma   \n",
       "\n",
       "                 GleasonScore  ...  early_adt  risk_score StartDate_adt  \\\n",
       "110  Unknown / Not documented  ...        0.0   -0.573792    2014-10-27   \n",
       "304  Unknown / Not documented  ...        0.0   -0.678873    2017-11-21   \n",
       "435   Less than or equal to 6  ...        0.0   -0.569500    2016-11-21   \n",
       "\n",
       "     MetDiagnosisDate   CRPCDate  adt_diff  crpc_diff  adt_dotx  \\\n",
       "110        2014-10-06 2015-01-05      21.0       91.0         0   \n",
       "304        2017-11-15        NaT       6.0        NaN         0   \n",
       "435        2016-11-15 2017-10-29       6.0      348.0         0   \n",
       "\n",
       "     StartDate_dotx  fl_diff  \n",
       "110             NaT      NaN  \n",
       "304             NaT      NaN  \n",
       "435             NaT      NaN  \n",
       "\n",
       "[3 rows x 237 columns]"
      ]
     },
     "execution_count": 59,
     "metadata": {},
     "output_type": "execute_result"
    }
   ],
   "source": [
    "chaarted.sample(3)"
   ]
  },
  {
   "cell_type": "markdown",
   "id": "461b0c84",
   "metadata": {},
   "source": [
    "#### Time from ADT treatment to death or censor "
   ]
  },
  {
   "cell_type": "code",
   "execution_count": 60,
   "id": "6564ae5a",
   "metadata": {},
   "outputs": [],
   "source": [
    "mortality_tr = pd.read_csv('mortality_cleaned_tr.csv')"
   ]
  },
  {
   "cell_type": "code",
   "execution_count": 61,
   "id": "6ac2d2c2",
   "metadata": {},
   "outputs": [],
   "source": [
    "mortality_te = pd.read_csv('mortality_cleaned_te.csv')"
   ]
  },
  {
   "cell_type": "code",
   "execution_count": 62,
   "id": "fe8a2e46",
   "metadata": {},
   "outputs": [],
   "source": [
    "mortality_tr = mortality_tr[['PatientID', 'death_date', 'last_activity']]"
   ]
  },
  {
   "cell_type": "code",
   "execution_count": 63,
   "id": "4c7d318b",
   "metadata": {},
   "outputs": [],
   "source": [
    "mortality_te = mortality_te[['PatientID', 'death_date', 'last_activity']]"
   ]
  },
  {
   "cell_type": "code",
   "execution_count": 64,
   "id": "9b8a8e79",
   "metadata": {},
   "outputs": [
    {
     "data": {
      "text/plain": [
       "(18927, 18927)"
      ]
     },
     "execution_count": 64,
     "metadata": {},
     "output_type": "execute_result"
    }
   ],
   "source": [
    "mortality = pd.concat([mortality_tr, mortality_te], ignore_index = True)\n",
    "row_ID(mortality)"
   ]
  },
  {
   "cell_type": "code",
   "execution_count": 65,
   "id": "136211d3",
   "metadata": {},
   "outputs": [],
   "source": [
    "mortality.loc[:, 'last_activity'] = pd.to_datetime(mortality['last_activity'])"
   ]
  },
  {
   "cell_type": "code",
   "execution_count": 66,
   "id": "884ec72d",
   "metadata": {},
   "outputs": [],
   "source": [
    "mortality.loc[:, 'death_date'] = pd.to_datetime(mortality['death_date'])"
   ]
  },
  {
   "cell_type": "code",
   "execution_count": 67,
   "id": "6ec8e4c2",
   "metadata": {},
   "outputs": [
    {
     "data": {
      "text/plain": [
       "18927"
      ]
     },
     "execution_count": 67,
     "metadata": {},
     "output_type": "execute_result"
    }
   ],
   "source": [
    "len(mortality)"
   ]
  },
  {
   "cell_type": "code",
   "execution_count": 68,
   "id": "f5de8c39",
   "metadata": {},
   "outputs": [],
   "source": [
    "chaarted = pd.merge(chaarted, mortality, on = 'PatientID', how = 'left')"
   ]
  },
  {
   "cell_type": "code",
   "execution_count": 69,
   "id": "f858ee2a",
   "metadata": {},
   "outputs": [
    {
     "data": {
      "text/plain": [
       "(7397, 7397)"
      ]
     },
     "execution_count": 69,
     "metadata": {},
     "output_type": "execute_result"
    }
   ],
   "source": [
    "row_ID(chaarted)"
   ]
  },
  {
   "cell_type": "code",
   "execution_count": 70,
   "id": "2af16c09",
   "metadata": {},
   "outputs": [],
   "source": [
    "conditions = [\n",
    "    (chaarted['death_status'] == 1),\n",
    "    (chaarted['death_status'] == 0)]\n",
    "\n",
    "choices = [\n",
    "    (chaarted['death_date'] - chaarted['StartDate_adt']).dt.days,\n",
    "    (chaarted['last_activity'] - chaarted['StartDate_adt']).dt.days]\n",
    "\n",
    "chaarted.loc[:, 'timerisk_treatment'] = np.select(conditions, choices)\n",
    "\n",
    "chaarted = chaarted.query('timerisk_treatment >= 0')"
   ]
  },
  {
   "cell_type": "markdown",
   "id": "dd804b6e",
   "metadata": {},
   "source": [
    "#### Patient count "
   ]
  },
  {
   "cell_type": "code",
   "execution_count": 71,
   "id": "78e4c59c",
   "metadata": {},
   "outputs": [],
   "source": [
    "low_cutoff_chaarted = chaarted.risk_score.quantile(1/3)"
   ]
  },
  {
   "cell_type": "code",
   "execution_count": 72,
   "id": "4285fff6",
   "metadata": {},
   "outputs": [],
   "source": [
    "high_cutoff_chaarted = chaarted.risk_score.quantile(2/3)"
   ]
  },
  {
   "cell_type": "code",
   "execution_count": 73,
   "id": "a97e71ff",
   "metadata": {},
   "outputs": [
    {
     "name": "stdout",
     "output_type": "stream",
     "text": [
      "Docetaxel + ADT: 1179\n",
      "High risk: 316\n",
      "Med risk: 424\n",
      "Low risk: 439\n"
     ]
    }
   ],
   "source": [
    "print('Docetaxel + ADT:',  chaarted.query('adt_dotx == 1').shape[0])\n",
    "print('High risk:', chaarted.query('adt_dotx == 1').query('risk_score >= @high_cutoff_chaarted').shape[0])\n",
    "print('Med risk:', chaarted.query('adt_dotx == 1').query('risk_score < @high_cutoff_chaarted and risk_score > @low_cutoff_chaarted').shape[0])\n",
    "print('Low risk:', chaarted.query('adt_dotx == 1').query('risk_score <= @low_cutoff_chaarted').shape[0])"
   ]
  },
  {
   "cell_type": "code",
   "execution_count": 74,
   "id": "9b413c69",
   "metadata": {},
   "outputs": [
    {
     "name": "stdout",
     "output_type": "stream",
     "text": [
      "ADT: 6218\n",
      "High risk: 2150\n",
      "Med risk: 2041\n",
      "Low risk: 2027\n"
     ]
    }
   ],
   "source": [
    "print('ADT:',  chaarted.query('adt_dotx == 0').shape[0])\n",
    "print('High risk:', chaarted.query('adt_dotx == 0').query('risk_score >= @high_cutoff_chaarted').shape[0])\n",
    "print('Med risk:', chaarted.query('adt_dotx == 0').query('risk_score < @high_cutoff_chaarted and risk_score > @low_cutoff_chaarted').shape[0])\n",
    "print('Low risk:', chaarted.query('adt_dotx == 0').query('risk_score <= @low_cutoff_chaarted').shape[0])"
   ]
  },
  {
   "cell_type": "markdown",
   "id": "60887176",
   "metadata": {},
   "source": [
    "#### Survival with covariate balancing "
   ]
  },
  {
   "cell_type": "code",
   "execution_count": 75,
   "id": "8c714a96",
   "metadata": {},
   "outputs": [],
   "source": [
    "chaarted = chaarted.set_index('PatientID')"
   ]
  },
  {
   "cell_type": "code",
   "execution_count": 76,
   "id": "a4ef2161",
   "metadata": {},
   "outputs": [],
   "source": [
    "chaarted['met_cat'] = pd.cut(chaarted['met_year'],\n",
    "                             bins = [2010, 2015, float('inf')],\n",
    "                             labels = ['11-15', '16-22'])"
   ]
  },
  {
   "cell_type": "code",
   "execution_count": 77,
   "id": "84c3c05d",
   "metadata": {},
   "outputs": [],
   "source": [
    "conditions = [\n",
    "    ((chaarted['ecog_diagnosis'] == \"1.0\") | (chaarted['ecog_diagnosis'] == \"0.0\")),  \n",
    "    ((chaarted['ecog_diagnosis'] == \"2.0\") | (chaarted['ecog_diagnosis'] == \"3.0\"))\n",
    "]\n",
    "\n",
    "choices = ['lt_2', 'gte_2']\n",
    "\n",
    "chaarted['ecog_2'] = np.select(conditions, choices, default = 'unknown')"
   ]
  },
  {
   "cell_type": "code",
   "execution_count": 78,
   "id": "7171ff54",
   "metadata": {},
   "outputs": [],
   "source": [
    "chaarted_iptw = chaarted.filter(items = ['death_status',\n",
    "                                         'timerisk_treatment',\n",
    "                                         'adt_dotx',\n",
    "                                         'age',\n",
    "                                         'race',\n",
    "                                         'p_type',\n",
    "                                         'met_cat',\n",
    "                                         'delta_met_diagnosis',\n",
    "                                         'commercial',\n",
    "                                         'medicare',\n",
    "                                         'medicaid',\n",
    "                                         'ecog_2',\n",
    "                                         'prim_treatment',\n",
    "                                         'PSAMetDiagnosis',\n",
    "                                         'albumin_diag', \n",
    "                                         'weight_pct_change',\n",
    "                                         'risk_score'])"
   ]
  },
  {
   "cell_type": "code",
   "execution_count": 79,
   "id": "dfdd1355",
   "metadata": {},
   "outputs": [
    {
     "data": {
      "text/plain": [
       "death_status               bool\n",
       "timerisk_treatment      float64\n",
       "adt_dotx                  int64\n",
       "age                       int64\n",
       "race                     object\n",
       "p_type                   object\n",
       "met_cat                category\n",
       "delta_met_diagnosis       int64\n",
       "commercial              float64\n",
       "medicare                float64\n",
       "medicaid                float64\n",
       "ecog_2                   object\n",
       "prim_treatment           object\n",
       "PSAMetDiagnosis         float64\n",
       "albumin_diag            float64\n",
       "weight_pct_change       float64\n",
       "risk_score              float64\n",
       "dtype: object"
      ]
     },
     "execution_count": 79,
     "metadata": {},
     "output_type": "execute_result"
    }
   ],
   "source": [
    "chaarted_iptw.dtypes"
   ]
  },
  {
   "cell_type": "code",
   "execution_count": 80,
   "id": "371c52e6",
   "metadata": {},
   "outputs": [],
   "source": [
    "to_be_categorical = list(chaarted_iptw.select_dtypes(include = ['object']).columns)"
   ]
  },
  {
   "cell_type": "code",
   "execution_count": 81,
   "id": "8da20eb6",
   "metadata": {},
   "outputs": [
    {
     "data": {
      "text/plain": [
       "['race', 'p_type', 'ecog_2', 'prim_treatment']"
      ]
     },
     "execution_count": 81,
     "metadata": {},
     "output_type": "execute_result"
    }
   ],
   "source": [
    "to_be_categorical"
   ]
  },
  {
   "cell_type": "code",
   "execution_count": 82,
   "id": "23bd40f0",
   "metadata": {},
   "outputs": [],
   "source": [
    "to_be_categorical.append('met_cat')"
   ]
  },
  {
   "cell_type": "code",
   "execution_count": 83,
   "id": "20a368db",
   "metadata": {},
   "outputs": [],
   "source": [
    "# Convert variables in list to categorical.\n",
    "for x in list(to_be_categorical):\n",
    "    chaarted_iptw[x] = chaarted_iptw[x].astype('category')"
   ]
  },
  {
   "cell_type": "code",
   "execution_count": 84,
   "id": "45607bb3",
   "metadata": {},
   "outputs": [],
   "source": [
    "# List of numeric variables, excluding binary variables. \n",
    "numerical_features = ['age', 'delta_met_diagnosis', 'PSAMetDiagnosis', 'albumin_diag', 'weight_pct_change', 'risk_score']\n",
    "\n",
    "# Transformer will first calculate column median and impute, and then apply a standard scaler. \n",
    "numerical_transformer = Pipeline(steps = [\n",
    "    ('imputer', SimpleImputer(strategy = 'median')),\n",
    "    ('std_scaler', StandardScaler())])"
   ]
  },
  {
   "cell_type": "code",
   "execution_count": 85,
   "id": "3af7db85",
   "metadata": {},
   "outputs": [],
   "source": [
    "# List of categorical features.\n",
    "categorical_features = list(chaarted_iptw.select_dtypes(include = ['category']).columns)\n",
    "\n",
    "# One-hot-encode categorical features.\n",
    "categorical_transformer = OneHotEncoder(handle_unknown = 'ignore')"
   ]
  },
  {
   "cell_type": "code",
   "execution_count": 86,
   "id": "821e3fa2",
   "metadata": {},
   "outputs": [],
   "source": [
    "preprocessor = ColumnTransformer(\n",
    "    transformers = [\n",
    "        ('num', numerical_transformer, numerical_features),\n",
    "        ('cat', categorical_transformer, categorical_features)],\n",
    "    remainder = 'passthrough')"
   ]
  },
  {
   "cell_type": "code",
   "execution_count": 87,
   "id": "89ad9e2b",
   "metadata": {},
   "outputs": [],
   "source": [
    "chaarted_iptw_low = (\n",
    "    chaarted_iptw\n",
    "    .query('risk_score <= @low_cutoff_chaarted'))\n",
    "\n",
    "chaarted_iptw_med = (\n",
    "    chaarted_iptw\n",
    "    .query('risk_score < @high_cutoff_chaarted and risk_score > @low_cutoff_chaarted'))\n",
    "\n",
    "chaarted_iptw_high = (\n",
    "    chaarted_iptw\n",
    "    .query('risk_score >= @high_cutoff_chaarted'))\n",
    "\n",
    "chaarted_iptw_all = chaarted_iptw"
   ]
  },
  {
   "cell_type": "code",
   "execution_count": 88,
   "id": "60538f52",
   "metadata": {},
   "outputs": [],
   "source": [
    "chaarted_low_x = preprocessor.fit_transform(chaarted_iptw_low.filter(items = ['age',\n",
    "                                                                              'race',\n",
    "                                                                              'p_type',\n",
    "                                                                              'delta_met_diagnosis',\n",
    "                                                                              'met_cat',\n",
    "                                                                              'commercial',\n",
    "                                                                              'medicare',\n",
    "                                                                              'medicaid',\n",
    "                                                                              'ecog_2',\n",
    "                                                                              'prim_treatment',\n",
    "                                                                              'PSAMetDiagnosis', \n",
    "                                                                              'albumin_diag', \n",
    "                                                                              'weight_pct_change',\n",
    "                                                                              'risk_score']))\n",
    "\n",
    "chaarted_med_x = preprocessor.fit_transform(chaarted_iptw_med.filter(items = ['age',\n",
    "                                                                              'race',\n",
    "                                                                              'p_type',\n",
    "                                                                              'delta_met_diagnosis',\n",
    "                                                                              'met_cat',\n",
    "                                                                              'commercial',\n",
    "                                                                              'medicare',\n",
    "                                                                              'medicaid',\n",
    "                                                                              'ecog_2',\n",
    "                                                                              'prim_treatment',\n",
    "                                                                              'PSAMetDiagnosis', \n",
    "                                                                              'albumin_diag', \n",
    "                                                                              'weight_pct_change', \n",
    "                                                                              'risk_score']))\n",
    "\n",
    "chaarted_high_x = preprocessor.fit_transform(chaarted_iptw_high.filter(items = ['age',\n",
    "                                                                                'race',\n",
    "                                                                                'p_type',\n",
    "                                                                                'delta_met_diagnosis',\n",
    "                                                                                'met_cat',\n",
    "                                                                                'commercial',\n",
    "                                                                                'medicare',\n",
    "                                                                                'medicaid',\n",
    "                                                                                'ecog_2',\n",
    "                                                                                'prim_treatment',\n",
    "                                                                                'PSAMetDiagnosis', \n",
    "                                                                                'albumin_diag', \n",
    "                                                                                'weight_pct_change',\n",
    "                                                                                'risk_score']))\n",
    "\n",
    "chaarted_all_x = preprocessor.fit_transform(chaarted_iptw_all.filter(items = ['age',\n",
    "                                                                              'race',\n",
    "                                                                              'p_type',\n",
    "                                                                              'delta_met_diagnosis',\n",
    "                                                                              'met_cat',\n",
    "                                                                              'commercial',\n",
    "                                                                              'medicare',\n",
    "                                                                              'medicaid',\n",
    "                                                                              'ecog_2',\n",
    "                                                                              'prim_treatment',\n",
    "                                                                              'PSAMetDiagnosis', \n",
    "                                                                              'albumin_diag', \n",
    "                                                                              'weight_pct_change', \n",
    "                                                                              'risk_score']))"
   ]
  },
  {
   "cell_type": "code",
   "execution_count": 89,
   "id": "ef41c5b0",
   "metadata": {},
   "outputs": [
    {
     "data": {
      "text/plain": [
       "LogisticRegression(max_iter=1000)"
      ]
     },
     "execution_count": 89,
     "metadata": {},
     "output_type": "execute_result"
    }
   ],
   "source": [
    "lr_chaarted_low = LogisticRegression(max_iter = 1000)\n",
    "lr_chaarted_low.fit(chaarted_low_x, chaarted_iptw_low['adt_dotx'])"
   ]
  },
  {
   "cell_type": "code",
   "execution_count": 90,
   "id": "478b242c",
   "metadata": {},
   "outputs": [
    {
     "data": {
      "text/plain": [
       "LogisticRegression(max_iter=1000)"
      ]
     },
     "execution_count": 90,
     "metadata": {},
     "output_type": "execute_result"
    }
   ],
   "source": [
    "lr_chaarted_med = LogisticRegression(max_iter = 1000)\n",
    "lr_chaarted_med.fit(chaarted_med_x, chaarted_iptw_med['adt_dotx'])"
   ]
  },
  {
   "cell_type": "code",
   "execution_count": 91,
   "id": "26bca96b",
   "metadata": {},
   "outputs": [
    {
     "data": {
      "text/plain": [
       "LogisticRegression(max_iter=1000)"
      ]
     },
     "execution_count": 91,
     "metadata": {},
     "output_type": "execute_result"
    }
   ],
   "source": [
    "lr_chaarted_high = LogisticRegression(max_iter = 1000)\n",
    "lr_chaarted_high.fit(chaarted_high_x, chaarted_iptw_high['adt_dotx'])"
   ]
  },
  {
   "cell_type": "code",
   "execution_count": 92,
   "id": "6178be34",
   "metadata": {},
   "outputs": [
    {
     "data": {
      "text/plain": [
       "LogisticRegression(max_iter=1000)"
      ]
     },
     "execution_count": 92,
     "metadata": {},
     "output_type": "execute_result"
    }
   ],
   "source": [
    "lr_chaarted_all = LogisticRegression(max_iter = 1000)\n",
    "lr_chaarted_all.fit(chaarted_all_x, chaarted_iptw_all['adt_dotx'])"
   ]
  },
  {
   "cell_type": "code",
   "execution_count": 93,
   "id": "f88e7670",
   "metadata": {},
   "outputs": [],
   "source": [
    "pred_low = lr_chaarted_low.predict_proba(chaarted_low_x)\n",
    "pred_med = lr_chaarted_med.predict_proba(chaarted_med_x)\n",
    "pred_high = lr_chaarted_high.predict_proba(chaarted_high_x)\n",
    "pred_all = lr_chaarted_all.predict_proba(chaarted_all_x)"
   ]
  },
  {
   "cell_type": "code",
   "execution_count": 94,
   "id": "e758857c",
   "metadata": {},
   "outputs": [
    {
     "name": "stderr",
     "output_type": "stream",
     "text": [
      "/Users/xavierorcutt/Dropbox/ist_project/myenv/lib/python3.7/site-packages/ipykernel_launcher.py:1: SettingWithCopyWarning: \n",
      "A value is trying to be set on a copy of a slice from a DataFrame.\n",
      "Try using .loc[row_indexer,col_indexer] = value instead\n",
      "\n",
      "See the caveats in the documentation: https://pandas.pydata.org/pandas-docs/stable/user_guide/indexing.html#returning-a-view-versus-a-copy\n",
      "  \"\"\"Entry point for launching an IPython kernel.\n",
      "/Users/xavierorcutt/Dropbox/ist_project/myenv/lib/python3.7/site-packages/ipykernel_launcher.py:2: SettingWithCopyWarning: \n",
      "A value is trying to be set on a copy of a slice from a DataFrame.\n",
      "Try using .loc[row_indexer,col_indexer] = value instead\n",
      "\n",
      "See the caveats in the documentation: https://pandas.pydata.org/pandas-docs/stable/user_guide/indexing.html#returning-a-view-versus-a-copy\n",
      "  \n",
      "/Users/xavierorcutt/Dropbox/ist_project/myenv/lib/python3.7/site-packages/ipykernel_launcher.py:3: SettingWithCopyWarning: \n",
      "A value is trying to be set on a copy of a slice from a DataFrame.\n",
      "Try using .loc[row_indexer,col_indexer] = value instead\n",
      "\n",
      "See the caveats in the documentation: https://pandas.pydata.org/pandas-docs/stable/user_guide/indexing.html#returning-a-view-versus-a-copy\n",
      "  This is separate from the ipykernel package so we can avoid doing imports until\n"
     ]
    }
   ],
   "source": [
    "chaarted_iptw_low['ps'] = pred_low[:, 1]\n",
    "chaarted_iptw_med['ps'] = pred_med[:, 1]\n",
    "chaarted_iptw_high['ps'] = pred_high[:, 1]\n",
    "chaarted_iptw_all['ps'] = pred_all[:, 1]"
   ]
  },
  {
   "cell_type": "code",
   "execution_count": 95,
   "id": "a0966140",
   "metadata": {},
   "outputs": [
    {
     "name": "stderr",
     "output_type": "stream",
     "text": [
      "/Users/xavierorcutt/Dropbox/ist_project/myenv/lib/python3.7/site-packages/ipykernel_launcher.py:2: SettingWithCopyWarning: \n",
      "A value is trying to be set on a copy of a slice from a DataFrame.\n",
      "Try using .loc[row_indexer,col_indexer] = value instead\n",
      "\n",
      "See the caveats in the documentation: https://pandas.pydata.org/pandas-docs/stable/user_guide/indexing.html#returning-a-view-versus-a-copy\n",
      "  \n",
      "/Users/xavierorcutt/Dropbox/ist_project/myenv/lib/python3.7/site-packages/ipykernel_launcher.py:5: SettingWithCopyWarning: \n",
      "A value is trying to be set on a copy of a slice from a DataFrame.\n",
      "Try using .loc[row_indexer,col_indexer] = value instead\n",
      "\n",
      "See the caveats in the documentation: https://pandas.pydata.org/pandas-docs/stable/user_guide/indexing.html#returning-a-view-versus-a-copy\n",
      "  \"\"\"\n",
      "/Users/xavierorcutt/Dropbox/ist_project/myenv/lib/python3.7/site-packages/ipykernel_launcher.py:8: SettingWithCopyWarning: \n",
      "A value is trying to be set on a copy of a slice from a DataFrame.\n",
      "Try using .loc[row_indexer,col_indexer] = value instead\n",
      "\n",
      "See the caveats in the documentation: https://pandas.pydata.org/pandas-docs/stable/user_guide/indexing.html#returning-a-view-versus-a-copy\n",
      "  \n"
     ]
    }
   ],
   "source": [
    "chaarted_iptw_low['weight'] = (\n",
    "    np.where(chaarted_iptw_low['adt_dotx'] == 1, 1/chaarted_iptw_low['ps'], 1/(1 - chaarted_iptw_low['ps'])))\n",
    "\n",
    "chaarted_iptw_med['weight'] = (\n",
    "    np.where(chaarted_iptw_med['adt_dotx'] == 1, 1/chaarted_iptw_med['ps'], 1/(1 - chaarted_iptw_med['ps'])))\n",
    "\n",
    "chaarted_iptw_high['weight'] = (\n",
    "    np.where(chaarted_iptw_high['adt_dotx'] == 1, 1/chaarted_iptw_high['ps'], 1/(1 - chaarted_iptw_high['ps'])))\n",
    "\n",
    "chaarted_iptw_all['weight'] = (\n",
    "    np.where(chaarted_iptw_all['adt_dotx'] == 1, 1/chaarted_iptw_all['ps'], 1/(1 - chaarted_iptw_all['ps'])))"
   ]
  },
  {
   "cell_type": "code",
   "execution_count": 96,
   "id": "e1a3e8b6",
   "metadata": {},
   "outputs": [
    {
     "name": "stderr",
     "output_type": "stream",
     "text": [
      "/Users/xavierorcutt/Dropbox/ist_project/myenv/lib/python3.7/site-packages/lifelines/fitters/kaplan_meier_fitter.py:344: StatisticalWarning: It looks like your weights are not integers, possibly propensity scores then?\n",
      "  It's important to know that the naive variance estimates of the coefficients are biased. Instead use Monte Carlo to\n",
      "  estimate the variances. See paper \"Variance estimation when using inverse probability of treatment weighting (IPTW) with survival analysis\"\n",
      "  or \"Adjusted Kaplan-Meier estimator and log-rank test with inverse probability of treatment weighting for survival data.\"\n",
      "                  \n",
      "  StatisticalWarning,\n"
     ]
    },
    {
     "data": {
      "text/plain": [
       "<lifelines.KaplanMeierFitter:\"KM_estimate\", fitted with 7415.3 total observations, 3343.73 right-censored observations>"
      ]
     },
     "execution_count": 96,
     "metadata": {},
     "output_type": "execute_result"
    }
   ],
   "source": [
    "# Low KM curves\n",
    "kmf_low_dotx_chaarted_iptw = KaplanMeierFitter()\n",
    "kmf_low_adt_chaarted_iptw = KaplanMeierFitter()\n",
    "\n",
    "kmf_low_dotx_chaarted_iptw.fit(\n",
    "    chaarted_iptw_low.query('adt_dotx == 1').timerisk_treatment/30,\n",
    "    chaarted_iptw_low.query('adt_dotx == 1').death_status,\n",
    "    weights = chaarted_iptw_low.query('adt_dotx == 1')['weight'])\n",
    "\n",
    "kmf_low_adt_chaarted_iptw.fit(\n",
    "    chaarted_iptw_low.query('adt_dotx == 0').timerisk_treatment/30,\n",
    "    chaarted_iptw_low.query('adt_dotx == 0').death_status,\n",
    "    weights = chaarted_iptw_low.query('adt_dotx == 0')['weight'])\n",
    "\n",
    "# Med KM curves\n",
    "kmf_med_dotx_chaarted_iptw = KaplanMeierFitter()\n",
    "kmf_med_adt_chaarted_iptw = KaplanMeierFitter()\n",
    "\n",
    "kmf_med_dotx_chaarted_iptw.fit(\n",
    "    chaarted_iptw_med.query('adt_dotx == 1').timerisk_treatment/30,\n",
    "    chaarted_iptw_med.query('adt_dotx == 1').death_status,\n",
    "    weights = chaarted_iptw_med.query('adt_dotx == 1')['weight'])\n",
    "\n",
    "kmf_med_adt_chaarted_iptw.fit(\n",
    "    chaarted_iptw_med.query('adt_dotx == 0').timerisk_treatment/30,\n",
    "    chaarted_iptw_med.query('adt_dotx == 0').death_status,\n",
    "    weights = chaarted_iptw_med.query('adt_dotx == 0')['weight'])\n",
    "\n",
    "# High KM curves \n",
    "kmf_high_dotx_chaarted_iptw = KaplanMeierFitter()\n",
    "kmf_high_adt_chaarted_iptw = KaplanMeierFitter()\n",
    "\n",
    "kmf_high_dotx_chaarted_iptw.fit(\n",
    "    chaarted_iptw_high.query('adt_dotx == 1').timerisk_treatment/30,\n",
    "    chaarted_iptw_high.query('adt_dotx == 1').death_status,\n",
    "    weights = chaarted_iptw_high.query('adt_dotx == 1')['weight'])\n",
    "\n",
    "kmf_high_adt_chaarted_iptw.fit(\n",
    "    chaarted_iptw_high.query('adt_dotx == 0').timerisk_treatment/30,\n",
    "    chaarted_iptw_high.query('adt_dotx == 0').death_status,\n",
    "    weights = chaarted_iptw_high.query('adt_dotx == 0')['weight'])\n",
    "\n",
    "# All KM curves \n",
    "kmf_all_dotx_chaarted_iptw = KaplanMeierFitter()\n",
    "kmf_all_adt_chaarted_iptw = KaplanMeierFitter()\n",
    "\n",
    "kmf_all_dotx_chaarted_iptw.fit(\n",
    "    chaarted_iptw_all.query('adt_dotx == 1').timerisk_treatment/30,\n",
    "    chaarted_iptw_all.query('adt_dotx == 1').death_status,\n",
    "    weights = chaarted_iptw_all.query('adt_dotx == 1')['weight'])\n",
    "\n",
    "kmf_all_adt_chaarted_iptw.fit(\n",
    "    chaarted_iptw_all.query('adt_dotx == 0').timerisk_treatment/30,\n",
    "    chaarted_iptw_all.query('adt_dotx == 0').death_status,\n",
    "    weights = chaarted_iptw_all.query('adt_dotx == 0')['weight'])"
   ]
  },
  {
   "cell_type": "markdown",
   "id": "d7d7fd90",
   "metadata": {},
   "source": [
    "#### Calculating survival metrics "
   ]
  },
  {
   "cell_type": "code",
   "execution_count": 97,
   "id": "11c16943",
   "metadata": {},
   "outputs": [],
   "source": [
    "dotx_chaarted_median_os = mos(kmf_low_dotx_chaarted_iptw,\n",
    "                              kmf_med_dotx_chaarted_iptw,\n",
    "                              kmf_high_dotx_chaarted_iptw,\n",
    "                              kmf_all_dotx_chaarted_iptw)\n",
    "\n",
    "adt_chaarted_median_os = mos(kmf_low_adt_chaarted_iptw,\n",
    "                             kmf_med_adt_chaarted_iptw,\n",
    "                             kmf_high_adt_chaarted_iptw,\n",
    "                             kmf_all_adt_chaarted_iptw)"
   ]
  },
  {
   "cell_type": "code",
   "execution_count": 98,
   "id": "8568448b",
   "metadata": {},
   "outputs": [],
   "source": [
    "chaarted_iptw_all_imputed = chaarted_iptw_all.copy()\n",
    "chaarted_iptw_all_imputed['albumin_diag'] = chaarted_iptw_all_imputed['albumin_diag'].fillna(chaarted_iptw_all_imputed['albumin_diag'].median())\n",
    "chaarted_iptw_all_imputed['weight_pct_change'] = chaarted_iptw_all_imputed['weight_pct_change'].fillna(chaarted_iptw_all_imputed['weight_pct_change'].median())\n",
    "chaarted_iptw_all_imputed['PSAMetDiagnosis'] = chaarted_iptw_all_imputed['PSAMetDiagnosis'].fillna(chaarted_iptw_all_imputed['PSAMetDiagnosis'].median())"
   ]
  },
  {
   "cell_type": "code",
   "execution_count": 99,
   "id": "063c22d6",
   "metadata": {},
   "outputs": [
    {
     "data": {
      "text/plain": [
       "<lifelines.CoxPHFitter: fitted with 14798.3 total observations, 7094.15 right-censored observations>"
      ]
     },
     "execution_count": 99,
     "metadata": {},
     "output_type": "execute_result"
    }
   ],
   "source": [
    "chaarted_hr_all = CoxPHFitter()\n",
    "chaarted_hr_all.fit(chaarted_iptw_all_imputed,\n",
    "                    duration_col = 'timerisk_treatment',\n",
    "                    event_col = 'death_status',\n",
    "                    formula = 'adt_dotx + age + race + p_type + delta_met_diagnosis + met_cat + commercial + medicare + medicaid + ecog_2 + prim_treatment + PSAMetDiagnosis + albumin_diag + weight_pct_change + risk_score',\n",
    "                    weights_col = 'weight', \n",
    "                    robust = True)"
   ]
  },
  {
   "cell_type": "code",
   "execution_count": 100,
   "id": "41e87979",
   "metadata": {},
   "outputs": [],
   "source": [
    "chaarted_all_rmst_mos_95 = rmst_mos_95ci(chaarted_iptw_all,\n",
    "                                         1000,\n",
    "                                         'adt_dotx',\n",
    "                                         'death',\n",
    "                                         ['age',\n",
    "                                          'race',\n",
    "                                          'p_type',\n",
    "                                          'delta_met_diagnosis',\n",
    "                                          'met_cat',\n",
    "                                          'commercial',\n",
    "                                          'medicare',\n",
    "                                          'medicaid',\n",
    "                                          'ecog_2',\n",
    "                                          'prim_treatment',\n",
    "                                          'PSAMetDiagnosis', \n",
    "                                          'albumin_diag', \n",
    "                                          'weight_pct_change',\n",
    "                                          'risk_score'],\n",
    "                                         ['age', 'delta_met_diagnosis', 'PSAMetDiagnosis', 'albumin_diag', 'weight_pct_change', 'risk_score'],\n",
    "                                         60)"
   ]
  },
  {
   "cell_type": "code",
   "execution_count": 101,
   "id": "3fbcf744",
   "metadata": {},
   "outputs": [],
   "source": [
    "chaarted_low_rmst_mos_95 = rmst_mos_95ci(chaarted_iptw_low,\n",
    "                                         1000,\n",
    "                                         'adt_dotx',\n",
    "                                         'death',\n",
    "                                         ['age',\n",
    "                                          'race',\n",
    "                                          'p_type',\n",
    "                                          'delta_met_diagnosis',\n",
    "                                          'met_cat',\n",
    "                                          'commercial',\n",
    "                                          'medicare',\n",
    "                                          'medicaid',\n",
    "                                          'ecog_2',\n",
    "                                          'prim_treatment',\n",
    "                                          'PSAMetDiagnosis', \n",
    "                                          'albumin_diag', \n",
    "                                          'weight_pct_change',\n",
    "                                          'risk_score'],\n",
    "                                         ['age', 'delta_met_diagnosis', 'PSAMetDiagnosis', 'albumin_diag', 'weight_pct_change', 'risk_score'],\n",
    "                                         60)"
   ]
  },
  {
   "cell_type": "code",
   "execution_count": 102,
   "id": "52698032",
   "metadata": {},
   "outputs": [],
   "source": [
    "chaarted_med_rmst_mos_95 = rmst_mos_95ci(chaarted_iptw_med,\n",
    "                                         1000,\n",
    "                                         'adt_dotx',\n",
    "                                         'death',\n",
    "                                         ['age',\n",
    "                                          'race',\n",
    "                                          'p_type',\n",
    "                                          'delta_met_diagnosis',\n",
    "                                          'met_cat',\n",
    "                                          'commercial',\n",
    "                                          'medicare',\n",
    "                                          'medicaid',\n",
    "                                          'ecog_2',\n",
    "                                          'prim_treatment',\n",
    "                                          'PSAMetDiagnosis', \n",
    "                                          'albumin_diag', \n",
    "                                          'weight_pct_change',\n",
    "                                          'risk_score'],\n",
    "                                         ['age', 'delta_met_diagnosis', 'PSAMetDiagnosis', 'albumin_diag', 'weight_pct_change', 'risk_score'],\n",
    "                                         60)"
   ]
  },
  {
   "cell_type": "code",
   "execution_count": 103,
   "id": "170db7d3",
   "metadata": {},
   "outputs": [],
   "source": [
    "chaarted_high_rmst_mos_95 = rmst_mos_95ci(chaarted_iptw_high,\n",
    "                                          1000,\n",
    "                                          'adt_dotx',\n",
    "                                          'death',\n",
    "                                          ['age',\n",
    "                                           'race',\n",
    "                                           'p_type',\n",
    "                                           'delta_met_diagnosis',\n",
    "                                           'met_cat',\n",
    "                                           'commercial',\n",
    "                                           'medicare',\n",
    "                                           'medicaid',\n",
    "                                           'ecog_2',\n",
    "                                           'prim_treatment',\n",
    "                                           'PSAMetDiagnosis', \n",
    "                                           'albumin_diag', \n",
    "                                           'weight_pct_change',\n",
    "                                           'risk_score'],\n",
    "                                          ['age', 'delta_met_diagnosis', 'PSAMetDiagnosis', 'albumin_diag', 'weight_pct_change', 'risk_score'],\n",
    "                                          60)"
   ]
  },
  {
   "cell_type": "code",
   "execution_count": 104,
   "id": "98fb849d",
   "metadata": {},
   "outputs": [],
   "source": [
    "chaarted_data = [\n",
    "    {'trial_name': 'CHAARTED', \n",
    "     'risk_group': 'low', \n",
    "     'r_trt_mos': dotx_chaarted_median_os[0],\n",
    "     'r_trt_mos_95': chaarted_low_rmst_mos_95.mos_A_95,\n",
    "     'r_cont_mos': adt_chaarted_median_os[0],\n",
    "     'r_cont_mos_95': chaarted_low_rmst_mos_95.mos_B_95,\n",
    "     'r_mos_diff': dotx_chaarted_median_os[0] - adt_chaarted_median_os[0], \n",
    "     'rct_trt_arm': 57.6,\n",
    "     'rct_cont_arm': 44.0,\n",
    "     'rct_mos_diff': 57.6-44.0,\n",
    "     'trt_rmst': restricted_mean_survival_time(kmf_low_dotx_chaarted_iptw, 60),\n",
    "     'trt_rmst_95': chaarted_low_rmst_mos_95.rmst_A_95,\n",
    "     'cont_rmst': restricted_mean_survival_time(kmf_low_adt_chaarted_iptw, 60),\n",
    "     'cont_rmst_95': chaarted_low_rmst_mos_95.rmst_B_95,\n",
    "     'diff_rmst': restricted_mean_survival_time(kmf_low_dotx_chaarted_iptw, 60) - restricted_mean_survival_time(kmf_low_adt_chaarted_iptw, 60),\n",
    "     'diff_rmst_95': chaarted_low_rmst_mos_95.difference_rmst_95,\n",
    "     'rcount': chaarted.query('risk_score <= @low_cutoff_chaarted').shape[0],\n",
    "     'rcount_chemo': chaarted.query('risk_score <= @low_cutoff_chaarted').query('adt_dotx == 1').shape[0]},\n",
    "    \n",
    "    {'trial_name': 'CHAARTED', \n",
    "     'risk_group': 'medium', \n",
    "     'r_trt_mos': dotx_chaarted_median_os[1],\n",
    "     'r_trt_mos_95': chaarted_med_rmst_mos_95.mos_A_95,\n",
    "     'r_cont_mos': adt_chaarted_median_os[1],\n",
    "     'r_cont_mos_95': chaarted_med_rmst_mos_95.mos_B_95,\n",
    "     'r_mos_diff': dotx_chaarted_median_os[1] - adt_chaarted_median_os[1], \n",
    "     'rct_trt_arm': 57.6,\n",
    "     'rct_cont_arm': 44.0,\n",
    "     'rct_mos_diff': 57.6-44.0,\n",
    "     'trt_rmst': restricted_mean_survival_time(kmf_med_dotx_chaarted_iptw, 60),\n",
    "     'trt_rmst_95': chaarted_med_rmst_mos_95.rmst_A_95,\n",
    "     'cont_rmst': restricted_mean_survival_time(kmf_med_adt_chaarted_iptw, 60),\n",
    "     'cont_rmst_95': chaarted_med_rmst_mos_95.rmst_B_95,\n",
    "     'diff_rmst': restricted_mean_survival_time(kmf_med_dotx_chaarted_iptw, 60) - restricted_mean_survival_time(kmf_med_adt_chaarted_iptw, 60),\n",
    "     'diff_rmst_95': chaarted_med_rmst_mos_95.difference_rmst_95,\n",
    "     'rcount': chaarted.query('risk_score < @high_cutoff_chaarted and risk_score > @low_cutoff_chaarted').shape[0],\n",
    "     'rcount_chemo': chaarted.query('risk_score < @high_cutoff_chaarted and risk_score > @low_cutoff_chaarted').query('adt_dotx == 1').shape[0]},\n",
    "    \n",
    "    {'trial_name': 'CHAARTED', \n",
    "     'risk_group': 'high', \n",
    "     'r_trt_mos': dotx_chaarted_median_os[2],\n",
    "     'r_trt_mos_95': chaarted_high_rmst_mos_95.mos_A_95,\n",
    "     'r_cont_mos': adt_chaarted_median_os[2],\n",
    "     'r_cont_mos_95': chaarted_high_rmst_mos_95.mos_B_95,\n",
    "     'r_mos_diff': dotx_chaarted_median_os[2] - adt_chaarted_median_os[2], \n",
    "     'rct_trt_arm': 57.6,\n",
    "     'rct_cont_arm': 44.0,\n",
    "     'rct_mos_diff': 57.6-44.0,\n",
    "     'trt_rmst': restricted_mean_survival_time(kmf_high_dotx_chaarted_iptw, 60),\n",
    "     'trt_rmst_95': chaarted_high_rmst_mos_95.rmst_A_95,\n",
    "     'cont_rmst': restricted_mean_survival_time(kmf_high_adt_chaarted_iptw, 60),\n",
    "     'cont_rmst_95': chaarted_high_rmst_mos_95.rmst_B_95,\n",
    "     'diff_rmst': restricted_mean_survival_time(kmf_high_dotx_chaarted_iptw, 60) - restricted_mean_survival_time(kmf_high_adt_chaarted_iptw, 60),\n",
    "     'diff_rmst_95': chaarted_high_rmst_mos_95.difference_rmst_95,\n",
    "     'rcount': chaarted.query('risk_score >= @high_cutoff_chaarted').shape[0],\n",
    "     'rcount_chemo': chaarted.query('risk_score >= @high_cutoff_chaarted').query('adt_dotx == 1').shape[0]},\n",
    "    \n",
    "    {'trial_name': 'CHAARTED', \n",
    "     'risk_group': 'all', \n",
    "     'r_hr': chaarted_hr_all.hazard_ratios_['adt_dotx'],\n",
    "     'r_hr_95': [chaarted_hr_all.summary.loc['adt_dotx']['exp(coef) lower 95%'], chaarted_hr_all.summary.loc['adt_dotx']['exp(coef) upper 95%']],\n",
    "     'r_trt_mos': dotx_chaarted_median_os[3],\n",
    "     'r_trt_mos_95': chaarted_all_rmst_mos_95.mos_A_95,\n",
    "     'r_cont_mos': adt_chaarted_median_os[3],\n",
    "     'r_cont_mos_95': chaarted_all_rmst_mos_95.mos_B_95,\n",
    "     'r_mos_diff': dotx_chaarted_median_os[3] - adt_chaarted_median_os[3], \n",
    "     'rct_trt_arm': 57.6,\n",
    "     'rct_cont_arm': 44.0,\n",
    "     'rct_mos_diff': 57.6-44.0,\n",
    "     'rcount': chaarted.shape[0], \n",
    "     'rcount_chemo': chaarted.query('adt_dotx == 1').shape[0]}\n",
    "]"
   ]
  },
  {
   "cell_type": "markdown",
   "id": "f1d28c07",
   "metadata": {},
   "source": [
    "### LATITUDE : abiraterone vs. ADT in metastatic, castration-sensitive prostate cancer  \n",
    "\n",
    "**INCLUSION**\n",
    "* Untreated metastatic prostate cancer, except up to 3 months of ADT \n",
    "* Castration-sensitive\n",
    "* Received ADT or abiraterone plus ADT"
   ]
  },
  {
   "cell_type": "markdown",
   "id": "e2b52ab6",
   "metadata": {},
   "source": [
    "#### ADT"
   ]
  },
  {
   "cell_type": "code",
   "execution_count": 105,
   "id": "4fdb7e64",
   "metadata": {},
   "outputs": [
    {
     "data": {
      "text/plain": [
       "18927"
      ]
     },
     "execution_count": 105,
     "metadata": {},
     "output_type": "execute_result"
    }
   ],
   "source": [
    "df_full = pd.read_csv('df_risk_crude.csv', index_col = 'PatientID', dtype = {'death_status': bool})\n",
    "df_full.index.nunique()"
   ]
  },
  {
   "cell_type": "code",
   "execution_count": 106,
   "id": "76cc93ee",
   "metadata": {},
   "outputs": [],
   "source": [
    "df_full.reset_index(inplace = True)"
   ]
  },
  {
   "cell_type": "code",
   "execution_count": 107,
   "id": "209c0831",
   "metadata": {},
   "outputs": [],
   "source": [
    "adt = pd.read_csv('Enhanced_MetPC_ADT.csv')"
   ]
  },
  {
   "cell_type": "code",
   "execution_count": 108,
   "id": "7719e04f",
   "metadata": {},
   "outputs": [],
   "source": [
    "adt = (\n",
    "    adt[adt['PatientID'].isin(df_full['PatientID'])]\n",
    "    .query('TreatmentSetting == \"Advanced\"')\n",
    ")"
   ]
  },
  {
   "cell_type": "code",
   "execution_count": 109,
   "id": "6ca27875",
   "metadata": {},
   "outputs": [
    {
     "data": {
      "text/plain": [
       "(17863, 17863)"
      ]
     },
     "execution_count": 109,
     "metadata": {},
     "output_type": "execute_result"
    }
   ],
   "source": [
    "row_ID(adt)"
   ]
  },
  {
   "cell_type": "code",
   "execution_count": 110,
   "id": "43794bcb",
   "metadata": {},
   "outputs": [],
   "source": [
    "adt.loc[:, 'StartDate'] = pd.to_datetime(adt['StartDate'])"
   ]
  },
  {
   "cell_type": "code",
   "execution_count": 111,
   "id": "dd149cb4",
   "metadata": {},
   "outputs": [],
   "source": [
    "adt = adt.rename(columns = {'StartDate': 'StartDate_adt'})"
   ]
  },
  {
   "cell_type": "code",
   "execution_count": 112,
   "id": "974d71a2",
   "metadata": {},
   "outputs": [],
   "source": [
    "df_full = pd.merge(df_full, adt[['PatientID', 'StartDate_adt']], on = 'PatientID', how = 'left')"
   ]
  },
  {
   "cell_type": "code",
   "execution_count": 113,
   "id": "e06ec0e9",
   "metadata": {},
   "outputs": [
    {
     "data": {
      "text/plain": [
       "(18927, 18927)"
      ]
     },
     "execution_count": 113,
     "metadata": {},
     "output_type": "execute_result"
    }
   ],
   "source": [
    "row_ID(df_full)"
   ]
  },
  {
   "cell_type": "code",
   "execution_count": 114,
   "id": "03dbb2ca",
   "metadata": {},
   "outputs": [],
   "source": [
    "enhanced_met = pd.read_csv('Enhanced_MetProstate.csv')"
   ]
  },
  {
   "cell_type": "code",
   "execution_count": 115,
   "id": "f06e89d2",
   "metadata": {},
   "outputs": [],
   "source": [
    "enhanced_met = enhanced_met[enhanced_met['PatientID'].isin(df_full['PatientID'])]"
   ]
  },
  {
   "cell_type": "code",
   "execution_count": 116,
   "id": "a7c967ff",
   "metadata": {},
   "outputs": [],
   "source": [
    "enhanced_met.loc[:, 'MetDiagnosisDate'] = pd.to_datetime(enhanced_met['MetDiagnosisDate'])"
   ]
  },
  {
   "cell_type": "code",
   "execution_count": 117,
   "id": "cb818e38",
   "metadata": {},
   "outputs": [],
   "source": [
    "enhanced_met.loc[:, 'CRPCDate'] = pd.to_datetime(enhanced_met['CRPCDate'])"
   ]
  },
  {
   "cell_type": "code",
   "execution_count": 118,
   "id": "446a6606",
   "metadata": {},
   "outputs": [],
   "source": [
    "df_full = pd.merge(df_full, enhanced_met[['PatientID', 'MetDiagnosisDate', 'CRPCDate']], on = 'PatientID', how = 'left')"
   ]
  },
  {
   "cell_type": "code",
   "execution_count": 119,
   "id": "4f5debc5",
   "metadata": {},
   "outputs": [
    {
     "data": {
      "text/plain": [
       "(18927, 18927)"
      ]
     },
     "execution_count": 119,
     "metadata": {},
     "output_type": "execute_result"
    }
   ],
   "source": [
    "row_ID(df_full)"
   ]
  },
  {
   "cell_type": "code",
   "execution_count": 120,
   "id": "4f254c78",
   "metadata": {},
   "outputs": [],
   "source": [
    "# Find all that start ADT within -90 to +90 days of metastatic diagnosis \n",
    "latitude_adt = (\n",
    "    df_full\n",
    "    .assign(adt_diff = (df_full['StartDate_adt'] - df_full['MetDiagnosisDate']).dt.days)\n",
    "    .query('adt_diff >= -90 and adt_diff <= 90')\n",
    ")"
   ]
  },
  {
   "cell_type": "code",
   "execution_count": 121,
   "id": "13c66d41",
   "metadata": {},
   "outputs": [],
   "source": [
    "# Find all that have missing CPRC date or date is >90 after metastatic diagnosis \n",
    "latitude_adt = (\n",
    "    latitude_adt\n",
    "    .assign(crpc_diff = (latitude_adt['CRPCDate'] - latitude_adt['MetDiagnosisDate']).dt.days)\n",
    "    .query('crpc_diff > 90 or CRPCDate.isna()', engine = 'python')\n",
    ")"
   ]
  },
  {
   "cell_type": "code",
   "execution_count": 122,
   "id": "6bf237c2",
   "metadata": {},
   "outputs": [
    {
     "data": {
      "text/plain": [
       "(10397, 10397)"
      ]
     },
     "execution_count": 122,
     "metadata": {},
     "output_type": "execute_result"
    }
   ],
   "source": [
    "row_ID(latitude_adt)"
   ]
  },
  {
   "cell_type": "code",
   "execution_count": 123,
   "id": "db793179",
   "metadata": {},
   "outputs": [],
   "source": [
    "line_therapy = pd.read_csv('LineOfTherapy.csv')"
   ]
  },
  {
   "cell_type": "code",
   "execution_count": 124,
   "id": "79bdb30d",
   "metadata": {},
   "outputs": [],
   "source": [
    "zero = (\n",
    "    line_therapy.query('LineNumber == 0')\n",
    "    .PatientID\n",
    ")"
   ]
  },
  {
   "cell_type": "code",
   "execution_count": 125,
   "id": "c534963e",
   "metadata": {},
   "outputs": [],
   "source": [
    "# Exclude patients with missing treatment information (ie, LineNumber == 0)\n",
    "latitude_adt = latitude_adt[~latitude_adt.PatientID.isin(zero)]"
   ]
  },
  {
   "cell_type": "code",
   "execution_count": 126,
   "id": "684050b3",
   "metadata": {},
   "outputs": [
    {
     "data": {
      "text/plain": [
       "(10047, 10047)"
      ]
     },
     "execution_count": 126,
     "metadata": {},
     "output_type": "execute_result"
    }
   ],
   "source": [
    "row_ID(latitude_adt)"
   ]
  },
  {
   "cell_type": "code",
   "execution_count": 127,
   "id": "07d99476",
   "metadata": {},
   "outputs": [],
   "source": [
    "line_therapy_cont = line_therapy.query('LineSetting != \"nmCRPC\"')"
   ]
  },
  {
   "cell_type": "code",
   "execution_count": 128,
   "id": "b7032c06",
   "metadata": {},
   "outputs": [],
   "source": [
    "# List of FDA approved drugs for mPC as of July 2023. Clinical study drug is also included. \n",
    "fda_yes = [\n",
    "    'Abiraterone',\n",
    "    'Apalutamide',\n",
    "    'Cabazitaxel',\n",
    "    'Carboplatin',\n",
    "    'Cisplatin',\n",
    "    'Darolutamide',\n",
    "    'Docetaxel',\n",
    "    'Enzalutamide',\n",
    "    'Mitoxantrone',\n",
    "    'Olaparib',\n",
    "    'Oxaliplatin',\n",
    "    'Paclitaxel',\n",
    "    'Pembrolizumab',\n",
    "    'Radium-223',\n",
    "    'Rucaparib',\n",
    "    'Sipuleucel-T',\n",
    "    'Clinical Study Drug'\n",
    "]"
   ]
  },
  {
   "cell_type": "code",
   "execution_count": 129,
   "id": "34ffbc11",
   "metadata": {},
   "outputs": [],
   "source": [
    "line_therapy_cont = line_therapy_cont[line_therapy_cont['LineName'].str.contains('|'.join(fda_yes))]"
   ]
  },
  {
   "cell_type": "code",
   "execution_count": 130,
   "id": "22e8884e",
   "metadata": {},
   "outputs": [],
   "source": [
    "line_therapy_cont = (\n",
    "    line_therapy_cont\n",
    "    .sort_values(by = ['PatientID', 'StartDate'], ascending = [True, True])\n",
    ")"
   ]
  },
  {
   "cell_type": "code",
   "execution_count": 131,
   "id": "f648a6ef",
   "metadata": {},
   "outputs": [],
   "source": [
    "line_therapy_cont['line_number'] = (\n",
    "    line_therapy_cont.groupby('PatientID')['LineNumber'].cumcount()+1\n",
    ")"
   ]
  },
  {
   "cell_type": "code",
   "execution_count": 132,
   "id": "e652213b",
   "metadata": {},
   "outputs": [],
   "source": [
    "# First line therapy is in castrate-resistant setting \n",
    "fl_crpc = (\n",
    "    line_therapy_cont[line_therapy_cont.PatientID.isin(latitude_adt.PatientID)]\n",
    "    .query('line_number == 1 & LineSetting == \"mCRPC\"')\n",
    "    .PatientID\n",
    ")"
   ]
  },
  {
   "cell_type": "code",
   "execution_count": 133,
   "id": "6315e2d0",
   "metadata": {},
   "outputs": [],
   "source": [
    "# Never received therapy other than ADT\n",
    "notrt_adt = (\n",
    "    latitude_adt[~latitude_adt.PatientID.isin(line_therapy_cont.PatientID)]\n",
    "    .PatientID\n",
    ")"
   ]
  },
  {
   "cell_type": "code",
   "execution_count": 134,
   "id": "2cf93bf6",
   "metadata": {},
   "outputs": [],
   "source": [
    "adt_IDs = np.concatenate((fl_crpc, notrt_adt))"
   ]
  },
  {
   "cell_type": "code",
   "execution_count": 135,
   "id": "cc6e47c4",
   "metadata": {},
   "outputs": [
    {
     "data": {
      "text/plain": [
       "6167"
      ]
     },
     "execution_count": 135,
     "metadata": {},
     "output_type": "execute_result"
    }
   ],
   "source": [
    "len(adt_IDs)"
   ]
  },
  {
   "cell_type": "code",
   "execution_count": 136,
   "id": "c00f2c3e",
   "metadata": {},
   "outputs": [],
   "source": [
    "latitude_adt = latitude_adt[latitude_adt.PatientID.isin(adt_IDs)]"
   ]
  },
  {
   "cell_type": "code",
   "execution_count": 137,
   "id": "1ef86f10",
   "metadata": {},
   "outputs": [],
   "source": [
    "latitude_adt.loc[:,'adt_abi'] = 0"
   ]
  },
  {
   "cell_type": "code",
   "execution_count": 138,
   "id": "f281296d",
   "metadata": {},
   "outputs": [
    {
     "data": {
      "text/plain": [
       "(6167, 6167)"
      ]
     },
     "execution_count": 138,
     "metadata": {},
     "output_type": "execute_result"
    }
   ],
   "source": [
    "row_ID(latitude_adt)"
   ]
  },
  {
   "cell_type": "code",
   "execution_count": 139,
   "id": "bac26dc2",
   "metadata": {
    "scrolled": true
   },
   "outputs": [
    {
     "data": {
      "text/html": [
       "<div>\n",
       "<style scoped>\n",
       "    .dataframe tbody tr th:only-of-type {\n",
       "        vertical-align: middle;\n",
       "    }\n",
       "\n",
       "    .dataframe tbody tr th {\n",
       "        vertical-align: top;\n",
       "    }\n",
       "\n",
       "    .dataframe thead th {\n",
       "        text-align: right;\n",
       "    }\n",
       "</style>\n",
       "<table border=\"1\" class=\"dataframe\">\n",
       "  <thead>\n",
       "    <tr style=\"text-align: right;\">\n",
       "      <th></th>\n",
       "      <th>PatientID</th>\n",
       "      <th>Gender</th>\n",
       "      <th>race</th>\n",
       "      <th>ethnicity</th>\n",
       "      <th>age</th>\n",
       "      <th>p_type</th>\n",
       "      <th>NStage</th>\n",
       "      <th>MStage</th>\n",
       "      <th>Histology</th>\n",
       "      <th>GleasonScore</th>\n",
       "      <th>...</th>\n",
       "      <th>other_met</th>\n",
       "      <th>prim_treatment</th>\n",
       "      <th>early_adt</th>\n",
       "      <th>risk_score</th>\n",
       "      <th>StartDate_adt</th>\n",
       "      <th>MetDiagnosisDate</th>\n",
       "      <th>CRPCDate</th>\n",
       "      <th>adt_diff</th>\n",
       "      <th>crpc_diff</th>\n",
       "      <th>adt_abi</th>\n",
       "    </tr>\n",
       "  </thead>\n",
       "  <tbody>\n",
       "    <tr>\n",
       "      <th>14549</th>\n",
       "      <td>F9AEA3E040920</td>\n",
       "      <td>M</td>\n",
       "      <td>white</td>\n",
       "      <td>unknown</td>\n",
       "      <td>84</td>\n",
       "      <td>COMMUNITY</td>\n",
       "      <td>Unknown / Not documented</td>\n",
       "      <td>Unknown / Not documented</td>\n",
       "      <td>Prostate cancer, NOS</td>\n",
       "      <td>Unknown / Not documented</td>\n",
       "      <td>...</td>\n",
       "      <td>0.0</td>\n",
       "      <td>prostatectomy</td>\n",
       "      <td>0.0</td>\n",
       "      <td>-0.346219</td>\n",
       "      <td>2021-01-01</td>\n",
       "      <td>2021-03-02</td>\n",
       "      <td>NaT</td>\n",
       "      <td>-60.0</td>\n",
       "      <td>NaN</td>\n",
       "      <td>0</td>\n",
       "    </tr>\n",
       "    <tr>\n",
       "      <th>5280</th>\n",
       "      <td>F51C00C23D372</td>\n",
       "      <td>M</td>\n",
       "      <td>white</td>\n",
       "      <td>unknown</td>\n",
       "      <td>76</td>\n",
       "      <td>COMMUNITY</td>\n",
       "      <td>N1</td>\n",
       "      <td>M1c</td>\n",
       "      <td>Adenocarcinoma</td>\n",
       "      <td>Unknown / Not documented</td>\n",
       "      <td>...</td>\n",
       "      <td>0.0</td>\n",
       "      <td>unknown</td>\n",
       "      <td>0.0</td>\n",
       "      <td>-0.023407</td>\n",
       "      <td>2013-04-19</td>\n",
       "      <td>2013-04-11</td>\n",
       "      <td>2014-12-09</td>\n",
       "      <td>8.0</td>\n",
       "      <td>607.0</td>\n",
       "      <td>0</td>\n",
       "    </tr>\n",
       "    <tr>\n",
       "      <th>4859</th>\n",
       "      <td>F28662F5253C2</td>\n",
       "      <td>M</td>\n",
       "      <td>black</td>\n",
       "      <td>unknown</td>\n",
       "      <td>76</td>\n",
       "      <td>COMMUNITY</td>\n",
       "      <td>N1</td>\n",
       "      <td>M1</td>\n",
       "      <td>Adenocarcinoma</td>\n",
       "      <td>3 + 4 = 7</td>\n",
       "      <td>...</td>\n",
       "      <td>0.0</td>\n",
       "      <td>unknown</td>\n",
       "      <td>0.0</td>\n",
       "      <td>-0.169897</td>\n",
       "      <td>2017-01-19</td>\n",
       "      <td>2016-12-01</td>\n",
       "      <td>NaT</td>\n",
       "      <td>49.0</td>\n",
       "      <td>NaN</td>\n",
       "      <td>0</td>\n",
       "    </tr>\n",
       "  </tbody>\n",
       "</table>\n",
       "<p>3 rows × 235 columns</p>\n",
       "</div>"
      ],
      "text/plain": [
       "           PatientID Gender   race ethnicity  age     p_type  \\\n",
       "14549  F9AEA3E040920      M  white   unknown   84  COMMUNITY   \n",
       "5280   F51C00C23D372      M  white   unknown   76  COMMUNITY   \n",
       "4859   F28662F5253C2      M  black   unknown   76  COMMUNITY   \n",
       "\n",
       "                         NStage                    MStage  \\\n",
       "14549  Unknown / Not documented  Unknown / Not documented   \n",
       "5280                         N1                       M1c   \n",
       "4859                         N1                        M1   \n",
       "\n",
       "                  Histology              GleasonScore  ...  other_met  \\\n",
       "14549  Prostate cancer, NOS  Unknown / Not documented  ...        0.0   \n",
       "5280         Adenocarcinoma  Unknown / Not documented  ...        0.0   \n",
       "4859         Adenocarcinoma                 3 + 4 = 7  ...        0.0   \n",
       "\n",
       "       prim_treatment early_adt  risk_score  StartDate_adt  MetDiagnosisDate  \\\n",
       "14549   prostatectomy       0.0   -0.346219     2021-01-01        2021-03-02   \n",
       "5280          unknown       0.0   -0.023407     2013-04-19        2013-04-11   \n",
       "4859          unknown       0.0   -0.169897     2017-01-19        2016-12-01   \n",
       "\n",
       "        CRPCDate  adt_diff  crpc_diff  adt_abi  \n",
       "14549        NaT     -60.0        NaN        0  \n",
       "5280  2014-12-09       8.0      607.0        0  \n",
       "4859         NaT      49.0        NaN        0  \n",
       "\n",
       "[3 rows x 235 columns]"
      ]
     },
     "execution_count": 139,
     "metadata": {},
     "output_type": "execute_result"
    }
   ],
   "source": [
    "latitude_adt.sample(3)"
   ]
  },
  {
   "cell_type": "markdown",
   "id": "7f5be371",
   "metadata": {},
   "source": [
    "#### Treatment arm: Abiraterone + ADT"
   ]
  },
  {
   "cell_type": "code",
   "execution_count": 140,
   "id": "40fd0fe6",
   "metadata": {},
   "outputs": [],
   "source": [
    "# Find those that start ADT within -90 to 90 days of metastaic diagnosis \n",
    "latitude_abi = (\n",
    "    df_full\n",
    "    .assign(adt_diff = (df_full['StartDate_adt'] - df_full['MetDiagnosisDate']).dt.days)\n",
    "    .query('adt_diff >= -90 and adt_diff <= 90')\n",
    ")"
   ]
  },
  {
   "cell_type": "code",
   "execution_count": 141,
   "id": "3c028dce",
   "metadata": {},
   "outputs": [],
   "source": [
    "# Find all that have missing CPRC date or date is >30 days metastatic diagnosis \n",
    "latitude_abi = (\n",
    "    latitude_abi\n",
    "    .assign(crpc_diff = (latitude_abi['CRPCDate'] - latitude_abi['MetDiagnosisDate']).dt.days)\n",
    "    .query('crpc_diff > 90 or CRPCDate.isna()', engine = 'python')\n",
    ")"
   ]
  },
  {
   "cell_type": "code",
   "execution_count": 142,
   "id": "7d703027",
   "metadata": {},
   "outputs": [
    {
     "data": {
      "text/plain": [
       "(10397, 10397)"
      ]
     },
     "execution_count": 142,
     "metadata": {},
     "output_type": "execute_result"
    }
   ],
   "source": [
    "row_ID(latitude_abi)"
   ]
  },
  {
   "cell_type": "code",
   "execution_count": 143,
   "id": "956cda11",
   "metadata": {},
   "outputs": [],
   "source": [
    "# Find start time of first line of mHSPC therapy. \n",
    "line_therapy_fl = (\n",
    "    line_therapy[line_therapy['PatientID'].isin(latitude_abi['PatientID'])]\n",
    "    .query('LineSetting == \"mHSPC\"')\n",
    "    .sort_values(by = ['PatientID', 'StartDate'], ascending = [True, True])\n",
    "    .drop_duplicates(subset = ['PatientID'], keep = 'first')\n",
    "    .rename(columns = {'StartDate': 'StartDate_abi'})\n",
    ")"
   ]
  },
  {
   "cell_type": "code",
   "execution_count": 144,
   "id": "7ee9642c",
   "metadata": {},
   "outputs": [
    {
     "data": {
      "text/plain": [
       "(4022, 4022)"
      ]
     },
     "execution_count": 144,
     "metadata": {},
     "output_type": "execute_result"
    }
   ],
   "source": [
    "row_ID(line_therapy_fl)"
   ]
  },
  {
   "cell_type": "code",
   "execution_count": 145,
   "id": "92586399",
   "metadata": {},
   "outputs": [],
   "source": [
    "line_therapy_fl.loc[:, 'StartDate_abi'] = pd.to_datetime(line_therapy_fl['StartDate_abi'])"
   ]
  },
  {
   "cell_type": "code",
   "execution_count": 146,
   "id": "22bcb686",
   "metadata": {},
   "outputs": [
    {
     "data": {
      "text/plain": [
       "Abiraterone                             1165\n",
       "Abiraterone,Docetaxel                     27\n",
       "Abiraterone,Enzalutamide                   8\n",
       "Abiraterone,Clinical Study Drug            4\n",
       "Abiraterone,Apalutamide                    4\n",
       "Abiraterone,Apalutamide,Enzalutamide       1\n",
       "Abiraterone,Capecitabine                   1\n",
       "Abiraterone,Medroxyprogesterone            1\n",
       "Abiraterone,Fluorouracil                   1\n",
       "Abiraterone,Tamoxifen                      1\n",
       "Name: LineName, dtype: int64"
      ]
     },
     "execution_count": 146,
     "metadata": {},
     "output_type": "execute_result"
    }
   ],
   "source": [
    "line_therapy_fl[line_therapy_fl['LineName'].str.contains('Abiraterone')].LineName.value_counts().head(10)"
   ]
  },
  {
   "cell_type": "code",
   "execution_count": 147,
   "id": "8e7e45fd",
   "metadata": {},
   "outputs": [],
   "source": [
    "line_abi = line_therapy_fl.query('LineName == \"Abiraterone\"')"
   ]
  },
  {
   "cell_type": "code",
   "execution_count": 148,
   "id": "be37706d",
   "metadata": {},
   "outputs": [
    {
     "data": {
      "text/plain": [
       "(1165, 1165)"
      ]
     },
     "execution_count": 148,
     "metadata": {},
     "output_type": "execute_result"
    }
   ],
   "source": [
    "row_ID(line_abi)"
   ]
  },
  {
   "cell_type": "code",
   "execution_count": 149,
   "id": "f0732bb9",
   "metadata": {},
   "outputs": [],
   "source": [
    "latitude_abi = pd.merge(latitude_abi, line_abi[['PatientID', 'StartDate_abi']], on = 'PatientID', how = 'left')"
   ]
  },
  {
   "cell_type": "code",
   "execution_count": 150,
   "id": "316670bc",
   "metadata": {},
   "outputs": [
    {
     "data": {
      "text/plain": [
       "(10397, 10397)"
      ]
     },
     "execution_count": 150,
     "metadata": {},
     "output_type": "execute_result"
    }
   ],
   "source": [
    "row_ID(latitude_abi)"
   ]
  },
  {
   "cell_type": "code",
   "execution_count": 151,
   "id": "5c659060",
   "metadata": {},
   "outputs": [],
   "source": [
    "# Find all patients that start abiraterone within 90 days of ADT start\n",
    "latitude_abi = (\n",
    "    latitude_abi\n",
    "    .assign(abi_diff = (latitude_abi['StartDate_abi'] - latitude_abi['StartDate_adt']).dt.days)\n",
    "    .query('abi_diff >= -90 and abi_diff <= 90')\n",
    ")"
   ]
  },
  {
   "cell_type": "code",
   "execution_count": 152,
   "id": "6c5050e6",
   "metadata": {},
   "outputs": [
    {
     "data": {
      "text/plain": [
       "(876, 876)"
      ]
     },
     "execution_count": 152,
     "metadata": {},
     "output_type": "execute_result"
    }
   ],
   "source": [
    "row_ID(latitude_abi)"
   ]
  },
  {
   "cell_type": "code",
   "execution_count": 153,
   "id": "0829adeb",
   "metadata": {},
   "outputs": [
    {
     "data": {
      "text/html": [
       "<div>\n",
       "<style scoped>\n",
       "    .dataframe tbody tr th:only-of-type {\n",
       "        vertical-align: middle;\n",
       "    }\n",
       "\n",
       "    .dataframe tbody tr th {\n",
       "        vertical-align: top;\n",
       "    }\n",
       "\n",
       "    .dataframe thead th {\n",
       "        text-align: right;\n",
       "    }\n",
       "</style>\n",
       "<table border=\"1\" class=\"dataframe\">\n",
       "  <thead>\n",
       "    <tr style=\"text-align: right;\">\n",
       "      <th></th>\n",
       "      <th>PatientID</th>\n",
       "      <th>Gender</th>\n",
       "      <th>race</th>\n",
       "      <th>ethnicity</th>\n",
       "      <th>age</th>\n",
       "      <th>p_type</th>\n",
       "      <th>NStage</th>\n",
       "      <th>MStage</th>\n",
       "      <th>Histology</th>\n",
       "      <th>GleasonScore</th>\n",
       "      <th>...</th>\n",
       "      <th>prim_treatment</th>\n",
       "      <th>early_adt</th>\n",
       "      <th>risk_score</th>\n",
       "      <th>StartDate_adt</th>\n",
       "      <th>MetDiagnosisDate</th>\n",
       "      <th>CRPCDate</th>\n",
       "      <th>adt_diff</th>\n",
       "      <th>crpc_diff</th>\n",
       "      <th>StartDate_abi</th>\n",
       "      <th>abi_diff</th>\n",
       "    </tr>\n",
       "  </thead>\n",
       "  <tbody>\n",
       "    <tr>\n",
       "      <th>6969</th>\n",
       "      <td>F7FBC7FAE0FFD</td>\n",
       "      <td>M</td>\n",
       "      <td>white</td>\n",
       "      <td>unknown</td>\n",
       "      <td>76</td>\n",
       "      <td>COMMUNITY</td>\n",
       "      <td>N1</td>\n",
       "      <td>M1</td>\n",
       "      <td>Adenocarcinoma</td>\n",
       "      <td>10</td>\n",
       "      <td>...</td>\n",
       "      <td>unknown</td>\n",
       "      <td>0.0</td>\n",
       "      <td>0.050464</td>\n",
       "      <td>2019-10-30</td>\n",
       "      <td>2019-09-10</td>\n",
       "      <td>NaT</td>\n",
       "      <td>50.0</td>\n",
       "      <td>NaN</td>\n",
       "      <td>2019-12-23</td>\n",
       "      <td>54.0</td>\n",
       "    </tr>\n",
       "    <tr>\n",
       "      <th>7025</th>\n",
       "      <td>F954A609D2920</td>\n",
       "      <td>M</td>\n",
       "      <td>other</td>\n",
       "      <td>unknown</td>\n",
       "      <td>74</td>\n",
       "      <td>BOTH</td>\n",
       "      <td>N1</td>\n",
       "      <td>M1</td>\n",
       "      <td>Adenocarcinoma</td>\n",
       "      <td>Unknown / Not documented</td>\n",
       "      <td>...</td>\n",
       "      <td>unknown</td>\n",
       "      <td>0.0</td>\n",
       "      <td>-0.706843</td>\n",
       "      <td>2020-07-03</td>\n",
       "      <td>2020-06-12</td>\n",
       "      <td>NaT</td>\n",
       "      <td>21.0</td>\n",
       "      <td>NaN</td>\n",
       "      <td>2020-09-16</td>\n",
       "      <td>75.0</td>\n",
       "    </tr>\n",
       "    <tr>\n",
       "      <th>6830</th>\n",
       "      <td>F4DD596AD65A9</td>\n",
       "      <td>M</td>\n",
       "      <td>white</td>\n",
       "      <td>unknown</td>\n",
       "      <td>67</td>\n",
       "      <td>COMMUNITY</td>\n",
       "      <td>Unknown / Not documented</td>\n",
       "      <td>M1</td>\n",
       "      <td>Adenocarcinoma</td>\n",
       "      <td>Unknown / Not documented</td>\n",
       "      <td>...</td>\n",
       "      <td>unknown</td>\n",
       "      <td>0.0</td>\n",
       "      <td>-0.135481</td>\n",
       "      <td>2022-02-25</td>\n",
       "      <td>2022-01-03</td>\n",
       "      <td>NaT</td>\n",
       "      <td>53.0</td>\n",
       "      <td>NaN</td>\n",
       "      <td>2022-03-18</td>\n",
       "      <td>21.0</td>\n",
       "    </tr>\n",
       "  </tbody>\n",
       "</table>\n",
       "<p>3 rows × 236 columns</p>\n",
       "</div>"
      ],
      "text/plain": [
       "          PatientID Gender   race ethnicity  age     p_type  \\\n",
       "6969  F7FBC7FAE0FFD      M  white   unknown   76  COMMUNITY   \n",
       "7025  F954A609D2920      M  other   unknown   74       BOTH   \n",
       "6830  F4DD596AD65A9      M  white   unknown   67  COMMUNITY   \n",
       "\n",
       "                        NStage MStage       Histology  \\\n",
       "6969                        N1     M1  Adenocarcinoma   \n",
       "7025                        N1     M1  Adenocarcinoma   \n",
       "6830  Unknown / Not documented     M1  Adenocarcinoma   \n",
       "\n",
       "                  GleasonScore  ...  prim_treatment  early_adt risk_score  \\\n",
       "6969                        10  ...         unknown        0.0   0.050464   \n",
       "7025  Unknown / Not documented  ...         unknown        0.0  -0.706843   \n",
       "6830  Unknown / Not documented  ...         unknown        0.0  -0.135481   \n",
       "\n",
       "      StartDate_adt  MetDiagnosisDate  CRPCDate  adt_diff  crpc_diff  \\\n",
       "6969     2019-10-30        2019-09-10       NaT      50.0        NaN   \n",
       "7025     2020-07-03        2020-06-12       NaT      21.0        NaN   \n",
       "6830     2022-02-25        2022-01-03       NaT      53.0        NaN   \n",
       "\n",
       "      StartDate_abi  abi_diff  \n",
       "6969     2019-12-23      54.0  \n",
       "7025     2020-09-16      75.0  \n",
       "6830     2022-03-18      21.0  \n",
       "\n",
       "[3 rows x 236 columns]"
      ]
     },
     "execution_count": 153,
     "metadata": {},
     "output_type": "execute_result"
    }
   ],
   "source": [
    "latitude_abi.sample(3)"
   ]
  },
  {
   "cell_type": "code",
   "execution_count": 154,
   "id": "f1356d7b",
   "metadata": {},
   "outputs": [],
   "source": [
    "latitude_abi.loc[:,'adt_abi'] = 1"
   ]
  },
  {
   "cell_type": "code",
   "execution_count": 155,
   "id": "ea0541be",
   "metadata": {},
   "outputs": [],
   "source": [
    "latitude = pd.concat([latitude_adt, latitude_abi], ignore_index = True)"
   ]
  },
  {
   "cell_type": "code",
   "execution_count": 156,
   "id": "fa6f2691",
   "metadata": {},
   "outputs": [
    {
     "data": {
      "text/plain": [
       "(7043, 7043)"
      ]
     },
     "execution_count": 156,
     "metadata": {},
     "output_type": "execute_result"
    }
   ],
   "source": [
    "row_ID(latitude)"
   ]
  },
  {
   "cell_type": "code",
   "execution_count": 157,
   "id": "dfa69801",
   "metadata": {},
   "outputs": [
    {
     "data": {
      "text/plain": [
       "0    6167\n",
       "1     876\n",
       "Name: adt_abi, dtype: int64"
      ]
     },
     "execution_count": 157,
     "metadata": {},
     "output_type": "execute_result"
    }
   ],
   "source": [
    "latitude.adt_abi.value_counts(dropna = False)"
   ]
  },
  {
   "cell_type": "markdown",
   "id": "d5b04759",
   "metadata": {},
   "source": [
    "#### Time from ADT treatment to death or censor "
   ]
  },
  {
   "cell_type": "code",
   "execution_count": 158,
   "id": "f017a868",
   "metadata": {},
   "outputs": [],
   "source": [
    "mortality_tr = pd.read_csv('mortality_cleaned_tr.csv')"
   ]
  },
  {
   "cell_type": "code",
   "execution_count": 159,
   "id": "6a6dd3b9",
   "metadata": {},
   "outputs": [],
   "source": [
    "mortality_te = pd.read_csv('mortality_cleaned_te.csv')"
   ]
  },
  {
   "cell_type": "code",
   "execution_count": 160,
   "id": "90ed5ac1",
   "metadata": {},
   "outputs": [],
   "source": [
    "mortality_tr = mortality_tr[['PatientID', 'death_date', 'last_activity']]"
   ]
  },
  {
   "cell_type": "code",
   "execution_count": 161,
   "id": "53a9039c",
   "metadata": {},
   "outputs": [],
   "source": [
    "mortality_te = mortality_te[['PatientID', 'death_date', 'last_activity']]"
   ]
  },
  {
   "cell_type": "code",
   "execution_count": 162,
   "id": "47838112",
   "metadata": {},
   "outputs": [
    {
     "data": {
      "text/plain": [
       "(18927, 18927)"
      ]
     },
     "execution_count": 162,
     "metadata": {},
     "output_type": "execute_result"
    }
   ],
   "source": [
    "mortality = pd.concat([mortality_tr, mortality_te], ignore_index = True)\n",
    "row_ID(mortality)"
   ]
  },
  {
   "cell_type": "code",
   "execution_count": 163,
   "id": "4722209b",
   "metadata": {},
   "outputs": [],
   "source": [
    "mortality.loc[:, 'last_activity'] = pd.to_datetime(mortality['last_activity'])"
   ]
  },
  {
   "cell_type": "code",
   "execution_count": 164,
   "id": "76cc375a",
   "metadata": {},
   "outputs": [],
   "source": [
    "mortality.loc[:, 'death_date'] = pd.to_datetime(mortality['death_date'])"
   ]
  },
  {
   "cell_type": "code",
   "execution_count": 165,
   "id": "9702f2aa",
   "metadata": {},
   "outputs": [
    {
     "data": {
      "text/plain": [
       "18927"
      ]
     },
     "execution_count": 165,
     "metadata": {},
     "output_type": "execute_result"
    }
   ],
   "source": [
    "len(mortality)"
   ]
  },
  {
   "cell_type": "code",
   "execution_count": 166,
   "id": "d90cc009",
   "metadata": {},
   "outputs": [],
   "source": [
    "latitude = pd.merge(latitude, mortality, on = 'PatientID', how = 'left')"
   ]
  },
  {
   "cell_type": "code",
   "execution_count": 167,
   "id": "4fcbfacd",
   "metadata": {},
   "outputs": [
    {
     "data": {
      "text/plain": [
       "(7043, 7043)"
      ]
     },
     "execution_count": 167,
     "metadata": {},
     "output_type": "execute_result"
    }
   ],
   "source": [
    "row_ID(latitude)"
   ]
  },
  {
   "cell_type": "code",
   "execution_count": 168,
   "id": "e4ebd955",
   "metadata": {},
   "outputs": [],
   "source": [
    "conditions = [\n",
    "    (latitude['death_status'] == 1),\n",
    "    (latitude['death_status'] == 0)]\n",
    "\n",
    "choices = [\n",
    "    (latitude['death_date'] - latitude['StartDate_adt']).dt.days,\n",
    "    (latitude['last_activity'] - latitude['StartDate_adt']).dt.days]\n",
    "\n",
    "latitude.loc[:, 'timerisk_treatment'] = np.select(conditions, choices)\n",
    "\n",
    "latitude = latitude.query('timerisk_treatment >= 0')"
   ]
  },
  {
   "cell_type": "markdown",
   "id": "6688d560",
   "metadata": {},
   "source": [
    "#### Patient count "
   ]
  },
  {
   "cell_type": "code",
   "execution_count": 169,
   "id": "44d119d4",
   "metadata": {},
   "outputs": [],
   "source": [
    "low_cutoff_latitude = latitude.risk_score.quantile(1/3)"
   ]
  },
  {
   "cell_type": "code",
   "execution_count": 170,
   "id": "38511a9e",
   "metadata": {},
   "outputs": [],
   "source": [
    "high_cutoff_latitude = latitude.risk_score.quantile(2/3)"
   ]
  },
  {
   "cell_type": "code",
   "execution_count": 171,
   "id": "4fd26a0d",
   "metadata": {},
   "outputs": [
    {
     "name": "stdout",
     "output_type": "stream",
     "text": [
      "Abiraterone + ADT: 876\n",
      "High risk: 275\n",
      "Med risk: 258\n",
      "Low risk: 343\n"
     ]
    }
   ],
   "source": [
    "print('Abiraterone + ADT:',  latitude.query('adt_abi == 1').shape[0])\n",
    "print('High risk:', latitude.query('adt_abi == 1').query('risk_score >= @high_cutoff_latitude').shape[0])\n",
    "print('Med risk:', latitude.query('adt_abi == 1').query('risk_score < @high_cutoff_latitude and risk_score > @low_cutoff_latitude').shape[0])\n",
    "print('Low risk:', latitude.query('adt_abi == 1').query('risk_score <= @low_cutoff_latitude').shape[0])"
   ]
  },
  {
   "cell_type": "code",
   "execution_count": 172,
   "id": "c18a50d4",
   "metadata": {},
   "outputs": [
    {
     "name": "stdout",
     "output_type": "stream",
     "text": [
      "ADT: 6167\n",
      "High risk: 2073\n",
      "Med risk: 2089\n",
      "Low risk: 2005\n"
     ]
    }
   ],
   "source": [
    "print('ADT:',  latitude.query('adt_abi == 0').shape[0])\n",
    "print('High risk:', latitude.query('adt_abi == 0').query('risk_score >= @high_cutoff_latitude').shape[0])\n",
    "print('Med risk:', latitude.query('adt_abi == 0').query('risk_score < @high_cutoff_latitude and risk_score > @low_cutoff_latitude').shape[0])\n",
    "print('Low risk:', latitude.query('adt_abi == 0').query('risk_score <= @low_cutoff_latitude').shape[0])"
   ]
  },
  {
   "cell_type": "markdown",
   "id": "9830e342",
   "metadata": {},
   "source": [
    "#### Survival curves with covariate balancing "
   ]
  },
  {
   "cell_type": "code",
   "execution_count": 173,
   "id": "c2033f59",
   "metadata": {},
   "outputs": [],
   "source": [
    "latitude = latitude.set_index('PatientID')"
   ]
  },
  {
   "cell_type": "code",
   "execution_count": 174,
   "id": "b32bbf2d",
   "metadata": {},
   "outputs": [],
   "source": [
    "latitude['met_cat'] = pd.cut(latitude['met_year'],\n",
    "                             bins = [2010, 2018, float('inf')],\n",
    "                             labels = ['11-18', '19-22'])"
   ]
  },
  {
   "cell_type": "code",
   "execution_count": 175,
   "id": "7f06fe00",
   "metadata": {},
   "outputs": [],
   "source": [
    "conditions = [\n",
    "    ((latitude['ecog_diagnosis'] == \"1.0\") | (latitude['ecog_diagnosis'] == \"0.0\")),  \n",
    "    ((latitude['ecog_diagnosis'] == \"2.0\") | (latitude['ecog_diagnosis'] == \"3.0\"))\n",
    "]\n",
    "\n",
    "choices = ['lt_2', 'gte_2']\n",
    "\n",
    "latitude['ecog_2'] = np.select(conditions, choices, default = 'unknown')"
   ]
  },
  {
   "cell_type": "code",
   "execution_count": 176,
   "id": "75604578",
   "metadata": {},
   "outputs": [],
   "source": [
    "latitude_iptw = latitude.filter(items = ['death_status',\n",
    "                                         'timerisk_treatment',\n",
    "                                         'adt_abi',\n",
    "                                         'age',\n",
    "                                         'race',\n",
    "                                         'p_type',\n",
    "                                         'met_cat',\n",
    "                                         'delta_met_diagnosis',\n",
    "                                         'commercial',\n",
    "                                         'medicare',\n",
    "                                         'medicaid',\n",
    "                                         'ecog_2',\n",
    "                                         'prim_treatment',\n",
    "                                         'PSAMetDiagnosis',\n",
    "                                         'albumin_diag', \n",
    "                                         'weight_pct_change',\n",
    "                                         'risk_score'])"
   ]
  },
  {
   "cell_type": "code",
   "execution_count": 177,
   "id": "632d1774",
   "metadata": {},
   "outputs": [
    {
     "data": {
      "text/plain": [
       "death_status               bool\n",
       "timerisk_treatment      float64\n",
       "adt_abi                   int64\n",
       "age                       int64\n",
       "race                     object\n",
       "p_type                   object\n",
       "met_cat                category\n",
       "delta_met_diagnosis       int64\n",
       "commercial              float64\n",
       "medicare                float64\n",
       "medicaid                float64\n",
       "ecog_2                   object\n",
       "prim_treatment           object\n",
       "PSAMetDiagnosis         float64\n",
       "albumin_diag            float64\n",
       "weight_pct_change       float64\n",
       "risk_score              float64\n",
       "dtype: object"
      ]
     },
     "execution_count": 177,
     "metadata": {},
     "output_type": "execute_result"
    }
   ],
   "source": [
    "latitude_iptw.dtypes"
   ]
  },
  {
   "cell_type": "code",
   "execution_count": 178,
   "id": "046a057c",
   "metadata": {},
   "outputs": [],
   "source": [
    "to_be_categorical = list(latitude_iptw.select_dtypes(include = ['object']).columns)"
   ]
  },
  {
   "cell_type": "code",
   "execution_count": 179,
   "id": "02f187c2",
   "metadata": {},
   "outputs": [
    {
     "data": {
      "text/plain": [
       "['race', 'p_type', 'ecog_2', 'prim_treatment']"
      ]
     },
     "execution_count": 179,
     "metadata": {},
     "output_type": "execute_result"
    }
   ],
   "source": [
    "to_be_categorical"
   ]
  },
  {
   "cell_type": "code",
   "execution_count": 180,
   "id": "80e50098",
   "metadata": {},
   "outputs": [],
   "source": [
    "to_be_categorical.append('met_cat')"
   ]
  },
  {
   "cell_type": "code",
   "execution_count": 181,
   "id": "a434fb9f",
   "metadata": {},
   "outputs": [],
   "source": [
    "# Convert variables in list to categorical.\n",
    "for x in list(to_be_categorical):\n",
    "    latitude_iptw[x] = latitude_iptw[x].astype('category')"
   ]
  },
  {
   "cell_type": "code",
   "execution_count": 182,
   "id": "a4103e77",
   "metadata": {},
   "outputs": [],
   "source": [
    "# List of numeric variables, excluding binary variables. \n",
    "numerical_features = ['age', 'delta_met_diagnosis', 'PSAMetDiagnosis', 'albumin_diag', 'weight_pct_change', 'risk_score']\n",
    "\n",
    "# Transformer will first calculate column median and impute, and then apply a standard scaler. \n",
    "numerical_transformer = Pipeline(steps = [\n",
    "    ('imputer', SimpleImputer(strategy = 'median')),\n",
    "    ('std_scaler', StandardScaler())])"
   ]
  },
  {
   "cell_type": "code",
   "execution_count": 183,
   "id": "df425a46",
   "metadata": {},
   "outputs": [],
   "source": [
    "# List of categorical features.\n",
    "categorical_features = list(latitude_iptw.select_dtypes(include = ['category']).columns)\n",
    "\n",
    "# One-hot-encode categorical features.\n",
    "categorical_transformer = OneHotEncoder(handle_unknown = 'ignore')"
   ]
  },
  {
   "cell_type": "code",
   "execution_count": 184,
   "id": "6bf9c9e8",
   "metadata": {},
   "outputs": [],
   "source": [
    "preprocessor = ColumnTransformer(\n",
    "    transformers = [\n",
    "        ('num', numerical_transformer, numerical_features),\n",
    "        ('cat', categorical_transformer, categorical_features)],\n",
    "    remainder = 'passthrough')"
   ]
  },
  {
   "cell_type": "code",
   "execution_count": 185,
   "id": "12ad35a2",
   "metadata": {},
   "outputs": [],
   "source": [
    "latitude_iptw_low = (\n",
    "    latitude_iptw\n",
    "    .query('risk_score <= @low_cutoff_latitude'))\n",
    "\n",
    "latitude_iptw_med = (\n",
    "    latitude_iptw\n",
    "    .query('risk_score < @high_cutoff_latitude and risk_score > @low_cutoff_latitude'))\n",
    "\n",
    "latitude_iptw_high = (\n",
    "    latitude_iptw\n",
    "    .query('risk_score >= @high_cutoff_latitude'))\n",
    "\n",
    "latitude_iptw_all = latitude_iptw"
   ]
  },
  {
   "cell_type": "code",
   "execution_count": 186,
   "id": "ab21d665",
   "metadata": {},
   "outputs": [],
   "source": [
    "latitude_low_x = preprocessor.fit_transform(latitude_iptw_low.filter(items = ['age',\n",
    "                                                                              'race',\n",
    "                                                                              'p_type',\n",
    "                                                                              'met_cat',\n",
    "                                                                              'delta_met_diagnosis',\n",
    "                                                                              'commercial',\n",
    "                                                                              'medicare',\n",
    "                                                                              'medicaid', \n",
    "                                                                              'ecog_2',\n",
    "                                                                              'prim_treatment',\n",
    "                                                                              'PSAMetDiagnosis', \n",
    "                                                                              'albumin_diag',\n",
    "                                                                              'weight_pct_change',\n",
    "                                                                              'risk_score']))\n",
    "\n",
    "latitude_med_x = preprocessor.fit_transform(latitude_iptw_med.filter(items = ['age',\n",
    "                                                                              'race',\n",
    "                                                                              'p_type',\n",
    "                                                                              'met_cat',\n",
    "                                                                              'delta_met_diagnosis',\n",
    "                                                                              'commercial',\n",
    "                                                                              'medicare',\n",
    "                                                                              'medicaid', \n",
    "                                                                              'ecog_2',\n",
    "                                                                              'prim_treatment',\n",
    "                                                                              'PSAMetDiagnosis', \n",
    "                                                                              'albumin_diag',\n",
    "                                                                              'weight_pct_change',\n",
    "                                                                              'risk_score']))\n",
    "\n",
    "latitude_high_x = preprocessor.fit_transform(latitude_iptw_high.filter(items = ['age',\n",
    "                                                                                'race',\n",
    "                                                                                'p_type',\n",
    "                                                                                'met_cat',\n",
    "                                                                                'delta_met_diagnosis',\n",
    "                                                                                'commercial',\n",
    "                                                                                'medicare',\n",
    "                                                                                'medicaid', \n",
    "                                                                                'ecog_2',\n",
    "                                                                                'prim_treatment',\n",
    "                                                                                'PSAMetDiagnosis', \n",
    "                                                                                'albumin_diag',\n",
    "                                                                                'weight_pct_change', \n",
    "                                                                                'risk_score']))\n",
    "\n",
    "latitude_all_x = preprocessor.fit_transform(latitude_iptw_all.filter(items = ['age',\n",
    "                                                                              'race',\n",
    "                                                                              'p_type',\n",
    "                                                                              'met_cat',\n",
    "                                                                              'delta_met_diagnosis',\n",
    "                                                                              'commercial',\n",
    "                                                                              'medicare',\n",
    "                                                                              'medicaid', \n",
    "                                                                              'ecog_2',\n",
    "                                                                              'prim_treatment',\n",
    "                                                                              'PSAMetDiagnosis', \n",
    "                                                                              'albumin_diag',\n",
    "                                                                              'weight_pct_change',\n",
    "                                                                              'risk_score']))"
   ]
  },
  {
   "cell_type": "code",
   "execution_count": 187,
   "id": "0d1c549c",
   "metadata": {},
   "outputs": [
    {
     "data": {
      "text/plain": [
       "LogisticRegression(max_iter=1000)"
      ]
     },
     "execution_count": 187,
     "metadata": {},
     "output_type": "execute_result"
    }
   ],
   "source": [
    "lr_latitude_low = LogisticRegression(max_iter = 1000)\n",
    "lr_latitude_low.fit(latitude_low_x, latitude_iptw_low['adt_abi'])"
   ]
  },
  {
   "cell_type": "code",
   "execution_count": 188,
   "id": "10ebe6e9",
   "metadata": {},
   "outputs": [
    {
     "data": {
      "text/plain": [
       "LogisticRegression(max_iter=1000)"
      ]
     },
     "execution_count": 188,
     "metadata": {},
     "output_type": "execute_result"
    }
   ],
   "source": [
    "lr_latitude_med = LogisticRegression(max_iter = 1000)\n",
    "lr_latitude_med.fit(latitude_med_x, latitude_iptw_med['adt_abi'])"
   ]
  },
  {
   "cell_type": "code",
   "execution_count": 189,
   "id": "96a89e07",
   "metadata": {},
   "outputs": [
    {
     "data": {
      "text/plain": [
       "LogisticRegression(max_iter=1000)"
      ]
     },
     "execution_count": 189,
     "metadata": {},
     "output_type": "execute_result"
    }
   ],
   "source": [
    "lr_latitude_high = LogisticRegression(max_iter = 1000)\n",
    "lr_latitude_high.fit(latitude_high_x, latitude_iptw_high['adt_abi'])"
   ]
  },
  {
   "cell_type": "code",
   "execution_count": 190,
   "id": "e86a76a7",
   "metadata": {},
   "outputs": [
    {
     "data": {
      "text/plain": [
       "LogisticRegression(max_iter=1000)"
      ]
     },
     "execution_count": 190,
     "metadata": {},
     "output_type": "execute_result"
    }
   ],
   "source": [
    "lr_latitude_all = LogisticRegression(max_iter = 1000)\n",
    "lr_latitude_all.fit(latitude_all_x, latitude_iptw_all['adt_abi'])"
   ]
  },
  {
   "cell_type": "code",
   "execution_count": 191,
   "id": "8aaa3126",
   "metadata": {},
   "outputs": [],
   "source": [
    "pred_low = lr_latitude_low.predict_proba(latitude_low_x)\n",
    "pred_med = lr_latitude_med.predict_proba(latitude_med_x)\n",
    "pred_high = lr_latitude_high.predict_proba(latitude_high_x)\n",
    "pred_all = lr_latitude_all.predict_proba(latitude_all_x)"
   ]
  },
  {
   "cell_type": "code",
   "execution_count": 192,
   "id": "2007f463",
   "metadata": {},
   "outputs": [],
   "source": [
    "latitude_iptw_low['ps'] = pred_low[:, 1]\n",
    "latitude_iptw_med['ps'] = pred_med[:, 1]\n",
    "latitude_iptw_high['ps'] = pred_high[:, 1]\n",
    "latitude_iptw_all['ps'] = pred_all[:, 1]"
   ]
  },
  {
   "cell_type": "code",
   "execution_count": 193,
   "id": "b12c599b",
   "metadata": {},
   "outputs": [],
   "source": [
    "latitude_iptw_low['weight'] = (\n",
    "    np.where(latitude_iptw_low['adt_abi'] == 1, 1/latitude_iptw_low['ps'], 1/(1 - latitude_iptw_low['ps'])))\n",
    "\n",
    "latitude_iptw_med['weight'] = (\n",
    "    np.where(latitude_iptw_med['adt_abi'] == 1, 1/latitude_iptw_med['ps'], 1/(1 - latitude_iptw_med['ps'])))\n",
    "\n",
    "latitude_iptw_high['weight'] = (\n",
    "    np.where(latitude_iptw_high['adt_abi'] == 1, 1/latitude_iptw_high['ps'], 1/(1 - latitude_iptw_high['ps'])))\n",
    "\n",
    "latitude_iptw_all['weight'] = (\n",
    "    np.where(latitude_iptw_all['adt_abi'] == 1, 1/latitude_iptw_all['ps'], 1/(1 - latitude_iptw_all['ps'])))"
   ]
  },
  {
   "cell_type": "code",
   "execution_count": 194,
   "id": "ded8ccac",
   "metadata": {},
   "outputs": [
    {
     "data": {
      "text/plain": [
       "<lifelines.KaplanMeierFitter:\"KM_estimate\", fitted with 7046.86 total observations, 3266.84 right-censored observations>"
      ]
     },
     "execution_count": 194,
     "metadata": {},
     "output_type": "execute_result"
    }
   ],
   "source": [
    "# Low KM curves\n",
    "kmf_low_abi_latitude_iptw = KaplanMeierFitter()\n",
    "kmf_low_adt_latitude_iptw = KaplanMeierFitter()\n",
    "\n",
    "kmf_low_abi_latitude_iptw.fit(\n",
    "    latitude_iptw_low.query('adt_abi == 1').timerisk_treatment/30,\n",
    "    latitude_iptw_low.query('adt_abi == 1').death_status,\n",
    "    weights = latitude_iptw_low.query('adt_abi == 1')['weight'])\n",
    "\n",
    "kmf_low_adt_latitude_iptw.fit(\n",
    "    latitude_iptw_low.query('adt_abi == 0').timerisk_treatment/30,\n",
    "    latitude_iptw_low.query('adt_abi == 0').death_status,\n",
    "    weights = latitude_iptw_low.query('adt_abi == 0')['weight'])\n",
    "\n",
    "# Med KM curves\n",
    "kmf_med_abi_latitude_iptw = KaplanMeierFitter()\n",
    "kmf_med_adt_latitude_iptw = KaplanMeierFitter()\n",
    "\n",
    "kmf_med_abi_latitude_iptw.fit(\n",
    "    latitude_iptw_med.query('adt_abi == 1').timerisk_treatment/30,\n",
    "    latitude_iptw_med.query('adt_abi == 1').death_status,\n",
    "    weights = latitude_iptw_med.query('adt_abi == 1')['weight'])\n",
    "\n",
    "kmf_med_adt_latitude_iptw.fit(\n",
    "    latitude_iptw_med.query('adt_abi == 0').timerisk_treatment/30,\n",
    "    latitude_iptw_med.query('adt_abi == 0').death_status,\n",
    "    weights = latitude_iptw_med.query('adt_abi == 0')['weight'])\n",
    "\n",
    "# High KM curves \n",
    "kmf_high_abi_latitude_iptw = KaplanMeierFitter()\n",
    "kmf_high_adt_latitude_iptw = KaplanMeierFitter()\n",
    "\n",
    "kmf_high_abi_latitude_iptw.fit(\n",
    "    latitude_iptw_high.query('adt_abi == 1').timerisk_treatment/30,\n",
    "    latitude_iptw_high.query('adt_abi == 1').death_status,\n",
    "    weights = latitude_iptw_high.query('adt_abi == 1')['weight'])\n",
    "\n",
    "kmf_high_adt_latitude_iptw.fit(\n",
    "    latitude_iptw_high.query('adt_abi == 0').timerisk_treatment/30,\n",
    "    latitude_iptw_high.query('adt_abi == 0').death_status,\n",
    "    weights = latitude_iptw_high.query('adt_abi == 0')['weight'])\n",
    "\n",
    "# All KM curves \n",
    "kmf_all_abi_latitude_iptw = KaplanMeierFitter()\n",
    "kmf_all_adt_latitude_iptw = KaplanMeierFitter()\n",
    "\n",
    "kmf_all_abi_latitude_iptw.fit(\n",
    "    latitude_iptw_all.query('adt_abi == 1').timerisk_treatment/30,\n",
    "    latitude_iptw_all.query('adt_abi == 1').death_status,\n",
    "    weights = latitude_iptw_all.query('adt_abi == 1')['weight'])\n",
    "\n",
    "kmf_all_adt_latitude_iptw.fit(\n",
    "    latitude_iptw_all.query('adt_abi == 0').timerisk_treatment/30,\n",
    "    latitude_iptw_all.query('adt_abi == 0').death_status,\n",
    "    weights = latitude_iptw_all.query('adt_abi == 0')['weight'])"
   ]
  },
  {
   "cell_type": "markdown",
   "id": "239369e9",
   "metadata": {},
   "source": [
    "#### Calculating survival metrics "
   ]
  },
  {
   "cell_type": "code",
   "execution_count": 195,
   "id": "76a3936a",
   "metadata": {},
   "outputs": [],
   "source": [
    "abi_latitude_median_os = mos(kmf_low_abi_latitude_iptw,\n",
    "                             kmf_med_abi_latitude_iptw,\n",
    "                             kmf_high_abi_latitude_iptw,\n",
    "                             kmf_all_abi_latitude_iptw)\n",
    "\n",
    "adt_latitude_median_os = mos(kmf_low_adt_latitude_iptw,\n",
    "                             kmf_med_adt_latitude_iptw,\n",
    "                             kmf_high_adt_latitude_iptw,\n",
    "                             kmf_all_adt_latitude_iptw)"
   ]
  },
  {
   "cell_type": "code",
   "execution_count": 196,
   "id": "b2a5d4a0",
   "metadata": {},
   "outputs": [],
   "source": [
    "latitude_iptw_all_imputed = latitude_iptw_all.copy()\n",
    "latitude_iptw_all_imputed['albumin_diag'] = latitude_iptw_all_imputed['albumin_diag'].fillna(latitude_iptw_all_imputed['albumin_diag'].median())\n",
    "latitude_iptw_all_imputed['weight_pct_change'] = latitude_iptw_all_imputed['weight_pct_change'].fillna(latitude_iptw_all_imputed['weight_pct_change'].median())\n",
    "latitude_iptw_all_imputed['PSAMetDiagnosis'] = latitude_iptw_all_imputed['PSAMetDiagnosis'].fillna(latitude_iptw_all_imputed['PSAMetDiagnosis'].median())"
   ]
  },
  {
   "cell_type": "code",
   "execution_count": 197,
   "id": "28c0cfdb",
   "metadata": {},
   "outputs": [
    {
     "data": {
      "text/plain": [
       "<lifelines.CoxPHFitter: fitted with 13909.9 total observations, 7462.85 right-censored observations>"
      ]
     },
     "execution_count": 197,
     "metadata": {},
     "output_type": "execute_result"
    }
   ],
   "source": [
    "latitude_hr_all = CoxPHFitter()\n",
    "latitude_hr_all.fit(latitude_iptw_all_imputed,\n",
    "                    duration_col = 'timerisk_treatment',\n",
    "                    event_col = 'death_status',\n",
    "                    formula = 'adt_abi + age + race + p_type + delta_met_diagnosis + met_cat + commercial + medicare + medicaid + ecog_2 + prim_treatment + PSAMetDiagnosis + albumin_diag + weight_pct_change + risk_score',\n",
    "                    weights_col = 'weight', \n",
    "                    robust = True)"
   ]
  },
  {
   "cell_type": "code",
   "execution_count": 198,
   "id": "71916315",
   "metadata": {},
   "outputs": [],
   "source": [
    "latitude_all_rmst_mos_95 = rmst_mos_95ci(latitude_iptw_all,\n",
    "                                         1000,\n",
    "                                         'adt_abi',\n",
    "                                         'death',\n",
    "                                         ['age',\n",
    "                                          'race',\n",
    "                                          'p_type',\n",
    "                                          'delta_met_diagnosis',\n",
    "                                          'met_cat',\n",
    "                                          'commercial',\n",
    "                                          'medicare',\n",
    "                                          'medicaid',\n",
    "                                          'ecog_2',\n",
    "                                          'prim_treatment',\n",
    "                                          'PSAMetDiagnosis', \n",
    "                                          'albumin_diag', \n",
    "                                          'weight_pct_change',\n",
    "                                          'risk_score'],\n",
    "                                         ['age', 'delta_met_diagnosis', 'PSAMetDiagnosis', 'albumin_diag', 'weight_pct_change', 'risk_score'],\n",
    "                                         60)"
   ]
  },
  {
   "cell_type": "code",
   "execution_count": 199,
   "id": "ee83e7ea",
   "metadata": {},
   "outputs": [],
   "source": [
    "latitude_low_rmst_mos_95 = rmst_mos_95ci(latitude_iptw_low,\n",
    "                                         1000,\n",
    "                                         'adt_abi',\n",
    "                                         'death',\n",
    "                                         ['age',\n",
    "                                          'race',\n",
    "                                          'p_type',\n",
    "                                          'delta_met_diagnosis',\n",
    "                                          'met_cat',\n",
    "                                          'commercial',\n",
    "                                          'medicare',\n",
    "                                          'medicaid',\n",
    "                                          'ecog_2',\n",
    "                                          'prim_treatment',\n",
    "                                          'PSAMetDiagnosis', \n",
    "                                          'albumin_diag', \n",
    "                                          'weight_pct_change',\n",
    "                                          'risk_score'],\n",
    "                                         ['age', 'delta_met_diagnosis', 'PSAMetDiagnosis', 'albumin_diag', 'weight_pct_change', 'risk_score'],\n",
    "                                         60)"
   ]
  },
  {
   "cell_type": "code",
   "execution_count": 200,
   "id": "f3da7124",
   "metadata": {},
   "outputs": [],
   "source": [
    "latitude_med_rmst_mos_95 = rmst_mos_95ci(latitude_iptw_med,\n",
    "                                         1000,\n",
    "                                         'adt_abi',\n",
    "                                         'death',\n",
    "                                         ['age',\n",
    "                                          'race',\n",
    "                                          'p_type',\n",
    "                                          'delta_met_diagnosis',\n",
    "                                          'met_cat',\n",
    "                                          'commercial',\n",
    "                                          'medicare',\n",
    "                                          'medicaid',\n",
    "                                          'ecog_2',\n",
    "                                          'prim_treatment',\n",
    "                                          'PSAMetDiagnosis', \n",
    "                                          'albumin_diag', \n",
    "                                          'weight_pct_change',\n",
    "                                          'risk_score'],\n",
    "                                         ['age', 'delta_met_diagnosis', 'PSAMetDiagnosis', 'albumin_diag', 'weight_pct_change', 'risk_score'],\n",
    "                                         60)"
   ]
  },
  {
   "cell_type": "code",
   "execution_count": 201,
   "id": "fadfc70d",
   "metadata": {},
   "outputs": [],
   "source": [
    "latitude_high_rmst_mos_95 = rmst_mos_95ci(latitude_iptw_high,\n",
    "                                          1000,\n",
    "                                          'adt_abi',\n",
    "                                          'death',\n",
    "                                          ['age',\n",
    "                                           'race',\n",
    "                                           'p_type',\n",
    "                                           'delta_met_diagnosis',\n",
    "                                           'met_cat',\n",
    "                                           'commercial',\n",
    "                                           'medicare',\n",
    "                                           'medicaid',\n",
    "                                           'ecog_2',\n",
    "                                           'prim_treatment',\n",
    "                                           'PSAMetDiagnosis', \n",
    "                                           'albumin_diag', \n",
    "                                           'weight_pct_change',\n",
    "                                           'risk_score'],\n",
    "                                          ['age', 'delta_met_diagnosis', 'PSAMetDiagnosis', 'albumin_diag', 'weight_pct_change', 'risk_score'],\n",
    "                                          60)"
   ]
  },
  {
   "cell_type": "code",
   "execution_count": 202,
   "id": "995dda2f",
   "metadata": {},
   "outputs": [],
   "source": [
    "latitude_data = [\n",
    "    {'trial_name': 'LATITUDE', \n",
    "     'risk_group': 'low', \n",
    "     'r_trt_mos': abi_latitude_median_os[0],\n",
    "     'r_trt_mos_95': latitude_low_rmst_mos_95.mos_A_95,\n",
    "     'r_cont_mos': adt_latitude_median_os[0],\n",
    "     'r_cont_mos_95': latitude_low_rmst_mos_95.mos_B_95,\n",
    "     'r_mos_diff': abi_latitude_median_os[0] - adt_latitude_median_os[0], \n",
    "     'rct_trt_arm': 53.3,\n",
    "     'rct_cont_arm': 36.5,\n",
    "     'rct_mos_diff': 53.3-36.5,\n",
    "     'trt_rmst': restricted_mean_survival_time(kmf_low_abi_latitude_iptw, 60),\n",
    "     'trt_rmst_95': latitude_low_rmst_mos_95.rmst_A_95,\n",
    "     'cont_rmst': restricted_mean_survival_time(kmf_low_adt_latitude_iptw, 60),\n",
    "     'cont_rmst_95': latitude_low_rmst_mos_95.rmst_B_95,\n",
    "     'diff_rmst': restricted_mean_survival_time(kmf_low_abi_latitude_iptw, 60) - restricted_mean_survival_time(kmf_low_adt_latitude_iptw, 60),\n",
    "     'diff_rmst_95': latitude_low_rmst_mos_95.difference_rmst_95,\n",
    "     'rcount': latitude.query('risk_score <= @low_cutoff_latitude').shape[0]},\n",
    "    \n",
    "    {'trial_name': 'LATITUDE', \n",
    "     'risk_group': 'medium', \n",
    "     'r_trt_mos': abi_latitude_median_os[1],\n",
    "     'r_trt_mos_95': latitude_med_rmst_mos_95.mos_A_95,\n",
    "     'r_cont_mos': adt_latitude_median_os[1],\n",
    "     'r_cont_mos_95': latitude_med_rmst_mos_95.mos_B_95,\n",
    "     'r_mos_diff': abi_latitude_median_os[1] - adt_latitude_median_os[1], \n",
    "     'rct_trt_arm': 53.3,\n",
    "     'rct_cont_arm': 36.5,\n",
    "     'rct_mos_diff': 53.3-36.5,\n",
    "     'trt_rmst': restricted_mean_survival_time(kmf_med_abi_latitude_iptw, 60),\n",
    "     'trt_rmst_95': latitude_med_rmst_mos_95.rmst_A_95,\n",
    "     'cont_rmst': restricted_mean_survival_time(kmf_med_adt_latitude_iptw, 60),\n",
    "     'cont_rmst_95': latitude_med_rmst_mos_95.rmst_B_95,\n",
    "     'diff_rmst': restricted_mean_survival_time(kmf_med_abi_latitude_iptw, 60) - restricted_mean_survival_time(kmf_med_adt_latitude_iptw, 60),\n",
    "     'diff_rmst_95': latitude_med_rmst_mos_95.difference_rmst_95,\n",
    "     'rcount': latitude.query('risk_score < @high_cutoff_latitude and risk_score > @low_cutoff_latitude').shape[0]},\n",
    "    \n",
    "    {'trial_name': 'LATITUDE', \n",
    "     'risk_group': 'high', \n",
    "     'r_trt_mos': abi_latitude_median_os[2],\n",
    "     'r_trt_mos_95': latitude_high_rmst_mos_95.mos_A_95,\n",
    "     'r_cont_mos': adt_latitude_median_os[2],\n",
    "     'r_cont_mos_95': latitude_high_rmst_mos_95.mos_B_95,\n",
    "     'r_mos_diff': abi_latitude_median_os[2] - adt_latitude_median_os[2], \n",
    "     'rct_trt_arm': 53.3,\n",
    "     'rct_cont_arm': 36.5,\n",
    "     'rct_mos_diff': 53.3-36.5,\n",
    "     'trt_rmst': restricted_mean_survival_time(kmf_high_abi_latitude_iptw, 60),\n",
    "     'trt_rmst_95': latitude_high_rmst_mos_95.rmst_A_95,\n",
    "     'cont_rmst': restricted_mean_survival_time(kmf_high_adt_latitude_iptw, 60),\n",
    "     'cont_rmst_95': latitude_high_rmst_mos_95.rmst_B_95,\n",
    "     'diff_rmst': restricted_mean_survival_time(kmf_high_abi_latitude_iptw, 60) - restricted_mean_survival_time(kmf_high_adt_latitude_iptw, 60),\n",
    "     'diff_rmst_95': latitude_high_rmst_mos_95.difference_rmst_95,\n",
    "     'rcount': latitude.query('risk_score >= @high_cutoff_latitude').shape[0]},\n",
    "    \n",
    "    {'trial_name': 'LATITUDE', \n",
    "     'risk_group': 'all', \n",
    "     'r_hr': latitude_hr_all.hazard_ratios_['adt_abi'],\n",
    "     'r_hr_95': [latitude_hr_all.summary.loc['adt_abi']['exp(coef) lower 95%'], latitude_hr_all.summary.loc['adt_abi']['exp(coef) upper 95%']],\n",
    "     'r_trt_mos': abi_latitude_median_os[3],\n",
    "     'r_trt_mos_95': latitude_all_rmst_mos_95.mos_A_95,\n",
    "     'r_cont_mos': adt_latitude_median_os[3],\n",
    "     'r_cont_mos_95': latitude_all_rmst_mos_95.mos_B_95,\n",
    "     'r_mos_diff': abi_latitude_median_os[3] - adt_latitude_median_os[3], \n",
    "     'rct_trt_arm': 53.3,\n",
    "     'rct_cont_arm': 36.5,\n",
    "     'rct_mos_diff': 53.3-36.5,\n",
    "     'rcount': latitude.shape[0]}\n",
    "]"
   ]
  },
  {
   "cell_type": "markdown",
   "id": "dcea18e8",
   "metadata": {},
   "source": [
    "## Part 3. Combining dictionaries "
   ]
  },
  {
   "cell_type": "code",
   "execution_count": 203,
   "id": "17c6c43d",
   "metadata": {},
   "outputs": [],
   "source": [
    "data_combined = chaarted_data + latitude_data"
   ]
  },
  {
   "cell_type": "code",
   "execution_count": 204,
   "id": "13aa2eee",
   "metadata": {},
   "outputs": [],
   "source": [
    "rtrials_mos_rmst_boot = pd.DataFrame(data_combined)"
   ]
  },
  {
   "cell_type": "code",
   "execution_count": 205,
   "id": "8f59a718",
   "metadata": {
    "scrolled": false
   },
   "outputs": [
    {
     "data": {
      "text/html": [
       "<div>\n",
       "<style scoped>\n",
       "    .dataframe tbody tr th:only-of-type {\n",
       "        vertical-align: middle;\n",
       "    }\n",
       "\n",
       "    .dataframe tbody tr th {\n",
       "        vertical-align: top;\n",
       "    }\n",
       "\n",
       "    .dataframe thead th {\n",
       "        text-align: right;\n",
       "    }\n",
       "</style>\n",
       "<table border=\"1\" class=\"dataframe\">\n",
       "  <thead>\n",
       "    <tr style=\"text-align: right;\">\n",
       "      <th></th>\n",
       "      <th>trial_name</th>\n",
       "      <th>risk_group</th>\n",
       "      <th>r_trt_mos</th>\n",
       "      <th>r_trt_mos_95</th>\n",
       "      <th>r_cont_mos</th>\n",
       "      <th>r_cont_mos_95</th>\n",
       "      <th>r_mos_diff</th>\n",
       "      <th>rct_trt_arm</th>\n",
       "      <th>rct_cont_arm</th>\n",
       "      <th>rct_mos_diff</th>\n",
       "      <th>trt_rmst</th>\n",
       "      <th>trt_rmst_95</th>\n",
       "      <th>cont_rmst</th>\n",
       "      <th>cont_rmst_95</th>\n",
       "      <th>diff_rmst</th>\n",
       "      <th>diff_rmst_95</th>\n",
       "      <th>rcount</th>\n",
       "      <th>rcount_chemo</th>\n",
       "      <th>r_hr</th>\n",
       "      <th>r_hr_95</th>\n",
       "    </tr>\n",
       "  </thead>\n",
       "  <tbody>\n",
       "    <tr>\n",
       "      <th>0</th>\n",
       "      <td>CHAARTED</td>\n",
       "      <td>low</td>\n",
       "      <td>65.533333</td>\n",
       "      <td>[52.06666666666667, nan]</td>\n",
       "      <td>67.766667</td>\n",
       "      <td>[62.9, 72.50333333333333]</td>\n",
       "      <td>-2.233333</td>\n",
       "      <td>57.6</td>\n",
       "      <td>44.0</td>\n",
       "      <td>13.6</td>\n",
       "      <td>48.762483</td>\n",
       "      <td>[46.36637430409277, 51.44123648669106]</td>\n",
       "      <td>47.947373</td>\n",
       "      <td>[47.01367458370921, 48.841637573746894]</td>\n",
       "      <td>0.815110</td>\n",
       "      <td>[-1.7133924668499652, 3.7823850723352876]</td>\n",
       "      <td>2466</td>\n",
       "      <td>439.0</td>\n",
       "      <td>NaN</td>\n",
       "      <td>NaN</td>\n",
       "    </tr>\n",
       "    <tr>\n",
       "      <th>1</th>\n",
       "      <td>CHAARTED</td>\n",
       "      <td>medium</td>\n",
       "      <td>53.000000</td>\n",
       "      <td>[47.3, 60.56666666666667]</td>\n",
       "      <td>40.700000</td>\n",
       "      <td>[38.8975, 43.266666666666666]</td>\n",
       "      <td>12.300000</td>\n",
       "      <td>57.6</td>\n",
       "      <td>44.0</td>\n",
       "      <td>13.6</td>\n",
       "      <td>45.509112</td>\n",
       "      <td>[43.02830426821335, 47.84254625097214]</td>\n",
       "      <td>39.360818</td>\n",
       "      <td>[38.48587947217297, 40.243256620667594]</td>\n",
       "      <td>6.148293</td>\n",
       "      <td>[3.5359889762915544, 8.595687442455036]</td>\n",
       "      <td>2465</td>\n",
       "      <td>424.0</td>\n",
       "      <td>NaN</td>\n",
       "      <td>NaN</td>\n",
       "    </tr>\n",
       "    <tr>\n",
       "      <th>2</th>\n",
       "      <td>CHAARTED</td>\n",
       "      <td>high</td>\n",
       "      <td>33.433333</td>\n",
       "      <td>[27.698333333333334, 34.96666666666667]</td>\n",
       "      <td>21.700000</td>\n",
       "      <td>[20.5, 23.0]</td>\n",
       "      <td>11.733333</td>\n",
       "      <td>57.6</td>\n",
       "      <td>44.0</td>\n",
       "      <td>13.6</td>\n",
       "      <td>32.323328</td>\n",
       "      <td>[29.232553786560118, 35.328405087399624]</td>\n",
       "      <td>25.673721</td>\n",
       "      <td>[24.823881669633725, 26.506346392947805]</td>\n",
       "      <td>6.649607</td>\n",
       "      <td>[3.4589787840440085, 9.57552550837878]</td>\n",
       "      <td>2466</td>\n",
       "      <td>316.0</td>\n",
       "      <td>NaN</td>\n",
       "      <td>NaN</td>\n",
       "    </tr>\n",
       "    <tr>\n",
       "      <th>3</th>\n",
       "      <td>CHAARTED</td>\n",
       "      <td>all</td>\n",
       "      <td>47.300000</td>\n",
       "      <td>[43.06666666666667, 52.833333333333336]</td>\n",
       "      <td>38.366667</td>\n",
       "      <td>[37.4, 39.83416666666667]</td>\n",
       "      <td>8.933333</td>\n",
       "      <td>57.6</td>\n",
       "      <td>44.0</td>\n",
       "      <td>13.6</td>\n",
       "      <td>NaN</td>\n",
       "      <td>NaN</td>\n",
       "      <td>NaN</td>\n",
       "      <td>NaN</td>\n",
       "      <td>NaN</td>\n",
       "      <td>NaN</td>\n",
       "      <td>7397</td>\n",
       "      <td>1179.0</td>\n",
       "      <td>0.695578</td>\n",
       "      <td>[0.6165419767291266, 0.7847457342339457]</td>\n",
       "    </tr>\n",
       "    <tr>\n",
       "      <th>4</th>\n",
       "      <td>LATITUDE</td>\n",
       "      <td>low</td>\n",
       "      <td>inf</td>\n",
       "      <td>[61.2, nan]</td>\n",
       "      <td>68.166667</td>\n",
       "      <td>[63.46666666666667, 73.76666666666667]</td>\n",
       "      <td>inf</td>\n",
       "      <td>53.3</td>\n",
       "      <td>36.5</td>\n",
       "      <td>16.8</td>\n",
       "      <td>49.873130</td>\n",
       "      <td>[47.08938131560391, 52.35561568220965]</td>\n",
       "      <td>48.129469</td>\n",
       "      <td>[47.33499280246989, 48.92837098077076]</td>\n",
       "      <td>1.743661</td>\n",
       "      <td>[-1.160991118709693, 4.2817279885513955]</td>\n",
       "      <td>2348</td>\n",
       "      <td>NaN</td>\n",
       "      <td>NaN</td>\n",
       "      <td>NaN</td>\n",
       "    </tr>\n",
       "    <tr>\n",
       "      <th>5</th>\n",
       "      <td>LATITUDE</td>\n",
       "      <td>medium</td>\n",
       "      <td>52.566667</td>\n",
       "      <td>[36.666666666666664, nan]</td>\n",
       "      <td>40.666667</td>\n",
       "      <td>[38.666666666666664, 42.568333333333335]</td>\n",
       "      <td>11.900000</td>\n",
       "      <td>53.3</td>\n",
       "      <td>36.5</td>\n",
       "      <td>16.8</td>\n",
       "      <td>42.635478</td>\n",
       "      <td>[38.54489686197694, 46.77611749161571]</td>\n",
       "      <td>39.215615</td>\n",
       "      <td>[38.278809098462595, 40.15652494996081]</td>\n",
       "      <td>3.419863</td>\n",
       "      <td>[-0.7599624274018226, 7.817934220689069]</td>\n",
       "      <td>2347</td>\n",
       "      <td>NaN</td>\n",
       "      <td>NaN</td>\n",
       "      <td>NaN</td>\n",
       "    </tr>\n",
       "    <tr>\n",
       "      <th>6</th>\n",
       "      <td>LATITUDE</td>\n",
       "      <td>high</td>\n",
       "      <td>25.366667</td>\n",
       "      <td>[20.966666666666665, 33.266666666666666]</td>\n",
       "      <td>21.366667</td>\n",
       "      <td>[20.3, 22.866666666666667]</td>\n",
       "      <td>4.000000</td>\n",
       "      <td>53.3</td>\n",
       "      <td>36.5</td>\n",
       "      <td>16.8</td>\n",
       "      <td>28.309201</td>\n",
       "      <td>[24.60896665308205, 32.98613443035465]</td>\n",
       "      <td>25.547877</td>\n",
       "      <td>[24.66364833292573, 26.419947100705937]</td>\n",
       "      <td>2.761324</td>\n",
       "      <td>[-1.2383260582249649, 7.321866510195422]</td>\n",
       "      <td>2348</td>\n",
       "      <td>NaN</td>\n",
       "      <td>NaN</td>\n",
       "      <td>NaN</td>\n",
       "    </tr>\n",
       "    <tr>\n",
       "      <th>7</th>\n",
       "      <td>LATITUDE</td>\n",
       "      <td>all</td>\n",
       "      <td>47.100000</td>\n",
       "      <td>[38.99666666666667, 53.5]</td>\n",
       "      <td>38.466667</td>\n",
       "      <td>[37.4325, 39.80083333333333]</td>\n",
       "      <td>8.633333</td>\n",
       "      <td>53.3</td>\n",
       "      <td>36.5</td>\n",
       "      <td>16.8</td>\n",
       "      <td>NaN</td>\n",
       "      <td>NaN</td>\n",
       "      <td>NaN</td>\n",
       "      <td>NaN</td>\n",
       "      <td>NaN</td>\n",
       "      <td>NaN</td>\n",
       "      <td>7043</td>\n",
       "      <td>NaN</td>\n",
       "      <td>0.834828</td>\n",
       "      <td>[0.717542469696957, 0.9712838181512845]</td>\n",
       "    </tr>\n",
       "  </tbody>\n",
       "</table>\n",
       "</div>"
      ],
      "text/plain": [
       "  trial_name risk_group  r_trt_mos                              r_trt_mos_95  \\\n",
       "0   CHAARTED        low  65.533333                  [52.06666666666667, nan]   \n",
       "1   CHAARTED     medium  53.000000                 [47.3, 60.56666666666667]   \n",
       "2   CHAARTED       high  33.433333   [27.698333333333334, 34.96666666666667]   \n",
       "3   CHAARTED        all  47.300000   [43.06666666666667, 52.833333333333336]   \n",
       "4   LATITUDE        low        inf                               [61.2, nan]   \n",
       "5   LATITUDE     medium  52.566667                 [36.666666666666664, nan]   \n",
       "6   LATITUDE       high  25.366667  [20.966666666666665, 33.266666666666666]   \n",
       "7   LATITUDE        all  47.100000                 [38.99666666666667, 53.5]   \n",
       "\n",
       "   r_cont_mos                             r_cont_mos_95  r_mos_diff  \\\n",
       "0   67.766667                 [62.9, 72.50333333333333]   -2.233333   \n",
       "1   40.700000             [38.8975, 43.266666666666666]   12.300000   \n",
       "2   21.700000                              [20.5, 23.0]   11.733333   \n",
       "3   38.366667                 [37.4, 39.83416666666667]    8.933333   \n",
       "4   68.166667    [63.46666666666667, 73.76666666666667]         inf   \n",
       "5   40.666667  [38.666666666666664, 42.568333333333335]   11.900000   \n",
       "6   21.366667                [20.3, 22.866666666666667]    4.000000   \n",
       "7   38.466667              [37.4325, 39.80083333333333]    8.633333   \n",
       "\n",
       "   rct_trt_arm  rct_cont_arm  rct_mos_diff   trt_rmst  \\\n",
       "0         57.6          44.0          13.6  48.762483   \n",
       "1         57.6          44.0          13.6  45.509112   \n",
       "2         57.6          44.0          13.6  32.323328   \n",
       "3         57.6          44.0          13.6        NaN   \n",
       "4         53.3          36.5          16.8  49.873130   \n",
       "5         53.3          36.5          16.8  42.635478   \n",
       "6         53.3          36.5          16.8  28.309201   \n",
       "7         53.3          36.5          16.8        NaN   \n",
       "\n",
       "                                trt_rmst_95  cont_rmst  \\\n",
       "0    [46.36637430409277, 51.44123648669106]  47.947373   \n",
       "1    [43.02830426821335, 47.84254625097214]  39.360818   \n",
       "2  [29.232553786560118, 35.328405087399624]  25.673721   \n",
       "3                                       NaN        NaN   \n",
       "4    [47.08938131560391, 52.35561568220965]  48.129469   \n",
       "5    [38.54489686197694, 46.77611749161571]  39.215615   \n",
       "6    [24.60896665308205, 32.98613443035465]  25.547877   \n",
       "7                                       NaN        NaN   \n",
       "\n",
       "                               cont_rmst_95  diff_rmst  \\\n",
       "0   [47.01367458370921, 48.841637573746894]   0.815110   \n",
       "1   [38.48587947217297, 40.243256620667594]   6.148293   \n",
       "2  [24.823881669633725, 26.506346392947805]   6.649607   \n",
       "3                                       NaN        NaN   \n",
       "4    [47.33499280246989, 48.92837098077076]   1.743661   \n",
       "5   [38.278809098462595, 40.15652494996081]   3.419863   \n",
       "6   [24.66364833292573, 26.419947100705937]   2.761324   \n",
       "7                                       NaN        NaN   \n",
       "\n",
       "                                diff_rmst_95  rcount  rcount_chemo      r_hr  \\\n",
       "0  [-1.7133924668499652, 3.7823850723352876]    2466         439.0       NaN   \n",
       "1    [3.5359889762915544, 8.595687442455036]    2465         424.0       NaN   \n",
       "2     [3.4589787840440085, 9.57552550837878]    2466         316.0       NaN   \n",
       "3                                        NaN    7397        1179.0  0.695578   \n",
       "4   [-1.160991118709693, 4.2817279885513955]    2348           NaN       NaN   \n",
       "5   [-0.7599624274018226, 7.817934220689069]    2347           NaN       NaN   \n",
       "6   [-1.2383260582249649, 7.321866510195422]    2348           NaN       NaN   \n",
       "7                                        NaN    7043           NaN  0.834828   \n",
       "\n",
       "                                    r_hr_95  \n",
       "0                                       NaN  \n",
       "1                                       NaN  \n",
       "2                                       NaN  \n",
       "3  [0.6165419767291266, 0.7847457342339457]  \n",
       "4                                       NaN  \n",
       "5                                       NaN  \n",
       "6                                       NaN  \n",
       "7   [0.717542469696957, 0.9712838181512845]  "
      ]
     },
     "execution_count": 205,
     "metadata": {},
     "output_type": "execute_result"
    }
   ],
   "source": [
    "rtrials_mos_rmst_boot"
   ]
  },
  {
   "cell_type": "code",
   "execution_count": 206,
   "id": "794e4542",
   "metadata": {},
   "outputs": [],
   "source": [
    "rtrials_mos_rmst_boot.to_csv('rtrials_mos_rmst_boot.csv', index = False)"
   ]
  }
 ],
 "metadata": {
  "kernelspec": {
   "display_name": "My Virtual Environment",
   "language": "python",
   "name": "myenv"
  },
  "language_info": {
   "codemirror_mode": {
    "name": "ipython",
    "version": 3
   },
   "file_extension": ".py",
   "mimetype": "text/x-python",
   "name": "python",
   "nbconvert_exporter": "python",
   "pygments_lexer": "ipython3",
   "version": "3.7.10"
  }
 },
 "nbformat": 4,
 "nbformat_minor": 5
}
