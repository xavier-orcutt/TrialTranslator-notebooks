{
 "cells": [
  {
   "cell_type": "markdown",
   "id": "cda94c68",
   "metadata": {},
   "source": [
    "# Flatiron Health mCRC: Survival metrics for key elgibility criteria\n",
    "**Background: Calculate survival metrics for emulated trials involving patients meeting key elgibliity criteria. Hazard ratio for the full cohort is calculated from a Cox-IPTW model. Restricted mean survival time and median overall survival are calculated for phenotypes using an IPTW-adjusted KM curve.** "
   ]
  },
  {
   "cell_type": "markdown",
   "id": "ff81bbd6",
   "metadata": {},
   "source": [
    "## Part 1: Preprocessing"
   ]
  },
  {
   "cell_type": "markdown",
   "id": "111748b3",
   "metadata": {},
   "source": [
    "### 1.1 Import packages and create necessary functions"
   ]
  },
  {
   "cell_type": "code",
   "execution_count": 1,
   "id": "f697eb76",
   "metadata": {},
   "outputs": [],
   "source": [
    "import numpy as np\n",
    "import pandas as pd\n",
    "\n",
    "from scipy import stats\n",
    "\n",
    "from sksurv.nonparametric import kaplan_meier_estimator\n",
    "from survive import KaplanMeier, SurvivalData\n",
    "\n",
    "from lifelines import KaplanMeierFitter, CoxPHFitter\n",
    "from lifelines.plotting import add_at_risk_counts\n",
    "from lifelines.utils import median_survival_times, restricted_mean_survival_time\n",
    "from lifelines.statistics import logrank_test\n",
    "\n",
    "from sklearn.pipeline import Pipeline\n",
    "from sklearn.impute import SimpleImputer\n",
    "from sklearn.preprocessing import StandardScaler, OneHotEncoder\n",
    "from sklearn.compose import ColumnTransformer \n",
    "from sklearn.linear_model import LogisticRegression\n",
    "from sklearn.utils import resample\n",
    "\n",
    "import warnings"
   ]
  },
  {
   "cell_type": "code",
   "execution_count": 2,
   "id": "18f1ff87",
   "metadata": {},
   "outputs": [],
   "source": [
    "# Function that returns number of rows and count of unique PatientIDs for a dataframe. \n",
    "def row_ID(dataframe):\n",
    "    row = dataframe.shape[0]\n",
    "    ID = dataframe['PatientID'].nunique()\n",
    "    return row, ID"
   ]
  },
  {
   "cell_type": "code",
   "execution_count": 3,
   "id": "df74dd0c",
   "metadata": {},
   "outputs": [],
   "source": [
    "# Find index for value closest to input value. \n",
    "def find_nearest(array, value):\n",
    "    array = np.asarray(array)\n",
    "    idx = (np.abs(array - value)).argmin()\n",
    "    return array[idx]"
   ]
  },
  {
   "cell_type": "code",
   "execution_count": 4,
   "id": "3e9c6bfb",
   "metadata": {},
   "outputs": [],
   "source": [
    "# Calculates median overeall suvival for risk groups. \n",
    "def mos(low, med, high, comp):\n",
    "    low_os = low.median_survival_time_\n",
    "    med_os = med.median_survival_time_\n",
    "    high_os = high.median_survival_time_\n",
    "    comp_os = comp.median_survival_time_\n",
    "    mos = [low_os, med_os, high_os, comp_os]\n",
    "    return (mos)"
   ]
  },
  {
   "cell_type": "code",
   "execution_count": 5,
   "id": "e029784c",
   "metadata": {},
   "outputs": [],
   "source": [
    "def rmst_mos_95ci(df, num_samples, drug, event, items_list, numerical_features, rmst_time):\n",
    "    \n",
    "    \"\"\"\n",
    "    Estimate the 95% confidence interval for RMST and mOS using bootstrap resampling.\n",
    "\n",
    "    Parameters:\n",
    "    - df: DataFrame containing survival data\n",
    "    - num_samples: Number of bootstrap samples\n",
    "    - drug: Treatment indicator variable\n",
    "    - event: Event type ('death' or 'progression')\n",
    "    - items_list: Feature list for IPTW \n",
    "    - numerical_features: List of numerical features\n",
    "    - rmst_time: Time to calculate RMST \n",
    "\n",
    "    Returns:\n",
    "    - mos_A_95: mOS 95% CI for treatment\n",
    "    - mos_B_95: mOS 95% CI for control\n",
    "    - rmst_A_95: RMST 95% CI for treatment\n",
    "    - rmst_B_95: RMST 95% CI for control\n",
    "    - difference_rmst_95: RMST 95% CI for difference between treatment and control \n",
    "    \"\"\"\n",
    "    \n",
    "    np.random.seed(42)\n",
    "    mos_A = []\n",
    "    mos_B = []\n",
    "    rmst_A_list = []\n",
    "    rmst_B_list = []\n",
    "    differences_rmst = []\n",
    "    \n",
    "    # Define variables based on the event type\n",
    "    if event == 'death':\n",
    "        time_column = 'timerisk_treatment'\n",
    "        status_column = 'death_status'\n",
    "        \n",
    "    else:\n",
    "        time_column = 'time_prog_treatment'\n",
    "        status_column = 'pfs_status'\n",
    "        \n",
    "    # Set up preprocessor for logistical regression which will be for IPTW  \n",
    "    numerical_transformer = Pipeline(steps = [\n",
    "        ('imputer', SimpleImputer(strategy = 'median')),\n",
    "        ('std_scaler', StandardScaler())])\n",
    "        \n",
    "    categorical_transformer = OneHotEncoder(handle_unknown = 'ignore')\n",
    "    categorical_features = list(df.select_dtypes(include = ['category']).columns)\n",
    "        \n",
    "    preprocessor = ColumnTransformer(\n",
    "        transformers = [\n",
    "            ('num', numerical_transformer, numerical_features),\n",
    "            ('cat', categorical_transformer, categorical_features)],\n",
    "        remainder = 'passthrough')\n",
    "    \n",
    "    # Boostrap HR \n",
    "    for _ in range(num_samples):\n",
    "        \n",
    "        # Resample data with replacement\n",
    "        resampled_df = resample(df).drop(columns = ['ps', 'weight'])\n",
    "        \n",
    "        # Calculated IPTW for the resampled group \n",
    "        df_x = preprocessor.fit_transform(resampled_df.filter(items = items_list))\n",
    "                                           \n",
    "        df_lr = LogisticRegression(max_iter = 1000)\n",
    "        df_lr.fit(df_x, resampled_df[drug])\n",
    "        warnings.filterwarnings(\"ignore\")\n",
    "                                           \n",
    "        pred = df_lr.predict_proba(df_x)        \n",
    "        resampled_df['ps'] = pred[:, 1]                          \n",
    "        resampled_df['weight'] = (\n",
    "                np.where(resampled_df[drug] == 1, 1/resampled_df['ps'], 1/(1 - resampled_df['ps'])))\n",
    "    \n",
    "        # mOS from IPTW-KM\n",
    "        kmf_A = KaplanMeierFitter()\n",
    "        kmf_A.fit(resampled_df.query(f'{drug} == 1')[time_column]/30,\n",
    "                  resampled_df.query(f'{drug} == 1')[status_column], \n",
    "                  weights = resampled_df.query(f'{drug} == 1')['weight'])\n",
    "\n",
    "        kmf_B = KaplanMeierFitter()\n",
    "        kmf_B.fit(resampled_df.query(f'{drug} == 0')[time_column]/30,\n",
    "                  resampled_df.query(f'{drug} == 0')[status_column], \n",
    "                  weights = resampled_df.query(f'{drug} == 0')['weight'])\n",
    "    \n",
    "        mos_A.append(kmf_A.median_survival_time_)\n",
    "        mos_B.append(kmf_B.median_survival_time_)\n",
    "        \n",
    "        # RMST from IPTW-KM\n",
    "        rmst_A = restricted_mean_survival_time(kmf_A, rmst_time)\n",
    "        rmst_B = restricted_mean_survival_time(kmf_B, rmst_time)\n",
    "        \n",
    "        rmst_A_list.append(rmst_A)\n",
    "        rmst_B_list.append(rmst_B)\n",
    "        differences_rmst.append(rmst_A - rmst_B)\n",
    "\n",
    "    # Calculate the 95% confidence interval\n",
    "    results = pd.Series({\n",
    "    'mos_A_95': np.percentile(mos_A, [2.5, 97.5]),\n",
    "    'mos_B_95': np.percentile(mos_B, [2.5, 97.5]),\n",
    "    'rmst_A_95': np.percentile(rmst_A_list, [2.5, 97.5]),\n",
    "    'rmst_B_95': np.percentile(rmst_B_list, [2.5, 97.5]),\n",
    "    'difference_rmst_95': np.percentile(differences_rmst, [2.5, 97.5])\n",
    "    })\n",
    "    \n",
    "    return results"
   ]
  },
  {
   "cell_type": "markdown",
   "id": "8d7fdb9f",
   "metadata": {},
   "source": [
    "## Part 2: In silico trials "
   ]
  },
  {
   "cell_type": "markdown",
   "id": "51bd3548",
   "metadata": {},
   "source": [
    "### FIRE-3: FOLFIRI plus cetuximab vs. FOLFIRI plus bevacizumab in KRAS wild-type \n",
    "\n",
    "**INCLUSION**\n",
    "* Untreated metastatic colorectal cancer\n",
    "* First-line recepit of FOLFIRI/FOLFOX plus cetuximab or FOLFIRI/FOLFOX plus bevacizumab\n",
    "* KRAS wild-type "
   ]
  },
  {
   "cell_type": "markdown",
   "id": "05e50299",
   "metadata": {},
   "source": [
    "#### FOLFIRI plus Cetuximab"
   ]
  },
  {
   "cell_type": "code",
   "execution_count": 6,
   "id": "4da591f8",
   "metadata": {},
   "outputs": [
    {
     "data": {
      "text/plain": [
       "34315"
      ]
     },
     "execution_count": 6,
     "metadata": {},
     "output_type": "execute_result"
    }
   ],
   "source": [
    "df_full = pd.read_csv('df_risk_crude.csv', index_col = 'PatientID', dtype = {'death_status': bool})\n",
    "df_full.index.nunique()"
   ]
  },
  {
   "cell_type": "code",
   "execution_count": 7,
   "id": "1c85c083",
   "metadata": {},
   "outputs": [],
   "source": [
    "line_therapy = pd.read_csv('LineOfTherapy.csv')"
   ]
  },
  {
   "cell_type": "code",
   "execution_count": 8,
   "id": "545b1d96",
   "metadata": {},
   "outputs": [],
   "source": [
    "line_therapy_fl = (\n",
    "    line_therapy[line_therapy['PatientID'].isin(df_full.index)]\n",
    "    .query('LineNumber == 1')\n",
    "    .query('IsMaintenanceTherapy == False'))"
   ]
  },
  {
   "cell_type": "code",
   "execution_count": 9,
   "id": "128e0909",
   "metadata": {},
   "outputs": [
    {
     "data": {
      "text/plain": [
       "FOLFOX,Bevacizumab            6338\n",
       "FOLFOX                        4140\n",
       "FOLFOX,Bevacizumab-Awwb       1356\n",
       "FOLFOX,Bevacizumab-Bvzr        462\n",
       "FOLFOX,Panitumumab             456\n",
       "FOLFIRI,Cetuximab              364\n",
       "FOLFOXIRI                      253\n",
       "FOLFOX,Cetuximab               245\n",
       "FOLFOXIRI,Bevacizumab          228\n",
       "FOLFOXIRI,Bevacizumab-Awwb     140\n",
       "Name: LineName, dtype: int64"
      ]
     },
     "execution_count": 9,
     "metadata": {},
     "output_type": "execute_result"
    }
   ],
   "source": [
    "line_therapy_fl[line_therapy_fl['LineName'].str.contains('FOLFOX|Cetuximab')].LineName.value_counts().head(10)"
   ]
  },
  {
   "cell_type": "code",
   "execution_count": 10,
   "id": "20fb731c",
   "metadata": {},
   "outputs": [
    {
     "data": {
      "text/plain": [
       "FOLFIRI,Bevacizumab         2240\n",
       "FOLFIRI                      914\n",
       "FOLFIRI,Bevacizumab-Awwb     557\n",
       "FOLFIRI,Cetuximab            364\n",
       "FOLFIRI,Panitumumab          261\n",
       "FOLFOX,Cetuximab             245\n",
       "FOLFIRI,Bevacizumab-Bvzr     165\n",
       "Irinotecan,Cetuximab          90\n",
       "Cetuximab                     70\n",
       "FOLFIRI,Ziv-Aflibercept       56\n",
       "Name: LineName, dtype: int64"
      ]
     },
     "execution_count": 10,
     "metadata": {},
     "output_type": "execute_result"
    }
   ],
   "source": [
    "line_therapy_fl[line_therapy_fl['LineName'].str.contains('FOLFIRI|Cetuximab')].LineName.value_counts().head(10)"
   ]
  },
  {
   "cell_type": "code",
   "execution_count": 11,
   "id": "78a49f5f",
   "metadata": {},
   "outputs": [],
   "source": [
    "fxi_cet = (\n",
    "    line_therapy_fl\n",
    "    .query('LineName == \"FOLFIRI,Cetuximab\" or LineName == \"FOLFOX,Cetuximab\"')\n",
    "    [['PatientID', 'StartDate']]\n",
    ")"
   ]
  },
  {
   "cell_type": "code",
   "execution_count": 12,
   "id": "192bf5b3",
   "metadata": {},
   "outputs": [],
   "source": [
    "fxi_cet.loc[:,'fxi_cet'] = 1"
   ]
  },
  {
   "cell_type": "code",
   "execution_count": 13,
   "id": "76e0990f",
   "metadata": {},
   "outputs": [
    {
     "data": {
      "text/plain": [
       "(609, 568)"
      ]
     },
     "execution_count": 13,
     "metadata": {},
     "output_type": "execute_result"
    }
   ],
   "source": [
    "row_ID(fxi_cet)"
   ]
  },
  {
   "cell_type": "code",
   "execution_count": 14,
   "id": "69e1370d",
   "metadata": {},
   "outputs": [],
   "source": [
    "fxi_cet['StartDate'] = pd.to_datetime(fxi_cet['StartDate'])"
   ]
  },
  {
   "cell_type": "code",
   "execution_count": 15,
   "id": "6b42b2ac",
   "metadata": {},
   "outputs": [],
   "source": [
    "fxi_cet = (\n",
    "    fxi_cet\n",
    "    .sort_values(['PatientID', 'StartDate'], ascending = [True, True])\n",
    "    .drop_duplicates(subset = 'PatientID', keep = 'first')\n",
    ")"
   ]
  },
  {
   "cell_type": "code",
   "execution_count": 16,
   "id": "9b71c0b0",
   "metadata": {},
   "outputs": [
    {
     "data": {
      "text/plain": [
       "(568, 568)"
      ]
     },
     "execution_count": 16,
     "metadata": {},
     "output_type": "execute_result"
    }
   ],
   "source": [
    "row_ID(fxi_cet)"
   ]
  },
  {
   "cell_type": "markdown",
   "id": "dc49f1d8",
   "metadata": {},
   "source": [
    "#### FOLFIRI plus Bevacizumab"
   ]
  },
  {
   "cell_type": "code",
   "execution_count": 17,
   "id": "cd14751f",
   "metadata": {},
   "outputs": [
    {
     "data": {
      "text/plain": [
       "FOLFOX,Bevacizumab                     6338\n",
       "FOLFIRI,Bevacizumab                    2240\n",
       "FOLFOX,Bevacizumab-Awwb                1356\n",
       "FOLFIRI                                 914\n",
       "CAPEOX,Bevacizumab                      764\n",
       "FOLFIRI,Bevacizumab-Awwb                557\n",
       "FOLFOX,Bevacizumab-Bvzr                 462\n",
       "Fluorouracil,Leucovorin,Bevacizumab     423\n",
       "Capecitabine,Bevacizumab                405\n",
       "FOLFIRI,Cetuximab                       364\n",
       "Name: LineName, dtype: int64"
      ]
     },
     "execution_count": 17,
     "metadata": {},
     "output_type": "execute_result"
    }
   ],
   "source": [
    "line_therapy_fl[line_therapy_fl['LineName'].str.contains('FOLFIRI|Bevacizumab')].LineName.value_counts().head(10)"
   ]
  },
  {
   "cell_type": "code",
   "execution_count": 18,
   "id": "40c139d4",
   "metadata": {},
   "outputs": [
    {
     "data": {
      "text/plain": [
       "FOLFOX,Bevacizumab                     6338\n",
       "FOLFOX                                 4140\n",
       "FOLFIRI,Bevacizumab                    2240\n",
       "FOLFOX,Bevacizumab-Awwb                1356\n",
       "CAPEOX,Bevacizumab                      764\n",
       "FOLFIRI,Bevacizumab-Awwb                557\n",
       "FOLFOX,Bevacizumab-Bvzr                 462\n",
       "FOLFOX,Panitumumab                      456\n",
       "Fluorouracil,Leucovorin,Bevacizumab     423\n",
       "Capecitabine,Bevacizumab                405\n",
       "Name: LineName, dtype: int64"
      ]
     },
     "execution_count": 18,
     "metadata": {},
     "output_type": "execute_result"
    }
   ],
   "source": [
    "line_therapy_fl[line_therapy_fl['LineName'].str.contains('FOLFOX|Bevacizumab')].LineName.value_counts().head(10)"
   ]
  },
  {
   "cell_type": "code",
   "execution_count": 19,
   "id": "e6ccf1f9",
   "metadata": {},
   "outputs": [],
   "source": [
    "fxi_bev_comb = [\n",
    "    'FOLFIRI,Bevacizumab',\n",
    "    'FOLFIRI,Bevacizumab-Awwb',\n",
    "    'FOLFIRI,Bevacizumab-Bvzr',\n",
    "    'FOLFOX,Bevacizumab',\n",
    "    'FOLFOX,Bevacizumab-Awwb',\n",
    "    'FOLFOX,Bevacizumab-Bvzr'\n",
    "]\n",
    "\n",
    "fxi_bev = (\n",
    "    line_therapy_fl\n",
    "    .query('LineName == @fxi_bev_comb')\n",
    "    [['PatientID', 'StartDate']]\n",
    ")"
   ]
  },
  {
   "cell_type": "code",
   "execution_count": 20,
   "id": "93e03b21",
   "metadata": {},
   "outputs": [],
   "source": [
    "fxi_bev.loc[:,'fxi_cet'] = 0"
   ]
  },
  {
   "cell_type": "code",
   "execution_count": 21,
   "id": "2472b2a5",
   "metadata": {},
   "outputs": [
    {
     "data": {
      "text/plain": [
       "(11118, 10785)"
      ]
     },
     "execution_count": 21,
     "metadata": {},
     "output_type": "execute_result"
    }
   ],
   "source": [
    "row_ID(fxi_bev)"
   ]
  },
  {
   "cell_type": "code",
   "execution_count": 22,
   "id": "22b5ad86",
   "metadata": {},
   "outputs": [],
   "source": [
    "fxi_bev['StartDate'] = pd.to_datetime(fxi_bev['StartDate'])"
   ]
  },
  {
   "cell_type": "code",
   "execution_count": 23,
   "id": "5f1a54da",
   "metadata": {},
   "outputs": [],
   "source": [
    "fxi_bev = (\n",
    "    fxi_bev\n",
    "    .sort_values(['PatientID', 'StartDate'], ascending = [True, True])\n",
    "    .drop_duplicates(subset = 'PatientID', keep = 'first')\n",
    ")"
   ]
  },
  {
   "cell_type": "code",
   "execution_count": 24,
   "id": "374a3d11",
   "metadata": {},
   "outputs": [
    {
     "data": {
      "text/plain": [
       "(10785, 10785)"
      ]
     },
     "execution_count": 24,
     "metadata": {},
     "output_type": "execute_result"
    }
   ],
   "source": [
    "row_ID(fxi_bev)"
   ]
  },
  {
   "cell_type": "code",
   "execution_count": 25,
   "id": "03230371",
   "metadata": {},
   "outputs": [],
   "source": [
    "fire = pd.concat([fxi_cet, fxi_bev])"
   ]
  },
  {
   "cell_type": "code",
   "execution_count": 26,
   "id": "6fcbacb5",
   "metadata": {},
   "outputs": [
    {
     "data": {
      "text/plain": [
       "(11353, 11353)"
      ]
     },
     "execution_count": 26,
     "metadata": {},
     "output_type": "execute_result"
    }
   ],
   "source": [
    "row_ID(fire)"
   ]
  },
  {
   "cell_type": "code",
   "execution_count": 27,
   "id": "29e795a2",
   "metadata": {},
   "outputs": [],
   "source": [
    "fire = pd.merge(fire, df_full, on = 'PatientID', how = 'left')"
   ]
  },
  {
   "cell_type": "code",
   "execution_count": 28,
   "id": "688a3732",
   "metadata": {},
   "outputs": [
    {
     "data": {
      "text/plain": [
       "(11353, 11353)"
      ]
     },
     "execution_count": 28,
     "metadata": {},
     "output_type": "execute_result"
    }
   ],
   "source": [
    "row_ID(fire)"
   ]
  },
  {
   "cell_type": "markdown",
   "id": "a26845db",
   "metadata": {},
   "source": [
    "#### KRAS wild type "
   ]
  },
  {
   "cell_type": "code",
   "execution_count": 29,
   "id": "a7c3b9be",
   "metadata": {},
   "outputs": [],
   "source": [
    "biomarkers = pd.read_csv('Enhanced_MetCRCBiomarkers.csv')"
   ]
  },
  {
   "cell_type": "code",
   "execution_count": 30,
   "id": "9ab1b811",
   "metadata": {},
   "outputs": [],
   "source": [
    "biomarkers = biomarkers[biomarkers['PatientID'].isin(fire['PatientID'])]"
   ]
  },
  {
   "cell_type": "code",
   "execution_count": 31,
   "id": "512a994c",
   "metadata": {},
   "outputs": [
    {
     "data": {
      "text/plain": [
       "(46879, 10576)"
      ]
     },
     "execution_count": 31,
     "metadata": {},
     "output_type": "execute_result"
    }
   ],
   "source": [
    "row_ID(biomarkers)"
   ]
  },
  {
   "cell_type": "code",
   "execution_count": 32,
   "id": "7b6caabc",
   "metadata": {},
   "outputs": [],
   "source": [
    "biomarkers = pd.merge(biomarkers, fire[['PatientID', 'StartDate']], on = 'PatientID', how = 'left')"
   ]
  },
  {
   "cell_type": "code",
   "execution_count": 33,
   "id": "c8e33113",
   "metadata": {},
   "outputs": [
    {
     "data": {
      "text/plain": [
       "(46879, 10576)"
      ]
     },
     "execution_count": 33,
     "metadata": {},
     "output_type": "execute_result"
    }
   ],
   "source": [
    "row_ID(biomarkers)"
   ]
  },
  {
   "cell_type": "code",
   "execution_count": 34,
   "id": "af624822",
   "metadata": {},
   "outputs": [],
   "source": [
    "biomarkers['ResultDate'] = pd.to_datetime(biomarkers['ResultDate'])"
   ]
  },
  {
   "cell_type": "code",
   "execution_count": 35,
   "id": "7e274291",
   "metadata": {},
   "outputs": [],
   "source": [
    "biomarkers['SpecimenReceivedDate'] = pd.to_datetime(biomarkers['SpecimenReceivedDate'])"
   ]
  },
  {
   "cell_type": "code",
   "execution_count": 36,
   "id": "4020f1ec",
   "metadata": {},
   "outputs": [],
   "source": [
    "biomarkers.loc[:, 'result_date'] = (\n",
    "    np.where(biomarkers['ResultDate'].isna(), biomarkers['SpecimenReceivedDate'], biomarkers['ResultDate'])\n",
    ")"
   ]
  },
  {
   "cell_type": "code",
   "execution_count": 37,
   "id": "e13f9743",
   "metadata": {},
   "outputs": [],
   "source": [
    "biomarkers.loc[:, 'date_diff'] = (biomarkers['result_date'] - biomarkers['StartDate']).dt.days"
   ]
  },
  {
   "cell_type": "code",
   "execution_count": 38,
   "id": "0ae62d3f",
   "metadata": {},
   "outputs": [],
   "source": [
    "kras = (\n",
    "    biomarkers\n",
    "    .query('BiomarkerName == \"KRAS\"')\n",
    "    .query('date_diff <=30')\n",
    "    .query('BiomarkerStatus == \"Mutation negative\"')\n",
    "    [['PatientID', 'BiomarkerStatus']]\n",
    "    .rename(columns = {'BiomarkerStatus': 'kras_n'})\n",
    "    .drop_duplicates(subset = 'PatientID', keep = 'first')\n",
    ")"
   ]
  },
  {
   "cell_type": "code",
   "execution_count": 39,
   "id": "1185cc72",
   "metadata": {},
   "outputs": [
    {
     "data": {
      "text/plain": [
       "(3645, 3645)"
      ]
     },
     "execution_count": 39,
     "metadata": {},
     "output_type": "execute_result"
    }
   ],
   "source": [
    "row_ID(kras)"
   ]
  },
  {
   "cell_type": "code",
   "execution_count": 40,
   "id": "61c66fb0",
   "metadata": {},
   "outputs": [],
   "source": [
    "fire = pd.merge(fire, kras, on  = 'PatientID', how = 'left')"
   ]
  },
  {
   "cell_type": "code",
   "execution_count": 41,
   "id": "f98333d1",
   "metadata": {},
   "outputs": [
    {
     "data": {
      "text/plain": [
       "(11353, 11353)"
      ]
     },
     "execution_count": 41,
     "metadata": {},
     "output_type": "execute_result"
    }
   ],
   "source": [
    "row_ID(fire)"
   ]
  },
  {
   "cell_type": "markdown",
   "id": "9ef4b6e7",
   "metadata": {},
   "source": [
    "#### Time from treatment to death or censor "
   ]
  },
  {
   "cell_type": "code",
   "execution_count": 42,
   "id": "2f1a6a17",
   "metadata": {},
   "outputs": [],
   "source": [
    "mortality_tr = pd.read_csv('mortality_cleaned_tr.csv')"
   ]
  },
  {
   "cell_type": "code",
   "execution_count": 43,
   "id": "041128ed",
   "metadata": {},
   "outputs": [],
   "source": [
    "mortality_te = pd.read_csv('mortality_cleaned_te.csv')"
   ]
  },
  {
   "cell_type": "code",
   "execution_count": 44,
   "id": "74247afc",
   "metadata": {},
   "outputs": [],
   "source": [
    "mortality_tr = mortality_tr[['PatientID', 'death_date', 'last_activity']]"
   ]
  },
  {
   "cell_type": "code",
   "execution_count": 45,
   "id": "6a73f7e6",
   "metadata": {},
   "outputs": [],
   "source": [
    "mortality_te = mortality_te[['PatientID', 'death_date', 'last_activity']]"
   ]
  },
  {
   "cell_type": "code",
   "execution_count": 46,
   "id": "72778ec9",
   "metadata": {},
   "outputs": [
    {
     "name": "stdout",
     "output_type": "stream",
     "text": [
      "34315 True\n"
     ]
    }
   ],
   "source": [
    "mortality = pd.concat([mortality_tr, mortality_te], ignore_index = True)\n",
    "print(len(mortality), mortality.PatientID.is_unique)"
   ]
  },
  {
   "cell_type": "code",
   "execution_count": 47,
   "id": "f7caaf67",
   "metadata": {},
   "outputs": [],
   "source": [
    "mortality.loc[:, 'last_activity'] = pd.to_datetime(mortality['last_activity'])"
   ]
  },
  {
   "cell_type": "code",
   "execution_count": 48,
   "id": "210ca4e0",
   "metadata": {},
   "outputs": [],
   "source": [
    "mortality.loc[:, 'death_date'] = pd.to_datetime(mortality['death_date'])"
   ]
  },
  {
   "cell_type": "code",
   "execution_count": 49,
   "id": "048429a7",
   "metadata": {},
   "outputs": [
    {
     "data": {
      "text/plain": [
       "34315"
      ]
     },
     "execution_count": 49,
     "metadata": {},
     "output_type": "execute_result"
    }
   ],
   "source": [
    "len(mortality)"
   ]
  },
  {
   "cell_type": "code",
   "execution_count": 50,
   "id": "1c8dc0ab",
   "metadata": {},
   "outputs": [],
   "source": [
    "fire = pd.merge(fire, mortality, on = 'PatientID', how = 'left')"
   ]
  },
  {
   "cell_type": "code",
   "execution_count": 51,
   "id": "85b2bd29",
   "metadata": {},
   "outputs": [
    {
     "data": {
      "text/plain": [
       "11353"
      ]
     },
     "execution_count": 51,
     "metadata": {},
     "output_type": "execute_result"
    }
   ],
   "source": [
    "len(fire)"
   ]
  },
  {
   "cell_type": "code",
   "execution_count": 52,
   "id": "b3466d3d",
   "metadata": {},
   "outputs": [],
   "source": [
    "conditions = [\n",
    "    (fire['death_status'] == 1),\n",
    "    (fire['death_status'] == 0)]\n",
    "\n",
    "choices = [\n",
    "    (fire['death_date'] - fire['StartDate']).dt.days,\n",
    "    (fire['last_activity'] - fire['StartDate']).dt.days]\n",
    "\n",
    "fire.loc[:, 'timerisk_treatment'] = np.select(conditions, choices)"
   ]
  },
  {
   "cell_type": "code",
   "execution_count": 53,
   "id": "2b20db89",
   "metadata": {},
   "outputs": [],
   "source": [
    "fire = fire.query('timerisk_treatment >= 0')"
   ]
  },
  {
   "cell_type": "code",
   "execution_count": 54,
   "id": "82ff6cd8",
   "metadata": {},
   "outputs": [
    {
     "data": {
      "text/plain": [
       "(11343, 11343)"
      ]
     },
     "execution_count": 54,
     "metadata": {},
     "output_type": "execute_result"
    }
   ],
   "source": [
    "row_ID(fire)"
   ]
  },
  {
   "cell_type": "markdown",
   "id": "27b637ad",
   "metadata": {},
   "source": [
    "#### Patient count "
   ]
  },
  {
   "cell_type": "code",
   "execution_count": 55,
   "id": "7bd97102",
   "metadata": {},
   "outputs": [],
   "source": [
    "fire = (\n",
    "    fire\n",
    "    .query('kras_n == \"Mutation negative\"')\n",
    ")"
   ]
  },
  {
   "cell_type": "code",
   "execution_count": 56,
   "id": "f8a5760d",
   "metadata": {},
   "outputs": [],
   "source": [
    "low_cutoff_fire = fire.risk_score.quantile(1/3)"
   ]
  },
  {
   "cell_type": "code",
   "execution_count": 57,
   "id": "0c1f4913",
   "metadata": {},
   "outputs": [],
   "source": [
    "high_cutoff_fire = fire.risk_score.quantile(2/3)"
   ]
  },
  {
   "cell_type": "code",
   "execution_count": 58,
   "id": "a8709e49",
   "metadata": {},
   "outputs": [
    {
     "name": "stdout",
     "output_type": "stream",
     "text": [
      "FOLFIRI + Cetuximab total: 499\n",
      "High risk: 139\n",
      "Med risk: 186\n",
      "Low risk: 174\n"
     ]
    }
   ],
   "source": [
    "print('FOLFIRI + Cetuximab total:',  fire.query('fxi_cet == 1').shape[0])\n",
    "print('High risk:', fire.query('fxi_cet == 1').query('risk_score >= @high_cutoff_fire').shape[0])\n",
    "print('Med risk:', fire.query('fxi_cet == 1').query('risk_score < @high_cutoff_fire and risk_score > @low_cutoff_fire').shape[0])\n",
    "print('Low risk:', fire.query('fxi_cet == 1').query('risk_score <= @low_cutoff_fire').shape[0])"
   ]
  },
  {
   "cell_type": "code",
   "execution_count": 59,
   "id": "d55a8f03",
   "metadata": {},
   "outputs": [
    {
     "name": "stdout",
     "output_type": "stream",
     "text": [
      "FOLFIRI + Bevacizumab: 3142\n",
      "High risk: 1075\n",
      "Med risk: 1027\n",
      "Low risk: 1040\n"
     ]
    }
   ],
   "source": [
    "print('FOLFIRI + Bevacizumab:',  fire.query('fxi_cet == 0').shape[0])\n",
    "print('High risk:', fire.query('fxi_cet == 0').query('risk_score >= @high_cutoff_fire').shape[0])\n",
    "print('Med risk:', fire.query('fxi_cet == 0').query('risk_score < @high_cutoff_fire and risk_score > @low_cutoff_fire').shape[0])\n",
    "print('Low risk:', fire.query('fxi_cet == 0').query('risk_score <= @low_cutoff_fire').shape[0])"
   ]
  },
  {
   "cell_type": "markdown",
   "id": "65b56336",
   "metadata": {},
   "source": [
    "#### Survival curves with covariate balancing "
   ]
  },
  {
   "cell_type": "code",
   "execution_count": 60,
   "id": "7e91443e",
   "metadata": {},
   "outputs": [],
   "source": [
    "fire = fire.set_index('PatientID')"
   ]
  },
  {
   "cell_type": "code",
   "execution_count": 61,
   "id": "6bc69d6c",
   "metadata": {},
   "outputs": [],
   "source": [
    "fire['met_cat'] = pd.cut(fire['met_year'],\n",
    "                         bins = [2010, 2015, float('inf')],\n",
    "                         labels = ['11-15', '16-22'])"
   ]
  },
  {
   "cell_type": "code",
   "execution_count": 62,
   "id": "a71bee81",
   "metadata": {},
   "outputs": [],
   "source": [
    "conditions = [\n",
    "    ((fire['ecog_diagnosis'] == \"1.0\") | (fire['ecog_diagnosis'] == \"0.0\")),  \n",
    "    ((fire['ecog_diagnosis'] == \"2.0\") | (fire['ecog_diagnosis'] == \"3.0\"))\n",
    "]\n",
    "\n",
    "choices = ['lt_2', 'gte_2']\n",
    "\n",
    "fire['ecog_2'] = np.select(conditions, choices, default = 'unknown')"
   ]
  },
  {
   "cell_type": "code",
   "execution_count": 63,
   "id": "639a955e",
   "metadata": {},
   "outputs": [],
   "source": [
    "fire_iptw = fire.filter(items = ['death_status',\n",
    "                                 'timerisk_treatment',\n",
    "                                 'fxi_cet',\n",
    "                                 'age',\n",
    "                                 'gender',\n",
    "                                 'race',\n",
    "                                 'p_type',\n",
    "                                 'crc_site',\n",
    "                                 'met_cat',\n",
    "                                 'delta_met_diagnosis',\n",
    "                                 'commercial',\n",
    "                                 'medicare',\n",
    "                                 'medicaid',\n",
    "                                 'ecog_2', \n",
    "                                 'ses',\n",
    "                                 'albumin_diag',\n",
    "                                 'weight_pct_change',\n",
    "                                 'risk_score'])"
   ]
  },
  {
   "cell_type": "code",
   "execution_count": 64,
   "id": "f858886d",
   "metadata": {},
   "outputs": [
    {
     "data": {
      "text/plain": [
       "death_status               bool\n",
       "timerisk_treatment      float64\n",
       "fxi_cet                   int64\n",
       "age                       int64\n",
       "gender                   object\n",
       "race                     object\n",
       "p_type                   object\n",
       "crc_site                 object\n",
       "met_cat                category\n",
       "delta_met_diagnosis       int64\n",
       "commercial              float64\n",
       "medicare                float64\n",
       "medicaid                float64\n",
       "ecog_2                   object\n",
       "ses                     float64\n",
       "albumin_diag            float64\n",
       "weight_pct_change       float64\n",
       "risk_score              float64\n",
       "dtype: object"
      ]
     },
     "execution_count": 64,
     "metadata": {},
     "output_type": "execute_result"
    }
   ],
   "source": [
    "fire_iptw.dtypes"
   ]
  },
  {
   "cell_type": "code",
   "execution_count": 65,
   "id": "8041dae0",
   "metadata": {},
   "outputs": [],
   "source": [
    "to_be_categorical = list(fire_iptw.select_dtypes(include = ['object']).columns)"
   ]
  },
  {
   "cell_type": "code",
   "execution_count": 66,
   "id": "b808c0c9",
   "metadata": {},
   "outputs": [
    {
     "data": {
      "text/plain": [
       "['gender', 'race', 'p_type', 'crc_site', 'ecog_2']"
      ]
     },
     "execution_count": 66,
     "metadata": {},
     "output_type": "execute_result"
    }
   ],
   "source": [
    "to_be_categorical"
   ]
  },
  {
   "cell_type": "code",
   "execution_count": 67,
   "id": "709667f4",
   "metadata": {},
   "outputs": [],
   "source": [
    "to_be_categorical.append('met_cat')"
   ]
  },
  {
   "cell_type": "code",
   "execution_count": 68,
   "id": "f4f156d1",
   "metadata": {},
   "outputs": [],
   "source": [
    "to_be_categorical.append('ses')"
   ]
  },
  {
   "cell_type": "code",
   "execution_count": 69,
   "id": "d2df4a00",
   "metadata": {},
   "outputs": [],
   "source": [
    "# Convert variables in list to categorical.\n",
    "for x in list(to_be_categorical):\n",
    "    fire_iptw[x] = fire_iptw[x].astype('category')"
   ]
  },
  {
   "cell_type": "code",
   "execution_count": 70,
   "id": "6b6b28e6",
   "metadata": {},
   "outputs": [],
   "source": [
    "# List of numeric variables, excluding binary variables. \n",
    "numerical_features = ['age', 'delta_met_diagnosis', 'albumin_diag', 'weight_pct_change', 'risk_score']\n",
    "\n",
    "# Transformer will first calculate column median and impute, and then apply a standard scaler. \n",
    "numerical_transformer = Pipeline(steps = [\n",
    "    ('imputer', SimpleImputer(strategy = 'median')),\n",
    "    ('std_scaler', StandardScaler())])"
   ]
  },
  {
   "cell_type": "code",
   "execution_count": 71,
   "id": "82fc43e8",
   "metadata": {},
   "outputs": [],
   "source": [
    "# List of categorical features.\n",
    "categorical_features = list(fire_iptw.select_dtypes(include = ['category']).columns)\n",
    "\n",
    "# One-hot-encode categorical features.\n",
    "categorical_transformer = OneHotEncoder(handle_unknown = 'ignore')"
   ]
  },
  {
   "cell_type": "code",
   "execution_count": 72,
   "id": "f22ff22d",
   "metadata": {},
   "outputs": [],
   "source": [
    "preprocessor = ColumnTransformer(\n",
    "    transformers = [\n",
    "        ('num', numerical_transformer, numerical_features),\n",
    "        ('cat', categorical_transformer, categorical_features)],\n",
    "    remainder = 'passthrough')"
   ]
  },
  {
   "cell_type": "code",
   "execution_count": 73,
   "id": "e6e5ab4b",
   "metadata": {},
   "outputs": [],
   "source": [
    "fire_iptw_low = (\n",
    "    fire_iptw\n",
    "    .query('risk_score <= @low_cutoff_fire'))\n",
    "\n",
    "fire_iptw_med = (\n",
    "    fire_iptw\n",
    "    .query('risk_score < @high_cutoff_fire and risk_score > @low_cutoff_fire'))\n",
    "\n",
    "fire_iptw_high = (\n",
    "    fire_iptw\n",
    "    .query('risk_score >= @high_cutoff_fire'))\n",
    "\n",
    "fire_iptw_all = fire_iptw"
   ]
  },
  {
   "cell_type": "code",
   "execution_count": 74,
   "id": "40a7fb23",
   "metadata": {},
   "outputs": [],
   "source": [
    "fire_low_x = preprocessor.fit_transform(fire_iptw_low.filter(items = ['age',\n",
    "                                                                      'gender',\n",
    "                                                                      'race',\n",
    "                                                                      'p_type',\n",
    "                                                                      'crc_site',\n",
    "                                                                      'met_cat',\n",
    "                                                                      'delta_met_diagnosis',\n",
    "                                                                      'commercial',\n",
    "                                                                      'medicare',\n",
    "                                                                      'medicaid',\n",
    "                                                                      'ecog_2', \n",
    "                                                                      'ses', \n",
    "                                                                      'albumin_diag', \n",
    "                                                                      'weight_pct_change',\n",
    "                                                                      'risk_score']))\n",
    "\n",
    "fire_med_x = preprocessor.fit_transform(fire_iptw_med.filter(items = ['age',\n",
    "                                                                      'gender',\n",
    "                                                                      'race',\n",
    "                                                                      'p_type',\n",
    "                                                                      'crc_site',\n",
    "                                                                      'met_cat',\n",
    "                                                                      'delta_met_diagnosis',\n",
    "                                                                      'commercial',\n",
    "                                                                      'medicare',\n",
    "                                                                      'medicaid',\n",
    "                                                                      'ecog_2', \n",
    "                                                                      'ses', \n",
    "                                                                      'albumin_diag', \n",
    "                                                                      'weight_pct_change',\n",
    "                                                                      'risk_score']))\n",
    "\n",
    "fire_high_x = preprocessor.fit_transform(fire_iptw_high.filter(items = ['age',\n",
    "                                                                        'gender',\n",
    "                                                                        'race',\n",
    "                                                                        'p_type',\n",
    "                                                                        'crc_site',\n",
    "                                                                        'met_cat',\n",
    "                                                                        'delta_met_diagnosis',\n",
    "                                                                        'commercial',\n",
    "                                                                        'medicare',\n",
    "                                                                        'medicaid',\n",
    "                                                                        'ecog_2', \n",
    "                                                                        'ses', \n",
    "                                                                        'albumin_diag', \n",
    "                                                                        'weight_pct_change',\n",
    "                                                                        'risk_score']))\n",
    "\n",
    "fire_all_x = preprocessor.fit_transform(fire_iptw_all.filter(items = ['age',\n",
    "                                                                      'gender',\n",
    "                                                                      'race',\n",
    "                                                                      'p_type',\n",
    "                                                                      'crc_site',\n",
    "                                                                      'met_cat',\n",
    "                                                                      'delta_met_diagnosis',\n",
    "                                                                      'commercial',\n",
    "                                                                      'medicare',\n",
    "                                                                      'medicaid',\n",
    "                                                                      'ecog_2', \n",
    "                                                                      'ses', \n",
    "                                                                      'albumin_diag', \n",
    "                                                                      'weight_pct_change',\n",
    "                                                                      'risk_score']))"
   ]
  },
  {
   "cell_type": "code",
   "execution_count": 75,
   "id": "d1445b3c",
   "metadata": {},
   "outputs": [
    {
     "data": {
      "text/plain": [
       "LogisticRegression(max_iter=1000)"
      ]
     },
     "execution_count": 75,
     "metadata": {},
     "output_type": "execute_result"
    }
   ],
   "source": [
    "lr_fire_low = LogisticRegression(max_iter = 1000)\n",
    "lr_fire_low.fit(fire_low_x, fire_iptw_low['fxi_cet'])"
   ]
  },
  {
   "cell_type": "code",
   "execution_count": 76,
   "id": "ed0ed965",
   "metadata": {},
   "outputs": [
    {
     "data": {
      "text/plain": [
       "LogisticRegression(max_iter=1000)"
      ]
     },
     "execution_count": 76,
     "metadata": {},
     "output_type": "execute_result"
    }
   ],
   "source": [
    "lr_fire_med = LogisticRegression(max_iter = 1000)\n",
    "lr_fire_med.fit(fire_med_x, fire_iptw_med['fxi_cet'])"
   ]
  },
  {
   "cell_type": "code",
   "execution_count": 77,
   "id": "b1783dde",
   "metadata": {},
   "outputs": [
    {
     "data": {
      "text/plain": [
       "LogisticRegression(max_iter=1000)"
      ]
     },
     "execution_count": 77,
     "metadata": {},
     "output_type": "execute_result"
    }
   ],
   "source": [
    "lr_fire_high = LogisticRegression(max_iter = 1000)\n",
    "lr_fire_high.fit(fire_high_x, fire_iptw_high['fxi_cet'])"
   ]
  },
  {
   "cell_type": "code",
   "execution_count": 78,
   "id": "13ce51f6",
   "metadata": {},
   "outputs": [
    {
     "data": {
      "text/plain": [
       "LogisticRegression(max_iter=1000)"
      ]
     },
     "execution_count": 78,
     "metadata": {},
     "output_type": "execute_result"
    }
   ],
   "source": [
    "lr_fire_all = LogisticRegression(max_iter = 1000)\n",
    "lr_fire_all.fit(fire_all_x, fire_iptw_all['fxi_cet'])"
   ]
  },
  {
   "cell_type": "code",
   "execution_count": 79,
   "id": "da730ccb",
   "metadata": {},
   "outputs": [],
   "source": [
    "pred_low = lr_fire_low.predict_proba(fire_low_x)\n",
    "pred_med = lr_fire_med.predict_proba(fire_med_x)\n",
    "pred_high = lr_fire_high.predict_proba(fire_high_x)\n",
    "pred_all = lr_fire_all.predict_proba(fire_all_x)"
   ]
  },
  {
   "cell_type": "code",
   "execution_count": 80,
   "id": "9a6771cc",
   "metadata": {},
   "outputs": [
    {
     "name": "stderr",
     "output_type": "stream",
     "text": [
      "/Users/xavierorcutt/Dropbox/ist_project/myenv/lib/python3.7/site-packages/ipykernel_launcher.py:1: SettingWithCopyWarning: \n",
      "A value is trying to be set on a copy of a slice from a DataFrame.\n",
      "Try using .loc[row_indexer,col_indexer] = value instead\n",
      "\n",
      "See the caveats in the documentation: https://pandas.pydata.org/pandas-docs/stable/user_guide/indexing.html#returning-a-view-versus-a-copy\n",
      "  \"\"\"Entry point for launching an IPython kernel.\n",
      "/Users/xavierorcutt/Dropbox/ist_project/myenv/lib/python3.7/site-packages/ipykernel_launcher.py:2: SettingWithCopyWarning: \n",
      "A value is trying to be set on a copy of a slice from a DataFrame.\n",
      "Try using .loc[row_indexer,col_indexer] = value instead\n",
      "\n",
      "See the caveats in the documentation: https://pandas.pydata.org/pandas-docs/stable/user_guide/indexing.html#returning-a-view-versus-a-copy\n",
      "  \n",
      "/Users/xavierorcutt/Dropbox/ist_project/myenv/lib/python3.7/site-packages/ipykernel_launcher.py:3: SettingWithCopyWarning: \n",
      "A value is trying to be set on a copy of a slice from a DataFrame.\n",
      "Try using .loc[row_indexer,col_indexer] = value instead\n",
      "\n",
      "See the caveats in the documentation: https://pandas.pydata.org/pandas-docs/stable/user_guide/indexing.html#returning-a-view-versus-a-copy\n",
      "  This is separate from the ipykernel package so we can avoid doing imports until\n"
     ]
    }
   ],
   "source": [
    "fire_iptw_low['ps'] = pred_low[:, 1]\n",
    "fire_iptw_med['ps'] = pred_med[:, 1]\n",
    "fire_iptw_high['ps'] = pred_high[:, 1]\n",
    "fire_iptw_all['ps'] = pred_all[:, 1]"
   ]
  },
  {
   "cell_type": "code",
   "execution_count": 81,
   "id": "6c0bb3ae",
   "metadata": {},
   "outputs": [
    {
     "name": "stderr",
     "output_type": "stream",
     "text": [
      "/Users/xavierorcutt/Dropbox/ist_project/myenv/lib/python3.7/site-packages/ipykernel_launcher.py:2: SettingWithCopyWarning: \n",
      "A value is trying to be set on a copy of a slice from a DataFrame.\n",
      "Try using .loc[row_indexer,col_indexer] = value instead\n",
      "\n",
      "See the caveats in the documentation: https://pandas.pydata.org/pandas-docs/stable/user_guide/indexing.html#returning-a-view-versus-a-copy\n",
      "  \n",
      "/Users/xavierorcutt/Dropbox/ist_project/myenv/lib/python3.7/site-packages/ipykernel_launcher.py:5: SettingWithCopyWarning: \n",
      "A value is trying to be set on a copy of a slice from a DataFrame.\n",
      "Try using .loc[row_indexer,col_indexer] = value instead\n",
      "\n",
      "See the caveats in the documentation: https://pandas.pydata.org/pandas-docs/stable/user_guide/indexing.html#returning-a-view-versus-a-copy\n",
      "  \"\"\"\n",
      "/Users/xavierorcutt/Dropbox/ist_project/myenv/lib/python3.7/site-packages/ipykernel_launcher.py:8: SettingWithCopyWarning: \n",
      "A value is trying to be set on a copy of a slice from a DataFrame.\n",
      "Try using .loc[row_indexer,col_indexer] = value instead\n",
      "\n",
      "See the caveats in the documentation: https://pandas.pydata.org/pandas-docs/stable/user_guide/indexing.html#returning-a-view-versus-a-copy\n",
      "  \n"
     ]
    }
   ],
   "source": [
    "fire_iptw_low['weight'] = (\n",
    "    np.where(fire_iptw_low['fxi_cet'] == 1, 1/fire_iptw_low['ps'], 1/(1 - fire_iptw_low['ps'])))\n",
    "\n",
    "fire_iptw_med['weight'] = (\n",
    "    np.where(fire_iptw_med['fxi_cet'] == 1, 1/fire_iptw_med['ps'], 1/(1 - fire_iptw_med['ps'])))\n",
    "\n",
    "fire_iptw_high['weight'] = (\n",
    "    np.where(fire_iptw_high['fxi_cet'] == 1, 1/fire_iptw_high['ps'], 1/(1 - fire_iptw_high['ps'])))\n",
    "\n",
    "fire_iptw_all['weight'] = (\n",
    "    np.where(fire_iptw_all['fxi_cet'] == 1, 1/fire_iptw_all['ps'], 1/(1 - fire_iptw_all['ps'])))"
   ]
  },
  {
   "cell_type": "code",
   "execution_count": 82,
   "id": "085dde30",
   "metadata": {},
   "outputs": [
    {
     "name": "stderr",
     "output_type": "stream",
     "text": [
      "/Users/xavierorcutt/Dropbox/ist_project/myenv/lib/python3.7/site-packages/lifelines/fitters/kaplan_meier_fitter.py:344: StatisticalWarning: It looks like your weights are not integers, possibly propensity scores then?\n",
      "  It's important to know that the naive variance estimates of the coefficients are biased. Instead use Monte Carlo to\n",
      "  estimate the variances. See paper \"Variance estimation when using inverse probability of treatment weighting (IPTW) with survival analysis\"\n",
      "  or \"Adjusted Kaplan-Meier estimator and log-rank test with inverse probability of treatment weighting for survival data.\"\n",
      "                  \n",
      "  StatisticalWarning,\n"
     ]
    },
    {
     "data": {
      "text/plain": [
       "<lifelines.KaplanMeierFitter:\"KM_estimate\", fitted with 3640.42 total observations, 1380.8 right-censored observations>"
      ]
     },
     "execution_count": 82,
     "metadata": {},
     "output_type": "execute_result"
    }
   ],
   "source": [
    "# Low KM curves\n",
    "kmf_low_cet_f_iptw = KaplanMeierFitter()\n",
    "kmf_low_bev_f_iptw = KaplanMeierFitter()\n",
    "\n",
    "kmf_low_cet_f_iptw.fit(\n",
    "    fire_iptw_low.query('fxi_cet == 1').timerisk_treatment/30,\n",
    "    fire_iptw_low.query('fxi_cet == 1').death_status,\n",
    "    weights = fire_iptw_low.query('fxi_cet == 1')['weight'])\n",
    "\n",
    "kmf_low_bev_f_iptw.fit(\n",
    "    fire_iptw_low.query('fxi_cet == 0').timerisk_treatment/30,\n",
    "    fire_iptw_low.query('fxi_cet == 0').death_status,\n",
    "    weights = fire_iptw_low.query('fxi_cet == 0')['weight'])\n",
    "\n",
    "# Med KM curves\n",
    "kmf_med_cet_f_iptw = KaplanMeierFitter()\n",
    "kmf_med_bev_f_iptw = KaplanMeierFitter()\n",
    "\n",
    "kmf_med_cet_f_iptw.fit(\n",
    "    fire_iptw_med.query('fxi_cet == 1').timerisk_treatment/30,\n",
    "    fire_iptw_med.query('fxi_cet == 1').death_status,\n",
    "    weights = fire_iptw_med.query('fxi_cet == 1')['weight'])\n",
    "\n",
    "kmf_med_bev_f_iptw.fit(\n",
    "    fire_iptw_med.query('fxi_cet == 0').timerisk_treatment/30,\n",
    "    fire_iptw_med.query('fxi_cet == 0').death_status,\n",
    "    weights = fire_iptw_med.query('fxi_cet == 0')['weight'])\n",
    "\n",
    "# High KM curves \n",
    "kmf_high_cet_f_iptw = KaplanMeierFitter()\n",
    "kmf_high_bev_f_iptw = KaplanMeierFitter()\n",
    "\n",
    "kmf_high_cet_f_iptw.fit(\n",
    "    fire_iptw_high.query('fxi_cet == 1').timerisk_treatment/30,\n",
    "    fire_iptw_high.query('fxi_cet == 1').death_status,\n",
    "    weights = fire_iptw_high.query('fxi_cet == 1')['weight'])\n",
    "\n",
    "kmf_high_bev_f_iptw.fit(\n",
    "    fire_iptw_high.query('fxi_cet == 0').timerisk_treatment/30,\n",
    "    fire_iptw_high.query('fxi_cet == 0').death_status,\n",
    "    weights = fire_iptw_high.query('fxi_cet == 0')['weight'])\n",
    "\n",
    "# All KM curves \n",
    "kmf_all_cet_f_iptw = KaplanMeierFitter()\n",
    "kmf_all_bev_f_iptw = KaplanMeierFitter()\n",
    "\n",
    "kmf_all_cet_f_iptw.fit(\n",
    "    fire_iptw_all.query('fxi_cet == 1').timerisk_treatment/30,\n",
    "    fire_iptw_all.query('fxi_cet == 1').death_status,\n",
    "    weights = fire_iptw_all.query('fxi_cet == 1')['weight'])\n",
    "\n",
    "kmf_all_bev_f_iptw.fit(\n",
    "    fire_iptw_all.query('fxi_cet == 0').timerisk_treatment/30,\n",
    "    fire_iptw_all.query('fxi_cet == 0').death_status,\n",
    "    weights = fire_iptw_all.query('fxi_cet == 0')['weight'])"
   ]
  },
  {
   "cell_type": "markdown",
   "id": "d76d24cc",
   "metadata": {},
   "source": [
    "#### Calculating survival metrics"
   ]
  },
  {
   "cell_type": "code",
   "execution_count": 83,
   "id": "33de0297",
   "metadata": {},
   "outputs": [],
   "source": [
    "cet_fire_median_os = mos(kmf_low_cet_f_iptw,\n",
    "                         kmf_med_cet_f_iptw,\n",
    "                         kmf_high_cet_f_iptw,\n",
    "                         kmf_all_cet_f_iptw)\n",
    "\n",
    "bev_fire_median_os = mos(kmf_low_bev_f_iptw,\n",
    "                         kmf_med_bev_f_iptw,\n",
    "                         kmf_high_bev_f_iptw, \n",
    "                         kmf_all_bev_f_iptw)"
   ]
  },
  {
   "cell_type": "code",
   "execution_count": 84,
   "id": "10206f56",
   "metadata": {},
   "outputs": [],
   "source": [
    "fire_iptw_all_imputed = fire_iptw_all.copy()\n",
    "fire_iptw_all_imputed['albumin_diag'] = fire_iptw_all_imputed['albumin_diag'].fillna(fire_iptw_all_imputed['albumin_diag'].median())\n",
    "fire_iptw_all_imputed['weight_pct_change'] = fire_iptw_all_imputed['weight_pct_change'].fillna(fire_iptw_all_imputed['weight_pct_change'].median())\n",
    "fire_iptw_all_imputed['ses'] = fire_iptw_all_imputed['ses'].cat.add_categories('unknown')\n",
    "fire_iptw_all_imputed['ses'] = fire_iptw_all_imputed['ses'].fillna('unknown')"
   ]
  },
  {
   "cell_type": "code",
   "execution_count": 85,
   "id": "a6c5e140",
   "metadata": {},
   "outputs": [
    {
     "data": {
      "text/plain": [
       "<lifelines.CoxPHFitter: fitted with 7266.24 total observations, 2898.89 right-censored observations>"
      ]
     },
     "execution_count": 85,
     "metadata": {},
     "output_type": "execute_result"
    }
   ],
   "source": [
    "fire_hr_all = CoxPHFitter()\n",
    "fire_hr_all.fit(fire_iptw_all_imputed,\n",
    "                duration_col = 'timerisk_treatment', \n",
    "                event_col = 'death_status', \n",
    "                formula = 'fxi_cet + age + gender + race + p_type + crc_site + met_cat + delta_met_diagnosis + commercial + medicare + medicaid + ecog_2 + ses + albumin_diag + weight_pct_change + risk_score',\n",
    "                weights_col = 'weight',\n",
    "                robust = True)"
   ]
  },
  {
   "cell_type": "code",
   "execution_count": 86,
   "id": "163f81f2",
   "metadata": {},
   "outputs": [],
   "source": [
    "fire_all_rmst_mos_95 = rmst_mos_95ci(fire_iptw_all,\n",
    "                                     1000,\n",
    "                                     'fxi_cet',\n",
    "                                     'death',\n",
    "                                     ['age',\n",
    "                                      'gender',\n",
    "                                      'race',\n",
    "                                      'p_type',\n",
    "                                      'crc_site',\n",
    "                                      'met_cat',\n",
    "                                      'delta_met_diagnosis',\n",
    "                                      'commercial',\n",
    "                                      'medicare',\n",
    "                                      'medicaid',\n",
    "                                      'ecog_2', \n",
    "                                      'ses', \n",
    "                                      'albumin_diag', \n",
    "                                      'weight_pct_change',\n",
    "                                      'risk_score'],\n",
    "                                     ['age', 'delta_met_diagnosis', 'albumin_diag', 'weight_pct_change', 'risk_score'],\n",
    "                                     48)"
   ]
  },
  {
   "cell_type": "code",
   "execution_count": 87,
   "id": "b05a538f",
   "metadata": {},
   "outputs": [],
   "source": [
    "fire_low_rmst_mos_95 = rmst_mos_95ci(fire_iptw_low,\n",
    "                                     1000,\n",
    "                                     'fxi_cet',\n",
    "                                     'death',\n",
    "                                     ['age',\n",
    "                                      'gender',\n",
    "                                      'race',\n",
    "                                      'p_type',\n",
    "                                      'crc_site',\n",
    "                                      'met_cat',\n",
    "                                      'delta_met_diagnosis',\n",
    "                                      'commercial',\n",
    "                                      'medicare',\n",
    "                                      'medicaid',\n",
    "                                      'ecog_2', \n",
    "                                      'ses', \n",
    "                                      'albumin_diag', \n",
    "                                      'weight_pct_change',\n",
    "                                      'risk_score'],\n",
    "                                     ['age', 'delta_met_diagnosis', 'albumin_diag', 'weight_pct_change', 'risk_score'],\n",
    "                                     48)"
   ]
  },
  {
   "cell_type": "code",
   "execution_count": 88,
   "id": "863e7658",
   "metadata": {},
   "outputs": [],
   "source": [
    "fire_med_rmst_mos_95 = rmst_mos_95ci(fire_iptw_med,\n",
    "                                     1000,\n",
    "                                     'fxi_cet',\n",
    "                                     'death',\n",
    "                                     ['age',\n",
    "                                      'gender',\n",
    "                                      'race',\n",
    "                                      'p_type',\n",
    "                                      'crc_site',\n",
    "                                      'met_cat',\n",
    "                                      'delta_met_diagnosis',\n",
    "                                      'commercial',\n",
    "                                      'medicare',\n",
    "                                      'medicaid',\n",
    "                                      'ecog_2', \n",
    "                                      'ses', \n",
    "                                      'albumin_diag', \n",
    "                                      'weight_pct_change',\n",
    "                                      'risk_score'],\n",
    "                                     ['age', 'delta_met_diagnosis', 'albumin_diag', 'weight_pct_change', 'risk_score'],\n",
    "                                     48)"
   ]
  },
  {
   "cell_type": "code",
   "execution_count": 89,
   "id": "75a240d2",
   "metadata": {},
   "outputs": [],
   "source": [
    "fire_high_rmst_mos_95 = rmst_mos_95ci(fire_iptw_high,\n",
    "                                     1000,\n",
    "                                     'fxi_cet',\n",
    "                                     'death',\n",
    "                                     ['age',\n",
    "                                      'gender',\n",
    "                                      'race',\n",
    "                                      'p_type',\n",
    "                                      'crc_site',\n",
    "                                      'met_cat',\n",
    "                                      'delta_met_diagnosis',\n",
    "                                      'commercial',\n",
    "                                      'medicare',\n",
    "                                      'medicaid',\n",
    "                                      'ecog_2', \n",
    "                                      'ses', \n",
    "                                      'albumin_diag', \n",
    "                                      'weight_pct_change',\n",
    "                                      'risk_score'],\n",
    "                                     ['age', 'delta_met_diagnosis', 'albumin_diag', 'weight_pct_change', 'risk_score'],\n",
    "                                     48)"
   ]
  },
  {
   "cell_type": "code",
   "execution_count": 90,
   "id": "2d7bc491",
   "metadata": {},
   "outputs": [],
   "source": [
    "fire3_data = [\n",
    "    {'trial_name': 'FIRE-3', \n",
    "     'risk_group': 'low', \n",
    "     'r_trt_mos': cet_fire_median_os[0],\n",
    "     'r_trt_mos_95': fire_low_rmst_mos_95.mos_A_95,\n",
    "     'r_cont_mos': bev_fire_median_os[0],\n",
    "     'r_cont_mos_95': fire_low_rmst_mos_95.mos_B_95,\n",
    "     'r_mos_diff': cet_fire_median_os[0] - bev_fire_median_os[0], \n",
    "     'rct_trt_arm': 33.1, \n",
    "     'rct_cont_arm': 25.6,\n",
    "     'rct_mos_diff': 33.1-25.6,\n",
    "     'trt_rmst': restricted_mean_survival_time(kmf_low_cet_f_iptw, 48),\n",
    "     'trt_rmst_95': fire_low_rmst_mos_95.rmst_A_95,\n",
    "     'cont_rmst': restricted_mean_survival_time(kmf_low_bev_f_iptw, 48),\n",
    "     'cont_rmst_95': fire_low_rmst_mos_95.rmst_B_95,\n",
    "     'diff_rmst': restricted_mean_survival_time(kmf_low_cet_f_iptw, 48) - restricted_mean_survival_time(kmf_low_bev_f_iptw, 48),\n",
    "     'diff_rmst_95': fire_low_rmst_mos_95.difference_rmst_95,\n",
    "     'rcount': fire.query('risk_score <= @low_cutoff_fire').shape[0],\n",
    "     'rcount_chemo': fire.query('risk_score <= @low_cutoff_fire').shape[0]},\n",
    "    \n",
    "    {'trial_name': 'FIRE-3', \n",
    "     'risk_group': 'medium', \n",
    "     'r_trt_mos': cet_fire_median_os[1],\n",
    "     'r_trt_mos_95': fire_med_rmst_mos_95.mos_A_95,\n",
    "     'r_cont_mos': bev_fire_median_os[1],\n",
    "     'r_cont_mos_95': fire_med_rmst_mos_95.mos_B_95,\n",
    "     'r_mos_diff': cet_fire_median_os[1] - bev_fire_median_os[1], \n",
    "     'rct_trt_arm': 33.1, \n",
    "     'rct_cont_arm': 25.6,\n",
    "     'rct_mos_diff': 33.1-25.6,\n",
    "     'trt_rmst': restricted_mean_survival_time(kmf_med_cet_f_iptw, 48),\n",
    "     'trt_rmst_95': fire_med_rmst_mos_95.rmst_A_95,\n",
    "     'cont_rmst': restricted_mean_survival_time(kmf_med_bev_f_iptw, 48),\n",
    "     'cont_rmst_95': fire_med_rmst_mos_95.rmst_B_95,\n",
    "     'diff_rmst': restricted_mean_survival_time(kmf_med_cet_f_iptw, 48) - restricted_mean_survival_time(kmf_med_bev_f_iptw, 48),\n",
    "     'diff_rmst_95': fire_med_rmst_mos_95.difference_rmst_95,\n",
    "     'rcount': fire.query('risk_score < @high_cutoff_fire and risk_score > @low_cutoff_fire').shape[0],\n",
    "     'rcount_chemo': fire.query('risk_score < @high_cutoff_fire and risk_score > @low_cutoff_fire').shape[0]},\n",
    "    \n",
    "    {'trial_name': 'FIRE-3', \n",
    "     'risk_group': 'high', \n",
    "     'r_trt_mos': cet_fire_median_os[2],\n",
    "     'r_trt_mos_95': fire_high_rmst_mos_95.mos_A_95,\n",
    "     'r_cont_mos': bev_fire_median_os[2],\n",
    "     'r_cont_mos_95': fire_high_rmst_mos_95.mos_B_95,\n",
    "     'r_mos_diff': cet_fire_median_os[2] - bev_fire_median_os[2], \n",
    "     'rct_trt_arm': 33.1, \n",
    "     'rct_cont_arm': 25.6,\n",
    "     'rct_mos_diff': 33.1-25.6,\n",
    "     'trt_rmst': restricted_mean_survival_time(kmf_high_cet_f_iptw, 48),\n",
    "     'trt_rmst_95': fire_high_rmst_mos_95.rmst_A_95,\n",
    "     'cont_rmst': restricted_mean_survival_time(kmf_high_bev_f_iptw, 48),\n",
    "     'cont_rmst_95': fire_high_rmst_mos_95.rmst_B_95,\n",
    "     'diff_rmst': restricted_mean_survival_time(kmf_high_cet_f_iptw, 48) - restricted_mean_survival_time(kmf_high_bev_f_iptw, 48),\n",
    "     'diff_rmst_95': fire_high_rmst_mos_95.difference_rmst_95,\n",
    "     'rcount': fire.query('risk_score >= @high_cutoff_fire').shape[0],\n",
    "     'rcount_chemo': fire.query('risk_score >= @high_cutoff_fire').shape[0]},\n",
    "    \n",
    "    {'trial_name': 'FIRE-3', \n",
    "     'risk_group': 'all', \n",
    "     'r_hr': fire_hr_all.hazard_ratios_['fxi_cet'],\n",
    "     'r_hr_95': [fire_hr_all.summary.loc['fxi_cet']['exp(coef) lower 95%'], fire_hr_all.summary.loc['fxi_cet']['exp(coef) upper 95%']],\n",
    "     'r_trt_mos': cet_fire_median_os[3],\n",
    "     'r_trt_mos_95': fire_all_rmst_mos_95.mos_A_95,\n",
    "     'r_cont_mos': bev_fire_median_os[3],\n",
    "     'r_cont_mos_95': fire_all_rmst_mos_95.mos_B_95,\n",
    "     'r_mos_diff': cet_fire_median_os[3] - bev_fire_median_os[3], \n",
    "     'rct_trt_arm': 33.1, \n",
    "     'rct_cont_arm': 25.6,\n",
    "     'rct_mos_diff': 33.1-25.6,\n",
    "     'rcount': fire.shape[0], \n",
    "     'rcount_chemo': fire.shape[0]}\n",
    "]"
   ]
  },
  {
   "cell_type": "code",
   "execution_count": 91,
   "id": "db5b8fcb",
   "metadata": {},
   "outputs": [],
   "source": [
    "rtrials_mos_rmst_boot = pd.DataFrame(fire3_data)"
   ]
  },
  {
   "cell_type": "code",
   "execution_count": 92,
   "id": "c84de475",
   "metadata": {
    "scrolled": true
   },
   "outputs": [
    {
     "data": {
      "text/html": [
       "<div>\n",
       "<style scoped>\n",
       "    .dataframe tbody tr th:only-of-type {\n",
       "        vertical-align: middle;\n",
       "    }\n",
       "\n",
       "    .dataframe tbody tr th {\n",
       "        vertical-align: top;\n",
       "    }\n",
       "\n",
       "    .dataframe thead th {\n",
       "        text-align: right;\n",
       "    }\n",
       "</style>\n",
       "<table border=\"1\" class=\"dataframe\">\n",
       "  <thead>\n",
       "    <tr style=\"text-align: right;\">\n",
       "      <th></th>\n",
       "      <th>trial_name</th>\n",
       "      <th>risk_group</th>\n",
       "      <th>r_trt_mos</th>\n",
       "      <th>r_trt_mos_95</th>\n",
       "      <th>r_cont_mos</th>\n",
       "      <th>r_cont_mos_95</th>\n",
       "      <th>r_mos_diff</th>\n",
       "      <th>rct_trt_arm</th>\n",
       "      <th>rct_cont_arm</th>\n",
       "      <th>rct_mos_diff</th>\n",
       "      <th>trt_rmst</th>\n",
       "      <th>trt_rmst_95</th>\n",
       "      <th>cont_rmst</th>\n",
       "      <th>cont_rmst_95</th>\n",
       "      <th>diff_rmst</th>\n",
       "      <th>diff_rmst_95</th>\n",
       "      <th>rcount</th>\n",
       "      <th>rcount_chemo</th>\n",
       "      <th>r_hr</th>\n",
       "      <th>r_hr_95</th>\n",
       "    </tr>\n",
       "  </thead>\n",
       "  <tbody>\n",
       "    <tr>\n",
       "      <th>0</th>\n",
       "      <td>FIRE-3</td>\n",
       "      <td>low</td>\n",
       "      <td>52.966667</td>\n",
       "      <td>[44.6, 79.33333333333333]</td>\n",
       "      <td>45.666667</td>\n",
       "      <td>[41.833333333333336, 49.7375]</td>\n",
       "      <td>7.300000</td>\n",
       "      <td>33.1</td>\n",
       "      <td>25.6</td>\n",
       "      <td>7.5</td>\n",
       "      <td>38.281983</td>\n",
       "      <td>[36.04663466888957, 40.48323978734367]</td>\n",
       "      <td>36.504141</td>\n",
       "      <td>[35.48581458249381, 37.41696911469564]</td>\n",
       "      <td>1.777842</td>\n",
       "      <td>[-0.5838694387336758, 4.208611907412448]</td>\n",
       "      <td>1214</td>\n",
       "      <td>1214</td>\n",
       "      <td>NaN</td>\n",
       "      <td>NaN</td>\n",
       "    </tr>\n",
       "    <tr>\n",
       "      <th>1</th>\n",
       "      <td>FIRE-3</td>\n",
       "      <td>medium</td>\n",
       "      <td>31.366667</td>\n",
       "      <td>[25.766666666666666, 38.666666666666664]</td>\n",
       "      <td>27.433333</td>\n",
       "      <td>[25.6, 28.940833333333327]</td>\n",
       "      <td>3.933333</td>\n",
       "      <td>33.1</td>\n",
       "      <td>25.6</td>\n",
       "      <td>7.5</td>\n",
       "      <td>29.867315</td>\n",
       "      <td>[27.29896583015385, 32.73738804047254]</td>\n",
       "      <td>28.195098</td>\n",
       "      <td>[27.17145420900001, 29.25245036130986]</td>\n",
       "      <td>1.672217</td>\n",
       "      <td>[-1.1156099852901362, 4.768794970309147]</td>\n",
       "      <td>1213</td>\n",
       "      <td>1213</td>\n",
       "      <td>NaN</td>\n",
       "      <td>NaN</td>\n",
       "    </tr>\n",
       "    <tr>\n",
       "      <th>2</th>\n",
       "      <td>FIRE-3</td>\n",
       "      <td>high</td>\n",
       "      <td>12.900000</td>\n",
       "      <td>[9.228333333333333, 16.066666666666666]</td>\n",
       "      <td>12.833333</td>\n",
       "      <td>[12.0, 13.566666666666666]</td>\n",
       "      <td>0.066667</td>\n",
       "      <td>33.1</td>\n",
       "      <td>25.6</td>\n",
       "      <td>7.5</td>\n",
       "      <td>17.359847</td>\n",
       "      <td>[14.447207444085366, 20.420586102958595]</td>\n",
       "      <td>15.850093</td>\n",
       "      <td>[15.056639934480772, 16.571586885290465]</td>\n",
       "      <td>1.509754</td>\n",
       "      <td>[-1.5206126846172205, 4.746733916826746]</td>\n",
       "      <td>1214</td>\n",
       "      <td>1214</td>\n",
       "      <td>NaN</td>\n",
       "      <td>NaN</td>\n",
       "    </tr>\n",
       "    <tr>\n",
       "      <th>3</th>\n",
       "      <td>FIRE-3</td>\n",
       "      <td>all</td>\n",
       "      <td>31.366667</td>\n",
       "      <td>[27.866666666666667, 35.03333333333333]</td>\n",
       "      <td>24.900000</td>\n",
       "      <td>[24.032500000000002, 26.433333333333334]</td>\n",
       "      <td>6.466667</td>\n",
       "      <td>33.1</td>\n",
       "      <td>25.6</td>\n",
       "      <td>7.5</td>\n",
       "      <td>NaN</td>\n",
       "      <td>NaN</td>\n",
       "      <td>NaN</td>\n",
       "      <td>NaN</td>\n",
       "      <td>NaN</td>\n",
       "      <td>NaN</td>\n",
       "      <td>3641</td>\n",
       "      <td>3641</td>\n",
       "      <td>0.927254</td>\n",
       "      <td>[0.8059101056843947, 1.0668680479449384]</td>\n",
       "    </tr>\n",
       "  </tbody>\n",
       "</table>\n",
       "</div>"
      ],
      "text/plain": [
       "  trial_name risk_group  r_trt_mos                              r_trt_mos_95  \\\n",
       "0     FIRE-3        low  52.966667                 [44.6, 79.33333333333333]   \n",
       "1     FIRE-3     medium  31.366667  [25.766666666666666, 38.666666666666664]   \n",
       "2     FIRE-3       high  12.900000   [9.228333333333333, 16.066666666666666]   \n",
       "3     FIRE-3        all  31.366667   [27.866666666666667, 35.03333333333333]   \n",
       "\n",
       "   r_cont_mos                             r_cont_mos_95  r_mos_diff  \\\n",
       "0   45.666667             [41.833333333333336, 49.7375]    7.300000   \n",
       "1   27.433333                [25.6, 28.940833333333327]    3.933333   \n",
       "2   12.833333                [12.0, 13.566666666666666]    0.066667   \n",
       "3   24.900000  [24.032500000000002, 26.433333333333334]    6.466667   \n",
       "\n",
       "   rct_trt_arm  rct_cont_arm  rct_mos_diff   trt_rmst  \\\n",
       "0         33.1          25.6           7.5  38.281983   \n",
       "1         33.1          25.6           7.5  29.867315   \n",
       "2         33.1          25.6           7.5  17.359847   \n",
       "3         33.1          25.6           7.5        NaN   \n",
       "\n",
       "                                trt_rmst_95  cont_rmst  \\\n",
       "0    [36.04663466888957, 40.48323978734367]  36.504141   \n",
       "1    [27.29896583015385, 32.73738804047254]  28.195098   \n",
       "2  [14.447207444085366, 20.420586102958595]  15.850093   \n",
       "3                                       NaN        NaN   \n",
       "\n",
       "                               cont_rmst_95  diff_rmst  \\\n",
       "0    [35.48581458249381, 37.41696911469564]   1.777842   \n",
       "1    [27.17145420900001, 29.25245036130986]   1.672217   \n",
       "2  [15.056639934480772, 16.571586885290465]   1.509754   \n",
       "3                                       NaN        NaN   \n",
       "\n",
       "                               diff_rmst_95  rcount  rcount_chemo      r_hr  \\\n",
       "0  [-0.5838694387336758, 4.208611907412448]    1214          1214       NaN   \n",
       "1  [-1.1156099852901362, 4.768794970309147]    1213          1213       NaN   \n",
       "2  [-1.5206126846172205, 4.746733916826746]    1214          1214       NaN   \n",
       "3                                       NaN    3641          3641  0.927254   \n",
       "\n",
       "                                    r_hr_95  \n",
       "0                                       NaN  \n",
       "1                                       NaN  \n",
       "2                                       NaN  \n",
       "3  [0.8059101056843947, 1.0668680479449384]  "
      ]
     },
     "execution_count": 92,
     "metadata": {},
     "output_type": "execute_result"
    }
   ],
   "source": [
    "rtrials_mos_rmst_boot"
   ]
  },
  {
   "cell_type": "code",
   "execution_count": 93,
   "id": "7b25285a",
   "metadata": {},
   "outputs": [],
   "source": [
    "rtrials_mos_rmst_boot.to_csv('rtrials_mos_rmst_boot.csv', index = False)"
   ]
  }
 ],
 "metadata": {
  "kernelspec": {
   "display_name": "My Virtual Environment",
   "language": "python",
   "name": "myenv"
  },
  "language_info": {
   "codemirror_mode": {
    "name": "ipython",
    "version": 3
   },
   "file_extension": ".py",
   "mimetype": "text/x-python",
   "name": "python",
   "nbconvert_exporter": "python",
   "pygments_lexer": "ipython3",
   "version": "3.7.10"
  }
 },
 "nbformat": 4,
 "nbformat_minor": 5
}
