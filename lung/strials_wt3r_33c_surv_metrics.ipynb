{
 "cells": [
  {
   "cell_type": "markdown",
   "id": "1bbad5a3",
   "metadata": {},
   "source": [
    "# Flatiron Health aNSCLC: Survival metrics for strict elgibility criteria\n",
    "**Background: Calculate survival metrics for emulated trials involving patients meeting strict elgibliity criteria. Hazard ratio for the full cohort is calculated from a Cox-IPTW model. Restricted mean survival time and median overall survival are calculated for phenotypes using an IPTW-adjusted KM curve.** "
   ]
  },
  {
   "cell_type": "markdown",
   "id": "6a03c08d",
   "metadata": {},
   "source": [
    "## Part 1: Identify patients with exclusion criteria"
   ]
  },
  {
   "cell_type": "code",
   "execution_count": 1,
   "id": "532af0ac",
   "metadata": {},
   "outputs": [],
   "source": [
    "import numpy as np\n",
    "import pandas as pd"
   ]
  },
  {
   "cell_type": "code",
   "execution_count": 2,
   "id": "4025fd6a",
   "metadata": {},
   "outputs": [],
   "source": [
    "# Function that returns number of rows and count of unique PatientIDs for a dataframe. \n",
    "def row_ID(dataframe):\n",
    "    row = dataframe.shape[0]\n",
    "    ID = dataframe['PatientID'].nunique()\n",
    "    return row, ID"
   ]
  },
  {
   "cell_type": "code",
   "execution_count": 3,
   "id": "a4301e95",
   "metadata": {},
   "outputs": [
    {
     "data": {
      "text/plain": [
       "(54786, 54786)"
      ]
     },
     "execution_count": 3,
     "metadata": {},
     "output_type": "execute_result"
    }
   ],
   "source": [
    "train = pd.read_csv('train_full.csv')\n",
    "row_ID(train)"
   ]
  },
  {
   "cell_type": "code",
   "execution_count": 4,
   "id": "a7fdd848",
   "metadata": {},
   "outputs": [
    {
     "data": {
      "text/plain": [
       "(13697, 13697)"
      ]
     },
     "execution_count": 4,
     "metadata": {},
     "output_type": "execute_result"
    }
   ],
   "source": [
    "test = pd.read_csv('test_full.csv')\n",
    "row_ID(test)"
   ]
  },
  {
   "cell_type": "code",
   "execution_count": 5,
   "id": "450aa36b",
   "metadata": {},
   "outputs": [
    {
     "data": {
      "text/plain": [
       "(68483, 68483)"
      ]
     },
     "execution_count": 5,
     "metadata": {},
     "output_type": "execute_result"
    }
   ],
   "source": [
    "df = pd.concat([train, test], ignore_index = True)\n",
    "row_ID(df)"
   ]
  },
  {
   "cell_type": "markdown",
   "id": "48b61757",
   "metadata": {},
   "source": [
    "### 1. Autoimmune diseases in the year preceding advanced diagnosis \n",
    "* Type 1 diabetes\n",
    "* Rheumatoid arthritis\n",
    "* Lupus\n",
    "* Systemic sclerosis \n",
    "* Dermatomyositis\n",
    "* Polymyositis\n",
    "* Crohn's disease\n",
    "* Ulcerative colitis \n",
    "* Psoriasis \n",
    "* Multiple sclerosis "
   ]
  },
  {
   "cell_type": "code",
   "execution_count": 6,
   "id": "c0d61798",
   "metadata": {},
   "outputs": [],
   "source": [
    "diagnosis = pd.read_csv('Diagnosis.csv')"
   ]
  },
  {
   "cell_type": "code",
   "execution_count": 7,
   "id": "6e0426e0",
   "metadata": {},
   "outputs": [],
   "source": [
    "diagnosis = diagnosis[diagnosis['PatientID'].isin(df['PatientID'])]       "
   ]
  },
  {
   "cell_type": "code",
   "execution_count": 8,
   "id": "694a5b47",
   "metadata": {},
   "outputs": [],
   "source": [
    "diagnosis.loc[:, 'DiagnosisDate'] = pd.to_datetime(diagnosis['DiagnosisDate'])"
   ]
  },
  {
   "cell_type": "code",
   "execution_count": 9,
   "id": "c693201b",
   "metadata": {},
   "outputs": [],
   "source": [
    "enhanced_adv = pd.read_csv('Enhanced_AdvancedNSCLC.csv', low_memory = False)"
   ]
  },
  {
   "cell_type": "code",
   "execution_count": 10,
   "id": "44eb69af",
   "metadata": {},
   "outputs": [],
   "source": [
    "enhanced_adv.loc[:, 'AdvancedDiagnosisDate'] = pd.to_datetime(enhanced_adv['AdvancedDiagnosisDate'])"
   ]
  },
  {
   "cell_type": "code",
   "execution_count": 11,
   "id": "6a2cf138",
   "metadata": {},
   "outputs": [
    {
     "data": {
      "text/plain": [
       "(1499292, 68483)"
      ]
     },
     "execution_count": 11,
     "metadata": {},
     "output_type": "execute_result"
    }
   ],
   "source": [
    "row_ID(diagnosis)"
   ]
  },
  {
   "cell_type": "code",
   "execution_count": 12,
   "id": "387d6692",
   "metadata": {},
   "outputs": [],
   "source": [
    "diagnosis = pd.merge(diagnosis, enhanced_adv[['PatientID', 'AdvancedDiagnosisDate']], on = 'PatientID', how = 'left')"
   ]
  },
  {
   "cell_type": "code",
   "execution_count": 13,
   "id": "bb2a9f8b",
   "metadata": {},
   "outputs": [
    {
     "data": {
      "text/plain": [
       "(1499292, 68483)"
      ]
     },
     "execution_count": 13,
     "metadata": {},
     "output_type": "execute_result"
    }
   ],
   "source": [
    "row_ID(diagnosis)"
   ]
  },
  {
   "cell_type": "code",
   "execution_count": 14,
   "id": "79940549",
   "metadata": {},
   "outputs": [],
   "source": [
    "diagnosis.loc[:, 'date_diff'] = (diagnosis['DiagnosisDate'] - diagnosis['AdvancedDiagnosisDate']).dt.days"
   ]
  },
  {
   "cell_type": "code",
   "execution_count": 15,
   "id": "5b133534",
   "metadata": {},
   "outputs": [],
   "source": [
    "diagnosis.loc[:, 'diagnosis_code'] = diagnosis['DiagnosisCode'].replace('\\.', '', regex = True)"
   ]
  },
  {
   "cell_type": "code",
   "execution_count": 16,
   "id": "eac681e2",
   "metadata": {},
   "outputs": [],
   "source": [
    "# ICD-9 dataframe with unique codes for each patient. \n",
    "diagnosis_9 = (\n",
    "    diagnosis\n",
    "    .query('date_diff <= 0 and date_diff > -365')\n",
    "    .query('DiagnosisCodeSystem == \"ICD-9-CM\"')\n",
    "    .drop_duplicates(subset = (['PatientID', 'DiagnosisCode']), keep = 'first')\n",
    "    .filter(items = ['PatientID', 'DiagnosisCode', 'diagnosis_code'])\n",
    ")"
   ]
  },
  {
   "cell_type": "code",
   "execution_count": 17,
   "id": "b6b3f491",
   "metadata": {},
   "outputs": [],
   "source": [
    "auto_ID_9 = (\n",
    "    diagnosis_9[diagnosis_9['diagnosis_code'].str.match('250(0[13]|1[13]|2[13]|3[13]|4[13]|5[13]|6[13]|7[13]|8[13]|9[13])|'\n",
    "                                                        '714|'\n",
    "                                                        '710[0134]|'\n",
    "                                                        '55[56]|'\n",
    "                                                        '696|'\n",
    "                                                        '340')].PatientID.unique())"
   ]
  },
  {
   "cell_type": "code",
   "execution_count": 18,
   "id": "c5638cd7",
   "metadata": {},
   "outputs": [
    {
     "data": {
      "text/plain": [
       "87"
      ]
     },
     "execution_count": 18,
     "metadata": {},
     "output_type": "execute_result"
    }
   ],
   "source": [
    "len(auto_ID_9)"
   ]
  },
  {
   "cell_type": "code",
   "execution_count": 19,
   "id": "661ab1e0",
   "metadata": {},
   "outputs": [],
   "source": [
    "# ICD-9 dataframe with unique codes for each patient. \n",
    "diagnosis_10 = (\n",
    "    diagnosis\n",
    "    .query('date_diff <= 0 and date_diff > -365')\n",
    "    .query('DiagnosisCodeSystem == \"ICD-10-CM\"')\n",
    "    .drop_duplicates(subset = (['PatientID', 'DiagnosisCode']), keep = 'first')\n",
    "    .filter(items = ['PatientID', 'DiagnosisCode', 'diagnosis_code'])\n",
    ")"
   ]
  },
  {
   "cell_type": "code",
   "execution_count": 20,
   "id": "f0df794a",
   "metadata": {},
   "outputs": [],
   "source": [
    "auto_ID_10 = (\n",
    "    diagnosis_10[diagnosis_10['diagnosis_code'].str.match('E10|'\n",
    "                                                          'M05|'\n",
    "                                                          'M32|'\n",
    "                                                          'M33|'\n",
    "                                                          'M34|'\n",
    "                                                          'K50|'\n",
    "                                                          'K51|'\n",
    "                                                          'L40|'\n",
    "                                                          'G35')].PatientID.unique())"
   ]
  },
  {
   "cell_type": "code",
   "execution_count": 21,
   "id": "1e3ff2b0",
   "metadata": {},
   "outputs": [
    {
     "data": {
      "text/plain": [
       "238"
      ]
     },
     "execution_count": 21,
     "metadata": {},
     "output_type": "execute_result"
    }
   ],
   "source": [
    "len(auto_ID_10)"
   ]
  },
  {
   "cell_type": "code",
   "execution_count": 22,
   "id": "14596935",
   "metadata": {},
   "outputs": [],
   "source": [
    "auto_IDs = np.unique(np.concatenate([auto_ID_9, auto_ID_10]))"
   ]
  },
  {
   "cell_type": "code",
   "execution_count": 23,
   "id": "1ff94ff1",
   "metadata": {},
   "outputs": [
    {
     "data": {
      "text/plain": [
       "322"
      ]
     },
     "execution_count": 23,
     "metadata": {},
     "output_type": "execute_result"
    }
   ],
   "source": [
    "len(auto_IDs)"
   ]
  },
  {
   "cell_type": "markdown",
   "id": "d0562b31",
   "metadata": {},
   "source": [
    "### 2. Other relevant comorbidities in the year preceding advanced diagnosis \n",
    "* Interstitial lung disease \n",
    "* HIV\n",
    "* Hep C\n",
    "* Hep B\n",
    "* Psychosis and other significant psychiatric disorders \n",
    "* Drug use disorders"
   ]
  },
  {
   "cell_type": "code",
   "execution_count": 24,
   "id": "4bbe0cd2",
   "metadata": {},
   "outputs": [],
   "source": [
    "other_comorb_9 = (\n",
    "    diagnosis_9[diagnosis_9['diagnosis_code'].str.match('516|'\n",
    "                                                        '042|'\n",
    "                                                        '070[234567]|'\n",
    "                                                        '29[5789]|'\n",
    "                                                        '30[34]')].PatientID.unique())"
   ]
  },
  {
   "cell_type": "code",
   "execution_count": 25,
   "id": "e519a1fe",
   "metadata": {},
   "outputs": [
    {
     "data": {
      "text/plain": [
       "69"
      ]
     },
     "execution_count": 25,
     "metadata": {},
     "output_type": "execute_result"
    }
   ],
   "source": [
    "len(other_comorb_9)"
   ]
  },
  {
   "cell_type": "code",
   "execution_count": 26,
   "id": "bb6c1abb",
   "metadata": {},
   "outputs": [],
   "source": [
    "other_comorb_10 = (\n",
    "    diagnosis_10[diagnosis_10['diagnosis_code'].str.match('J84|'\n",
    "                                                          'B20|'\n",
    "                                                          'B18|'\n",
    "                                                          'F2[024589]|'\n",
    "                                                          'F1[0145]')].PatientID.unique())"
   ]
  },
  {
   "cell_type": "code",
   "execution_count": 27,
   "id": "3fd07796",
   "metadata": {},
   "outputs": [
    {
     "data": {
      "text/plain": [
       "474"
      ]
     },
     "execution_count": 27,
     "metadata": {},
     "output_type": "execute_result"
    }
   ],
   "source": [
    "len(other_comorb_10)"
   ]
  },
  {
   "cell_type": "code",
   "execution_count": 28,
   "id": "bb235e32",
   "metadata": {},
   "outputs": [],
   "source": [
    "other_comorb_IDs = np.unique(np.concatenate([other_comorb_9, other_comorb_10]))"
   ]
  },
  {
   "cell_type": "code",
   "execution_count": 29,
   "id": "b9cee5ce",
   "metadata": {},
   "outputs": [
    {
     "data": {
      "text/plain": [
       "537"
      ]
     },
     "execution_count": 29,
     "metadata": {},
     "output_type": "execute_result"
    }
   ],
   "source": [
    "len(other_comorb_IDs)"
   ]
  },
  {
   "cell_type": "markdown",
   "id": "f045f8c5",
   "metadata": {},
   "source": [
    "### 3. CNS metastasis at start of treatment "
   ]
  },
  {
   "cell_type": "markdown",
   "id": "9164cbf1",
   "metadata": {},
   "source": [
    "#### First line treatment"
   ]
  },
  {
   "cell_type": "code",
   "execution_count": 30,
   "id": "aaa18fe3",
   "metadata": {},
   "outputs": [],
   "source": [
    "line_therapy = pd.read_csv('LineOfTherapy.csv')"
   ]
  },
  {
   "cell_type": "code",
   "execution_count": 31,
   "id": "0b33495c",
   "metadata": {},
   "outputs": [],
   "source": [
    "line_therapy = line_therapy[line_therapy['PatientID'].isin(df['PatientID'])]       "
   ]
  },
  {
   "cell_type": "code",
   "execution_count": 32,
   "id": "f495fc78",
   "metadata": {},
   "outputs": [],
   "source": [
    "line_therapy.loc[:, 'StartDate'] = pd.to_datetime(line_therapy['StartDate'])"
   ]
  },
  {
   "cell_type": "code",
   "execution_count": 33,
   "id": "e15c4078",
   "metadata": {},
   "outputs": [],
   "source": [
    "therapy_fl = line_therapy.query('LineNumber == 1').query('IsMaintenanceTherapy == False')[['PatientID', 'StartDate']]"
   ]
  },
  {
   "cell_type": "code",
   "execution_count": 34,
   "id": "d8d1802b",
   "metadata": {},
   "outputs": [
    {
     "data": {
      "text/plain": [
       "(1499292, 68483)"
      ]
     },
     "execution_count": 34,
     "metadata": {},
     "output_type": "execute_result"
    }
   ],
   "source": [
    "row_ID(diagnosis)"
   ]
  },
  {
   "cell_type": "code",
   "execution_count": 35,
   "id": "9ec35519",
   "metadata": {},
   "outputs": [],
   "source": [
    "cns_fl = pd.merge(diagnosis, therapy_fl, on = 'PatientID', how = 'left')"
   ]
  },
  {
   "cell_type": "code",
   "execution_count": 36,
   "id": "0f0c052e",
   "metadata": {},
   "outputs": [
    {
     "data": {
      "text/plain": [
       "(1499292, 68483)"
      ]
     },
     "execution_count": 36,
     "metadata": {},
     "output_type": "execute_result"
    }
   ],
   "source": [
    "row_ID(diagnosis)"
   ]
  },
  {
   "cell_type": "code",
   "execution_count": 37,
   "id": "26c52e1d",
   "metadata": {},
   "outputs": [],
   "source": [
    "cns_fl.loc[:, 'fl_date_diff'] = (cns_fl['DiagnosisDate'] - cns_fl['StartDate']).dt.days"
   ]
  },
  {
   "cell_type": "code",
   "execution_count": 38,
   "id": "87c2e477",
   "metadata": {},
   "outputs": [],
   "source": [
    "# ICD-9 dataframe with unique codes for each patient. \n",
    "cns_fl_9 = (\n",
    "    cns_fl\n",
    "    .query('fl_date_diff <= 0 and fl_date_diff > -90')\n",
    "    .query('DiagnosisCodeSystem == \"ICD-9-CM\"')\n",
    "    .drop_duplicates(subset = (['PatientID', 'DiagnosisCode']), keep = 'first')\n",
    "    .filter(items = ['PatientID', 'DiagnosisCode', 'diagnosis_code'])\n",
    ")"
   ]
  },
  {
   "cell_type": "code",
   "execution_count": 39,
   "id": "c285ba1d",
   "metadata": {},
   "outputs": [],
   "source": [
    "cns_fl_9_ids = (\n",
    "    cns_fl_9[cns_fl_9['diagnosis_code'].str.match('198[34]')].PatientID.unique()\n",
    ")"
   ]
  },
  {
   "cell_type": "code",
   "execution_count": 40,
   "id": "c520e606",
   "metadata": {},
   "outputs": [
    {
     "data": {
      "text/plain": [
       "1065"
      ]
     },
     "execution_count": 40,
     "metadata": {},
     "output_type": "execute_result"
    }
   ],
   "source": [
    "len(cns_fl_9_ids)"
   ]
  },
  {
   "cell_type": "code",
   "execution_count": 41,
   "id": "12767e04",
   "metadata": {},
   "outputs": [],
   "source": [
    "# ICD-9 dataframe with unique codes for each patient. \n",
    "cns_fl_10 = (\n",
    "    cns_fl\n",
    "    .query('fl_date_diff <= 0 and fl_date_diff > -90')\n",
    "    .query('DiagnosisCodeSystem == \"ICD-10-CM\"')\n",
    "    .drop_duplicates(subset = (['PatientID', 'DiagnosisCode']), keep = 'first')\n",
    "    .filter(items = ['PatientID', 'DiagnosisCode', 'diagnosis_code'])\n",
    ")"
   ]
  },
  {
   "cell_type": "code",
   "execution_count": 42,
   "id": "3c65108a",
   "metadata": {},
   "outputs": [],
   "source": [
    "cns_fl_10_ids = (\n",
    "    cns_fl_10[cns_fl_10['diagnosis_code'].str.match('C79[34]')].PatientID.unique()\n",
    ")"
   ]
  },
  {
   "cell_type": "code",
   "execution_count": 43,
   "id": "d9f14de5",
   "metadata": {},
   "outputs": [
    {
     "data": {
      "text/plain": [
       "2829"
      ]
     },
     "execution_count": 43,
     "metadata": {},
     "output_type": "execute_result"
    }
   ],
   "source": [
    "len(cns_fl_10_ids)"
   ]
  },
  {
   "cell_type": "code",
   "execution_count": 44,
   "id": "add5f868",
   "metadata": {},
   "outputs": [],
   "source": [
    "cns_fl_IDs = np.unique(np.concatenate([cns_fl_9_ids, cns_fl_10_ids]))"
   ]
  },
  {
   "cell_type": "code",
   "execution_count": 45,
   "id": "965d63c4",
   "metadata": {},
   "outputs": [
    {
     "data": {
      "text/plain": [
       "3876"
      ]
     },
     "execution_count": 45,
     "metadata": {},
     "output_type": "execute_result"
    }
   ],
   "source": [
    "len(cns_fl_IDs)"
   ]
  },
  {
   "cell_type": "markdown",
   "id": "55281811",
   "metadata": {},
   "source": [
    "#### Second line treatment"
   ]
  },
  {
   "cell_type": "code",
   "execution_count": 46,
   "id": "7f9c9d0b",
   "metadata": {},
   "outputs": [],
   "source": [
    "therapy_sec = line_therapy.query('LineNumber == 2')[['PatientID', 'StartDate']]"
   ]
  },
  {
   "cell_type": "code",
   "execution_count": 47,
   "id": "bd21bfb9",
   "metadata": {},
   "outputs": [
    {
     "data": {
      "text/plain": [
       "(1499292, 68483)"
      ]
     },
     "execution_count": 47,
     "metadata": {},
     "output_type": "execute_result"
    }
   ],
   "source": [
    "row_ID(diagnosis)"
   ]
  },
  {
   "cell_type": "code",
   "execution_count": 48,
   "id": "1c7900df",
   "metadata": {},
   "outputs": [],
   "source": [
    "cns_sec = pd.merge(diagnosis, therapy_sec, on = 'PatientID', how = 'left')"
   ]
  },
  {
   "cell_type": "code",
   "execution_count": 49,
   "id": "bc3fbc46",
   "metadata": {},
   "outputs": [
    {
     "data": {
      "text/plain": [
       "(1499292, 68483)"
      ]
     },
     "execution_count": 49,
     "metadata": {},
     "output_type": "execute_result"
    }
   ],
   "source": [
    "row_ID(diagnosis)"
   ]
  },
  {
   "cell_type": "code",
   "execution_count": 50,
   "id": "4fa0d881",
   "metadata": {},
   "outputs": [],
   "source": [
    "cns_sec.loc[:, 'sec_date_diff'] = (cns_sec['DiagnosisDate'] - cns_sec['StartDate']).dt.days"
   ]
  },
  {
   "cell_type": "code",
   "execution_count": 51,
   "id": "f250c9dc",
   "metadata": {},
   "outputs": [],
   "source": [
    "# ICD-9 dataframe with unique codes for each patient. \n",
    "cns_sec_9 = (\n",
    "    cns_sec\n",
    "    .query('sec_date_diff <= 0 and sec_date_diff > -90')\n",
    "    .query('DiagnosisCodeSystem == \"ICD-9-CM\"')\n",
    "    .drop_duplicates(subset = (['PatientID', 'DiagnosisCode']), keep = 'first')\n",
    "    .filter(items = ['PatientID', 'DiagnosisCode', 'diagnosis_code'])\n",
    ")"
   ]
  },
  {
   "cell_type": "code",
   "execution_count": 52,
   "id": "fad1a602",
   "metadata": {},
   "outputs": [],
   "source": [
    "cns_sec_9_ids = (\n",
    "    cns_sec_9[cns_sec_9['diagnosis_code'].str.match('198[34]')].PatientID.unique()\n",
    ")"
   ]
  },
  {
   "cell_type": "code",
   "execution_count": 53,
   "id": "de1baf72",
   "metadata": {},
   "outputs": [
    {
     "data": {
      "text/plain": [
       "252"
      ]
     },
     "execution_count": 53,
     "metadata": {},
     "output_type": "execute_result"
    }
   ],
   "source": [
    "len(cns_sec_9_ids)"
   ]
  },
  {
   "cell_type": "code",
   "execution_count": 54,
   "id": "e33c834e",
   "metadata": {},
   "outputs": [],
   "source": [
    "# ICD-9 dataframe with unique codes for each patient. \n",
    "cns_sec_10 = (\n",
    "    cns_sec\n",
    "    .query('sec_date_diff <= 0 and sec_date_diff > -90')\n",
    "    .query('DiagnosisCodeSystem == \"ICD-10-CM\"')\n",
    "    .drop_duplicates(subset = (['PatientID', 'DiagnosisCode']), keep = 'first')\n",
    "    .filter(items = ['PatientID', 'DiagnosisCode', 'diagnosis_code'])\n",
    ")"
   ]
  },
  {
   "cell_type": "code",
   "execution_count": 55,
   "id": "9ce942af",
   "metadata": {},
   "outputs": [],
   "source": [
    "cns_sec_10_ids = (\n",
    "    cns_sec_10[cns_sec_10['diagnosis_code'].str.match('C79[34]')].PatientID.unique()\n",
    ")"
   ]
  },
  {
   "cell_type": "code",
   "execution_count": 56,
   "id": "b1071cbe",
   "metadata": {},
   "outputs": [
    {
     "data": {
      "text/plain": [
       "765"
      ]
     },
     "execution_count": 56,
     "metadata": {},
     "output_type": "execute_result"
    }
   ],
   "source": [
    "len(cns_sec_10_ids)"
   ]
  },
  {
   "cell_type": "code",
   "execution_count": 57,
   "id": "ef06864f",
   "metadata": {},
   "outputs": [],
   "source": [
    "cns_sec_IDs = np.unique(np.concatenate([cns_sec_9_ids, cns_sec_10_ids]))"
   ]
  },
  {
   "cell_type": "code",
   "execution_count": 58,
   "id": "cd8672ac",
   "metadata": {},
   "outputs": [
    {
     "data": {
      "text/plain": [
       "1000"
      ]
     },
     "execution_count": 58,
     "metadata": {},
     "output_type": "execute_result"
    }
   ],
   "source": [
    "len(cns_sec_IDs)"
   ]
  },
  {
   "cell_type": "markdown",
   "id": "9c71ed8a",
   "metadata": {},
   "source": [
    "### 4. ECOG >1 at start of treatment "
   ]
  },
  {
   "cell_type": "code",
   "execution_count": 59,
   "id": "aca36089",
   "metadata": {},
   "outputs": [],
   "source": [
    "base_ecog = pd.read_csv('BaselineECOG.csv')"
   ]
  },
  {
   "cell_type": "code",
   "execution_count": 60,
   "id": "14ae4778",
   "metadata": {},
   "outputs": [],
   "source": [
    "base_ecog = base_ecog[base_ecog['PatientID'].isin(df['PatientID'])]       "
   ]
  },
  {
   "cell_type": "code",
   "execution_count": 61,
   "id": "01b5a887",
   "metadata": {},
   "outputs": [],
   "source": [
    "ecog_fl_IDs = (\n",
    "    base_ecog\n",
    "    .query('LineNumber == 1')\n",
    "    .query('ECOGValue == \"2\" or ECOGValue == \"3\" or ECOGValue == \"4\"')\n",
    "    .PatientID.unique())"
   ]
  },
  {
   "cell_type": "code",
   "execution_count": 62,
   "id": "467ce1ff",
   "metadata": {},
   "outputs": [
    {
     "data": {
      "text/plain": [
       "8927"
      ]
     },
     "execution_count": 62,
     "metadata": {},
     "output_type": "execute_result"
    }
   ],
   "source": [
    "len(ecog_fl_IDs)"
   ]
  },
  {
   "cell_type": "code",
   "execution_count": 63,
   "id": "6ada4fe2",
   "metadata": {},
   "outputs": [],
   "source": [
    "ecog_sec_IDs = (\n",
    "    base_ecog\n",
    "    .query('LineNumber == 2')\n",
    "    .query('ECOGValue == \"2\" or ECOGValue == \"3\" or ECOGValue == \"4\"')\n",
    "    .PatientID.unique())"
   ]
  },
  {
   "cell_type": "code",
   "execution_count": 64,
   "id": "2fb4006a",
   "metadata": {},
   "outputs": [
    {
     "data": {
      "text/plain": [
       "4022"
      ]
     },
     "execution_count": 64,
     "metadata": {},
     "output_type": "execute_result"
    }
   ],
   "source": [
    "len(ecog_sec_IDs)"
   ]
  },
  {
   "cell_type": "markdown",
   "id": "1388c526",
   "metadata": {},
   "source": [
    "### 5. Abnormal organ function at start of treatment \n",
    "* Hemoglobin >9\n",
    "* Creatinine <2\n",
    "* Total bilirubin <3"
   ]
  },
  {
   "cell_type": "code",
   "execution_count": 65,
   "id": "8bf2ffdc",
   "metadata": {},
   "outputs": [],
   "source": [
    "lab = pd.read_csv('Lab.csv')"
   ]
  },
  {
   "cell_type": "code",
   "execution_count": 66,
   "id": "10152435",
   "metadata": {},
   "outputs": [],
   "source": [
    "lab = lab[lab['PatientID'].isin(df['PatientID'])]"
   ]
  },
  {
   "cell_type": "code",
   "execution_count": 67,
   "id": "6d06704a",
   "metadata": {},
   "outputs": [],
   "source": [
    "lab.loc[:, 'ResultDate'] = pd.to_datetime(lab['ResultDate'], errors = 'coerce') "
   ]
  },
  {
   "cell_type": "code",
   "execution_count": 68,
   "id": "d89912bf",
   "metadata": {},
   "outputs": [
    {
     "data": {
      "text/plain": [
       "(39492037, 64852)"
      ]
     },
     "execution_count": 68,
     "metadata": {},
     "output_type": "execute_result"
    }
   ],
   "source": [
    "row_ID(lab)"
   ]
  },
  {
   "cell_type": "code",
   "execution_count": 69,
   "id": "48573bbf",
   "metadata": {},
   "outputs": [],
   "source": [
    "lab = pd.merge(lab, therapy_fl[['PatientID', 'StartDate']], on = 'PatientID', how = 'left')"
   ]
  },
  {
   "cell_type": "code",
   "execution_count": 70,
   "id": "99e8fda7",
   "metadata": {},
   "outputs": [
    {
     "data": {
      "text/plain": [
       "(39492037, 64852)"
      ]
     },
     "execution_count": 70,
     "metadata": {},
     "output_type": "execute_result"
    }
   ],
   "source": [
    "row_ID(lab)"
   ]
  },
  {
   "cell_type": "code",
   "execution_count": 71,
   "id": "03b2d6be",
   "metadata": {},
   "outputs": [],
   "source": [
    "# Select rows with clinically relevant labs.\n",
    "lab_core = (\n",
    "    lab[\n",
    "    (lab['LOINC'] == \"2160-0\") |\n",
    "    (lab['LOINC'] == \"38483-4\") | \n",
    "    (lab['LOINC'] == \"718-7\") |\n",
    "    (lab['LOINC'] == \"20509-6\") |\n",
    "    (lab['LOINC'] == \"42719-5\") |\n",
    "    (lab['LOINC'] == \"1975-2\")]\n",
    "    .filter(items = ['PatientID', \n",
    "                     'ResultDate', \n",
    "                     'LOINC', \n",
    "                     'LabComponent', \n",
    "                     'TestUnits', \n",
    "                     'TestUnitsCleaned', \n",
    "                     'TestResult', \n",
    "                     'TestResultCleaned', \n",
    "                     'StartDate'])\n",
    ")"
   ]
  },
  {
   "cell_type": "code",
   "execution_count": 72,
   "id": "bd698351",
   "metadata": {},
   "outputs": [],
   "source": [
    "conditions = [\n",
    "    ((lab_core['LOINC'] == '2160-0') | (lab_core['LOINC'] == '38483-4')),\n",
    "    ((lab_core['LOINC'] == '718-7') | (lab_core['LOINC'] == '20509-6')),\n",
    "    ((lab_core['LOINC'] == '42719-5') | (lab_core['LOINC'] == '1975-2'))]\n",
    "\n",
    "choices = ['creatinine', \n",
    "           'hemoglobin', \n",
    "           'total_bilirubin']\n",
    "\n",
    "lab_core.loc[:, 'lab_name'] = np.select(conditions, choices)"
   ]
  },
  {
   "cell_type": "code",
   "execution_count": 73,
   "id": "ed716605",
   "metadata": {},
   "outputs": [
    {
     "data": {
      "text/plain": [
       "(3835679, 64616)"
      ]
     },
     "execution_count": 73,
     "metadata": {},
     "output_type": "execute_result"
    }
   ],
   "source": [
    "row_ID(lab_core)"
   ]
  },
  {
   "cell_type": "code",
   "execution_count": 74,
   "id": "cd646caa",
   "metadata": {},
   "outputs": [],
   "source": [
    "conditions = [\n",
    "    (lab_core['lab_name'] == 'hemoglobin') & (lab_core['TestUnits'] == 'g/uL')]\n",
    "\n",
    "choices = [lab_core['TestResultCleaned'] / 100000]\n",
    "\n",
    "lab_core.loc[:, 'test_result_cleaned'] = np.select(conditions, choices, default = lab_core['TestResultCleaned'])"
   ]
  },
  {
   "cell_type": "code",
   "execution_count": 75,
   "id": "779e877c",
   "metadata": {},
   "outputs": [],
   "source": [
    "lab_f = (\n",
    "    lab_core\n",
    "    .assign(lab_date_diff = (lab_core['ResultDate'] - lab_core['StartDate']).dt.days)\n",
    "    .query('lab_date_diff <= 0 and lab_date_diff > -90')\n",
    "    .sort_values(by = ['PatientID', 'lab_name', 'lab_date_diff'], ascending = [True, True, False])\n",
    "    .drop_duplicates(subset = ['PatientID', 'lab_name'], keep = 'first' )\n",
    ")"
   ]
  },
  {
   "cell_type": "code",
   "execution_count": 76,
   "id": "c2b4db20",
   "metadata": {},
   "outputs": [],
   "source": [
    "# Select lab closest to date of advanced diagnosis and pivot to a wide table. \n",
    "lab_wide = (\n",
    "    lab_f\n",
    "    .pivot(index = 'PatientID', columns = 'lab_name', values = 'test_result_cleaned')\n",
    "    .reset_index())\n",
    "\n",
    "lab_wide.columns.name = None"
   ]
  },
  {
   "cell_type": "code",
   "execution_count": 77,
   "id": "1d690cbd",
   "metadata": {},
   "outputs": [
    {
     "data": {
      "text/html": [
       "<div>\n",
       "<style scoped>\n",
       "    .dataframe tbody tr th:only-of-type {\n",
       "        vertical-align: middle;\n",
       "    }\n",
       "\n",
       "    .dataframe tbody tr th {\n",
       "        vertical-align: top;\n",
       "    }\n",
       "\n",
       "    .dataframe thead th {\n",
       "        text-align: right;\n",
       "    }\n",
       "</style>\n",
       "<table border=\"1\" class=\"dataframe\">\n",
       "  <thead>\n",
       "    <tr style=\"text-align: right;\">\n",
       "      <th></th>\n",
       "      <th>PatientID</th>\n",
       "      <th>creatinine</th>\n",
       "      <th>hemoglobin</th>\n",
       "      <th>total_bilirubin</th>\n",
       "    </tr>\n",
       "  </thead>\n",
       "  <tbody>\n",
       "    <tr>\n",
       "      <th>31333</th>\n",
       "      <td>FAF2376460B38</td>\n",
       "      <td>0.5</td>\n",
       "      <td>NaN</td>\n",
       "      <td>0.4</td>\n",
       "    </tr>\n",
       "    <tr>\n",
       "      <th>10375</th>\n",
       "      <td>F39FA833F0BD8</td>\n",
       "      <td>0.8</td>\n",
       "      <td>14.2</td>\n",
       "      <td>0.3</td>\n",
       "    </tr>\n",
       "    <tr>\n",
       "      <th>7403</th>\n",
       "      <td>F298B7E539B55</td>\n",
       "      <td>0.9</td>\n",
       "      <td>10.3</td>\n",
       "      <td>0.5</td>\n",
       "    </tr>\n",
       "  </tbody>\n",
       "</table>\n",
       "</div>"
      ],
      "text/plain": [
       "           PatientID  creatinine  hemoglobin  total_bilirubin\n",
       "31333  FAF2376460B38         0.5         NaN              0.4\n",
       "10375  F39FA833F0BD8         0.8        14.2              0.3\n",
       "7403   F298B7E539B55         0.9        10.3              0.5"
      ]
     },
     "execution_count": 77,
     "metadata": {},
     "output_type": "execute_result"
    }
   ],
   "source": [
    "lab_wide.sample(3)"
   ]
  },
  {
   "cell_type": "code",
   "execution_count": 78,
   "id": "d1113148",
   "metadata": {},
   "outputs": [],
   "source": [
    "ab_organ_IDs = lab_wide.query('creatinine > 2 or hemoglobin < 9 or total_bilirubin > 3').PatientID"
   ]
  },
  {
   "cell_type": "code",
   "execution_count": 79,
   "id": "1cdf38a1",
   "metadata": {},
   "outputs": [
    {
     "data": {
      "text/plain": [
       "2256"
      ]
     },
     "execution_count": 79,
     "metadata": {},
     "output_type": "execute_result"
    }
   ],
   "source": [
    "len(ab_organ_IDs)"
   ]
  },
  {
   "cell_type": "code",
   "execution_count": 80,
   "id": "c45549a8",
   "metadata": {},
   "outputs": [],
   "source": [
    "ab_organ_IDs.to_csv('ab_organ_IDs.csv', index = False)"
   ]
  },
  {
   "cell_type": "code",
   "execution_count": 81,
   "id": "3804a71e",
   "metadata": {},
   "outputs": [],
   "source": [
    "del diagnosis\n",
    "del diagnosis_10\n",
    "del diagnosis_9\n",
    "del lab\n",
    "del lab_core\n",
    "del lab_f\n",
    "del lab_wide "
   ]
  },
  {
   "cell_type": "markdown",
   "id": "ad03557f",
   "metadata": {},
   "source": [
    "## Part 2: In-silico trials "
   ]
  },
  {
   "cell_type": "markdown",
   "id": "f8caabd3",
   "metadata": {},
   "source": [
    "### Import packages and create necessary functions"
   ]
  },
  {
   "cell_type": "code",
   "execution_count": 82,
   "id": "3f8f5c41",
   "metadata": {},
   "outputs": [],
   "source": [
    "from scipy import stats\n",
    "\n",
    "from sksurv.nonparametric import kaplan_meier_estimator\n",
    "from survive import KaplanMeier, SurvivalData\n",
    "\n",
    "from lifelines import KaplanMeierFitter, CoxPHFitter\n",
    "from lifelines.plotting import add_at_risk_counts\n",
    "from lifelines.utils import median_survival_times, restricted_mean_survival_time\n",
    "from lifelines.statistics import logrank_test\n",
    "\n",
    "from sklearn.pipeline import Pipeline\n",
    "from sklearn.impute import SimpleImputer\n",
    "from sklearn.preprocessing import StandardScaler, OneHotEncoder\n",
    "from sklearn.compose import ColumnTransformer \n",
    "from sklearn.linear_model import LogisticRegression\n",
    "from sklearn.utils import resample\n",
    "\n",
    "import warnings"
   ]
  },
  {
   "cell_type": "code",
   "execution_count": 83,
   "id": "2b41dcd6",
   "metadata": {},
   "outputs": [],
   "source": [
    "# Find index for value closest to input value. \n",
    "def find_nearest(array, value):\n",
    "    array = np.asarray(array)\n",
    "    idx = (np.abs(array - value)).argmin()\n",
    "    return array[idx]"
   ]
  },
  {
   "cell_type": "code",
   "execution_count": 84,
   "id": "43e63dee",
   "metadata": {},
   "outputs": [],
   "source": [
    "# Calculates median overeall suvival for risk groups. \n",
    "def mos(low, med, high, comp):\n",
    "    low_os = low.median_survival_time_\n",
    "    med_os = med.median_survival_time_\n",
    "    high_os = high.median_survival_time_\n",
    "    comp_os = comp.median_survival_time_\n",
    "    mos = [low_os, med_os, high_os, comp_os]\n",
    "    return (mos)"
   ]
  },
  {
   "cell_type": "code",
   "execution_count": 85,
   "id": "a1e211b8",
   "metadata": {},
   "outputs": [],
   "source": [
    "def rmst_mos_95ci(df, num_samples, drug, event, items_list, numerical_features, rmst_time):\n",
    "    \n",
    "    \"\"\"\n",
    "    Estimate the 95% confidence interval for RMST and mOS using bootstrap resampling.\n",
    "\n",
    "    Parameters:\n",
    "    - df: DataFrame containing survival data\n",
    "    - num_samples: Number of bootstrap samples\n",
    "    - drug: Treatment indicator variable\n",
    "    - event: Event type ('death' or 'progression')\n",
    "    - items_list: Feature list for IPTW \n",
    "    - numerical_features: List of numerical features\n",
    "    - rmst_time: Time to calculate RMST \n",
    "\n",
    "    Returns:\n",
    "    - mos_A_95: mOS 95% CI for treatment\n",
    "    - mos_B_95: mOS 95% CI for control\n",
    "    - rmst_A_95: RMST 95% CI for treatment\n",
    "    - rmst_B_95: RMST 95% CI for control\n",
    "    - difference_rmst_95: RMST 95% CI for difference between treatment and control \n",
    "    \"\"\"\n",
    "    \n",
    "    np.random.seed(42)\n",
    "    mos_A = []\n",
    "    mos_B = []\n",
    "    rmst_A_list = []\n",
    "    rmst_B_list = []\n",
    "    differences_rmst = []\n",
    "    \n",
    "    # Define variables based on the event type\n",
    "    if event == 'death':\n",
    "        time_column = 'timerisk_treatment'\n",
    "        status_column = 'death_status'\n",
    "        \n",
    "    else:\n",
    "        time_column = 'time_prog_treatment'\n",
    "        status_column = 'pfs_status'\n",
    "        \n",
    "    # Set up preprocessor for logistical regression which will be for IPTW  \n",
    "    numerical_transformer = Pipeline(steps = [\n",
    "        ('imputer', SimpleImputer(strategy = 'median')),\n",
    "        ('std_scaler', StandardScaler())])\n",
    "        \n",
    "    categorical_transformer = OneHotEncoder(handle_unknown = 'ignore')\n",
    "    categorical_features = list(df.select_dtypes(include = ['category']).columns)\n",
    "        \n",
    "    preprocessor = ColumnTransformer(\n",
    "        transformers = [\n",
    "            ('num', numerical_transformer, numerical_features),\n",
    "            ('cat', categorical_transformer, categorical_features)],\n",
    "        remainder = 'passthrough')\n",
    "    \n",
    "    # Boostrap HR \n",
    "    for _ in range(num_samples):\n",
    "        \n",
    "        # Resample data with replacement\n",
    "        resampled_df = resample(df).drop(columns = ['ps', 'weight'])\n",
    "        \n",
    "        # Calculated IPTW for the resampled group \n",
    "        df_x = preprocessor.fit_transform(resampled_df.filter(items = items_list))\n",
    "                                           \n",
    "        df_lr = LogisticRegression(max_iter = 1000)\n",
    "        df_lr.fit(df_x, resampled_df[drug])\n",
    "        warnings.filterwarnings(\"ignore\")\n",
    "                                           \n",
    "        pred = df_lr.predict_proba(df_x)        \n",
    "        resampled_df['ps'] = pred[:, 1]                          \n",
    "        resampled_df['weight'] = (\n",
    "                np.where(resampled_df[drug] == 1, 1/resampled_df['ps'], 1/(1 - resampled_df['ps'])))\n",
    "    \n",
    "        # mOS from IPTW-KM\n",
    "        kmf_A = KaplanMeierFitter()\n",
    "        kmf_A.fit(resampled_df.query(f'{drug} == 1')[time_column]/30,\n",
    "                  resampled_df.query(f'{drug} == 1')[status_column], \n",
    "                  weights = resampled_df.query(f'{drug} == 1')['weight'])\n",
    "\n",
    "        kmf_B = KaplanMeierFitter()\n",
    "        kmf_B.fit(resampled_df.query(f'{drug} == 0')[time_column]/30,\n",
    "                  resampled_df.query(f'{drug} == 0')[status_column], \n",
    "                  weights = resampled_df.query(f'{drug} == 0')['weight'])\n",
    "    \n",
    "        mos_A.append(kmf_A.median_survival_time_)\n",
    "        mos_B.append(kmf_B.median_survival_time_)\n",
    "        \n",
    "        # RMST from IPTW-KM\n",
    "        rmst_A = restricted_mean_survival_time(kmf_A, rmst_time)\n",
    "        rmst_B = restricted_mean_survival_time(kmf_B, rmst_time)\n",
    "        \n",
    "        rmst_A_list.append(rmst_A)\n",
    "        rmst_B_list.append(rmst_B)\n",
    "        differences_rmst.append(rmst_A - rmst_B)\n",
    "\n",
    "    # Calculate the 95% confidence interval\n",
    "    results = pd.Series({\n",
    "    'mos_A_95': np.percentile(mos_A, [2.5, 97.5]),\n",
    "    'mos_B_95': np.percentile(mos_B, [2.5, 97.5]),\n",
    "    'rmst_A_95': np.percentile(rmst_A_list, [2.5, 97.5]),\n",
    "    'rmst_B_95': np.percentile(rmst_B_list, [2.5, 97.5]),\n",
    "    'difference_rmst_95': np.percentile(differences_rmst, [2.5, 97.5])\n",
    "    })\n",
    "    \n",
    "    return results"
   ]
  },
  {
   "cell_type": "code",
   "execution_count": 86,
   "id": "2c72158a",
   "metadata": {},
   "outputs": [],
   "source": [
    "cutoff = pd.read_csv('risk_cutoff_lung.csv', index_col = 0)"
   ]
  },
  {
   "cell_type": "markdown",
   "id": "143b62d7",
   "metadata": {},
   "source": [
    "### KEYNOTE-042: First-line pembrolizumab vs. platinum-based chemotherapy in those with PDL1 >=1%\n",
    "\n",
    "**INCLUSION CRITERIA**\n",
    "* Untreated locally advanced or metastatic NSCLC\n",
    "* Received first line pemobrolizumab or platinum-based chemotherapy \n",
    "* PDL1 >= 1% and status known within (-inf, +30] days of first-line treatment\n",
    "* EGFR and ALK negative\n",
    "* No autoimmune diseases in the year preceding metastatic diagnosis \n",
    "* No history of ILD, HIV, Hep C, Hep B, severe psychiatric history, or drug use disorder in the year preceding metastatic diagnosis \n",
    "* No CNS metastasis at start of treatment \n",
    "* ECOG is not 2, 3, or 4 at start of treatment \n",
    "* Adeuquate organ function at start of treatment "
   ]
  },
  {
   "cell_type": "markdown",
   "id": "51792018",
   "metadata": {},
   "source": [
    "#### Pembrolizumab"
   ]
  },
  {
   "cell_type": "code",
   "execution_count": 87,
   "id": "50b8be4a",
   "metadata": {},
   "outputs": [
    {
     "data": {
      "text/plain": [
       "68483"
      ]
     },
     "execution_count": 87,
     "metadata": {},
     "output_type": "execute_result"
    }
   ],
   "source": [
    "df_full = pd.read_csv('df_risk_crude.csv', index_col = 'PatientID', dtype = {'death_status': bool})\n",
    "df_full.index.nunique()"
   ]
  },
  {
   "cell_type": "code",
   "execution_count": 88,
   "id": "c40c3db1",
   "metadata": {},
   "outputs": [],
   "source": [
    "line_therapy = pd.read_csv('LineOfTherapy.csv')"
   ]
  },
  {
   "cell_type": "code",
   "execution_count": 89,
   "id": "ab8f1b65",
   "metadata": {},
   "outputs": [],
   "source": [
    "key042_pembro = (\n",
    "    line_therapy[line_therapy['PatientID'].isin(df_full.index)]\n",
    "    .query('LineNumber == 1')\n",
    "    .query('IsMaintenanceTherapy == False')\n",
    "    .query('LineName == \"Pembrolizumab\"')\n",
    "    [['PatientID', 'StartDate']]\n",
    ")"
   ]
  },
  {
   "cell_type": "code",
   "execution_count": 90,
   "id": "5b343a4f",
   "metadata": {},
   "outputs": [],
   "source": [
    "key042_pembro.loc[:, 'pembro'] = 1"
   ]
  },
  {
   "cell_type": "code",
   "execution_count": 91,
   "id": "24fe6d03",
   "metadata": {},
   "outputs": [
    {
     "data": {
      "text/plain": [
       "(3648, 3648)"
      ]
     },
     "execution_count": 91,
     "metadata": {},
     "output_type": "execute_result"
    }
   ],
   "source": [
    "row_ID(key042_pembro)"
   ]
  },
  {
   "cell_type": "code",
   "execution_count": 92,
   "id": "7413975f",
   "metadata": {},
   "outputs": [],
   "source": [
    "# Dataframe of all therapies received for those receiving first line pembrolizumab only. \n",
    "line_therapy_pembro_042 = (\n",
    "    line_therapy[line_therapy['PatientID'].isin(key042_pembro.PatientID)])"
   ]
  },
  {
   "cell_type": "code",
   "execution_count": 93,
   "id": "b6f62511",
   "metadata": {},
   "outputs": [],
   "source": [
    "targeted = [\n",
    "    'Afatinib',\n",
    "    'Alectinib',\n",
    "    'Brigatinib',\n",
    "    'Cabozantinib',\n",
    "    'Capmatinib',\n",
    "    'Ceritinib',\n",
    "    'Crizotinib',\n",
    "    'Dabrafenib',\n",
    "    'Dacomitinib',\n",
    "    'Entrectinib',\n",
    "    'Erlotinib',\n",
    "    'Gefitinib',\n",
    "    'Lorlatinib',\n",
    "    'Osimertinib',\n",
    "    'Pralsetinib',\n",
    "    'Selpercatinib',\n",
    "    'Sotorasib',\n",
    "    'Tepotinib',\n",
    "    'Trametinib',\n",
    "    'Vandetanib']"
   ]
  },
  {
   "cell_type": "code",
   "execution_count": 94,
   "id": "d95a8253",
   "metadata": {},
   "outputs": [],
   "source": [
    "# Patients receiving pembrolizumab therapy who later recieve targeted therapy. \n",
    "pembro_042_xcross = (\n",
    "    line_therapy_pembro_042[line_therapy_pembro_042['LineName'].str.contains('|'.join(targeted))].PatientID)"
   ]
  },
  {
   "cell_type": "code",
   "execution_count": 95,
   "id": "67e8c964",
   "metadata": {},
   "outputs": [],
   "source": [
    "# Select patients who don't receive targeted therapy in future lines.\n",
    "key042_pembro = key042_pembro[~key042_pembro['PatientID'].isin(pembro_042_xcross)]"
   ]
  },
  {
   "cell_type": "code",
   "execution_count": 96,
   "id": "7d30f14c",
   "metadata": {},
   "outputs": [
    {
     "data": {
      "text/plain": [
       "(3582, 3582)"
      ]
     },
     "execution_count": 96,
     "metadata": {},
     "output_type": "execute_result"
    }
   ],
   "source": [
    "row_ID(key042_pembro)"
   ]
  },
  {
   "cell_type": "code",
   "execution_count": 97,
   "id": "53844668",
   "metadata": {},
   "outputs": [
    {
     "data": {
      "text/plain": [
       "(3582, 3582)"
      ]
     },
     "execution_count": 97,
     "metadata": {},
     "output_type": "execute_result"
    }
   ],
   "source": [
    "row_ID(key042_pembro)"
   ]
  },
  {
   "cell_type": "markdown",
   "id": "56d71e97",
   "metadata": {},
   "source": [
    "#### Platinum-based chemotherapy "
   ]
  },
  {
   "cell_type": "code",
   "execution_count": 98,
   "id": "1d190faa",
   "metadata": {},
   "outputs": [],
   "source": [
    "line_therapy_fl = (\n",
    "    line_therapy[line_therapy['PatientID'].isin(df_full.index)]\n",
    "    .query('LineNumber == 1')\n",
    "    .query('IsMaintenanceTherapy == False')\n",
    ")"
   ]
  },
  {
   "cell_type": "code",
   "execution_count": 99,
   "id": "b9e42fc1",
   "metadata": {},
   "outputs": [],
   "source": [
    "plat_chemo = [\n",
    "    'Carboplatin',\n",
    "    'Cisplatin']\n",
    "\n",
    "immuno = [\n",
    "    'Atezolizumab',\n",
    "    'Cemiplimab',\n",
    "    'Durvalumab',\n",
    "    'Ipilimumab',\n",
    "    'Nivolumab',\n",
    "    'Pembrolizumab'\n",
    "]"
   ]
  },
  {
   "cell_type": "code",
   "execution_count": 100,
   "id": "2148dbef",
   "metadata": {},
   "outputs": [
    {
     "data": {
      "text/plain": [
       "Carboplatin,Paclitaxel                  8524\n",
       "Carboplatin,Pemetrexed                  5417\n",
       "Bevacizumab,Carboplatin,Pemetrexed      2825\n",
       "Carboplatin,Paclitaxel Protein-Bound    1826\n",
       "Bevacizumab,Carboplatin,Paclitaxel      1591\n",
       "Carboplatin,Gemcitabine                 1224\n",
       "Cisplatin,Etoposide                      793\n",
       "Carboplatin,Docetaxel                    780\n",
       "Cisplatin,Pemetrexed                     684\n",
       "Carboplatin,Etoposide                    363\n",
       "Name: LineName, dtype: int64"
      ]
     },
     "execution_count": 100,
     "metadata": {},
     "output_type": "execute_result"
    }
   ],
   "source": [
    "line_therapy_fl[line_therapy_fl['LineName'].str.contains('|'.join(plat_chemo)) & \n",
    "                ~line_therapy_fl['LineName'].str.contains('|'.join(immuno)) &\n",
    "                ~line_therapy_fl['LineName'].str.contains('|'.join(targeted)) &\n",
    "                ~line_therapy_fl['LineName'].str.contains('Clinical Study Drug')].LineName.value_counts().head(10)"
   ]
  },
  {
   "cell_type": "code",
   "execution_count": 101,
   "id": "21fc2674",
   "metadata": {},
   "outputs": [],
   "source": [
    "key042_plat = (\n",
    "    line_therapy_fl[line_therapy_fl['LineName'].str.contains('|'.join(plat_chemo)) & \n",
    "                    ~line_therapy_fl['LineName'].str.contains('|'.join(immuno)) &\n",
    "                    ~line_therapy_fl['LineName'].str.contains('|'.join(targeted)) &\n",
    "                    ~line_therapy_fl['LineName'].str.contains('Clinical Study Drug')]\n",
    "    [['PatientID', 'StartDate']]\n",
    ")"
   ]
  },
  {
   "cell_type": "code",
   "execution_count": 102,
   "id": "fc6865a5",
   "metadata": {},
   "outputs": [],
   "source": [
    "key042_plat.loc[:, 'pembro'] = 0"
   ]
  },
  {
   "cell_type": "code",
   "execution_count": 103,
   "id": "33040ccc",
   "metadata": {},
   "outputs": [
    {
     "data": {
      "text/plain": [
       "(25861, 25861)"
      ]
     },
     "execution_count": 103,
     "metadata": {},
     "output_type": "execute_result"
    }
   ],
   "source": [
    "row_ID(key042_plat)"
   ]
  },
  {
   "cell_type": "code",
   "execution_count": 104,
   "id": "29345d9a",
   "metadata": {},
   "outputs": [],
   "source": [
    "# Dataframe of all therapies received for those receiving first line platinum regimen   \n",
    "line_therapy_plat_042 = (\n",
    "    line_therapy[line_therapy['PatientID'].isin(key042_plat.PatientID)])"
   ]
  },
  {
   "cell_type": "code",
   "execution_count": 105,
   "id": "023cef18",
   "metadata": {},
   "outputs": [],
   "source": [
    "# Patients receiving platinum therapy who later recieve targeted therapy. \n",
    "plat_042_xcross = (\n",
    "    line_therapy_plat_042[line_therapy_plat_042['LineName'].str.contains('|'.join(targeted))].PatientID)"
   ]
  },
  {
   "cell_type": "code",
   "execution_count": 106,
   "id": "6a4565d5",
   "metadata": {},
   "outputs": [],
   "source": [
    "# Select patients who don't receive targeted therapy in future lines \n",
    "key042_plat = key042_plat[~key042_plat['PatientID'].isin(plat_042_xcross)]"
   ]
  },
  {
   "cell_type": "code",
   "execution_count": 107,
   "id": "3e5d6260",
   "metadata": {},
   "outputs": [
    {
     "data": {
      "text/plain": [
       "(23800, 23800)"
      ]
     },
     "execution_count": 107,
     "metadata": {},
     "output_type": "execute_result"
    }
   ],
   "source": [
    "row_ID(key042_plat)"
   ]
  },
  {
   "cell_type": "code",
   "execution_count": 108,
   "id": "825f89ce",
   "metadata": {},
   "outputs": [],
   "source": [
    "key_042 = pd.concat([key042_pembro, key042_plat])"
   ]
  },
  {
   "cell_type": "code",
   "execution_count": 109,
   "id": "ce77293e",
   "metadata": {},
   "outputs": [
    {
     "data": {
      "text/plain": [
       "(27382, 27382)"
      ]
     },
     "execution_count": 109,
     "metadata": {},
     "output_type": "execute_result"
    }
   ],
   "source": [
    "row_ID(key_042)"
   ]
  },
  {
   "cell_type": "code",
   "execution_count": 110,
   "id": "0d798bc8",
   "metadata": {},
   "outputs": [],
   "source": [
    "key_042 = pd.merge(key_042, df_full, on = 'PatientID', how = 'left')"
   ]
  },
  {
   "cell_type": "code",
   "execution_count": 111,
   "id": "3136fe02",
   "metadata": {},
   "outputs": [
    {
     "data": {
      "text/plain": [
       "(27382, 27382)"
      ]
     },
     "execution_count": 111,
     "metadata": {},
     "output_type": "execute_result"
    }
   ],
   "source": [
    "row_ID(key_042)"
   ]
  },
  {
   "cell_type": "code",
   "execution_count": 112,
   "id": "66c6153b",
   "metadata": {},
   "outputs": [],
   "source": [
    "key_042['StartDate'] = pd.to_datetime(key_042['StartDate'])"
   ]
  },
  {
   "cell_type": "markdown",
   "id": "87f40592",
   "metadata": {},
   "source": [
    "#### PDL1 >=1%"
   ]
  },
  {
   "cell_type": "code",
   "execution_count": 113,
   "id": "9060b6be",
   "metadata": {},
   "outputs": [],
   "source": [
    "biomarkers = pd.read_csv('Enhanced_AdvNSCLCBiomarkers.csv')"
   ]
  },
  {
   "cell_type": "code",
   "execution_count": 114,
   "id": "973e8b01",
   "metadata": {},
   "outputs": [],
   "source": [
    "biomarkers = biomarkers[biomarkers['PatientID'].isin(key_042['PatientID'])]"
   ]
  },
  {
   "cell_type": "code",
   "execution_count": 115,
   "id": "1b382372",
   "metadata": {},
   "outputs": [],
   "source": [
    "biomarkers = pd.merge(biomarkers, key_042[['PatientID', 'StartDate']], on = 'PatientID', how = 'left')"
   ]
  },
  {
   "cell_type": "code",
   "execution_count": 116,
   "id": "6a857c9b",
   "metadata": {},
   "outputs": [
    {
     "data": {
      "text/plain": [
       "(94603, 19875)"
      ]
     },
     "execution_count": 116,
     "metadata": {},
     "output_type": "execute_result"
    }
   ],
   "source": [
    "row_ID(biomarkers)"
   ]
  },
  {
   "cell_type": "code",
   "execution_count": 117,
   "id": "4b78c124",
   "metadata": {},
   "outputs": [],
   "source": [
    "biomarkers['ResultDate'] = pd.to_datetime(biomarkers['ResultDate'])"
   ]
  },
  {
   "cell_type": "code",
   "execution_count": 118,
   "id": "d5f9d612",
   "metadata": {},
   "outputs": [],
   "source": [
    "biomarkers['SpecimenReceivedDate'] = pd.to_datetime(biomarkers['SpecimenReceivedDate'])"
   ]
  },
  {
   "cell_type": "code",
   "execution_count": 119,
   "id": "1049d410",
   "metadata": {},
   "outputs": [],
   "source": [
    "biomarkers.loc[:, 'result_date'] = (\n",
    "    np.where(biomarkers['ResultDate'].isna(), biomarkers['SpecimenReceivedDate'], biomarkers['ResultDate'])\n",
    ")"
   ]
  },
  {
   "cell_type": "code",
   "execution_count": 120,
   "id": "fc69626d",
   "metadata": {},
   "outputs": [],
   "source": [
    "biomarkers.loc[:, 'date_diff'] = (biomarkers['result_date'] - biomarkers['StartDate']).dt.days"
   ]
  },
  {
   "cell_type": "code",
   "execution_count": 121,
   "id": "e2a42684",
   "metadata": {},
   "outputs": [],
   "source": [
    "pdl1_value = (\n",
    "    biomarkers\n",
    "    .query('BiomarkerName == \"PDL1\"')\n",
    "    .query('date_diff <=30')\n",
    "    .query('PercentStaining != \"0%\" and PercentStaining != \"< 1%\" and PercentStaining.notnull()', engine = 'python')\n",
    "    .sort_values(by = ['PatientID', 'PercentStaining'], ascending = [True, False])\n",
    "    .drop_duplicates(subset = ['PatientID'], keep = 'first')\n",
    "    [['PatientID', 'PercentStaining']]\n",
    ")"
   ]
  },
  {
   "cell_type": "code",
   "execution_count": 122,
   "id": "63e3e098",
   "metadata": {},
   "outputs": [],
   "source": [
    "pdl1_ids = (\n",
    "    biomarkers\n",
    "    .query('BiomarkerName == \"PDL1\"')\n",
    "    .query('date_diff <=30')\n",
    "    .query('PercentStaining != \"0%\" and PercentStaining != \"< 1%\" and PercentStaining.notnull()', engine = 'python')\n",
    "    .PatientID\n",
    "    .unique()\n",
    ")"
   ]
  },
  {
   "cell_type": "code",
   "execution_count": 123,
   "id": "f4839338",
   "metadata": {},
   "outputs": [],
   "source": [
    "key_042 = key_042[key_042.PatientID.isin(pdl1_ids)]"
   ]
  },
  {
   "cell_type": "code",
   "execution_count": 124,
   "id": "9696b0d5",
   "metadata": {},
   "outputs": [
    {
     "data": {
      "text/plain": [
       "(5671, 5671)"
      ]
     },
     "execution_count": 124,
     "metadata": {},
     "output_type": "execute_result"
    }
   ],
   "source": [
    "row_ID(key_042)"
   ]
  },
  {
   "cell_type": "markdown",
   "id": "8f9a004d",
   "metadata": {},
   "source": [
    "#### Time from treatment to death or censor"
   ]
  },
  {
   "cell_type": "code",
   "execution_count": 125,
   "id": "c5710ef0",
   "metadata": {},
   "outputs": [],
   "source": [
    "mortality_tr = pd.read_csv('mortality_cleaned_tr.csv')"
   ]
  },
  {
   "cell_type": "code",
   "execution_count": 126,
   "id": "a41029f3",
   "metadata": {},
   "outputs": [],
   "source": [
    "mortality_te = pd.read_csv('mortality_cleaned_te.csv')"
   ]
  },
  {
   "cell_type": "code",
   "execution_count": 127,
   "id": "1c992b70",
   "metadata": {},
   "outputs": [],
   "source": [
    "mortality_tr = mortality_tr[['PatientID', 'death_date', 'last_activity']]"
   ]
  },
  {
   "cell_type": "code",
   "execution_count": 128,
   "id": "e38aa7e2",
   "metadata": {},
   "outputs": [],
   "source": [
    "mortality_te = mortality_te[['PatientID', 'death_date', 'last_activity']]"
   ]
  },
  {
   "cell_type": "code",
   "execution_count": 129,
   "id": "c1fb7ceb",
   "metadata": {},
   "outputs": [
    {
     "name": "stdout",
     "output_type": "stream",
     "text": [
      "68483 True\n"
     ]
    }
   ],
   "source": [
    "mortality = pd.concat([mortality_tr, mortality_te], ignore_index = True)\n",
    "print(len(mortality), mortality.PatientID.is_unique)"
   ]
  },
  {
   "cell_type": "code",
   "execution_count": 130,
   "id": "eb8a38bb",
   "metadata": {},
   "outputs": [],
   "source": [
    "mortality.loc[:, 'last_activity'] = pd.to_datetime(mortality['last_activity'])"
   ]
  },
  {
   "cell_type": "code",
   "execution_count": 131,
   "id": "5c983f6e",
   "metadata": {},
   "outputs": [],
   "source": [
    "mortality.loc[:, 'death_date'] = pd.to_datetime(mortality['death_date'])"
   ]
  },
  {
   "cell_type": "code",
   "execution_count": 132,
   "id": "2babff28",
   "metadata": {},
   "outputs": [],
   "source": [
    "key_042 = pd.merge(key_042, mortality, on = 'PatientID', how = 'left')"
   ]
  },
  {
   "cell_type": "code",
   "execution_count": 133,
   "id": "e106b329",
   "metadata": {},
   "outputs": [
    {
     "data": {
      "text/plain": [
       "(5671, 5671)"
      ]
     },
     "execution_count": 133,
     "metadata": {},
     "output_type": "execute_result"
    }
   ],
   "source": [
    "row_ID(key_042)"
   ]
  },
  {
   "cell_type": "code",
   "execution_count": 134,
   "id": "9438f1bd",
   "metadata": {},
   "outputs": [],
   "source": [
    "conditions = [\n",
    "    (key_042['death_status'] == 1),\n",
    "    (key_042['death_status'] == 0)]\n",
    "\n",
    "choices = [\n",
    "    (key_042['death_date'] - key_042['StartDate']).dt.days,\n",
    "    (key_042['last_activity'] - key_042['StartDate']).dt.days]\n",
    "\n",
    "key_042.loc[:, 'timerisk_treatment'] = np.select(conditions, choices)"
   ]
  },
  {
   "cell_type": "code",
   "execution_count": 135,
   "id": "1f67f59d",
   "metadata": {},
   "outputs": [],
   "source": [
    "key_042 = key_042.query('timerisk_treatment >= 0')"
   ]
  },
  {
   "cell_type": "markdown",
   "id": "7e3e90a5",
   "metadata": {},
   "source": [
    "#### Patient count"
   ]
  },
  {
   "cell_type": "code",
   "execution_count": 136,
   "id": "6ca05d77",
   "metadata": {},
   "outputs": [],
   "source": [
    "key_042 = (\n",
    "    key_042\n",
    "    .query('EGFR != \"positive\"')\n",
    "    .query('ALK != \"positive\"')\n",
    ")"
   ]
  },
  {
   "cell_type": "code",
   "execution_count": 137,
   "id": "ef6b6cab",
   "metadata": {},
   "outputs": [
    {
     "data": {
      "text/plain": [
       "(5548, 5548)"
      ]
     },
     "execution_count": 137,
     "metadata": {},
     "output_type": "execute_result"
    }
   ],
   "source": [
    "row_ID(key_042)"
   ]
  },
  {
   "cell_type": "code",
   "execution_count": 138,
   "id": "65c7d3e7",
   "metadata": {},
   "outputs": [],
   "source": [
    "# Exclude those with autoimmune conditions. \n",
    "key_042 = key_042[~key_042['PatientID'].isin(auto_IDs)]"
   ]
  },
  {
   "cell_type": "code",
   "execution_count": 139,
   "id": "7f8b6a3a",
   "metadata": {},
   "outputs": [],
   "source": [
    "# Exclude those with other relevant comorbidities\n",
    "key_042 = key_042[~key_042['PatientID'].isin(other_comorb_IDs)]"
   ]
  },
  {
   "cell_type": "code",
   "execution_count": 140,
   "id": "919feb1f",
   "metadata": {},
   "outputs": [],
   "source": [
    "# Exlcude those with CNS metastasis \n",
    "key_042 = key_042[~key_042['PatientID'].isin(cns_fl_IDs)]"
   ]
  },
  {
   "cell_type": "code",
   "execution_count": 141,
   "id": "e9b9c75d",
   "metadata": {},
   "outputs": [],
   "source": [
    "# Exclude those with ECOG 2, 3, or 4\n",
    "key_042 = key_042[~key_042['PatientID'].isin(ecog_fl_IDs)]"
   ]
  },
  {
   "cell_type": "code",
   "execution_count": 142,
   "id": "17b2ad73",
   "metadata": {},
   "outputs": [],
   "source": [
    "# Exclude those with abnormal organ function\n",
    "key_042 = key_042[~key_042['PatientID'].isin(ab_organ_IDs)]"
   ]
  },
  {
   "cell_type": "code",
   "execution_count": 143,
   "id": "adce4ead",
   "metadata": {},
   "outputs": [
    {
     "data": {
      "text/plain": [
       "(3727, 3727)"
      ]
     },
     "execution_count": 143,
     "metadata": {},
     "output_type": "execute_result"
    }
   ],
   "source": [
    "row_ID(key_042)"
   ]
  },
  {
   "cell_type": "code",
   "execution_count": 144,
   "id": "71dca225",
   "metadata": {},
   "outputs": [],
   "source": [
    "low_cutoff_042 = cutoff.loc['keynote_042'].low"
   ]
  },
  {
   "cell_type": "code",
   "execution_count": 145,
   "id": "e5ea6bb3",
   "metadata": {},
   "outputs": [],
   "source": [
    "high_cutoff_042 = cutoff.loc['keynote_042'].high"
   ]
  },
  {
   "cell_type": "code",
   "execution_count": 146,
   "id": "b91455c1",
   "metadata": {},
   "outputs": [
    {
     "name": "stdout",
     "output_type": "stream",
     "text": [
      "Pembro total: 1818\n",
      "High risk: 475\n",
      "Med risk: 651\n",
      "Low risk: 692\n"
     ]
    }
   ],
   "source": [
    "print('Pembro total:', key_042.query('pembro == 1').shape[0])\n",
    "print('High risk:', key_042.query('pembro == 1').query('risk_score >= @high_cutoff_042').shape[0])\n",
    "print('Med risk:', key_042.query('pembro == 1').query('risk_score < @high_cutoff_042 and risk_score > @low_cutoff_042').shape[0])\n",
    "print('Low risk:', key_042.query('pembro == 1').query('risk_score <= @low_cutoff_042').shape[0])"
   ]
  },
  {
   "cell_type": "code",
   "execution_count": 147,
   "id": "486d4be1",
   "metadata": {},
   "outputs": [
    {
     "name": "stdout",
     "output_type": "stream",
     "text": [
      "Platinum total: 1909\n",
      "High risk: 450\n",
      "Med risk: 653\n",
      "Low risk: 806\n"
     ]
    }
   ],
   "source": [
    "print('Platinum total:',  key_042.query('pembro == 0').shape[0])\n",
    "print('High risk:', key_042.query('pembro == 0').query('risk_score >= @high_cutoff_042').shape[0])\n",
    "print('Med risk:', key_042.query('pembro == 0').query('risk_score < @high_cutoff_042 and risk_score > @low_cutoff_042').shape[0])\n",
    "print('Low risk:', key_042.query('pembro == 0').query('risk_score <= @low_cutoff_042').shape[0])"
   ]
  },
  {
   "cell_type": "markdown",
   "id": "1ebcc0e9",
   "metadata": {},
   "source": [
    "#### Survival curves with covariate balancing "
   ]
  },
  {
   "cell_type": "code",
   "execution_count": 148,
   "id": "7deb50a6",
   "metadata": {
    "scrolled": true
   },
   "outputs": [
    {
     "data": {
      "text/plain": [
       "(3727, 3727)"
      ]
     },
     "execution_count": 148,
     "metadata": {},
     "output_type": "execute_result"
    }
   ],
   "source": [
    "row_ID(key_042)"
   ]
  },
  {
   "cell_type": "code",
   "execution_count": 149,
   "id": "19892bfa",
   "metadata": {},
   "outputs": [],
   "source": [
    "key_042 = pd.merge(key_042, pdl1_value, on = 'PatientID', how = 'left')"
   ]
  },
  {
   "cell_type": "code",
   "execution_count": 150,
   "id": "1c3d41c5",
   "metadata": {},
   "outputs": [
    {
     "data": {
      "text/plain": [
       "(3727, 3727)"
      ]
     },
     "execution_count": 150,
     "metadata": {},
     "output_type": "execute_result"
    }
   ],
   "source": [
    "row_ID(key_042)"
   ]
  },
  {
   "cell_type": "code",
   "execution_count": 151,
   "id": "c66051c9",
   "metadata": {},
   "outputs": [],
   "source": [
    "conditions = [\n",
    "    (key_042['PercentStaining'] == \"1%\") | \n",
    "    (key_042['PercentStaining'] == \"2% - 4%\") |\n",
    "    (key_042['PercentStaining'] == \"5% - 9%\") |\n",
    "    (key_042['PercentStaining'] == \"10% - 19%\") |\n",
    "    (key_042['PercentStaining'] == \"20% - 29%\") |\n",
    "    (key_042['PercentStaining'] == \"30% - 39%\") |\n",
    "    (key_042['PercentStaining'] == \"40% - 49%\")\n",
    "]\n",
    "\n",
    "choices = ['lt50']\n",
    "\n",
    "key_042['pdl1_det'] = np.select(conditions, choices, default = 'gte50')"
   ]
  },
  {
   "cell_type": "code",
   "execution_count": 152,
   "id": "809ee92d",
   "metadata": {},
   "outputs": [],
   "source": [
    "key_042 = key_042.set_index('PatientID')"
   ]
  },
  {
   "cell_type": "code",
   "execution_count": 153,
   "id": "c0ed91f9",
   "metadata": {},
   "outputs": [],
   "source": [
    "key_042_iptw = key_042.filter(items = ['death_status',\n",
    "                                       'timerisk_treatment',\n",
    "                                       'pembro',\n",
    "                                       'age',\n",
    "                                       'gender',\n",
    "                                       'race',\n",
    "                                       'PracticeType',\n",
    "                                       'Histology',\n",
    "                                       'adv_year',\n",
    "                                       'delta_adv_diagnosis',\n",
    "                                       'commercial',\n",
    "                                       'medicare',\n",
    "                                       'medicaid',\n",
    "                                       'ecog_diagnosis',\n",
    "                                       'pdl1_det',\n",
    "                                       'albumin_diag',\n",
    "                                       'weight_pct_change',\n",
    "                                       'risk_score'])"
   ]
  },
  {
   "cell_type": "code",
   "execution_count": 154,
   "id": "4fc076be",
   "metadata": {},
   "outputs": [],
   "source": [
    "key_042_iptw['met_cat'] = pd.cut(key_042_iptw['adv_year'],\n",
    "                                 bins = [2010, 2016, float('inf')],\n",
    "                                 labels = ['11-16', '17-21'])"
   ]
  },
  {
   "cell_type": "code",
   "execution_count": 155,
   "id": "e30d4b27",
   "metadata": {},
   "outputs": [],
   "source": [
    "conditions = [\n",
    "    ((key_042_iptw['ecog_diagnosis'] == \"1.0\") | (key_042_iptw['ecog_diagnosis'] == \"0.0\")),  \n",
    "    ((key_042_iptw['ecog_diagnosis'] == \"2.0\") | (key_042_iptw['ecog_diagnosis'] == \"3.0\"))\n",
    "]\n",
    "\n",
    "choices = ['lt_2', 'gte_2']\n",
    "\n",
    "key_042_iptw['ecog_2'] = np.select(conditions, choices, default = 'unknown')"
   ]
  },
  {
   "cell_type": "code",
   "execution_count": 156,
   "id": "b3577c89",
   "metadata": {
    "scrolled": true
   },
   "outputs": [
    {
     "data": {
      "text/plain": [
       "death_status               bool\n",
       "timerisk_treatment      float64\n",
       "pembro                    int64\n",
       "age                       int64\n",
       "gender                   object\n",
       "race                     object\n",
       "PracticeType             object\n",
       "Histology                object\n",
       "adv_year                  int64\n",
       "delta_adv_diagnosis       int64\n",
       "commercial              float64\n",
       "medicare                float64\n",
       "medicaid                float64\n",
       "ecog_diagnosis           object\n",
       "pdl1_det                 object\n",
       "albumin_diag            float64\n",
       "weight_pct_change       float64\n",
       "risk_score              float64\n",
       "met_cat                category\n",
       "ecog_2                   object\n",
       "dtype: object"
      ]
     },
     "execution_count": 156,
     "metadata": {},
     "output_type": "execute_result"
    }
   ],
   "source": [
    "key_042_iptw.dtypes"
   ]
  },
  {
   "cell_type": "code",
   "execution_count": 157,
   "id": "42c9ef7c",
   "metadata": {},
   "outputs": [],
   "source": [
    "to_be_categorical = list(key_042_iptw.select_dtypes(include = ['object']).columns)"
   ]
  },
  {
   "cell_type": "code",
   "execution_count": 158,
   "id": "d70254c6",
   "metadata": {},
   "outputs": [
    {
     "data": {
      "text/plain": [
       "['gender',\n",
       " 'race',\n",
       " 'PracticeType',\n",
       " 'Histology',\n",
       " 'ecog_diagnosis',\n",
       " 'pdl1_det',\n",
       " 'ecog_2']"
      ]
     },
     "execution_count": 158,
     "metadata": {},
     "output_type": "execute_result"
    }
   ],
   "source": [
    "to_be_categorical"
   ]
  },
  {
   "cell_type": "code",
   "execution_count": 159,
   "id": "70a0539b",
   "metadata": {},
   "outputs": [],
   "source": [
    "to_be_categorical.append('met_cat')"
   ]
  },
  {
   "cell_type": "code",
   "execution_count": 160,
   "id": "ef4d2ea8",
   "metadata": {},
   "outputs": [],
   "source": [
    "to_be_categorical.remove('ecog_diagnosis')"
   ]
  },
  {
   "cell_type": "code",
   "execution_count": 161,
   "id": "6107d931",
   "metadata": {},
   "outputs": [],
   "source": [
    "# Convert variables in list to categorical.\n",
    "for x in list(to_be_categorical):\n",
    "    key_042_iptw[x] = key_042_iptw[x].astype('category')"
   ]
  },
  {
   "cell_type": "code",
   "execution_count": 162,
   "id": "609852ad",
   "metadata": {},
   "outputs": [],
   "source": [
    "# List of numeric variables, excluding binary variables. \n",
    "numerical_features = ['age', 'delta_adv_diagnosis', 'albumin_diag', 'weight_pct_change', 'risk_score']\n",
    "\n",
    "# Transformer will first calculate column median and impute, and then apply a standard scaler. \n",
    "numerical_transformer = Pipeline(steps = [\n",
    "    ('imputer', SimpleImputer(strategy = 'median')),\n",
    "    ('std_scaler', StandardScaler())])"
   ]
  },
  {
   "cell_type": "code",
   "execution_count": 163,
   "id": "854cbdab",
   "metadata": {},
   "outputs": [],
   "source": [
    "# List of categorical features.\n",
    "categorical_features = list(key_042_iptw.select_dtypes(include = ['category']).columns)\n",
    "\n",
    "# One-hot-encode categorical features.\n",
    "categorical_transformer = OneHotEncoder(handle_unknown = 'ignore')"
   ]
  },
  {
   "cell_type": "code",
   "execution_count": 164,
   "id": "9808142b",
   "metadata": {},
   "outputs": [],
   "source": [
    "preprocessor = ColumnTransformer(\n",
    "    transformers = [\n",
    "        ('num', numerical_transformer, numerical_features),\n",
    "        ('cat', categorical_transformer, categorical_features)],\n",
    "    remainder = 'passthrough')"
   ]
  },
  {
   "cell_type": "code",
   "execution_count": 165,
   "id": "24719ded",
   "metadata": {},
   "outputs": [],
   "source": [
    "key_042_iptw_low = (\n",
    "    key_042_iptw\n",
    "    .query('risk_score <= @low_cutoff_042'))\n",
    "\n",
    "key_042_iptw_med = (\n",
    "    key_042_iptw\n",
    "    .query('risk_score < @high_cutoff_042 and risk_score > @low_cutoff_042'))\n",
    "\n",
    "key_042_iptw_high = (\n",
    "    key_042_iptw\n",
    "    .query('risk_score >= @high_cutoff_042'))\n",
    "\n",
    "key_042_iptw_all = key_042_iptw"
   ]
  },
  {
   "cell_type": "code",
   "execution_count": 166,
   "id": "93e673e9",
   "metadata": {},
   "outputs": [],
   "source": [
    "key_042_low_x = preprocessor.fit_transform(key_042_iptw_low.filter(items = ['age',\n",
    "                                                                            'gender',\n",
    "                                                                            'race',\n",
    "                                                                            'PracticeType',\n",
    "                                                                            'Histology',\n",
    "                                                                            'met_cat',\n",
    "                                                                            'delta_adv_diagnosis',\n",
    "                                                                            'commercial',\n",
    "                                                                            'medicare',\n",
    "                                                                            'medicaid',\n",
    "                                                                            'ecog_2',\n",
    "                                                                            'pdl1_det',\n",
    "                                                                            'albumin_diag',\n",
    "                                                                            'weight_pct_change',\n",
    "                                                                            'risk_score']))\n",
    "\n",
    "key_042_med_x = preprocessor.fit_transform(key_042_iptw_med.filter(items = ['age',\n",
    "                                                                            'gender',\n",
    "                                                                            'race',\n",
    "                                                                            'PracticeType',\n",
    "                                                                            'Histology',\n",
    "                                                                            'met_cat',\n",
    "                                                                            'delta_adv_diagnosis',\n",
    "                                                                            'commercial',\n",
    "                                                                            'medicare',\n",
    "                                                                            'medicaid',\n",
    "                                                                            'ecog_2',\n",
    "                                                                            'pdl1_det',\n",
    "                                                                            'albumin_diag',\n",
    "                                                                            'weight_pct_change',\n",
    "                                                                            'risk_score']))\n",
    "\n",
    "key_042_high_x = preprocessor.fit_transform(key_042_iptw_high.filter(items = ['age',\n",
    "                                                                              'gender',\n",
    "                                                                              'race',\n",
    "                                                                              'PracticeType',\n",
    "                                                                              'Histology',\n",
    "                                                                              'met_cat',\n",
    "                                                                              'delta_adv_diagnosis',\n",
    "                                                                              'commercial',\n",
    "                                                                              'medicare',\n",
    "                                                                              'medicaid',\n",
    "                                                                              'ecog_2',\n",
    "                                                                              'pdl1_det', \n",
    "                                                                              'albumin_diag',\n",
    "                                                                              'weight_pct_change',\n",
    "                                                                              'risk_score']))\n",
    "\n",
    "key_042_all_x = preprocessor.fit_transform(key_042_iptw_all.filter(items = ['age',\n",
    "                                                                            'gender',\n",
    "                                                                            'race',\n",
    "                                                                            'PracticeType',\n",
    "                                                                            'Histology',\n",
    "                                                                            'met_cat',\n",
    "                                                                            'delta_adv_diagnosis',\n",
    "                                                                            'commercial',\n",
    "                                                                            'medicare',\n",
    "                                                                            'medicaid',\n",
    "                                                                            'ecog_2',\n",
    "                                                                            'pdl1_det', \n",
    "                                                                            'albumin_diag',\n",
    "                                                                            'weight_pct_change',\n",
    "                                                                            'risk_score']))"
   ]
  },
  {
   "cell_type": "code",
   "execution_count": 167,
   "id": "fb084a30",
   "metadata": {},
   "outputs": [
    {
     "data": {
      "text/plain": [
       "LogisticRegression(max_iter=1000)"
      ]
     },
     "execution_count": 167,
     "metadata": {},
     "output_type": "execute_result"
    }
   ],
   "source": [
    "lr_042_low = LogisticRegression(max_iter = 1000)\n",
    "lr_042_low.fit(key_042_low_x, key_042_iptw_low['pembro'])"
   ]
  },
  {
   "cell_type": "code",
   "execution_count": 168,
   "id": "3520c3ec",
   "metadata": {},
   "outputs": [
    {
     "data": {
      "text/plain": [
       "LogisticRegression(max_iter=1000)"
      ]
     },
     "execution_count": 168,
     "metadata": {},
     "output_type": "execute_result"
    }
   ],
   "source": [
    "lr_042_med = LogisticRegression(max_iter = 1000)\n",
    "lr_042_med.fit(key_042_med_x, key_042_iptw_med['pembro'])"
   ]
  },
  {
   "cell_type": "code",
   "execution_count": 169,
   "id": "ebc5d2cb",
   "metadata": {},
   "outputs": [
    {
     "data": {
      "text/plain": [
       "LogisticRegression(max_iter=1000)"
      ]
     },
     "execution_count": 169,
     "metadata": {},
     "output_type": "execute_result"
    }
   ],
   "source": [
    "lr_042_high = LogisticRegression(max_iter = 1000)\n",
    "lr_042_high.fit(key_042_high_x, key_042_iptw_high['pembro'])"
   ]
  },
  {
   "cell_type": "code",
   "execution_count": 170,
   "id": "285dd2d4",
   "metadata": {},
   "outputs": [
    {
     "data": {
      "text/plain": [
       "LogisticRegression(max_iter=1000)"
      ]
     },
     "execution_count": 170,
     "metadata": {},
     "output_type": "execute_result"
    }
   ],
   "source": [
    "lr_042_all = LogisticRegression(max_iter = 1000)\n",
    "lr_042_all.fit(key_042_all_x, key_042_iptw_all['pembro'])"
   ]
  },
  {
   "cell_type": "code",
   "execution_count": 171,
   "id": "27917272",
   "metadata": {},
   "outputs": [],
   "source": [
    "pred_low = lr_042_low.predict_proba(key_042_low_x)\n",
    "pred_med = lr_042_med.predict_proba(key_042_med_x)\n",
    "pred_high = lr_042_high.predict_proba(key_042_high_x)\n",
    "pred_all = lr_042_all.predict_proba(key_042_all_x)"
   ]
  },
  {
   "cell_type": "code",
   "execution_count": 172,
   "id": "25443bc5",
   "metadata": {},
   "outputs": [
    {
     "name": "stderr",
     "output_type": "stream",
     "text": [
      "/Users/xavierorcutt/Dropbox/ist_project/myenv/lib/python3.7/site-packages/ipykernel_launcher.py:1: SettingWithCopyWarning: \n",
      "A value is trying to be set on a copy of a slice from a DataFrame.\n",
      "Try using .loc[row_indexer,col_indexer] = value instead\n",
      "\n",
      "See the caveats in the documentation: https://pandas.pydata.org/pandas-docs/stable/user_guide/indexing.html#returning-a-view-versus-a-copy\n",
      "  \"\"\"Entry point for launching an IPython kernel.\n",
      "/Users/xavierorcutt/Dropbox/ist_project/myenv/lib/python3.7/site-packages/ipykernel_launcher.py:2: SettingWithCopyWarning: \n",
      "A value is trying to be set on a copy of a slice from a DataFrame.\n",
      "Try using .loc[row_indexer,col_indexer] = value instead\n",
      "\n",
      "See the caveats in the documentation: https://pandas.pydata.org/pandas-docs/stable/user_guide/indexing.html#returning-a-view-versus-a-copy\n",
      "  \n",
      "/Users/xavierorcutt/Dropbox/ist_project/myenv/lib/python3.7/site-packages/ipykernel_launcher.py:3: SettingWithCopyWarning: \n",
      "A value is trying to be set on a copy of a slice from a DataFrame.\n",
      "Try using .loc[row_indexer,col_indexer] = value instead\n",
      "\n",
      "See the caveats in the documentation: https://pandas.pydata.org/pandas-docs/stable/user_guide/indexing.html#returning-a-view-versus-a-copy\n",
      "  This is separate from the ipykernel package so we can avoid doing imports until\n"
     ]
    }
   ],
   "source": [
    "key_042_iptw_low['ps'] = pred_low[:, 1]\n",
    "key_042_iptw_med['ps'] = pred_med[:, 1]\n",
    "key_042_iptw_high['ps'] = pred_high[:, 1]\n",
    "key_042_iptw_all['ps'] = pred_all[:, 1]"
   ]
  },
  {
   "cell_type": "code",
   "execution_count": 173,
   "id": "7e78c8ad",
   "metadata": {},
   "outputs": [
    {
     "name": "stderr",
     "output_type": "stream",
     "text": [
      "/Users/xavierorcutt/Dropbox/ist_project/myenv/lib/python3.7/site-packages/ipykernel_launcher.py:2: SettingWithCopyWarning: \n",
      "A value is trying to be set on a copy of a slice from a DataFrame.\n",
      "Try using .loc[row_indexer,col_indexer] = value instead\n",
      "\n",
      "See the caveats in the documentation: https://pandas.pydata.org/pandas-docs/stable/user_guide/indexing.html#returning-a-view-versus-a-copy\n",
      "  \n",
      "/Users/xavierorcutt/Dropbox/ist_project/myenv/lib/python3.7/site-packages/ipykernel_launcher.py:5: SettingWithCopyWarning: \n",
      "A value is trying to be set on a copy of a slice from a DataFrame.\n",
      "Try using .loc[row_indexer,col_indexer] = value instead\n",
      "\n",
      "See the caveats in the documentation: https://pandas.pydata.org/pandas-docs/stable/user_guide/indexing.html#returning-a-view-versus-a-copy\n",
      "  \"\"\"\n",
      "/Users/xavierorcutt/Dropbox/ist_project/myenv/lib/python3.7/site-packages/ipykernel_launcher.py:8: SettingWithCopyWarning: \n",
      "A value is trying to be set on a copy of a slice from a DataFrame.\n",
      "Try using .loc[row_indexer,col_indexer] = value instead\n",
      "\n",
      "See the caveats in the documentation: https://pandas.pydata.org/pandas-docs/stable/user_guide/indexing.html#returning-a-view-versus-a-copy\n",
      "  \n"
     ]
    }
   ],
   "source": [
    "key_042_iptw_low['weight'] = (\n",
    "    np.where(key_042_iptw_low['pembro'] == 1, 1/key_042_iptw_low['ps'], 1/(1 - key_042_iptw_low['ps'])))\n",
    "\n",
    "key_042_iptw_med['weight'] = (\n",
    "    np.where(key_042_iptw_med['pembro'] == 1, 1/key_042_iptw_med['ps'], 1/(1 - key_042_iptw_med['ps'])))\n",
    "\n",
    "key_042_iptw_high['weight'] = (\n",
    "    np.where(key_042_iptw_high['pembro'] == 1, 1/key_042_iptw_high['ps'], 1/(1 - key_042_iptw_high['ps'])))\n",
    "\n",
    "key_042_iptw_all['weight'] = (\n",
    "    np.where(key_042_iptw_all['pembro'] == 1, 1/key_042_iptw_all['ps'], 1/(1 - key_042_iptw_all['ps'])))"
   ]
  },
  {
   "cell_type": "code",
   "execution_count": 174,
   "id": "8f6962d9",
   "metadata": {},
   "outputs": [
    {
     "name": "stderr",
     "output_type": "stream",
     "text": [
      "/Users/xavierorcutt/Dropbox/ist_project/myenv/lib/python3.7/site-packages/lifelines/fitters/kaplan_meier_fitter.py:344: StatisticalWarning: It looks like your weights are not integers, possibly propensity scores then?\n",
      "  It's important to know that the naive variance estimates of the coefficients are biased. Instead use Monte Carlo to\n",
      "  estimate the variances. See paper \"Variance estimation when using inverse probability of treatment weighting (IPTW) with survival analysis\"\n",
      "  or \"Adjusted Kaplan-Meier estimator and log-rank test with inverse probability of treatment weighting for survival data.\"\n",
      "                  \n",
      "  StatisticalWarning,\n"
     ]
    },
    {
     "data": {
      "text/plain": [
       "<lifelines.KaplanMeierFitter:\"KM_estimate\", fitted with 3897.08 total observations, 1623.18 right-censored observations>"
      ]
     },
     "execution_count": 174,
     "metadata": {},
     "output_type": "execute_result"
    }
   ],
   "source": [
    "# Low KM curves\n",
    "kmf_low_pembro_042_iptw = KaplanMeierFitter()\n",
    "kmf_low_plat_042_iptw = KaplanMeierFitter()\n",
    "\n",
    "kmf_low_pembro_042_iptw.fit(\n",
    "    key_042_iptw_low.query('pembro == 1').timerisk_treatment/30,\n",
    "    key_042_iptw_low.query('pembro == 1').death_status,\n",
    "    weights = key_042_iptw_low.query('pembro == 1')['weight'])\n",
    "\n",
    "kmf_low_plat_042_iptw.fit(\n",
    "    key_042_iptw_low.query('pembro == 0').timerisk_treatment/30,\n",
    "    key_042_iptw_low.query('pembro == 0').death_status,\n",
    "    weights = key_042_iptw_low.query('pembro == 0')['weight'])\n",
    "\n",
    "# Med KM curves\n",
    "kmf_med_pembro_042_iptw = KaplanMeierFitter()\n",
    "kmf_med_plat_042_iptw = KaplanMeierFitter()\n",
    "\n",
    "kmf_med_pembro_042_iptw.fit(\n",
    "    key_042_iptw_med.query('pembro == 1').timerisk_treatment/30,\n",
    "    key_042_iptw_med.query('pembro == 1').death_status,\n",
    "    weights = key_042_iptw_med.query('pembro == 1')['weight'])\n",
    "\n",
    "kmf_med_plat_042_iptw.fit(\n",
    "    key_042_iptw_med.query('pembro == 0').timerisk_treatment/30,\n",
    "    key_042_iptw_med.query('pembro == 0').death_status,\n",
    "    weights = key_042_iptw_med.query('pembro == 0')['weight'])\n",
    "\n",
    "# High KM curves \n",
    "kmf_high_pembro_042_iptw = KaplanMeierFitter()\n",
    "kmf_high_plat_042_iptw = KaplanMeierFitter()\n",
    "\n",
    "kmf_high_pembro_042_iptw.fit(\n",
    "    key_042_iptw_high.query('pembro == 1').timerisk_treatment/30,\n",
    "    key_042_iptw_high.query('pembro == 1').death_status,\n",
    "    weights = key_042_iptw_high.query('pembro == 1')['weight'])\n",
    "\n",
    "kmf_high_plat_042_iptw.fit(\n",
    "    key_042_iptw_high.query('pembro == 0').timerisk_treatment/30,\n",
    "    key_042_iptw_high.query('pembro == 0').death_status,\n",
    "    weights = key_042_iptw_high.query('pembro == 0')['weight'])\n",
    "\n",
    "# All KM curves \n",
    "kmf_all_pembro_042_iptw = KaplanMeierFitter()\n",
    "kmf_all_plat_042_iptw = KaplanMeierFitter()\n",
    "\n",
    "kmf_all_pembro_042_iptw.fit(\n",
    "    key_042_iptw_all.query('pembro == 1').timerisk_treatment/30,\n",
    "    key_042_iptw_all.query('pembro == 1').death_status,\n",
    "    weights = key_042_iptw_all.query('pembro == 1')['weight'])\n",
    "\n",
    "kmf_all_plat_042_iptw.fit(\n",
    "    key_042_iptw_all.query('pembro == 0').timerisk_treatment/30,\n",
    "    key_042_iptw_all.query('pembro == 0').death_status,\n",
    "    weights = key_042_iptw_all.query('pembro == 0')['weight'])"
   ]
  },
  {
   "cell_type": "markdown",
   "id": "c5029d25",
   "metadata": {},
   "source": [
    "#### Calculating survival metrics "
   ]
  },
  {
   "cell_type": "code",
   "execution_count": 175,
   "id": "ec36d0ac",
   "metadata": {},
   "outputs": [],
   "source": [
    "pembro_042_median_os = mos(kmf_low_pembro_042_iptw,\n",
    "                           kmf_med_pembro_042_iptw,\n",
    "                           kmf_high_pembro_042_iptw,\n",
    "                           kmf_all_pembro_042_iptw)\n",
    "\n",
    "plat_042_median_os = mos(kmf_low_plat_042_iptw,\n",
    "                         kmf_med_plat_042_iptw,\n",
    "                         kmf_high_plat_042_iptw,\n",
    "                         kmf_all_plat_042_iptw)"
   ]
  },
  {
   "cell_type": "code",
   "execution_count": 176,
   "id": "a38b76ea",
   "metadata": {},
   "outputs": [],
   "source": [
    "key_042_iptw_all_imputed = key_042_iptw_all.copy()\n",
    "key_042_iptw_all_imputed['albumin_diag'] = key_042_iptw_all_imputed['albumin_diag'].fillna(key_042_iptw_all_imputed['albumin_diag'].median())\n",
    "key_042_iptw_all_imputed['weight_pct_change'] = key_042_iptw_all_imputed['weight_pct_change'].fillna(key_042_iptw_all_imputed['weight_pct_change'].median())"
   ]
  },
  {
   "cell_type": "code",
   "execution_count": 177,
   "id": "21604a20",
   "metadata": {},
   "outputs": [
    {
     "data": {
      "text/plain": [
       "<lifelines.CoxPHFitter: fitted with 7604.64 total observations, 3402 right-censored observations>"
      ]
     },
     "execution_count": 177,
     "metadata": {},
     "output_type": "execute_result"
    }
   ],
   "source": [
    "key042_hr_all = CoxPHFitter()\n",
    "key042_hr_all.fit(key_042_iptw_all_imputed,\n",
    "                  duration_col = 'timerisk_treatment',\n",
    "                  event_col = 'death_status',\n",
    "                  formula = 'pembro + age + gender + race + PracticeType + Histology + met_cat + delta_adv_diagnosis + commercial + medicare + medicaid + ecog_2 + pdl1_det + albumin_diag + weight_pct_change', \n",
    "                  weights_col = 'weight', \n",
    "                  robust = True)"
   ]
  },
  {
   "cell_type": "code",
   "execution_count": 178,
   "id": "b91bc192",
   "metadata": {},
   "outputs": [],
   "source": [
    "key042_all_rmst_mos_95 = rmst_mos_95ci(key_042_iptw_all,\n",
    "                                       1000,\n",
    "                                       'pembro',\n",
    "                                       'death',\n",
    "                                       ['age',\n",
    "                                        'gender',\n",
    "                                        'race',\n",
    "                                        'PracticeType',\n",
    "                                        'Histology',\n",
    "                                        'met_cat',\n",
    "                                        'delta_adv_diagnosis',\n",
    "                                        'commercial',\n",
    "                                        'medicare',\n",
    "                                        'medicaid',\n",
    "                                        'ecog_2',\n",
    "                                        'pdl1_det', \n",
    "                                        'albumin_diag',\n",
    "                                        'weight_pct_change',\n",
    "                                        'risk_score'],\n",
    "                                       ['age', 'delta_adv_diagnosis', 'albumin_diag', 'weight_pct_change', 'risk_score'],\n",
    "                                       36)"
   ]
  },
  {
   "cell_type": "code",
   "execution_count": 179,
   "id": "c5ee2c91",
   "metadata": {},
   "outputs": [],
   "source": [
    "key042_low_rmst_mos_95 = rmst_mos_95ci(key_042_iptw_low,\n",
    "                                       1000,\n",
    "                                       'pembro',\n",
    "                                       'death',\n",
    "                                       ['age',\n",
    "                                        'gender',\n",
    "                                        'race',\n",
    "                                        'PracticeType',\n",
    "                                        'Histology',\n",
    "                                        'met_cat',\n",
    "                                        'delta_adv_diagnosis',\n",
    "                                        'commercial',\n",
    "                                        'medicare',\n",
    "                                        'medicaid',\n",
    "                                        'ecog_2',\n",
    "                                        'pdl1_det', \n",
    "                                        'albumin_diag',\n",
    "                                        'weight_pct_change',\n",
    "                                        'risk_score'],\n",
    "                                       ['age', 'delta_adv_diagnosis', 'albumin_diag', 'weight_pct_change', 'risk_score'],\n",
    "                                       36)"
   ]
  },
  {
   "cell_type": "code",
   "execution_count": 180,
   "id": "97308f2c",
   "metadata": {},
   "outputs": [],
   "source": [
    "key042_med_rmst_mos_95 = rmst_mos_95ci(key_042_iptw_med,\n",
    "                                       1000,\n",
    "                                       'pembro',\n",
    "                                       'death',\n",
    "                                       ['age',\n",
    "                                        'gender',\n",
    "                                        'race',\n",
    "                                        'PracticeType',\n",
    "                                        'Histology',\n",
    "                                        'met_cat',\n",
    "                                        'delta_adv_diagnosis',\n",
    "                                        'commercial',\n",
    "                                        'medicare',\n",
    "                                        'medicaid',\n",
    "                                        'ecog_2',\n",
    "                                        'pdl1_det', \n",
    "                                        'albumin_diag',\n",
    "                                        'weight_pct_change',\n",
    "                                        'risk_score'],\n",
    "                                       ['age', 'delta_adv_diagnosis', 'albumin_diag', 'weight_pct_change', 'risk_score'],\n",
    "                                       36)"
   ]
  },
  {
   "cell_type": "code",
   "execution_count": 181,
   "id": "94f84d1c",
   "metadata": {},
   "outputs": [],
   "source": [
    "key042_high_rmst_mos_95 = rmst_mos_95ci(key_042_iptw_high,\n",
    "                                        1000,\n",
    "                                        'pembro',\n",
    "                                        'death',\n",
    "                                        ['age',\n",
    "                                         'gender',\n",
    "                                         'race',\n",
    "                                         'PracticeType',\n",
    "                                         'Histology',\n",
    "                                         'met_cat',\n",
    "                                         'delta_adv_diagnosis',\n",
    "                                         'commercial',\n",
    "                                         'medicare',\n",
    "                                         'medicaid',\n",
    "                                         'ecog_2',\n",
    "                                         'pdl1_det', \n",
    "                                         'albumin_diag',\n",
    "                                         'weight_pct_change',\n",
    "                                         'risk_score'],\n",
    "                                        ['age', 'delta_adv_diagnosis', 'albumin_diag', 'weight_pct_change', 'risk_score'],\n",
    "                                        36)"
   ]
  },
  {
   "cell_type": "code",
   "execution_count": 182,
   "id": "4b651392",
   "metadata": {},
   "outputs": [],
   "source": [
    "keynote_042_data = [\n",
    "    {'trial_name': 'KEYNOTE-042', \n",
    "     'risk_group': 'low', \n",
    "     's_trt_mos': pembro_042_median_os[0],\n",
    "     's_trt_mos_95': key042_low_rmst_mos_95.mos_A_95,\n",
    "     's_cont_mos': plat_042_median_os[0],\n",
    "     's_cont_mos_95': key042_low_rmst_mos_95.mos_B_95,\n",
    "     's_mos_diff': pembro_042_median_os[0] - plat_042_median_os[0], \n",
    "     'rct_trt_arm': 16.7, \n",
    "     'rct_cont_arm': 12.1, \n",
    "     'rct_mos_diff': 16.7-12.1,\n",
    "     's_trt_rmst': restricted_mean_survival_time(kmf_low_pembro_042_iptw, 36),\n",
    "     's_trt_rmst_95': key042_low_rmst_mos_95.rmst_A_95,\n",
    "     's_cont_rmst': restricted_mean_survival_time(kmf_low_plat_042_iptw, 36),\n",
    "     's_cont_rmst_95': key042_low_rmst_mos_95.rmst_B_95,\n",
    "     's_diff_rmst': restricted_mean_survival_time(kmf_low_pembro_042_iptw, 36) - restricted_mean_survival_time(kmf_low_plat_042_iptw, 36),\n",
    "     's_diff_rmst_95': key042_low_rmst_mos_95.difference_rmst_95,\n",
    "     'scount': key_042.query('risk_score <= @low_cutoff_042').shape[0]},\n",
    "    \n",
    "    {'trial_name': 'KEYNOTE-042', \n",
    "     'risk_group': 'medium', \n",
    "     's_trt_mos': pembro_042_median_os[1],\n",
    "     's_trt_mos_95': key042_med_rmst_mos_95.mos_A_95,\n",
    "     's_cont_mos': plat_042_median_os[1],\n",
    "     's_cont_mos_95': key042_med_rmst_mos_95.mos_B_95,\n",
    "     's_mos_diff': pembro_042_median_os[1] - plat_042_median_os[1], \n",
    "     'rct_trt_arm': 16.7, \n",
    "     'rct_cont_arm': 12.1, \n",
    "     'rct_mos_diff': 16.7-12.1,\n",
    "     's_trt_rmst': restricted_mean_survival_time(kmf_med_pembro_042_iptw, 36),\n",
    "     's_trt_rmst_95': key042_med_rmst_mos_95.rmst_A_95,\n",
    "     's_cont_rmst': restricted_mean_survival_time(kmf_med_plat_042_iptw, 36),\n",
    "     's_cont_rmst_95': key042_med_rmst_mos_95.rmst_B_95,\n",
    "     's_diff_rmst': restricted_mean_survival_time(kmf_med_pembro_042_iptw, 36) - restricted_mean_survival_time(kmf_med_plat_042_iptw, 36),\n",
    "     's_diff_rmst_95': key042_med_rmst_mos_95.difference_rmst_95,\n",
    "     'scount': key_042.query('risk_score < @high_cutoff_042 and risk_score > @low_cutoff_042').shape[0]},\n",
    "    \n",
    "    {'trial_name': 'KEYNOTE-042', \n",
    "     'risk_group': 'high', \n",
    "     's_trt_mos': pembro_042_median_os[2],\n",
    "     's_trt_mos_95': key042_high_rmst_mos_95.mos_A_95,\n",
    "     's_cont_mos': plat_042_median_os[2],\n",
    "     's_cont_mos_95': key042_high_rmst_mos_95.mos_B_95,\n",
    "     's_mos_diff': pembro_042_median_os[2] - plat_042_median_os[2], \n",
    "     'rct_trt_arm': 16.7, \n",
    "     'rct_cont_arm': 12.1, \n",
    "     'rct_mos_diff': 16.7-12.1,\n",
    "     's_trt_rmst': restricted_mean_survival_time(kmf_high_pembro_042_iptw, 36),\n",
    "     's_trt_rmst_95': key042_high_rmst_mos_95.rmst_A_95,\n",
    "     's_cont_rmst': restricted_mean_survival_time(kmf_high_plat_042_iptw, 36),\n",
    "     's_cont_rmst_95': key042_high_rmst_mos_95.rmst_B_95,\n",
    "     's_diff_rmst': restricted_mean_survival_time(kmf_high_pembro_042_iptw, 36) - restricted_mean_survival_time(kmf_high_plat_042_iptw, 36),\n",
    "     's_diff_rmst_95': key042_high_rmst_mos_95.difference_rmst_95,\n",
    "     'scount': key_042.query('risk_score >= @high_cutoff_042').shape[0]},\n",
    "    \n",
    "    {'trial_name': 'KEYNOTE-042', \n",
    "     'risk_group': 'all', \n",
    "     's_hr': key042_hr_all.hazard_ratios_['pembro'],\n",
    "     's_hr_95': [key042_hr_all.summary.loc['pembro']['exp(coef) lower 95%'], key042_hr_all.summary.loc['pembro']['exp(coef) upper 95%']],\n",
    "     's_trt_mos': pembro_042_median_os[3],\n",
    "     's_trt_mos_95': key042_all_rmst_mos_95.mos_A_95,\n",
    "     's_cont_mos': plat_042_median_os[3],\n",
    "     's_cont_mos_95': key042_all_rmst_mos_95.mos_B_95,\n",
    "     's_mos_diff': pembro_042_median_os[3] - plat_042_median_os[3], \n",
    "     'rct_trt_arm': 16.7, \n",
    "     'rct_cont_arm': 12.1, \n",
    "     'rct_mos_diff': 16.7-12.1,\n",
    "     'scount': key_042.shape[0]}\n",
    "]"
   ]
  },
  {
   "cell_type": "markdown",
   "id": "1168adb6",
   "metadata": {},
   "source": [
    "### KEYNOTE-024: First-line pembrolizumab vs. platinum-based chemotherapy in those with high PDL1 \n",
    "\n",
    "**INCLUSION CRITERIA**\n",
    "* Untreated stage IV NSCLC\n",
    "* Received first line pemobrolizumab or platinum-based chemotherapy\n",
    "* PDL1 >= 50% and status known within (-inf, +30] days of start of first-line treatment \n",
    "* EGFR and ALK negatve\n",
    "* No autoimmune diseases in the year preceding metastatic diagnosis \n",
    "* No history of ILD, HIV, Hep C, Hep B, severe psychiatric history, or drug use disorder in the year preceding metastatic diagnosis \n",
    "* No CNS metastasis at start of treatment \n",
    "* ECOG is not 2, 3, or 4 at start of treatment \n",
    "* Adeuquate organ function at start of treatment "
   ]
  },
  {
   "cell_type": "markdown",
   "id": "2b2c7939",
   "metadata": {},
   "source": [
    "#### Pembrolizumab"
   ]
  },
  {
   "cell_type": "code",
   "execution_count": 183,
   "id": "1b57dbc3",
   "metadata": {},
   "outputs": [
    {
     "data": {
      "text/plain": [
       "68483"
      ]
     },
     "execution_count": 183,
     "metadata": {},
     "output_type": "execute_result"
    }
   ],
   "source": [
    "df_full = pd.read_csv('df_risk_crude.csv', index_col = 'PatientID', dtype = {'death_status': bool})\n",
    "df_full.index.nunique()"
   ]
  },
  {
   "cell_type": "code",
   "execution_count": 184,
   "id": "3e24010f",
   "metadata": {},
   "outputs": [],
   "source": [
    "line_therapy = pd.read_csv('LineOfTherapy.csv')"
   ]
  },
  {
   "cell_type": "code",
   "execution_count": 185,
   "id": "544e1a4f",
   "metadata": {},
   "outputs": [],
   "source": [
    "key024_pembro = (\n",
    "    line_therapy[line_therapy['PatientID'].isin(df_full.index)]\n",
    "    .query('LineNumber == 1')\n",
    "    .query('IsMaintenanceTherapy == False')\n",
    "    .query('LineName == \"Pembrolizumab\"')\n",
    "    [['PatientID', 'StartDate']]\n",
    ")"
   ]
  },
  {
   "cell_type": "code",
   "execution_count": 186,
   "id": "6ea70032",
   "metadata": {},
   "outputs": [],
   "source": [
    "key024_pembro.loc[:, 'pembro'] = 1"
   ]
  },
  {
   "cell_type": "code",
   "execution_count": 187,
   "id": "714f8fe1",
   "metadata": {},
   "outputs": [
    {
     "data": {
      "text/plain": [
       "(3648, 3648)"
      ]
     },
     "execution_count": 187,
     "metadata": {},
     "output_type": "execute_result"
    }
   ],
   "source": [
    "row_ID(key024_pembro)"
   ]
  },
  {
   "cell_type": "code",
   "execution_count": 188,
   "id": "2232bb65",
   "metadata": {},
   "outputs": [],
   "source": [
    "# Dataframe of all therapies received for those receiving first line pembrolizumab only. \n",
    "line_therapy_pembro_024 = (\n",
    "    line_therapy[line_therapy['PatientID'].isin(key024_pembro.PatientID)])"
   ]
  },
  {
   "cell_type": "code",
   "execution_count": 189,
   "id": "322099f0",
   "metadata": {},
   "outputs": [],
   "source": [
    "targeted = [\n",
    "    'Afatinib',\n",
    "    'Alectinib',\n",
    "    'Brigatinib',\n",
    "    'Cabozantinib',\n",
    "    'Capmatinib',\n",
    "    'Ceritinib',\n",
    "    'Crizotinib',\n",
    "    'Dabrafenib',\n",
    "    'Dacomitinib',\n",
    "    'Entrectinib',\n",
    "    'Erlotinib',\n",
    "    'Gefitinib',\n",
    "    'Lorlatinib',\n",
    "    'Osimertinib',\n",
    "    'Pralsetinib',\n",
    "    'Selpercatinib',\n",
    "    'Sotorasib',\n",
    "    'Tepotinib',\n",
    "    'Trametinib',\n",
    "    'Vandetanib']"
   ]
  },
  {
   "cell_type": "code",
   "execution_count": 190,
   "id": "19985452",
   "metadata": {},
   "outputs": [],
   "source": [
    "# Patients receiving pembrolizumab therapy who later recieve targeted therapy. \n",
    "pembro_024_xcross = (\n",
    "    line_therapy_pembro_024[line_therapy_pembro_024['LineName'].str.contains('|'.join(targeted))].PatientID)"
   ]
  },
  {
   "cell_type": "code",
   "execution_count": 191,
   "id": "a2881dff",
   "metadata": {},
   "outputs": [],
   "source": [
    "# Select patients who don't receive targeted therapy in future lines.\n",
    "key024_pembro = key024_pembro[~key024_pembro['PatientID'].isin(pembro_024_xcross)]"
   ]
  },
  {
   "cell_type": "code",
   "execution_count": 192,
   "id": "dac5cfea",
   "metadata": {},
   "outputs": [
    {
     "data": {
      "text/plain": [
       "(3582, 3582)"
      ]
     },
     "execution_count": 192,
     "metadata": {},
     "output_type": "execute_result"
    }
   ],
   "source": [
    "row_ID(key024_pembro)"
   ]
  },
  {
   "cell_type": "markdown",
   "id": "f1e27f5f",
   "metadata": {},
   "source": [
    "#### Platinum-based chemotherapy "
   ]
  },
  {
   "cell_type": "code",
   "execution_count": 193,
   "id": "7f437572",
   "metadata": {},
   "outputs": [],
   "source": [
    "line_therapy_fl = (\n",
    "    line_therapy[line_therapy['PatientID'].isin(df_full.index)]\n",
    "    .query('LineNumber == 1')\n",
    "    .query('IsMaintenanceTherapy == False')\n",
    ")"
   ]
  },
  {
   "cell_type": "code",
   "execution_count": 194,
   "id": "161d5bbb",
   "metadata": {},
   "outputs": [],
   "source": [
    "plat_chemo = [\n",
    "    'Carboplatin',\n",
    "    'Cisplatin']\n",
    "\n",
    "immuno = [\n",
    "    'Atezolizumab',\n",
    "    'Cemiplimab',\n",
    "    'Durvalumab',\n",
    "    'Ipilimumab',\n",
    "    'Nivolumab',\n",
    "    'Pembrolizumab'\n",
    "]"
   ]
  },
  {
   "cell_type": "code",
   "execution_count": 195,
   "id": "e033d4ba",
   "metadata": {},
   "outputs": [
    {
     "data": {
      "text/plain": [
       "Carboplatin,Paclitaxel                  8524\n",
       "Carboplatin,Pemetrexed                  5417\n",
       "Bevacizumab,Carboplatin,Pemetrexed      2825\n",
       "Carboplatin,Paclitaxel Protein-Bound    1826\n",
       "Bevacizumab,Carboplatin,Paclitaxel      1591\n",
       "Carboplatin,Gemcitabine                 1224\n",
       "Cisplatin,Etoposide                      793\n",
       "Carboplatin,Docetaxel                    780\n",
       "Cisplatin,Pemetrexed                     684\n",
       "Carboplatin,Etoposide                    363\n",
       "Name: LineName, dtype: int64"
      ]
     },
     "execution_count": 195,
     "metadata": {},
     "output_type": "execute_result"
    }
   ],
   "source": [
    "line_therapy_fl[line_therapy_fl['LineName'].str.contains('|'.join(plat_chemo)) & \n",
    "                ~line_therapy_fl['LineName'].str.contains('|'.join(immuno)) &\n",
    "                ~line_therapy_fl['LineName'].str.contains('|'.join(targeted)) &\n",
    "                ~line_therapy_fl['LineName'].str.contains('Clinical Study Drug')].LineName.value_counts().head(10)"
   ]
  },
  {
   "cell_type": "code",
   "execution_count": 196,
   "id": "29f8b189",
   "metadata": {},
   "outputs": [],
   "source": [
    "key024_plat = (\n",
    "    line_therapy_fl[line_therapy_fl['LineName'].str.contains('|'.join(plat_chemo)) & \n",
    "                    ~line_therapy_fl['LineName'].str.contains('|'.join(immuno)) &\n",
    "                    ~line_therapy_fl['LineName'].str.contains('|'.join(targeted)) &\n",
    "                    ~line_therapy_fl['LineName'].str.contains('Clinical Study Drug')]\n",
    "    [['PatientID', 'StartDate']]\n",
    ")"
   ]
  },
  {
   "cell_type": "code",
   "execution_count": 197,
   "id": "f528785b",
   "metadata": {},
   "outputs": [],
   "source": [
    "key024_plat.loc[:, 'pembro'] = 0"
   ]
  },
  {
   "cell_type": "code",
   "execution_count": 198,
   "id": "32bd8b24",
   "metadata": {},
   "outputs": [
    {
     "data": {
      "text/plain": [
       "(25861, 25861)"
      ]
     },
     "execution_count": 198,
     "metadata": {},
     "output_type": "execute_result"
    }
   ],
   "source": [
    "row_ID(key024_plat)"
   ]
  },
  {
   "cell_type": "code",
   "execution_count": 199,
   "id": "3080364f",
   "metadata": {},
   "outputs": [],
   "source": [
    "# Dataframe of all therapies received for those receiving first line platinum regimen  \n",
    "line_therapy_plat_024 = (\n",
    "    line_therapy[line_therapy['PatientID'].isin(key024_plat.PatientID)])"
   ]
  },
  {
   "cell_type": "code",
   "execution_count": 200,
   "id": "c9d037c1",
   "metadata": {},
   "outputs": [],
   "source": [
    "# Patients receiving platinum therapy who later recieve targeted therapy. \n",
    "plat_024_xcross = (\n",
    "    line_therapy_plat_024[line_therapy_plat_024['LineName'].str.contains('|'.join(targeted))].PatientID)"
   ]
  },
  {
   "cell_type": "code",
   "execution_count": 201,
   "id": "2e1d2abf",
   "metadata": {},
   "outputs": [],
   "source": [
    "# Select patients who don't receive targeted therapy in future lines.\n",
    "key024_plat = key024_plat[~key024_plat['PatientID'].isin(plat_024_xcross)]"
   ]
  },
  {
   "cell_type": "code",
   "execution_count": 202,
   "id": "7a2ab6e3",
   "metadata": {},
   "outputs": [
    {
     "data": {
      "text/plain": [
       "(23800, 23800)"
      ]
     },
     "execution_count": 202,
     "metadata": {},
     "output_type": "execute_result"
    }
   ],
   "source": [
    "row_ID(key024_plat)"
   ]
  },
  {
   "cell_type": "code",
   "execution_count": 203,
   "id": "37cf3cb3",
   "metadata": {},
   "outputs": [],
   "source": [
    "key_024 = pd.concat([key024_pembro, key024_plat])"
   ]
  },
  {
   "cell_type": "code",
   "execution_count": 204,
   "id": "bf557a07",
   "metadata": {},
   "outputs": [
    {
     "data": {
      "text/plain": [
       "(27382, 27382)"
      ]
     },
     "execution_count": 204,
     "metadata": {},
     "output_type": "execute_result"
    }
   ],
   "source": [
    "row_ID(key_024)"
   ]
  },
  {
   "cell_type": "code",
   "execution_count": 205,
   "id": "e1c1a633",
   "metadata": {},
   "outputs": [],
   "source": [
    "key_024 = pd.merge(key_024, df_full, on = 'PatientID', how = 'left')"
   ]
  },
  {
   "cell_type": "code",
   "execution_count": 206,
   "id": "bfbacf0f",
   "metadata": {},
   "outputs": [
    {
     "data": {
      "text/plain": [
       "(27382, 27382)"
      ]
     },
     "execution_count": 206,
     "metadata": {},
     "output_type": "execute_result"
    }
   ],
   "source": [
    "row_ID(key_024)"
   ]
  },
  {
   "cell_type": "code",
   "execution_count": 207,
   "id": "12e0ad67",
   "metadata": {},
   "outputs": [],
   "source": [
    "key_024['StartDate'] = pd.to_datetime(key_024['StartDate'])"
   ]
  },
  {
   "cell_type": "markdown",
   "id": "8cf2b684",
   "metadata": {},
   "source": [
    "#### High PDL1"
   ]
  },
  {
   "cell_type": "code",
   "execution_count": 208,
   "id": "4ec3fed8",
   "metadata": {},
   "outputs": [],
   "source": [
    "biomarkers = pd.read_csv('Enhanced_AdvNSCLCBiomarkers.csv')"
   ]
  },
  {
   "cell_type": "code",
   "execution_count": 209,
   "id": "ec1f764a",
   "metadata": {},
   "outputs": [],
   "source": [
    "biomarkers = biomarkers[biomarkers['PatientID'].isin(key_024['PatientID'])]"
   ]
  },
  {
   "cell_type": "code",
   "execution_count": 210,
   "id": "075477c1",
   "metadata": {},
   "outputs": [],
   "source": [
    "biomarkers = pd.merge(biomarkers, key_024[['PatientID', 'StartDate']], on = 'PatientID', how = 'left')"
   ]
  },
  {
   "cell_type": "code",
   "execution_count": 211,
   "id": "2efbf4da",
   "metadata": {},
   "outputs": [
    {
     "data": {
      "text/plain": [
       "(94603, 19875)"
      ]
     },
     "execution_count": 211,
     "metadata": {},
     "output_type": "execute_result"
    }
   ],
   "source": [
    "row_ID(biomarkers)"
   ]
  },
  {
   "cell_type": "code",
   "execution_count": 212,
   "id": "4c775675",
   "metadata": {},
   "outputs": [],
   "source": [
    "biomarkers['StartDate'] = pd.to_datetime(biomarkers['StartDate'])"
   ]
  },
  {
   "cell_type": "code",
   "execution_count": 213,
   "id": "230d041b",
   "metadata": {},
   "outputs": [],
   "source": [
    "biomarkers['ResultDate'] = pd.to_datetime(biomarkers['ResultDate'])"
   ]
  },
  {
   "cell_type": "code",
   "execution_count": 214,
   "id": "c59a4f70",
   "metadata": {},
   "outputs": [],
   "source": [
    "biomarkers['SpecimenReceivedDate'] = pd.to_datetime(biomarkers['SpecimenReceivedDate'])"
   ]
  },
  {
   "cell_type": "code",
   "execution_count": 215,
   "id": "86c7d8f4",
   "metadata": {},
   "outputs": [],
   "source": [
    "biomarkers.loc[:, 'result_date'] = (\n",
    "    np.where(biomarkers['ResultDate'].isna(), biomarkers['SpecimenReceivedDate'], biomarkers['ResultDate'])\n",
    ")"
   ]
  },
  {
   "cell_type": "code",
   "execution_count": 216,
   "id": "61ec49c5",
   "metadata": {},
   "outputs": [],
   "source": [
    "biomarkers.loc[:, 'date_diff'] = (biomarkers['result_date'] - biomarkers['StartDate']).dt.days"
   ]
  },
  {
   "cell_type": "code",
   "execution_count": 217,
   "id": "566d5521",
   "metadata": {},
   "outputs": [],
   "source": [
    "lst = [\"50% - 59%\", \"60% - 69%\", \"70% - 79%\", \"80% - 89%\", \"90% - 99%\", \"100%\"]\n",
    "\n",
    "pdl1_ids = (\n",
    "    biomarkers\n",
    "    .query('BiomarkerName == \"PDL1\"')\n",
    "    .query('date_diff <=30')\n",
    "    .query('PercentStaining == @lst')\n",
    "    .PatientID\n",
    "    .unique()\n",
    ")"
   ]
  },
  {
   "cell_type": "code",
   "execution_count": 218,
   "id": "80bd955f",
   "metadata": {},
   "outputs": [],
   "source": [
    "key_024 = key_024[key_024.PatientID.isin(pdl1_ids)]"
   ]
  },
  {
   "cell_type": "code",
   "execution_count": 219,
   "id": "8e179cd8",
   "metadata": {},
   "outputs": [
    {
     "data": {
      "text/plain": [
       "(3519, 3519)"
      ]
     },
     "execution_count": 219,
     "metadata": {},
     "output_type": "execute_result"
    }
   ],
   "source": [
    "row_ID(key_024)"
   ]
  },
  {
   "cell_type": "markdown",
   "id": "8611bd25",
   "metadata": {},
   "source": [
    "#### Time from treatment to death/progression or censor "
   ]
  },
  {
   "cell_type": "code",
   "execution_count": 220,
   "id": "185c581a",
   "metadata": {},
   "outputs": [],
   "source": [
    "mortality_tr = pd.read_csv('mortality_cleaned_tr.csv')"
   ]
  },
  {
   "cell_type": "code",
   "execution_count": 221,
   "id": "3a4fffce",
   "metadata": {},
   "outputs": [],
   "source": [
    "mortality_te = pd.read_csv('mortality_cleaned_te.csv')"
   ]
  },
  {
   "cell_type": "code",
   "execution_count": 222,
   "id": "03f91455",
   "metadata": {},
   "outputs": [],
   "source": [
    "mortality_tr = mortality_tr[['PatientID', 'death_date', 'last_activity']]"
   ]
  },
  {
   "cell_type": "code",
   "execution_count": 223,
   "id": "88cc7ef5",
   "metadata": {},
   "outputs": [],
   "source": [
    "mortality_te = mortality_te[['PatientID', 'death_date', 'last_activity']]"
   ]
  },
  {
   "cell_type": "code",
   "execution_count": 224,
   "id": "7b409dbc",
   "metadata": {},
   "outputs": [
    {
     "data": {
      "text/plain": [
       "(68483, 68483)"
      ]
     },
     "execution_count": 224,
     "metadata": {},
     "output_type": "execute_result"
    }
   ],
   "source": [
    "mortality = pd.concat([mortality_tr, mortality_te], ignore_index = True)\n",
    "row_ID(mortality)"
   ]
  },
  {
   "cell_type": "code",
   "execution_count": 225,
   "id": "a71ea1d3",
   "metadata": {},
   "outputs": [],
   "source": [
    "mortality.loc[:, 'last_activity'] = pd.to_datetime(mortality['last_activity'])"
   ]
  },
  {
   "cell_type": "code",
   "execution_count": 226,
   "id": "4c7fb0a1",
   "metadata": {},
   "outputs": [],
   "source": [
    "mortality.loc[:, 'death_date'] = pd.to_datetime(mortality['death_date'])"
   ]
  },
  {
   "cell_type": "code",
   "execution_count": 227,
   "id": "cd331c0a",
   "metadata": {},
   "outputs": [
    {
     "data": {
      "text/plain": [
       "(68483, 68483)"
      ]
     },
     "execution_count": 227,
     "metadata": {},
     "output_type": "execute_result"
    }
   ],
   "source": [
    "row_ID(mortality)"
   ]
  },
  {
   "cell_type": "code",
   "execution_count": 228,
   "id": "2915d430",
   "metadata": {},
   "outputs": [],
   "source": [
    "key_024 = pd.merge(key_024, mortality, on = 'PatientID', how = 'left')"
   ]
  },
  {
   "cell_type": "code",
   "execution_count": 229,
   "id": "9123b906",
   "metadata": {},
   "outputs": [
    {
     "data": {
      "text/plain": [
       "(3519, 3519)"
      ]
     },
     "execution_count": 229,
     "metadata": {},
     "output_type": "execute_result"
    }
   ],
   "source": [
    "row_ID(key_024)"
   ]
  },
  {
   "cell_type": "code",
   "execution_count": 230,
   "id": "5e7ce98b",
   "metadata": {},
   "outputs": [],
   "source": [
    "progression = pd.read_csv('Enhanced_AdvNSCLCProgression.csv')"
   ]
  },
  {
   "cell_type": "code",
   "execution_count": 231,
   "id": "3f10011a",
   "metadata": {},
   "outputs": [],
   "source": [
    "progression = progression[progression.PatientID.isin(key_024.PatientID)][['PatientID', 'ProgressionDate']]"
   ]
  },
  {
   "cell_type": "code",
   "execution_count": 232,
   "id": "44b3ca60",
   "metadata": {},
   "outputs": [],
   "source": [
    "progression['ProgressionDate'] = pd.to_datetime(progression['ProgressionDate'])"
   ]
  },
  {
   "cell_type": "code",
   "execution_count": 233,
   "id": "75825de5",
   "metadata": {},
   "outputs": [],
   "source": [
    "progression = (\n",
    "    progression\n",
    "    .sort_values(['PatientID', 'ProgressionDate'], ascending = [True, True])\n",
    "    .drop_duplicates(subset = 'PatientID', keep = 'first')\n",
    ")"
   ]
  },
  {
   "cell_type": "code",
   "execution_count": 234,
   "id": "e1d2d9ce",
   "metadata": {},
   "outputs": [
    {
     "data": {
      "text/plain": [
       "(3517, 3517)"
      ]
     },
     "execution_count": 234,
     "metadata": {},
     "output_type": "execute_result"
    }
   ],
   "source": [
    "row_ID(progression)"
   ]
  },
  {
   "cell_type": "code",
   "execution_count": 235,
   "id": "ee043ea8",
   "metadata": {},
   "outputs": [],
   "source": [
    "key_024 = pd.merge(key_024, progression, on = 'PatientID', how = 'left')"
   ]
  },
  {
   "cell_type": "code",
   "execution_count": 236,
   "id": "a992ee62",
   "metadata": {},
   "outputs": [
    {
     "data": {
      "text/plain": [
       "(3519, 3519)"
      ]
     },
     "execution_count": 236,
     "metadata": {},
     "output_type": "execute_result"
    }
   ],
   "source": [
    "row_ID(key_024)"
   ]
  },
  {
   "cell_type": "code",
   "execution_count": 237,
   "id": "1b8d1a15",
   "metadata": {},
   "outputs": [
    {
     "data": {
      "text/plain": [
       "0.51974992895709"
      ]
     },
     "execution_count": 237,
     "metadata": {},
     "output_type": "execute_result"
    }
   ],
   "source": [
    "# Percent without progression date in Flaura trial\n",
    "len(key_024.query('ProgressionDate.isna()', engine = 'python'))/len(key_024)"
   ]
  },
  {
   "cell_type": "code",
   "execution_count": 238,
   "id": "6644776d",
   "metadata": {},
   "outputs": [],
   "source": [
    "conditions = [\n",
    "    (key_024.ProgressionDate.notna()),\n",
    "    ((key_024.ProgressionDate.isna()) & (key_024['death_status'] == 1)),\n",
    "    ((key_024.ProgressionDate.isna()) & (key_024['death_status'] == 0))]\n",
    "\n",
    "choices = [\n",
    "    (key_024['ProgressionDate'] - key_024['StartDate']).dt.days,\n",
    "    (key_024['death_date'] - key_024['StartDate']).dt.days,\n",
    "    (key_024['last_activity'] - key_024['StartDate']).dt.days]\n",
    "\n",
    "key_024.loc[:, 'time_prog_treatment'] = np.select(conditions, choices)"
   ]
  },
  {
   "cell_type": "code",
   "execution_count": 239,
   "id": "d29d7a0e",
   "metadata": {},
   "outputs": [],
   "source": [
    "key_024 = key_024.query('time_prog_treatment >= 0')"
   ]
  },
  {
   "cell_type": "code",
   "execution_count": 240,
   "id": "84672b32",
   "metadata": {},
   "outputs": [
    {
     "data": {
      "text/plain": [
       "(3209, 3209)"
      ]
     },
     "execution_count": 240,
     "metadata": {},
     "output_type": "execute_result"
    }
   ],
   "source": [
    "row_ID(key_024)"
   ]
  },
  {
   "cell_type": "code",
   "execution_count": 241,
   "id": "20e1df8f",
   "metadata": {},
   "outputs": [],
   "source": [
    "conditions = [\n",
    "    (key_024.ProgressionDate.notna()),\n",
    "    ((key_024.ProgressionDate.isna()) & (key_024['death_status'] == 1)),\n",
    "    ((key_024.ProgressionDate.isna()) & (key_024['death_status'] == 0))]\n",
    "\n",
    "choices = [1, 1, 0]\n",
    "\n",
    "key_024.loc[:, 'pfs_status'] = np.select(conditions, choices)"
   ]
  },
  {
   "cell_type": "markdown",
   "id": "096acb0f",
   "metadata": {},
   "source": [
    "#### Patient counts"
   ]
  },
  {
   "cell_type": "code",
   "execution_count": 242,
   "id": "351cc26b",
   "metadata": {},
   "outputs": [],
   "source": [
    "key_024 = (\n",
    "    key_024\n",
    "    .query('stage == \"IV\"')\n",
    "    .query('EGFR != \"positive\"')\n",
    "    .query('ALK != \"positive\"')\n",
    ")"
   ]
  },
  {
   "cell_type": "code",
   "execution_count": 243,
   "id": "6e56864d",
   "metadata": {},
   "outputs": [
    {
     "data": {
      "text/plain": [
       "(2120, 2120)"
      ]
     },
     "execution_count": 243,
     "metadata": {},
     "output_type": "execute_result"
    }
   ],
   "source": [
    "row_ID(key_024)"
   ]
  },
  {
   "cell_type": "code",
   "execution_count": 244,
   "id": "31b683da",
   "metadata": {},
   "outputs": [],
   "source": [
    "# Exclude those with autoimmune conditions. \n",
    "key_024 = key_024[~key_024['PatientID'].isin(auto_IDs)]"
   ]
  },
  {
   "cell_type": "code",
   "execution_count": 245,
   "id": "0a856496",
   "metadata": {},
   "outputs": [],
   "source": [
    "# Exclude those with other relevant comorbidities\n",
    "key_024 = key_024[~key_024['PatientID'].isin(other_comorb_IDs)]"
   ]
  },
  {
   "cell_type": "code",
   "execution_count": 246,
   "id": "80ec7db2",
   "metadata": {},
   "outputs": [],
   "source": [
    "# Exlcude those with CNS metastasis \n",
    "key_024 = key_024[~key_024['PatientID'].isin(cns_fl_IDs)]"
   ]
  },
  {
   "cell_type": "code",
   "execution_count": 247,
   "id": "1104a178",
   "metadata": {},
   "outputs": [],
   "source": [
    "# Include those with ECOG 2, 3, or 4 \n",
    "key_024 = key_024[~key_024['PatientID'].isin(ecog_fl_IDs)]"
   ]
  },
  {
   "cell_type": "code",
   "execution_count": 248,
   "id": "cd78ed88",
   "metadata": {},
   "outputs": [],
   "source": [
    "# Exclude those with abnormal organ function\n",
    "key_024 = key_024[~key_024['PatientID'].isin(ab_organ_IDs)]"
   ]
  },
  {
   "cell_type": "code",
   "execution_count": 249,
   "id": "14f2e7a9",
   "metadata": {},
   "outputs": [
    {
     "data": {
      "text/plain": [
       "(1330, 1330)"
      ]
     },
     "execution_count": 249,
     "metadata": {},
     "output_type": "execute_result"
    }
   ],
   "source": [
    "row_ID(key_024)"
   ]
  },
  {
   "cell_type": "code",
   "execution_count": 250,
   "id": "f73cc399",
   "metadata": {},
   "outputs": [],
   "source": [
    "low_cutoff_024 = cutoff.loc['keynote_024'].low"
   ]
  },
  {
   "cell_type": "code",
   "execution_count": 251,
   "id": "ec6661b6",
   "metadata": {},
   "outputs": [],
   "source": [
    "high_cutoff_024 = cutoff.loc['keynote_024'].high"
   ]
  },
  {
   "cell_type": "code",
   "execution_count": 252,
   "id": "0df9d485",
   "metadata": {},
   "outputs": [
    {
     "name": "stdout",
     "output_type": "stream",
     "text": [
      "Pembro total: 1016\n",
      "High risk: 230\n",
      "Med risk: 372\n",
      "Low risk: 414\n"
     ]
    }
   ],
   "source": [
    "print('Pembro total:',  key_024.query('pembro == 1').shape[0])\n",
    "print('High risk:', key_024.query('pembro == 1').query('risk_score >= @high_cutoff_024').shape[0])\n",
    "print('Med risk:', key_024.query('pembro == 1').query('risk_score < @high_cutoff_024 and risk_score > @low_cutoff_024').shape[0])\n",
    "print('Low risk:', key_024.query('pembro == 1').query('risk_score <= @low_cutoff_024').shape[0])"
   ]
  },
  {
   "cell_type": "code",
   "execution_count": 253,
   "id": "c42406ff",
   "metadata": {},
   "outputs": [
    {
     "name": "stdout",
     "output_type": "stream",
     "text": [
      "Platinum total: 314\n",
      "High risk: 89\n",
      "Med risk: 106\n",
      "Low risk: 119\n"
     ]
    }
   ],
   "source": [
    "print('Platinum total:',  key_024.query('pembro == 0').shape[0])\n",
    "print('High risk:', key_024.query('pembro == 0').query('risk_score >= @high_cutoff_024').shape[0])\n",
    "print('Med risk:', key_024.query('pembro == 0').query('risk_score < @high_cutoff_024 and risk_score > @low_cutoff_024').shape[0])\n",
    "print('Low risk:', key_024.query('pembro == 0').query('risk_score <= @low_cutoff_024').shape[0])"
   ]
  },
  {
   "cell_type": "markdown",
   "id": "2fa79433",
   "metadata": {},
   "source": [
    "#### PFS with covariate balancing "
   ]
  },
  {
   "cell_type": "code",
   "execution_count": 254,
   "id": "c4b8eb3f",
   "metadata": {},
   "outputs": [],
   "source": [
    "key_024 = key_024.set_index('PatientID')"
   ]
  },
  {
   "cell_type": "code",
   "execution_count": 255,
   "id": "55df9656",
   "metadata": {},
   "outputs": [],
   "source": [
    "key_024_iptw = key_024.filter(items = ['pfs_status',\n",
    "                                       'time_prog_treatment',\n",
    "                                       'pembro',\n",
    "                                       'age',\n",
    "                                       'gender',\n",
    "                                       'race',\n",
    "                                       'PracticeType',\n",
    "                                       'Histology',\n",
    "                                       'adv_year',\n",
    "                                       'commercial',\n",
    "                                       'medicare',\n",
    "                                       'medicaid',\n",
    "                                       'ecog_diagnosis',\n",
    "                                       'albumin_diag',\n",
    "                                       'weight_pct_change',\n",
    "                                       'risk_score'])"
   ]
  },
  {
   "cell_type": "code",
   "execution_count": 256,
   "id": "5b3b1ee6",
   "metadata": {},
   "outputs": [],
   "source": [
    "key_024_iptw['met_cat'] = pd.cut(key_024_iptw['adv_year'],\n",
    "                                 bins = [2010, 2016, float('inf')],\n",
    "                                 labels = ['11-16', '17-21'])"
   ]
  },
  {
   "cell_type": "code",
   "execution_count": 257,
   "id": "7a9c8293",
   "metadata": {},
   "outputs": [],
   "source": [
    "conditions = [\n",
    "    ((key_024_iptw['ecog_diagnosis'] == \"1.0\") | (key_024_iptw['ecog_diagnosis'] == \"0.0\")),  \n",
    "    ((key_024_iptw['ecog_diagnosis'] == \"2.0\") | (key_024_iptw['ecog_diagnosis'] == \"3.0\"))\n",
    "]\n",
    "\n",
    "choices = ['lt_2', 'gte_2']\n",
    "\n",
    "key_024_iptw['ecog_2'] = np.select(conditions, choices, default = 'unknown')"
   ]
  },
  {
   "cell_type": "code",
   "execution_count": 258,
   "id": "4aa7ac15",
   "metadata": {},
   "outputs": [
    {
     "data": {
      "text/plain": [
       "pfs_status                int64\n",
       "time_prog_treatment     float64\n",
       "pembro                    int64\n",
       "age                       int64\n",
       "gender                   object\n",
       "race                     object\n",
       "PracticeType             object\n",
       "Histology                object\n",
       "adv_year                  int64\n",
       "commercial              float64\n",
       "medicare                float64\n",
       "medicaid                float64\n",
       "ecog_diagnosis           object\n",
       "albumin_diag            float64\n",
       "weight_pct_change       float64\n",
       "risk_score              float64\n",
       "met_cat                category\n",
       "ecog_2                   object\n",
       "dtype: object"
      ]
     },
     "execution_count": 258,
     "metadata": {},
     "output_type": "execute_result"
    }
   ],
   "source": [
    "key_024_iptw.dtypes"
   ]
  },
  {
   "cell_type": "code",
   "execution_count": 259,
   "id": "583b6f2f",
   "metadata": {},
   "outputs": [],
   "source": [
    "to_be_categorical = list(key_024_iptw.select_dtypes(include = ['object']).columns)"
   ]
  },
  {
   "cell_type": "code",
   "execution_count": 260,
   "id": "d2d2d99c",
   "metadata": {},
   "outputs": [
    {
     "data": {
      "text/plain": [
       "['gender', 'race', 'PracticeType', 'Histology', 'ecog_diagnosis', 'ecog_2']"
      ]
     },
     "execution_count": 260,
     "metadata": {},
     "output_type": "execute_result"
    }
   ],
   "source": [
    "to_be_categorical"
   ]
  },
  {
   "cell_type": "code",
   "execution_count": 261,
   "id": "4854eca2",
   "metadata": {},
   "outputs": [],
   "source": [
    "to_be_categorical.append('met_cat')"
   ]
  },
  {
   "cell_type": "code",
   "execution_count": 262,
   "id": "835d4162",
   "metadata": {},
   "outputs": [],
   "source": [
    "to_be_categorical.remove('ecog_diagnosis')"
   ]
  },
  {
   "cell_type": "code",
   "execution_count": 263,
   "id": "2fbe0ebe",
   "metadata": {},
   "outputs": [],
   "source": [
    "# Convert variables in list to categorical.\n",
    "for x in list(to_be_categorical):\n",
    "    key_024_iptw[x] = key_024_iptw[x].astype('category')"
   ]
  },
  {
   "cell_type": "code",
   "execution_count": 264,
   "id": "e49ba804",
   "metadata": {},
   "outputs": [],
   "source": [
    "# List of numeric variables, excluding binary variables. \n",
    "numerical_features = ['age', 'albumin_diag', 'weight_pct_change', 'risk_score']\n",
    "\n",
    "# Transformer will first calculate column median and impute, and then apply a standard scaler. \n",
    "numerical_transformer = Pipeline(steps = [\n",
    "    ('imputer', SimpleImputer(strategy = 'median')),\n",
    "    ('std_scaler', StandardScaler())])"
   ]
  },
  {
   "cell_type": "code",
   "execution_count": 265,
   "id": "d04f0083",
   "metadata": {},
   "outputs": [],
   "source": [
    "# List of categorical features.\n",
    "categorical_features = list(key_024_iptw.select_dtypes(include = ['category']).columns)\n",
    "\n",
    "# One-hot-encode categorical features.\n",
    "categorical_transformer = OneHotEncoder(handle_unknown = 'ignore')"
   ]
  },
  {
   "cell_type": "code",
   "execution_count": 266,
   "id": "063793a4",
   "metadata": {},
   "outputs": [],
   "source": [
    "preprocessor = ColumnTransformer(\n",
    "    transformers = [\n",
    "        ('num', numerical_transformer, numerical_features),\n",
    "        ('cat', categorical_transformer, categorical_features)],\n",
    "    remainder = 'passthrough')"
   ]
  },
  {
   "cell_type": "code",
   "execution_count": 267,
   "id": "1e9ed277",
   "metadata": {},
   "outputs": [],
   "source": [
    "key_024_iptw_low = (\n",
    "    key_024_iptw\n",
    "    .query('risk_score <= @low_cutoff_024'))\n",
    "\n",
    "key_024_iptw_med = (\n",
    "    key_024_iptw\n",
    "    .query('risk_score < @high_cutoff_024 and risk_score > @low_cutoff_024'))\n",
    "\n",
    "key_024_iptw_high = (\n",
    "    key_024_iptw\n",
    "    .query('risk_score >= @high_cutoff_024'))\n",
    "\n",
    "key_024_iptw_all = key_024_iptw"
   ]
  },
  {
   "cell_type": "code",
   "execution_count": 268,
   "id": "83e55cff",
   "metadata": {},
   "outputs": [],
   "source": [
    "key_024_low_x = preprocessor.fit_transform(key_024_iptw_low.filter(items = ['age',\n",
    "                                                                            'gender',\n",
    "                                                                            'race',\n",
    "                                                                            'PracticeType',\n",
    "                                                                            'Histology',\n",
    "                                                                            'met_cat',\n",
    "                                                                            'commercial',\n",
    "                                                                            'medicare',\n",
    "                                                                            'medicaid',\n",
    "                                                                            'ecog_2',\n",
    "                                                                            'albumin_diag',\n",
    "                                                                            'weight_pct_change',\n",
    "                                                                            'risk_score']))\n",
    "\n",
    "key_024_med_x = preprocessor.fit_transform(key_024_iptw_med.filter(items = ['age',\n",
    "                                                                            'gender',\n",
    "                                                                            'race',\n",
    "                                                                            'PracticeType',\n",
    "                                                                            'Histology',\n",
    "                                                                            'met_cat',\n",
    "                                                                            'commercial',\n",
    "                                                                            'medicare',\n",
    "                                                                            'medicaid',\n",
    "                                                                            'ecog_2',\n",
    "                                                                            'albumin_diag',\n",
    "                                                                            'weight_pct_change',\n",
    "                                                                            'risk_score']))\n",
    "\n",
    "key_024_high_x = preprocessor.fit_transform(key_024_iptw_high.filter(items = ['age',\n",
    "                                                                              'gender',\n",
    "                                                                              'race',\n",
    "                                                                              'PracticeType',\n",
    "                                                                              'Histology',\n",
    "                                                                              'met_cat',\n",
    "                                                                              'commercial',\n",
    "                                                                              'medicare',\n",
    "                                                                              'medicaid',\n",
    "                                                                              'ecog_2',\n",
    "                                                                              'albumin_diag',\n",
    "                                                                              'weight_pct_change',\n",
    "                                                                              'risk_score']))\n",
    "\n",
    "key_024_all_x = preprocessor.fit_transform(key_024_iptw_all.filter(items = ['age',\n",
    "                                                                            'gender',\n",
    "                                                                            'race',\n",
    "                                                                            'PracticeType',\n",
    "                                                                            'Histology',\n",
    "                                                                            'met_cat',\n",
    "                                                                            'commercial',\n",
    "                                                                            'medicare',\n",
    "                                                                            'medicaid',\n",
    "                                                                            'ecog_2',\n",
    "                                                                            'albumin_diag',\n",
    "                                                                            'weight_pct_change',\n",
    "                                                                            'risk_score']))"
   ]
  },
  {
   "cell_type": "code",
   "execution_count": 269,
   "id": "fd30eef2",
   "metadata": {},
   "outputs": [
    {
     "data": {
      "text/plain": [
       "LogisticRegression(max_iter=1000)"
      ]
     },
     "execution_count": 269,
     "metadata": {},
     "output_type": "execute_result"
    }
   ],
   "source": [
    "lr_024_low = LogisticRegression(max_iter = 1000)\n",
    "lr_024_low.fit(key_024_low_x, key_024_iptw_low['pembro'])"
   ]
  },
  {
   "cell_type": "code",
   "execution_count": 270,
   "id": "9ac559db",
   "metadata": {},
   "outputs": [
    {
     "data": {
      "text/plain": [
       "LogisticRegression(max_iter=1000)"
      ]
     },
     "execution_count": 270,
     "metadata": {},
     "output_type": "execute_result"
    }
   ],
   "source": [
    "lr_024_med = LogisticRegression(max_iter = 1000)\n",
    "lr_024_med.fit(key_024_med_x, key_024_iptw_med['pembro'])"
   ]
  },
  {
   "cell_type": "code",
   "execution_count": 271,
   "id": "97cbce56",
   "metadata": {},
   "outputs": [
    {
     "data": {
      "text/plain": [
       "LogisticRegression(max_iter=1000)"
      ]
     },
     "execution_count": 271,
     "metadata": {},
     "output_type": "execute_result"
    }
   ],
   "source": [
    "lr_024_high = LogisticRegression(max_iter = 1000)\n",
    "lr_024_high.fit(key_024_high_x, key_024_iptw_high['pembro'])"
   ]
  },
  {
   "cell_type": "code",
   "execution_count": 272,
   "id": "a7678c7b",
   "metadata": {},
   "outputs": [
    {
     "data": {
      "text/plain": [
       "LogisticRegression(max_iter=1000)"
      ]
     },
     "execution_count": 272,
     "metadata": {},
     "output_type": "execute_result"
    }
   ],
   "source": [
    "lr_024_all = LogisticRegression(max_iter = 1000)\n",
    "lr_024_all.fit(key_024_all_x, key_024_iptw_all['pembro'])"
   ]
  },
  {
   "cell_type": "code",
   "execution_count": 273,
   "id": "dd487c2c",
   "metadata": {},
   "outputs": [],
   "source": [
    "pred_low = lr_024_low.predict_proba(key_024_low_x)\n",
    "pred_med = lr_024_med.predict_proba(key_024_med_x)\n",
    "pred_high = lr_024_high.predict_proba(key_024_high_x)\n",
    "pred_all = lr_024_all.predict_proba(key_024_all_x)"
   ]
  },
  {
   "cell_type": "code",
   "execution_count": 274,
   "id": "8d025397",
   "metadata": {},
   "outputs": [],
   "source": [
    "key_024_iptw_low['ps'] = pred_low[:, 1]\n",
    "key_024_iptw_med['ps'] = pred_med[:, 1]\n",
    "key_024_iptw_high['ps'] = pred_high[:, 1]\n",
    "key_024_iptw_all['ps'] = pred_all[:, 1]"
   ]
  },
  {
   "cell_type": "code",
   "execution_count": 275,
   "id": "1e34d68d",
   "metadata": {},
   "outputs": [],
   "source": [
    "key_024_iptw_low['weight'] = (\n",
    "    np.where(key_024_iptw_low['pembro'] == 1, 1/key_024_iptw_low['ps'], 1/(1 - key_024_iptw_low['ps'])))\n",
    "\n",
    "key_024_iptw_med['weight'] = (\n",
    "    np.where(key_024_iptw_med['pembro'] == 1, 1/key_024_iptw_med['ps'], 1/(1 - key_024_iptw_med['ps'])))\n",
    "\n",
    "key_024_iptw_high['weight'] = (\n",
    "    np.where(key_024_iptw_high['pembro'] == 1, 1/key_024_iptw_high['ps'], 1/(1 - key_024_iptw_high['ps'])))\n",
    "\n",
    "key_024_iptw_all['weight'] = (\n",
    "    np.where(key_024_iptw_all['pembro'] == 1, 1/key_024_iptw_all['ps'], 1/(1 - key_024_iptw_all['ps'])))"
   ]
  },
  {
   "cell_type": "code",
   "execution_count": 276,
   "id": "6a4176f8",
   "metadata": {},
   "outputs": [
    {
     "data": {
      "text/plain": [
       "<lifelines.KaplanMeierFitter:\"KM_estimate\", fitted with 1316.02 total observations, 313.729 right-censored observations>"
      ]
     },
     "execution_count": 276,
     "metadata": {},
     "output_type": "execute_result"
    }
   ],
   "source": [
    "# Low KM curves\n",
    "kmf_low_pembro_024_iptw = KaplanMeierFitter()\n",
    "kmf_low_plat_024_iptw = KaplanMeierFitter()\n",
    "\n",
    "kmf_low_pembro_024_iptw.fit(\n",
    "    key_024_iptw_low.query('pembro == 1').time_prog_treatment/30,\n",
    "    key_024_iptw_low.query('pembro == 1').pfs_status,\n",
    "    weights = key_024_iptw_low.query('pembro == 1')['weight'])\n",
    "\n",
    "kmf_low_plat_024_iptw.fit(\n",
    "    key_024_iptw_low.query('pembro == 0').time_prog_treatment/30,\n",
    "    key_024_iptw_low.query('pembro == 0').pfs_status,\n",
    "    weights = key_024_iptw_low.query('pembro == 0')['weight'])\n",
    "\n",
    "# Med KM curves\n",
    "kmf_med_pembro_024_iptw = KaplanMeierFitter()\n",
    "kmf_med_plat_024_iptw = KaplanMeierFitter()\n",
    "\n",
    "kmf_med_pembro_024_iptw.fit(\n",
    "    key_024_iptw_med.query('pembro == 1').time_prog_treatment/30,\n",
    "    key_024_iptw_med.query('pembro == 1').pfs_status,\n",
    "    weights = key_024_iptw_med.query('pembro == 1')['weight'])\n",
    "\n",
    "kmf_med_plat_024_iptw.fit(\n",
    "    key_024_iptw_med.query('pembro == 0').time_prog_treatment/30,\n",
    "    key_024_iptw_med.query('pembro == 0').pfs_status,\n",
    "    weights = key_024_iptw_med.query('pembro == 0')['weight'])\n",
    "\n",
    "# High KM curves \n",
    "kmf_high_pembro_024_iptw = KaplanMeierFitter()\n",
    "kmf_high_plat_024_iptw = KaplanMeierFitter()\n",
    "\n",
    "kmf_high_pembro_024_iptw.fit(\n",
    "    key_024_iptw_high.query('pembro == 1').time_prog_treatment/30,\n",
    "    key_024_iptw_high.query('pembro == 1').pfs_status,\n",
    "    weights = key_024_iptw_high.query('pembro == 1')['weight'])\n",
    "\n",
    "kmf_high_plat_024_iptw.fit(\n",
    "    key_024_iptw_high.query('pembro == 0').time_prog_treatment/30,\n",
    "    key_024_iptw_high.query('pembro == 0').pfs_status,\n",
    "    weights = key_024_iptw_high.query('pembro == 0')['weight'])\n",
    "\n",
    "# All KM curves \n",
    "kmf_all_pembro_024_iptw = KaplanMeierFitter()\n",
    "kmf_all_plat_024_iptw = KaplanMeierFitter()\n",
    "\n",
    "kmf_all_pembro_024_iptw.fit(\n",
    "    key_024_iptw_all.query('pembro == 1').time_prog_treatment/30,\n",
    "    key_024_iptw_all.query('pembro == 1').pfs_status,\n",
    "    weights = key_024_iptw_all.query('pembro == 1')['weight'])\n",
    "\n",
    "kmf_all_plat_024_iptw.fit(\n",
    "    key_024_iptw_all.query('pembro == 0').time_prog_treatment/30,\n",
    "    key_024_iptw_all.query('pembro == 0').pfs_status,\n",
    "    weights = key_024_iptw_all.query('pembro == 0')['weight'])"
   ]
  },
  {
   "cell_type": "code",
   "execution_count": 277,
   "id": "145e97ec",
   "metadata": {},
   "outputs": [],
   "source": [
    "pembro_024_median_os = mos(kmf_low_pembro_024_iptw,\n",
    "                           kmf_med_pembro_024_iptw,\n",
    "                           kmf_high_pembro_024_iptw,\n",
    "                           kmf_all_pembro_024_iptw)\n",
    "\n",
    "plat_024_median_os = mos(kmf_low_plat_024_iptw,\n",
    "                         kmf_med_plat_024_iptw,\n",
    "                         kmf_high_plat_024_iptw,\n",
    "                         kmf_all_plat_024_iptw)"
   ]
  },
  {
   "cell_type": "code",
   "execution_count": 278,
   "id": "d7a6eec5",
   "metadata": {},
   "outputs": [],
   "source": [
    "key_024_iptw_all_imputed = key_024_iptw_all.copy()\n",
    "key_024_iptw_all_imputed['albumin_diag'] = key_024_iptw_all_imputed['albumin_diag'].fillna(key_024_iptw_all_imputed['albumin_diag'].median())\n",
    "key_024_iptw_all_imputed['weight_pct_change'] = key_024_iptw_all_imputed['weight_pct_change'].fillna(key_024_iptw_all_imputed['weight_pct_change'].median())"
   ]
  },
  {
   "cell_type": "code",
   "execution_count": 279,
   "id": "35d499d7",
   "metadata": {},
   "outputs": [
    {
     "data": {
      "text/plain": [
       "<lifelines.CoxPHFitter: fitted with 2646.05 total observations, 639.756 right-censored observations>"
      ]
     },
     "execution_count": 279,
     "metadata": {},
     "output_type": "execute_result"
    }
   ],
   "source": [
    "key024_hr_all = CoxPHFitter()\n",
    "key024_hr_all.fit(key_024_iptw_all_imputed,\n",
    "                  duration_col = 'time_prog_treatment',\n",
    "                  event_col = 'pfs_status',\n",
    "                  formula = 'pembro + age + gender + race + PracticeType + Histology + met_cat + commercial + medicare + medicaid + ecog_2 + albumin_diag + weight_pct_change + risk_score', \n",
    "                  weights_col = 'weight', \n",
    "                  robust = True)"
   ]
  },
  {
   "cell_type": "code",
   "execution_count": 280,
   "id": "ff933695",
   "metadata": {},
   "outputs": [],
   "source": [
    "key024_all_rmst_mos_95 = rmst_mos_95ci(key_024_iptw_all,\n",
    "                                       1000,\n",
    "                                       'pembro',\n",
    "                                       'progression',\n",
    "                                       ['age',\n",
    "                                        'gender',\n",
    "                                        'race',\n",
    "                                        'PracticeType',\n",
    "                                        'Histology',\n",
    "                                        'met_cat',\n",
    "                                        'commercial',\n",
    "                                        'medicare',\n",
    "                                        'medicaid',\n",
    "                                        'ecog_2',\n",
    "                                        'albumin_diag',\n",
    "                                        'weight_pct_change',\n",
    "                                        'risk_score'],\n",
    "                                       ['age', 'albumin_diag', 'weight_pct_change', 'risk_score'],\n",
    "                                       18)"
   ]
  },
  {
   "cell_type": "code",
   "execution_count": 281,
   "id": "5faab297",
   "metadata": {},
   "outputs": [],
   "source": [
    "key024_low_rmst_mos_95 = rmst_mos_95ci(key_024_iptw_low,\n",
    "                                       1000,\n",
    "                                       'pembro',\n",
    "                                       'progression',\n",
    "                                       ['age',\n",
    "                                        'gender',\n",
    "                                        'race',\n",
    "                                        'PracticeType',\n",
    "                                        'Histology',\n",
    "                                        'met_cat',\n",
    "                                        'commercial',\n",
    "                                        'medicare',\n",
    "                                        'medicaid',\n",
    "                                        'ecog_2',\n",
    "                                        'albumin_diag',\n",
    "                                        'weight_pct_change',\n",
    "                                        'risk_score'],\n",
    "                                       ['age', 'albumin_diag', 'weight_pct_change', 'risk_score'],\n",
    "                                       18)"
   ]
  },
  {
   "cell_type": "code",
   "execution_count": 282,
   "id": "3abe3069",
   "metadata": {},
   "outputs": [],
   "source": [
    "key024_med_rmst_mos_95 = rmst_mos_95ci(key_024_iptw_med,\n",
    "                                       1000,\n",
    "                                       'pembro',\n",
    "                                       'progression',\n",
    "                                       ['age',\n",
    "                                        'gender',\n",
    "                                        'race',\n",
    "                                        'PracticeType',\n",
    "                                        'Histology',\n",
    "                                        'met_cat',\n",
    "                                        'commercial',\n",
    "                                        'medicare',\n",
    "                                        'medicaid',\n",
    "                                        'ecog_2',\n",
    "                                        'albumin_diag',\n",
    "                                        'weight_pct_change',\n",
    "                                        'risk_score'],\n",
    "                                       ['age', 'albumin_diag', 'weight_pct_change', 'risk_score'],\n",
    "                                       18)"
   ]
  },
  {
   "cell_type": "code",
   "execution_count": 283,
   "id": "a1d6aff0",
   "metadata": {},
   "outputs": [],
   "source": [
    "key024_high_rmst_mos_95 = rmst_mos_95ci(key_024_iptw_high,\n",
    "                                        1000,\n",
    "                                        'pembro',\n",
    "                                        'progression',\n",
    "                                        ['age',\n",
    "                                         'gender',\n",
    "                                         'race',\n",
    "                                         'PracticeType',\n",
    "                                         'Histology',\n",
    "                                         'met_cat',\n",
    "                                         'commercial',\n",
    "                                         'medicare',\n",
    "                                         'medicaid',\n",
    "                                         'ecog_2',\n",
    "                                         'albumin_diag',\n",
    "                                         'weight_pct_change',\n",
    "                                         'risk_score'],\n",
    "                                        ['age', 'albumin_diag', 'weight_pct_change', 'risk_score'],\n",
    "                                        18)"
   ]
  },
  {
   "cell_type": "code",
   "execution_count": 284,
   "id": "72289d84",
   "metadata": {},
   "outputs": [],
   "source": [
    "keynote_024_data = [\n",
    "    {'trial_name': 'KEYNOTE-024', \n",
    "     'risk_group': 'low', \n",
    "     's_trt_mos': pembro_024_median_os[0],\n",
    "     's_trt_mos_95': key024_low_rmst_mos_95.mos_A_95,\n",
    "     's_cont_mos': plat_024_median_os[0],\n",
    "     's_cont_mos_95': key024_low_rmst_mos_95.mos_B_95,\n",
    "     's_mos_diff': pembro_024_median_os[0] - plat_024_median_os[0], \n",
    "     'rct_trt_arm': 10.3, \n",
    "     'rct_cont_arm': 6.0,\n",
    "     'rct_mos_diff': 10.3-6.0, \n",
    "     's_trt_rmst': restricted_mean_survival_time(kmf_low_pembro_024_iptw, 18),\n",
    "     's_trt_rmst_95': key024_low_rmst_mos_95.rmst_A_95,\n",
    "     's_cont_rmst': restricted_mean_survival_time(kmf_low_plat_024_iptw, 18),\n",
    "     's_cont_rmst_95': key024_low_rmst_mos_95.rmst_B_95,\n",
    "     's_diff_rmst': restricted_mean_survival_time(kmf_low_pembro_024_iptw, 18) - restricted_mean_survival_time(kmf_low_plat_024_iptw, 18),\n",
    "     's_diff_rmst_95': key024_low_rmst_mos_95.difference_rmst_95,\n",
    "     'scount': key_024.query('risk_score <= @low_cutoff_024').shape[0]},\n",
    "    \n",
    "    {'trial_name': 'KEYNOTE-024', \n",
    "     'risk_group': 'medium', \n",
    "     's_trt_mos': pembro_024_median_os[1],\n",
    "     's_trt_mos_95': key024_med_rmst_mos_95.mos_A_95,\n",
    "     's_cont_mos': plat_024_median_os[1],\n",
    "     's_cont_mos_95': key024_med_rmst_mos_95.mos_B_95,\n",
    "     's_mos_diff': pembro_024_median_os[1] - plat_024_median_os[1], \n",
    "     'rct_trt_arm': 10.3, \n",
    "     'rct_cont_arm': 6.0,\n",
    "     'rct_mos_diff': 10.3-6.0, \n",
    "     's_trt_rmst': restricted_mean_survival_time(kmf_med_pembro_024_iptw, 18),\n",
    "     's_trt_rmst_95': key024_med_rmst_mos_95.rmst_A_95,\n",
    "     's_cont_rmst': restricted_mean_survival_time(kmf_med_plat_024_iptw, 18),\n",
    "     's_cont_rmst_95': key024_med_rmst_mos_95.rmst_B_95,\n",
    "     's_diff_rmst': restricted_mean_survival_time(kmf_med_pembro_024_iptw, 18) - restricted_mean_survival_time(kmf_med_plat_024_iptw, 18),\n",
    "     's_diff_rmst_95': key024_med_rmst_mos_95.difference_rmst_95,\n",
    "     'scount': key_024.query('risk_score < @high_cutoff_024 and risk_score > @low_cutoff_024').shape[0]},\n",
    "    \n",
    "    {'trial_name': 'KEYNOTE-024', \n",
    "     'risk_group': 'high', \n",
    "     's_trt_mos': pembro_024_median_os[2],\n",
    "     's_trt_mos_95': key024_high_rmst_mos_95.mos_A_95,\n",
    "     's_cont_mos': plat_024_median_os[2],\n",
    "     's_cont_mos_95': key024_high_rmst_mos_95.mos_B_95,\n",
    "     's_mos_diff': pembro_024_median_os[2] - plat_024_median_os[2], \n",
    "     'rct_trt_arm': 10.3, \n",
    "     'rct_cont_arm': 6.0,\n",
    "     'rct_mos_diff': 10.3-6.0, \n",
    "     's_trt_rmst': restricted_mean_survival_time(kmf_high_pembro_024_iptw, 18),\n",
    "     's_trt_rmst_95': key024_high_rmst_mos_95.rmst_A_95,\n",
    "     's_cont_rmst': restricted_mean_survival_time(kmf_high_plat_024_iptw, 18),\n",
    "     's_cont_rmst_95': key024_high_rmst_mos_95.rmst_B_95,\n",
    "     's_diff_rmst': restricted_mean_survival_time(kmf_high_pembro_024_iptw, 18) - restricted_mean_survival_time(kmf_high_plat_024_iptw, 18),\n",
    "     's_diff_rmst_95': key024_high_rmst_mos_95.difference_rmst_95,\n",
    "     'scount': key_024.query('risk_score >= @high_cutoff_024').shape[0]},\n",
    "    \n",
    "    {'trial_name': 'KEYNOTE-024', \n",
    "     'risk_group': 'all', \n",
    "     's_hr': key024_hr_all.hazard_ratios_['pembro'],\n",
    "     's_hr_95': [key024_hr_all.summary.loc['pembro']['exp(coef) lower 95%'], key024_hr_all.summary.loc['pembro']['exp(coef) upper 95%']],\n",
    "     's_trt_mos': pembro_024_median_os[3],\n",
    "     's_trt_mos_95': key024_all_rmst_mos_95.mos_A_95,\n",
    "     's_cont_mos': plat_024_median_os[3],\n",
    "     's_cont_mos_95': key024_all_rmst_mos_95.mos_B_95,\n",
    "     's_mos_diff': pembro_024_median_os[3] - plat_024_median_os[3], \n",
    "     'rct_trt_arm': 10.3, \n",
    "     'rct_cont_arm': 6.0,\n",
    "     'rct_mos_diff': 10.3-6.0, \n",
    "     'scount': key_024.shape[0]}\n",
    "]"
   ]
  },
  {
   "cell_type": "markdown",
   "id": "3384e4e6",
   "metadata": {},
   "source": [
    "### KEYNOTE-189: First-line pembrolizumab plus chemotherapy vs. chemotherapy\n",
    "\n",
    "**INCLUSION CRITERIA**\n",
    "* Untreated stage IV NSCLC\n",
    "* Received first line pemobrolizumab plus platinum-based chemotherapy or platinum-based chemotherapy\n",
    "* EGFR and ALK negative\n",
    "* No autoimmune diseases in the year preceding metastatic diagnosis \n",
    "* No history of ILD, HIV, Hep C, Hep B, severe psychiatric history, or drug use disorder in the year preceding metastatic diagnosis \n",
    "* No CNS metastasis at start of treatment \n",
    "* ECOG is not 2, 3, or 4 at start of treatment \n",
    "* Adeuquate organ function at start of treatment "
   ]
  },
  {
   "cell_type": "markdown",
   "id": "34db0f43",
   "metadata": {},
   "source": [
    "#### Pembrolizumab + chemotherapy "
   ]
  },
  {
   "cell_type": "code",
   "execution_count": 285,
   "id": "7bb05547",
   "metadata": {},
   "outputs": [
    {
     "data": {
      "text/plain": [
       "68483"
      ]
     },
     "execution_count": 285,
     "metadata": {},
     "output_type": "execute_result"
    }
   ],
   "source": [
    "df_full = pd.read_csv('df_risk_crude.csv', index_col = 'PatientID', dtype = {'death_status': bool})\n",
    "df_full.index.nunique()"
   ]
  },
  {
   "cell_type": "code",
   "execution_count": 286,
   "id": "854d10ef",
   "metadata": {},
   "outputs": [],
   "source": [
    "line_therapy = pd.read_csv('LineOfTherapy.csv')"
   ]
  },
  {
   "cell_type": "code",
   "execution_count": 287,
   "id": "c0ae52db",
   "metadata": {},
   "outputs": [
    {
     "data": {
      "text/plain": [
       "Carboplatin,Pemetrexed                              6700\n",
       "Carboplatin,Pembrolizumab,Pemetrexed                5113\n",
       "Pemetrexed                                          4711\n",
       "Bevacizumab,Carboplatin,Pemetrexed                  3459\n",
       "Bevacizumab,Pemetrexed                              1569\n",
       "Pembrolizumab,Pemetrexed                            1554\n",
       "Cisplatin,Pemetrexed                                 811\n",
       "Bevacizumab,Cisplatin,Pemetrexed                     174\n",
       "Abiraterone,Carboplatin,Pembrolizumab,Pemetrexed     100\n",
       "Bevacizumab-Awwb,Carboplatin,Pemetrexed               82\n",
       "Name: LineName, dtype: int64"
      ]
     },
     "execution_count": 287,
     "metadata": {},
     "output_type": "execute_result"
    }
   ],
   "source": [
    "line_therapy[line_therapy['LineName'].str.contains('Pemetrexed')].LineName.value_counts().head(10)"
   ]
  },
  {
   "cell_type": "code",
   "execution_count": 288,
   "id": "81c54902",
   "metadata": {},
   "outputs": [],
   "source": [
    "line_therapy_fl = (\n",
    "    line_therapy[line_therapy['PatientID'].isin(df_full.index)]\n",
    "    .query('LineNumber == 1')\n",
    "    .query('IsMaintenanceTherapy == False')\n",
    ")"
   ]
  },
  {
   "cell_type": "code",
   "execution_count": 289,
   "id": "3ba13489",
   "metadata": {},
   "outputs": [],
   "source": [
    "plat_chemo = [\n",
    "    'Carboplatin',\n",
    "    'Cisplatin']\n",
    "\n",
    "immuno_wout_pembro = [\n",
    "    'Atezolizumab',\n",
    "    'Cemiplimab',\n",
    "    'Durvalumab',\n",
    "    'Ipilimumab',\n",
    "    'Nivolumab']\n",
    "\n",
    "targeted = [\n",
    "    'Afatinib',\n",
    "    'Alectinib',\n",
    "    'Brigatinib',\n",
    "    'Cabozantinib',\n",
    "    'Capmatinib',\n",
    "    'Ceritinib',\n",
    "    'Crizotinib',\n",
    "    'Dabrafenib',\n",
    "    'Dacomitinib',\n",
    "    'Entrectinib',\n",
    "    'Erlotinib',\n",
    "    'Gefitinib',\n",
    "    'Lorlatinib',\n",
    "    'Osimertinib',\n",
    "    'Pralsetinib',\n",
    "    'Selpercatinib',\n",
    "    'Sotorasib',\n",
    "    'Tepotinib',\n",
    "    'Trametinib',\n",
    "    'Vandetanib']"
   ]
  },
  {
   "cell_type": "code",
   "execution_count": 290,
   "id": "89c93568",
   "metadata": {},
   "outputs": [
    {
     "data": {
      "text/plain": [
       "Carboplatin,Pembrolizumab,Pemetrexed                     4275\n",
       "Carboplatin,Paclitaxel,Pembrolizumab                      803\n",
       "Carboplatin,Paclitaxel Protein-Bound,Pembrolizumab        534\n",
       "Abiraterone,Carboplatin,Pembrolizumab,Pemetrexed           79\n",
       "Carboplatin,Cyclophosphamide,Pembrolizumab,Pemetrexed      31\n",
       "Cisplatin,Pembrolizumab,Pemetrexed                         27\n",
       "Carboplatin,Pembrolizumab                                  19\n",
       "Carboplatin,Docetaxel,Pembrolizumab                        18\n",
       "Carboplatin,Paclitaxel,Pembrolizumab,Pemetrexed            18\n",
       "Bevacizumab,Carboplatin,Pembrolizumab,Pemetrexed           10\n",
       "Name: LineName, dtype: int64"
      ]
     },
     "execution_count": 290,
     "metadata": {},
     "output_type": "execute_result"
    }
   ],
   "source": [
    "line_therapy_fl[line_therapy_fl['LineName'].str.contains('|'.join(plat_chemo)) & \n",
    "                line_therapy_fl['LineName'].str.contains('Pembrolizumab') &\n",
    "                ~line_therapy_fl['LineName'].str.contains('|'.join(targeted)) &\n",
    "                ~line_therapy_fl['LineName'].str.contains('|'.join(immuno_wout_pembro)) &\n",
    "                ~line_therapy_fl['LineName'].str.contains('Clinical Study Drug')].LineName.value_counts().head(10)"
   ]
  },
  {
   "cell_type": "code",
   "execution_count": 291,
   "id": "0f8a4398",
   "metadata": {},
   "outputs": [],
   "source": [
    "key189_pembro = (\n",
    "    line_therapy_fl[line_therapy_fl['LineName'].str.contains('|'.join(plat_chemo)) & \n",
    "                    line_therapy_fl['LineName'].str.contains('Pembrolizumab') &\n",
    "                    ~line_therapy_fl['LineName'].str.contains('|'.join(targeted)) &\n",
    "                    ~line_therapy_fl['LineName'].str.contains('|'.join(immuno_wout_pembro)) &\n",
    "                    ~line_therapy_fl['LineName'].str.contains('Clinical Study Drug')]\n",
    "    [['PatientID', 'StartDate']]\n",
    ")"
   ]
  },
  {
   "cell_type": "code",
   "execution_count": 292,
   "id": "c5d63cfb",
   "metadata": {},
   "outputs": [],
   "source": [
    "key189_pembro.loc[:, 'pembro'] = 1"
   ]
  },
  {
   "cell_type": "code",
   "execution_count": 293,
   "id": "9026e0b2",
   "metadata": {},
   "outputs": [
    {
     "data": {
      "text/plain": [
       "(5878, 5878)"
      ]
     },
     "execution_count": 293,
     "metadata": {},
     "output_type": "execute_result"
    }
   ],
   "source": [
    "row_ID(key189_pembro)"
   ]
  },
  {
   "cell_type": "code",
   "execution_count": 294,
   "id": "c75169ea",
   "metadata": {},
   "outputs": [],
   "source": [
    "# Dataframe of all therapies received for those receiving first line pembrolizumab only. \n",
    "line_therapy_pembro_189 = (\n",
    "    line_therapy[line_therapy['PatientID'].isin(key189_pembro.PatientID)])"
   ]
  },
  {
   "cell_type": "code",
   "execution_count": 295,
   "id": "d550f0ab",
   "metadata": {},
   "outputs": [],
   "source": [
    "# Patients receiving pembrolizumab therapy who later recieve targeted therapy. \n",
    "pembro_189_xcross = (\n",
    "    line_therapy_pembro_189[line_therapy_pembro_189['LineName'].str.contains('|'.join(targeted))].PatientID)"
   ]
  },
  {
   "cell_type": "code",
   "execution_count": 296,
   "id": "b260f079",
   "metadata": {},
   "outputs": [],
   "source": [
    "# Select patients who don't receive targeted therapy in future lines.\n",
    "key189_pembro = key189_pembro[~key189_pembro['PatientID'].isin(pembro_189_xcross)]"
   ]
  },
  {
   "cell_type": "code",
   "execution_count": 297,
   "id": "152e8ec7",
   "metadata": {},
   "outputs": [
    {
     "data": {
      "text/plain": [
       "(5673, 5673)"
      ]
     },
     "execution_count": 297,
     "metadata": {},
     "output_type": "execute_result"
    }
   ],
   "source": [
    "row_ID(key189_pembro)"
   ]
  },
  {
   "cell_type": "markdown",
   "id": "d05f8d97",
   "metadata": {},
   "source": [
    "#### Platinum-based chemotherapy"
   ]
  },
  {
   "cell_type": "code",
   "execution_count": 298,
   "id": "6d747327",
   "metadata": {},
   "outputs": [],
   "source": [
    "plat_chemo = [\n",
    "    'Carboplatin',\n",
    "    'Cisplatin']\n",
    "\n",
    "immuno = [\n",
    "    'Atezolizumab',\n",
    "    'Cemiplimab',\n",
    "    'Durvalumab',\n",
    "    'Ipilimumab',\n",
    "    'Nivolumab',\n",
    "    'Pembrolizumab'\n",
    "]"
   ]
  },
  {
   "cell_type": "code",
   "execution_count": 299,
   "id": "9222b745",
   "metadata": {},
   "outputs": [
    {
     "data": {
      "text/plain": [
       "Carboplatin,Paclitaxel                  8524\n",
       "Carboplatin,Pemetrexed                  5417\n",
       "Bevacizumab,Carboplatin,Pemetrexed      2825\n",
       "Carboplatin,Paclitaxel Protein-Bound    1826\n",
       "Bevacizumab,Carboplatin,Paclitaxel      1591\n",
       "Carboplatin,Gemcitabine                 1224\n",
       "Cisplatin,Etoposide                      793\n",
       "Carboplatin,Docetaxel                    780\n",
       "Cisplatin,Pemetrexed                     684\n",
       "Carboplatin,Etoposide                    363\n",
       "Name: LineName, dtype: int64"
      ]
     },
     "execution_count": 299,
     "metadata": {},
     "output_type": "execute_result"
    }
   ],
   "source": [
    "line_therapy_fl[line_therapy_fl['LineName'].str.contains('|'.join(plat_chemo)) & \n",
    "                ~line_therapy_fl['LineName'].str.contains('|'.join(immuno)) &\n",
    "                ~line_therapy_fl['LineName'].str.contains('|'.join(targeted)) &\n",
    "                ~line_therapy_fl['LineName'].str.contains('Clinical Study Drug')].LineName.value_counts().head(10)"
   ]
  },
  {
   "cell_type": "code",
   "execution_count": 300,
   "id": "15a532e2",
   "metadata": {},
   "outputs": [],
   "source": [
    "key189_plat = (\n",
    "    line_therapy_fl[line_therapy_fl['LineName'].str.contains('|'.join(plat_chemo)) & \n",
    "                    ~line_therapy_fl['LineName'].str.contains('|'.join(immuno)) &\n",
    "                    ~line_therapy_fl['LineName'].str.contains('|'.join(targeted)) &\n",
    "                    ~line_therapy_fl['LineName'].str.contains('Clinical Study Drug')]\n",
    "    [['PatientID', 'StartDate']]\n",
    ")"
   ]
  },
  {
   "cell_type": "code",
   "execution_count": 301,
   "id": "604403ac",
   "metadata": {},
   "outputs": [],
   "source": [
    "key189_plat.loc[:, 'pembro'] = 0"
   ]
  },
  {
   "cell_type": "code",
   "execution_count": 302,
   "id": "df2087a6",
   "metadata": {},
   "outputs": [
    {
     "data": {
      "text/plain": [
       "(25861, 25861)"
      ]
     },
     "execution_count": 302,
     "metadata": {},
     "output_type": "execute_result"
    }
   ],
   "source": [
    "row_ID(key189_plat)"
   ]
  },
  {
   "cell_type": "code",
   "execution_count": 303,
   "id": "cdd5fa3e",
   "metadata": {},
   "outputs": [],
   "source": [
    "# Dataframe of all therapies received for those receiving first line platinum regimen \n",
    "line_therapy_plat_189 = (\n",
    "    line_therapy[line_therapy['PatientID'].isin(key189_plat.PatientID)])"
   ]
  },
  {
   "cell_type": "code",
   "execution_count": 304,
   "id": "2f0f7034",
   "metadata": {},
   "outputs": [],
   "source": [
    "# Patients receiving platinum therapy who later recieve targeted therapy\n",
    "plat_189_xcross = (\n",
    "    line_therapy_plat_189[line_therapy_plat_189['LineName'].str.contains('|'.join(targeted))].PatientID)"
   ]
  },
  {
   "cell_type": "code",
   "execution_count": 305,
   "id": "9e56ad04",
   "metadata": {},
   "outputs": [],
   "source": [
    "# Select patients who don't receive targeted therapy\n",
    "key189_plat = key189_plat[~key189_plat['PatientID'].isin(plat_189_xcross)]"
   ]
  },
  {
   "cell_type": "code",
   "execution_count": 306,
   "id": "79e8fcc0",
   "metadata": {},
   "outputs": [
    {
     "data": {
      "text/plain": [
       "(23800, 23800)"
      ]
     },
     "execution_count": 306,
     "metadata": {},
     "output_type": "execute_result"
    }
   ],
   "source": [
    "row_ID(key189_plat)"
   ]
  },
  {
   "cell_type": "code",
   "execution_count": 307,
   "id": "2d289ef6",
   "metadata": {},
   "outputs": [],
   "source": [
    "key_189 = pd.concat([key189_pembro, key189_plat])"
   ]
  },
  {
   "cell_type": "code",
   "execution_count": 308,
   "id": "7b3da533",
   "metadata": {},
   "outputs": [
    {
     "data": {
      "text/plain": [
       "(29473, 29473)"
      ]
     },
     "execution_count": 308,
     "metadata": {},
     "output_type": "execute_result"
    }
   ],
   "source": [
    "row_ID(key_189)"
   ]
  },
  {
   "cell_type": "code",
   "execution_count": 309,
   "id": "b1886e3a",
   "metadata": {},
   "outputs": [],
   "source": [
    "key_189 = pd.merge(key_189, df_full, on = 'PatientID', how = 'left')"
   ]
  },
  {
   "cell_type": "code",
   "execution_count": 310,
   "id": "7663e247",
   "metadata": {},
   "outputs": [
    {
     "data": {
      "text/plain": [
       "(29473, 29473)"
      ]
     },
     "execution_count": 310,
     "metadata": {},
     "output_type": "execute_result"
    }
   ],
   "source": [
    "row_ID(key_189)"
   ]
  },
  {
   "cell_type": "code",
   "execution_count": 311,
   "id": "2f59d5cc",
   "metadata": {},
   "outputs": [],
   "source": [
    "key_189['StartDate'] = pd.to_datetime(key_189['StartDate'])"
   ]
  },
  {
   "cell_type": "markdown",
   "id": "7b5d0e92",
   "metadata": {},
   "source": [
    "#### Time from treatment to death or censor"
   ]
  },
  {
   "cell_type": "code",
   "execution_count": 312,
   "id": "e404c845",
   "metadata": {},
   "outputs": [],
   "source": [
    "mortality_tr = pd.read_csv('mortality_cleaned_tr.csv')"
   ]
  },
  {
   "cell_type": "code",
   "execution_count": 313,
   "id": "34d39742",
   "metadata": {},
   "outputs": [],
   "source": [
    "mortality_te = pd.read_csv('mortality_cleaned_te.csv')"
   ]
  },
  {
   "cell_type": "code",
   "execution_count": 314,
   "id": "2fcdd861",
   "metadata": {},
   "outputs": [],
   "source": [
    "mortality_tr = mortality_tr[['PatientID', 'death_date', 'last_activity']]"
   ]
  },
  {
   "cell_type": "code",
   "execution_count": 315,
   "id": "dbaee994",
   "metadata": {},
   "outputs": [],
   "source": [
    "mortality_te = mortality_te[['PatientID', 'death_date', 'last_activity']]"
   ]
  },
  {
   "cell_type": "code",
   "execution_count": 316,
   "id": "3e5a603f",
   "metadata": {},
   "outputs": [
    {
     "name": "stdout",
     "output_type": "stream",
     "text": [
      "68483 True\n"
     ]
    }
   ],
   "source": [
    "mortality = pd.concat([mortality_tr, mortality_te], ignore_index = True)\n",
    "print(len(mortality), mortality.PatientID.is_unique)"
   ]
  },
  {
   "cell_type": "code",
   "execution_count": 317,
   "id": "353f989a",
   "metadata": {},
   "outputs": [],
   "source": [
    "mortality.loc[:, 'last_activity'] = pd.to_datetime(mortality['last_activity'])"
   ]
  },
  {
   "cell_type": "code",
   "execution_count": 318,
   "id": "dbfe6b5e",
   "metadata": {},
   "outputs": [],
   "source": [
    "mortality.loc[:, 'death_date'] = pd.to_datetime(mortality['death_date'])"
   ]
  },
  {
   "cell_type": "code",
   "execution_count": 319,
   "id": "5dbb6f1a",
   "metadata": {},
   "outputs": [],
   "source": [
    "key_189 = pd.merge(key_189, mortality, on = 'PatientID', how = 'left')"
   ]
  },
  {
   "cell_type": "code",
   "execution_count": 320,
   "id": "8b1769fa",
   "metadata": {},
   "outputs": [
    {
     "data": {
      "text/plain": [
       "29473"
      ]
     },
     "execution_count": 320,
     "metadata": {},
     "output_type": "execute_result"
    }
   ],
   "source": [
    "len(key_189)"
   ]
  },
  {
   "cell_type": "code",
   "execution_count": 321,
   "id": "ca32f1d1",
   "metadata": {},
   "outputs": [],
   "source": [
    "conditions = [\n",
    "    (key_189['death_status'] == 1),\n",
    "    (key_189['death_status'] == 0)]\n",
    "\n",
    "choices = [\n",
    "    (key_189['death_date'] - key_189['StartDate']).dt.days,\n",
    "    (key_189['last_activity'] - key_189['StartDate']).dt.days]\n",
    "\n",
    "key_189.loc[:, 'timerisk_treatment'] = np.select(conditions, choices)"
   ]
  },
  {
   "cell_type": "code",
   "execution_count": 322,
   "id": "284d685a",
   "metadata": {},
   "outputs": [],
   "source": [
    "key_189 = key_189.query('timerisk_treatment >= 0')"
   ]
  },
  {
   "cell_type": "markdown",
   "id": "c5fc6bce",
   "metadata": {},
   "source": [
    "#### Patient count"
   ]
  },
  {
   "cell_type": "code",
   "execution_count": 323,
   "id": "4f871228",
   "metadata": {},
   "outputs": [],
   "source": [
    "key_189 = (\n",
    "    key_189\n",
    "    .query('Histology == \"Non-squamous cell carcinoma\"')\n",
    "    .query('EGFR != \"positive\"')\n",
    "    .query('ALK != \"positive\"')\n",
    ")"
   ]
  },
  {
   "cell_type": "code",
   "execution_count": 324,
   "id": "bc57ac45",
   "metadata": {},
   "outputs": [
    {
     "data": {
      "text/plain": [
       "(19124, 19124)"
      ]
     },
     "execution_count": 324,
     "metadata": {},
     "output_type": "execute_result"
    }
   ],
   "source": [
    "row_ID(key_189)"
   ]
  },
  {
   "cell_type": "code",
   "execution_count": 325,
   "id": "ba1a9dc2",
   "metadata": {},
   "outputs": [],
   "source": [
    "# Exclude those with autoimmune conditions. \n",
    "key_189 = key_189[~key_189['PatientID'].isin(auto_IDs)]"
   ]
  },
  {
   "cell_type": "code",
   "execution_count": 326,
   "id": "d49fdea0",
   "metadata": {},
   "outputs": [],
   "source": [
    "# Exclude those with other relevant comorbidities\n",
    "key_189 = key_189[~key_189['PatientID'].isin(other_comorb_IDs)]"
   ]
  },
  {
   "cell_type": "code",
   "execution_count": 327,
   "id": "07220e67",
   "metadata": {},
   "outputs": [],
   "source": [
    "# Exlcude those with CNS metastasis \n",
    "key_189 = key_189[~key_189['PatientID'].isin(cns_fl_IDs)]"
   ]
  },
  {
   "cell_type": "code",
   "execution_count": 328,
   "id": "6bf0ca20",
   "metadata": {},
   "outputs": [],
   "source": [
    "# Exclude those with ECOG 2, 3, or 4\n",
    "key_189 = key_189[~key_189['PatientID'].isin(ecog_fl_IDs)]"
   ]
  },
  {
   "cell_type": "code",
   "execution_count": 329,
   "id": "c453f8c3",
   "metadata": {},
   "outputs": [],
   "source": [
    "# Exclude those with abnormal organ function\n",
    "key_189 = key_189[~key_189['PatientID'].isin(ab_organ_IDs)]"
   ]
  },
  {
   "cell_type": "code",
   "execution_count": 330,
   "id": "cb60d8d8",
   "metadata": {},
   "outputs": [
    {
     "data": {
      "text/plain": [
       "(13761, 13761)"
      ]
     },
     "execution_count": 330,
     "metadata": {},
     "output_type": "execute_result"
    }
   ],
   "source": [
    "row_ID(key_189)"
   ]
  },
  {
   "cell_type": "code",
   "execution_count": 331,
   "id": "e6cae7e6",
   "metadata": {},
   "outputs": [],
   "source": [
    "low_cutoff_189 = cutoff.loc['keynote_189'].low"
   ]
  },
  {
   "cell_type": "code",
   "execution_count": 332,
   "id": "96c6dd70",
   "metadata": {},
   "outputs": [],
   "source": [
    "high_cutoff_189 = cutoff.loc['keynote_189'].high"
   ]
  },
  {
   "cell_type": "code",
   "execution_count": 333,
   "id": "b226002e",
   "metadata": {},
   "outputs": [
    {
     "name": "stdout",
     "output_type": "stream",
     "text": [
      "Pembro + chemo total: 2794\n",
      "High risk: 749\n",
      "Med risk: 964\n",
      "Low risk: 1081\n"
     ]
    }
   ],
   "source": [
    "print('Pembro + chemo total:',  key_189.query('pembro == 1').shape[0])\n",
    "print('High risk:', key_189.query('pembro == 1').query('risk_score >= @high_cutoff_189').shape[0])\n",
    "print('Med risk:', key_189.query('pembro == 1').query('risk_score < @high_cutoff_189 and risk_score > @low_cutoff_189').shape[0])\n",
    "print('Low risk:', key_189.query('pembro == 1').query('risk_score <= @low_cutoff_189').shape[0])"
   ]
  },
  {
   "cell_type": "code",
   "execution_count": 334,
   "id": "070269f8",
   "metadata": {},
   "outputs": [
    {
     "name": "stdout",
     "output_type": "stream",
     "text": [
      "Platinum total: 10967\n",
      "High risk: 2694\n",
      "Med risk: 3637\n",
      "Low risk: 4636\n"
     ]
    }
   ],
   "source": [
    "print('Platinum total:',  key_189.query('pembro == 0').shape[0])\n",
    "print('High risk:', key_189.query('pembro == 0').query('risk_score >= @high_cutoff_189').shape[0])\n",
    "print('Med risk:', key_189.query('pembro == 0').query('risk_score < @high_cutoff_189 and risk_score > @low_cutoff_189').shape[0])\n",
    "print('Low risk:', key_189.query('pembro == 0').query('risk_score <= @low_cutoff_189').shape[0])"
   ]
  },
  {
   "cell_type": "markdown",
   "id": "9f9a07b5",
   "metadata": {},
   "source": [
    "#### Survival curves with covariate balancing "
   ]
  },
  {
   "cell_type": "code",
   "execution_count": 335,
   "id": "8404845f",
   "metadata": {},
   "outputs": [],
   "source": [
    "key_189 = key_189.set_index('PatientID')"
   ]
  },
  {
   "cell_type": "code",
   "execution_count": 336,
   "id": "6d92d733",
   "metadata": {},
   "outputs": [],
   "source": [
    "key_189_iptw = key_189.filter(items = ['death_status',\n",
    "                                       'timerisk_treatment',\n",
    "                                       'pembro',\n",
    "                                       'age',\n",
    "                                       'gender',\n",
    "                                       'race',\n",
    "                                       'PracticeType',\n",
    "                                       'Histology',\n",
    "                                       'adv_year',\n",
    "                                       'delta_adv_diagnosis',\n",
    "                                       'commercial',\n",
    "                                       'medicare',\n",
    "                                       'medicaid',\n",
    "                                       'ecog_diagnosis',\n",
    "                                       'pdl1',\n",
    "                                       'albumin_diag', \n",
    "                                       'weight_pct_change',\n",
    "                                       'risk_score'])"
   ]
  },
  {
   "cell_type": "code",
   "execution_count": 337,
   "id": "97d0a390",
   "metadata": {},
   "outputs": [],
   "source": [
    "key_189_iptw['met_cat'] = pd.cut(key_189_iptw['adv_year'],\n",
    "                                 bins = [2010, 2018, float('inf')],\n",
    "                                 labels = ['11-18', '19-22'])"
   ]
  },
  {
   "cell_type": "code",
   "execution_count": 338,
   "id": "2f611426",
   "metadata": {},
   "outputs": [],
   "source": [
    "conditions = [\n",
    "    ((key_189_iptw['pdl1'] == \"1-49%\") | (key_189_iptw['pdl1'] == \"50-100%\"))]\n",
    "\n",
    "choices = ['>0%']\n",
    "\n",
    "key_189_iptw['pdl1_cat'] = np.select(conditions, choices, default = key_189_iptw['pdl1'])"
   ]
  },
  {
   "cell_type": "code",
   "execution_count": 339,
   "id": "a41501be",
   "metadata": {},
   "outputs": [],
   "source": [
    "conditions = [\n",
    "    ((key_189_iptw['ecog_diagnosis'] == \"1.0\") | (key_189_iptw['ecog_diagnosis'] == \"0.0\")),  \n",
    "    ((key_189_iptw['ecog_diagnosis'] == \"2.0\") | (key_189_iptw['ecog_diagnosis'] == \"3.0\"))\n",
    "]\n",
    "\n",
    "choices = ['lt_2', 'gte_2']\n",
    "\n",
    "key_189_iptw['ecog_2'] = np.select(conditions, choices, default = 'unknown')"
   ]
  },
  {
   "cell_type": "code",
   "execution_count": 340,
   "id": "4491b2e9",
   "metadata": {},
   "outputs": [
    {
     "data": {
      "text/plain": [
       "death_status               bool\n",
       "timerisk_treatment      float64\n",
       "pembro                    int64\n",
       "age                       int64\n",
       "gender                   object\n",
       "race                     object\n",
       "PracticeType             object\n",
       "Histology                object\n",
       "adv_year                  int64\n",
       "delta_adv_diagnosis       int64\n",
       "commercial              float64\n",
       "medicare                float64\n",
       "medicaid                float64\n",
       "ecog_diagnosis           object\n",
       "pdl1                     object\n",
       "albumin_diag            float64\n",
       "weight_pct_change       float64\n",
       "risk_score              float64\n",
       "met_cat                category\n",
       "pdl1_cat                 object\n",
       "ecog_2                   object\n",
       "dtype: object"
      ]
     },
     "execution_count": 340,
     "metadata": {},
     "output_type": "execute_result"
    }
   ],
   "source": [
    "key_189_iptw.dtypes"
   ]
  },
  {
   "cell_type": "code",
   "execution_count": 341,
   "id": "195d0c14",
   "metadata": {},
   "outputs": [],
   "source": [
    "to_be_categorical = list(key_189_iptw.select_dtypes(include = ['object']).columns)"
   ]
  },
  {
   "cell_type": "code",
   "execution_count": 342,
   "id": "42f9796a",
   "metadata": {},
   "outputs": [
    {
     "data": {
      "text/plain": [
       "['gender',\n",
       " 'race',\n",
       " 'PracticeType',\n",
       " 'Histology',\n",
       " 'ecog_diagnosis',\n",
       " 'pdl1',\n",
       " 'pdl1_cat',\n",
       " 'ecog_2']"
      ]
     },
     "execution_count": 342,
     "metadata": {},
     "output_type": "execute_result"
    }
   ],
   "source": [
    "to_be_categorical"
   ]
  },
  {
   "cell_type": "code",
   "execution_count": 343,
   "id": "281eb0c4",
   "metadata": {},
   "outputs": [],
   "source": [
    "to_be_categorical.append('met_cat')"
   ]
  },
  {
   "cell_type": "code",
   "execution_count": 344,
   "id": "99847f4d",
   "metadata": {},
   "outputs": [],
   "source": [
    "to_be_categorical.remove('pdl1')"
   ]
  },
  {
   "cell_type": "code",
   "execution_count": 345,
   "id": "efded404",
   "metadata": {},
   "outputs": [],
   "source": [
    "to_be_categorical.remove('ecog_diagnosis')"
   ]
  },
  {
   "cell_type": "code",
   "execution_count": 346,
   "id": "3b23cbf9",
   "metadata": {},
   "outputs": [],
   "source": [
    "# Convert variables in list to categorical.\n",
    "for x in list(to_be_categorical):\n",
    "    key_189_iptw[x] = key_189_iptw[x].astype('category')"
   ]
  },
  {
   "cell_type": "code",
   "execution_count": 347,
   "id": "72778c5c",
   "metadata": {},
   "outputs": [],
   "source": [
    "# List of numeric variables, excluding binary variables. \n",
    "numerical_features = ['age', 'delta_adv_diagnosis', 'albumin_diag', 'weight_pct_change', 'risk_score']\n",
    "\n",
    "# Transformer will first calculate column median and impute, and then apply a standard scaler. \n",
    "numerical_transformer = Pipeline(steps = [\n",
    "    ('imputer', SimpleImputer(strategy = 'median')),\n",
    "    ('std_scaler', StandardScaler())])"
   ]
  },
  {
   "cell_type": "code",
   "execution_count": 348,
   "id": "03904875",
   "metadata": {},
   "outputs": [],
   "source": [
    "# List of categorical features.\n",
    "categorical_features = list(key_189_iptw.select_dtypes(include = ['category']).columns)\n",
    "\n",
    "# One-hot-encode categorical features.\n",
    "categorical_transformer = OneHotEncoder(handle_unknown = 'ignore')"
   ]
  },
  {
   "cell_type": "code",
   "execution_count": 349,
   "id": "13a084f8",
   "metadata": {},
   "outputs": [],
   "source": [
    "preprocessor = ColumnTransformer(\n",
    "    transformers = [\n",
    "        ('num', numerical_transformer, numerical_features),\n",
    "        ('cat', categorical_transformer, categorical_features)],\n",
    "    remainder = 'passthrough')"
   ]
  },
  {
   "cell_type": "code",
   "execution_count": 350,
   "id": "52fd1079",
   "metadata": {},
   "outputs": [],
   "source": [
    "key_189_iptw_low = (\n",
    "    key_189_iptw\n",
    "    .query('risk_score <= @low_cutoff_189'))\n",
    "\n",
    "key_189_iptw_med = (\n",
    "    key_189_iptw\n",
    "    .query('risk_score < @high_cutoff_189 and risk_score > @low_cutoff_189'))\n",
    "\n",
    "key_189_iptw_high = (\n",
    "    key_189_iptw\n",
    "    .query('risk_score >= @high_cutoff_189'))\n",
    "\n",
    "key_189_iptw_all = key_189_iptw"
   ]
  },
  {
   "cell_type": "code",
   "execution_count": 351,
   "id": "cb1d015e",
   "metadata": {},
   "outputs": [],
   "source": [
    "key_189_low_x = preprocessor.fit_transform(key_189_iptw_low.filter(items = ['age',\n",
    "                                                                            'gender',\n",
    "                                                                            'race',\n",
    "                                                                            'PracticeType',\n",
    "                                                                            'Histology',\n",
    "                                                                            'met_cat',\n",
    "                                                                            'delta_adv_diagnosis',\n",
    "                                                                            'commercial',\n",
    "                                                                            'medicare',\n",
    "                                                                            'medicaid',\n",
    "                                                                            'ecog_2',\n",
    "                                                                            'pdl1_cat', \n",
    "                                                                            'albumin_diag', \n",
    "                                                                            'weight_pct_change', \n",
    "                                                                            'risk_score']))\n",
    "\n",
    "key_189_med_x = preprocessor.fit_transform(key_189_iptw_med.filter(items = ['age',\n",
    "                                                                            'gender',\n",
    "                                                                            'race',\n",
    "                                                                            'PracticeType',\n",
    "                                                                            'Histology',\n",
    "                                                                            'met_cat',\n",
    "                                                                            'delta_adv_diagnosis',\n",
    "                                                                            'commercial',\n",
    "                                                                            'medicare',\n",
    "                                                                            'medicaid',\n",
    "                                                                            'ecog_2',\n",
    "                                                                            'pdl1_cat', \n",
    "                                                                            'albumin_diag', \n",
    "                                                                            'weight_pct_change', \n",
    "                                                                            'risk_score']))\n",
    "\n",
    "key_189_high_x = preprocessor.fit_transform(key_189_iptw_high.filter(items = ['age',\n",
    "                                                                              'gender',\n",
    "                                                                              'race',\n",
    "                                                                              'PracticeType',\n",
    "                                                                              'Histology',\n",
    "                                                                              'met_cat',\n",
    "                                                                              'delta_adv_diagnosis',\n",
    "                                                                              'commercial',\n",
    "                                                                              'medicare',\n",
    "                                                                              'medicaid',\n",
    "                                                                              'ecog_2',\n",
    "                                                                              'pdl1_cat', \n",
    "                                                                              'albumin_diag', \n",
    "                                                                              'weight_pct_change',\n",
    "                                                                              'risk_score']))\n",
    "\n",
    "key_189_all_x = preprocessor.fit_transform(key_189_iptw_all.filter(items = ['age',\n",
    "                                                                            'gender',\n",
    "                                                                            'race',\n",
    "                                                                            'PracticeType',\n",
    "                                                                            'Histology',\n",
    "                                                                            'met_cat',\n",
    "                                                                            'delta_adv_diagnosis',\n",
    "                                                                            'commercial',\n",
    "                                                                            'medicare',\n",
    "                                                                            'medicaid',\n",
    "                                                                            'ecog_2',\n",
    "                                                                            'pdl1_cat', \n",
    "                                                                            'albumin_diag', \n",
    "                                                                            'weight_pct_change',\n",
    "                                                                            'risk_score']))"
   ]
  },
  {
   "cell_type": "code",
   "execution_count": 352,
   "id": "7a5b33c2",
   "metadata": {},
   "outputs": [
    {
     "data": {
      "text/plain": [
       "LogisticRegression(max_iter=1000)"
      ]
     },
     "execution_count": 352,
     "metadata": {},
     "output_type": "execute_result"
    }
   ],
   "source": [
    "lr_189_low = LogisticRegression(max_iter = 1000)\n",
    "lr_189_low.fit(key_189_low_x, key_189_iptw_low['pembro'])"
   ]
  },
  {
   "cell_type": "code",
   "execution_count": 353,
   "id": "c1e35a5a",
   "metadata": {},
   "outputs": [
    {
     "data": {
      "text/plain": [
       "LogisticRegression(max_iter=1000)"
      ]
     },
     "execution_count": 353,
     "metadata": {},
     "output_type": "execute_result"
    }
   ],
   "source": [
    "lr_189_med = LogisticRegression(max_iter = 1000)\n",
    "lr_189_med.fit(key_189_med_x, key_189_iptw_med['pembro'])"
   ]
  },
  {
   "cell_type": "code",
   "execution_count": 354,
   "id": "ba908f8c",
   "metadata": {},
   "outputs": [
    {
     "data": {
      "text/plain": [
       "LogisticRegression(max_iter=1000)"
      ]
     },
     "execution_count": 354,
     "metadata": {},
     "output_type": "execute_result"
    }
   ],
   "source": [
    "lr_189_high = LogisticRegression(max_iter = 1000)\n",
    "lr_189_high.fit(key_189_high_x, key_189_iptw_high['pembro'])"
   ]
  },
  {
   "cell_type": "code",
   "execution_count": 355,
   "id": "189130d8",
   "metadata": {},
   "outputs": [
    {
     "data": {
      "text/plain": [
       "LogisticRegression(max_iter=1000)"
      ]
     },
     "execution_count": 355,
     "metadata": {},
     "output_type": "execute_result"
    }
   ],
   "source": [
    "lr_189_all = LogisticRegression(max_iter = 1000)\n",
    "lr_189_all.fit(key_189_all_x, key_189_iptw_all['pembro'])"
   ]
  },
  {
   "cell_type": "code",
   "execution_count": 356,
   "id": "3887268e",
   "metadata": {},
   "outputs": [],
   "source": [
    "pred_low = lr_189_low.predict_proba(key_189_low_x)\n",
    "pred_med = lr_189_med.predict_proba(key_189_med_x)\n",
    "pred_high = lr_189_high.predict_proba(key_189_high_x)\n",
    "pred_all = lr_189_all.predict_proba(key_189_all_x)"
   ]
  },
  {
   "cell_type": "code",
   "execution_count": 357,
   "id": "cb34ffc5",
   "metadata": {},
   "outputs": [],
   "source": [
    "key_189_iptw_low['ps'] = pred_low[:, 1]\n",
    "key_189_iptw_med['ps'] = pred_med[:, 1]\n",
    "key_189_iptw_high['ps'] = pred_high[:, 1]\n",
    "key_189_iptw_all['ps'] = pred_all[:, 1]"
   ]
  },
  {
   "cell_type": "code",
   "execution_count": 358,
   "id": "6e41548b",
   "metadata": {},
   "outputs": [],
   "source": [
    "key_189_iptw_low['weight'] = (\n",
    "    np.where(key_189_iptw_low['pembro'] == 1, 1/key_189_iptw_low['ps'], 1/(1 - key_189_iptw_low['ps'])))\n",
    "\n",
    "key_189_iptw_med['weight'] = (\n",
    "    np.where(key_189_iptw_med['pembro'] == 1, 1/key_189_iptw_med['ps'], 1/(1 - key_189_iptw_med['ps'])))\n",
    "\n",
    "key_189_iptw_high['weight'] = (\n",
    "    np.where(key_189_iptw_high['pembro'] == 1, 1/key_189_iptw_high['ps'], 1/(1 - key_189_iptw_high['ps'])))\n",
    "\n",
    "key_189_iptw_all['weight'] = (\n",
    "    np.where(key_189_iptw_all['pembro'] == 1, 1/key_189_iptw_all['ps'], 1/(1 - key_189_iptw_all['ps'])))"
   ]
  },
  {
   "cell_type": "code",
   "execution_count": 359,
   "id": "c1fd7c46",
   "metadata": {},
   "outputs": [
    {
     "data": {
      "text/plain": [
       "<lifelines.KaplanMeierFitter:\"KM_estimate\", fitted with 14128.8 total observations, 4227.21 right-censored observations>"
      ]
     },
     "execution_count": 359,
     "metadata": {},
     "output_type": "execute_result"
    }
   ],
   "source": [
    "# Low KM curves\n",
    "kmf_low_pembro_189_iptw = KaplanMeierFitter()\n",
    "kmf_low_plat_189_iptw = KaplanMeierFitter()\n",
    "\n",
    "kmf_low_pembro_189_iptw.fit(\n",
    "    key_189_iptw_low.query('pembro == 1').timerisk_treatment/30,\n",
    "    key_189_iptw_low.query('pembro == 1').death_status,\n",
    "    weights = key_189_iptw_low.query('pembro == 1')['weight'])\n",
    "\n",
    "kmf_low_plat_189_iptw.fit(\n",
    "    key_189_iptw_low.query('pembro == 0').timerisk_treatment/30,\n",
    "    key_189_iptw_low.query('pembro == 0').death_status,\n",
    "    weights = key_189_iptw_low.query('pembro == 0')['weight'])\n",
    "\n",
    "# Med KM curves\n",
    "kmf_med_pembro_189_iptw = KaplanMeierFitter()\n",
    "kmf_med_plat_189_iptw = KaplanMeierFitter()\n",
    "\n",
    "kmf_med_pembro_189_iptw.fit(\n",
    "    key_189_iptw_med.query('pembro == 1').timerisk_treatment/30,\n",
    "    key_189_iptw_med.query('pembro == 1').death_status,\n",
    "    weights = key_189_iptw_med.query('pembro == 1')['weight'])\n",
    "\n",
    "kmf_med_plat_189_iptw.fit(\n",
    "    key_189_iptw_med.query('pembro == 0').timerisk_treatment/30,\n",
    "    key_189_iptw_med.query('pembro == 0').death_status,\n",
    "    weights = key_189_iptw_med.query('pembro == 0')['weight'])\n",
    "\n",
    "# High KM curves \n",
    "kmf_high_pembro_189_iptw = KaplanMeierFitter()\n",
    "kmf_high_plat_189_iptw = KaplanMeierFitter()\n",
    "\n",
    "kmf_high_pembro_189_iptw.fit(\n",
    "    key_189_iptw_high.query('pembro == 1').timerisk_treatment/30,\n",
    "    key_189_iptw_high.query('pembro == 1').death_status,\n",
    "    weights = key_189_iptw_high.query('pembro == 1')['weight'])\n",
    "\n",
    "kmf_high_plat_189_iptw.fit(\n",
    "    key_189_iptw_high.query('pembro == 0').timerisk_treatment/30,\n",
    "    key_189_iptw_high.query('pembro == 0').death_status,\n",
    "    weights = key_189_iptw_high.query('pembro == 0')['weight'])\n",
    "\n",
    "# All KM curves \n",
    "kmf_all_pembro_189_iptw = KaplanMeierFitter()\n",
    "kmf_all_plat_189_iptw = KaplanMeierFitter()\n",
    "\n",
    "kmf_all_pembro_189_iptw.fit(\n",
    "    key_189_iptw_all.query('pembro == 1').timerisk_treatment/30,\n",
    "    key_189_iptw_all.query('pembro == 1').death_status,\n",
    "    weights = key_189_iptw_all.query('pembro == 1')['weight'])\n",
    "\n",
    "kmf_all_plat_189_iptw.fit(\n",
    "    key_189_iptw_all.query('pembro == 0').timerisk_treatment/30,\n",
    "    key_189_iptw_all.query('pembro == 0').death_status,\n",
    "    weights = key_189_iptw_all.query('pembro == 0')['weight'])"
   ]
  },
  {
   "cell_type": "code",
   "execution_count": 360,
   "id": "017dc6c6",
   "metadata": {},
   "outputs": [],
   "source": [
    "pembro_189_median_os = mos(kmf_low_pembro_189_iptw,\n",
    "                           kmf_med_pembro_189_iptw,\n",
    "                           kmf_high_pembro_189_iptw,\n",
    "                           kmf_all_pembro_189_iptw)\n",
    "\n",
    "plat_189_median_os = mos(kmf_low_plat_189_iptw,\n",
    "                         kmf_med_plat_189_iptw,\n",
    "                         kmf_high_plat_189_iptw,\n",
    "                         kmf_all_plat_189_iptw)"
   ]
  },
  {
   "cell_type": "code",
   "execution_count": 361,
   "id": "079f8733",
   "metadata": {},
   "outputs": [],
   "source": [
    "key_189_iptw_all_imputed = key_189_iptw_all.copy()\n",
    "key_189_iptw_all_imputed['albumin_diag'] = key_189_iptw_all_imputed['albumin_diag'].fillna(key_189_iptw_all_imputed['albumin_diag'].median())\n",
    "key_189_iptw_all_imputed['weight_pct_change'] = key_189_iptw_all_imputed['weight_pct_change'].fillna(key_189_iptw_all_imputed['weight_pct_change'].median())"
   ]
  },
  {
   "cell_type": "code",
   "execution_count": 362,
   "id": "368d8261",
   "metadata": {},
   "outputs": [
    {
     "data": {
      "text/plain": [
       "<lifelines.CoxPHFitter: fitted with 26750.9 total observations, 9453.38 right-censored observations>"
      ]
     },
     "execution_count": 362,
     "metadata": {},
     "output_type": "execute_result"
    }
   ],
   "source": [
    "key189_hr_all = CoxPHFitter()\n",
    "key189_hr_all.fit(key_189_iptw_all_imputed,\n",
    "                  duration_col = 'timerisk_treatment',\n",
    "                  event_col = 'death_status',\n",
    "                  formula = 'pembro + age + gender + race + PracticeType + Histology + met_cat + delta_adv_diagnosis + commercial + medicare + medicaid + ecog_2 + pdl1_cat + albumin_diag + weight_pct_change + risk_score',\n",
    "                  weights_col = 'weight',\n",
    "                  robust = True)"
   ]
  },
  {
   "cell_type": "code",
   "execution_count": 363,
   "id": "f9621ae3",
   "metadata": {},
   "outputs": [],
   "source": [
    "key189_all_rmst_mos_95 = rmst_mos_95ci(key_189_iptw_all,\n",
    "                                       1000,\n",
    "                                       'pembro',\n",
    "                                       'death',\n",
    "                                       ['age',\n",
    "                                        'gender',\n",
    "                                        'race',\n",
    "                                        'PracticeType',\n",
    "                                        'Histology',\n",
    "                                        'met_cat',\n",
    "                                        'delta_adv_diagnosis',\n",
    "                                        'commercial',\n",
    "                                        'medicare',\n",
    "                                        'medicaid',\n",
    "                                        'ecog_2',\n",
    "                                        'pdl1_cat', \n",
    "                                        'albumin_diag', \n",
    "                                        'weight_pct_change',\n",
    "                                        'risk_score'],\n",
    "                                       ['age', 'delta_adv_diagnosis', 'albumin_diag', 'weight_pct_change', 'risk_score'],\n",
    "                                       36)"
   ]
  },
  {
   "cell_type": "code",
   "execution_count": 364,
   "id": "04a196d0",
   "metadata": {},
   "outputs": [],
   "source": [
    "key189_low_rmst_mos_95 = rmst_mos_95ci(key_189_iptw_low,\n",
    "                                       1000,\n",
    "                                       'pembro',\n",
    "                                       'death',\n",
    "                                       ['age',\n",
    "                                        'gender',\n",
    "                                        'race',\n",
    "                                        'PracticeType',\n",
    "                                        'Histology',\n",
    "                                        'met_cat',\n",
    "                                        'delta_adv_diagnosis',\n",
    "                                        'commercial',\n",
    "                                        'medicare',\n",
    "                                        'medicaid',\n",
    "                                        'ecog_2',\n",
    "                                        'pdl1_cat', \n",
    "                                        'albumin_diag', \n",
    "                                        'weight_pct_change',\n",
    "                                        'risk_score'],\n",
    "                                       ['age', 'delta_adv_diagnosis', 'albumin_diag', 'weight_pct_change', 'risk_score'],\n",
    "                                       36)"
   ]
  },
  {
   "cell_type": "code",
   "execution_count": 365,
   "id": "04663136",
   "metadata": {},
   "outputs": [],
   "source": [
    "key189_med_rmst_mos_95 = rmst_mos_95ci(key_189_iptw_med,\n",
    "                                       1000,\n",
    "                                       'pembro',\n",
    "                                       'death',\n",
    "                                       ['age',\n",
    "                                        'gender',\n",
    "                                        'race',\n",
    "                                        'PracticeType',\n",
    "                                        'Histology',\n",
    "                                        'met_cat',\n",
    "                                        'delta_adv_diagnosis',\n",
    "                                        'commercial',\n",
    "                                        'medicare',\n",
    "                                        'medicaid',\n",
    "                                        'ecog_2',\n",
    "                                        'pdl1_cat', \n",
    "                                        'albumin_diag', \n",
    "                                        'weight_pct_change',\n",
    "                                        'risk_score'],\n",
    "                                       ['age', 'delta_adv_diagnosis', 'albumin_diag', 'weight_pct_change', 'risk_score'],\n",
    "                                       36)"
   ]
  },
  {
   "cell_type": "code",
   "execution_count": 366,
   "id": "46b79800",
   "metadata": {},
   "outputs": [],
   "source": [
    "key189_high_rmst_mos_95 = rmst_mos_95ci(key_189_iptw_high,\n",
    "                                       1000,\n",
    "                                       'pembro',\n",
    "                                       'death',\n",
    "                                       ['age',\n",
    "                                        'gender',\n",
    "                                        'race',\n",
    "                                        'PracticeType',\n",
    "                                        'Histology',\n",
    "                                        'met_cat',\n",
    "                                        'delta_adv_diagnosis',\n",
    "                                        'commercial',\n",
    "                                        'medicare',\n",
    "                                        'medicaid',\n",
    "                                        'ecog_2',\n",
    "                                        'pdl1_cat', \n",
    "                                        'albumin_diag', \n",
    "                                        'weight_pct_change',\n",
    "                                        'risk_score'],\n",
    "                                       ['age', 'delta_adv_diagnosis', 'albumin_diag', 'weight_pct_change', 'risk_score'],\n",
    "                                       36)"
   ]
  },
  {
   "cell_type": "code",
   "execution_count": 367,
   "id": "6684be3a",
   "metadata": {},
   "outputs": [],
   "source": [
    "keynote_189_data = [\n",
    "    {'trial_name': 'KEYNOTE-189', \n",
    "     'risk_group': 'low', \n",
    "     's_trt_mos': pembro_189_median_os[0],\n",
    "     's_trt_mos_95': key189_low_rmst_mos_95.mos_A_95,\n",
    "     's_cont_mos': plat_189_median_os[0],\n",
    "     's_cont_mos_95': key189_low_rmst_mos_95.mos_B_95,\n",
    "     's_mos_diff': pembro_189_median_os[0] - plat_189_median_os[0], \n",
    "     'rct_trt_arm': 22.0, \n",
    "     'rct_cont_arm': 10.6,\n",
    "     'rct_mos_diff': 22.0-10.6, \n",
    "     's_trt_rmst': restricted_mean_survival_time(kmf_low_pembro_189_iptw, 36),\n",
    "     's_trt_rmst_95': key189_low_rmst_mos_95.rmst_A_95,\n",
    "     's_cont_rmst': restricted_mean_survival_time(kmf_low_plat_189_iptw, 36),\n",
    "     's_cont_rmst_95': key189_low_rmst_mos_95.rmst_B_95,\n",
    "     's_diff_rmst': restricted_mean_survival_time(kmf_low_pembro_189_iptw, 36) - restricted_mean_survival_time(kmf_low_plat_189_iptw, 36),\n",
    "     's_diff_rmst_95': key189_low_rmst_mos_95.difference_rmst_95,\n",
    "     'scount': key_189.query('risk_score <= @low_cutoff_189').shape[0]},\n",
    "    \n",
    "    {'trial_name': 'KEYNOTE-189', \n",
    "     'risk_group': 'medium', \n",
    "     's_trt_mos': pembro_189_median_os[1],\n",
    "     's_trt_mos_95': key189_med_rmst_mos_95.mos_A_95,\n",
    "     's_cont_mos': plat_189_median_os[1],\n",
    "     's_cont_mos_95': key189_med_rmst_mos_95.mos_B_95,\n",
    "     's_mos_diff': pembro_189_median_os[1] - plat_189_median_os[1], \n",
    "     'rct_trt_arm': 22.0, \n",
    "     'rct_cont_arm': 10.6,\n",
    "     'rct_mos_diff': 22.0-10.6, \n",
    "     's_trt_rmst': restricted_mean_survival_time(kmf_med_pembro_189_iptw, 36),\n",
    "     's_trt_rmst_95': key189_med_rmst_mos_95.rmst_A_95,\n",
    "     's_cont_rmst': restricted_mean_survival_time(kmf_med_plat_189_iptw, 36),\n",
    "     's_cont_rmst_95': key189_med_rmst_mos_95.rmst_B_95,\n",
    "     's_diff_rmst': restricted_mean_survival_time(kmf_med_pembro_189_iptw, 36) - restricted_mean_survival_time(kmf_med_plat_189_iptw, 36),\n",
    "     's_diff_rmst_95': key189_med_rmst_mos_95.difference_rmst_95,\n",
    "     'scount': key_189.query('risk_score < @high_cutoff_189 and risk_score > @low_cutoff_189').shape[0]},\n",
    "    \n",
    "    {'trial_name': 'KEYNOTE-189', \n",
    "     'risk_group': 'high', \n",
    "     's_trt_mos': pembro_189_median_os[2],\n",
    "     's_trt_mos_95': key189_high_rmst_mos_95.mos_A_95,\n",
    "     's_cont_mos': plat_189_median_os[2],\n",
    "     's_cont_mos_95': key189_high_rmst_mos_95.mos_B_95,\n",
    "     's_mos_diff': pembro_189_median_os[2] - plat_189_median_os[2], \n",
    "     'rct_trt_arm': 22.0, \n",
    "     'rct_cont_arm': 10.6,\n",
    "     'rct_mos_diff': 22.0-10.6, \n",
    "     's_trt_rmst': restricted_mean_survival_time(kmf_high_pembro_189_iptw, 36),\n",
    "     's_trt_rmst_95': key189_high_rmst_mos_95.rmst_A_95,\n",
    "     's_cont_rmst': restricted_mean_survival_time(kmf_high_plat_189_iptw, 36),\n",
    "     's_cont_rmst_95': key189_high_rmst_mos_95.rmst_B_95,\n",
    "     's_diff_rmst': restricted_mean_survival_time(kmf_high_pembro_189_iptw, 36) - restricted_mean_survival_time(kmf_high_plat_189_iptw, 36),\n",
    "     's_diff_rmst_95': key189_high_rmst_mos_95.difference_rmst_95,\n",
    "     'scount': key_189.query('risk_score >= @high_cutoff_189').shape[0]},\n",
    "    \n",
    "    {'trial_name': 'KEYNOTE-189', \n",
    "     'risk_group': 'all', \n",
    "     's_hr': key189_hr_all.hazard_ratios_['pembro'],\n",
    "     's_hr_95': [key189_hr_all.summary.loc['pembro']['exp(coef) lower 95%'], key189_hr_all.summary.loc['pembro']['exp(coef) upper 95%']],\n",
    "     's_trt_mos': pembro_189_median_os[3],\n",
    "     's_trt_mos_95': key189_all_rmst_mos_95.mos_A_95,\n",
    "     's_cont_mos': plat_189_median_os[3],\n",
    "     's_cont_mos_95': key189_all_rmst_mos_95.mos_B_95,\n",
    "     's_mos_diff': pembro_189_median_os[3] - plat_189_median_os[3], \n",
    "     'rct_trt_arm': 22.0, \n",
    "     'rct_cont_arm': 10.6,\n",
    "     'rct_mos_diff': 22.0-10.6, \n",
    "     'scount': key_189.shape[0]}\n",
    "]"
   ]
  },
  {
   "cell_type": "markdown",
   "id": "464322dd",
   "metadata": {},
   "source": [
    "### CHECKMATE-078: Second-line nivolumab vs. docetaxel\n",
    "\n",
    "**INCLUSION CRITERIA**\n",
    "* Advanced or metastatic NSCLC \n",
    "* Progressed on first line platinum-based chemotherapy \n",
    "* Received second line nivolumab or docetaxel\n",
    "* Prior treatments with docetaxel or immunotherapy contraindicated\n",
    "* EGFR and ALK negative \n",
    "* No autoimmune diseases in the year preceding metastatic diagnosis \n",
    "* No history of ILD, HIV, Hep C, Hep B, severe psychiatric history, or drug use disorder in the year preceding metastatic diagnosis \n",
    "* No CNS metastasis at start of treatment \n",
    "* ECOG is not 2, 3, or 4 at start of treatment "
   ]
  },
  {
   "cell_type": "markdown",
   "id": "e26805fc",
   "metadata": {},
   "source": [
    "#### Nivolumab "
   ]
  },
  {
   "cell_type": "code",
   "execution_count": 368,
   "id": "db53b306",
   "metadata": {},
   "outputs": [
    {
     "data": {
      "text/plain": [
       "68483"
      ]
     },
     "execution_count": 368,
     "metadata": {},
     "output_type": "execute_result"
    }
   ],
   "source": [
    "df_full = pd.read_csv('df_risk_crude.csv', index_col = 'PatientID', dtype = {'death_status': bool})\n",
    "df_full.index.nunique()"
   ]
  },
  {
   "cell_type": "code",
   "execution_count": 369,
   "id": "4c21c4df",
   "metadata": {},
   "outputs": [],
   "source": [
    "line_therapy = pd.read_csv('LineOfTherapy.csv')"
   ]
  },
  {
   "cell_type": "code",
   "execution_count": 370,
   "id": "9965bf41",
   "metadata": {},
   "outputs": [],
   "source": [
    "line_therapy_fl = (\n",
    "    line_therapy[line_therapy.PatientID.isin(df_full.index)]\n",
    "    .query('LineNumber == 1')\n",
    "    .query('IsMaintenanceTherapy == False')\n",
    ")"
   ]
  },
  {
   "cell_type": "code",
   "execution_count": 371,
   "id": "83ce0b0f",
   "metadata": {},
   "outputs": [],
   "source": [
    "targeted = [\n",
    "    'Afatinib',\n",
    "    'Alectinib',\n",
    "    'Brigatinib',\n",
    "    'Cabozantinib',\n",
    "    'Capmatinib',\n",
    "    'Ceritinib',\n",
    "    'Crizotinib',\n",
    "    'Dabrafenib',\n",
    "    'Dacomitinib',\n",
    "    'Entrectinib',\n",
    "    'Erlotinib',\n",
    "    'Gefitinib',\n",
    "    'Lorlatinib',\n",
    "    'Osimertinib',\n",
    "    'Pralsetinib',\n",
    "    'Selpercatinib',\n",
    "    'Sotorasib',\n",
    "    'Tepotinib',\n",
    "    'Trametinib',\n",
    "    'Vandetanib']"
   ]
  },
  {
   "cell_type": "code",
   "execution_count": 372,
   "id": "02fa43ed",
   "metadata": {},
   "outputs": [],
   "source": [
    "immunotherapy = [\n",
    "    'Atezolizumab',\n",
    "    'Cemiplimab',\n",
    "    'Durvalumab',\n",
    "    'Ipilimumab',\n",
    "    'Nivolumab',\n",
    "    'Pembrolizumab'\n",
    "]"
   ]
  },
  {
   "cell_type": "code",
   "execution_count": 373,
   "id": "981c752a",
   "metadata": {},
   "outputs": [],
   "source": [
    "fl_plat = (\n",
    "    line_therapy_fl\n",
    "    [line_therapy_fl['LineName'].str.contains('Carboplatin|Cisplatin')\n",
    "     & ~line_therapy_fl['LineName'].str.contains('Docetaxel')\n",
    "     & ~line_therapy_fl['LineName'].str.contains('|'.join(targeted))\n",
    "     & ~line_therapy_fl['LineName'].str.contains('|'.join(immunotherapy))]\n",
    "    .PatientID\n",
    ")"
   ]
  },
  {
   "cell_type": "code",
   "execution_count": 374,
   "id": "16474423",
   "metadata": {},
   "outputs": [],
   "source": [
    "checkmate_nivo = (\n",
    "    line_therapy[line_therapy.PatientID.isin(fl_plat)]\n",
    "    .query('LineNumber == 2')\n",
    "    .query('LineName == \"Nivolumab\"')\n",
    "    [['PatientID', 'StartDate']]\n",
    ")"
   ]
  },
  {
   "cell_type": "code",
   "execution_count": 375,
   "id": "536f2d26",
   "metadata": {},
   "outputs": [],
   "source": [
    "checkmate_nivo.loc[:, 'nivo'] = 1"
   ]
  },
  {
   "cell_type": "code",
   "execution_count": 376,
   "id": "a7e46897",
   "metadata": {},
   "outputs": [
    {
     "data": {
      "text/plain": [
       "(3397, 3397)"
      ]
     },
     "execution_count": 376,
     "metadata": {},
     "output_type": "execute_result"
    }
   ],
   "source": [
    "row_ID(checkmate_nivo)"
   ]
  },
  {
   "cell_type": "markdown",
   "id": "3e065cee",
   "metadata": {},
   "source": [
    "#### Docetaxel"
   ]
  },
  {
   "cell_type": "code",
   "execution_count": 377,
   "id": "0cac3903",
   "metadata": {},
   "outputs": [],
   "source": [
    "checkmate_dotx = (\n",
    "    line_therapy[line_therapy.PatientID.isin(fl_plat)]\n",
    "    .query('LineNumber == 2')\n",
    "    .query('LineName == \"Docetaxel\"')\n",
    "    [['PatientID', 'StartDate']]\n",
    ")"
   ]
  },
  {
   "cell_type": "code",
   "execution_count": 378,
   "id": "e4017c48",
   "metadata": {},
   "outputs": [],
   "source": [
    "checkmate_dotx.loc[:, 'nivo'] = 0"
   ]
  },
  {
   "cell_type": "code",
   "execution_count": 379,
   "id": "92313045",
   "metadata": {},
   "outputs": [
    {
     "data": {
      "text/plain": [
       "(745, 745)"
      ]
     },
     "execution_count": 379,
     "metadata": {},
     "output_type": "execute_result"
    }
   ],
   "source": [
    "row_ID(checkmate_dotx)"
   ]
  },
  {
   "cell_type": "code",
   "execution_count": 380,
   "id": "afc6da3e",
   "metadata": {},
   "outputs": [],
   "source": [
    "checkmate = pd.concat([checkmate_nivo, checkmate_dotx])"
   ]
  },
  {
   "cell_type": "code",
   "execution_count": 381,
   "id": "67880c2f",
   "metadata": {},
   "outputs": [
    {
     "data": {
      "text/plain": [
       "(4142, 4142)"
      ]
     },
     "execution_count": 381,
     "metadata": {},
     "output_type": "execute_result"
    }
   ],
   "source": [
    "row_ID(checkmate)"
   ]
  },
  {
   "cell_type": "code",
   "execution_count": 382,
   "id": "1581e264",
   "metadata": {},
   "outputs": [],
   "source": [
    "checkmate = pd.merge(checkmate, df_full, on = 'PatientID', how = 'left')"
   ]
  },
  {
   "cell_type": "code",
   "execution_count": 383,
   "id": "2a63092d",
   "metadata": {},
   "outputs": [
    {
     "data": {
      "text/plain": [
       "(4142, 4142)"
      ]
     },
     "execution_count": 383,
     "metadata": {},
     "output_type": "execute_result"
    }
   ],
   "source": [
    "row_ID(checkmate)"
   ]
  },
  {
   "cell_type": "code",
   "execution_count": 384,
   "id": "bd212919",
   "metadata": {},
   "outputs": [],
   "source": [
    "checkmate['StartDate'] = pd.to_datetime(checkmate['StartDate'])"
   ]
  },
  {
   "cell_type": "markdown",
   "id": "1187a21f",
   "metadata": {},
   "source": [
    "#### Time from treatment to death or censor "
   ]
  },
  {
   "cell_type": "code",
   "execution_count": 385,
   "id": "b792d3c0",
   "metadata": {},
   "outputs": [],
   "source": [
    "mortality_tr = pd.read_csv('mortality_cleaned_tr.csv')"
   ]
  },
  {
   "cell_type": "code",
   "execution_count": 386,
   "id": "8c7ddca0",
   "metadata": {},
   "outputs": [],
   "source": [
    "mortality_te = pd.read_csv('mortality_cleaned_te.csv')"
   ]
  },
  {
   "cell_type": "code",
   "execution_count": 387,
   "id": "601d9bed",
   "metadata": {},
   "outputs": [],
   "source": [
    "mortality_tr = mortality_tr[['PatientID', 'death_date', 'last_activity']]"
   ]
  },
  {
   "cell_type": "code",
   "execution_count": 388,
   "id": "71da8c7f",
   "metadata": {},
   "outputs": [],
   "source": [
    "mortality_te = mortality_te[['PatientID', 'death_date', 'last_activity']]"
   ]
  },
  {
   "cell_type": "code",
   "execution_count": 389,
   "id": "0b96beda",
   "metadata": {},
   "outputs": [
    {
     "name": "stdout",
     "output_type": "stream",
     "text": [
      "68483 True\n"
     ]
    }
   ],
   "source": [
    "mortality = pd.concat([mortality_tr, mortality_te], ignore_index = True)\n",
    "print(len(mortality), mortality.PatientID.is_unique)"
   ]
  },
  {
   "cell_type": "code",
   "execution_count": 390,
   "id": "365ba767",
   "metadata": {},
   "outputs": [],
   "source": [
    "mortality.loc[:, 'last_activity'] = pd.to_datetime(mortality['last_activity'])"
   ]
  },
  {
   "cell_type": "code",
   "execution_count": 391,
   "id": "a65330f2",
   "metadata": {},
   "outputs": [],
   "source": [
    "mortality.loc[:, 'death_date'] = pd.to_datetime(mortality['death_date'])"
   ]
  },
  {
   "cell_type": "code",
   "execution_count": 392,
   "id": "2156b78f",
   "metadata": {},
   "outputs": [],
   "source": [
    "checkmate = pd.merge(checkmate, mortality, on = 'PatientID', how = 'left')"
   ]
  },
  {
   "cell_type": "code",
   "execution_count": 393,
   "id": "212805d1",
   "metadata": {},
   "outputs": [
    {
     "data": {
      "text/plain": [
       "(4142, 4142)"
      ]
     },
     "execution_count": 393,
     "metadata": {},
     "output_type": "execute_result"
    }
   ],
   "source": [
    "row_ID(checkmate)"
   ]
  },
  {
   "cell_type": "code",
   "execution_count": 394,
   "id": "024eff47",
   "metadata": {},
   "outputs": [],
   "source": [
    "conditions = [\n",
    "    (checkmate['death_status'] == 1),\n",
    "    (checkmate['death_status'] == 0)]\n",
    "\n",
    "choices = [\n",
    "    (checkmate['death_date'] - checkmate['StartDate']).dt.days,\n",
    "    (checkmate['last_activity'] - checkmate['StartDate']).dt.days]\n",
    "\n",
    "checkmate.loc[:, 'timerisk_treatment'] = np.select(conditions, choices)"
   ]
  },
  {
   "cell_type": "code",
   "execution_count": 395,
   "id": "a4ba23bc",
   "metadata": {},
   "outputs": [],
   "source": [
    "checkmate = checkmate.query('timerisk_treatment >= 0')"
   ]
  },
  {
   "cell_type": "markdown",
   "id": "ef2ee7c6",
   "metadata": {},
   "source": [
    "#### Patient count "
   ]
  },
  {
   "cell_type": "code",
   "execution_count": 396,
   "id": "81ed37f3",
   "metadata": {},
   "outputs": [],
   "source": [
    "checkmate = (\n",
    "    checkmate\n",
    "    .query('EGFR != \"positive\"')\n",
    "    .query('ALK != \"positive\"')\n",
    ")"
   ]
  },
  {
   "cell_type": "code",
   "execution_count": 397,
   "id": "4557ab00",
   "metadata": {},
   "outputs": [
    {
     "data": {
      "text/plain": [
       "(4073, 4073)"
      ]
     },
     "execution_count": 397,
     "metadata": {},
     "output_type": "execute_result"
    }
   ],
   "source": [
    "row_ID(checkmate)"
   ]
  },
  {
   "cell_type": "code",
   "execution_count": 398,
   "id": "c680d7fa",
   "metadata": {},
   "outputs": [],
   "source": [
    "# Exclude those with autoimmune conditions. \n",
    "checkmate = checkmate[~checkmate['PatientID'].isin(auto_IDs)]"
   ]
  },
  {
   "cell_type": "code",
   "execution_count": 399,
   "id": "1475726d",
   "metadata": {},
   "outputs": [],
   "source": [
    "# Exclude those with other relevant comorbidities\n",
    "checkmate = checkmate[~checkmate['PatientID'].isin(other_comorb_IDs)]"
   ]
  },
  {
   "cell_type": "code",
   "execution_count": 400,
   "id": "1ecad182",
   "metadata": {},
   "outputs": [],
   "source": [
    "# Exlcude those with CNS metastasis \n",
    "checkmate = checkmate[~checkmate['PatientID'].isin(cns_sec_IDs)]"
   ]
  },
  {
   "cell_type": "code",
   "execution_count": 401,
   "id": "b7f24924",
   "metadata": {},
   "outputs": [],
   "source": [
    "# Include only those with ECOG 2, 3, or 4 \n",
    "checkmate = checkmate[~checkmate['PatientID'].isin(ecog_sec_IDs)]"
   ]
  },
  {
   "cell_type": "code",
   "execution_count": 402,
   "id": "a7016b1f",
   "metadata": {},
   "outputs": [
    {
     "data": {
      "text/plain": [
       "(3045, 3045)"
      ]
     },
     "execution_count": 402,
     "metadata": {},
     "output_type": "execute_result"
    }
   ],
   "source": [
    "row_ID(checkmate)"
   ]
  },
  {
   "cell_type": "code",
   "execution_count": 403,
   "id": "43eee670",
   "metadata": {},
   "outputs": [],
   "source": [
    "low_cutoff_078 = cutoff.loc['checkmate_078'].low"
   ]
  },
  {
   "cell_type": "code",
   "execution_count": 404,
   "id": "298c27f5",
   "metadata": {},
   "outputs": [],
   "source": [
    "high_cutoff_078 = cutoff.loc['checkmate_078'].high"
   ]
  },
  {
   "cell_type": "code",
   "execution_count": 405,
   "id": "7f728525",
   "metadata": {},
   "outputs": [
    {
     "name": "stdout",
     "output_type": "stream",
     "text": [
      "Nivolumab total: 2460\n",
      "High risk: 703\n",
      "Med risk: 867\n",
      "Low risk: 890\n"
     ]
    }
   ],
   "source": [
    "print('Nivolumab total:',  checkmate.query('nivo == 1').shape[0])\n",
    "print('High risk:', checkmate.query('nivo == 1').query('risk_score >= @high_cutoff_078').shape[0])\n",
    "print('Med risk:', checkmate.query('nivo == 1').query('risk_score < @high_cutoff_078 and risk_score > @low_cutoff_078').shape[0])\n",
    "print('Low risk:', checkmate.query('nivo == 1').query('risk_score <= @low_cutoff_078').shape[0])"
   ]
  },
  {
   "cell_type": "code",
   "execution_count": 406,
   "id": "dad6b74c",
   "metadata": {},
   "outputs": [
    {
     "name": "stdout",
     "output_type": "stream",
     "text": [
      "Docetaxel total: 585\n",
      "High risk: 174\n",
      "Med risk: 202\n",
      "Low risk: 209\n"
     ]
    }
   ],
   "source": [
    "print('Docetaxel total:',  checkmate.query('nivo == 0').shape[0])\n",
    "print('High risk:', checkmate.query('nivo == 0').query('risk_score >= @high_cutoff_078').shape[0])\n",
    "print('Med risk:', checkmate.query('nivo == 0').query('risk_score < @high_cutoff_078 and risk_score > @low_cutoff_078').shape[0])\n",
    "print('Low risk:', checkmate.query('nivo == 0').query('risk_score <= @low_cutoff_078').shape[0])"
   ]
  },
  {
   "cell_type": "markdown",
   "id": "3a887dad",
   "metadata": {},
   "source": [
    "#### Survival curves with covariate balancing "
   ]
  },
  {
   "cell_type": "code",
   "execution_count": 407,
   "id": "90ef65db",
   "metadata": {},
   "outputs": [],
   "source": [
    "checkmate = checkmate.set_index('PatientID')"
   ]
  },
  {
   "cell_type": "code",
   "execution_count": 408,
   "id": "6b611f5f",
   "metadata": {},
   "outputs": [],
   "source": [
    "check_iptw = checkmate.filter(items = ['death_status',\n",
    "                                       'timerisk_treatment',\n",
    "                                       'nivo',\n",
    "                                       'age',\n",
    "                                       'gender',\n",
    "                                       'race',\n",
    "                                       'PracticeType',\n",
    "                                       'Histology',\n",
    "                                       'adv_year',\n",
    "                                       'delta_adv_diagnosis',\n",
    "                                       'commercial',\n",
    "                                       'medicare',\n",
    "                                       'medicaid',\n",
    "                                       'ecog_diagnosis',\n",
    "                                       'pdl1',\n",
    "                                       'albumin_diag', \n",
    "                                       'weight_pct_change',\n",
    "                                       'risk_score'])"
   ]
  },
  {
   "cell_type": "code",
   "execution_count": 409,
   "id": "65e2f1a2",
   "metadata": {},
   "outputs": [],
   "source": [
    "check_iptw['met_cat'] = pd.cut(check_iptw['adv_year'],\n",
    "                               bins = [2010, 2015, float('inf')],\n",
    "                               labels = ['11-15', '16-20'])"
   ]
  },
  {
   "cell_type": "code",
   "execution_count": 410,
   "id": "f5c151b4",
   "metadata": {},
   "outputs": [],
   "source": [
    "conditions = [\n",
    "    ((check_iptw['pdl1'] == \"1-49%\") | (check_iptw['pdl1'] == \"50-100%\"))]\n",
    "\n",
    "choices = ['>0%']\n",
    "\n",
    "check_iptw['pdl1_cat'] = np.select(conditions, choices, default = check_iptw['pdl1'])"
   ]
  },
  {
   "cell_type": "code",
   "execution_count": 411,
   "id": "0dad61a3",
   "metadata": {},
   "outputs": [],
   "source": [
    "conditions = [\n",
    "    ((check_iptw['ecog_diagnosis'] == \"1.0\") | (check_iptw['ecog_diagnosis'] == \"0.0\")),  \n",
    "    ((check_iptw['ecog_diagnosis'] == \"2.0\") | (check_iptw['ecog_diagnosis'] == \"3.0\"))\n",
    "]\n",
    "\n",
    "choices = ['lt_2', 'gte_2']\n",
    "\n",
    "check_iptw['ecog_2'] = np.select(conditions, choices, default = 'unknown')"
   ]
  },
  {
   "cell_type": "code",
   "execution_count": 412,
   "id": "44a45fb5",
   "metadata": {},
   "outputs": [
    {
     "data": {
      "text/plain": [
       "death_status               bool\n",
       "timerisk_treatment      float64\n",
       "nivo                      int64\n",
       "age                       int64\n",
       "gender                   object\n",
       "race                     object\n",
       "PracticeType             object\n",
       "Histology                object\n",
       "adv_year                  int64\n",
       "delta_adv_diagnosis       int64\n",
       "commercial              float64\n",
       "medicare                float64\n",
       "medicaid                float64\n",
       "ecog_diagnosis           object\n",
       "pdl1                     object\n",
       "albumin_diag            float64\n",
       "weight_pct_change       float64\n",
       "risk_score              float64\n",
       "met_cat                category\n",
       "pdl1_cat                 object\n",
       "ecog_2                   object\n",
       "dtype: object"
      ]
     },
     "execution_count": 412,
     "metadata": {},
     "output_type": "execute_result"
    }
   ],
   "source": [
    "check_iptw.dtypes"
   ]
  },
  {
   "cell_type": "code",
   "execution_count": 413,
   "id": "bfa3d033",
   "metadata": {},
   "outputs": [],
   "source": [
    "to_be_categorical = list(check_iptw.select_dtypes(include = ['object']).columns)"
   ]
  },
  {
   "cell_type": "code",
   "execution_count": 414,
   "id": "6c099487",
   "metadata": {},
   "outputs": [
    {
     "data": {
      "text/plain": [
       "['gender',\n",
       " 'race',\n",
       " 'PracticeType',\n",
       " 'Histology',\n",
       " 'ecog_diagnosis',\n",
       " 'pdl1',\n",
       " 'pdl1_cat',\n",
       " 'ecog_2']"
      ]
     },
     "execution_count": 414,
     "metadata": {},
     "output_type": "execute_result"
    }
   ],
   "source": [
    "to_be_categorical"
   ]
  },
  {
   "cell_type": "code",
   "execution_count": 415,
   "id": "b6fd99c5",
   "metadata": {},
   "outputs": [],
   "source": [
    "to_be_categorical.append('met_cat')"
   ]
  },
  {
   "cell_type": "code",
   "execution_count": 416,
   "id": "af19556e",
   "metadata": {},
   "outputs": [],
   "source": [
    "to_be_categorical.remove('pdl1')"
   ]
  },
  {
   "cell_type": "code",
   "execution_count": 417,
   "id": "9f519841",
   "metadata": {},
   "outputs": [],
   "source": [
    "to_be_categorical.remove('ecog_diagnosis')"
   ]
  },
  {
   "cell_type": "code",
   "execution_count": 418,
   "id": "8519b06a",
   "metadata": {},
   "outputs": [],
   "source": [
    "# Convert variables in list to categorical.\n",
    "for x in list(to_be_categorical):\n",
    "    check_iptw[x] = check_iptw[x].astype('category')"
   ]
  },
  {
   "cell_type": "code",
   "execution_count": 419,
   "id": "651c0edc",
   "metadata": {},
   "outputs": [],
   "source": [
    "# List of numeric variables, excluding binary variables. \n",
    "numerical_features = ['age', 'delta_adv_diagnosis', 'albumin_diag', 'weight_pct_change', 'risk_score']\n",
    "\n",
    "# Transformer will first calculate column median and impute, and then apply a standard scaler. \n",
    "numerical_transformer = Pipeline(steps = [\n",
    "    ('imputer', SimpleImputer(strategy = 'median')),\n",
    "    ('std_scaler', StandardScaler())])"
   ]
  },
  {
   "cell_type": "code",
   "execution_count": 420,
   "id": "99f75f6c",
   "metadata": {},
   "outputs": [],
   "source": [
    "# List of categorical features.\n",
    "categorical_features = list(check_iptw.select_dtypes(include = ['category']).columns)\n",
    "\n",
    "# One-hot-encode categorical features.\n",
    "categorical_transformer = OneHotEncoder(handle_unknown = 'ignore')"
   ]
  },
  {
   "cell_type": "code",
   "execution_count": 421,
   "id": "514ba9e7",
   "metadata": {},
   "outputs": [],
   "source": [
    "preprocessor = ColumnTransformer(\n",
    "    transformers = [\n",
    "        ('num', numerical_transformer, numerical_features),\n",
    "        ('cat', categorical_transformer, categorical_features)],\n",
    "    remainder = 'passthrough')"
   ]
  },
  {
   "cell_type": "code",
   "execution_count": 422,
   "id": "6dbab9d8",
   "metadata": {},
   "outputs": [],
   "source": [
    "check_iptw_low = (\n",
    "    check_iptw\n",
    "    .query('risk_score <= @low_cutoff_078'))\n",
    "\n",
    "check_iptw_med = (\n",
    "    check_iptw\n",
    "    .query('risk_score < @high_cutoff_078 and risk_score > @low_cutoff_078'))\n",
    "\n",
    "check_iptw_high = (\n",
    "    check_iptw\n",
    "    .query('risk_score >= @high_cutoff_078'))\n",
    "\n",
    "check_iptw_all = check_iptw"
   ]
  },
  {
   "cell_type": "code",
   "execution_count": 423,
   "id": "17121b54",
   "metadata": {},
   "outputs": [],
   "source": [
    "check_low_x = preprocessor.fit_transform(check_iptw_low.filter(items = ['age',\n",
    "                                                                        'gender',\n",
    "                                                                        'race',\n",
    "                                                                        'PracticeType',\n",
    "                                                                        'Histology',\n",
    "                                                                        'met_cat',\n",
    "                                                                        'delta_adv_diagnosis',\n",
    "                                                                        'commercial',\n",
    "                                                                        'medicare',\n",
    "                                                                        'medicaid',\n",
    "                                                                        'ecog_2',\n",
    "                                                                        'pdl1_cat',\n",
    "                                                                        'albumin_diag',\n",
    "                                                                        'weight_pct_change',\n",
    "                                                                        'risk_score']))\n",
    "\n",
    "check_med_x = preprocessor.fit_transform(check_iptw_med.filter(items = ['age',\n",
    "                                                                        'gender',\n",
    "                                                                        'race',\n",
    "                                                                        'PracticeType',\n",
    "                                                                        'Histology',\n",
    "                                                                        'met_cat',\n",
    "                                                                        'delta_adv_diagnosis',\n",
    "                                                                        'commercial',\n",
    "                                                                        'medicare',\n",
    "                                                                        'medicaid',\n",
    "                                                                        'ecog_2',\n",
    "                                                                        'pdl1_cat',\n",
    "                                                                        'albumin_diag',\n",
    "                                                                        'weight_pct_change',\n",
    "                                                                        'risk_score']))\n",
    "\n",
    "check_high_x = preprocessor.fit_transform(check_iptw_high.filter(items = ['age',\n",
    "                                                                          'gender',\n",
    "                                                                          'race',\n",
    "                                                                          'PracticeType',\n",
    "                                                                          'Histology',\n",
    "                                                                          'met_cat',\n",
    "                                                                          'delta_adv_diagnosis',\n",
    "                                                                          'commercial',\n",
    "                                                                          'medicare',\n",
    "                                                                          'medicaid',\n",
    "                                                                          'ecog_2',\n",
    "                                                                          'pdl1_cat',\n",
    "                                                                          'albumin_diag',\n",
    "                                                                          'weight_pct_change',\n",
    "                                                                          'risk_score']))\n",
    "\n",
    "check_all_x = preprocessor.fit_transform(check_iptw_all.filter(items = ['age',\n",
    "                                                                        'gender',\n",
    "                                                                        'race',\n",
    "                                                                        'PracticeType',\n",
    "                                                                        'Histology',\n",
    "                                                                        'met_cat',\n",
    "                                                                        'delta_adv_diagnosis',\n",
    "                                                                        'commercial',\n",
    "                                                                        'medicare',\n",
    "                                                                        'medicaid',\n",
    "                                                                        'ecog_2',\n",
    "                                                                        'pdl1_cat',\n",
    "                                                                        'albumin_diag',\n",
    "                                                                        'weight_pct_change',\n",
    "                                                                        'risk_score']))"
   ]
  },
  {
   "cell_type": "code",
   "execution_count": 424,
   "id": "0c72dea6",
   "metadata": {},
   "outputs": [
    {
     "data": {
      "text/plain": [
       "LogisticRegression(max_iter=1000)"
      ]
     },
     "execution_count": 424,
     "metadata": {},
     "output_type": "execute_result"
    }
   ],
   "source": [
    "lr_check_low = LogisticRegression(max_iter = 1000)\n",
    "lr_check_low.fit(check_low_x, check_iptw_low['nivo'])"
   ]
  },
  {
   "cell_type": "code",
   "execution_count": 425,
   "id": "c917382b",
   "metadata": {},
   "outputs": [
    {
     "data": {
      "text/plain": [
       "LogisticRegression(max_iter=1000)"
      ]
     },
     "execution_count": 425,
     "metadata": {},
     "output_type": "execute_result"
    }
   ],
   "source": [
    "lr_check_med = LogisticRegression(max_iter = 1000)\n",
    "lr_check_med.fit(check_med_x, check_iptw_med['nivo'])"
   ]
  },
  {
   "cell_type": "code",
   "execution_count": 426,
   "id": "fc6fd140",
   "metadata": {},
   "outputs": [
    {
     "data": {
      "text/plain": [
       "LogisticRegression(max_iter=1000)"
      ]
     },
     "execution_count": 426,
     "metadata": {},
     "output_type": "execute_result"
    }
   ],
   "source": [
    "lr_check_high = LogisticRegression(max_iter = 1000)\n",
    "lr_check_high.fit(check_high_x, check_iptw_high['nivo'])"
   ]
  },
  {
   "cell_type": "code",
   "execution_count": 427,
   "id": "93794f02",
   "metadata": {},
   "outputs": [
    {
     "data": {
      "text/plain": [
       "LogisticRegression(max_iter=1000)"
      ]
     },
     "execution_count": 427,
     "metadata": {},
     "output_type": "execute_result"
    }
   ],
   "source": [
    "lr_check_all = LogisticRegression(max_iter = 1000)\n",
    "lr_check_all.fit(check_all_x, check_iptw_all['nivo'])"
   ]
  },
  {
   "cell_type": "code",
   "execution_count": 428,
   "id": "87532112",
   "metadata": {},
   "outputs": [],
   "source": [
    "pred_low = lr_check_low.predict_proba(check_low_x)\n",
    "pred_med = lr_check_med.predict_proba(check_med_x)\n",
    "pred_high = lr_check_high.predict_proba(check_high_x)\n",
    "pred_all = lr_check_all.predict_proba(check_all_x)"
   ]
  },
  {
   "cell_type": "code",
   "execution_count": 429,
   "id": "dff02b26",
   "metadata": {},
   "outputs": [],
   "source": [
    "check_iptw_low['ps'] = pred_low[:, 1]\n",
    "check_iptw_med['ps'] = pred_med[:, 1]\n",
    "check_iptw_high['ps'] = pred_high[:, 1]\n",
    "check_iptw_all['ps'] = pred_all[:, 1]"
   ]
  },
  {
   "cell_type": "code",
   "execution_count": 430,
   "id": "adc70b0e",
   "metadata": {},
   "outputs": [],
   "source": [
    "check_iptw_low['weight'] = (\n",
    "    np.where(check_iptw_low['nivo'] == 1, 1/check_iptw_low['ps'], 1/(1 - check_iptw_low['ps'])))\n",
    "\n",
    "check_iptw_med['weight'] = (\n",
    "    np.where(check_iptw_med['nivo'] == 1, 1/check_iptw_med['ps'], 1/(1 - check_iptw_med['ps'])))\n",
    "\n",
    "check_iptw_high['weight'] = (\n",
    "    np.where(check_iptw_high['nivo'] == 1, 1/check_iptw_high['ps'], 1/(1 - check_iptw_high['ps'])))\n",
    "\n",
    "check_iptw_all['weight'] = (\n",
    "    np.where(check_iptw_all['nivo'] == 1, 1/check_iptw_all['ps'], 1/(1 - check_iptw_all['ps'])))"
   ]
  },
  {
   "cell_type": "code",
   "execution_count": 431,
   "id": "f67940c0",
   "metadata": {},
   "outputs": [
    {
     "data": {
      "text/plain": [
       "<lifelines.KaplanMeierFitter:\"KM_estimate\", fitted with 3367.23 total observations, 698.864 right-censored observations>"
      ]
     },
     "execution_count": 431,
     "metadata": {},
     "output_type": "execute_result"
    }
   ],
   "source": [
    "# Low KM curves\n",
    "kmf_low_nivo_check_iptw = KaplanMeierFitter()\n",
    "kmf_low_dotx_check_iptw = KaplanMeierFitter()\n",
    "\n",
    "kmf_low_nivo_check_iptw.fit(\n",
    "    check_iptw_low.query('nivo == 1').timerisk_treatment/30,\n",
    "    check_iptw_low.query('nivo == 1').death_status,\n",
    "    weights = check_iptw_low.query('nivo == 1')['weight'])\n",
    "\n",
    "kmf_low_dotx_check_iptw.fit(\n",
    "    check_iptw_low.query('nivo == 0').timerisk_treatment/30,\n",
    "    check_iptw_low.query('nivo == 0').death_status,\n",
    "    weights = check_iptw_low.query('nivo == 0')['weight'])\n",
    "\n",
    "# Med KM curves\n",
    "kmf_med_nivo_check_iptw = KaplanMeierFitter()\n",
    "kmf_med_dotx_check_iptw = KaplanMeierFitter()\n",
    "\n",
    "kmf_med_nivo_check_iptw.fit(\n",
    "    check_iptw_med.query('nivo == 1').timerisk_treatment/30,\n",
    "    check_iptw_med.query('nivo == 1').death_status,\n",
    "    weights = check_iptw_med.query('nivo == 1')['weight'])\n",
    "\n",
    "kmf_med_dotx_check_iptw.fit(\n",
    "    check_iptw_med.query('nivo == 0').timerisk_treatment/30,\n",
    "    check_iptw_med.query('nivo == 0').death_status,\n",
    "    weights = check_iptw_med.query('nivo == 0')['weight'])\n",
    "\n",
    "# High KM curves \n",
    "kmf_high_nivo_check_iptw = KaplanMeierFitter()\n",
    "kmf_high_dotx_check_iptw = KaplanMeierFitter()\n",
    "\n",
    "kmf_high_nivo_check_iptw.fit(\n",
    "    check_iptw_high.query('nivo == 1').timerisk_treatment/30,\n",
    "    check_iptw_high.query('nivo == 1').death_status,\n",
    "    weights = check_iptw_high.query('nivo == 1')['weight'])\n",
    "\n",
    "kmf_high_dotx_check_iptw.fit(\n",
    "    check_iptw_high.query('nivo == 0').timerisk_treatment/30,\n",
    "    check_iptw_high.query('nivo == 0').death_status,\n",
    "    weights = check_iptw_high.query('nivo == 0')['weight'])\n",
    "\n",
    "# All KM curves \n",
    "kmf_all_nivo_check_iptw = KaplanMeierFitter()\n",
    "kmf_all_dotx_check_iptw = KaplanMeierFitter()\n",
    "\n",
    "kmf_all_nivo_check_iptw.fit(\n",
    "    check_iptw_all.query('nivo == 1').timerisk_treatment/30,\n",
    "    check_iptw_all.query('nivo == 1').death_status,\n",
    "    weights = check_iptw_all.query('nivo == 1')['weight'])\n",
    "\n",
    "kmf_all_dotx_check_iptw.fit(\n",
    "    check_iptw_all.query('nivo == 0').timerisk_treatment/30,\n",
    "    check_iptw_all.query('nivo == 0').death_status,\n",
    "    weights = check_iptw_all.query('nivo == 0')['weight'])"
   ]
  },
  {
   "cell_type": "markdown",
   "id": "c86ca3fe",
   "metadata": {},
   "source": [
    "#### Calculating survival metrics "
   ]
  },
  {
   "cell_type": "code",
   "execution_count": 432,
   "id": "88369cae",
   "metadata": {},
   "outputs": [],
   "source": [
    "nivo_check_median_os = mos(kmf_low_nivo_check_iptw, \n",
    "                           kmf_med_nivo_check_iptw,\n",
    "                           kmf_high_nivo_check_iptw,\n",
    "                           kmf_all_nivo_check_iptw)\n",
    "\n",
    "dotx_check_median_os = mos(kmf_low_dotx_check_iptw,\n",
    "                           kmf_med_dotx_check_iptw,\n",
    "                           kmf_high_dotx_check_iptw,\n",
    "                           kmf_all_dotx_check_iptw)"
   ]
  },
  {
   "cell_type": "code",
   "execution_count": 433,
   "id": "b39c3b66",
   "metadata": {},
   "outputs": [],
   "source": [
    "check_iptw_all_imputed = check_iptw_all.copy()\n",
    "check_iptw_all_imputed['albumin_diag'] = check_iptw_all_imputed['albumin_diag'].fillna(check_iptw_all_imputed['albumin_diag'].median())\n",
    "check_iptw_all_imputed['weight_pct_change'] = check_iptw_all_imputed['weight_pct_change'].fillna(check_iptw_all_imputed['weight_pct_change'].median())"
   ]
  },
  {
   "cell_type": "code",
   "execution_count": 434,
   "id": "f874ef42",
   "metadata": {},
   "outputs": [
    {
     "data": {
      "text/plain": [
       "<lifelines.CoxPHFitter: fitted with 6401.28 total observations, 1319.56 right-censored observations>"
      ]
     },
     "execution_count": 434,
     "metadata": {},
     "output_type": "execute_result"
    }
   ],
   "source": [
    "check_hr_all = CoxPHFitter()\n",
    "check_hr_all.fit(check_iptw_all_imputed,\n",
    "                 duration_col = 'timerisk_treatment',\n",
    "                 event_col = 'death_status',\n",
    "                 formula = 'nivo + age + gender + race + PracticeType + Histology + delta_adv_diagnosis + commercial + medicare + medicaid + ecog_2 + pdl1_cat + albumin_diag + weight_pct_change + risk_score',\n",
    "                 weights_col = 'weight',\n",
    "                 robust = True)"
   ]
  },
  {
   "cell_type": "code",
   "execution_count": 435,
   "id": "57d33ad2",
   "metadata": {},
   "outputs": [],
   "source": [
    "check_all_rmst_mos_95 = rmst_mos_95ci(check_iptw_all,\n",
    "                                      1000,\n",
    "                                      'nivo',\n",
    "                                      'death',\n",
    "                                      ['age',\n",
    "                                       'gender',\n",
    "                                       'race',\n",
    "                                       'PracticeType',\n",
    "                                       'Histology',\n",
    "                                       'met_cat',\n",
    "                                       'delta_adv_diagnosis',\n",
    "                                       'commercial',\n",
    "                                       'medicare',\n",
    "                                       'medicaid',\n",
    "                                       'ecog_2',\n",
    "                                       'pdl1_cat',\n",
    "                                       'albumin_diag',\n",
    "                                       'weight_pct_change',\n",
    "                                       'risk_score'],\n",
    "                                      ['age', 'delta_adv_diagnosis', 'albumin_diag', 'weight_pct_change', 'risk_score'],\n",
    "                                       36)"
   ]
  },
  {
   "cell_type": "code",
   "execution_count": 436,
   "id": "b408392c",
   "metadata": {},
   "outputs": [],
   "source": [
    "check_low_rmst_mos_95 = rmst_mos_95ci(check_iptw_low,\n",
    "                                      1000,\n",
    "                                      'nivo',\n",
    "                                      'death',\n",
    "                                      ['age',\n",
    "                                       'gender',\n",
    "                                       'race',\n",
    "                                       'PracticeType',\n",
    "                                       'Histology',\n",
    "                                       'met_cat',\n",
    "                                       'delta_adv_diagnosis',\n",
    "                                       'commercial',\n",
    "                                       'medicare',\n",
    "                                       'medicaid',\n",
    "                                       'ecog_2',\n",
    "                                       'pdl1_cat',\n",
    "                                       'albumin_diag',\n",
    "                                       'weight_pct_change',\n",
    "                                       'risk_score'],\n",
    "                                      ['age', 'delta_adv_diagnosis', 'albumin_diag', 'weight_pct_change', 'risk_score'],\n",
    "                                       36)"
   ]
  },
  {
   "cell_type": "code",
   "execution_count": 437,
   "id": "576ce80d",
   "metadata": {},
   "outputs": [],
   "source": [
    "check_med_rmst_mos_95 = rmst_mos_95ci(check_iptw_med,\n",
    "                                      1000,\n",
    "                                      'nivo',\n",
    "                                      'death',\n",
    "                                      ['age',\n",
    "                                       'gender',\n",
    "                                       'race',\n",
    "                                       'PracticeType',\n",
    "                                       'Histology',\n",
    "                                       'met_cat',\n",
    "                                       'delta_adv_diagnosis',\n",
    "                                       'commercial',\n",
    "                                       'medicare',\n",
    "                                       'medicaid',\n",
    "                                       'ecog_2',\n",
    "                                       'pdl1_cat',\n",
    "                                       'albumin_diag',\n",
    "                                       'weight_pct_change',\n",
    "                                       'risk_score'],\n",
    "                                      ['age', 'delta_adv_diagnosis', 'albumin_diag', 'weight_pct_change', 'risk_score'],\n",
    "                                       36)"
   ]
  },
  {
   "cell_type": "code",
   "execution_count": 438,
   "id": "05b8bcc1",
   "metadata": {},
   "outputs": [],
   "source": [
    "check_high_rmst_mos_95 = rmst_mos_95ci(check_iptw_high,\n",
    "                                       1000,\n",
    "                                       'nivo',\n",
    "                                       'death',\n",
    "                                       ['age',\n",
    "                                        'gender',\n",
    "                                        'race',\n",
    "                                        'PracticeType',\n",
    "                                        'Histology',\n",
    "                                        'met_cat',\n",
    "                                        'delta_adv_diagnosis',\n",
    "                                        'commercial',\n",
    "                                        'medicare',\n",
    "                                        'medicaid',\n",
    "                                        'ecog_2',\n",
    "                                        'pdl1_cat',\n",
    "                                        'albumin_diag',\n",
    "                                        'weight_pct_change',\n",
    "                                        'risk_score'],\n",
    "                                       ['age', 'delta_adv_diagnosis', 'albumin_diag', 'weight_pct_change', 'risk_score'],\n",
    "                                        36)"
   ]
  },
  {
   "cell_type": "code",
   "execution_count": 439,
   "id": "55ecbe4e",
   "metadata": {},
   "outputs": [],
   "source": [
    "check_data = [\n",
    "    {'trial_name': 'CHECKMATE-078', \n",
    "     'risk_group': 'low', \n",
    "     's_trt_mos': nivo_check_median_os[0],\n",
    "     's_trt_mos_95': check_low_rmst_mos_95.mos_A_95,\n",
    "     's_cont_mos': dotx_check_median_os[0],\n",
    "     's_cont_mos_95': check_low_rmst_mos_95.mos_B_95,\n",
    "     's_mos_diff': nivo_check_median_os[0] - dotx_check_median_os[0], \n",
    "     'rct_trt_arm': 11.9, \n",
    "     'rct_cont_arm': 9.5,\n",
    "     'rct_mos_diff': 11.9-9.5,\n",
    "     's_trt_rmst': restricted_mean_survival_time(kmf_low_nivo_check_iptw, 36),\n",
    "     's_trt_rmst_95': check_low_rmst_mos_95.rmst_A_95,\n",
    "     's_cont_rmst': restricted_mean_survival_time(kmf_low_dotx_check_iptw, 36),\n",
    "     's_cont_rmst_95': check_low_rmst_mos_95.rmst_B_95,\n",
    "     's_diff_rmst': restricted_mean_survival_time(kmf_low_nivo_check_iptw, 36) - restricted_mean_survival_time(kmf_low_dotx_check_iptw, 36),\n",
    "     's_diff_rmst_95': check_low_rmst_mos_95.difference_rmst_95,\n",
    "     'scount': checkmate.query('risk_score <= @low_cutoff_078').shape[0]},\n",
    "    \n",
    "    {'trial_name': 'CHECKMATE-078', \n",
    "     'risk_group': 'medium', \n",
    "     's_trt_mos': nivo_check_median_os[1],\n",
    "     's_trt_mos_95': check_med_rmst_mos_95.mos_A_95,\n",
    "     's_cont_mos': dotx_check_median_os[1],\n",
    "     's_cont_mos_95': check_med_rmst_mos_95.mos_B_95,\n",
    "     's_mos_diff': nivo_check_median_os[1] - dotx_check_median_os[1], \n",
    "     'rct_trt_arm': 11.9, \n",
    "     'rct_cont_arm': 9.5,\n",
    "     'rct_mos_diff': 11.9-9.5,\n",
    "     's_trt_rmst': restricted_mean_survival_time(kmf_med_nivo_check_iptw, 36),\n",
    "     's_trt_rmst_95': check_med_rmst_mos_95.rmst_A_95,\n",
    "     's_cont_rmst': restricted_mean_survival_time(kmf_med_dotx_check_iptw, 36),\n",
    "     's_cont_rmst_95': check_med_rmst_mos_95.rmst_B_95,\n",
    "     's_diff_rmst': restricted_mean_survival_time(kmf_med_nivo_check_iptw, 36) - restricted_mean_survival_time(kmf_med_dotx_check_iptw, 36),\n",
    "     's_diff_rmst_95': check_med_rmst_mos_95.difference_rmst_95,\n",
    "     'scount': checkmate.query('risk_score < @high_cutoff_078 and risk_score > @low_cutoff_078').shape[0]},\n",
    "    \n",
    "    {'trial_name': 'CHECKMATE-078', \n",
    "     'risk_group': 'high', \n",
    "     's_trt_mos': nivo_check_median_os[2],\n",
    "     's_trt_mos_95': check_high_rmst_mos_95.mos_A_95,\n",
    "     's_cont_mos': dotx_check_median_os[2],\n",
    "     's_cont_mos_95': check_high_rmst_mos_95.mos_B_95,\n",
    "     's_mos_diff': nivo_check_median_os[2] - dotx_check_median_os[2], \n",
    "     'rct_trt_arm': 11.9, \n",
    "     'rct_cont_arm': 9.5,\n",
    "     'rct_mos_diff': 11.9-9.5,\n",
    "     's_trt_rmst': restricted_mean_survival_time(kmf_high_nivo_check_iptw, 36),\n",
    "     's_trt_rmst_95': check_high_rmst_mos_95.rmst_A_95,\n",
    "     's_cont_rmst': restricted_mean_survival_time(kmf_high_dotx_check_iptw, 36),\n",
    "     's_cont_rmst_95': check_high_rmst_mos_95.rmst_B_95,\n",
    "     's_diff_rmst': restricted_mean_survival_time(kmf_high_nivo_check_iptw, 36) - restricted_mean_survival_time(kmf_high_dotx_check_iptw, 36),\n",
    "     's_diff_rmst_95': check_high_rmst_mos_95.difference_rmst_95,\n",
    "     'scount': checkmate.query('risk_score >= @high_cutoff_078').shape[0]},\n",
    "    \n",
    "    {'trial_name': 'CHECKMATE-078', \n",
    "     'risk_group': 'all', \n",
    "     's_hr': check_hr_all.hazard_ratios_['nivo'],\n",
    "     's_hr_95': [check_hr_all.summary.loc['nivo']['exp(coef) lower 95%'], check_hr_all.summary.loc['nivo']['exp(coef) upper 95%']],\n",
    "     's_trt_mos': nivo_check_median_os[3],\n",
    "     's_trt_mos_95': check_all_rmst_mos_95.mos_A_95,\n",
    "     's_cont_mos': dotx_check_median_os[3],\n",
    "     's_cont_mos_95': check_all_rmst_mos_95.mos_B_95,\n",
    "     's_mos_diff': nivo_check_median_os[3] - dotx_check_median_os[3], \n",
    "     'rct_trt_arm': 11.9, \n",
    "     'rct_cont_arm': 9.5,\n",
    "     'rct_mos_diff': 11.9-9.5,\n",
    "     'scount': checkmate.shape[0]}\n",
    "]"
   ]
  },
  {
   "cell_type": "markdown",
   "id": "9edbbaf6",
   "metadata": {},
   "source": [
    "## FLAURA: osimertinib vs. gefitinib or erlotinib\n",
    "\n",
    "**INCLUSION CRITERIA**\n",
    "* Untreated stage IV NSCLC\n",
    "* Received first line osimertinib or gefitinib or erlotinib\n",
    "* No autoimmune diseases in the year preceding metastatic diagnosis \n",
    "* No history of ILD, HIV, Hep C, Hep B, severe psychiatric history, or drug use disorder in the year preceding metastatic diagnosis \n",
    "* No CNS metastasis at start of treatment \n",
    "* ECOG is not 2, 3, or 4 at start of treatment \n",
    "* Adeuquate organ function at start of treatment "
   ]
  },
  {
   "cell_type": "markdown",
   "id": "46820e74",
   "metadata": {},
   "source": [
    "#### Osimertinib"
   ]
  },
  {
   "cell_type": "code",
   "execution_count": 440,
   "id": "cbcfd80a",
   "metadata": {},
   "outputs": [
    {
     "data": {
      "text/plain": [
       "68483"
      ]
     },
     "execution_count": 440,
     "metadata": {},
     "output_type": "execute_result"
    }
   ],
   "source": [
    "df_full = pd.read_csv('df_risk_crude.csv', index_col = 'PatientID', dtype = {'death_status': bool})\n",
    "df_full.index.nunique()"
   ]
  },
  {
   "cell_type": "code",
   "execution_count": 441,
   "id": "3241afaf",
   "metadata": {},
   "outputs": [],
   "source": [
    "line_therapy = pd.read_csv('LineOfTherapy.csv')"
   ]
  },
  {
   "cell_type": "code",
   "execution_count": 442,
   "id": "a92e8889",
   "metadata": {},
   "outputs": [],
   "source": [
    "flaura_osim = (\n",
    "    line_therapy[line_therapy['PatientID'].isin(df_full.index)]\n",
    "    .query('LineNumber == 1')\n",
    "    .query('IsMaintenanceTherapy == False')\n",
    "    .query('LineName == \"Osimertinib\"')\n",
    "    [['PatientID', 'StartDate']]\n",
    ")"
   ]
  },
  {
   "cell_type": "code",
   "execution_count": 443,
   "id": "20d82556",
   "metadata": {},
   "outputs": [],
   "source": [
    "flaura_osim.loc[:, 'osim'] = 1"
   ]
  },
  {
   "cell_type": "code",
   "execution_count": 444,
   "id": "7ad40b46",
   "metadata": {},
   "outputs": [
    {
     "data": {
      "text/plain": [
       "(1241, 1241)"
      ]
     },
     "execution_count": 444,
     "metadata": {},
     "output_type": "execute_result"
    }
   ],
   "source": [
    "row_ID(flaura_osim)"
   ]
  },
  {
   "cell_type": "markdown",
   "id": "f48ac8d3",
   "metadata": {},
   "source": [
    "#### Gefitinib or Erlotinib"
   ]
  },
  {
   "cell_type": "code",
   "execution_count": 445,
   "id": "db38c5ed",
   "metadata": {},
   "outputs": [],
   "source": [
    "flaura_gefer = (\n",
    "    line_therapy[line_therapy['PatientID'].isin(df_full.index)]\n",
    "    .query('LineNumber == 1')\n",
    "    .query('IsMaintenanceTherapy == False')\n",
    "    .query('LineName == \"Gefitinib\" or LineName == \"Erlotinib\"')\n",
    "    [['PatientID', 'StartDate']]\n",
    ")"
   ]
  },
  {
   "cell_type": "code",
   "execution_count": 446,
   "id": "09a12707",
   "metadata": {},
   "outputs": [],
   "source": [
    "flaura_gefer.loc[:, 'osim'] = 0"
   ]
  },
  {
   "cell_type": "code",
   "execution_count": 447,
   "id": "ff7719e0",
   "metadata": {},
   "outputs": [
    {
     "data": {
      "text/plain": [
       "(3003, 3003)"
      ]
     },
     "execution_count": 447,
     "metadata": {},
     "output_type": "execute_result"
    }
   ],
   "source": [
    "row_ID(flaura_gefer)"
   ]
  },
  {
   "cell_type": "code",
   "execution_count": 448,
   "id": "23c1eccd",
   "metadata": {},
   "outputs": [],
   "source": [
    "flaura = pd.concat([flaura_osim, flaura_gefer])"
   ]
  },
  {
   "cell_type": "code",
   "execution_count": 449,
   "id": "3db2962f",
   "metadata": {},
   "outputs": [
    {
     "data": {
      "text/plain": [
       "(4244, 4244)"
      ]
     },
     "execution_count": 449,
     "metadata": {},
     "output_type": "execute_result"
    }
   ],
   "source": [
    "row_ID(flaura)"
   ]
  },
  {
   "cell_type": "code",
   "execution_count": 450,
   "id": "b2becb9b",
   "metadata": {},
   "outputs": [],
   "source": [
    "flaura = pd.merge(flaura, df_full, on = 'PatientID', how = 'left')"
   ]
  },
  {
   "cell_type": "code",
   "execution_count": 451,
   "id": "f904b035",
   "metadata": {},
   "outputs": [
    {
     "data": {
      "text/plain": [
       "(4244, 4244)"
      ]
     },
     "execution_count": 451,
     "metadata": {},
     "output_type": "execute_result"
    }
   ],
   "source": [
    "row_ID(flaura)"
   ]
  },
  {
   "cell_type": "code",
   "execution_count": 452,
   "id": "6a258d18",
   "metadata": {},
   "outputs": [],
   "source": [
    "flaura['StartDate'] = pd.to_datetime(flaura['StartDate'])"
   ]
  },
  {
   "cell_type": "markdown",
   "id": "08333fc3",
   "metadata": {},
   "source": [
    "#### Time from treatment to death/progression or censor "
   ]
  },
  {
   "cell_type": "code",
   "execution_count": 453,
   "id": "d9cfcb50",
   "metadata": {},
   "outputs": [],
   "source": [
    "mortality_tr = pd.read_csv('mortality_cleaned_tr.csv')"
   ]
  },
  {
   "cell_type": "code",
   "execution_count": 454,
   "id": "61de4a44",
   "metadata": {},
   "outputs": [],
   "source": [
    "mortality_te = pd.read_csv('mortality_cleaned_te.csv')"
   ]
  },
  {
   "cell_type": "code",
   "execution_count": 455,
   "id": "ea4dd310",
   "metadata": {},
   "outputs": [],
   "source": [
    "mortality_tr = mortality_tr[['PatientID', 'death_date', 'last_activity']]"
   ]
  },
  {
   "cell_type": "code",
   "execution_count": 456,
   "id": "1763476e",
   "metadata": {},
   "outputs": [],
   "source": [
    "mortality_te = mortality_te[['PatientID', 'death_date', 'last_activity']]"
   ]
  },
  {
   "cell_type": "code",
   "execution_count": 457,
   "id": "57241ba6",
   "metadata": {},
   "outputs": [
    {
     "data": {
      "text/plain": [
       "(68483, 68483)"
      ]
     },
     "execution_count": 457,
     "metadata": {},
     "output_type": "execute_result"
    }
   ],
   "source": [
    "mortality = pd.concat([mortality_tr, mortality_te], ignore_index = True)\n",
    "row_ID(mortality)"
   ]
  },
  {
   "cell_type": "code",
   "execution_count": 458,
   "id": "659851aa",
   "metadata": {},
   "outputs": [],
   "source": [
    "mortality.loc[:, 'last_activity'] = pd.to_datetime(mortality['last_activity'])"
   ]
  },
  {
   "cell_type": "code",
   "execution_count": 459,
   "id": "7e806a47",
   "metadata": {},
   "outputs": [],
   "source": [
    "mortality.loc[:, 'death_date'] = pd.to_datetime(mortality['death_date'])"
   ]
  },
  {
   "cell_type": "code",
   "execution_count": 460,
   "id": "e4551777",
   "metadata": {},
   "outputs": [
    {
     "data": {
      "text/plain": [
       "(68483, 68483)"
      ]
     },
     "execution_count": 460,
     "metadata": {},
     "output_type": "execute_result"
    }
   ],
   "source": [
    "row_ID(mortality)"
   ]
  },
  {
   "cell_type": "code",
   "execution_count": 461,
   "id": "c2659c2f",
   "metadata": {},
   "outputs": [],
   "source": [
    "flaura = pd.merge(flaura, mortality, on = 'PatientID', how = 'left')"
   ]
  },
  {
   "cell_type": "code",
   "execution_count": 462,
   "id": "18116b7f",
   "metadata": {},
   "outputs": [
    {
     "data": {
      "text/plain": [
       "(4244, 4244)"
      ]
     },
     "execution_count": 462,
     "metadata": {},
     "output_type": "execute_result"
    }
   ],
   "source": [
    "row_ID(flaura)"
   ]
  },
  {
   "cell_type": "code",
   "execution_count": 463,
   "id": "26f573c8",
   "metadata": {},
   "outputs": [],
   "source": [
    "progression = pd.read_csv('Enhanced_AdvNSCLCProgression.csv')"
   ]
  },
  {
   "cell_type": "code",
   "execution_count": 464,
   "id": "d94d2d92",
   "metadata": {},
   "outputs": [],
   "source": [
    "progression = progression[progression.PatientID.isin(flaura.PatientID)][['PatientID', 'ProgressionDate']]"
   ]
  },
  {
   "cell_type": "code",
   "execution_count": 465,
   "id": "41394b7a",
   "metadata": {},
   "outputs": [],
   "source": [
    "progression['ProgressionDate'] = pd.to_datetime(progression['ProgressionDate'])"
   ]
  },
  {
   "cell_type": "code",
   "execution_count": 466,
   "id": "ea86f96e",
   "metadata": {},
   "outputs": [],
   "source": [
    "progression = (\n",
    "    progression\n",
    "    .sort_values(['PatientID', 'ProgressionDate'], ascending = [True, True])\n",
    "    .drop_duplicates(subset = 'PatientID', keep = 'first')\n",
    ")"
   ]
  },
  {
   "cell_type": "code",
   "execution_count": 467,
   "id": "55b62452",
   "metadata": {},
   "outputs": [
    {
     "data": {
      "text/plain": [
       "(4243, 4243)"
      ]
     },
     "execution_count": 467,
     "metadata": {},
     "output_type": "execute_result"
    }
   ],
   "source": [
    "row_ID(progression)"
   ]
  },
  {
   "cell_type": "code",
   "execution_count": 468,
   "id": "4ae489cd",
   "metadata": {},
   "outputs": [],
   "source": [
    "flaura = pd.merge(flaura, progression, on = 'PatientID', how = 'left')"
   ]
  },
  {
   "cell_type": "code",
   "execution_count": 469,
   "id": "b3986347",
   "metadata": {},
   "outputs": [
    {
     "data": {
      "text/plain": [
       "(4244, 4244)"
      ]
     },
     "execution_count": 469,
     "metadata": {},
     "output_type": "execute_result"
    }
   ],
   "source": [
    "row_ID(flaura)"
   ]
  },
  {
   "cell_type": "code",
   "execution_count": 470,
   "id": "75830056",
   "metadata": {},
   "outputs": [
    {
     "data": {
      "text/plain": [
       "0.3437794533459001"
      ]
     },
     "execution_count": 470,
     "metadata": {},
     "output_type": "execute_result"
    }
   ],
   "source": [
    "# Percent without progression date in Flaura trial\n",
    "len(flaura.query('ProgressionDate.isna()', engine = 'python'))/len(flaura)"
   ]
  },
  {
   "cell_type": "code",
   "execution_count": 471,
   "id": "965055d1",
   "metadata": {},
   "outputs": [],
   "source": [
    "conditions = [\n",
    "    (flaura.ProgressionDate.notna()),\n",
    "    ((flaura.ProgressionDate.isna()) & (flaura['death_status'] == 1)),\n",
    "    ((flaura.ProgressionDate.isna()) & (flaura['death_status'] == 0))]\n",
    "\n",
    "choices = [\n",
    "    (flaura['ProgressionDate'] - flaura['StartDate']).dt.days,\n",
    "    (flaura['death_date'] - flaura['StartDate']).dt.days,\n",
    "    (flaura['last_activity'] - flaura['StartDate']).dt.days]\n",
    "\n",
    "flaura.loc[:, 'time_prog_treatment'] = np.select(conditions, choices)"
   ]
  },
  {
   "cell_type": "code",
   "execution_count": 472,
   "id": "a31fde7b",
   "metadata": {},
   "outputs": [],
   "source": [
    "flaura = flaura.query('time_prog_treatment >= 0')"
   ]
  },
  {
   "cell_type": "code",
   "execution_count": 473,
   "id": "eb97053d",
   "metadata": {},
   "outputs": [
    {
     "data": {
      "text/plain": [
       "(3622, 3622)"
      ]
     },
     "execution_count": 473,
     "metadata": {},
     "output_type": "execute_result"
    }
   ],
   "source": [
    "row_ID(flaura)"
   ]
  },
  {
   "cell_type": "code",
   "execution_count": 474,
   "id": "9cf313cb",
   "metadata": {},
   "outputs": [],
   "source": [
    "conditions = [\n",
    "    (flaura.ProgressionDate.notna()),\n",
    "    ((flaura.ProgressionDate.isna()) & (flaura['death_status'] == 1)),\n",
    "    ((flaura.ProgressionDate.isna()) & (flaura['death_status'] == 0))]\n",
    "\n",
    "choices = [1, 1, 0]\n",
    "\n",
    "flaura.loc[:, 'pfs_status'] = np.select(conditions, choices)"
   ]
  },
  {
   "cell_type": "markdown",
   "id": "d0dbe0a4",
   "metadata": {},
   "source": [
    "#### Patient count"
   ]
  },
  {
   "cell_type": "code",
   "execution_count": 475,
   "id": "aa00e00a",
   "metadata": {},
   "outputs": [
    {
     "data": {
      "text/plain": [
       "(3622, 3622)"
      ]
     },
     "execution_count": 475,
     "metadata": {},
     "output_type": "execute_result"
    }
   ],
   "source": [
    "row_ID(flaura)"
   ]
  },
  {
   "cell_type": "code",
   "execution_count": 476,
   "id": "bd75fbf5",
   "metadata": {},
   "outputs": [],
   "source": [
    "# Exclude those with autoimmune conditions. \n",
    "flaura = flaura[~flaura['PatientID'].isin(auto_IDs)]"
   ]
  },
  {
   "cell_type": "code",
   "execution_count": 477,
   "id": "60c87d76",
   "metadata": {},
   "outputs": [],
   "source": [
    "# Exclude those with other relevant comorbidities\n",
    "flaura = flaura[~flaura['PatientID'].isin(other_comorb_IDs)]"
   ]
  },
  {
   "cell_type": "code",
   "execution_count": 478,
   "id": "4d06c943",
   "metadata": {},
   "outputs": [],
   "source": [
    "# Exlcude those with CNS metastasis \n",
    "flaura = flaura[~flaura['PatientID'].isin(cns_fl_IDs)]"
   ]
  },
  {
   "cell_type": "code",
   "execution_count": 479,
   "id": "c2361452",
   "metadata": {},
   "outputs": [],
   "source": [
    "# Exclude those with ECOG 2, 3, or 4\n",
    "flaura = flaura[~flaura['PatientID'].isin(ecog_fl_IDs)]"
   ]
  },
  {
   "cell_type": "code",
   "execution_count": 480,
   "id": "a851538c",
   "metadata": {},
   "outputs": [],
   "source": [
    "# Exclude those with abnormal organ function\n",
    "flaura = flaura[~flaura['PatientID'].isin(ab_organ_IDs)]"
   ]
  },
  {
   "cell_type": "code",
   "execution_count": 481,
   "id": "83070c05",
   "metadata": {},
   "outputs": [
    {
     "data": {
      "text/plain": [
       "(2725, 2725)"
      ]
     },
     "execution_count": 481,
     "metadata": {},
     "output_type": "execute_result"
    }
   ],
   "source": [
    "row_ID(flaura)"
   ]
  },
  {
   "cell_type": "code",
   "execution_count": 482,
   "id": "1f325e9c",
   "metadata": {},
   "outputs": [],
   "source": [
    "low_cutoff_fl = cutoff.loc['flaura'].low"
   ]
  },
  {
   "cell_type": "code",
   "execution_count": 483,
   "id": "7bbefa39",
   "metadata": {},
   "outputs": [],
   "source": [
    "high_cutoff_fl = cutoff.loc['flaura'].high"
   ]
  },
  {
   "cell_type": "code",
   "execution_count": 484,
   "id": "19007c09",
   "metadata": {},
   "outputs": [
    {
     "name": "stdout",
     "output_type": "stream",
     "text": [
      "Osimertinib total: 751\n",
      "High risk: 159\n",
      "Med risk: 234\n",
      "Low risk: 358\n"
     ]
    }
   ],
   "source": [
    "print('Osimertinib total:', flaura.query('osim == 1').shape[0])\n",
    "print('High risk:', flaura.query('osim == 1').query('risk_score >= @high_cutoff_fl').shape[0])\n",
    "print('Med risk:', flaura.query('osim == 1').query('risk_score < @high_cutoff_fl and risk_score > @low_cutoff_fl').shape[0])\n",
    "print('Low risk:', flaura.query('osim == 1').query('risk_score <= @low_cutoff_fl').shape[0])"
   ]
  },
  {
   "cell_type": "code",
   "execution_count": 485,
   "id": "91622a18",
   "metadata": {},
   "outputs": [
    {
     "name": "stdout",
     "output_type": "stream",
     "text": [
      "Gefitinib or Erlotinib total: 1974\n",
      "High risk: 579\n",
      "Med risk: 725\n",
      "Low risk: 670\n"
     ]
    }
   ],
   "source": [
    "print('Gefitinib or Erlotinib total:', flaura.query('osim == 0').shape[0])\n",
    "print('High risk:', flaura.query('osim == 0').query('risk_score >= @high_cutoff_fl').shape[0])\n",
    "print('Med risk:', flaura.query('osim == 0').query('risk_score < @high_cutoff_fl and risk_score > @low_cutoff_fl').shape[0])\n",
    "print('Low risk:', flaura.query('osim == 0').query('risk_score <= @low_cutoff_fl').shape[0])"
   ]
  },
  {
   "cell_type": "markdown",
   "id": "122a7fcf",
   "metadata": {},
   "source": [
    "#### PFS with covariate balancing "
   ]
  },
  {
   "cell_type": "code",
   "execution_count": 486,
   "id": "6a7ebbc6",
   "metadata": {},
   "outputs": [],
   "source": [
    "flaura = flaura.set_index('PatientID')"
   ]
  },
  {
   "cell_type": "code",
   "execution_count": 487,
   "id": "26efa9ca",
   "metadata": {},
   "outputs": [],
   "source": [
    "flaura['pfs_status'] = flaura['pfs_status'].astype('bool')"
   ]
  },
  {
   "cell_type": "code",
   "execution_count": 488,
   "id": "54b71cde",
   "metadata": {},
   "outputs": [],
   "source": [
    "flaura_iptw = flaura.filter(items = ['pfs_status',\n",
    "                                     'time_prog_treatment',\n",
    "                                     'osim',\n",
    "                                     'age',\n",
    "                                     'gender',\n",
    "                                     'race',\n",
    "                                     'PracticeType',\n",
    "                                     'adv_year',\n",
    "                                     'delta_adv_diagnosis',\n",
    "                                     'commercial',\n",
    "                                     'medicare',\n",
    "                                     'medicaid',\n",
    "                                     'ecog_diagnosis',\n",
    "                                     'albumin_diag',\n",
    "                                     'weight_pct_change',\n",
    "                                     'risk_score'])"
   ]
  },
  {
   "cell_type": "code",
   "execution_count": 489,
   "id": "2f2852b0",
   "metadata": {},
   "outputs": [],
   "source": [
    "flaura_iptw['met_cat'] = pd.cut(flaura_iptw['adv_year'],\n",
    "                                bins = [2010, 2018, float('inf')],\n",
    "                                labels = ['11-18', '19-21'])"
   ]
  },
  {
   "cell_type": "code",
   "execution_count": 490,
   "id": "2eab8ba2",
   "metadata": {},
   "outputs": [],
   "source": [
    "conditions = [\n",
    "    ((flaura_iptw['ecog_diagnosis'] == \"1.0\") | (flaura_iptw['ecog_diagnosis'] == \"0.0\")),  \n",
    "    ((flaura_iptw['ecog_diagnosis'] == \"2.0\") | (flaura_iptw['ecog_diagnosis'] == \"3.0\"))\n",
    "]\n",
    "\n",
    "choices = ['lt_2', 'gte_2']\n",
    "\n",
    "flaura_iptw['ecog_2'] = np.select(conditions, choices, default = 'unknown')"
   ]
  },
  {
   "cell_type": "code",
   "execution_count": 491,
   "id": "79f71787",
   "metadata": {},
   "outputs": [
    {
     "data": {
      "text/plain": [
       "pfs_status                 bool\n",
       "time_prog_treatment     float64\n",
       "osim                      int64\n",
       "age                       int64\n",
       "gender                   object\n",
       "race                     object\n",
       "PracticeType             object\n",
       "adv_year                  int64\n",
       "delta_adv_diagnosis       int64\n",
       "commercial              float64\n",
       "medicare                float64\n",
       "medicaid                float64\n",
       "ecog_diagnosis           object\n",
       "albumin_diag            float64\n",
       "weight_pct_change       float64\n",
       "risk_score              float64\n",
       "met_cat                category\n",
       "ecog_2                   object\n",
       "dtype: object"
      ]
     },
     "execution_count": 491,
     "metadata": {},
     "output_type": "execute_result"
    }
   ],
   "source": [
    "flaura_iptw.dtypes"
   ]
  },
  {
   "cell_type": "code",
   "execution_count": 492,
   "id": "733da4c9",
   "metadata": {},
   "outputs": [],
   "source": [
    "to_be_categorical = list(flaura_iptw.select_dtypes(include = ['object']).columns)"
   ]
  },
  {
   "cell_type": "code",
   "execution_count": 493,
   "id": "aae3726a",
   "metadata": {},
   "outputs": [
    {
     "data": {
      "text/plain": [
       "['gender', 'race', 'PracticeType', 'ecog_diagnosis', 'ecog_2']"
      ]
     },
     "execution_count": 493,
     "metadata": {},
     "output_type": "execute_result"
    }
   ],
   "source": [
    "to_be_categorical"
   ]
  },
  {
   "cell_type": "code",
   "execution_count": 494,
   "id": "f3b4d7c3",
   "metadata": {},
   "outputs": [],
   "source": [
    "to_be_categorical.append('met_cat')"
   ]
  },
  {
   "cell_type": "code",
   "execution_count": 495,
   "id": "cf221fd1",
   "metadata": {},
   "outputs": [],
   "source": [
    "to_be_categorical.remove('ecog_diagnosis')"
   ]
  },
  {
   "cell_type": "code",
   "execution_count": 496,
   "id": "5587660f",
   "metadata": {},
   "outputs": [],
   "source": [
    "# Convert variables in list to categorical.\n",
    "for x in list(to_be_categorical):\n",
    "    flaura_iptw[x] = flaura_iptw[x].astype('category')"
   ]
  },
  {
   "cell_type": "code",
   "execution_count": 497,
   "id": "1fe87aaf",
   "metadata": {},
   "outputs": [],
   "source": [
    "# List of numeric variables, excluding binary variables. \n",
    "numerical_features = ['age', 'delta_adv_diagnosis', 'albumin_diag', 'weight_pct_change', 'risk_score']\n",
    "\n",
    "# Transformer will first calculate column median and impute, and then apply a standard scaler. \n",
    "numerical_transformer = Pipeline(steps = [\n",
    "    ('imputer', SimpleImputer(strategy = 'median')),\n",
    "    ('std_scaler', StandardScaler())])"
   ]
  },
  {
   "cell_type": "code",
   "execution_count": 498,
   "id": "740c60e7",
   "metadata": {},
   "outputs": [],
   "source": [
    "# List of categorical features.\n",
    "categorical_features = list(flaura_iptw.select_dtypes(include = ['category']).columns)\n",
    "\n",
    "# One-hot-encode categorical features.\n",
    "categorical_transformer = OneHotEncoder(handle_unknown = 'ignore')"
   ]
  },
  {
   "cell_type": "code",
   "execution_count": 499,
   "id": "4f9ed1c9",
   "metadata": {},
   "outputs": [],
   "source": [
    "preprocessor = ColumnTransformer(\n",
    "    transformers = [\n",
    "        ('num', numerical_transformer, numerical_features),\n",
    "        ('cat', categorical_transformer, categorical_features)],\n",
    "    remainder = 'passthrough')"
   ]
  },
  {
   "cell_type": "code",
   "execution_count": 500,
   "id": "54ba46cb",
   "metadata": {},
   "outputs": [],
   "source": [
    "flaura_iptw_low = (\n",
    "    flaura_iptw\n",
    "    .query('risk_score <= @low_cutoff_fl'))\n",
    "\n",
    "flaura_iptw_med = (\n",
    "    flaura_iptw\n",
    "    .query('risk_score < @high_cutoff_fl and risk_score > @low_cutoff_fl'))\n",
    "\n",
    "flaura_iptw_high = (\n",
    "    flaura_iptw\n",
    "    .query('risk_score >= @high_cutoff_fl'))\n",
    "\n",
    "flaura_iptw_all = flaura_iptw"
   ]
  },
  {
   "cell_type": "code",
   "execution_count": 501,
   "id": "56933d2b",
   "metadata": {},
   "outputs": [],
   "source": [
    "flaura_low_x = preprocessor.fit_transform(flaura_iptw_low.filter(items = ['age',\n",
    "                                                                          'gender',\n",
    "                                                                          'race',\n",
    "                                                                          'PracticeType',\n",
    "                                                                          'met_cat',\n",
    "                                                                          'delta_adv_diagnosis',\n",
    "                                                                          'commercial',\n",
    "                                                                          'medicare',\n",
    "                                                                          'medicaid',\n",
    "                                                                          'ecog_2', \n",
    "                                                                          'albumin_diag',\n",
    "                                                                          'weight_pct_change',\n",
    "                                                                          'risk_score']))\n",
    "\n",
    "flaura_med_x = preprocessor.fit_transform(flaura_iptw_med.filter(items = ['age',\n",
    "                                                                          'gender',\n",
    "                                                                          'race',\n",
    "                                                                          'PracticeType',\n",
    "                                                                          'met_cat',\n",
    "                                                                          'delta_adv_diagnosis',\n",
    "                                                                          'commercial',\n",
    "                                                                          'medicare',\n",
    "                                                                          'medicaid',\n",
    "                                                                          'ecog_2', \n",
    "                                                                          'albumin_diag',\n",
    "                                                                          'weight_pct_change',\n",
    "                                                                          'risk_score']))\n",
    "\n",
    "flaura_high_x = preprocessor.fit_transform(flaura_iptw_high.filter(items = ['age',\n",
    "                                                                            'gender',\n",
    "                                                                            'race',\n",
    "                                                                            'PracticeType',\n",
    "                                                                            'met_cat',\n",
    "                                                                            'delta_adv_diagnosis',\n",
    "                                                                            'commercial',\n",
    "                                                                            'medicare',\n",
    "                                                                            'medicaid',\n",
    "                                                                            'ecog_2', \n",
    "                                                                            'albumin_diag',\n",
    "                                                                            'weight_pct_change',\n",
    "                                                                            'risk_score']))\n",
    "\n",
    "flaura_all_x = preprocessor.fit_transform(flaura_iptw_all.filter(items = ['age',\n",
    "                                                                          'gender',\n",
    "                                                                          'race',\n",
    "                                                                          'PracticeType',\n",
    "                                                                          'met_cat',\n",
    "                                                                          'delta_adv_diagnosis',\n",
    "                                                                          'commercial',\n",
    "                                                                          'medicare',\n",
    "                                                                          'medicaid',\n",
    "                                                                          'ecog_2', \n",
    "                                                                          'albumin_diag',\n",
    "                                                                          'weight_pct_change',\n",
    "                                                                          'risk_score']))"
   ]
  },
  {
   "cell_type": "code",
   "execution_count": 502,
   "id": "f7c2ebaf",
   "metadata": {},
   "outputs": [
    {
     "data": {
      "text/plain": [
       "LogisticRegression(max_iter=1000)"
      ]
     },
     "execution_count": 502,
     "metadata": {},
     "output_type": "execute_result"
    }
   ],
   "source": [
    "lr_flaura_low = LogisticRegression(max_iter = 1000)\n",
    "lr_flaura_low.fit(flaura_low_x, flaura_iptw_low['osim'])"
   ]
  },
  {
   "cell_type": "code",
   "execution_count": 503,
   "id": "62cdf99d",
   "metadata": {},
   "outputs": [
    {
     "data": {
      "text/plain": [
       "LogisticRegression(max_iter=1000)"
      ]
     },
     "execution_count": 503,
     "metadata": {},
     "output_type": "execute_result"
    }
   ],
   "source": [
    "lr_flaura_med = LogisticRegression(max_iter = 1000)\n",
    "lr_flaura_med.fit(flaura_med_x, flaura_iptw_med['osim'])"
   ]
  },
  {
   "cell_type": "code",
   "execution_count": 504,
   "id": "94834cd5",
   "metadata": {},
   "outputs": [
    {
     "data": {
      "text/plain": [
       "LogisticRegression(max_iter=1000)"
      ]
     },
     "execution_count": 504,
     "metadata": {},
     "output_type": "execute_result"
    }
   ],
   "source": [
    "lr_flaura_high = LogisticRegression(max_iter = 1000)\n",
    "lr_flaura_high.fit(flaura_high_x, flaura_iptw_high['osim'])"
   ]
  },
  {
   "cell_type": "code",
   "execution_count": 505,
   "id": "c76893d3",
   "metadata": {},
   "outputs": [
    {
     "data": {
      "text/plain": [
       "LogisticRegression(max_iter=1000)"
      ]
     },
     "execution_count": 505,
     "metadata": {},
     "output_type": "execute_result"
    }
   ],
   "source": [
    "lr_flaura_all = LogisticRegression(max_iter = 1000)\n",
    "lr_flaura_all.fit(flaura_all_x, flaura_iptw_all['osim'])"
   ]
  },
  {
   "cell_type": "code",
   "execution_count": 506,
   "id": "0913fe27",
   "metadata": {},
   "outputs": [],
   "source": [
    "pred_low = lr_flaura_low.predict_proba(flaura_low_x)\n",
    "pred_med = lr_flaura_med.predict_proba(flaura_med_x)\n",
    "pred_high = lr_flaura_high.predict_proba(flaura_high_x)\n",
    "pred_all = lr_flaura_all.predict_proba(flaura_all_x)"
   ]
  },
  {
   "cell_type": "code",
   "execution_count": 507,
   "id": "4a3bca5c",
   "metadata": {},
   "outputs": [],
   "source": [
    "flaura_iptw_low['ps'] = pred_low[:, 1]\n",
    "flaura_iptw_med['ps'] = pred_med[:, 1]\n",
    "flaura_iptw_high['ps'] = pred_high[:, 1]\n",
    "flaura_iptw_all['ps'] = pred_all[:, 1]"
   ]
  },
  {
   "cell_type": "code",
   "execution_count": 508,
   "id": "aa0e3ecf",
   "metadata": {},
   "outputs": [],
   "source": [
    "flaura_iptw_low['weight'] = (\n",
    "    np.where(flaura_iptw_low['osim'] == 1, 1/flaura_iptw_low['ps'], 1/(1 - flaura_iptw_low['ps'])))\n",
    "\n",
    "flaura_iptw_med['weight'] = (\n",
    "    np.where(flaura_iptw_med['osim'] == 1, 1/flaura_iptw_med['ps'], 1/(1 - flaura_iptw_med['ps'])))\n",
    "\n",
    "flaura_iptw_high['weight'] = (\n",
    "    np.where(flaura_iptw_high['osim'] == 1, 1/flaura_iptw_high['ps'], 1/(1 - flaura_iptw_high['ps'])))\n",
    "\n",
    "flaura_iptw_all['weight'] = (\n",
    "    np.where(flaura_iptw_all['osim'] == 1, 1/flaura_iptw_all['ps'], 1/(1 - flaura_iptw_all['ps'])))"
   ]
  },
  {
   "cell_type": "code",
   "execution_count": 509,
   "id": "51aff1a5",
   "metadata": {},
   "outputs": [
    {
     "data": {
      "text/plain": [
       "<lifelines.KaplanMeierFitter:\"KM_estimate\", fitted with 2700.42 total observations, 416.461 right-censored observations>"
      ]
     },
     "execution_count": 509,
     "metadata": {},
     "output_type": "execute_result"
    }
   ],
   "source": [
    "# Low KM curves\n",
    "kmf_low_osim_flaura_iptw_pfs = KaplanMeierFitter()\n",
    "kmf_low_gefer_flaura_iptw_pfs = KaplanMeierFitter()\n",
    "\n",
    "kmf_low_osim_flaura_iptw_pfs.fit(\n",
    "    flaura_iptw_low.query('osim == 1').time_prog_treatment/30,\n",
    "    flaura_iptw_low.query('osim == 1').pfs_status,\n",
    "    weights = flaura_iptw_low.query('osim == 1')['weight'])\n",
    "\n",
    "kmf_low_gefer_flaura_iptw_pfs.fit(\n",
    "    flaura_iptw_low.query('osim == 0').time_prog_treatment/30,\n",
    "    flaura_iptw_low.query('osim == 0').pfs_status,\n",
    "    weights = flaura_iptw_low.query('osim == 0')['weight'])\n",
    "\n",
    "# Med KM curves\n",
    "kmf_med_osim_flaura_iptw_pfs = KaplanMeierFitter()\n",
    "kmf_med_gefer_flaura_iptw_pfs = KaplanMeierFitter()\n",
    "\n",
    "kmf_med_osim_flaura_iptw_pfs.fit(\n",
    "    flaura_iptw_med.query('osim == 1').time_prog_treatment/30,\n",
    "    flaura_iptw_med.query('osim == 1').pfs_status,\n",
    "    weights = flaura_iptw_med.query('osim == 1')['weight'])\n",
    "\n",
    "kmf_med_gefer_flaura_iptw_pfs.fit(\n",
    "    flaura_iptw_med.query('osim == 0').time_prog_treatment/30,\n",
    "    flaura_iptw_med.query('osim == 0').pfs_status,\n",
    "    weights = flaura_iptw_med.query('osim == 0')['weight'])\n",
    "\n",
    "# High KM curves \n",
    "kmf_high_osim_flaura_iptw_pfs = KaplanMeierFitter()\n",
    "kmf_high_gefer_flaura_iptw_pfs = KaplanMeierFitter()\n",
    "\n",
    "kmf_high_osim_flaura_iptw_pfs.fit(\n",
    "    flaura_iptw_high.query('osim == 1').time_prog_treatment/30,\n",
    "    flaura_iptw_high.query('osim == 1').pfs_status,\n",
    "    weights = flaura_iptw_high.query('osim == 1')['weight'])\n",
    "\n",
    "kmf_high_gefer_flaura_iptw_pfs.fit(\n",
    "    flaura_iptw_high.query('osim == 0').time_prog_treatment/30,\n",
    "    flaura_iptw_high.query('osim == 0').pfs_status,\n",
    "    weights = flaura_iptw_high.query('osim == 0')['weight'])\n",
    "\n",
    "# All KM curves \n",
    "kmf_all_osim_flaura_iptw_pfs = KaplanMeierFitter()\n",
    "kmf_all_gefer_flaura_iptw_pfs = KaplanMeierFitter()\n",
    "\n",
    "kmf_all_osim_flaura_iptw_pfs.fit(\n",
    "    flaura_iptw_all.query('osim == 1').time_prog_treatment/30,\n",
    "    flaura_iptw_all.query('osim == 1').pfs_status,\n",
    "    weights = flaura_iptw_all.query('osim == 1')['weight'])\n",
    "\n",
    "kmf_all_gefer_flaura_iptw_pfs.fit(\n",
    "    flaura_iptw_all.query('osim == 0').time_prog_treatment/30,\n",
    "    flaura_iptw_all.query('osim == 0').pfs_status,\n",
    "    weights = flaura_iptw_all.query('osim == 0')['weight'])"
   ]
  },
  {
   "cell_type": "markdown",
   "id": "7c3b6c95",
   "metadata": {},
   "source": [
    "#### Calculate survival metrics "
   ]
  },
  {
   "cell_type": "code",
   "execution_count": 510,
   "id": "b59cdfee",
   "metadata": {},
   "outputs": [],
   "source": [
    "osim_flaura_median_pfs = mos(kmf_low_osim_flaura_iptw_pfs,\n",
    "                             kmf_med_osim_flaura_iptw_pfs,\n",
    "                             kmf_high_osim_flaura_iptw_pfs,\n",
    "                             kmf_all_osim_flaura_iptw_pfs)\n",
    "\n",
    "gefer_flaura_median_pfs = mos(kmf_low_gefer_flaura_iptw_pfs,\n",
    "                              kmf_med_gefer_flaura_iptw_pfs,\n",
    "                              kmf_high_gefer_flaura_iptw_pfs,\n",
    "                              kmf_all_gefer_flaura_iptw_pfs)"
   ]
  },
  {
   "cell_type": "code",
   "execution_count": 511,
   "id": "4f776bfb",
   "metadata": {},
   "outputs": [],
   "source": [
    "flaura_iptw_all_imputed = flaura_iptw_all.copy()\n",
    "flaura_iptw_all_imputed['albumin_diag'] = flaura_iptw_all_imputed['albumin_diag'].fillna(flaura_iptw_all_imputed['albumin_diag'].median())\n",
    "flaura_iptw_all_imputed['weight_pct_change'] = flaura_iptw_all_imputed['weight_pct_change'].fillna(flaura_iptw_all_imputed['weight_pct_change'].median())"
   ]
  },
  {
   "cell_type": "code",
   "execution_count": 512,
   "id": "ba9e2ccd",
   "metadata": {},
   "outputs": [
    {
     "data": {
      "text/plain": [
       "<lifelines.CoxPHFitter: fitted with 5296.8 total observations, 1262.85 right-censored observations>"
      ]
     },
     "execution_count": 512,
     "metadata": {},
     "output_type": "execute_result"
    }
   ],
   "source": [
    "flaura_hr_all = CoxPHFitter()\n",
    "flaura_hr_all.fit(flaura_iptw_all_imputed,\n",
    "                  duration_col = 'time_prog_treatment',\n",
    "                  event_col = 'pfs_status',\n",
    "                  formula = 'osim + age + gender + race + PracticeType + met_cat + delta_adv_diagnosis + commercial + medicare + medicaid + ecog_2 + albumin_diag + weight_pct_change + risk_score',\n",
    "                  weights_col = 'weight',\n",
    "                  robust = True)"
   ]
  },
  {
   "cell_type": "code",
   "execution_count": 513,
   "id": "712a6398",
   "metadata": {},
   "outputs": [],
   "source": [
    "flaura_all_rmst_mos_95 = rmst_mos_95ci(flaura_iptw_all,\n",
    "                                       1000,\n",
    "                                       'osim',\n",
    "                                       'progression',\n",
    "                                       ['age',\n",
    "                                        'gender',\n",
    "                                        'race',\n",
    "                                        'PracticeType',\n",
    "                                        'met_cat',\n",
    "                                        'delta_adv_diagnosis',\n",
    "                                        'commercial',\n",
    "                                        'medicare',\n",
    "                                        'medicaid',\n",
    "                                        'ecog_2', \n",
    "                                        'albumin_diag',\n",
    "                                        'weight_pct_change',\n",
    "                                        'risk_score'],\n",
    "                                       ['age', 'delta_adv_diagnosis', 'albumin_diag', 'weight_pct_change', 'risk_score'],\n",
    "                                       36)"
   ]
  },
  {
   "cell_type": "code",
   "execution_count": 514,
   "id": "dc22fd4f",
   "metadata": {},
   "outputs": [],
   "source": [
    "flaura_low_rmst_mos_95 = rmst_mos_95ci(flaura_iptw_low,\n",
    "                                       1000,\n",
    "                                       'osim',\n",
    "                                       'progression',\n",
    "                                       ['age',\n",
    "                                        'gender',\n",
    "                                        'race',\n",
    "                                        'PracticeType',\n",
    "                                        'met_cat',\n",
    "                                        'delta_adv_diagnosis',\n",
    "                                        'commercial',\n",
    "                                        'medicare',\n",
    "                                        'medicaid',\n",
    "                                        'ecog_2', \n",
    "                                        'albumin_diag',\n",
    "                                        'weight_pct_change',\n",
    "                                        'risk_score'],\n",
    "                                       ['age', 'delta_adv_diagnosis', 'albumin_diag', 'weight_pct_change', 'risk_score'],\n",
    "                                       36)"
   ]
  },
  {
   "cell_type": "code",
   "execution_count": 515,
   "id": "8d79d69d",
   "metadata": {},
   "outputs": [],
   "source": [
    "flaura_med_rmst_mos_95 = rmst_mos_95ci(flaura_iptw_med,\n",
    "                                       1000,\n",
    "                                       'osim',\n",
    "                                       'progression',\n",
    "                                       ['age',\n",
    "                                        'gender',\n",
    "                                        'race',\n",
    "                                        'PracticeType',\n",
    "                                        'met_cat',\n",
    "                                        'delta_adv_diagnosis',\n",
    "                                        'commercial',\n",
    "                                        'medicare',\n",
    "                                        'medicaid',\n",
    "                                        'ecog_2', \n",
    "                                        'albumin_diag',\n",
    "                                        'weight_pct_change',\n",
    "                                        'risk_score'],\n",
    "                                       ['age', 'delta_adv_diagnosis', 'albumin_diag', 'weight_pct_change', 'risk_score'],\n",
    "                                       36)"
   ]
  },
  {
   "cell_type": "code",
   "execution_count": 516,
   "id": "f3a13e8d",
   "metadata": {},
   "outputs": [],
   "source": [
    "flaura_high_rmst_mos_95 = rmst_mos_95ci(flaura_iptw_high,\n",
    "                                        1000,\n",
    "                                        'osim',\n",
    "                                        'progression',\n",
    "                                        ['age',\n",
    "                                         'gender',\n",
    "                                         'race',\n",
    "                                         'PracticeType',\n",
    "                                         'met_cat',\n",
    "                                         'delta_adv_diagnosis',\n",
    "                                         'commercial',\n",
    "                                         'medicare',\n",
    "                                         'medicaid',\n",
    "                                         'ecog_2', \n",
    "                                         'albumin_diag',\n",
    "                                         'weight_pct_change',\n",
    "                                         'risk_score'],\n",
    "                                        ['age', 'delta_adv_diagnosis', 'albumin_diag', 'weight_pct_change', 'risk_score'],\n",
    "                                        36)"
   ]
  },
  {
   "cell_type": "code",
   "execution_count": 517,
   "id": "9c4f9c85",
   "metadata": {},
   "outputs": [],
   "source": [
    "flaura_data = [\n",
    "    {'trial_name': 'FLAURA', \n",
    "     'risk_group': 'low', \n",
    "     's_trt_mos': osim_flaura_median_pfs[0],\n",
    "     's_trt_mos_95': flaura_low_rmst_mos_95.mos_A_95,\n",
    "     's_cont_mos': gefer_flaura_median_pfs[0],\n",
    "     's_cont_mos_95': flaura_low_rmst_mos_95.mos_B_95,\n",
    "     's_mos_diff': osim_flaura_median_pfs[0] - gefer_flaura_median_pfs[0], \n",
    "     'rct_trt_arm': 18.9, \n",
    "     'rct_cont_arm': 10.2,\n",
    "     'rct_mos_diff': 18.9-10.2,\n",
    "     's_trt_rmst': restricted_mean_survival_time(kmf_low_osim_flaura_iptw_pfs, 36),\n",
    "     's_trt_rmst_95': flaura_low_rmst_mos_95.rmst_A_95,\n",
    "     's_cont_rmst': restricted_mean_survival_time(kmf_low_gefer_flaura_iptw_pfs, 36),\n",
    "     's_cont_rmst_95': flaura_low_rmst_mos_95.rmst_B_95,\n",
    "     's_diff_rmst': restricted_mean_survival_time(kmf_low_osim_flaura_iptw_pfs, 36) - restricted_mean_survival_time(kmf_low_gefer_flaura_iptw_pfs, 36),\n",
    "     's_diff_rmst_95': flaura_low_rmst_mos_95.difference_rmst_95,\n",
    "     'scount': flaura.query('risk_score <= @low_cutoff_fl').shape[0]},\n",
    "    \n",
    "    {'trial_name': 'FLAURA', \n",
    "     'risk_group': 'medium', \n",
    "     's_trt_mos': osim_flaura_median_pfs[1],\n",
    "     's_trt_mos_95': flaura_med_rmst_mos_95.mos_A_95,\n",
    "     's_cont_mos': gefer_flaura_median_pfs[1],\n",
    "     's_cont_mos_95': flaura_med_rmst_mos_95.mos_B_95,\n",
    "     's_mos_diff': osim_flaura_median_pfs[1] - gefer_flaura_median_pfs[1], \n",
    "     'rct_trt_arm': 18.9, \n",
    "     'rct_cont_arm': 10.2,\n",
    "     'rct_mos_diff': 18.9-10.2,\n",
    "     's_trt_rmst': restricted_mean_survival_time(kmf_med_osim_flaura_iptw_pfs, 36),\n",
    "     's_trt_rmst_95': flaura_med_rmst_mos_95.rmst_A_95,\n",
    "     's_cont_rmst': restricted_mean_survival_time(kmf_med_gefer_flaura_iptw_pfs, 36),\n",
    "     's_cont_rmst_95': flaura_med_rmst_mos_95.rmst_B_95,\n",
    "     's_diff_rmst': restricted_mean_survival_time(kmf_med_osim_flaura_iptw_pfs, 36) - restricted_mean_survival_time(kmf_med_gefer_flaura_iptw_pfs, 36),\n",
    "     's_diff_rmst_95': flaura_med_rmst_mos_95.difference_rmst_95,\n",
    "     'scount': flaura.query('risk_score < @high_cutoff_fl and risk_score > @low_cutoff_fl').shape[0]},\n",
    "    \n",
    "    {'trial_name': 'FLAURA', \n",
    "     'risk_group': 'high', \n",
    "     's_trt_mos': osim_flaura_median_pfs[2],\n",
    "     's_trt_mos_95': flaura_high_rmst_mos_95.mos_A_95,\n",
    "     's_cont_mos': gefer_flaura_median_pfs[2],\n",
    "     's_cont_mos_95': flaura_high_rmst_mos_95.mos_B_95,\n",
    "     's_mos_diff': osim_flaura_median_pfs[2] - gefer_flaura_median_pfs[2], \n",
    "     'rct_trt_arm': 18.9, \n",
    "     'rct_cont_arm': 10.2,\n",
    "     'rct_mos_diff': 18.9-10.2,\n",
    "     's_trt_rmst': restricted_mean_survival_time(kmf_high_osim_flaura_iptw_pfs, 36),\n",
    "     's_trt_rmst_95': flaura_high_rmst_mos_95.rmst_A_95,\n",
    "     's_cont_rmst': restricted_mean_survival_time(kmf_high_gefer_flaura_iptw_pfs, 36),\n",
    "     's_cont_rmst_95': flaura_high_rmst_mos_95.rmst_B_95,\n",
    "     's_diff_rmst': restricted_mean_survival_time(kmf_high_osim_flaura_iptw_pfs, 36) - restricted_mean_survival_time(kmf_high_gefer_flaura_iptw_pfs, 36),\n",
    "     's_diff_rmst_95': flaura_high_rmst_mos_95.difference_rmst_95,\n",
    "     'scount': flaura.query('risk_score >= @high_cutoff_fl').shape[0]},\n",
    "    \n",
    "    {'trial_name': 'FLAURA', \n",
    "     'risk_group': 'all', \n",
    "     's_hr': flaura_hr_all.hazard_ratios_['osim'],\n",
    "     's_hr_95': [flaura_hr_all.summary.loc['osim']['exp(coef) lower 95%'], flaura_hr_all.summary.loc['osim']['exp(coef) upper 95%']],\n",
    "     's_trt_mos': osim_flaura_median_pfs[3],\n",
    "     's_trt_mos_95': flaura_all_rmst_mos_95.mos_A_95,\n",
    "     's_cont_mos': gefer_flaura_median_pfs[3],\n",
    "     's_cont_mos_95': flaura_all_rmst_mos_95.mos_B_95,\n",
    "     's_mos_diff': osim_flaura_median_pfs[3] - gefer_flaura_median_pfs[3], \n",
    "     'rct_trt_arm': 18.9, \n",
    "     'rct_cont_arm': 10.2,\n",
    "     'rct_mos_diff': 18.9-10.2,\n",
    "     'scount': flaura.shape[0]}\n",
    "]"
   ]
  },
  {
   "cell_type": "markdown",
   "id": "f85ddc1a",
   "metadata": {},
   "source": [
    "## Part 3. Combining dictionaries"
   ]
  },
  {
   "cell_type": "code",
   "execution_count": 518,
   "id": "4b1cd244",
   "metadata": {},
   "outputs": [],
   "source": [
    "data_combined = keynote_042_data + keynote_024_data + keynote_189_data + check_data + flaura_data"
   ]
  },
  {
   "cell_type": "code",
   "execution_count": 519,
   "id": "f1b994c9",
   "metadata": {},
   "outputs": [],
   "source": [
    "strials_mos_rmst_boot = pd.DataFrame(data_combined)"
   ]
  },
  {
   "cell_type": "code",
   "execution_count": 520,
   "id": "6dd1f8a3",
   "metadata": {
    "scrolled": true
   },
   "outputs": [
    {
     "data": {
      "text/html": [
       "<div>\n",
       "<style scoped>\n",
       "    .dataframe tbody tr th:only-of-type {\n",
       "        vertical-align: middle;\n",
       "    }\n",
       "\n",
       "    .dataframe tbody tr th {\n",
       "        vertical-align: top;\n",
       "    }\n",
       "\n",
       "    .dataframe thead th {\n",
       "        text-align: right;\n",
       "    }\n",
       "</style>\n",
       "<table border=\"1\" class=\"dataframe\">\n",
       "  <thead>\n",
       "    <tr style=\"text-align: right;\">\n",
       "      <th></th>\n",
       "      <th>trial_name</th>\n",
       "      <th>risk_group</th>\n",
       "      <th>s_trt_mos</th>\n",
       "      <th>s_trt_mos_95</th>\n",
       "      <th>s_cont_mos</th>\n",
       "      <th>s_cont_mos_95</th>\n",
       "      <th>s_mos_diff</th>\n",
       "      <th>rct_trt_arm</th>\n",
       "      <th>rct_cont_arm</th>\n",
       "      <th>rct_mos_diff</th>\n",
       "      <th>s_trt_rmst</th>\n",
       "      <th>s_trt_rmst_95</th>\n",
       "      <th>s_cont_rmst</th>\n",
       "      <th>s_cont_rmst_95</th>\n",
       "      <th>s_diff_rmst</th>\n",
       "      <th>s_diff_rmst_95</th>\n",
       "      <th>scount</th>\n",
       "      <th>s_hr</th>\n",
       "      <th>s_hr_95</th>\n",
       "    </tr>\n",
       "  </thead>\n",
       "  <tbody>\n",
       "    <tr>\n",
       "      <th>0</th>\n",
       "      <td>KEYNOTE-042</td>\n",
       "      <td>low</td>\n",
       "      <td>25.666667</td>\n",
       "      <td>[20.399166666666666, 31.333333333333332]</td>\n",
       "      <td>26.333333</td>\n",
       "      <td>[23.030833333333334, 32.0]</td>\n",
       "      <td>-0.666667</td>\n",
       "      <td>16.7</td>\n",
       "      <td>12.1</td>\n",
       "      <td>4.6</td>\n",
       "      <td>22.804925</td>\n",
       "      <td>[21.15009571576442, 24.374985415059662]</td>\n",
       "      <td>23.947788</td>\n",
       "      <td>[22.39097263195355, 25.29163534803153]</td>\n",
       "      <td>-1.142864</td>\n",
       "      <td>[-3.2634503621334545, 1.058860639374799]</td>\n",
       "      <td>1498</td>\n",
       "      <td>NaN</td>\n",
       "      <td>NaN</td>\n",
       "    </tr>\n",
       "    <tr>\n",
       "      <th>1</th>\n",
       "      <td>KEYNOTE-042</td>\n",
       "      <td>medium</td>\n",
       "      <td>20.066667</td>\n",
       "      <td>[14.266666666666667, 23.901666666666664]</td>\n",
       "      <td>15.333333</td>\n",
       "      <td>[14.233333333333333, 17.633333333333333]</td>\n",
       "      <td>4.733333</td>\n",
       "      <td>16.7</td>\n",
       "      <td>12.1</td>\n",
       "      <td>4.6</td>\n",
       "      <td>19.955144</td>\n",
       "      <td>[18.185066650155633, 21.82123783695513]</td>\n",
       "      <td>18.335140</td>\n",
       "      <td>[17.05531462451536, 19.733829491306302]</td>\n",
       "      <td>1.620004</td>\n",
       "      <td>[-0.5590386517538245, 3.876899830902065]</td>\n",
       "      <td>1304</td>\n",
       "      <td>NaN</td>\n",
       "      <td>NaN</td>\n",
       "    </tr>\n",
       "    <tr>\n",
       "      <th>2</th>\n",
       "      <td>KEYNOTE-042</td>\n",
       "      <td>high</td>\n",
       "      <td>5.033333</td>\n",
       "      <td>[3.966666666666667, 7.133333333333334]</td>\n",
       "      <td>6.366667</td>\n",
       "      <td>[5.2, 8.0]</td>\n",
       "      <td>-1.333333</td>\n",
       "      <td>16.7</td>\n",
       "      <td>12.1</td>\n",
       "      <td>4.6</td>\n",
       "      <td>11.765965</td>\n",
       "      <td>[10.289605815068583, 13.213814186296789]</td>\n",
       "      <td>11.027729</td>\n",
       "      <td>[9.577650025489794, 12.485302319352973]</td>\n",
       "      <td>0.738236</td>\n",
       "      <td>[-1.3127516556938899, 2.8256016916523032]</td>\n",
       "      <td>925</td>\n",
       "      <td>NaN</td>\n",
       "      <td>NaN</td>\n",
       "    </tr>\n",
       "    <tr>\n",
       "      <th>3</th>\n",
       "      <td>KEYNOTE-042</td>\n",
       "      <td>all</td>\n",
       "      <td>17.733333</td>\n",
       "      <td>[15.495833333333334, 20.366666666666667]</td>\n",
       "      <td>15.000000</td>\n",
       "      <td>[10.999166666666667, 17.0]</td>\n",
       "      <td>2.733333</td>\n",
       "      <td>16.7</td>\n",
       "      <td>12.1</td>\n",
       "      <td>4.6</td>\n",
       "      <td>NaN</td>\n",
       "      <td>NaN</td>\n",
       "      <td>NaN</td>\n",
       "      <td>NaN</td>\n",
       "      <td>NaN</td>\n",
       "      <td>NaN</td>\n",
       "      <td>3727</td>\n",
       "      <td>0.882152</td>\n",
       "      <td>[0.7840489735613151, 0.9925296092856004]</td>\n",
       "    </tr>\n",
       "    <tr>\n",
       "      <th>4</th>\n",
       "      <td>KEYNOTE-024</td>\n",
       "      <td>low</td>\n",
       "      <td>9.600000</td>\n",
       "      <td>[8.131666666666666, 12.866666666666667]</td>\n",
       "      <td>8.800000</td>\n",
       "      <td>[6.133333333333334, 13.533333333333333]</td>\n",
       "      <td>0.800000</td>\n",
       "      <td>10.3</td>\n",
       "      <td>6.0</td>\n",
       "      <td>4.3</td>\n",
       "      <td>10.340478</td>\n",
       "      <td>[9.672921996527739, 11.085497715485708]</td>\n",
       "      <td>9.720394</td>\n",
       "      <td>[8.250485129287448, 11.342706831360267]</td>\n",
       "      <td>0.620084</td>\n",
       "      <td>[-1.1976751871761009, 2.310585990613227]</td>\n",
       "      <td>533</td>\n",
       "      <td>NaN</td>\n",
       "      <td>NaN</td>\n",
       "    </tr>\n",
       "    <tr>\n",
       "      <th>5</th>\n",
       "      <td>KEYNOTE-024</td>\n",
       "      <td>medium</td>\n",
       "      <td>5.433333</td>\n",
       "      <td>[3.966666666666667, 6.8]</td>\n",
       "      <td>5.933333</td>\n",
       "      <td>[4.266666666666667, 7.868333333333331]</td>\n",
       "      <td>-0.500000</td>\n",
       "      <td>10.3</td>\n",
       "      <td>6.0</td>\n",
       "      <td>4.3</td>\n",
       "      <td>7.754938</td>\n",
       "      <td>[7.094701755379255, 8.417592729327138]</td>\n",
       "      <td>8.125335</td>\n",
       "      <td>[6.498564385723091, 9.771670223218822]</td>\n",
       "      <td>-0.370397</td>\n",
       "      <td>[-2.1535170734950584, 1.4276673606024326]</td>\n",
       "      <td>478</td>\n",
       "      <td>NaN</td>\n",
       "      <td>NaN</td>\n",
       "    </tr>\n",
       "    <tr>\n",
       "      <th>6</th>\n",
       "      <td>KEYNOTE-024</td>\n",
       "      <td>high</td>\n",
       "      <td>2.166667</td>\n",
       "      <td>[1.6666666666666667, 2.6666666666666665]</td>\n",
       "      <td>2.733333</td>\n",
       "      <td>[1.7, 3.966666666666667]</td>\n",
       "      <td>-0.566667</td>\n",
       "      <td>10.3</td>\n",
       "      <td>6.0</td>\n",
       "      <td>4.3</td>\n",
       "      <td>4.924184</td>\n",
       "      <td>[4.100860986665681, 5.847181570133066]</td>\n",
       "      <td>4.526616</td>\n",
       "      <td>[3.249954077479059, 5.943830606846119]</td>\n",
       "      <td>0.397569</td>\n",
       "      <td>[-1.2660116016826817, 1.9673183622945305]</td>\n",
       "      <td>319</td>\n",
       "      <td>NaN</td>\n",
       "      <td>NaN</td>\n",
       "    </tr>\n",
       "    <tr>\n",
       "      <th>7</th>\n",
       "      <td>KEYNOTE-024</td>\n",
       "      <td>all</td>\n",
       "      <td>5.566667</td>\n",
       "      <td>[4.833333333333333, 6.266666666666667]</td>\n",
       "      <td>5.933333</td>\n",
       "      <td>[4.6, 7.366666666666666]</td>\n",
       "      <td>-0.366667</td>\n",
       "      <td>10.3</td>\n",
       "      <td>6.0</td>\n",
       "      <td>4.3</td>\n",
       "      <td>NaN</td>\n",
       "      <td>NaN</td>\n",
       "      <td>NaN</td>\n",
       "      <td>NaN</td>\n",
       "      <td>NaN</td>\n",
       "      <td>NaN</td>\n",
       "      <td>1330</td>\n",
       "      <td>0.957244</td>\n",
       "      <td>[0.8190678687865103, 1.118731499674572]</td>\n",
       "    </tr>\n",
       "    <tr>\n",
       "      <th>8</th>\n",
       "      <td>KEYNOTE-189</td>\n",
       "      <td>low</td>\n",
       "      <td>27.066667</td>\n",
       "      <td>[22.933333333333334, 31.1]</td>\n",
       "      <td>22.100000</td>\n",
       "      <td>[20.866666666666667, 22.966666666666665]</td>\n",
       "      <td>4.966667</td>\n",
       "      <td>22.0</td>\n",
       "      <td>10.6</td>\n",
       "      <td>11.4</td>\n",
       "      <td>23.789954</td>\n",
       "      <td>[22.687519216426253, 24.950273463133705]</td>\n",
       "      <td>22.080383</td>\n",
       "      <td>[21.672311511379686, 22.455459029406676]</td>\n",
       "      <td>1.709571</td>\n",
       "      <td>[0.5558566503819004, 2.9280653088569872]</td>\n",
       "      <td>5717</td>\n",
       "      <td>NaN</td>\n",
       "      <td>NaN</td>\n",
       "    </tr>\n",
       "    <tr>\n",
       "      <th>9</th>\n",
       "      <td>KEYNOTE-189</td>\n",
       "      <td>medium</td>\n",
       "      <td>12.400000</td>\n",
       "      <td>[10.366666666666667, 13.866666666666667]</td>\n",
       "      <td>11.300000</td>\n",
       "      <td>[10.6, 11.934166666666666]</td>\n",
       "      <td>1.100000</td>\n",
       "      <td>22.0</td>\n",
       "      <td>10.6</td>\n",
       "      <td>11.4</td>\n",
       "      <td>16.076878</td>\n",
       "      <td>[14.783314306364062, 17.26092190151365]</td>\n",
       "      <td>15.488129</td>\n",
       "      <td>[14.974468438878093, 15.985396462885008]</td>\n",
       "      <td>0.588749</td>\n",
       "      <td>[-0.7933309154756211, 1.840567089043534]</td>\n",
       "      <td>4601</td>\n",
       "      <td>NaN</td>\n",
       "      <td>NaN</td>\n",
       "    </tr>\n",
       "    <tr>\n",
       "      <th>10</th>\n",
       "      <td>KEYNOTE-189</td>\n",
       "      <td>high</td>\n",
       "      <td>5.000000</td>\n",
       "      <td>[4.233333333333333, 6.266666666666667]</td>\n",
       "      <td>5.033333</td>\n",
       "      <td>[4.6, 5.333333333333333]</td>\n",
       "      <td>-0.033333</td>\n",
       "      <td>22.0</td>\n",
       "      <td>10.6</td>\n",
       "      <td>11.4</td>\n",
       "      <td>10.299316</td>\n",
       "      <td>[8.845460542076413, 12.19617509896113]</td>\n",
       "      <td>8.568674</td>\n",
       "      <td>[8.070273898966128, 9.065668311455125]</td>\n",
       "      <td>1.730641</td>\n",
       "      <td>[0.18082301696075784, 3.6371015123659927]</td>\n",
       "      <td>3443</td>\n",
       "      <td>NaN</td>\n",
       "      <td>NaN</td>\n",
       "    </tr>\n",
       "    <tr>\n",
       "      <th>11</th>\n",
       "      <td>KEYNOTE-189</td>\n",
       "      <td>all</td>\n",
       "      <td>16.000000</td>\n",
       "      <td>[13.933333333333334, 17.669166666666666]</td>\n",
       "      <td>12.500000</td>\n",
       "      <td>[12.099166666666667, 13.066666666666666]</td>\n",
       "      <td>3.500000</td>\n",
       "      <td>22.0</td>\n",
       "      <td>10.6</td>\n",
       "      <td>11.4</td>\n",
       "      <td>NaN</td>\n",
       "      <td>NaN</td>\n",
       "      <td>NaN</td>\n",
       "      <td>NaN</td>\n",
       "      <td>NaN</td>\n",
       "      <td>NaN</td>\n",
       "      <td>13761</td>\n",
       "      <td>0.875736</td>\n",
       "      <td>[0.8059391321771588, 0.9515766479513406]</td>\n",
       "    </tr>\n",
       "    <tr>\n",
       "      <th>12</th>\n",
       "      <td>CHECKMATE-078</td>\n",
       "      <td>low</td>\n",
       "      <td>14.966667</td>\n",
       "      <td>[13.733333333333333, 16.473333333333326]</td>\n",
       "      <td>11.100000</td>\n",
       "      <td>[8.833333333333334, 13.466666666666667]</td>\n",
       "      <td>3.866667</td>\n",
       "      <td>11.9</td>\n",
       "      <td>9.5</td>\n",
       "      <td>2.4</td>\n",
       "      <td>18.086154</td>\n",
       "      <td>[17.242942957661146, 18.910882393997397]</td>\n",
       "      <td>15.653517</td>\n",
       "      <td>[13.099937767188898, 18.386119337506194]</td>\n",
       "      <td>2.432637</td>\n",
       "      <td>[-0.4725571020510589, 5.32147001117693]</td>\n",
       "      <td>1099</td>\n",
       "      <td>NaN</td>\n",
       "      <td>NaN</td>\n",
       "    </tr>\n",
       "    <tr>\n",
       "      <th>13</th>\n",
       "      <td>CHECKMATE-078</td>\n",
       "      <td>medium</td>\n",
       "      <td>10.633333</td>\n",
       "      <td>[9.366666666666667, 11.733333333333333]</td>\n",
       "      <td>7.233333</td>\n",
       "      <td>[4.266666666666667, 10.766666666666667]</td>\n",
       "      <td>3.400000</td>\n",
       "      <td>11.9</td>\n",
       "      <td>9.5</td>\n",
       "      <td>2.4</td>\n",
       "      <td>15.056079</td>\n",
       "      <td>[14.219223042411883, 15.92276529681793]</td>\n",
       "      <td>10.370566</td>\n",
       "      <td>[8.31754803894498, 12.340206428807216]</td>\n",
       "      <td>4.685513</td>\n",
       "      <td>[2.515516639691566, 6.867031095331087]</td>\n",
       "      <td>1069</td>\n",
       "      <td>NaN</td>\n",
       "      <td>NaN</td>\n",
       "    </tr>\n",
       "    <tr>\n",
       "      <th>14</th>\n",
       "      <td>CHECKMATE-078</td>\n",
       "      <td>high</td>\n",
       "      <td>6.000000</td>\n",
       "      <td>[5.266666666666667, 7.1]</td>\n",
       "      <td>6.200000</td>\n",
       "      <td>[3.4991666666666665, 8.2]</td>\n",
       "      <td>-0.200000</td>\n",
       "      <td>11.9</td>\n",
       "      <td>9.5</td>\n",
       "      <td>2.4</td>\n",
       "      <td>11.064844</td>\n",
       "      <td>[10.143290942926118, 11.98471133318236]</td>\n",
       "      <td>8.236787</td>\n",
       "      <td>[5.78283363772911, 10.882283672844485]</td>\n",
       "      <td>2.828057</td>\n",
       "      <td>[-0.09348426946575, 5.493204907713938]</td>\n",
       "      <td>877</td>\n",
       "      <td>NaN</td>\n",
       "      <td>NaN</td>\n",
       "    </tr>\n",
       "    <tr>\n",
       "      <th>15</th>\n",
       "      <td>CHECKMATE-078</td>\n",
       "      <td>all</td>\n",
       "      <td>10.433333</td>\n",
       "      <td>[9.7, 11.2]</td>\n",
       "      <td>8.833333</td>\n",
       "      <td>[6.733333333333333, 10.9675]</td>\n",
       "      <td>1.600000</td>\n",
       "      <td>11.9</td>\n",
       "      <td>9.5</td>\n",
       "      <td>2.4</td>\n",
       "      <td>NaN</td>\n",
       "      <td>NaN</td>\n",
       "      <td>NaN</td>\n",
       "      <td>NaN</td>\n",
       "      <td>NaN</td>\n",
       "      <td>NaN</td>\n",
       "      <td>3045</td>\n",
       "      <td>0.730848</td>\n",
       "      <td>[0.6361013259722385, 0.8397070953988448]</td>\n",
       "    </tr>\n",
       "    <tr>\n",
       "      <th>16</th>\n",
       "      <td>FLAURA</td>\n",
       "      <td>low</td>\n",
       "      <td>15.700000</td>\n",
       "      <td>[11.832500000000001, 17.966666666666665]</td>\n",
       "      <td>10.000000</td>\n",
       "      <td>[6.295833333333333, 12.737499999999995]</td>\n",
       "      <td>5.700000</td>\n",
       "      <td>18.9</td>\n",
       "      <td>10.2</td>\n",
       "      <td>8.7</td>\n",
       "      <td>17.918038</td>\n",
       "      <td>[15.651252760508928, 20.4138660696985]</td>\n",
       "      <td>14.310018</td>\n",
       "      <td>[11.652920463063902, 17.190366032747885]</td>\n",
       "      <td>3.608020</td>\n",
       "      <td>[0.24451332201709433, 7.193934845856998]</td>\n",
       "      <td>1028</td>\n",
       "      <td>NaN</td>\n",
       "      <td>NaN</td>\n",
       "    </tr>\n",
       "    <tr>\n",
       "      <th>17</th>\n",
       "      <td>FLAURA</td>\n",
       "      <td>medium</td>\n",
       "      <td>12.833333</td>\n",
       "      <td>[10.130833333333333, 17.266666666666666]</td>\n",
       "      <td>9.200000</td>\n",
       "      <td>[7.733333333333333, 10.804166666666664]</td>\n",
       "      <td>3.633333</td>\n",
       "      <td>18.9</td>\n",
       "      <td>10.2</td>\n",
       "      <td>8.7</td>\n",
       "      <td>16.179916</td>\n",
       "      <td>[13.242893469282714, 19.573923609942838]</td>\n",
       "      <td>12.868815</td>\n",
       "      <td>[11.446174003349181, 14.379762530835391]</td>\n",
       "      <td>3.311101</td>\n",
       "      <td>[-0.06966704390641483, 7.3293020807606295]</td>\n",
       "      <td>959</td>\n",
       "      <td>NaN</td>\n",
       "      <td>NaN</td>\n",
       "    </tr>\n",
       "    <tr>\n",
       "      <th>18</th>\n",
       "      <td>FLAURA</td>\n",
       "      <td>high</td>\n",
       "      <td>9.133333</td>\n",
       "      <td>[4.966666666666667, 15.233333333333333]</td>\n",
       "      <td>4.433333</td>\n",
       "      <td>[2.6666666666666665, 6.166666666666667]</td>\n",
       "      <td>4.700000</td>\n",
       "      <td>18.9</td>\n",
       "      <td>10.2</td>\n",
       "      <td>8.7</td>\n",
       "      <td>13.508972</td>\n",
       "      <td>[9.977623717603075, 18.011146494490955]</td>\n",
       "      <td>8.240841</td>\n",
       "      <td>[6.431622943262446, 10.517509555958764]</td>\n",
       "      <td>5.268131</td>\n",
       "      <td>[1.310746231941337, 10.03486257511805]</td>\n",
       "      <td>738</td>\n",
       "      <td>NaN</td>\n",
       "      <td>NaN</td>\n",
       "    </tr>\n",
       "    <tr>\n",
       "      <th>19</th>\n",
       "      <td>FLAURA</td>\n",
       "      <td>all</td>\n",
       "      <td>13.900000</td>\n",
       "      <td>[10.933333333333334, 17.133333333333333]</td>\n",
       "      <td>8.400000</td>\n",
       "      <td>[6.833333333333333, 9.833333333333334]</td>\n",
       "      <td>5.500000</td>\n",
       "      <td>18.9</td>\n",
       "      <td>10.2</td>\n",
       "      <td>8.7</td>\n",
       "      <td>NaN</td>\n",
       "      <td>NaN</td>\n",
       "      <td>NaN</td>\n",
       "      <td>NaN</td>\n",
       "      <td>NaN</td>\n",
       "      <td>NaN</td>\n",
       "      <td>2725</td>\n",
       "      <td>0.705971</td>\n",
       "      <td>[0.5865953257942231, 0.849641403644893]</td>\n",
       "    </tr>\n",
       "  </tbody>\n",
       "</table>\n",
       "</div>"
      ],
      "text/plain": [
       "       trial_name risk_group  s_trt_mos  \\\n",
       "0     KEYNOTE-042        low  25.666667   \n",
       "1     KEYNOTE-042     medium  20.066667   \n",
       "2     KEYNOTE-042       high   5.033333   \n",
       "3     KEYNOTE-042        all  17.733333   \n",
       "4     KEYNOTE-024        low   9.600000   \n",
       "5     KEYNOTE-024     medium   5.433333   \n",
       "6     KEYNOTE-024       high   2.166667   \n",
       "7     KEYNOTE-024        all   5.566667   \n",
       "8     KEYNOTE-189        low  27.066667   \n",
       "9     KEYNOTE-189     medium  12.400000   \n",
       "10    KEYNOTE-189       high   5.000000   \n",
       "11    KEYNOTE-189        all  16.000000   \n",
       "12  CHECKMATE-078        low  14.966667   \n",
       "13  CHECKMATE-078     medium  10.633333   \n",
       "14  CHECKMATE-078       high   6.000000   \n",
       "15  CHECKMATE-078        all  10.433333   \n",
       "16         FLAURA        low  15.700000   \n",
       "17         FLAURA     medium  12.833333   \n",
       "18         FLAURA       high   9.133333   \n",
       "19         FLAURA        all  13.900000   \n",
       "\n",
       "                                s_trt_mos_95  s_cont_mos  \\\n",
       "0   [20.399166666666666, 31.333333333333332]   26.333333   \n",
       "1   [14.266666666666667, 23.901666666666664]   15.333333   \n",
       "2     [3.966666666666667, 7.133333333333334]    6.366667   \n",
       "3   [15.495833333333334, 20.366666666666667]   15.000000   \n",
       "4    [8.131666666666666, 12.866666666666667]    8.800000   \n",
       "5                   [3.966666666666667, 6.8]    5.933333   \n",
       "6   [1.6666666666666667, 2.6666666666666665]    2.733333   \n",
       "7     [4.833333333333333, 6.266666666666667]    5.933333   \n",
       "8                 [22.933333333333334, 31.1]   22.100000   \n",
       "9   [10.366666666666667, 13.866666666666667]   11.300000   \n",
       "10    [4.233333333333333, 6.266666666666667]    5.033333   \n",
       "11  [13.933333333333334, 17.669166666666666]   12.500000   \n",
       "12  [13.733333333333333, 16.473333333333326]   11.100000   \n",
       "13   [9.366666666666667, 11.733333333333333]    7.233333   \n",
       "14                  [5.266666666666667, 7.1]    6.200000   \n",
       "15                               [9.7, 11.2]    8.833333   \n",
       "16  [11.832500000000001, 17.966666666666665]   10.000000   \n",
       "17  [10.130833333333333, 17.266666666666666]    9.200000   \n",
       "18   [4.966666666666667, 15.233333333333333]    4.433333   \n",
       "19  [10.933333333333334, 17.133333333333333]    8.400000   \n",
       "\n",
       "                               s_cont_mos_95  s_mos_diff  rct_trt_arm  \\\n",
       "0                 [23.030833333333334, 32.0]   -0.666667         16.7   \n",
       "1   [14.233333333333333, 17.633333333333333]    4.733333         16.7   \n",
       "2                                 [5.2, 8.0]   -1.333333         16.7   \n",
       "3                 [10.999166666666667, 17.0]    2.733333         16.7   \n",
       "4    [6.133333333333334, 13.533333333333333]    0.800000         10.3   \n",
       "5     [4.266666666666667, 7.868333333333331]   -0.500000         10.3   \n",
       "6                   [1.7, 3.966666666666667]   -0.566667         10.3   \n",
       "7                   [4.6, 7.366666666666666]   -0.366667         10.3   \n",
       "8   [20.866666666666667, 22.966666666666665]    4.966667         22.0   \n",
       "9                 [10.6, 11.934166666666666]    1.100000         22.0   \n",
       "10                  [4.6, 5.333333333333333]   -0.033333         22.0   \n",
       "11  [12.099166666666667, 13.066666666666666]    3.500000         22.0   \n",
       "12   [8.833333333333334, 13.466666666666667]    3.866667         11.9   \n",
       "13   [4.266666666666667, 10.766666666666667]    3.400000         11.9   \n",
       "14                 [3.4991666666666665, 8.2]   -0.200000         11.9   \n",
       "15              [6.733333333333333, 10.9675]    1.600000         11.9   \n",
       "16   [6.295833333333333, 12.737499999999995]    5.700000         18.9   \n",
       "17   [7.733333333333333, 10.804166666666664]    3.633333         18.9   \n",
       "18   [2.6666666666666665, 6.166666666666667]    4.700000         18.9   \n",
       "19    [6.833333333333333, 9.833333333333334]    5.500000         18.9   \n",
       "\n",
       "    rct_cont_arm  rct_mos_diff  s_trt_rmst  \\\n",
       "0           12.1           4.6   22.804925   \n",
       "1           12.1           4.6   19.955144   \n",
       "2           12.1           4.6   11.765965   \n",
       "3           12.1           4.6         NaN   \n",
       "4            6.0           4.3   10.340478   \n",
       "5            6.0           4.3    7.754938   \n",
       "6            6.0           4.3    4.924184   \n",
       "7            6.0           4.3         NaN   \n",
       "8           10.6          11.4   23.789954   \n",
       "9           10.6          11.4   16.076878   \n",
       "10          10.6          11.4   10.299316   \n",
       "11          10.6          11.4         NaN   \n",
       "12           9.5           2.4   18.086154   \n",
       "13           9.5           2.4   15.056079   \n",
       "14           9.5           2.4   11.064844   \n",
       "15           9.5           2.4         NaN   \n",
       "16          10.2           8.7   17.918038   \n",
       "17          10.2           8.7   16.179916   \n",
       "18          10.2           8.7   13.508972   \n",
       "19          10.2           8.7         NaN   \n",
       "\n",
       "                               s_trt_rmst_95  s_cont_rmst  \\\n",
       "0    [21.15009571576442, 24.374985415059662]    23.947788   \n",
       "1    [18.185066650155633, 21.82123783695513]    18.335140   \n",
       "2   [10.289605815068583, 13.213814186296789]    11.027729   \n",
       "3                                        NaN          NaN   \n",
       "4    [9.672921996527739, 11.085497715485708]     9.720394   \n",
       "5     [7.094701755379255, 8.417592729327138]     8.125335   \n",
       "6     [4.100860986665681, 5.847181570133066]     4.526616   \n",
       "7                                        NaN          NaN   \n",
       "8   [22.687519216426253, 24.950273463133705]    22.080383   \n",
       "9    [14.783314306364062, 17.26092190151365]    15.488129   \n",
       "10    [8.845460542076413, 12.19617509896113]     8.568674   \n",
       "11                                       NaN          NaN   \n",
       "12  [17.242942957661146, 18.910882393997397]    15.653517   \n",
       "13   [14.219223042411883, 15.92276529681793]    10.370566   \n",
       "14   [10.143290942926118, 11.98471133318236]     8.236787   \n",
       "15                                       NaN          NaN   \n",
       "16    [15.651252760508928, 20.4138660696985]    14.310018   \n",
       "17  [13.242893469282714, 19.573923609942838]    12.868815   \n",
       "18   [9.977623717603075, 18.011146494490955]     8.240841   \n",
       "19                                       NaN          NaN   \n",
       "\n",
       "                              s_cont_rmst_95  s_diff_rmst  \\\n",
       "0     [22.39097263195355, 25.29163534803153]    -1.142864   \n",
       "1    [17.05531462451536, 19.733829491306302]     1.620004   \n",
       "2    [9.577650025489794, 12.485302319352973]     0.738236   \n",
       "3                                        NaN          NaN   \n",
       "4    [8.250485129287448, 11.342706831360267]     0.620084   \n",
       "5     [6.498564385723091, 9.771670223218822]    -0.370397   \n",
       "6     [3.249954077479059, 5.943830606846119]     0.397569   \n",
       "7                                        NaN          NaN   \n",
       "8   [21.672311511379686, 22.455459029406676]     1.709571   \n",
       "9   [14.974468438878093, 15.985396462885008]     0.588749   \n",
       "10    [8.070273898966128, 9.065668311455125]     1.730641   \n",
       "11                                       NaN          NaN   \n",
       "12  [13.099937767188898, 18.386119337506194]     2.432637   \n",
       "13    [8.31754803894498, 12.340206428807216]     4.685513   \n",
       "14    [5.78283363772911, 10.882283672844485]     2.828057   \n",
       "15                                       NaN          NaN   \n",
       "16  [11.652920463063902, 17.190366032747885]     3.608020   \n",
       "17  [11.446174003349181, 14.379762530835391]     3.311101   \n",
       "18   [6.431622943262446, 10.517509555958764]     5.268131   \n",
       "19                                       NaN          NaN   \n",
       "\n",
       "                                s_diff_rmst_95  scount      s_hr  \\\n",
       "0     [-3.2634503621334545, 1.058860639374799]    1498       NaN   \n",
       "1     [-0.5590386517538245, 3.876899830902065]    1304       NaN   \n",
       "2    [-1.3127516556938899, 2.8256016916523032]     925       NaN   \n",
       "3                                          NaN    3727  0.882152   \n",
       "4     [-1.1976751871761009, 2.310585990613227]     533       NaN   \n",
       "5    [-2.1535170734950584, 1.4276673606024326]     478       NaN   \n",
       "6    [-1.2660116016826817, 1.9673183622945305]     319       NaN   \n",
       "7                                          NaN    1330  0.957244   \n",
       "8     [0.5558566503819004, 2.9280653088569872]    5717       NaN   \n",
       "9     [-0.7933309154756211, 1.840567089043534]    4601       NaN   \n",
       "10   [0.18082301696075784, 3.6371015123659927]    3443       NaN   \n",
       "11                                         NaN   13761  0.875736   \n",
       "12     [-0.4725571020510589, 5.32147001117693]    1099       NaN   \n",
       "13      [2.515516639691566, 6.867031095331087]    1069       NaN   \n",
       "14      [-0.09348426946575, 5.493204907713938]     877       NaN   \n",
       "15                                         NaN    3045  0.730848   \n",
       "16    [0.24451332201709433, 7.193934845856998]    1028       NaN   \n",
       "17  [-0.06966704390641483, 7.3293020807606295]     959       NaN   \n",
       "18      [1.310746231941337, 10.03486257511805]     738       NaN   \n",
       "19                                         NaN    2725  0.705971   \n",
       "\n",
       "                                     s_hr_95  \n",
       "0                                        NaN  \n",
       "1                                        NaN  \n",
       "2                                        NaN  \n",
       "3   [0.7840489735613151, 0.9925296092856004]  \n",
       "4                                        NaN  \n",
       "5                                        NaN  \n",
       "6                                        NaN  \n",
       "7    [0.8190678687865103, 1.118731499674572]  \n",
       "8                                        NaN  \n",
       "9                                        NaN  \n",
       "10                                       NaN  \n",
       "11  [0.8059391321771588, 0.9515766479513406]  \n",
       "12                                       NaN  \n",
       "13                                       NaN  \n",
       "14                                       NaN  \n",
       "15  [0.6361013259722385, 0.8397070953988448]  \n",
       "16                                       NaN  \n",
       "17                                       NaN  \n",
       "18                                       NaN  \n",
       "19   [0.5865953257942231, 0.849641403644893]  "
      ]
     },
     "execution_count": 520,
     "metadata": {},
     "output_type": "execute_result"
    }
   ],
   "source": [
    "strials_mos_rmst_boot"
   ]
  },
  {
   "cell_type": "code",
   "execution_count": 521,
   "id": "48570f6f",
   "metadata": {},
   "outputs": [],
   "source": [
    "strials_mos_rmst_boot.to_csv('strials_mos_rmst_boot.csv', index = False)"
   ]
  }
 ],
 "metadata": {
  "kernelspec": {
   "display_name": "My Virtual Environment",
   "language": "python",
   "name": "myenv"
  },
  "language_info": {
   "codemirror_mode": {
    "name": "ipython",
    "version": 3
   },
   "file_extension": ".py",
   "mimetype": "text/x-python",
   "name": "python",
   "nbconvert_exporter": "python",
   "pygments_lexer": "ipython3",
   "version": "3.7.10"
  }
 },
 "nbformat": 4,
 "nbformat_minor": 5
}
