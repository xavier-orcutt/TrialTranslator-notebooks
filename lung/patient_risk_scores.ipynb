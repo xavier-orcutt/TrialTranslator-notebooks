{
 "cells": [
  {
   "cell_type": "markdown",
   "id": "0f78cdac",
   "metadata": {},
   "source": [
    "# Flatiron Health aNSCLC: Calculating patient risk scores\n",
    "\n",
    "**OBJECTIVE: Risk scores were calculated for each patient using 4-fold cross-validation, where each patient's score was generated from a model trained on 75% of the data (excluding that patient). The model used gradient boosting survival analysis with pre-specified hyperparameters (see Jupyter notebook titled: crude_model_build). For each fold, patients in the held-out set received risk scores from a model trained on the remaining patients, ensuring unbiased prediction scores for the entire dataset.**\n",
    "\n",
    "**OUTLINE:**\n",
    "1. **Preprocessing**\n",
    "2. **Calculating patient risk scores** "
   ]
  },
  {
   "cell_type": "markdown",
   "id": "96942fad",
   "metadata": {},
   "source": [
    "## 1. Preprocessing "
   ]
  },
  {
   "cell_type": "code",
   "execution_count": 1,
   "id": "2ed49dc3",
   "metadata": {},
   "outputs": [],
   "source": [
    "import numpy as np\n",
    "import pandas as pd\n",
    "\n",
    "from sklearn.pipeline import Pipeline\n",
    "from sklearn.impute import SimpleImputer\n",
    "from sklearn.preprocessing import StandardScaler, OneHotEncoder\n",
    "from sklearn.compose import ColumnTransformer "
   ]
  },
  {
   "cell_type": "code",
   "execution_count": 2,
   "id": "b12b50c8",
   "metadata": {},
   "outputs": [],
   "source": [
    "# Function that returns number of rows and count of unique PatientIDs for a dataframe. \n",
    "def row_ID(dataframe):\n",
    "    row = dataframe.shape[0]\n",
    "    ID = dataframe['PatientID'].nunique()\n",
    "    return row, ID"
   ]
  },
  {
   "cell_type": "markdown",
   "id": "c2ef3648",
   "metadata": {},
   "source": [
    "### Importing full dataframes"
   ]
  },
  {
   "cell_type": "code",
   "execution_count": 3,
   "id": "3f7f008b",
   "metadata": {},
   "outputs": [],
   "source": [
    "train = pd.read_csv('train_full.csv')"
   ]
  },
  {
   "cell_type": "code",
   "execution_count": 4,
   "id": "e153dc23",
   "metadata": {},
   "outputs": [
    {
     "data": {
      "text/plain": [
       "(54786, 54786)"
      ]
     },
     "execution_count": 4,
     "metadata": {},
     "output_type": "execute_result"
    }
   ],
   "source": [
    "row_ID(train)"
   ]
  },
  {
   "cell_type": "code",
   "execution_count": 5,
   "id": "a6bdff04",
   "metadata": {},
   "outputs": [],
   "source": [
    "test = pd.read_csv('test_full.csv')"
   ]
  },
  {
   "cell_type": "code",
   "execution_count": 6,
   "id": "66071f30",
   "metadata": {},
   "outputs": [
    {
     "data": {
      "text/plain": [
       "(13697, 13697)"
      ]
     },
     "execution_count": 6,
     "metadata": {},
     "output_type": "execute_result"
    }
   ],
   "source": [
    "row_ID(test)"
   ]
  },
  {
   "cell_type": "code",
   "execution_count": 7,
   "id": "43809f86",
   "metadata": {},
   "outputs": [],
   "source": [
    "df = pd.concat([train, test])"
   ]
  },
  {
   "cell_type": "code",
   "execution_count": 8,
   "id": "8bb75482",
   "metadata": {},
   "outputs": [
    {
     "data": {
      "text/plain": [
       "(68483, 68483)"
      ]
     },
     "execution_count": 8,
     "metadata": {},
     "output_type": "execute_result"
    }
   ],
   "source": [
    "row_ID(df)"
   ]
  },
  {
   "cell_type": "code",
   "execution_count": 9,
   "id": "a5d00b72",
   "metadata": {},
   "outputs": [],
   "source": [
    "df = df.set_index('PatientID')"
   ]
  },
  {
   "cell_type": "code",
   "execution_count": 10,
   "id": "b272d579",
   "metadata": {},
   "outputs": [
    {
     "data": {
      "text/html": [
       "<div>\n",
       "<style scoped>\n",
       "    .dataframe tbody tr th:only-of-type {\n",
       "        vertical-align: middle;\n",
       "    }\n",
       "\n",
       "    .dataframe tbody tr th {\n",
       "        vertical-align: top;\n",
       "    }\n",
       "\n",
       "    .dataframe thead th {\n",
       "        text-align: right;\n",
       "    }\n",
       "</style>\n",
       "<table border=\"1\" class=\"dataframe\">\n",
       "  <thead>\n",
       "    <tr style=\"text-align: right;\">\n",
       "      <th></th>\n",
       "      <th>PracticeType</th>\n",
       "      <th>gender</th>\n",
       "      <th>race</th>\n",
       "      <th>ethnicity</th>\n",
       "      <th>age</th>\n",
       "      <th>region</th>\n",
       "      <th>Histology</th>\n",
       "      <th>SmokingStatus</th>\n",
       "      <th>stage</th>\n",
       "      <th>adv_year</th>\n",
       "      <th>...</th>\n",
       "      <th>depression</th>\n",
       "      <th>elixhauser_other</th>\n",
       "      <th>icd_count</th>\n",
       "      <th>other_cancer</th>\n",
       "      <th>cns_met</th>\n",
       "      <th>bone_met</th>\n",
       "      <th>liver_met</th>\n",
       "      <th>resp_met</th>\n",
       "      <th>adrenal_met</th>\n",
       "      <th>other_met</th>\n",
       "    </tr>\n",
       "    <tr>\n",
       "      <th>PatientID</th>\n",
       "      <th></th>\n",
       "      <th></th>\n",
       "      <th></th>\n",
       "      <th></th>\n",
       "      <th></th>\n",
       "      <th></th>\n",
       "      <th></th>\n",
       "      <th></th>\n",
       "      <th></th>\n",
       "      <th></th>\n",
       "      <th></th>\n",
       "      <th></th>\n",
       "      <th></th>\n",
       "      <th></th>\n",
       "      <th></th>\n",
       "      <th></th>\n",
       "      <th></th>\n",
       "      <th></th>\n",
       "      <th></th>\n",
       "      <th></th>\n",
       "      <th></th>\n",
       "    </tr>\n",
       "  </thead>\n",
       "  <tbody>\n",
       "    <tr>\n",
       "      <th>F59FDCE7C7BC5</th>\n",
       "      <td>COMMUNITY</td>\n",
       "      <td>M</td>\n",
       "      <td>unknown</td>\n",
       "      <td>unknown</td>\n",
       "      <td>82</td>\n",
       "      <td>south</td>\n",
       "      <td>Squamous cell carcinoma</td>\n",
       "      <td>History of smoking</td>\n",
       "      <td>IV</td>\n",
       "      <td>2018</td>\n",
       "      <td>...</td>\n",
       "      <td>0.0</td>\n",
       "      <td>1.0</td>\n",
       "      <td>8.0</td>\n",
       "      <td>0.0</td>\n",
       "      <td>0.0</td>\n",
       "      <td>0.0</td>\n",
       "      <td>0.0</td>\n",
       "      <td>1.0</td>\n",
       "      <td>1.0</td>\n",
       "      <td>1.0</td>\n",
       "    </tr>\n",
       "    <tr>\n",
       "      <th>F61391D65AC5E</th>\n",
       "      <td>COMMUNITY</td>\n",
       "      <td>M</td>\n",
       "      <td>Asian</td>\n",
       "      <td>unknown</td>\n",
       "      <td>70</td>\n",
       "      <td>midwest</td>\n",
       "      <td>Non-squamous cell carcinoma</td>\n",
       "      <td>No history of smoking</td>\n",
       "      <td>II</td>\n",
       "      <td>2018</td>\n",
       "      <td>...</td>\n",
       "      <td>0.0</td>\n",
       "      <td>1.0</td>\n",
       "      <td>9.0</td>\n",
       "      <td>0.0</td>\n",
       "      <td>0.0</td>\n",
       "      <td>1.0</td>\n",
       "      <td>0.0</td>\n",
       "      <td>1.0</td>\n",
       "      <td>0.0</td>\n",
       "      <td>0.0</td>\n",
       "    </tr>\n",
       "    <tr>\n",
       "      <th>F6D129D5323CA</th>\n",
       "      <td>COMMUNITY</td>\n",
       "      <td>F</td>\n",
       "      <td>White</td>\n",
       "      <td>unknown</td>\n",
       "      <td>73</td>\n",
       "      <td>west</td>\n",
       "      <td>Squamous cell carcinoma</td>\n",
       "      <td>History of smoking</td>\n",
       "      <td>I</td>\n",
       "      <td>2019</td>\n",
       "      <td>...</td>\n",
       "      <td>0.0</td>\n",
       "      <td>1.0</td>\n",
       "      <td>8.0</td>\n",
       "      <td>0.0</td>\n",
       "      <td>0.0</td>\n",
       "      <td>0.0</td>\n",
       "      <td>0.0</td>\n",
       "      <td>0.0</td>\n",
       "      <td>0.0</td>\n",
       "      <td>0.0</td>\n",
       "    </tr>\n",
       "  </tbody>\n",
       "</table>\n",
       "<p>3 rows × 212 columns</p>\n",
       "</div>"
      ],
      "text/plain": [
       "              PracticeType gender     race ethnicity  age   region  \\\n",
       "PatientID                                                            \n",
       "F59FDCE7C7BC5    COMMUNITY      M  unknown   unknown   82    south   \n",
       "F61391D65AC5E    COMMUNITY      M    Asian   unknown   70  midwest   \n",
       "F6D129D5323CA    COMMUNITY      F    White   unknown   73     west   \n",
       "\n",
       "                                 Histology          SmokingStatus stage  \\\n",
       "PatientID                                                                 \n",
       "F59FDCE7C7BC5      Squamous cell carcinoma     History of smoking    IV   \n",
       "F61391D65AC5E  Non-squamous cell carcinoma  No history of smoking    II   \n",
       "F6D129D5323CA      Squamous cell carcinoma     History of smoking     I   \n",
       "\n",
       "               adv_year  ...  depression  elixhauser_other  icd_count  \\\n",
       "PatientID                ...                                            \n",
       "F59FDCE7C7BC5      2018  ...         0.0               1.0        8.0   \n",
       "F61391D65AC5E      2018  ...         0.0               1.0        9.0   \n",
       "F6D129D5323CA      2019  ...         0.0               1.0        8.0   \n",
       "\n",
       "               other_cancer  cns_met  bone_met  liver_met  resp_met  \\\n",
       "PatientID                                                             \n",
       "F59FDCE7C7BC5           0.0      0.0       0.0        0.0       1.0   \n",
       "F61391D65AC5E           0.0      0.0       1.0        0.0       1.0   \n",
       "F6D129D5323CA           0.0      0.0       0.0        0.0       0.0   \n",
       "\n",
       "               adrenal_met  other_met  \n",
       "PatientID                              \n",
       "F59FDCE7C7BC5          1.0        1.0  \n",
       "F61391D65AC5E          0.0        0.0  \n",
       "F6D129D5323CA          0.0        0.0  \n",
       "\n",
       "[3 rows x 212 columns]"
      ]
     },
     "execution_count": 10,
     "metadata": {},
     "output_type": "execute_result"
    }
   ],
   "source": [
    "df.sample(3)"
   ]
  },
  {
   "cell_type": "markdown",
   "id": "cc7221e7",
   "metadata": {},
   "source": [
    "### Dropping unnecessary demographic variables "
   ]
  },
  {
   "cell_type": "code",
   "execution_count": 11,
   "id": "cf0eed4e",
   "metadata": {},
   "outputs": [],
   "source": [
    "df = df.drop(columns = ['race',\n",
    "                        'ethnicity',\n",
    "                        'region',\n",
    "                        'commercial',\n",
    "                        'medicare',\n",
    "                        'medicaid',\n",
    "                        'other_insurance'])"
   ]
  },
  {
   "cell_type": "markdown",
   "id": "eeede61c",
   "metadata": {},
   "source": [
    "### Converting datatypes "
   ]
  },
  {
   "cell_type": "code",
   "execution_count": 12,
   "id": "89d3a565",
   "metadata": {},
   "outputs": [
    {
     "data": {
      "text/plain": [
       "['PracticeType',\n",
       " 'gender',\n",
       " 'Histology',\n",
       " 'SmokingStatus',\n",
       " 'stage',\n",
       " 'ALK',\n",
       " 'BRAF',\n",
       " 'EGFR',\n",
       " 'KRAS',\n",
       " 'ROS1',\n",
       " 'pdl1',\n",
       " 'pdl1_n',\n",
       " 'ecog_diagnosis']"
      ]
     },
     "execution_count": 12,
     "metadata": {},
     "output_type": "execute_result"
    }
   ],
   "source": [
    "list(df.select_dtypes(include = ['object']).columns)"
   ]
  },
  {
   "cell_type": "code",
   "execution_count": 13,
   "id": "49efb1bc",
   "metadata": {},
   "outputs": [],
   "source": [
    "to_be_categorical = list(df.select_dtypes(include = ['object']).columns)"
   ]
  },
  {
   "cell_type": "code",
   "execution_count": 14,
   "id": "c0d4c959",
   "metadata": {},
   "outputs": [],
   "source": [
    "to_be_categorical.append('adv_year')"
   ]
  },
  {
   "cell_type": "code",
   "execution_count": 15,
   "id": "20843fda",
   "metadata": {},
   "outputs": [],
   "source": [
    "# Convert variables in list to categorical.\n",
    "for x in list(to_be_categorical):\n",
    "    df[x] = df[x].astype('category')"
   ]
  },
  {
   "cell_type": "code",
   "execution_count": 16,
   "id": "7b977446",
   "metadata": {},
   "outputs": [
    {
     "data": {
      "text/plain": [
       "['PracticeType',\n",
       " 'gender',\n",
       " 'Histology',\n",
       " 'SmokingStatus',\n",
       " 'stage',\n",
       " 'adv_year',\n",
       " 'ALK',\n",
       " 'BRAF',\n",
       " 'EGFR',\n",
       " 'KRAS',\n",
       " 'ROS1',\n",
       " 'pdl1',\n",
       " 'pdl1_n',\n",
       " 'ecog_diagnosis']"
      ]
     },
     "execution_count": 16,
     "metadata": {},
     "output_type": "execute_result"
    }
   ],
   "source": [
    "list(df.select_dtypes(include = ['category']).columns)"
   ]
  },
  {
   "cell_type": "code",
   "execution_count": 17,
   "id": "737f24a1",
   "metadata": {},
   "outputs": [],
   "source": [
    "# Convert death_status into True or False (required for scikit-survival). \n",
    "df['death_status'] = df['death_status'].astype('bool')"
   ]
  },
  {
   "cell_type": "markdown",
   "id": "08de7a94",
   "metadata": {},
   "source": [
    "### Dropping unneeded labs "
   ]
  },
  {
   "cell_type": "code",
   "execution_count": 18,
   "id": "9fd1a36d",
   "metadata": {},
   "outputs": [],
   "source": [
    "drop_labs = [\n",
    "    'albumin_avg',\n",
    "    'alp_avg',\n",
    "    'alt_avg',\n",
    "    'ast_avg',\n",
    "    'bicarb_avg',\n",
    "    'bun_avg',\n",
    "    'calcium_avg',\n",
    "    'chloride_avg',\n",
    "    'creatinine_avg',\n",
    "    'hemoglobin_avg',\n",
    "    'neutrophil_count_avg',\n",
    "    'platelet_avg',\n",
    "    'potassium_avg',\n",
    "    'sodium_avg',\n",
    "    'total_bilirubin_avg',\n",
    "    'wbc_avg',\n",
    "    'albumin_max',\n",
    "    'bicarb_max',\n",
    "    'bun_max',\n",
    "    'chloride_max',\n",
    "    'hemoglobin_max',\n",
    "    'neutrophil_count_max',\n",
    "    'platelet_max',\n",
    "    'potassium_max',\n",
    "    'sodium_max',\n",
    "    'alp_min',\n",
    "    'alt_min',\n",
    "    'ast_min',\n",
    "    'bun_min',\n",
    "    'calcium_min',\n",
    "    'chloride_min',\n",
    "    'creatinine_min',\n",
    "    'neutrophil_count_min',\n",
    "    'potassium_min',\n",
    "    'total_bilirubin_min',\n",
    "    'albumin_std',\n",
    "    'alp_std',\n",
    "    'alt_std',\n",
    "    'ast_std',\n",
    "    'bicarb_std',\n",
    "    'bun_std',\n",
    "    'calcium_std',\n",
    "    'chloride_std',\n",
    "    'creatinine_std',\n",
    "    'hemoglobin_std',\n",
    "    'neutrophil_count_std',\n",
    "    'platelet_std',\n",
    "    'potassium_std',\n",
    "    'sodium_std',\n",
    "    'total_bilirubin_std',\n",
    "    'wbc_std',\n",
    "    'albumin_slope',\n",
    "    'alp_slope',\n",
    "    'alt_slope',\n",
    "    'ast_slope',\n",
    "    'bicarb_slope',\n",
    "    'bun_slope',\n",
    "    'calcium_slope',\n",
    "    'chloride_slope',\n",
    "    'creatinine_slope',\n",
    "    'hemoglobin_slope',\n",
    "    'neutrophil_count_slope',\n",
    "    'platelet_slope',\n",
    "    'potassium_slope',\n",
    "    'sodium_slope',\n",
    "    'total_bilirubin_slope',\n",
    "    'wbc_slope',\n",
    "    'albumin_slope_na',\n",
    "    'alp_slope_na',\n",
    "    'alt_slope_na',\n",
    "    'ast_slope_na',\n",
    "    'bicarb_slope_na',\n",
    "    'bun_slope_na',\n",
    "    'calcium_slope_na',\n",
    "    'chloride_slope_na',\n",
    "    'creatinine_slope_na',\n",
    "    'hemoglobin_slope_na',\n",
    "    'neutrophil_count_slope_na',\n",
    "    'platelet_slope_na',\n",
    "    'potassium_slope_na',\n",
    "    'sodium_slope_na',\n",
    "    'total_bilirubin_slope_na',\n",
    "    'wbc_slope_na']"
   ]
  },
  {
   "cell_type": "code",
   "execution_count": 19,
   "id": "87dfc2a7",
   "metadata": {},
   "outputs": [
    {
     "data": {
      "text/plain": [
       "(68483, 205)"
      ]
     },
     "execution_count": 19,
     "metadata": {},
     "output_type": "execute_result"
    }
   ],
   "source": [
    "df.shape"
   ]
  },
  {
   "cell_type": "code",
   "execution_count": 20,
   "id": "e89c5f22",
   "metadata": {},
   "outputs": [],
   "source": [
    "df = df.drop(columns = drop_labs)"
   ]
  },
  {
   "cell_type": "code",
   "execution_count": 21,
   "id": "1763d0d1",
   "metadata": {},
   "outputs": [
    {
     "data": {
      "text/plain": [
       "(68483, 122)"
      ]
     },
     "execution_count": 21,
     "metadata": {},
     "output_type": "execute_result"
    }
   ],
   "source": [
    "df.shape"
   ]
  },
  {
   "cell_type": "code",
   "execution_count": 22,
   "id": "38fff1cd",
   "metadata": {},
   "outputs": [],
   "source": [
    "df.loc[:, 'alp_max_na'] = np.where(df['alp_max'].isna(), 1, 0)\n",
    "df.loc[:, 'alt_max_na'] = np.where(df['alt_max'].isna(), 1, 0)\n",
    "df.loc[:, 'ast_max_na'] = np.where(df['ast_max'].isna(), 1, 0)\n",
    "df.loc[:, 'calcium_max_na'] = np.where(df['calcium_max'].isna(), 1, 0)\n",
    "df.loc[:, 'creatinine_max_na'] = np.where(df['creatinine_max'].isna(), 1, 0)\n",
    "df.loc[:, 'total_bilirubin_max_na'] = np.where(df['total_bilirubin_max'].isna(), 1, 0)\n",
    "df.loc[:, 'wbc_max_na'] = np.where(df['wbc_max'].isna(), 1, 0)\n",
    "df.loc[:, 'albumin_min_na'] = np.where(df['albumin_min'].isna(), 1, 0)\n",
    "df.loc[:, 'bicarb_min_na'] = np.where(df['bicarb_min'].isna(), 1, 0)\n",
    "df.loc[:, 'hemoglobin_min_na'] = np.where(df['hemoglobin_min'].isna(), 1, 0)\n",
    "df.loc[:, 'platelet_min_na'] = np.where(df['platelet_min'].isna(), 1, 0)\n",
    "df.loc[:, 'sodium_min_na'] = np.where(df['sodium_min'].isna(), 1, 0)\n",
    "df.loc[:, 'wbc_min_na'] = np.where(df['wbc_min'].isna(), 1, 0)"
   ]
  },
  {
   "cell_type": "code",
   "execution_count": 23,
   "id": "6ed5ad05",
   "metadata": {},
   "outputs": [
    {
     "data": {
      "text/plain": [
       "(68483, 135)"
      ]
     },
     "execution_count": 23,
     "metadata": {},
     "output_type": "execute_result"
    }
   ],
   "source": [
    "df.shape"
   ]
  },
  {
   "cell_type": "markdown",
   "id": "3bcc93b2",
   "metadata": {},
   "source": [
    "### Separate into X and Y "
   ]
  },
  {
   "cell_type": "code",
   "execution_count": 24,
   "id": "374e94ed",
   "metadata": {},
   "outputs": [],
   "source": [
    "# 'X' datasets\n",
    "df_x = df.drop(columns = ['death_status', 'timerisk_activity']) #80% of data "
   ]
  },
  {
   "cell_type": "code",
   "execution_count": 25,
   "id": "53405cc6",
   "metadata": {},
   "outputs": [],
   "source": [
    "# 'Y' datasets\n",
    "# Death status and time until event needs to be stored as a structured array to be compatible with scikit-survival\n",
    "y_dtypes = df[['death_status', 'timerisk_activity']].dtypes\n",
    "\n",
    "df_y = np.array([tuple(x) for x in df[['death_status', 'timerisk_activity']].values],\n",
    "                dtype = list(zip(y_dtypes.index, y_dtypes)))"
   ]
  },
  {
   "cell_type": "markdown",
   "id": "da592b54",
   "metadata": {},
   "source": [
    "### Pipeline "
   ]
  },
  {
   "cell_type": "code",
   "execution_count": 26,
   "id": "19e110f2",
   "metadata": {},
   "outputs": [],
   "source": [
    "# List of numeric variables, excluding binary variables. \n",
    "numerical_features = [\n",
    "    'age',\n",
    "    'delta_adv_diagnosis',\n",
    "    'weight_diag',\n",
    "    'bmi_diag',\n",
    "    'weight_pct_change',\n",
    "    'weight_slope',\n",
    "    'albumin_diag',\n",
    "    'alp_diag',\n",
    "    'alt_diag',\n",
    "    'ast_diag',\n",
    "    'bicarb_diag',\n",
    "    'bun_diag',\n",
    "    'calcium_diag',\n",
    "    'chloride_diag',\n",
    "    'creatinine_diag',\n",
    "    'hemoglobin_diag',\n",
    "    'neutrophil_count_diag',\n",
    "    'platelet_diag',\n",
    "    'potassium_diag',\n",
    "    'sodium_diag',\n",
    "    'total_bilirubin_diag',\n",
    "    'wbc_diag',\n",
    "    'alp_max',\n",
    "    'alt_max',\n",
    "    'ast_max',\n",
    "    'calcium_max',\n",
    "    'creatinine_max',\n",
    "    'total_bilirubin_max',\n",
    "    'wbc_max',\n",
    "    'albumin_min',\n",
    "    'bicarb_min',\n",
    "    'hemoglobin_min',\n",
    "    'platelet_min',\n",
    "    'sodium_min',\n",
    "    'wbc_min',\n",
    "    'icd_count']\n",
    "\n",
    "# Transformer will impute column medians and then apply a standard scaler. \n",
    "numerical_transformer = Pipeline(steps = [\n",
    "    ('imputer', SimpleImputer(strategy = 'median')),\n",
    "    ('std_scaler', StandardScaler())])"
   ]
  },
  {
   "cell_type": "code",
   "execution_count": 27,
   "id": "b6f1bca4",
   "metadata": {},
   "outputs": [],
   "source": [
    "# List of categorical features.\n",
    "categorical_features = list(df_x.select_dtypes(include = ['category']).columns)\n",
    "\n",
    "# One-hot-encode categorical features.\n",
    "categorical_transformer = OneHotEncoder(handle_unknown = 'ignore')"
   ]
  },
  {
   "cell_type": "code",
   "execution_count": 28,
   "id": "b13cd654",
   "metadata": {},
   "outputs": [],
   "source": [
    "preprocessor = ColumnTransformer(\n",
    "    transformers = [\n",
    "        ('num', numerical_transformer, numerical_features),\n",
    "        ('cat', categorical_transformer, categorical_features)],\n",
    "    remainder = 'passthrough')"
   ]
  },
  {
   "cell_type": "markdown",
   "id": "0117e873",
   "metadata": {},
   "source": [
    "## 2. Calculating patient risk scores "
   ]
  },
  {
   "cell_type": "code",
   "execution_count": 29,
   "id": "27d25c5a",
   "metadata": {},
   "outputs": [],
   "source": [
    "from sklearn.pipeline import make_pipeline\n",
    "from sksurv.ensemble import GradientBoostingSurvivalAnalysis\n",
    "from sklearn.model_selection import StratifiedKFold\n",
    "\n",
    "import time\n",
    "import pickle\n",
    "import os"
   ]
  },
  {
   "cell_type": "code",
   "execution_count": 30,
   "id": "4938f130",
   "metadata": {},
   "outputs": [
    {
     "data": {
      "text/plain": [
       "(68483, 133)"
      ]
     },
     "execution_count": 30,
     "metadata": {},
     "output_type": "execute_result"
    }
   ],
   "source": [
    "df_x.shape"
   ]
  },
  {
   "cell_type": "code",
   "execution_count": 31,
   "id": "65e72753",
   "metadata": {},
   "outputs": [
    {
     "data": {
      "text/plain": [
       "(68483,)"
      ]
     },
     "execution_count": 31,
     "metadata": {},
     "output_type": "execute_result"
    }
   ],
   "source": [
    "df_y.shape"
   ]
  },
  {
   "cell_type": "code",
   "execution_count": 32,
   "id": "8bfe182e",
   "metadata": {},
   "outputs": [
    {
     "name": "stderr",
     "output_type": "stream",
     "text": [
      "/Users/xavierorcutt/Dropbox/ist_project/myenv/lib/python3.7/site-packages/sklearn/model_selection/_split.py:680: UserWarning: The least populated class in y has only 1 members, which is less than n_splits=4.\n",
      "  UserWarning,\n"
     ]
    },
    {
     "name": "stdout",
     "output_type": "stream",
     "text": [
      "      Iter       Train Loss      OOB Improve   Remaining Time \n",
      "         1      267339.4505          36.0420          580.55m\n",
      "         2      267658.7668          33.5967          580.63m\n",
      "         3      266967.4651          31.3677          581.08m\n",
      "         4      267218.1165          30.2169          580.40m\n",
      "         5      267242.6962          29.4493          579.88m\n",
      "         6      266829.2255          26.9265          579.26m\n",
      "         7      266785.3275          25.7135          578.90m\n",
      "         8      266398.2157          23.6673          579.01m\n",
      "         9      267039.8984          23.1709          578.92m\n",
      "        10      265713.7313          22.3575          578.67m\n",
      "        20      266659.4433          15.0603          574.46m\n",
      "        30      264912.7846          11.4847          569.19m\n",
      "        40      265875.4329           9.5719          563.74m\n",
      "        50      264962.4870           7.2961          558.37m\n",
      "        60      264631.9584           6.7861          553.19m\n",
      "        70      264675.8645           5.9008          548.16m\n",
      "        80      264443.1152           4.9678          543.39m\n",
      "        90      264163.6161           3.9061          538.83m\n",
      "       100      263400.8210           4.2869          533.99m\n",
      "       200      263109.4290           1.9374          483.33m\n",
      "       300      262689.3332           1.1149          433.25m\n",
      "       400      261671.9282           0.8356          383.27m\n",
      "       500      262116.1525           0.4484          332.09m\n",
      "       600      260838.5038           0.0603          280.95m\n",
      "       700      261808.2591           0.2745          229.92m\n",
      "       800      261760.6698           0.1245          178.86m\n",
      "       900      261549.8844          -0.0028          127.78m\n",
      "      1000      261314.9614          -0.1637           76.69m\n",
      "Fold 1 completed\n",
      "Fold training time: 588.20 minutes\n",
      "Results saved to cv_results/fold_1_results.pkl\n",
      "-------------------\n",
      "      Iter       Train Loss      OOB Improve   Remaining Time \n",
      "         1      267704.2927          36.3190          586.80m\n",
      "         2      266912.9052          33.7847          586.25m\n",
      "         3      267158.3189          30.7292          586.07m\n",
      "         4      266777.0570          31.1492          585.77m\n",
      "         5      267126.1834          29.6554          585.27m\n",
      "         6      267171.1530          28.8940          585.10m\n",
      "         7      266920.6587          26.5163          584.46m\n",
      "         8      266875.1725          25.3806          584.36m\n",
      "         9      266407.4144          25.3106          583.94m\n",
      "        10      266742.3417          22.5282          583.71m\n",
      "        20      266213.3351          13.8806          578.41m\n",
      "        30      265005.8286          13.4372          573.43m\n",
      "        40      265683.7203           9.2575          568.46m\n",
      "        50      264729.9442           7.0704          563.67m\n",
      "        60      264840.3439           7.2576          558.53m\n",
      "        70      264421.2489           5.2330          553.57m\n",
      "        80      264425.3667           4.9893          548.47m\n",
      "        90      264527.1307           6.1915          543.33m\n",
      "       100      264328.5943           4.1997          538.30m\n",
      "       200      262288.9853           1.9084          487.06m\n",
      "       300      262615.1779           0.4385          436.12m\n",
      "       400      261251.9381           0.4425          384.71m\n",
      "       500      262243.9106           0.0323          333.09m\n",
      "       600      262384.6734           0.1294          281.63m\n",
      "       700      260916.3506           0.1382          230.33m\n",
      "       800      261478.2320           0.4098          179.09m\n",
      "       900      260126.8474           0.0535          127.91m\n",
      "      1000      259683.2760          -0.3214           76.70m\n",
      "Fold 2 completed\n",
      "Fold training time: 588.46 minutes\n",
      "Results saved to cv_results/fold_2_results.pkl\n",
      "-------------------\n",
      "      Iter       Train Loss      OOB Improve   Remaining Time \n",
      "         1      267731.6236          35.7560          578.58m\n",
      "         2      267079.5925          33.5761          578.86m\n",
      "         3      266988.5504          32.2233          578.72m\n",
      "         4      266961.7306          31.1703          578.70m\n",
      "         5      267040.3060          28.4132          578.29m\n",
      "         6      267737.8821          27.8036          577.72m\n",
      "         7      266414.8941          25.9599          577.16m\n",
      "         8      267122.1108          25.0540          576.58m\n",
      "         9      266902.2536          23.3624          576.10m\n",
      "        10      267086.1675          21.6280          575.54m\n",
      "        20      265494.4135          14.9291          570.53m\n",
      "        30      265366.4456          11.6679          565.53m\n",
      "        40      264915.0514           9.9045          561.91m\n",
      "        50      265206.5915           7.2638          557.57m\n",
      "        60      264397.8325           7.1260          553.23m\n",
      "        70      264763.6616           5.4043          549.24m\n",
      "        80      264186.0035           5.4758          544.72m\n",
      "        90      264386.5176           3.9557          540.19m\n",
      "       100      263441.5527           4.4818          535.42m\n",
      "       200      263647.6312           2.0555          484.36m\n",
      "       300      262710.0677           0.6748          433.78m\n",
      "       400      262292.6682           0.5429          382.40m\n",
      "       500      262019.6392           0.3172          331.54m\n",
      "       600      261425.2781          -0.1855          280.48m\n",
      "       700      261250.4567           0.0903          229.40m\n",
      "       800      261242.1266           0.5243          178.41m\n",
      "       900      261130.6083           0.3653          127.45m\n",
      "      1000      261016.6486           0.2527           76.48m\n",
      "Fold 3 completed\n",
      "Fold training time: 586.43 minutes\n",
      "Results saved to cv_results/fold_3_results.pkl\n",
      "-------------------\n",
      "      Iter       Train Loss      OOB Improve   Remaining Time \n",
      "         1      268029.1516          35.9299          583.04m\n",
      "         2      267000.4719          34.8340          584.75m\n",
      "         3      267958.2988          32.7311          584.91m\n",
      "         4      266102.9574          31.5900          584.74m\n",
      "         5      266790.1164          31.0049          584.65m\n",
      "         6      266755.6078          28.0955          584.51m\n",
      "         7      266673.0643          27.2837          583.69m\n",
      "         8      266635.3044          25.6905          583.25m\n",
      "         9      266530.3270          24.0999          582.78m\n",
      "        10      267064.2097          22.7733          582.32m\n",
      "        20      265809.7045          15.4539          577.46m\n",
      "        30      265605.0294          10.6630          572.56m\n",
      "        40      265448.5509           8.3572          567.44m\n",
      "        50      264368.7827           8.5587          562.18m\n",
      "        60      264829.4301           6.6663          556.97m\n",
      "        70      264822.3676           6.0907          551.89m\n",
      "        80      264105.6193           4.7101          546.78m\n",
      "        90      263679.0033           4.5769          541.69m\n",
      "       100      263613.7286           3.8261          536.54m\n",
      "       200      262678.9337           1.4713          485.31m\n",
      "       300      262682.4483           0.9028          433.68m\n",
      "       400      262225.4445           0.6230          383.12m\n",
      "       500      261451.8435           0.3814          332.24m\n",
      "       600      261730.3590           0.1582          281.31m\n",
      "       700      261536.3396          -0.2578          230.22m\n",
      "       800      260932.2485           0.0834          179.09m\n",
      "       900      260642.8366          -0.2311          127.96m\n",
      "      1000      260421.9620          -0.0546           76.76m\n",
      "Fold 4 completed\n",
      "Fold training time: 588.22 minutes\n",
      "Results saved to cv_results/fold_4_results.pkl\n",
      "-------------------\n",
      "\n",
      "Total time: 2351.33 minutes\n",
      "\n",
      "Number of patients with risk scores: 68483\n",
      "Percentage of patients with risk scores: 100.0%\n"
     ]
    }
   ],
   "source": [
    "# Run cross-validation on full dataset\n",
    "cv = StratifiedKFold(n_splits=4, shuffle=True, random_state=42)\n",
    "\n",
    "# For storing indices and predictions\n",
    "patient_predictions = []\n",
    "\n",
    "# Create folder for saved results if it doesn't exist\n",
    "if not os.path.exists('cv_results'):\n",
    "    os.makedirs('cv_results')\n",
    "\n",
    "# Time the process\n",
    "start_time = time.time()\n",
    "\n",
    "# Get original patients IDs in the order they appear in df_x\n",
    "all_patient_ids = df_x.index\n",
    "\n",
    "for fold_idx, (train_idx, test_idx) in enumerate(cv.split(df_x, df_y)):\n",
    "    # Split data for this fold\n",
    "    # For df_x - use PatientIDs\n",
    "    patient_ids_test = all_patient_ids[test_idx]\n",
    "    X_train = df_x.drop(patient_ids_test)\n",
    "    X_test = df_x.loc[patient_ids_test]\n",
    "    \n",
    "    # For df_y - use array indexing\n",
    "    y_train = df_y[train_idx]\n",
    "    y_test = df_y[test_idx]\n",
    "    \n",
    "    fold_model = make_pipeline(\n",
    "        preprocessor,\n",
    "        GradientBoostingSurvivalAnalysis(\n",
    "            n_estimators=1150,\n",
    "            learning_rate=0.05,\n",
    "            max_depth=2,\n",
    "            subsample=0.75,\n",
    "            verbose=1,\n",
    "            random_state=42\n",
    "        )\n",
    "    )\n",
    "    \n",
    "    # Fit model and time it\n",
    "    fold_start_time = time.time()\n",
    "    fold_model.fit(X_train, y_train)\n",
    "    fold_time = time.time() - fold_start_time\n",
    "    \n",
    "    # Get predictions for test set\n",
    "    test_predictions = fold_model.predict(X_test)\n",
    "    \n",
    "    # Store PatientIDs and their predictions\n",
    "    fold_predictions = list(zip(patient_ids_test, test_predictions))\n",
    "    patient_predictions.extend(fold_predictions)\n",
    "    \n",
    "    # Save results from this fold\n",
    "    fold_results = {\n",
    "        'fold': fold_idx + 1,\n",
    "        'predictions': fold_predictions,\n",
    "        'fold_time': fold_time,\n",
    "        'timestamp': time.strftime(\"%Y%m%d-%H%M%S\")\n",
    "    }\n",
    "    \n",
    "    with open(f'cv_results/fold_{fold_idx + 1}_results.pkl', 'wb') as f:\n",
    "        pickle.dump(fold_results, f)\n",
    "    \n",
    "    print(f\"Fold {fold_idx + 1} completed\")\n",
    "    print(f\"Fold training time: {fold_time/60:.2f} minutes\")\n",
    "    print(f\"Results saved to cv_results/fold_{fold_idx + 1}_results.pkl\")\n",
    "    print(\"-------------------\")\n",
    "\n",
    "total_time = time.time() - start_time\n",
    "print(f\"\\nTotal time: {total_time/60:.2f} minutes\")\n",
    "\n",
    "# Add predictions back to original dataframe\n",
    "pred_dict = dict(patient_predictions)\n",
    "df_x['risk_score'] = df_x.index.map(pred_dict)\n",
    "df_x.to_csv('crude_risk_score_df_kfold.csv', index = True, header = True)\n",
    "\n",
    "# Save final results too\n",
    "final_results = {\n",
    "    'all_predictions': patient_predictions,\n",
    "    'total_time': total_time\n",
    "}\n",
    "\n",
    "with open('cv_results/final_results.pkl', 'wb') as f:\n",
    "    pickle.dump(final_results, f)\n",
    "\n",
    "# Check how many predictions we have\n",
    "n_scores = df_x['risk_score'].notna().sum()\n",
    "print(f\"\\nNumber of patients with risk scores: {n_scores}\")\n",
    "print(f\"Percentage of patients with risk scores: {(n_scores/len(df_x))*100:.1f}%\")"
   ]
  }
 ],
 "metadata": {
  "kernelspec": {
   "display_name": "My Virtual Environment",
   "language": "python",
   "name": "myenv"
  },
  "language_info": {
   "codemirror_mode": {
    "name": "ipython",
    "version": 3
   },
   "file_extension": ".py",
   "mimetype": "text/x-python",
   "name": "python",
   "nbconvert_exporter": "python",
   "pygments_lexer": "ipython3",
   "version": "3.7.10"
  }
 },
 "nbformat": 4,
 "nbformat_minor": 5
}
