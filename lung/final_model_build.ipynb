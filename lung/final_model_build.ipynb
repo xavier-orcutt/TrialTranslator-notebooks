{
 "cells": [
  {
   "cell_type": "markdown",
   "id": "0f78cdac",
   "metadata": {},
   "source": [
    "# Flatiron Health aNSCLC: Final GBM build \n",
    "\n",
    "**OBJECTIVE: Build a gradient boosted survival model on the entirety of the Flation Health advanced NSCLC data set. This model will be used for the webtool.**\n",
    "\n",
    "**BACKGROUND: For details on hyperparameter tuning of the gradient boosted model see notebook *Machine learning crude imputation*. Missingness will be crudely imputatated given similar test-set AUC performance when compared to MICE.** \n",
    "\n",
    "**OUTLINE:**\n",
    "1. **Preprocessing**\n",
    "2. **Gradient boosted model** "
   ]
  },
  {
   "cell_type": "markdown",
   "id": "96942fad",
   "metadata": {},
   "source": [
    "## 1. Preprocessing "
   ]
  },
  {
   "cell_type": "code",
   "execution_count": 1,
   "id": "2ed49dc3",
   "metadata": {},
   "outputs": [],
   "source": [
    "import numpy as np\n",
    "import pandas as pd\n",
    "\n",
    "from sklearn.pipeline import Pipeline\n",
    "from sklearn.impute import SimpleImputer\n",
    "from sklearn.preprocessing import StandardScaler, OneHotEncoder\n",
    "from sklearn.compose import ColumnTransformer "
   ]
  },
  {
   "cell_type": "code",
   "execution_count": 2,
   "id": "b12b50c8",
   "metadata": {},
   "outputs": [],
   "source": [
    "# Function that returns number of rows and count of unique PatientIDs for a dataframe. \n",
    "def row_ID(dataframe):\n",
    "    row = dataframe.shape[0]\n",
    "    ID = dataframe['PatientID'].nunique()\n",
    "    return row, ID"
   ]
  },
  {
   "cell_type": "markdown",
   "id": "c2ef3648",
   "metadata": {},
   "source": [
    "### Importing full dataframes"
   ]
  },
  {
   "cell_type": "code",
   "execution_count": 3,
   "id": "3f7f008b",
   "metadata": {},
   "outputs": [],
   "source": [
    "train = pd.read_csv('train_full.csv')"
   ]
  },
  {
   "cell_type": "code",
   "execution_count": 4,
   "id": "e153dc23",
   "metadata": {},
   "outputs": [
    {
     "data": {
      "text/plain": [
       "(54786, 54786)"
      ]
     },
     "execution_count": 4,
     "metadata": {},
     "output_type": "execute_result"
    }
   ],
   "source": [
    "row_ID(train)"
   ]
  },
  {
   "cell_type": "code",
   "execution_count": 5,
   "id": "a6bdff04",
   "metadata": {},
   "outputs": [],
   "source": [
    "test = pd.read_csv('test_full.csv')"
   ]
  },
  {
   "cell_type": "code",
   "execution_count": 6,
   "id": "66071f30",
   "metadata": {},
   "outputs": [
    {
     "data": {
      "text/plain": [
       "(13697, 13697)"
      ]
     },
     "execution_count": 6,
     "metadata": {},
     "output_type": "execute_result"
    }
   ],
   "source": [
    "row_ID(test)"
   ]
  },
  {
   "cell_type": "code",
   "execution_count": 7,
   "id": "43809f86",
   "metadata": {},
   "outputs": [],
   "source": [
    "df = pd.concat([train, test])"
   ]
  },
  {
   "cell_type": "code",
   "execution_count": 8,
   "id": "8bb75482",
   "metadata": {},
   "outputs": [
    {
     "data": {
      "text/plain": [
       "(68483, 68483)"
      ]
     },
     "execution_count": 8,
     "metadata": {},
     "output_type": "execute_result"
    }
   ],
   "source": [
    "row_ID(df)"
   ]
  },
  {
   "cell_type": "code",
   "execution_count": 9,
   "id": "a5d00b72",
   "metadata": {},
   "outputs": [],
   "source": [
    "df = df.set_index('PatientID')"
   ]
  },
  {
   "cell_type": "code",
   "execution_count": 10,
   "id": "b272d579",
   "metadata": {},
   "outputs": [
    {
     "data": {
      "text/html": [
       "<div>\n",
       "<style scoped>\n",
       "    .dataframe tbody tr th:only-of-type {\n",
       "        vertical-align: middle;\n",
       "    }\n",
       "\n",
       "    .dataframe tbody tr th {\n",
       "        vertical-align: top;\n",
       "    }\n",
       "\n",
       "    .dataframe thead th {\n",
       "        text-align: right;\n",
       "    }\n",
       "</style>\n",
       "<table border=\"1\" class=\"dataframe\">\n",
       "  <thead>\n",
       "    <tr style=\"text-align: right;\">\n",
       "      <th></th>\n",
       "      <th>PracticeType</th>\n",
       "      <th>gender</th>\n",
       "      <th>race</th>\n",
       "      <th>ethnicity</th>\n",
       "      <th>age</th>\n",
       "      <th>region</th>\n",
       "      <th>Histology</th>\n",
       "      <th>SmokingStatus</th>\n",
       "      <th>stage</th>\n",
       "      <th>adv_year</th>\n",
       "      <th>...</th>\n",
       "      <th>depression</th>\n",
       "      <th>elixhauser_other</th>\n",
       "      <th>icd_count</th>\n",
       "      <th>other_cancer</th>\n",
       "      <th>cns_met</th>\n",
       "      <th>bone_met</th>\n",
       "      <th>liver_met</th>\n",
       "      <th>resp_met</th>\n",
       "      <th>adrenal_met</th>\n",
       "      <th>other_met</th>\n",
       "    </tr>\n",
       "    <tr>\n",
       "      <th>PatientID</th>\n",
       "      <th></th>\n",
       "      <th></th>\n",
       "      <th></th>\n",
       "      <th></th>\n",
       "      <th></th>\n",
       "      <th></th>\n",
       "      <th></th>\n",
       "      <th></th>\n",
       "      <th></th>\n",
       "      <th></th>\n",
       "      <th></th>\n",
       "      <th></th>\n",
       "      <th></th>\n",
       "      <th></th>\n",
       "      <th></th>\n",
       "      <th></th>\n",
       "      <th></th>\n",
       "      <th></th>\n",
       "      <th></th>\n",
       "      <th></th>\n",
       "      <th></th>\n",
       "    </tr>\n",
       "  </thead>\n",
       "  <tbody>\n",
       "    <tr>\n",
       "      <th>F7132E00BC2CB</th>\n",
       "      <td>COMMUNITY</td>\n",
       "      <td>F</td>\n",
       "      <td>Black or African American</td>\n",
       "      <td>unknown</td>\n",
       "      <td>69</td>\n",
       "      <td>south</td>\n",
       "      <td>Non-squamous cell carcinoma</td>\n",
       "      <td>No history of smoking</td>\n",
       "      <td>IV</td>\n",
       "      <td>2012</td>\n",
       "      <td>...</td>\n",
       "      <td>0.0</td>\n",
       "      <td>1.0</td>\n",
       "      <td>7.0</td>\n",
       "      <td>0.0</td>\n",
       "      <td>0.0</td>\n",
       "      <td>1.0</td>\n",
       "      <td>1.0</td>\n",
       "      <td>1.0</td>\n",
       "      <td>0.0</td>\n",
       "      <td>0.0</td>\n",
       "    </tr>\n",
       "    <tr>\n",
       "      <th>F771094962C02</th>\n",
       "      <td>COMMUNITY</td>\n",
       "      <td>F</td>\n",
       "      <td>White</td>\n",
       "      <td>unknown</td>\n",
       "      <td>68</td>\n",
       "      <td>midwest</td>\n",
       "      <td>Non-squamous cell carcinoma</td>\n",
       "      <td>No history of smoking</td>\n",
       "      <td>IIIA</td>\n",
       "      <td>2019</td>\n",
       "      <td>...</td>\n",
       "      <td>0.0</td>\n",
       "      <td>1.0</td>\n",
       "      <td>10.0</td>\n",
       "      <td>0.0</td>\n",
       "      <td>0.0</td>\n",
       "      <td>0.0</td>\n",
       "      <td>0.0</td>\n",
       "      <td>0.0</td>\n",
       "      <td>0.0</td>\n",
       "      <td>0.0</td>\n",
       "    </tr>\n",
       "    <tr>\n",
       "      <th>F4EF0CE105876</th>\n",
       "      <td>ACADEMIC</td>\n",
       "      <td>F</td>\n",
       "      <td>White</td>\n",
       "      <td>unknown</td>\n",
       "      <td>75</td>\n",
       "      <td>unknown</td>\n",
       "      <td>Non-squamous cell carcinoma</td>\n",
       "      <td>History of smoking</td>\n",
       "      <td>I</td>\n",
       "      <td>2018</td>\n",
       "      <td>...</td>\n",
       "      <td>1.0</td>\n",
       "      <td>1.0</td>\n",
       "      <td>102.0</td>\n",
       "      <td>0.0</td>\n",
       "      <td>0.0</td>\n",
       "      <td>0.0</td>\n",
       "      <td>0.0</td>\n",
       "      <td>0.0</td>\n",
       "      <td>0.0</td>\n",
       "      <td>0.0</td>\n",
       "    </tr>\n",
       "  </tbody>\n",
       "</table>\n",
       "<p>3 rows × 212 columns</p>\n",
       "</div>"
      ],
      "text/plain": [
       "              PracticeType gender                       race ethnicity  age  \\\n",
       "PatientID                                                                     \n",
       "F7132E00BC2CB    COMMUNITY      F  Black or African American   unknown   69   \n",
       "F771094962C02    COMMUNITY      F                      White   unknown   68   \n",
       "F4EF0CE105876     ACADEMIC      F                      White   unknown   75   \n",
       "\n",
       "                region                    Histology          SmokingStatus  \\\n",
       "PatientID                                                                    \n",
       "F7132E00BC2CB    south  Non-squamous cell carcinoma  No history of smoking   \n",
       "F771094962C02  midwest  Non-squamous cell carcinoma  No history of smoking   \n",
       "F4EF0CE105876  unknown  Non-squamous cell carcinoma     History of smoking   \n",
       "\n",
       "              stage  adv_year  ...  depression  elixhauser_other  icd_count  \\\n",
       "PatientID                      ...                                            \n",
       "F7132E00BC2CB    IV      2012  ...         0.0               1.0        7.0   \n",
       "F771094962C02  IIIA      2019  ...         0.0               1.0       10.0   \n",
       "F4EF0CE105876     I      2018  ...         1.0               1.0      102.0   \n",
       "\n",
       "               other_cancer  cns_met  bone_met  liver_met  resp_met  \\\n",
       "PatientID                                                             \n",
       "F7132E00BC2CB           0.0      0.0       1.0        1.0       1.0   \n",
       "F771094962C02           0.0      0.0       0.0        0.0       0.0   \n",
       "F4EF0CE105876           0.0      0.0       0.0        0.0       0.0   \n",
       "\n",
       "               adrenal_met  other_met  \n",
       "PatientID                              \n",
       "F7132E00BC2CB          0.0        0.0  \n",
       "F771094962C02          0.0        0.0  \n",
       "F4EF0CE105876          0.0        0.0  \n",
       "\n",
       "[3 rows x 212 columns]"
      ]
     },
     "execution_count": 10,
     "metadata": {},
     "output_type": "execute_result"
    }
   ],
   "source": [
    "df.sample(3)"
   ]
  },
  {
   "cell_type": "markdown",
   "id": "cc7221e7",
   "metadata": {},
   "source": [
    "### Dropping unnecessary demographic variables "
   ]
  },
  {
   "cell_type": "code",
   "execution_count": 11,
   "id": "cf0eed4e",
   "metadata": {},
   "outputs": [],
   "source": [
    "df = df.drop(columns = ['race',\n",
    "                        'ethnicity',\n",
    "                        'region',\n",
    "                        'commercial',\n",
    "                        'medicare',\n",
    "                        'medicaid',\n",
    "                        'other_insurance'])"
   ]
  },
  {
   "cell_type": "markdown",
   "id": "eeede61c",
   "metadata": {},
   "source": [
    "### Converting datatypes "
   ]
  },
  {
   "cell_type": "code",
   "execution_count": 12,
   "id": "89d3a565",
   "metadata": {},
   "outputs": [
    {
     "data": {
      "text/plain": [
       "['PracticeType',\n",
       " 'gender',\n",
       " 'Histology',\n",
       " 'SmokingStatus',\n",
       " 'stage',\n",
       " 'ALK',\n",
       " 'BRAF',\n",
       " 'EGFR',\n",
       " 'KRAS',\n",
       " 'ROS1',\n",
       " 'pdl1',\n",
       " 'pdl1_n',\n",
       " 'ecog_diagnosis']"
      ]
     },
     "execution_count": 12,
     "metadata": {},
     "output_type": "execute_result"
    }
   ],
   "source": [
    "list(df.select_dtypes(include = ['object']).columns)"
   ]
  },
  {
   "cell_type": "code",
   "execution_count": 13,
   "id": "49efb1bc",
   "metadata": {},
   "outputs": [],
   "source": [
    "to_be_categorical = list(df.select_dtypes(include = ['object']).columns)"
   ]
  },
  {
   "cell_type": "code",
   "execution_count": 14,
   "id": "c0d4c959",
   "metadata": {},
   "outputs": [],
   "source": [
    "to_be_categorical.append('adv_year')"
   ]
  },
  {
   "cell_type": "code",
   "execution_count": 15,
   "id": "20843fda",
   "metadata": {},
   "outputs": [],
   "source": [
    "# Convert variables in list to categorical.\n",
    "for x in list(to_be_categorical):\n",
    "    df[x] = df[x].astype('category')"
   ]
  },
  {
   "cell_type": "code",
   "execution_count": 16,
   "id": "7b977446",
   "metadata": {},
   "outputs": [
    {
     "data": {
      "text/plain": [
       "['PracticeType',\n",
       " 'gender',\n",
       " 'Histology',\n",
       " 'SmokingStatus',\n",
       " 'stage',\n",
       " 'adv_year',\n",
       " 'ALK',\n",
       " 'BRAF',\n",
       " 'EGFR',\n",
       " 'KRAS',\n",
       " 'ROS1',\n",
       " 'pdl1',\n",
       " 'pdl1_n',\n",
       " 'ecog_diagnosis']"
      ]
     },
     "execution_count": 16,
     "metadata": {},
     "output_type": "execute_result"
    }
   ],
   "source": [
    "list(df.select_dtypes(include = ['category']).columns)"
   ]
  },
  {
   "cell_type": "code",
   "execution_count": 17,
   "id": "737f24a1",
   "metadata": {},
   "outputs": [],
   "source": [
    "# Convert death_status into True or False (required for scikit-survival). \n",
    "df['death_status'] = df['death_status'].astype('bool')"
   ]
  },
  {
   "cell_type": "markdown",
   "id": "08de7a94",
   "metadata": {},
   "source": [
    "### Dropping unneeded labs "
   ]
  },
  {
   "cell_type": "code",
   "execution_count": 18,
   "id": "9fd1a36d",
   "metadata": {},
   "outputs": [],
   "source": [
    "drop_labs = [\n",
    "    'albumin_avg',\n",
    "    'alp_avg',\n",
    "    'alt_avg',\n",
    "    'ast_avg',\n",
    "    'bicarb_avg',\n",
    "    'bun_avg',\n",
    "    'calcium_avg',\n",
    "    'chloride_avg',\n",
    "    'creatinine_avg',\n",
    "    'hemoglobin_avg',\n",
    "    'neutrophil_count_avg',\n",
    "    'platelet_avg',\n",
    "    'potassium_avg',\n",
    "    'sodium_avg',\n",
    "    'total_bilirubin_avg',\n",
    "    'wbc_avg',\n",
    "    'albumin_max',\n",
    "    'bicarb_max',\n",
    "    'bun_max',\n",
    "    'chloride_max',\n",
    "    'hemoglobin_max',\n",
    "    'neutrophil_count_max',\n",
    "    'platelet_max',\n",
    "    'potassium_max',\n",
    "    'sodium_max',\n",
    "    'alp_min',\n",
    "    'alt_min',\n",
    "    'ast_min',\n",
    "    'bun_min',\n",
    "    'calcium_min',\n",
    "    'chloride_min',\n",
    "    'creatinine_min',\n",
    "    'neutrophil_count_min',\n",
    "    'potassium_min',\n",
    "    'total_bilirubin_min',\n",
    "    'albumin_std',\n",
    "    'alp_std',\n",
    "    'alt_std',\n",
    "    'ast_std',\n",
    "    'bicarb_std',\n",
    "    'bun_std',\n",
    "    'calcium_std',\n",
    "    'chloride_std',\n",
    "    'creatinine_std',\n",
    "    'hemoglobin_std',\n",
    "    'neutrophil_count_std',\n",
    "    'platelet_std',\n",
    "    'potassium_std',\n",
    "    'sodium_std',\n",
    "    'total_bilirubin_std',\n",
    "    'wbc_std',\n",
    "    'albumin_slope',\n",
    "    'alp_slope',\n",
    "    'alt_slope',\n",
    "    'ast_slope',\n",
    "    'bicarb_slope',\n",
    "    'bun_slope',\n",
    "    'calcium_slope',\n",
    "    'chloride_slope',\n",
    "    'creatinine_slope',\n",
    "    'hemoglobin_slope',\n",
    "    'neutrophil_count_slope',\n",
    "    'platelet_slope',\n",
    "    'potassium_slope',\n",
    "    'sodium_slope',\n",
    "    'total_bilirubin_slope',\n",
    "    'wbc_slope',\n",
    "    'albumin_slope_na',\n",
    "    'alp_slope_na',\n",
    "    'alt_slope_na',\n",
    "    'ast_slope_na',\n",
    "    'bicarb_slope_na',\n",
    "    'bun_slope_na',\n",
    "    'calcium_slope_na',\n",
    "    'chloride_slope_na',\n",
    "    'creatinine_slope_na',\n",
    "    'hemoglobin_slope_na',\n",
    "    'neutrophil_count_slope_na',\n",
    "    'platelet_slope_na',\n",
    "    'potassium_slope_na',\n",
    "    'sodium_slope_na',\n",
    "    'total_bilirubin_slope_na',\n",
    "    'wbc_slope_na']"
   ]
  },
  {
   "cell_type": "code",
   "execution_count": 19,
   "id": "87dfc2a7",
   "metadata": {},
   "outputs": [
    {
     "data": {
      "text/plain": [
       "(68483, 205)"
      ]
     },
     "execution_count": 19,
     "metadata": {},
     "output_type": "execute_result"
    }
   ],
   "source": [
    "df.shape"
   ]
  },
  {
   "cell_type": "code",
   "execution_count": 20,
   "id": "e89c5f22",
   "metadata": {},
   "outputs": [],
   "source": [
    "df = df.drop(columns = drop_labs)"
   ]
  },
  {
   "cell_type": "code",
   "execution_count": 21,
   "id": "1763d0d1",
   "metadata": {},
   "outputs": [
    {
     "data": {
      "text/plain": [
       "(68483, 122)"
      ]
     },
     "execution_count": 21,
     "metadata": {},
     "output_type": "execute_result"
    }
   ],
   "source": [
    "df.shape"
   ]
  },
  {
   "cell_type": "code",
   "execution_count": 22,
   "id": "38fff1cd",
   "metadata": {},
   "outputs": [],
   "source": [
    "df.loc[:, 'alp_max_na'] = np.where(df['alp_max'].isna(), 1, 0)\n",
    "df.loc[:, 'alt_max_na'] = np.where(df['alt_max'].isna(), 1, 0)\n",
    "df.loc[:, 'ast_max_na'] = np.where(df['ast_max'].isna(), 1, 0)\n",
    "df.loc[:, 'calcium_max_na'] = np.where(df['calcium_max'].isna(), 1, 0)\n",
    "df.loc[:, 'creatinine_max_na'] = np.where(df['creatinine_max'].isna(), 1, 0)\n",
    "df.loc[:, 'total_bilirubin_max_na'] = np.where(df['total_bilirubin_max'].isna(), 1, 0)\n",
    "df.loc[:, 'wbc_max_na'] = np.where(df['wbc_max'].isna(), 1, 0)\n",
    "df.loc[:, 'albumin_min_na'] = np.where(df['albumin_min'].isna(), 1, 0)\n",
    "df.loc[:, 'bicarb_min_na'] = np.where(df['bicarb_min'].isna(), 1, 0)\n",
    "df.loc[:, 'hemoglobin_min_na'] = np.where(df['hemoglobin_min'].isna(), 1, 0)\n",
    "df.loc[:, 'platelet_min_na'] = np.where(df['platelet_min'].isna(), 1, 0)\n",
    "df.loc[:, 'sodium_min_na'] = np.where(df['sodium_min'].isna(), 1, 0)\n",
    "df.loc[:, 'wbc_min_na'] = np.where(df['wbc_min'].isna(), 1, 0)"
   ]
  },
  {
   "cell_type": "code",
   "execution_count": 23,
   "id": "6ed5ad05",
   "metadata": {},
   "outputs": [
    {
     "data": {
      "text/plain": [
       "(68483, 135)"
      ]
     },
     "execution_count": 23,
     "metadata": {},
     "output_type": "execute_result"
    }
   ],
   "source": [
    "df.shape"
   ]
  },
  {
   "cell_type": "markdown",
   "id": "3bcc93b2",
   "metadata": {},
   "source": [
    "### Separate into X and Y "
   ]
  },
  {
   "cell_type": "code",
   "execution_count": 24,
   "id": "374e94ed",
   "metadata": {},
   "outputs": [],
   "source": [
    "# 'X' datasets\n",
    "df_x = df.drop(columns = ['death_status', 'timerisk_activity']) #80% of data "
   ]
  },
  {
   "cell_type": "code",
   "execution_count": 25,
   "id": "53405cc6",
   "metadata": {},
   "outputs": [],
   "source": [
    "# 'Y' datasets\n",
    "# Death status and time until event needs to be stored as a structured array to be compatible with scikit-survival\n",
    "y_dtypes = df[['death_status', 'timerisk_activity']].dtypes\n",
    "\n",
    "df_y = np.array([tuple(x) for x in df[['death_status', 'timerisk_activity']].values],\n",
    "                dtype = list(zip(y_dtypes.index, y_dtypes)))"
   ]
  },
  {
   "cell_type": "markdown",
   "id": "da592b54",
   "metadata": {},
   "source": [
    "### Pipeline "
   ]
  },
  {
   "cell_type": "code",
   "execution_count": 26,
   "id": "19e110f2",
   "metadata": {},
   "outputs": [],
   "source": [
    "# List of numeric variables, excluding binary variables. \n",
    "numerical_features = [\n",
    "    'age',\n",
    "    'delta_adv_diagnosis',\n",
    "    'weight_diag',\n",
    "    'bmi_diag',\n",
    "    'weight_pct_change',\n",
    "    'weight_slope',\n",
    "    'albumin_diag',\n",
    "    'alp_diag',\n",
    "    'alt_diag',\n",
    "    'ast_diag',\n",
    "    'bicarb_diag',\n",
    "    'bun_diag',\n",
    "    'calcium_diag',\n",
    "    'chloride_diag',\n",
    "    'creatinine_diag',\n",
    "    'hemoglobin_diag',\n",
    "    'neutrophil_count_diag',\n",
    "    'platelet_diag',\n",
    "    'potassium_diag',\n",
    "    'sodium_diag',\n",
    "    'total_bilirubin_diag',\n",
    "    'wbc_diag',\n",
    "    'alp_max',\n",
    "    'alt_max',\n",
    "    'ast_max',\n",
    "    'calcium_max',\n",
    "    'creatinine_max',\n",
    "    'total_bilirubin_max',\n",
    "    'wbc_max',\n",
    "    'albumin_min',\n",
    "    'bicarb_min',\n",
    "    'hemoglobin_min',\n",
    "    'platelet_min',\n",
    "    'sodium_min',\n",
    "    'wbc_min',\n",
    "    'icd_count']\n",
    "\n",
    "# Transformer will impute column medians and then apply a standard scaler. \n",
    "numerical_transformer = Pipeline(steps = [\n",
    "    ('imputer', SimpleImputer(strategy = 'median')),\n",
    "    ('std_scaler', StandardScaler())])"
   ]
  },
  {
   "cell_type": "code",
   "execution_count": 27,
   "id": "b6f1bca4",
   "metadata": {},
   "outputs": [],
   "source": [
    "# List of categorical features.\n",
    "categorical_features = list(df_x.select_dtypes(include = ['category']).columns)\n",
    "\n",
    "# One-hot-encode categorical features.\n",
    "categorical_transformer = OneHotEncoder(handle_unknown = 'ignore')"
   ]
  },
  {
   "cell_type": "code",
   "execution_count": 28,
   "id": "b13cd654",
   "metadata": {},
   "outputs": [],
   "source": [
    "preprocessor = ColumnTransformer(\n",
    "    transformers = [\n",
    "        ('num', numerical_transformer, numerical_features),\n",
    "        ('cat', categorical_transformer, categorical_features)],\n",
    "    remainder = 'passthrough')"
   ]
  },
  {
   "cell_type": "markdown",
   "id": "0117e873",
   "metadata": {},
   "source": [
    "## 2. Gradient boosted model "
   ]
  },
  {
   "cell_type": "code",
   "execution_count": 29,
   "id": "27d25c5a",
   "metadata": {},
   "outputs": [],
   "source": [
    "from sklearn.pipeline import make_pipeline\n",
    "\n",
    "from sksurv.ensemble import GradientBoostingSurvivalAnalysis\n",
    "\n",
    "from joblib import dump, load "
   ]
  },
  {
   "cell_type": "code",
   "execution_count": 30,
   "id": "4938f130",
   "metadata": {},
   "outputs": [
    {
     "data": {
      "text/plain": [
       "(68483, 133)"
      ]
     },
     "execution_count": 30,
     "metadata": {},
     "output_type": "execute_result"
    }
   ],
   "source": [
    "df_x.shape"
   ]
  },
  {
   "cell_type": "code",
   "execution_count": 30,
   "id": "65e72753",
   "metadata": {},
   "outputs": [
    {
     "data": {
      "text/plain": [
       "(68483,)"
      ]
     },
     "execution_count": 31,
     "metadata": {},
     "output_type": "execute_result"
    }
   ],
   "source": [
    "df_y.shape"
   ]
  },
  {
   "cell_type": "code",
   "execution_count": 31,
   "id": "c6537517",
   "metadata": {},
   "outputs": [
    {
     "name": "stdout",
     "output_type": "stream",
     "text": [
      "      Iter       Train Loss      OOB Improve   Remaining Time \n",
      "         1      366565.6717          47.8134         1042.75m\n",
      "         2      367080.5085          45.9179         1036.95m\n",
      "         3      367103.9753          44.1083         1034.00m\n",
      "         4      366774.0141          41.1388         1032.40m\n",
      "         5      366684.9908          38.1312         1030.88m\n",
      "         6      366177.2551          36.2076         1029.55m\n",
      "         7      366926.7864          34.5375         1028.27m\n",
      "         8      366440.4940          32.3351         1027.00m\n",
      "         9      366173.5435          33.1226         1026.06m\n",
      "        10      365306.2828          30.6347         1025.02m\n",
      "        20      365349.6679          20.1921         1017.05m\n",
      "        30      365328.7948          15.7504         1009.20m\n",
      "        40      364634.9764          12.2010         1001.49m\n",
      "        50      364657.3110          11.0786          993.41m\n",
      "        60      362916.2055           8.1341          985.18m\n",
      "        70      363366.1240           7.1961          976.78m\n",
      "        80      363358.9404           6.9592          968.26m\n",
      "        90      362310.2323           5.7363          959.67m\n",
      "       100      362721.2045           5.0969          951.00m\n",
      "       200      360922.6883           2.2297          862.40m\n",
      "       300      360832.3680           0.5979          772.58m\n",
      "       400      360063.3155           0.5143          682.33m\n",
      "       500      358983.4847           0.2053          591.38m\n",
      "       600      359408.5876           0.2200          500.20m\n",
      "       700      358934.7024           0.8712          409.17m\n",
      "       800      359274.4313          -0.0046          318.22m\n",
      "       900      357827.9854          -0.1468          227.22m\n",
      "      1000      358405.1574           0.1096          136.27m\n"
     ]
    },
    {
     "data": {
      "text/plain": [
       "Pipeline(steps=[('columntransformer',\n",
       "                 ColumnTransformer(remainder='passthrough',\n",
       "                                   transformers=[('num',\n",
       "                                                  Pipeline(steps=[('imputer',\n",
       "                                                                   SimpleImputer(strategy='median')),\n",
       "                                                                  ('std_scaler',\n",
       "                                                                   StandardScaler())]),\n",
       "                                                  ['age', 'delta_adv_diagnosis',\n",
       "                                                   'weight_diag', 'bmi_diag',\n",
       "                                                   'weight_pct_change',\n",
       "                                                   'weight_slope',\n",
       "                                                   'albumin_diag', 'alp_diag',\n",
       "                                                   'alt_diag', 'ast_diag',\n",
       "                                                   'bicarb_diag', 'bun...\n",
       "                                                 ('cat',\n",
       "                                                  OneHotEncoder(handle_unknown='ignore'),\n",
       "                                                  ['PracticeType', 'gender',\n",
       "                                                   'Histology', 'SmokingStatus',\n",
       "                                                   'stage', 'adv_year', 'ALK',\n",
       "                                                   'BRAF', 'EGFR', 'KRAS',\n",
       "                                                   'ROS1', 'pdl1', 'pdl1_n',\n",
       "                                                   'ecog_diagnosis'])])),\n",
       "                ('gradientboostingsurvivalanalysis',\n",
       "                 GradientBoostingSurvivalAnalysis(learning_rate=0.05,\n",
       "                                                  max_depth=2,\n",
       "                                                  n_estimators=1150,\n",
       "                                                  random_state=42,\n",
       "                                                  subsample=0.75, verbose=1))])"
      ]
     },
     "execution_count": 31,
     "metadata": {},
     "output_type": "execute_result"
    }
   ],
   "source": [
    "gbm_final_lung = make_pipeline(preprocessor, GradientBoostingSurvivalAnalysis(n_estimators = 1150,\n",
    "                                                                              learning_rate = 0.05,\n",
    "                                                                              max_depth = 2,\n",
    "                                                                              subsample = 0.75,\n",
    "                                                                              verbose = 1,\n",
    "                                                                              random_state = 42))\n",
    "\n",
    "gbm_final_lung.fit(df_x, df_y)"
   ]
  },
  {
   "cell_type": "code",
   "execution_count": 32,
   "id": "1ce29df2",
   "metadata": {},
   "outputs": [
    {
     "data": {
      "text/plain": [
       "['gbm_final_lung.joblib']"
      ]
     },
     "execution_count": 32,
     "metadata": {},
     "output_type": "execute_result"
    }
   ],
   "source": [
    "dump(gbm_final_lung, 'gbm_final_lung.joblib') "
   ]
  }
 ],
 "metadata": {
  "kernelspec": {
   "display_name": "My Virtual Environment",
   "language": "python",
   "name": "myenv"
  },
  "language_info": {
   "codemirror_mode": {
    "name": "ipython",
    "version": 3
   },
   "file_extension": ".py",
   "mimetype": "text/x-python",
   "name": "python",
   "nbconvert_exporter": "python",
   "pygments_lexer": "ipython3",
   "version": "3.7.10"
  }
 },
 "nbformat": 4,
 "nbformat_minor": 5
}
